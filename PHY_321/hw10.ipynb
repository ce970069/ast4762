{
 "cells": [
  {
   "cell_type": "markdown",
   "id": "2f22117f",
   "metadata": {},
   "source": [
    "<!-- HTML file automatically generated from DocOnce source (https://github.com/doconce/doconce/)\n",
    "doconce format html hw10.do.txt --no_mako -->\n",
    "<!-- dom:TITLE: PHY321: Classical Mechanics 1 -->"
   ]
  },
  {
   "cell_type": "markdown",
   "id": "01c32dab",
   "metadata": {},
   "source": [
    "# PHY321: Classical Mechanics 1\n",
    "**Homework 10, due Monday May 2**\n",
    "\n",
    "Date: **Apr 24, 2022**"
   ]
  },
  {
   "cell_type": "markdown",
   "id": "16d8ca7b",
   "metadata": {},
   "source": [
    "### Exercise 1 (10pt), new reference frame (Taylor chapter 8)\n",
    "\n",
    "Show that if one transforms to a reference frame where the total\n",
    "momentum is zero, $\\boldsymbol{p}_1=-\\boldsymbol{p}_2$, that the relative momentum\n",
    "$\\boldsymbol{q}$ corresponds to either $\\boldsymbol{p}_1$ or $-\\boldsymbol{p}_2$. This\n",
    "means that in this frame the magnitude of $\\boldsymbol{q}$ is one half the\n",
    "magnitude of $\\boldsymbol{p}_1-\\boldsymbol{p}_2$."
   ]
  },
  {
   "cell_type": "markdown",
   "id": "327527f9",
   "metadata": {},
   "source": [
    "### Exercise 2 (10pt) Center of mass and relative coordinates (Taylor chapter 8)\n",
    "\n",
    "Given the center of mass and relative coordinates $\\boldsymbol{R}$ and $\\boldsymbol{r}$, respectively, for\n",
    "particles of mass $m_1$ and $m_2$, find the coordinates $\\boldsymbol{r}_1$\n",
    "and $\\boldsymbol{r}_2$ in terms of the masses, $\\boldsymbol{R}$ and $\\boldsymbol{r}$."
   ]
  },
  {
   "cell_type": "markdown",
   "id": "6e82b072",
   "metadata": {},
   "source": [
    "### Exercise 3 (30pt),  Two-body problems (Taylor chapter 8)\n",
    "\n",
    "Consider a particle of mass $m$ moving in a potential"
   ]
  },
  {
   "cell_type": "markdown",
   "id": "948f3825",
   "metadata": {},
   "source": [
    "$$\n",
    "V(r)=\\alpha\\ln(r/\\alpha),\n",
    "$$"
   ]
  },
  {
   "cell_type": "markdown",
   "id": "092e7942",
   "metadata": {},
   "source": [
    "where $\\alpha$ is a constant.\n",
    "\n",
    "* 3a (5pt)  If the particle is moving in a circular orbit of radius $R$, find the angular frequency $\\dot{\\theta}$. Solve this by setting $F=-m\\dot{\\theta}^2r$ (force and acceleration point inward).\n",
    "\n",
    "* 3b (5pt) Express the angular momentum $L$ in terms of the constant $\\alpha$, the mass $m$ and the radius $R$. Also express $R$ in terms of $L$, $\\alpha$ and $m$.\n",
    "\n",
    "* 3c (5pt) Sketch the effective radial potential, $V_{\\rm eff}(r)$, for a particle with angular momentum $L$. (No longer necessarily moving in a circular orbit.)\n",
    "\n",
    "* 3d (5pt)  Find the position of the minimum of $V_{\\rm eff}$ in terms of $L$, $\\alpha$ and $m$, then compare to the result of (3b).\n",
    "\n",
    "* 3e (5pt)  What is the effective spring constant for a particle at the minimum of $V_{\\rm eff}$? Express your answer in terms of $L$, $m$ and $\\alpha$. \n",
    "\n",
    "* 3f (5pt)  What is the angular frequency, $\\omega$, for small oscillations of $r$ about the $R_{\\rm min}$?  Express your answer in terms of $\\dot{\\theta}$ from part (3a)."
   ]
  },
  {
   "cell_type": "markdown",
   "id": "18fb03c5",
   "metadata": {},
   "source": [
    "### Exercise 4 (10pt), Lagrangian formalism (Taylor chapters 6-7)\n",
    "\n",
    "Consider a mass $m$ connected to a spring with spring constant $k$. Rather than being fixed, the other end of the spring oscillates with frequency $\\omega$ and amplitude $A$. For a generalized coordinate, use the displacement of the mass from its relaxed position and call it $y=x-\\ell-A\\cos\\omega t$. In this system the potential energy of the spring is $ky^2/2$.\n",
    "\n",
    "* 4a (5pt) Write the kinetic energy in terms of the generalized coordinate\n",
    "\n",
    "* 4b (5pt) Write down the Lagrangian and find the equations of motion for $y$"
   ]
  },
  {
   "cell_type": "markdown",
   "id": "e0713733",
   "metadata": {},
   "source": [
    "### Exercise 5 (30pt), Coupled Harmonic Oscillators  (Taylor chapters 6-7)\n",
    "\n",
    "The relevant chapters from Taylor are chapters 5-7 and the lectures notes on [harmonic oscillations](https://mhjensen.github.io/Physics321/doc/LectureNotes/_build/html/chapter5.html) and the [Lagrangian Formalism and Calculus of Variations](https://mhjensen.github.io/Physics321/doc/LectureNotes/_build/html/chapter8.html). \n",
    "\n",
    "Consider a mass $m$ that is connected to a wall by a spring with\n",
    "spring constant $k$. A second identical mass $m$ is connected to the\n",
    "first mass by an identical spring. Motion is confined to the $x$ direction only.\n",
    "\n",
    "* **5a (5pt):** Make a drawing of the system, set up forces and define variables $x_1$ and $x_2$ for the two masses.\n",
    "\n",
    "* **5b (5pt):** Write the Lagrangian in terms of the positions of the two masses $x_1$ and $x_2$.\n",
    "\n",
    "* **5c (5pt):** Use the Euler-Lagrange equations to find the analytical expressions for the  equations of motion.\n",
    "\n",
    "* **5d (10pt):** Find the analytical  solutions using a guess of  the type"
   ]
  },
  {
   "cell_type": "markdown",
   "id": "7332fe01",
   "metadata": {},
   "source": [
    "$$\n",
    "x_1=Ae^{i\\omega t},~~~x_2=Be^{i\\omega t}.\n",
    "$$"
   ]
  },
  {
   "cell_type": "markdown",
   "id": "bc3a2a6c",
   "metadata": {},
   "source": [
    "Solve for $A/B$ and $\\omega$. Express your answers in terms of $\\omega_0^2=k/m$."
   ]
  }
 ],
 "metadata": {
  "kernelspec": {
   "display_name": "Python 3 (ipykernel)",
   "language": "python",
   "name": "python3"
  },
  "language_info": {
   "codemirror_mode": {
    "name": "ipython",
    "version": 3
   },
   "file_extension": ".py",
   "mimetype": "text/x-python",
   "name": "python",
   "nbconvert_exporter": "python",
   "pygments_lexer": "ipython3",
   "version": "3.9.13"
  }
 },
 "nbformat": 4,
 "nbformat_minor": 5
}
