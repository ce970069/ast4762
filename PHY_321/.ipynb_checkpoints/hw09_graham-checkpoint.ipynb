{
 "cells": [
  {
   "cell_type": "markdown",
   "id": "9295bce2",
   "metadata": {},
   "source": [
    "<!-- HTML file automatically generated from DocOnce source (https://github.com/doconce/doconce/)\n",
    "doconce format html hw9.do.txt --no_mako -->\n",
    "<!-- dom:TITLE: PHY321: Classical Mechanics 1 -->"
   ]
  },
  {
   "cell_type": "markdown",
   "id": "1a41114f",
   "metadata": {},
   "source": [
    "# PHY321: Classical Mechanics 1\n",
    "**Homework 9, due Friday  April 28 (note changed deadline)**\n",
    "\n",
    "Name: **Cesarine Graham**\n",
    "\n",
    "Date: **Apr 20, 2022**"
   ]
  },
  {
   "cell_type": "markdown",
   "id": "6fecb6c8",
   "metadata": {},
   "source": [
    "### Exercise 1: Attractive Potential (10pt)\n",
    "\n",
    "Consider a particle in an attractive potential"
   ]
  },
  {
   "cell_type": "markdown",
   "id": "d0d223ef",
   "metadata": {},
   "source": [
    "$$\n",
    "V(r)=-\\alpha/r.\n",
    "$$"
   ]
  },
  {
   "cell_type": "markdown",
   "id": "efc533e2",
   "metadata": {},
   "source": [
    "The quantity $r$ is the absolute value of the relative position. We\n",
    "will use the reduced mass $\\mu$ and the angular momentum $L$, as\n",
    "discussed during the lectures. With the transformation of a two-body\n",
    "problem to the center-of-mass frame, the actual equations look like an\n",
    "*effective* one-body problem. The energy of the system is $E$ and the\n",
    "minimum of the effective potential is $r_{\\rm min}$.\n",
    "\n",
    "The analytical solution to the radial equation of motion is"
   ]
  },
  {
   "cell_type": "markdown",
   "id": "ecc5f76a",
   "metadata": {},
   "source": [
    "$$\n",
    "r(\\phi) = \\frac{1}{\\frac{\\mu\\alpha}{L^2}+A\\cos{(\\phi)}}.\n",
    "$$"
   ]
  },
  {
   "cell_type": "markdown",
   "id": "0a66d17d",
   "metadata": {},
   "source": [
    "Find the value of $A$. Hint: Use the fact that at $r_{\\rm min}$\n",
    "there is no radial kinetic energy and $E=-\\alpha/r_{\\rm min}+L^2/2mr_{\\rm min}^2$."
   ]
  },
  {
   "cell_type": "markdown",
   "id": "f0afe884",
   "metadata": {},
   "source": [
    "<span style=\"color:darkorchid\">\n",
    "\n",
    "$$\n",
    "E = U(r) + \\frac{1}{2} \\mu(\\ddot{r}^2 + (r\\ddot{\\phi})^2)\n",
    "\\\\\n",
    "E = \\frac{-\\alpha}{r_{\\min}} + \\frac{1}{2} \\mu\\left( \\frac{L}{\\mu r_{\\min}}\\right) ^2\n",
    "\\\\\n",
    "E r_{\\min}^2 - \\frac{1}{2}\\mu\\left( \\frac{L}{\\mu}\\right) ^2 + \\alpha r_{\\min} = 0\n",
    "\\\\\n",
    "r_{\\min}^2 + \\frac{\\alpha}{E} r_{\\min} - \\frac{L^2}{2E\\mu} = 0\n",
    "\\\\\n",
    "r_{\\min} = - \\frac{\\alpha}{2E} \\pm \\frac{1}{2} \\sqrt{\\frac{\\alpha^2}{E^2} + 2\\frac{L^2}{E\\mu}}\n",
    "$$\n",
    "    \n",
    "$$\n",
    "\\frac{1}{\\frac{\\mu\\alpha}{L^2}+A} = -\\frac{\\alpha}{2E} - \\frac{1}{2} \\sqrt{\\frac{\\alpha^2}{E^2} + 2\\frac{L^2}{E\\mu}}\n",
    "\\\\\n",
    "A = - \\frac{\\mu\\alpha}{L^2} - \\frac{2E}{\\alpha + \\sqrt{\\alpha^2 + 2\\frac{L^2E}{\\mu}}}\n",
    "$$"
   ]
  },
  {
   "cell_type": "markdown",
   "id": "198e670a",
   "metadata": {},
   "source": [
    "### Exercise 2 (20pt) Inverse-square force\n",
    "\n",
    "Consider again the same effective potential as in exercise 1. This leads to an attractive inverse-square-law force, $F=-\\alpha/r^2$. Consider a particle of mass $m$ with angular momentum $L$. Taylor sections 8.4-8.7 are relevant background material.  See also the harmonic oscillator potential from hw8. The equation of motion for the radial degrees of freedom is (see also hw8) in the center-of-mass frame in two dimensions with $x=r\\cos{(\\phi)}$ and $y=r\\sin{(\\phi)}$ and\n",
    "$r\\in [0,\\infty)$, $\\phi\\in [0,2\\pi]$ and $r=\\sqrt{x^2+y^2}$ are given by"
   ]
  },
  {
   "cell_type": "markdown",
   "id": "4c65ba39",
   "metadata": {},
   "source": [
    "$$\n",
    "\\ddot{r}=-\\frac{1}{m}\\frac{dV(r)}{dr}+r\\dot{\\phi}^2,\n",
    "$$"
   ]
  },
  {
   "cell_type": "markdown",
   "id": "0100625b",
   "metadata": {},
   "source": [
    "and"
   ]
  },
  {
   "cell_type": "markdown",
   "id": "74c1815f",
   "metadata": {},
   "source": [
    "$$\n",
    "\\dot{\\phi}=\\frac{L}{m r^2}.\n",
    "$$"
   ]
  },
  {
   "cell_type": "markdown",
   "id": "c0cd84d6",
   "metadata": {},
   "source": [
    "Here $V(r)$ is any central force which depends only on the relative coordinate.\n",
    "\n",
    "* 2a (5pt)  Find the radius of a circular orbit by solving for the position of the minimum of the effective potential. \n",
    "\n",
    "* 2b (5pt) At the minimum, the radial velocity is zero and it is only the [centripetal velocity](https://en.wikipedia.org/wiki/Centripetal_force) which is nonzero. This implies that $\\ddot{r}=0$.  What is the angular frequency, $\\dot{\\theta}$, of the orbit? Solve this by setting $\\ddot{r}=0=F/m+\\dot{\\theta}^2r$.\n",
    "\n",
    "* 2c (5pt) Find the effective spring constant for the particle at the minimum.\n",
    "\n",
    "* 2d (5pt) What is the angular frequency for small vibrations about the minimum? How does this compare with the answer to 2b?"
   ]
  },
  {
   "cell_type": "markdown",
   "id": "82fb75ea",
   "metadata": {},
   "source": [
    "<span style=\"color:darkorchid\">\n",
    "\n",
    "#### 2a \n",
    "\n",
    "$$\n",
    "\\begin{equation}\n",
    "\\frac{1}{m}\\frac{dV(r)}{dr}  = r\\dot{\\phi}^2\n",
    "\\frac{1}{m}\\left( -\\frac{-\\alpha}{r^2}\\right)   = r \\frac{L^2}{m^2r^4}\n",
    "\\frac{\\alpha}{mr^2}  = \\frac{L^2}{m^2r^3}\n",
    "r  = \\frac{L^2}{m\\alpha}\n",
    "\\end{equation}\n",
    "$$"
   ]
  },
  {
   "cell_type": "markdown",
   "id": "a1744d05",
   "metadata": {},
   "source": [
    "<span style=\"color:darkorchid\">\n",
    "\n",
    "#### 2b\n",
    "\n",
    "$$\n",
    "\\begin{equation}\n",
    "\\dot{\\theta}^2 r  = - \\frac{F}{m} = - \\frac{-\\frac{\\alpha}{r^2}}{m}\n",
    "\\end{equation}\n",
    "$$\n",
    "\n",
    "$$\n",
    "\\begin{equation}  \\dot{\\theta}^2  = \\frac{\\alpha}{mr^3}\n",
    "\\end{equation}\n",
    "$$\n",
    "\n",
    "$$\n",
    "\\begin{equation}  \\dot{\\theta}  = \\pm \\sqrt{\\frac{\\alpha}{mr^3}} = \\pm \\sqrt{\\frac{\\alpha}{m\\frac{L^6}{m^3\\alpha^3}}} = \\pm \\sqrt{\\frac{\\alpha^4m^2}{L^6}} = \\pm \\frac{\\alpha^2m}{L^3}\n",
    "\\end{equation}\n",
    "$$"
   ]
  },
  {
   "cell_type": "markdown",
   "id": "03f7ee3d",
   "metadata": {},
   "source": [
    "<span style=\"color:darkorchid\">\n",
    "\n",
    "#### 2c\n",
    "    \n",
    "$$\n",
    "\\begin{equation}\n",
    "k  = \\frac{d^2V_{\\text{eff}}}{dr^2} = \\frac{d^2\\left( -\\frac{\\alpha}{r} + \\frac{1}{2} \\frac{L^2}{mr^2}\\right) }{dr^2} = -\\frac{2\\alpha}{r^3} + \\frac{3L^2}{mr^4} = -\\frac{2\\alpha}{\\frac{L^6}{m^3\\alpha^3}} + \\frac{3L^2}{m\\frac{L^8}{m^4\\alpha^4}} = -\\frac{2m^3\\alpha^4}{L^6} + \\frac{3m^3\\alpha^4}{L^6} = \\frac{m^3\\alpha^4}{L^6} \\\\\n",
    "\\therefore k = \\frac{m^3\\alpha^4}{L^6}\n",
    "\\end{equation}\n",
    "$$"
   ]
  },
  {
   "cell_type": "markdown",
   "id": "ae494c73",
   "metadata": {},
   "source": [
    "<span style=\"color:darkorchid\">\n",
    "\n",
    "#### 2d\n",
    "    \n",
    "$$\n",
    "m\\frac{d^2\\left(  \\delta r \\right) }{dt^2} = -k \\delta r\n",
    "$$\n",
    "    \n",
    "$$\n",
    "\\delta r = A \\cos(\\omega t + \\phi)\n",
    "$$\n",
    "    \n",
    "$$\n",
    "\\begin{equation}\n",
    "\\omega =  \\sqrt{\\frac{k}{m}}\n",
    "  = \\sqrt{\\frac{m^2\\alpha^4}{L^6}} \n",
    " = \\frac{m\\alpha^2}{L^3}\n",
    "\\end{equation}\n",
    "$$\n",
    "    \n",
    "Essentially, the formula for $\\dot{\\theta}$ is the same as this. This indicates that minor disturbances move back and forth in harmony with the path, forming a slightly elongated ellipse."
   ]
  },
  {
   "cell_type": "markdown",
   "id": "8296a78f",
   "metadata": {},
   "source": [
    "### Exercise 3, Inverse-square force again (10pt)\n",
    "\n",
    "Consider again a  particle of mass $m$ in the same attractive potential, $V(r)=-\\alpha/r$, with angular momentum $L$ with just the right energy so that"
   ]
  },
  {
   "cell_type": "markdown",
   "id": "e5d9bc3a",
   "metadata": {},
   "source": [
    "$$\n",
    "A=m\\alpha/L^2\n",
    "$$"
   ]
  },
  {
   "cell_type": "markdown",
   "id": "01f657b2",
   "metadata": {},
   "source": [
    "where $A$ comes from the expression"
   ]
  },
  {
   "cell_type": "markdown",
   "id": "debb4481",
   "metadata": {},
   "source": [
    "$$\n",
    "r=\\frac{1}{(m\\alpha/L^2)+A\\cos{(\\phi)}}.\n",
    "$$"
   ]
  },
  {
   "cell_type": "markdown",
   "id": "b28d6689",
   "metadata": {},
   "source": [
    "The trajectory can then be rewritten as"
   ]
  },
  {
   "cell_type": "markdown",
   "id": "129b083f",
   "metadata": {},
   "source": [
    "$$\n",
    "r=\\frac{2r_0}{1+\\cos\\theta},~~~r_0=\\frac{L^2}{2m\\alpha}.\n",
    "$$"
   ]
  },
  {
   "cell_type": "markdown",
   "id": "3512e1b0",
   "metadata": {},
   "source": [
    "* 3a (5pt) Show that for this case the total energy $E$ approaches zero.\n",
    "\n",
    "* 3b (5pt) With zero energy $E=0$, write this trajectory in a more recognizable parabolic form, that is express $x_0$ and $R$ in terms of $r_0$ using"
   ]
  },
  {
   "cell_type": "markdown",
   "id": "ad5018dd",
   "metadata": {},
   "source": [
    "$$\n",
    "x=x_0-\\frac{y^2}{R}.\n",
    "$$"
   ]
  },
  {
   "cell_type": "markdown",
   "id": "a84e1512",
   "metadata": {},
   "source": [
    "<span style=\"color:darkorchid\">\n",
    "\n",
    "#### 3a\n",
    "    \n",
    "\\begin{align*}\n",
    "E  &= - \\frac{\\alpha}{r} + \\frac{1}{2} m \\left(  (\\dot{\\theta}r)^2+\\dot{r}^2\\right)  \\\\\n",
    "&= = - \\frac{\\alpha}{r} + \\frac{1}{2} m \\left[  \\left( \\frac{L}{mr^2}r\\right) ^2+\\left( \\frac{dr}{d\\theta}\\dot{\\theta}\\right) ^2\\right] \\\\\n",
    "&= - \\frac{\\alpha}{2r_0}(1+\\cos\\theta) + \\frac{1}{2} m \\left[  \\left( \\frac{L(1+\\cos\\theta)}{2mr_0}\\right) ^2+\\left(2r_0\\frac{-1}{(1+\\cos\\theta)^2}(-\\sin\\theta)\\frac{L}{mr^2}\\right) ^2\\right]  \\\\\n",
    "&= - \\frac{\\alpha}{2r_0}(1+\\cos\\theta) + \\frac{1}{2} m \\left[  \\left( \\frac{L(1+\\cos\\theta)}{2mr_0}\\right) ^2+\\left( 2r_0\\frac{-1}{(1+\\cos\\theta)^2}(-\\sin\\theta)\\frac{L(1+\\cos\\theta)^2}{4mr_0^2}\\right) ^2\\right] \\\\\n",
    "&= - \\frac{\\alpha}{2r_0}(1+\\cos\\theta) + \n",
    "\\frac{1}{2} m \\left[  \\left( \\frac{L(1+\\cos\\theta)}{2mr_0}\\right) ^2+\\left( \\sin\\theta\\frac{L}{2mr_0}\\right) ^2\\right] \\\\\n",
    "&= - \\frac{\\alpha}{2r_0}(1+\\cos\\theta) + \n",
    "\\frac{1}{2} m \\left[  \\left( \\frac{L(1+\\cos\\theta)}{2mr_0}\\right) ^2+\\left( \\sin\\theta\\frac{L}{2mr_0}\\right) ^2\\right] \\\\\n",
    "&= - \\frac{\\alpha}{2r_0}(1+\\cos\\theta) + \n",
    "\\frac{1}{2} m \\frac{L^2}{4m^2r_0^2} \\left[  \\left( 1+\\cos\\theta\\right) ^2+\\left( \\sin\\theta\\right) ^2\\right] \\\\\n",
    "&= - \\frac{\\alpha}{2r_0}(1+\\cos\\theta) + \n",
    "\\frac{1}{2} \\frac{L^2}{4mr_0^2} \\left(  1 + \\cos^2\\theta + 2\\cos \\theta + \\sin^2\\theta\\right) \\\\\n",
    "&= - \\frac{\\alpha}{2r_0}(1+\\cos\\theta) + \\frac{1}{2} \\frac{L^2}{4mr_0^2} \\left(  2 + 2\\cos \\theta \\right) \\\\\n",
    "&= (1+\\cos\\theta) \\left( - \\frac{\\alpha}{2r_0} + \\frac{L^2}{4mr_0^2}\\right) \\\\\n",
    "&= (1+\\cos\\theta) \\left( - \\frac{\\alpha}{2\\frac{L^2}{2m\\alpha}} + \\frac{L^2}{4m\\frac{L^4}{4m^2\\alpha^2}}\\right) \\\\\n",
    "&= (1+\\cos\\theta) \\left( - \\frac{m\\alpha^2}{L^2} + \\frac{m\\alpha^2}{L^2}\\right) \\\\\n",
    "&= 0\n",
    "\\end{align*}"
   ]
  },
  {
   "cell_type": "markdown",
   "id": "2b104d55",
   "metadata": {},
   "source": [
    "<span style=\"color:darkorchid\">\n",
    "\n",
    "#### 3b\n",
    "  \n",
    "We have that $x  = r \\cos\\theta$ and $y  = r \\sin \\theta$. Using the general solution with eccintricity $\\epsilon=1$, we have\n",
    "$$\n",
    "r(\\theta)=\\frac{c}{1+\\cos\\theta}\n",
    "$$\n",
    "and multiplying both sides with $1+\\cos\\theta$ and using that $x=r\\cos\\theta$,\n",
    "$$\n",
    "r = c -x,\n",
    "$$\n",
    "and using that $r^2=x^2+y^2$, we square both sides:\n",
    "$$\n",
    "r^2 = x^2+y^2=c^2 +x^2-2cx,\n",
    "$$\n",
    "$$\n",
    "y^2=c^2-2cx,\n",
    "$$\n",
    "and using that we defined\n",
    "$$\n",
    "c=2r_0=\\frac{L^2}{m\\alpha},\n",
    "$$\n",
    "we divide by $2c$ and we get the final answer    \n",
    "$$\n",
    "x = r_0 - \\frac{y^2}{4r_0}\n",
    "$$"
   ]
  },
  {
   "cell_type": "markdown",
   "id": "822cd8ec",
   "metadata": {},
   "source": [
    "### Exercise 4, parabolic and hyperbolic orbits (10pt)\n",
    "\n",
    "The solution to the radial function for an inverse-square-law force, see for example Taylor equation (8.59) or the equation above, is"
   ]
  },
  {
   "cell_type": "markdown",
   "id": "2ab3bd74",
   "metadata": {},
   "source": [
    "$$\n",
    "r(\\phi) = \\frac{c}{1+\\epsilon\\cos{(\\phi)}}.\n",
    "$$"
   ]
  },
  {
   "cell_type": "markdown",
   "id": "2d539b3d",
   "metadata": {},
   "source": [
    "For $\\epsilon=1$ (or the energy $E=0$) the orbit reduces to a parabola as we saw in the previous exercise,\n",
    "while for $\\epsilon > 1$ (or energy positive) the orbit becomes a hyperbola. The equation for a hyperbola in Cartesian coordinates is"
   ]
  },
  {
   "cell_type": "markdown",
   "id": "10f01827",
   "metadata": {},
   "source": [
    "$$\n",
    "\\frac{(x-\\delta)^2}{\\alpha^2}-\\frac{y^2}{\\beta^2}=1.\n",
    "$$"
   ]
  },
  {
   "cell_type": "markdown",
   "id": "75b05a79",
   "metadata": {},
   "source": [
    "For a hyperbola, identify the constants $\\alpha$, $\\beta$ and $\\delta$ in terms of the constants $c$ and $\\epsilon$ for $r(\\phi)$."
   ]
  },
  {
   "cell_type": "markdown",
   "id": "576d0b6a",
   "metadata": {},
   "source": [
    "<span style=\"color:darkorchid\">\n",
    "\n",
    "\\begin{align*}\n",
    "x  &= r\\cos\\phi = \\frac{c\\cos\\phi}{1+\\epsilon\\cos\\phi} \\\\\n",
    "y  &= r\\sin\\phi = \\frac{c\\sin\\phi}{1+\\epsilon\\cos\\phi}\n",
    "\\end{align*}\n",
    "    \n",
    "Here $\\epsilon>1$.  We use our equation for $r$, multiply with the denominator $1+\\epsilon\\cos\\phi$ on both sides and have:\n",
    "$$\n",
    "r(1+\\epsilon\\cos\\phi)=c,\n",
    "$$\n",
    "Using $x=r\\cos\\phi$ and $r^2=x^2+y^2$ and we have:\n",
    "$$\n",
    "r^2=x^2+y^2=c^2+\\epsilon^2x^2-2cx\\epsilon,\n",
    "$$\n",
    "$$\n",
    "x^2(\\epsilon^2-1)-y^2-2cx\\epsilon= -c^2.\n",
    "$$\n",
    "Completing the square:\n",
    "$$\n",
    "(\\epsilon^2-1)(x-\\delta)^2-y^2= -c^2+\\frac{\\epsilon^2c^2}{\\epsilon^2-1}.\n",
    "$$\n",
    "And since $\\delta = \\frac{c\\epsilon}{\\epsilon^2-1}$, $\\alpha = \\frac{c}{\\epsilon^2-1}$, and $\\beta = \\frac{c}{\\sqrt{\\epsilon^2-1}}$, we can rewrite the above equation as:\n",
    "$$\n",
    "\\frac{(x-\\delta)^2}{\\alpha^2}-\\frac{y^2}{\\beta^2}=1,\n",
    "$$\n",
    "which is the equation for a hyperbola."
   ]
  },
  {
   "cell_type": "markdown",
   "id": "833f6c94",
   "metadata": {},
   "source": [
    "### Exercise 5 (40pt), Pendulum and Lagrangians (Taylor chapters 6-7)\n",
    "\n",
    "A mathematical pendulum consists of a point mass $m$ suspended by a massless thread/rod of length $l$ in a gravitational field, as shown in the figure here. The constraining force is labeled by $\\boldsymbol{T}$\n",
    "and the gravitational force is labeled $\\boldsymbol{F}_g$.\n",
    "\n",
    "<!-- dom:FIGURE: [figures/Simplependulum.png, width=600 frac=0.6]  -->\n",
    "<!-- begin figure -->\n",
    "\n",
    "<img src=\"figures/Simplependulum.png\" width=\"600\"><p style=\"font-size: 0.9em\"><i>Figure 1: </i></p>\n",
    "<!-- end figure -->\n",
    "\n",
    "We assume that the length $l$ is constant and we define the coordinates involved as"
   ]
  },
  {
   "cell_type": "markdown",
   "id": "9b4ad948",
   "metadata": {},
   "source": [
    "$$\n",
    "\\boldsymbol{r} = l\\sin(\\phi)\\boldsymbol{\\hat{x}}+l\\cos(\\phi)\\boldsymbol{\\hat{y}},\n",
    "$$"
   ]
  },
  {
   "cell_type": "markdown",
   "id": "f83514b4",
   "metadata": {},
   "source": [
    "where $\\boldsymbol{\\hat{x}}$ and $\\boldsymbol{\\hat{y}}$ are the unit vectors in the $x$ and $y$ directions, respectively.\n",
    "\n",
    "* **5a (10pt):** Set up the forces acting on the system and show that the equation of motion is $m\\ddot{\\boldsymbol{r}}=\\boldsymbol{F}_g+\\boldsymbol{T}$.\n",
    "\n",
    "* **5b (10pt):** Show that you can rewrite the above equation of motion as two independent equations of motion, one for $\\phi$ and one for the constraining force. Show that these equations are $\\ddot{\\phi}(t)=-\\omega_0^2\\sin{(\\phi(t))}$ with $\\omega_0^2=g/l$ and $T=ml\\dot{\\phi}^2+mg\\cos{(\\phi)}$.\n",
    "\n",
    "The equation for $\\phi$ is a second-order differential equation"
   ]
  },
  {
   "cell_type": "markdown",
   "id": "df02c7b4",
   "metadata": {},
   "source": [
    "$$\n",
    "\\ddot{\\phi}(t)=-\\omega_0^2\\sin{(\\phi(t))}.\n",
    "$$"
   ]
  },
  {
   "cell_type": "markdown",
   "id": "a398c04a",
   "metadata": {},
   "source": [
    "This equation can be solved analytically if we assume that the angle $\\phi$ is very small. Then we can approximate our equation as"
   ]
  },
  {
   "cell_type": "markdown",
   "id": "a1c100d9",
   "metadata": {},
   "source": [
    "$$\n",
    "\\ddot{\\phi}(t)=-\\omega_0^2\\phi(t).\n",
    "$$"
   ]
  },
  {
   "cell_type": "markdown",
   "id": "686da2eb",
   "metadata": {},
   "source": [
    "* **5c (5pt):** Find the analytical solution for the last equation. Hint, look back at the solutions for the simple harmonic oscillator problem in one dimension in for example homework 8.\n",
    "\n",
    "* **5d (5pt):** Find the expressions for the kinetic and potential energies in terms of the variables $r$ and $\\phi$. \n",
    "\n",
    "* **5e (10pt):** With the potential $V$  and kinetic $T$ energies, define the Lagrangian for the mathematical pendulum discussed here. Add the constraint $r=l$ via a Lagrange multiplier $\\lambda$ and derive the equations of motion. Show that these result in  $\\ddot{\\phi}(t)=-\\omega_0^2\\sin{(\\phi(t))}$ with $\\omega_0^2=g/l$ and $\\lambda=ml\\dot{\\phi}^2+mg\\cos{(\\phi)}$.  How would you interpret $\\lambda$?"
   ]
  },
  {
   "cell_type": "markdown",
   "id": "7efc6cea",
   "metadata": {},
   "source": [
    "<span style=\"color:darkorchid\">\n",
    "\n",
    "#### 5a\n",
    "    \n",
    "$$\n",
    "\\boldsymbol{F}^{\\mathrm{net}}=\\boldsymbol{T}+\\boldsymbol{G}=T\\sin{(\\phi)}\\boldsymbol{i}+T\\cos{(\\phi)}\\boldsymbol{j}-mg\\boldsymbol{j},\n",
    "$$\n",
    "and with\n",
    "$$\n",
    "\\boldsymbol{r}=l\\sin{(\\phi)}\\boldsymbol{i}+l\\cos{(\\phi)}\\boldsymbol{j},\n",
    "$$\n",
    "the equation of motion becomes:\n",
    "$$\n",
    "m\\frac{d^2\\boldsymbol{r}}{dt^2}=\\boldsymbol{T}+\\boldsymbol{G}=T\\sin{(\\phi)}\\boldsymbol{i}+T\\cos{(\\phi)}\\boldsymbol{j}-mg\\boldsymbol{j}.\n",
    "$$"
   ]
  },
  {
   "cell_type": "markdown",
   "id": "ba3797da",
   "metadata": {},
   "source": [
    "<span style=\"color:darkorchid\">\n",
    "\n",
    "#### 5b\n",
    "    \n",
    "$$\n",
    "\\frac{d\\boldsymbol{r}}{dt}=l\\frac{d\\phi}{dt}\\cos{(\\phi)}\\boldsymbol{i}-l\\frac{d\\phi}{dt}\\sin{(\\phi)}\\boldsymbol{j},\n",
    "$$\n",
    "$$\n",
    "x'': \\frac{d^2\\boldsymbol{r}}{dt^2}\\boldsymbol{i}=l\\frac{d^2\\phi}{dt^2}\\cos{(\\phi)}-l(\\frac{d\\phi}{dt})^2\\sin{(\\phi)},\n",
    "$$\n",
    "$$\n",
    "y'': \\frac{d^2\\boldsymbol{r}}{dt^2}\\boldsymbol{e}_2=-l\\frac{d^2\\phi}{dt^2}\\sin{(\\phi)}-l(\\frac{d\\phi}{dt})^2\\cos{(\\phi)}.\n",
    "$$\n",
    "We can now set up the equations of motion in the $x$ and $y$ directions:\n",
    "$$\n",
    "x: ml\\frac{d^2\\phi}{dt^2}\\cos{(\\phi)}-ml(\\frac{d\\phi}{dt})^2\\sin{(\\phi)}=T\\sin{(\\phi)},\n",
    "$$\n",
    "$$\n",
    "y: -ml\\frac{d^2\\phi}{dt^2}\\sin{(\\phi)}-ml(\\frac{d\\phi}{dt})^2\\cos{(\\phi)}=T\\cos{(\\phi)}-mg.\n",
    "$$\n",
    "or,\n",
    "$$\n",
    "ml\\frac{d^2\\phi}{dt^2}\\cos{(\\phi)}=\\left[ml(\\frac{d\\phi}{dt})^2+T\\right]\\sin{(\\phi)},\n",
    "$$\n",
    "$$\n",
    "-ml\\frac{d^2\\phi}{dt^2}\\sin{(\\phi)}+mg=\\left[ml(\\frac{d\\phi}{dt})^2+T\\cos{(\\phi)}\\right].\n",
    "$$\n",
    "Rewriting these equations: \n",
    "$$\n",
    "ml\\frac{d^2\\phi}{dt^2}\\cos{(\\phi)}=\\left[ml(\\frac{d\\phi}{dt})^2+T\\right]\\sin{(\\phi)},\n",
    "$$\n",
    "$$\n",
    "-ml\\frac{d^2\\phi}{dt^2}\\sin{(\\phi)}+mg=\\left[ml(\\frac{d\\phi}{dt})^2+T\\right]\\cos{(\\phi)}.\n",
    "$$\n",
    "We multiply the first equation with $\\cos\\phi$ and the second one with $\\sin\\phi$ and then subtract the two equations.\n",
    "We then get:\n",
    "$$\n",
    "-ml\\frac{d^2\\phi}{dt^2}(\\cos{(\\phi)})^2-ml\\frac{d^2\\phi}{dt^2}(\\sin{(\\phi)})^2+mg\\sin{(\\phi)}=0,\n",
    "$$\n",
    "$$\n",
    "ml\\frac{d^2\\phi}{dt^2}=-mg\\sin{(\\phi)}.\n",
    "$$\n",
    "$$\n",
    "\\frac{d^2\\phi}{dt^2}=-\\frac{g}{l}\\sin{(\\phi)}.\n",
    "$$\n",
    "Introducing the natural frequency $\\omega_0^2=g/l$ we can rewrite the equation as:\n",
    "$$\n",
    "\\frac{d^2\\phi}{dt^2}=-\\omega_0^2\\sin{(\\phi)}.\n",
    "$$\n",
    "The equation for $\\phi$ is a second-order differential equation\n",
    "$$\n",
    "\\ddot{\\phi}(t)=-\\omega_0^2\\sin{(\\phi(t))}.\n",
    "$$\n",
    "This equation can be solved analytically if we assume that the angle $\\phi$ is very small. Then we can approximate our equation as:\n",
    "$$\n",
    "\\ddot{\\phi}(t)=-\\omega_0^2\\phi(t).\n",
    "$$"
   ]
  },
  {
   "cell_type": "markdown",
   "id": "b5187d15",
   "metadata": {},
   "source": [
    "<span style=\"color:darkorchid\">\n",
    "\n",
    "#### 5c\n",
    "    \n",
    "If we now assume that the angle is very small, we can approximate $\\sin{(\\phi)}\\approx \\phi$ and we have essentially the same equation as we had for harmonic oscillations, that is\n",
    "$$\n",
    "\\frac{d^2\\phi}{dt^2}=-\\omega_0^2\\phi.\n",
    "$$\n",
    "The solution to this equation is again given by\n",
    "$$\n",
    "\\phi(t) = A\\cos{(\\omega_0 t)}+B\\sin{(\\omega_0 t)}.\n",
    "$$"
   ]
  },
  {
   "cell_type": "markdown",
   "id": "9ebcaa27",
   "metadata": {},
   "source": [
    "<span style=\"color:darkorchid\">\n",
    "\n",
    "#### 5d\n",
    "    \n",
    "The kinetic energy of the pendulum can be expressed as:\n",
    "$$\n",
    "K=\\frac{1}{2}m\\boldsymbol{v}^2,\n",
    "$$\n",
    "where $\\boldsymbol{v}$ is the velocity of the mass $m$.\n",
    "\n",
    "In order to find $\\boldsymbol{v}$, we can start by taking the time derivative of $\\boldsymbol{r}$:\n",
    "$$\n",
    "\\boldsymbol{v} = \\frac{d\\boldsymbol{r}}{dt} = l\\cos(\\phi)\\frac{d\\phi}{dt}\\boldsymbol{\\hat{x}} - l\\sin(\\phi)\\frac{d\\phi}{dt}\\boldsymbol{\\hat{y}}.\n",
    "$$\n",
    "We can then obtain the magnitude of $\\boldsymbol{v}$ as:\n",
    "$$\n",
    "|\\boldsymbol{v}| = \\sqrt{(l\\cos(\\phi)\\frac{d\\phi}{dt})^2 + (l\\sin(\\phi)\\frac{d\\phi}{dt})^2} = l\\frac{d\\phi}{dt}\\sqrt{\\cos^2(\\phi)+\\sin^2(\\phi)} = l\\frac{d\\phi}{dt}.\n",
    "$$\n",
    "Therefore, the kinetic energy can be expressed as:\n",
    "$$\n",
    "K=\\frac{1}{2}m l^2\\left(\\frac{d\\phi}{dt}\\right)^2.\n",
    "$$\n",
    "\n",
    "The potential energy of the pendulum is given by:\n",
    "$$\n",
    "U = mgh,\n",
    "$$\n",
    "where $h$ is the height of the mass $m$ above some reference level and $g$ is the acceleration due to gravity. In this case, we can take the reference level to be the point where the thread/rod is attached. The height of the mass $m$ is given by $h=l-l\\cos(\\phi)=l(1-\\cos(\\phi))$. Therefore, the potential energy can be expressed as:\n",
    "$$\n",
    "U=mgl(1-\\cos(\\phi)).\n",
    "$$\n",
    "\n",
    "So the total energy of the pendulum can be expressed as:\n",
    "$$\n",
    "E = K + U = \\frac{1}{2}m l^2\\left(\\frac{d\\phi}{dt}\\right)^2 + mgl(1-\\cos(\\phi)).\n",
    "$$\n"
   ]
  },
  {
   "cell_type": "markdown",
   "id": "0353b7d1",
   "metadata": {},
   "source": [
    "<span style=\"color:darkorchid\">\n",
    "\n",
    "#### 5e\n",
    "    \n",
    "The Lagrangian for the mathematical pendulum is given by:\n",
    "\n",
    "$$L=T-V=\\frac{1}{2}m(\\dot{r}^2+r^2\\dot{\\theta}^2)-mg(l-r\\cos{\\theta})$$\n",
    "\n",
    "To incorporate the constraint $r=l$, we add a Lagrange multiplier $\\lambda$ and modify the Lagrangian as follows:\n",
    "\n",
    "$$L=T-V+\\lambda(r-l)=\\frac{1}{2}m(\\dot{r}^2+r^2\\dot{\\theta}^2)-mg(l-r\\cos{\\theta})+\\lambda(l-r)$$\n",
    "\n",
    "The equations of motion can be obtained by using the Euler-Lagrange equations:\n",
    "\n",
    "$$\\frac{d}{dt}\\left(\\frac{\\partial L}{\\partial \\dot{\\theta}}\\right)-\\frac{\\partial L}{\\partial \\theta}=0 \\quad \\text{and} \\quad \\frac{d}{dt}\\left(\\frac{\\partial L}{\\partial \\dot{r}}\\right)-\\frac{\\partial L}{\\partial r}=0$$\n",
    "\n",
    "The first equation gives us:\n",
    "\n",
    "$$\\frac{d}{dt}\\left(mr^2\\dot{\\theta}\\right)+mg r\\sin{\\theta}=\\lambda$$\n",
    "\n",
    "The second equation gives us:\n",
    "\n",
    "$$m\\ddot{r}-mr\\dot{\\theta}^2+mg\\cos{\\theta}=\\lambda$$\n",
    "\n",
    "Using the constraint $r=l$, we have $\\dot{r}=0$ and $\\ddot{r}=0$. Therefore, the second equation reduces to:\n",
    "\n",
    "$$mg\\cos{\\theta}=\\lambda$$\n",
    "\n",
    "Substituting this into the first equation, we get:\n",
    "\n",
    "$$\\frac{d}{dt}\\left(mr^2\\dot{\\theta}\\right)+mg r\\sin{\\theta}=mg\\cos{\\theta}$$\n",
    "\n",
    "Simplifying this expression using the constraint $r=l$, we get:\n",
    "\n",
    "$$\\frac{d}{dt}\\left(ml^2\\dot{\\theta}\\right)+mg\\sin{\\theta}=0$$\n",
    "\n",
    "Dividing both sides by $ml^2$ and using $\\omega_0^2=g/l$, we get:\n",
    "\n",
    "$$\\ddot{\\theta}+\\omega_0^2\\sin{\\theta}=0$$\n",
    "\n",
    "This is the equation of motion for the mathematical pendulum, which is equivalent to $\\ddot{\\phi}(t)=-\\omega_0^2\\sin{(\\phi(t))}$ by setting $\\phi = \\theta + \\pi/2$.\n",
    "\n",
    "The Lagrange multiplier $\\lambda$ can be interpreted as the tension in the string that connects the pendulum to the fixed point. It represents the force required to keep the pendulum at a fixed distance $l$ from the fixed point."
   ]
  }
 ],
 "metadata": {
  "kernelspec": {
   "display_name": "Python 3 (ipykernel)",
   "language": "python",
   "name": "python3"
  },
  "language_info": {
   "codemirror_mode": {
    "name": "ipython",
    "version": 3
   },
   "file_extension": ".py",
   "mimetype": "text/x-python",
   "name": "python",
   "nbconvert_exporter": "python",
   "pygments_lexer": "ipython3",
   "version": "3.9.13"
  }
 },
 "nbformat": 4,
 "nbformat_minor": 5
}
