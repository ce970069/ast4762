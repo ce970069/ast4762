{
 "cells": [
  {
   "cell_type": "code",
   "execution_count": 9,
   "id": "2948dad0-a759-4e6e-8eee-c0b0f1f703b3",
   "metadata": {},
   "outputs": [
    {
     "name": "stdout",
     "output_type": "stream",
     "text": [
      "3.5714285714285716\n",
      "3.0\n",
      "6.816326530612246\n",
      "2.610809554642438\n"
     ]
    }
   ],
   "source": [
    "import numpy as np\n",
    "data_set = np.array([1, 5, 2, 1, 3, 4, 9])\n",
    "print(np.mean(data_set))\n",
    "print(np.median(data_set))\n",
    "print(np.var(data_set))\n",
    "print(np.std(data_set))"
   ]
  },
  {
   "cell_type": "code",
   "execution_count": 16,
   "id": "5a026866-87c4-464b-b056-2111f0adeef1",
   "metadata": {},
   "outputs": [
    {
     "name": "stdout",
     "output_type": "stream",
     "text": [
      " = 52.22 ± 0.33\n"
     ]
    }
   ],
   "source": [
    "x, dx = 5.1, 0.4\n",
    "y, dy = 3.2, 0.1\n",
    "\n",
    "z = x * y * y\n",
    "dz = np.sqrt((y * dx)**2 * (x * dy)**2 * (x * dy)**2)\n",
    "print(\" = {:.2f} ± {:.2f}\".format(z, dz))"
   ]
  },
  {
   "cell_type": "code",
   "execution_count": 20,
   "id": "ef43982a-2e93-4f1a-adc6-dfc5623c6d43",
   "metadata": {},
   "outputs": [
    {
     "name": "stdout",
     "output_type": "stream",
     "text": [
      " = -2.88 ± 1.56\n"
     ]
    }
   ],
   "source": [
    "v, dv = 4.36, 0.12\n",
    "x, dx = 3.1, 0.3\n",
    "y, dy = 2.1, 0.1\n",
    "\n",
    "z = x / y - v\n",
    "dz = np.sqrt((y * dx)**2 /  (x * dy)**2 - (v * dx)**2)\n",
    "print(\" = {:.2f} ± {:.2f}\".format(z, dz))"
   ]
  },
  {
   "cell_type": "code",
   "execution_count": 21,
   "id": "f577d1a3-691b-4edf-a90b-17f2cd4fae8c",
   "metadata": {},
   "outputs": [
    {
     "name": "stdout",
     "output_type": "stream",
     "text": [
      " = 0.38 ± 0.04\n"
     ]
    }
   ],
   "source": [
    "x, dx = 1.2, 1.2\n",
    "y, dy = 0.32, 0.01\n",
    "\n",
    "z = x * y\n",
    "dz = np.sqrt((y * dx)**2 * (x * dy))\n",
    "print(\" = {:.2f} ± {:.2f}\".format(z, dz))"
   ]
  },
  {
   "cell_type": "code",
   "execution_count": null,
   "id": "f5b64b94-c8e5-4878-88a3-ac0e6b083aaf",
   "metadata": {},
   "outputs": [],
   "source": []
  }
 ],
 "metadata": {
  "kernelspec": {
   "display_name": "Python 3 (ipykernel)",
   "language": "python",
   "name": "python3"
  },
  "language_info": {
   "codemirror_mode": {
    "name": "ipython",
    "version": 3
   },
   "file_extension": ".py",
   "mimetype": "text/x-python",
   "name": "python",
   "nbconvert_exporter": "python",
   "pygments_lexer": "ipython3",
   "version": "3.13.5"
  }
 },
 "nbformat": 4,
 "nbformat_minor": 5
}
