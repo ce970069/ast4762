{
 "cells": [
  {
   "cell_type": "code",
   "execution_count": 2,
   "id": "ceb17d4a-c34f-4685-aea7-28bac25eb48e",
   "metadata": {},
   "outputs": [
    {
     "name": "stdout",
     "output_type": "stream",
     "text": [
      "Hello World!\n"
     ]
    }
   ],
   "source": [
    "print(\"Hello World!\")"
   ]
  },
  {
   "cell_type": "markdown",
   "id": "715cbae8-29de-4462-9481-4fe0dca6031f",
   "metadata": {},
   "source": [
    "2 is an integer \n",
    "\n",
    "42.0 is a floating-point number \n",
    "\n",
    "Letters are a string!"
   ]
  },
  {
   "cell_type": "code",
   "execution_count": 3,
   "id": "dea661d9-d579-4856-944b-2441a419325a",
   "metadata": {},
   "outputs": [
    {
     "data": {
      "text/plain": [
       "int"
      ]
     },
     "execution_count": 3,
     "metadata": {},
     "output_type": "execute_result"
    }
   ],
   "source": [
    "#to find out the class of a value\n",
    "type(2)"
   ]
  },
  {
   "cell_type": "code",
   "execution_count": 4,
   "id": "03d25942-5696-4bb3-a9d1-356af5076cdb",
   "metadata": {},
   "outputs": [
    {
     "data": {
      "text/plain": [
       "float"
      ]
     },
     "execution_count": 4,
     "metadata": {},
     "output_type": "execute_result"
    }
   ],
   "source": [
    "type(42.0)"
   ]
  },
  {
   "cell_type": "code",
   "execution_count": 5,
   "id": "01308e5c-4185-4421-af82-7748a989d3ca",
   "metadata": {},
   "outputs": [
    {
     "name": "stdout",
     "output_type": "stream",
     "text": [
      "The class is:   <class 'str'>\n"
     ]
    }
   ],
   "source": [
    "a = type(\"Hello World\")\n",
    "print(\"The class is:  \", a)\n"
   ]
  },
  {
   "cell_type": "code",
   "execution_count": 6,
   "id": "52e3e86b-20d8-410d-bbfc-e61823d258c0",
   "metadata": {},
   "outputs": [
    {
     "data": {
      "text/plain": [
       "'chinesefood'"
      ]
     },
     "execution_count": 6,
     "metadata": {},
     "output_type": "execute_result"
    }
   ],
   "source": [
    "'chinese' + 'food'"
   ]
  },
  {
   "cell_type": "code",
   "execution_count": 7,
   "id": "b9e81301-7d47-4812-971b-2a5de0165bf6",
   "metadata": {},
   "outputs": [
    {
     "data": {
      "text/plain": [
       "'foodfoodfood'"
      ]
     },
     "execution_count": 7,
     "metadata": {},
     "output_type": "execute_result"
    }
   ],
   "source": [
    "'food' *3"
   ]
  },
  {
   "cell_type": "code",
   "execution_count": 8,
   "id": "1a50d48f-12d3-4539-a313-b631f930349f",
   "metadata": {},
   "outputs": [
    {
     "data": {
      "text/plain": [
       "float"
      ]
     },
     "execution_count": 8,
     "metadata": {},
     "output_type": "execute_result"
    }
   ],
   "source": [
    "type(42.0)"
   ]
  },
  {
   "cell_type": "markdown",
   "id": "2618a2d4-19f8-4453-88f3-134626d50daf",
   "metadata": {},
   "source": [
    "Above is a function. In that example, 'type' is the **function**, and '42.0' is the **argument** of the function. \n",
    "\n",
    "It is common to say that a function takes an argument and returns a result. The result is also called the **return value**."
   ]
  },
  {
   "cell_type": "code",
   "execution_count": 9,
   "id": "2b21dc28-2c2a-4cde-96b5-df9e1368cebc",
   "metadata": {},
   "outputs": [],
   "source": [
    "import math\n",
    "import numpy as np"
   ]
  },
  {
   "cell_type": "markdown",
   "id": "93e98aa1-1cdd-414b-8e49-7ade27af6c7f",
   "metadata": {},
   "source": [
    "A **function definition** specifies the name of a new function and the sequence of statements that run when the function is called:"
   ]
  },
  {
   "cell_type": "code",
   "execution_count": 10,
   "id": "cb0bad04-cc48-48c6-b8d3-f19e89373dc0",
   "metadata": {},
   "outputs": [
    {
     "name": "stdout",
     "output_type": "stream",
     "text": [
      "I love my cats\n",
      "But they are so smelly\n",
      "I love my cats\n",
      "But they are so smelly\n"
     ]
    }
   ],
   "source": [
    "def print_lyrics(): #empty paranthesis means no arguments\n",
    "    #body of the fun. def.\n",
    "    print(\"I love my cats\")\n",
    "    print(\"But they are so smelly\")\n",
    "\n",
    "def repeat_lyrics():\n",
    "    print_lyrics()\n",
    "    print_lyrics()\n",
    "\n",
    "repeat_lyrics()"
   ]
  },
  {
   "cell_type": "code",
   "execution_count": 11,
   "id": "fd3f64c4-f2de-4f37-9146-bb72a4d118a2",
   "metadata": {},
   "outputs": [
    {
     "name": "stdout",
     "output_type": "stream",
     "text": [
      "tanktanktank\n",
      "tanktanktank\n",
      "42.0\n",
      "42.0\n"
     ]
    }
   ],
   "source": [
    "def print_something(input):\n",
    "    print(input)\n",
    "    print(input)\n",
    "\n",
    "print_something('tank' * 3)\n",
    "print_something(42.0)"
   ]
  },
  {
   "cell_type": "code",
   "execution_count": 13,
   "id": "0305f9f1-3517-452c-8d06-560aab8f42ea",
   "metadata": {},
   "outputs": [
    {
     "name": "stdout",
     "output_type": "stream",
     "text": [
      "lanalanalana\n",
      "lanalanalana\n",
      "lanalanalana\n",
      "lanalanalana\n",
      "lanalanalana\n",
      "lanalanalana\n",
      "lanalanalana\n",
      "lanalanalana\n"
     ]
    }
   ],
   "source": [
    "for i in range(4):\n",
    "    print_something('lana' *3)"
   ]
  },
  {
   "cell_type": "code",
   "execution_count": 23,
   "id": "2b1e3dcd-8f95-4e82-b286-1d8b61a6caf4",
   "metadata": {},
   "outputs": [
    {
     "name": "stdout",
     "output_type": "stream",
     "text": [
      "there are  4.35052827843381  miles between point a and b\n"
     ]
    }
   ],
   "source": [
    "def distance(a,b):\n",
    "    result = ((a - b)**2)**(1/2)\n",
    "    return result\n",
    "\n",
    "kilometers = distance(1,8) #calling function and naming it miles\n",
    "miles = kilometers / 1.609\n",
    "print(\"there are \", miles, \" miles between point a and b\")"
   ]
  },
  {
   "cell_type": "code",
   "execution_count": null,
   "id": "b28f0c26-4431-4ace-ba5f-1193e42500a7",
   "metadata": {},
   "outputs": [],
   "source": []
  }
 ],
 "metadata": {
  "kernelspec": {
   "display_name": "Python [conda env:base] *",
   "language": "python",
   "name": "conda-base-py"
  },
  "language_info": {
   "codemirror_mode": {
    "name": "ipython",
    "version": 3
   },
   "file_extension": ".py",
   "mimetype": "text/x-python",
   "name": "python",
   "nbconvert_exporter": "python",
   "pygments_lexer": "ipython3",
   "version": "3.9.18"
  }
 },
 "nbformat": 4,
 "nbformat_minor": 5
}
