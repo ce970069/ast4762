{
 "cells": [
  {
   "cell_type": "markdown",
   "id": "f1588b90",
   "metadata": {
    "id": "f1588b90"
   },
   "source": [
    "# Day 18 Pre-Class Assignment:  Partial Differential Equations\n",
    "### <p style=\"text-align: right;\"> &#9989; Cesarine Graham</p>"
   ]
  },
  {
   "cell_type": "markdown",
   "id": "510a922a",
   "metadata": {
    "id": "510a922a"
   },
   "source": [
    "\n",
    "## Goals of this assignment\n",
    "\n",
    "The goals of this assignment are:\n",
    "\n",
    "* Learn about partial differential equations\n",
    "* Examine physics examples involving PDEs\n",
    "* Solve the Laplace equation\n",
    "\n",
    "## Assignment instructions\n",
    "\n",
    "Upload the assignment to Gradescope before 11:50PM the day before the next class and fill out the pre-class survey."
   ]
  },
  {
   "cell_type": "markdown",
   "id": "caba7436",
   "metadata": {
    "id": "caba7436"
   },
   "source": [
    "----\n",
    "## Part 1: Introduction to Partial Differential Equations (PDEs)\n",
    "\n",
    "So far, we have looked at first- and higher-order ordinary differential equations, but partial differential equations are also quite common in physics.\n",
    "In this pre-class assignment, we will first look at the general definitions (all the terminology used to refer to different types of PDEs), and you will see a few famous examples of PDEs in physics.\n",
    "During the in-class assignment, we will pick one of these example to work on as a group.\n",
    "\n",
    "### 1.1 Types of PDEs"
   ]
  },
  {
   "cell_type": "code",
   "execution_count": 1,
   "id": "4af6a48a",
   "metadata": {
    "id": "4af6a48a",
    "outputId": "4889317c-00ae-49fa-962f-322388922028"
   },
   "outputs": [
    {
     "data": {
      "image/jpeg": "[encoded data removed]",
      "text/html": [
       "\n",
       "        <iframe\n",
       "            width=\"640\"\n",
       "            height=\"340\"\n",
       "            src=\"https://www.youtube.com/embed/O3ahEHAX-KU\"\n",
       "            frameborder=\"0\"\n",
       "            allowfullscreen\n",
       "            \n",
       "        ></iframe>\n",
       "        "
      ],
      "text/plain": [
       "<IPython.lib.display.YouTubeVideo at 0x1c235e32550>"
      ]
     },
     "execution_count": 1,
     "metadata": {},
     "output_type": "execute_result"
    }
   ],
   "source": [
    "from IPython.display import YouTubeVideo\n",
    "YouTubeVideo(\"O3ahEHAX-KU\",width=640,height=340)\n",
    "# Direct link on YourTube: https://www.youtube.com/watch?v=O3ahEHAX-KU"
   ]
  },
  {
   "cell_type": "markdown",
   "id": "ae559f8b",
   "metadata": {
    "id": "ae559f8b"
   },
   "source": [
    "## 1.2 Famous PDE examples\n",
    "\n",
    "In the natural sciences we often encounter problems with many variables constrained by boundary conditions and initial values.\n",
    "Many of these problems can be modeled as partial differential equations."
   ]
  },
  {
   "cell_type": "markdown",
   "id": "1f54a29c",
   "metadata": {
    "id": "1f54a29c"
   },
   "source": [
    "### 1.2.1 1+1-dimensional examples\n",
    "\n",
    "#### Wave equation\n",
    "\n",
    "One case which arises in many situations is the _wave equation_ whose one(-plus-one)-dimensional form is\n",
    "\n",
    "$$ \\frac{\\partial^2 u}{\\partial x^2} = A\\frac{\\partial^2 u}{\\partial t^2}, $$\n",
    "\n",
    "where $A$ is a constant.\n",
    "The solution $u$ depends on both the spatial and temporal variables, $u(x,t)$.\n",
    "Familiar situations which this equation can model are waves on a string, pressure waves, waves on the surface of a fjord, sound in a pipe or electromagnetic waves in a waveguide.\n",
    "\n",
    "#### Diffusion equation\n",
    "\n",
    "The _diffusion equation_ is\n",
    "\n",
    "$$ \\frac{\\partial^2 u}{\\partial x^2}=A\\frac{\\partial u}{\\partial t}, $$\n",
    "\n",
    "and  $A$ is in this case called the diffusion constant. It can be used to model\n",
    "a wide selection of diffusion processes, from molecules to the diffusion of heat\n",
    "in a given material."
   ]
  },
  {
   "cell_type": "markdown",
   "id": "7bef76d1",
   "metadata": {
    "id": "7bef76d1"
   },
   "source": [
    "### 1.2.2 Higher-dimensional examples\n",
    "In two or more dimensions, we have fields of the form $u(x,\\ldots,t)$.\n",
    "We can denote the vector formed by taking the derivative of a function with respect to each of the coordinates as the _gradient_:\n",
    "\n",
    "$$ \\boldsymbol{\\nabla} = \\begin{bmatrix}\n",
    "                        \\frac{\\partial}{\\partial x} \\\\\n",
    "                        \\frac{\\partial}{\\partial y} \\\\\n",
    "                        \\vdots\\end{bmatrix} $$\n",
    "                  \n",
    "Recall that the dot product $\\boldsymbol{\\nabla}\\cdot{}$ of the gradient with a vector (having the same dimensionality) is called the _divergence_ or _div_.\n",
    "The cross product $\\boldsymbol{\\nabla}\\times{}$ in three dimensions is called the _curl_.\n",
    "                  \n",
    "#### Wave equations\n",
    "It is rather straightforward to extend the wave equation to additional spatial dimensions:\n",
    "\n",
    "$$ \\frac{\\partial^2 u}{\\partial x^2}+\\frac{\\partial^2 u}{\\partial y^2}+\\cdots = A\\frac{\\partial^2 u}{\\partial t^2}. $$\n",
    "\n",
    "Now, the equation can model waves on a drum, or waves on the surface of a lake in two dimensions.\n",
    "In three dimensions, we can model sound waves and electromagnetic waves in space.\n",
    "\n",
    "#### Laplace equation\n",
    "Another familiar equation from electrostatics is the Laplace equation, which looks similar to the wave equation except that $A=0$:\n",
    "\n",
    "$$ \\frac{\\partial^2 u}{\\partial x^2}+\\frac{\\partial^2 u}{\\partial y^2}+\\cdots=0 .$$\n",
    "\n",
    "Indeed, we often abbreviate the sum over all dimensions of second derivatives by the _laplacian_\n",
    "\n",
    "$$ \\nabla^2 = \\boldsymbol{\\nabla}\\cdot\\boldsymbol{\\nabla} = \\sum_{d \\text{ dims}} \\frac{\\partial^2}{\\partial x_d^2}. $$\n",
    "\n",
    "(Note that this assumes rectangular coordinates; other coordinate schemes have more complicated forms.)\n",
    "If we have a finite electric charge represented by a charge density $\\rho(\\mathbf{x})$ we have the Poisson equation:\n",
    "\n",
    "$$ \\frac{\\partial^2 u}{\\partial x^2}+\\frac{\\partial^2 u}{\\partial y^2}+\\cdots=-4\\pi \\rho(\\mathbf{x}).$$\n",
    "\n",
    "#### Helmholtz equation\n",
    "When considered as an eigenvalue equation, this is the Helmholtz equation:\n",
    "\n",
    "$$ -\\frac{\\partial^2 u}{\\partial x^2}-\\frac{\\partial^2 u}{\\partial y^2}-\\cdots=\\lambda u, $$\n",
    "\n",
    "#### Schrödinger equation\n",
    "The famous time-dependent Schrödinger equation describes the wavefunction of a single quantum particle moving in a potential:\n",
    "\n",
    "$$ -\\frac{\\partial^2 u}{\\partial x^2}-\\frac{\\partial^2 u}{\\partial y^2}-\\cdots+f(\\mathbf{x})u = i\\frac{\\partial u}{\\partial t}. $$\n"
   ]
  },
  {
   "cell_type": "markdown",
   "id": "02fb220a",
   "metadata": {
    "id": "02fb220a"
   },
   "source": [
    "### 1.2.3 Systems of partial differential equations\n",
    "####  Maxwell equations\n",
    "Important systems of linear partial differential equations are the famous Maxwell equations, describing electrodynamics (source-free):\n",
    "\n",
    "$$ \\begin{align}\n",
    " \\boldsymbol{\\nabla}\\times\\mathbf{B} &= \\frac{1}{c^2}\\frac{\\partial \\mathbf{E}}{\\partial t} \\\\\n",
    "-\\boldsymbol{\\nabla}\\times\\mathbf{E} &=  -\\frac{\\partial \\mathbf{B}}{\\partial t} \\\\\n",
    "\\boldsymbol{\\nabla}\\cdot\\mathbf{E} &= 0 \\\\\n",
    "\\boldsymbol{\\nabla}\\cdot\\mathbf{B} &= 0\n",
    "\\end{align} $$\n",
    "\n",
    "#### Euler equations\n",
    "Similarly, famous systems of nonlinear partial differential equations include the Euler equations for\n",
    "incompressible, inviscid flow\n",
    "\n",
    "$$\n",
    "\\frac{\\partial \\mathbf{u}}{\\partial t} +\\mathbf{u}\\cdot\\boldsymbol{\\nabla}\\mathbf{u} = -\\frac{\\boldsymbol{\\nabla}p}{\\rho} \\quad\\text{,}\\quad \\boldsymbol{\\nabla}\\cdot\\mathbf{u} = 0,\n",
    "$$\n",
    "\n",
    "with $p$ being the pressure and $\\rho$ being the density of the fluid.\n",
    "\n",
    "#### Navier-Stokes equations\n",
    "Another example is the set of Navier-Stokes equations for incompressible, viscous flow\n",
    "\n",
    "$$\n",
    "\\frac{\\partial \\mathbf{u}}{\\partial t} +\\mathbf{u}\\cdot\\boldsymbol{\\nabla}\\mathbf{u} -\\nu \\nabla^2\\mathbf{u} = -\\frac{\\boldsymbol{\\nabla}p}{\\rho} \\quad\\text{,}\\quad \\boldsymbol{\\nabla}\\cdot\\mathbf{u} = 0,\n",
    "$$\n",
    "\n",
    "where the additional parameter $\\nu$ is the kinematic viscosity."
   ]
  },
  {
   "cell_type": "markdown",
   "id": "7070ef6d",
   "metadata": {
    "id": "7070ef6d"
   },
   "source": [
    "------\n",
    "# Part 2: Laplace and Poisson Equations\n",
    "\n",
    "Let's try one way of solving PDEs using examples of the Laplace and Poisson equations.\n",
    "During the in-class assignment, we will try another way as a group.\n",
    "\n",
    "### 2.1 Rewrite the equations in discretized form\n",
    "The Laplace equation in two dimensions is\n",
    "\n",
    "$$ \\nabla^2 u(\\mathbf{x}) = \\frac{\\partial^2 u}{\\partial x^2} + \\frac{\\partial^2 u}{\\partial y^2} = 0. $$\n",
    "\n",
    "with possible boundary conditions $u(x,y) = g(x,y) $ on the border.\n",
    "There is no time-dependence.\n",
    "We seek a solution in a region of interest (square for simplicity), and we choose a mesh with equally many steps in both directions:\n",
    "\n",
    "$$ h = \\Delta x = \\Delta y =  \\frac{L}{n+1}, $$\n",
    "\n",
    "where $L$ is the length of the sides and we have $n+2$ points in both directions.\n",
    "\n",
    "We can discretize the above equation by using the nearest-neighbor approximation\n",
    "\n",
    "$$\\begin{align}\n",
    "\\frac{\\partial^2 u}{\\partial x^2} &\\approx \\frac{u(x+h,y)-2u(x,y)+u(x-h,y)}{h^2} \\\\\n",
    "\\frac{\\partial^2 u}{\\partial y^2} &\\approx \\frac{u(x,y+h)-2u(x,y)+u(x,y-h)}{h^2}.\n",
    "\\end{align}$$\n",
    "\n",
    "Then, we can write them in matrix notation:\n",
    "\n",
    "$$\\begin{align}\n",
    "\\left(\\frac{\\partial^2 u}{\\partial x^2}\\right)_{i,j} \\approx \\frac{u_{i+1,j}-2u_{i,j}+u_{i-1,j}}{h^2} \\\\\n",
    "\\left(\\frac{\\partial^2 u}{\\partial y^2}\\right)_{i,j} \\approx \\frac{u_{i,j+1}-2u_{i,j}+u_{i,j-1}}{h^2}.\n",
    "\\end{align}$$\n",
    "\n",
    "Inserting in Laplace's equation we obtain\n",
    "\n",
    "$$\\begin{align}\n",
    "\\frac{u_{i+1,j}-2u_{i,j}+u_{i-1,j}}{h^2} + \\frac{u_{i,j+1}-2u_{i,j}+u_{i,j-1}}{h^2} &= 0 \\\\\n",
    "&\\\\\n",
    "-4u_{i,j} + u_{i+1,j}+u_{i-1,j} + u_{i,j+1} +u_{i,j-1} &= 0\n",
    "\\end{align}$$\n",
    "\n",
    "This is our final matrix equation for solving the Laplace equation.\n",
    "The Poisson equation adds only a minor complication to the above equation, since we need only to add a discretized version of $\\rho(\\mathbf{x})$:\n",
    "\n",
    "$$ -4u_{i,j} + u_{i+1,j}+u_{i-1,j} + u_{i,j+1} +u_{i,j-1} = h^2\\rho_{i,j}. $$\n",
    "\n",
    "With $n+2$ mesh points, the equations for $u$ result in a system of $n^2$ linear equations in the $n^2$ unknowns $u_{i,j}$.\n",
    "(The 2 points on either end of the grid are fixed by the boundary conditions, so are not unknowns.)\n",
    "\n",
    "Note: For some purposes, it's nicer to express the final equation as a solution for the $u_{i,j}$ term, like so:\n",
    "\n",
    "$$ u_{i,j} = \\frac{1}{4}\\left(u_{i,j+1}+u_{i,j-1}+u_{i+1,j}+u_{i-1,j}\\right) + \\frac{h^2}{4}\\rho_{i,j}. $$"
   ]
  },
  {
   "cell_type": "markdown",
   "id": "7e8b914d",
   "metadata": {
    "id": "7e8b914d"
   },
   "source": [
    "### 2.2 Dirichlet boundary conditions\n",
    "For this problem, we'll apply _Dirichlet boundary conditions_; that is, we fix particular values for the field at the boundary. If we fixed values for the derivatives of the field, that would be _Neumann boundary conditions_. (It's also possible to have a mixture of the two.)\n",
    "\n",
    "$$\\begin{align}\n",
    "u_{i,0} = g_{i,0} \\quad\\text{for}\\quad 0\\le i \\le n+1 \\\\\n",
    "u_{i,n+1} = g_{i,n+1} \\quad\\text{for}\\quad 0\\le i \\le n+1 \\\\\n",
    "u_{0,j} = g_{0,j} \\quad\\text{for}\\quad 0\\le j \\le n+1 \\\\\n",
    "u_{n+1,j} = g_{n+1,j} \\quad\\text{for}\\quad 0\\le j \\le n+1\n",
    "\\end{align}$$"
   ]
  },
  {
   "cell_type": "markdown",
   "id": "62c30101",
   "metadata": {
    "id": "62c30101"
   },
   "source": [
    "### 2.3 Scheme for solving the Laplace (or Poisson) equation\n",
    "\n",
    "$$\n",
    "\\begin{equation}\n",
    "\\label{eq:poissonrewritten} \\tag{19}\n",
    "  4u_{i,j}= \\left[u_{i,j+1}+u_{i,j-1}+u_{i+1,j}+u_{i-1,j}\\right]\n",
    "           -h^2\\rho_{i,j}=\\Delta_{ij}-\\tilde{\\rho}_{ij},\n",
    "\\end{equation}\n",
    "$$\n",
    "\n",
    "where we have defined\n",
    "\n",
    "\n"
   ]
  },
  {
   "cell_type": "markdown",
   "id": "ae5284f0",
   "metadata": {
    "id": "ae5284f0"
   },
   "source": [
    "### 2.3  Using linear algebra to solve the Laplace (or Poisson) equation\n",
    "\n",
    "We rewrite the equation as\n",
    "\n",
    "$$ \\mathbf{A}\\mathbf{x} = \\boldsymbol{\\tilde{\\rho}}, $$\n",
    "\n",
    "where we have flattened the multidimensional $\\mathbf{u}$ field into a single vector:\n",
    "\n",
    "$$ \\mathbf{x} = \\begin{bmatrix}\n",
    "                  u_{1,1} \\\\\n",
    "                  u_{1,2} \\\\\n",
    "                  \\vdots \\\\\n",
    "                  u_{1,n} \\\\\n",
    "                  u_{2,1} \\\\\n",
    "                  \\vdots \\\\\n",
    "                  u_{n,n}\n",
    "                \\end{bmatrix} $$\n",
    "                \n",
    "and we introduce the multidimensional index notation for clarity:\n",
    "\n",
    "$$ x_{(i,j)} \\equiv x_{(i-1)\\cdot n + j} = u_{i,j}. $$\n",
    "\n",
    "In this notation, the laplacian can be written as\n",
    "\n",
    "$$\n",
    "A_{(i,j),(k,l)}= -4\\delta_{(i,j),(k,l)} + \\delta_{(i,j),(k+1,l)}+\\delta_{(i,j),(k-1,l)} + \\delta_{(i,j),(k,l+1)} +\\delta_{(i,j),(k,l-1)},\n",
    "$$\n",
    "\n",
    "where the Kronecker delta $\\delta_{a,b} = 1$ if $a=b$ and $0$ otherwise.\n",
    "The Poisson source term is slightly complicated by the presence of the Dirichlet boundary conditions\n",
    "\n",
    "$$\n",
    "\\tilde{\\rho}_{(i,j)} = h^2\\rho_{i,j} - g_{(i,0)}\\delta_{(i,j),(i,1)}\n",
    "                                     - g_{(i,n+1)}\\delta_{(i,j),(i,n)}\n",
    "                                     - g_{(0,j)}\\delta_{(i,j),(1,j)}\n",
    "                                     - g_{(n+1,j)}\\delta_{(i,j),(n+1,j)}.\n",
    "$$\n",
    "\n",
    "The complicated sum of Kronecker deltas somewhat obscures the simplicity of the matrix, so we'll show a concrete example with $n=4$.\n",
    "Note the presence of the diagonal of $-4$'s, the block structure along the diagonal and the diagonals of $1$'s representing the derivative along the second dimension.\n",
    "\n",
    "$$\n",
    "\\mathbf{A} =\n",
    "\\left[\\begin{array}{cccc:cccc:cccc:cccc}\n",
    " -4 & 1 & 0 & 0 & 1 & 0 & 0 & 0 & 0 & 0 & 0 & 0 & 0 & 0 & 0 & 0 \\\\\n",
    " 1 & -4 & 1 & 0 & 0 & 1 & 0 & 0 & 0 & 0 & 0 & 0 & 0 & 0 & 0 & 0 \\\\\n",
    " 0 & 1 & -4 & 1 & 0 & 0 & 1 & 0 & 0 & 0 & 0 & 0 & 0 & 0 & 0 & 0 \\\\\n",
    " 0 & 0 & 1 & -4 & 0 & 0 & 0 & 1 & 0 & 0 & 0 & 0 & 0 & 0 & 0 & 0 \\\\\n",
    "\\hdashline\n",
    " 1 & 0 & 0 & 0 & -4 & 1 & 0 & 0 & 1 & 0 & 0 & 0 & 0 & 0 & 0 & 0 \\\\\n",
    " 0 & 1 & 0 & 0 & 1 & -4 & 1 & 0 & 0 & 1 & 0 & 0 & 0 & 0 & 0 & 0 \\\\\n",
    " 0 & 0 & 1 & 0 & 0 & 1 & -4 & 1 & 0 & 0 & 1 & 0 & 0 & 0 & 0 & 0 \\\\\n",
    " 0 & 0 & 0 & 1 & 0 & 0 & 1 & -4 & 0 & 0 & 0 & 1 & 0 & 0 & 0 & 0 \\\\\n",
    "\\hdashline\n",
    " 0 & 0 & 0 & 0 & 1 & 0 & 0 & 0 & -4 & 1 & 0 & 0 & 1 & 0 & 0 & 0 \\\\\n",
    " 0 & 0 & 0 & 0 & 0 & 1 & 0 & 0 & 1 & -4 & 1 & 0 & 0 & 1 & 0 & 0 \\\\\n",
    " 0 & 0 & 0 & 0 & 0 & 0 & 1 & 0 & 0 & 1 & -4 & 1 & 0 & 0 & 1 & 0 \\\\\n",
    " 0 & 0 & 0 & 0 & 0 & 0 & 0 & 1 & 0 & 0 & 1 & -4 & 0 & 0 & 0 & 1 \\\\\n",
    "\\hdashline\n",
    " 0 & 0 & 0 & 0 & 0 & 0 & 0 & 0 & 1 & 0 & 0 & 0 & -4 & 1 & 0 & 0 \\\\\n",
    " 0 & 0 & 0 & 0 & 0 & 0 & 0 & 0 & 0 & 1 & 0 & 0 & 1 & -4 & 1 & 0 \\\\\n",
    " 0 & 0 & 0 & 0 & 0 & 0 & 0 & 0 & 0 & 0 & 1 & 0 & 0 & 1 & -4 & 1 \\\\\n",
    " 0 & 0 & 0 & 0 & 0 & 0 & 0 & 0 & 0 & 0 & 0 & 1 & 0 & 0 & 1 & -4 \\\\\n",
    "\\end{array}\\right]$$\n",
    "\n",
    "$$\n",
    "\\boldsymbol{\\tilde{\\rho}} = \\left[\\begin{array}{c}\n",
    " g_{0,1}+\\rho_{1,1} \\\\\n",
    " g_{0,2}+\\rho_{1,2} \\\\\n",
    " g_{0,3}+\\rho_{1,3} \\\\\n",
    " g_{0,4}+\\rho_{1,4} \\\\\n",
    "\\hdashline\n",
    " g_{2,0}+\\rho_{2,1} \\\\\n",
    " \\rho_{2,2} \\\\\n",
    " \\rho_{2,3} \\\\\n",
    " g_{2,5}+\\rho_{2,4} \\\\\n",
    "\\hdashline\n",
    " g_{3,0}+\\rho_{3,1} \\\\\n",
    " \\rho_{3,2} \\\\\n",
    " \\rho_{3,3} \\\\\n",
    " g_{3,5}+\\rho_{3,4} \\\\\n",
    "\\hdashline\n",
    " g_{5,1}+\\rho_{4,1} \\\\\n",
    " g_{5,2}+\\rho_{4,2} \\\\\n",
    " g_{5,3}+\\rho_{4,3} \\\\\n",
    " g_{5,4}+\\rho_{4,4} \\\\\n",
    "\\end{array}\\right]\n",
    "$$\n",
    "\n",
    "In this form, we can solve the PDEs using the linear-algebra methods we learned before.\n",
    "Note that since the matrix $\\mathbf{A}$ is very sparse (most elements are zero), sparse-matrix techniques will be most effective."
   ]
  },
  {
   "cell_type": "markdown",
   "id": "a72a6d89",
   "metadata": {
    "id": "a72a6d89"
   },
   "source": [
    "### 2.4 Exercise\n",
    "Let us compute the solution to a two-dimensional electrostatics problem using Jacobi method, for the case where the square box is $1\\text{ m}$ along each side, $V=1\\text{ V}$, and the grid spacing is $a=2\\text{ cm}$, so that there are 50 grid lengths on a side, or 51 points, counting the points at the beginning and end.\n",
    "The Laplace equation is\n",
    "\n",
    "$$ \\nabla^2\\phi(x,y) = 0 .$$\n",
    "\n",
    "We fix $\\phi(x,y)$ at the boundaries of the system such that the top side of the wall has $\\phi(x,L) = V$ and $\\phi(x,y) = 0$ for the other three walls.\n",
    "You could solve the linear equations using Gaussian elimination or LU decomposition.\n",
    "However, in this case, because the matrix is sparse and diagonally dominant, relaxation methods are highly effective.\n",
    "\n",
    "In order to use the Jacobi relaxation method, we use the alternate form of the laplacian above:\n",
    "\n",
    "$$ \\phi_{i,j} = \\frac{1}{4}\\left(\\phi_{i,j+1}+\\phi_{i,j-1}+\\phi_{i+1,j}+\\phi_{i-1,j}\\right), $$\n",
    "\n",
    "which tells us that we expect $\\phi(x,y)$ to be the average of the orthogonally adjacent points of the grid.\n",
    "\n",
    "We can make some initial guess for $\\phi(x,y)$ inside the box; for example, simply set all points to zero to start with.\n",
    "Then, we update the $\\phi(x,y)$ in the next iteration to be\n",
    "\n",
    "$$ \\phi_\\text{new}(x,y) = \\frac{1}{4}\\left(\\phi_{i,j+1}+\\phi_{i,j-1}+\\phi_{i+1,j}+\\phi_{i-1,j}\\right). $$\n",
    "\n",
    "We continue to iterate in this way until the changes between iterations\n",
    "\n",
    "$$\\max_\\mathbf{x} \\left|\\phi_\\text{new}(\\mathbf{x}) -\\phi(\\mathbf{x})\\right|$$\n",
    "\n",
    "satisfies our required accuracy.\n",
    "\n",
    "Here is a program to calculate the solution; please do the following:\n",
    "\n",
    "1. Write down comments for the code below\n",
    "1. Fill in the missing code to make a density plot of the results."
   ]
  },
  {
   "cell_type": "code",
   "execution_count": 5,
   "id": "282b92fb",
   "metadata": {
    "id": "282b92fb"
   },
   "outputs": [
    {
     "data": {
      "image/png": "[encoded data removed]",
      "text/plain": [
       "<Figure size 640x480 with 1 Axes>"
      ]
     },
     "metadata": {},
     "output_type": "display_data"
    }
   ],
   "source": [
    "### Add comments for each '#'\n",
    "### Add code to create the plot\n",
    "\n",
    "from numpy import empty, zeros, max, copy\n",
    "from pylab import imshow, gray, show\n",
    "\n",
    "# setting the grid size\n",
    "M = 51          # the number of grid points on a side\n",
    "V = 1.0         # voltage at the top of the wall\n",
    "target = 1e-6   # the target accuracy for convergence\n",
    "\n",
    "# creating arrays to hold potential values\n",
    "phi = zeros([M+1,M+1],float)\n",
    "phi[M,:] = V\n",
    "phinew = copy(phi)\n",
    "\n",
    "# solving Laplace's equation\n",
    "delta = 1.0\n",
    "while delta > target:\n",
    "\n",
    "    # iterating over interior points only (NO BOUNDARY POINTS)\n",
    "    for i in range(1,M):\n",
    "        for j in range(1,M):\n",
    "            phinew[i,j] = (phi[i+1,j] + phi[i-1,j] + phi[i,j+1] + phi[i,j-1])/4\n",
    "\n",
    "    # calculating the max difference between old and new vals\n",
    "    delta = max(abs(phi-phinew))\n",
    "\n",
    "    # swapping the new values to be the current values for the next iteration\n",
    "    phi, phinew = phinew, phi\n",
    "\n",
    "# Make a plot\n",
    "imshow(phi, origin=\"upper\", extent=[0, 1, 0, 1])\n",
    "gray()\n",
    "show()"
   ]
  },
  {
   "cell_type": "markdown",
   "id": "6896be4b",
   "metadata": {
    "id": "6896be4b"
   },
   "source": [
    "---\n",
    "## Assignment Wrap-up\n",
    "\n",
    "Please fill out the pre-class survey Google Form and submit your notebook in ipynb format to Gradescope.\n"
   ]
  },
  {
   "cell_type": "code",
   "execution_count": null,
   "id": "02d708ce",
   "metadata": {
    "id": "02d708ce"
   },
   "outputs": [],
   "source": []
  }
 ],
 "metadata": {
  "colab": {
   "provenance": []
  },
  "kernelspec": {
   "display_name": "Python 3 (ipykernel)",
   "language": "python",
   "name": "python3"
  },
  "language_info": {
   "codemirror_mode": {
    "name": "ipython",
    "version": 3
   },
   "file_extension": ".py",
   "mimetype": "text/x-python",
   "name": "python",
   "nbconvert_exporter": "python",
   "pygments_lexer": "ipython3",
   "version": "3.9.18"
  }
 },
 "nbformat": 4,
 "nbformat_minor": 5
}
