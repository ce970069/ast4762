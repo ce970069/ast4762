{
 "cells": [
  {
   "cell_type": "markdown",
   "id": "f1588b90",
   "metadata": {
    "id": "f1588b90"
   },
   "source": [
    "# Day 08 Pre-Class Assignment: Introducing the QR Algorithm\n",
    "\n",
    "### <p style=\"text-align: right;\"> &#9989; Cesarine Graham</p>"
   ]
  },
  {
   "cell_type": "markdown",
   "id": "510a922a",
   "metadata": {
    "id": "510a922a"
   },
   "source": [
    "\n",
    "## Goals of this assignment\n",
    "\n",
    "The goals of this assignment are:\n",
    "\n",
    "* Learn about how QR Algorithm works\n",
    "* How to do QR Decomposition with a given matrix\n",
    "\n",
    "\n",
    "## Assignment instructions\n",
    "\n",
    "Upload the assignment to Gradescope before noon the day of the next class."
   ]
  },
  {
   "cell_type": "markdown",
   "id": "0bf7d124",
   "metadata": {
    "id": "0bf7d124"
   },
   "source": [
    "---\n",
    "\n",
    "## Part 0: Continue Solving Eigenvectors and Eigenvalues\n",
    "Linear algebra pops up almost everywhere in physics.\n",
    "Another common set of problems that arises in physics is the calculation of the eigenvalues and/or eigenvectors of a matrix.\n",
    "This problem arises in classical mechanics, quantum mechanics, electromagnetism, and other areas.\n",
    "Most eigenvalue problems in physics concern real symmetric matrices (or Hermitian matrices when complex numbers are involved, such as in quantum mechanics).\n",
    "For a symmetric matrix $\\mathbf{A}$, an _eigenvector_ $\\mathbf{v}$ is a vector satisfying\n",
    "\n",
    "$$\\mathbf{A} \\mathbf{v} = \\lambda \\mathbf{v}$$\n",
    "\n",
    "where $\\lambda$ is the corresponding _eigenvalue_.\n",
    "For an $N \\times  N$ matrix, there are $N$ eigenvectors $\\mathbf{v}_1, \\ldots, \\mathbf{v}_N$ with eigenvalues $\\lambda_1, \\ldots, \\lambda_N$.\n",
    "Eigenvectors are orthogonal to one another:\n",
    "$$\\mathbf{v}_i \\cdot \\mathbf{v}_j=0 \\qquad \\text{if}\\, i \\neq j,$$\n",
    "and we will assume they are normalized to have unit length\n",
    "$$\\mathbf{v}_i \\cdot \\mathbf{v}_i = 1 .$$\n",
    "\n",
    "There are many methods to solve the eigenvectors and eigenvalues (collectively called the _eigensystem_).\n",
    "You already learned about _Power method_ in Day 07 pre- and in-class notebooks.\n",
    "Today you will study another commonly taught (or famous) algorithm:\n",
    "* QR algorithm"
   ]
  },
  {
   "cell_type": "markdown",
   "id": "caba7436",
   "metadata": {
    "id": "caba7436"
   },
   "source": [
    "## Part 1: The QR Algorithm\n",
    "\n",
    "The QR algorithm (sometimes also called QR iteration) is an eigenvalue algorithm.\n",
    "It was developed in the late 1950s by John G. F. Francis and by Vera N. Kublanovskaya, working independently.\n",
    "The idea is to first perform a QR decomposition, writing the matrix as a product of an orthogonal matrix and an upper-triangular matrix, then multiply the factors in the reverse order, and iterate.\n",
    "\n",
    "The basic idea behind the QR algorithm is to create a series of transformations that leave the eigenvalues of the matrix unchanged while making it increasingly upper-triangular."
   ]
  },
  {
   "cell_type": "markdown",
   "id": "c0ab3814",
   "metadata": {
    "id": "c0ab3814"
   },
   "source": [
    "Construct an $N \\times N$ matrix $\\mathbf{V}$ with the eigenvectors as its columns.\n",
    "Then, we can rewrite all the equations $\\mathbf{A} \\mathbf{v}_i = \\lambda_i \\mathbf{v}_i$ in a single matrix equation\n",
    "\n",
    "$$ \\mathbf{A} \\mathbf{V} =  \\mathbf{V} \\mathbf{D}, $$\n",
    "\n",
    "where $\\mathbf{D}$ is the diagonal matrix having the eigenvalues $\\lambda_i$ as its diagonal entries.\n",
    "Note that the matrix $\\mathbf{V}$ is orthogonal, meaning that its transpose $\\mathbf{V}^T$ is equal to its inverse: $\\mathbf{V}^T\\mathbf{V}=\\mathbf{V}\\mathbf{V}^T=\\mathbf{I}$, the identity matrix.\n",
    "The QR algorithm is used for calculating eigenvalues and eigenvectors of real symmetric or Hermitian matrices.\n",
    "\n",
    "The first step of this algorithm is to do _QR decomposition_, which you will learn about by example in Part 2 of this pre-class assignment.\n",
    "Supposed we have a real symmetric matrix $\\mathbf{A}$, which we will break down into\n",
    "\n",
    "$$ \\mathbf{A} = \\mathbf{Q}_1 \\mathbf{R}_1, $$\n",
    "\n",
    "where $\\mathbf{Q}_1$ is orthogonal and $\\mathbf{R}_1$ is upper-triangular.\n",
    "Multiplying on the left by $\\mathbf{Q}_1^T$, we get\n",
    "\n",
    "$$ \\mathbf{Q}_1^T \\mathbf{A} =\\mathbf{Q}_1^T \\mathbf{Q}_1 \\mathbf{R}_1 =  \\mathbf{R}_1, $$\n",
    "\n",
    "since $\\mathbf{Q}_1$ is orthogonal.\n",
    "\n",
    "Now, we define a new matrix\n",
    "\n",
    "$$ \\mathbf{A}_1 =  \\mathbf{R}_1 \\mathbf{Q}_1, $$\n",
    "\n",
    "which is just the product of the same two matrices in reverse order.\n",
    "Now, replacing $ \\mathbf{R}_1$ with $\\mathbf{Q}_1^T \\mathbf{A}$, we have\n",
    "\n",
    "$$ \\mathbf{A}_1 = \\mathbf{Q}_1^T \\mathbf{A} \\mathbf{Q}_1 .$$\n",
    "\n",
    "We can repeat this process by taking the QR decomposition of $ \\mathbf{A}_1$ so that $ \\mathbf{A}_1 =  \\mathbf{Q}_2 \\mathbf{R}_2 $, and defining a new matrix\n",
    "\n",
    "$$ \\mathbf{A}_2 = \\mathbf{R}_2 \\mathbf{Q}_2 =  \\mathbf{Q}_2^T \\mathbf{A}_1 \\mathbf{Q}_2 =  \\mathbf{Q}_2^T  \\mathbf{Q}_1^T \\mathbf{A} \\mathbf{Q}_2 \\mathbf{Q}_1 .$$\n",
    "\n",
    "Iterating this process for total $k$ steps, we generate the sequence of matrices\n",
    "\n",
    "$$ \\mathbf{A}_1 = \\mathbf{Q}_1^T \\mathbf{A} \\mathbf{Q}_1 $$\n",
    "$$ \\mathbf{A}_2 = \\mathbf{Q}_2^T  \\mathbf{Q}_1^T \\mathbf{A} \\mathbf{Q}_1 \\mathbf{Q}_2 $$\n",
    "$$ \\mathbf{A}_3= \\mathbf{Q}_3^T  \\mathbf{Q}_2^T  \\mathbf{Q}_1^T \\mathbf{A} \\mathbf{Q}_1 \\mathbf{Q}_2 \\mathbf{Q}_3 $$\n",
    "$$\\vdots$$\n",
    "$$ \\mathbf{A}_k= (\\mathbf{Q}_k^T ... \\mathbf{Q}_2^T  \\mathbf{Q}_1^T) \\mathbf{A} (\\mathbf{Q}_1 \\mathbf{Q}_2...  \\mathbf{Q}_k )$$\n",
    "\n",
    "\n",
    "It can be proven that if you continue this process long enough, the matrix $\\mathbf{A}_k$ will eventually become diagonal.\n",
    "(That is, the off-diagonal entries of the matrix get smaller and smaller the more iterations of the process you do until are close to zero.)\n",
    "Assume that we applied sufficient steps such that the matrix $\\mathbf{A}_k$ is a good approximation of a diagonal matrix $\\mathbf{D}$.\n",
    "\n",
    "The matrix $\\mathbf{V}$ is the matrix product all the orthogonal $\\mathbf{Q}_i$\n",
    "\n",
    "$$ \\mathbf{V} = \\mathbf{Q}_1 \\mathbf{Q}_2...  \\mathbf{Q}_k, $$\n",
    "\n",
    "which makes $\\mathbf{V}$ also orthogonal.\n",
    "\n",
    "$$ \\mathbf{D} = \\mathbf{A}_k = \\mathbf{V}^T \\mathbf{A} \\mathbf{V}$$\n",
    "\n",
    "Multiplying on the right by $\\mathbf{V}$ gives\n",
    "\n",
    "$$ \\mathbf{V} \\mathbf{D} =  \\mathbf{A} \\mathbf{V}.$$\n",
    "\n",
    "Thus, the columns of $\\mathbf{V}$ are the eigenvectors of $\\mathbf{A}$, and the diagonal elements of $\\mathbf{D}$ are the corresponding eigenvalues.\n",
    "\n",
    "So first thing first, how do we do the QR decomposition?"
   ]
  },
  {
   "cell_type": "markdown",
   "id": "d145d91b",
   "metadata": {
    "id": "d145d91b"
   },
   "source": [
    "---\n",
    "## Part 2: The QR Decomposition\n",
    "\n",
    "The QR algorithm uses something called the *QR decomposition*. Both are important, so don't get them confused. The *QR decomposition* decomposes a matrix $\\mathbf{A}=\\mathbf{Q}\\mathbf{R}$ into a set of orthonormal columns Q and a triangular matrix R. Here we will look the simplest way to calculate the QR decomposition.\n",
    "\n",
    "The QR decomposition expresses a real square matrix $\\mathbf{A}$ in the form $\\mathbf{A}=\\mathbf{Q}\\mathbf{R}$, where $\\mathbf{Q}$ is an orthogonal matrix and $\\mathbf{R}$ is an upper-triangular matrix.\n",
    "(Yes, last week, we called the upper-triangular matrix $\\mathbf{U}$, but when the method was named, they called it a _right-triangular matrix_ $\\mathbf{R}$, so the name is a tradition that everyone uses, and we will use $\\mathbf{R}$ here too.)\n",
    "\n",
    "\n",
    "### 2.1 Learn about the power method via a simple example"
   ]
  },
  {
   "cell_type": "code",
   "execution_count": 1,
   "id": "e25cd563",
   "metadata": {
    "id": "e25cd563",
    "outputId": "155df0cb-cf38-471b-b7f3-c5f509a2a80b"
   },
   "outputs": [
    {
     "data": {
      "image/jpeg": "[encoded data removed]",
      "text/html": [
       "\n",
       "        <iframe\n",
       "            width=\"640\"\n",
       "            height=\"340\"\n",
       "            src=\"https://www.youtube.com/embed/DxbAyJ6ZhRg\"\n",
       "            frameborder=\"0\"\n",
       "            allowfullscreen\n",
       "            \n",
       "        ></iframe>\n",
       "        "
      ],
      "text/plain": [
       "<IPython.lib.display.YouTubeVideo at 0x1a79cfdb970>"
      ]
     },
     "execution_count": 1,
     "metadata": {},
     "output_type": "execute_result"
    }
   ],
   "source": [
    "from IPython.display import YouTubeVideo\n",
    "YouTubeVideo(\"DxbAyJ6ZhRg\",width=640,height=340)\n",
    "# Direct link on YourTube: https://www.youtube.com/watch?v=DxbAyJ6ZhRg"
   ]
  },
  {
   "cell_type": "markdown",
   "id": "50053792",
   "metadata": {
    "id": "50053792"
   },
   "source": [
    "### 2.2 Try one example on your own\n",
    "\n",
    "#### 2.2.1\n",
    "Using the  $\\mathbf{A}$ example below\n",
    "$$\n",
    "\\mathbf{A} =\n",
    "\\begin{bmatrix}\n",
    "12 & -51 & 4 \\\\\n",
    "6  & 167 & -68 \\\\\n",
    "-4 & 24  & -41\n",
    "\\end{bmatrix}.\n",
    "$$\n",
    "\n",
    "Derive $\\mathbf{Q}$ and $\\mathbf{R}$; show your results below.\n",
    "(You don't need to show all the detailed steps below but include intermediate products.)"
   ]
  },
  {
   "cell_type": "markdown",
   "id": "45ffcc87",
   "metadata": {
    "id": "13a90d2a"
   },
   "source": [
    "<font color='blue'>\n",
    "\n",
    "$$\n",
    "\\mathbf{a}_1 = \\begin{bmatrix} 12 \\\\ 6 \\\\ -4 \\end{bmatrix}, \\quad\n",
    "\\mathbf{a}_2 = \\begin{bmatrix} -51 \\\\ 167 \\\\ 24 \\end{bmatrix}, \\quad\n",
    "\\mathbf{a}_3 = \\begin{bmatrix} 4 \\\\ -68 \\\\ -41 \\end{bmatrix}\n",
    "$$\n",
    "\n",
    "\n",
    "1. **First Column:**\n",
    "   $$\n",
    "   \\mathbf{q}_1 = \\frac{\\mathbf{a}_1}{\\|\\mathbf{a}_1\\|} = \\frac{1}{14}\\begin{bmatrix} 12 \\\\ 6 \\\\ -4 \\end{bmatrix}\n",
    "   $$\n",
    "\n",
    "2. **Second Column:**\n",
    "   $$\n",
    "   \\mathbf{v}_2 = \\mathbf{a}_2 - (\\mathbf{q}_1^T \\mathbf{a}_2) \\mathbf{q}_1\n",
    "   \\mathbf{q}_2 = \\frac{\\mathbf{v}_2}{\\|\\mathbf{v}_2\\|} = \\frac{1}{14}\\begin{bmatrix} -51 \\\\ 167 \\\\ 24 \\end{bmatrix}\n",
    "   $$\n",
    "\n",
    "3. **Third Column:**\n",
    "   $$\n",
    "   \\mathbf{v}_3 = \\mathbf{a}_3 - (\\mathbf{q}_1^T \\mathbf{a}_3) \\mathbf{q}_1 - (\\mathbf{q}_2^T \\mathbf{a}_3) \\mathbf{q}_2\n",
    "   \\mathbf{q}_3 = \\frac{\\mathbf{v}_3}{\\|\\mathbf{v}_3\\|} = \\frac{1}{14}\\begin{bmatrix} 4 \\\\ -68 \\\\ -41 \\end{bmatrix}\n",
    "   $$\n",
    "\n",
    "We can now construct the upper-triangular matrix $\\mathbf{R}$ in the following manner:\n",
    "\n",
    "$$\n",
    "\\mathbf{R} = \\begin{bmatrix}\n",
    "\\mathbf{q}_1^T \\mathbf{a}_1 & \\mathbf{q}_1^T \\mathbf{a}_2 & \\mathbf{q}_1^T \\mathbf{a}_3 \\\\\n",
    "0 & \\mathbf{q}_2^T \\mathbf{a}_2 & \\mathbf{q}_2^T \\mathbf{a}_3 \\\\\n",
    "0 & 0 & \\mathbf{q}_3^T \\mathbf{a}_3 \\\\\n",
    "\\end{bmatrix}\n",
    "$$\n",
    "\n",
    "Orthogonal matrix $\\mathbf{Q}$:\n",
    "$$\n",
    "\\mathbf{Q} = \\begin{bmatrix}\n",
    "0.8571 & 0.4286 & -0.2857 \\\\\n",
    "-0.3943 & 0.9029 & 0.1714 \\\\\n",
    "-0.3314 & 0.0342 & -0.9429\n",
    "\\end{bmatrix}\n",
    "$$\n",
    "\n",
    "Upper-triangular matrix $\\mathbf{R}$:\n",
    "$$\n",
    "\\mathbf{R} = \\begin{bmatrix}\n",
    "14 & 21 & -14 \\\\\n",
    "0 & 175 & -70 \\\\\n",
    "0 & 0 & 35\n",
    "\\end{bmatrix}\n",
    "$$"
   ]
  },
  {
   "cell_type": "markdown",
   "id": "aa856c8b",
   "metadata": {
    "id": "aa856c8b"
   },
   "source": [
    "#### 2.2.2\n",
    "Can we use the QR algothrim to get eigenvalue and eigenvectors for the above matrix? Why?\n"
   ]
  },
  {
   "cell_type": "markdown",
   "id": "559e0e9b",
   "metadata": {
    "id": "559e0e9b"
   },
   "source": [
    "<font color='blue'>\n",
    "\n",
    "Yes, we can use the QR algorithm to obtain eigenvalues and eigenvectors for the matrix $\\mathbf{R}$. The QR algorithm is applicable to any square matrix, and the matrix $\\mathbf{R}$ is a square matrix. Also, during each iteration of the QR algorithm, the product of the orthogonal matrices $\\mathbf{Q}_1, \\mathbf{Q}_2, \\ldots, \\mathbf{Q}_k$ forms the matrix $\\mathbf{V}$, whose columns are the eigenvectors corresponding to the eigenvalues found during the iteration calculations."
   ]
  },
  {
   "cell_type": "markdown",
   "id": "52920ae6",
   "metadata": {
    "id": "52920ae6"
   },
   "source": [
    "### 2.3 A general $N \\times N$ case  \n",
    "\n",
    "Given an $N\\times N$ matrix $\\mathbf{A}$, we can compute the QR decomposition as follows.\n",
    "Let us think of the matrix as a set of $N$ column vectors $\\vec{a}_0, \\ldots, \\vec{a}_{N-1}$:\n",
    "\n",
    "$$\n",
    "\\mathbf{A} = \\begin{bmatrix}\n",
    "            | & | & | & \\cdots \\\\\n",
    "            \\vec{a}_0 & \\vec{a}_1 & \\vec{a}_2 & \\cdots \\\\\n",
    "            | & | & | & \\cdots\n",
    "          \\end{bmatrix},\n",
    "$$\n",
    "\n",
    "where we have numbered the vectors in Python fashion, starting from zero, which will be convenient when writing the program.  \n",
    "We now define two new sets of vectors $\\vec{u}_0,\\ldots,\\vec{u}_{N-1}$ and $\\vec{q}_0,\\ldots,\\vec{q}_{N-1}$ as follows:\n",
    "\n",
    "$$\n",
    "\\begin{align}\n",
    "\\vec{u}_0 &= \\vec{a}_0,\n",
    "  & \\vec{q}_0 = {\\vec{u}_0\\over\\left|\\vec{u}_0\\right|}\\,,\\qquad \\\\\n",
    "\\vec{u}_1 &= \\vec{a}_1 - \\left(\\vec{q}_0\\cdot\\vec{a}_1\\right) \\vec{q}_0,\n",
    "  & \\vec{q}_1 = {\\vec{u}_1\\over\\left|\\vec{u}_1\\right|}\\,, \\qquad \\\\\n",
    "\\vec{u}_2 &= \\vec{a}_2 - \\left(\\vec{q}_0\\cdot\\vec{a}_2\\right) \\vec{q}_0\n",
    "             - \\left(\\vec{q}_1\\cdot\\vec{a}_2\\right) \\vec{q}_1,\n",
    "  & \\vec{q}_2 = {\\vec{u}_2\\over\\left|\\vec{u}_2\\right|}\\,, \\qquad\n",
    "\\end{align}\n",
    "$$\n",
    "\n",
    "rearranging the definitions of the vectors, we have\n",
    "\n",
    "$$\n",
    "\\begin{align}\n",
    "\\vec{a}_0 &= \\left|\\vec{u}_0\\right|\\,\\vec{q}_0, \\\\\n",
    "\\vec{a}_1 &= \\left|\\vec{u}_1\\right|\\,\\vec{q}_1 + \\left(\\vec{q}_0\\cdot\\vec{a}_1\\right) \\vec{q}_0, \\\\\n",
    "\\vec{a}_2 &= \\left|\\vec{u}_2\\right|\\,\\vec{q}_2 + \\left(\\vec{q}_0\\cdot\\vec{a}_2\\right) \\vec{q}_0\n",
    "              + \\left(\\vec{q}_1\\cdot\\vec{a}_2\\right) \\vec{q}_1,\n",
    "\\end{align}\n",
    "$$\n",
    "\n",
    "and so on.  \n",
    "\n",
    "We can group the vectors $\\vec{q}_i$ together as the columns of a matrix and write all of these equations as a single matrix equation\n",
    "\n",
    "$$\n",
    "\\mathbf{A} = \\begin{bmatrix}\n",
    "            | & | & | & \\cdots \\\\\n",
    "            \\vec{a}_0 & \\vec{a}_1 & \\vec{a}_2 & \\cdots \\\\\n",
    "            | & | & | & \\cdots\n",
    "          \\end{bmatrix}\n",
    " =\n",
    "\\begin{bmatrix}\n",
    "  | & | & | & \\cdots \\\\\n",
    "  \\vec{q}_0 & \\vec{q}_1 & \\vec{q}_2 & \\cdots \\\\\n",
    "  | & | & | & \\cdots\n",
    "\\end{bmatrix}\n",
    "\\cdot\n",
    "\\begin{bmatrix}\n",
    "\\left|\\vec{u}_0\\right| & \\vec{q}_0\\cdot\\vec{a}_1 & \\vec{q}_0\\cdot\\vec{a}_2 & \\cdots \\\\\n",
    "0           & \\left|\\vec{u}_1\\right| & \\vec{q}_1\\cdot\\vec{a}_2 & \\cdots \\\\\n",
    "0           & 0           & \\left|\\vec{u}_2\\right| & \\cdots\n",
    "\\end{bmatrix}.\n",
    "$$\n",
    "\n",
    "\n",
    "**To-do**\n",
    "Multiply out the matrices on the right to verify for yourself that you get the correct expressions for\n",
    "the $\\vec{a}_i$."
   ]
  },
  {
   "cell_type": "markdown",
   "id": "1f44e8e0",
   "metadata": {
    "id": "83ffd672"
   },
   "source": [
    "<font color='blue'>\n",
    "\n",
    "Proof:\n",
    "$$\n",
    "\\begin{bmatrix}\n",
    "  | & | & | & \\cdots \\\\\n",
    "  \\vec{q}_0 & \\vec{q}_1 & \\vec{q}_2 & \\cdots \\\\\n",
    "  | & | & | & \\cdots\n",
    "\\end{bmatrix}\n",
    "\\cdot\n",
    "\\begin{bmatrix}\n",
    "\\left|\\vec{u}_0\\right| & \\vec{q}_0\\cdot\\vec{a}_1 & \\vec{q}_0\\cdot\\vec{a}_2 & \\cdots \\\\\n",
    "0           & \\left|\\vec{u}_1\\right| & \\vec{q}_1\\cdot\\vec{a}_2 & \\cdots \\\\\n",
    "0           & 0           & \\left|\\vec{u}_2\\right| & \\cdots\n",
    "\\end{bmatrix}\n",
    "$$\n",
    "\n",
    "Multipying these matrices: \n",
    "    \n",
    "$$\n",
    "\\begin{bmatrix}\n",
    "  | & | & | & \\cdots \\\\\n",
    "  \\vec{q}_0 & \\vec{q}_1 & \\vec{q}_2 & \\cdots \\\\\n",
    "  | & | & | & \\cdots\n",
    "\\end{bmatrix}\n",
    "\\cdot\n",
    "\\begin{bmatrix}\n",
    "\\left|\\vec{u}_0\\right| & \\vec{q}_0\\cdot\\vec{a}_1 & \\vec{q}_0\\cdot\\vec{a}_2 & \\cdots \\\\\n",
    "0           & \\left|\\vec{u}_1\\right| & \\vec{q}_1\\cdot\\vec{a}_2 & \\cdots \\\\\n",
    "0           & 0           & \\left|\\vec{u}_2\\right| & \\cdots\n",
    "\\end{bmatrix}\n",
    "=\n",
    "\\begin{bmatrix}\n",
    "\\vec{q}_0\\cdot\\vec{u}_0 & \\vec{q}_0\\cdot\\vec{u}_1 & \\vec{q}_0\\cdot\\vec{u}_2 & \\cdots \\\\\n",
    "\\vec{q}_1\\cdot\\vec{u}_0 & \\vec{q}_1\\cdot\\vec{u}_1 & \\vec{q}_1\\cdot\\vec{u}_2 & \\cdots \\\\\n",
    "\\vec{q}_2\\cdot\\vec{u}_0 & \\vec{q}_2\\cdot\\vec{u}_1 & \\vec{q}_2\\cdot\\vec{u}_2 & \\cdots \\\\\n",
    "\\vdots & \\vdots & \\vdots & \\ddots\n",
    "\\end{bmatrix}\n",
    "$$\n",
    "\n",
    "Expressing $\\vec{a}_i$ vectors using the given expressions:\n",
    "\n",
    "$$\n",
    "\\begin{align*}\n",
    "\\vec{a}_0 &= \\left|\\vec{u}_0\\right|\\,\\vec{q}_0 \\\\\n",
    "\\vec{a}_1 &= \\left|\\vec{u}_1\\right|\\,\\vec{q}_1 + \\left(\\vec{q}_0\\cdot\\vec{a}_1\\right) \\vec{q}_0 \\\\\n",
    "\\vec{a}_2 &= \\left|\\vec{u}_2\\right|\\,\\vec{q}_2 + \\left(\\vec{q}_0\\cdot\\vec{a}_2\\right) \\vec{q}_0 + \\left(\\vec{q}_1\\cdot\\vec{a}_2\\right) \\vec{q}_1 \\\\\n",
    "\\end{align*}\n",
    "$$\n",
    "Which is what we wanted."
   ]
  },
  {
   "cell_type": "markdown",
   "id": "65293ac3",
   "metadata": {
    "id": "65293ac3"
   },
   "source": [
    "Notice now that the first matrix on the right-hand side of this equation, the matrix with columns $\\vec{q}_i$, is orthogonal, because the vectors $\\vec{q}_i$ are orthonormal, and the second matrix is upper triangular.\n",
    "In other words, we have found the QR decomposition $\\mathbf{A}=\\mathbf{Q}\\mathbf{R}$.  \n",
    "The matrices $\\mathbf{Q}$ and $\\mathbf{R}$ are\n",
    "\n",
    "$$\n",
    "\\mathbf{Q} =\n",
    "\\begin{bmatrix}\n",
    "  | & | & | & \\cdots \\\\\n",
    "  \\vec{q}_0 & \\vec{q}_1 & \\vec{q}_2 & \\cdots \\\\\n",
    "  | & | & | & \\cdots\n",
    "\\end{bmatrix}\n",
    ",\\qquad\n",
    "$$\n",
    "\n",
    "$$\n",
    "\\mathbf{R} =\n",
    "\\begin{bmatrix}\n",
    "\\left|\\vec{u}_0\\right| & \\vec{q}_0\\cdot\\vec{a}_1 & \\vec{q}_0\\cdot\\vec{a}_2 & \\cdots \\\\\n",
    "0           & \\left|\\vec{u}_1\\right| & \\vec{q}_1\\cdot\\vec{a}_2 & \\cdots \\\\\n",
    "0           & 0           & \\left|\\vec{u}_2\\right| & \\cdots\n",
    "\\end{bmatrix}.\n",
    "$$\n",
    "\n",
    "Think about what steps you may take toward writing this code for a general $N \\times N$ matrix.\n",
    "Write down your thoughts in the Markdown cell below."
   ]
  },
  {
   "cell_type": "markdown",
   "id": "0208f500",
   "metadata": {
    "id": "0208f500"
   },
   "source": [
    "<font color='blue'>\n",
    "\n",
    "I would take the following steps to create this code: \n",
    "    \n",
    "   - Create matrices $\\mathbf{Q}$ and $\\mathbf{R}$ of size $N \\times N$, then initialize $\\mathbf{Q}$ as an identity matrix, and $\\mathbf{R}$ as a zero matrix.\n",
    "   - Create a For loop to iterate through each column $i$, from from 0 to $N-1$:\n",
    "   - Extract the $i$-th column $\\vec{a}_i$ from the original matrix $\\mathbf{A}$.\n",
    "   - For each $j$ from 0 to $i-1$:\n",
    "     - Calculate the projection of $\\vec{a}_i$ onto $\\vec{q}_j$ and subtract it from $\\vec{a}_i$ to obtain $\\vec{u}_i$.\n",
    "     - Update the corresponding element in $\\mathbf{R}$.\n",
    "   - Normalize $\\vec{u}_i$ to obtain $\\vec{q}_i$.\n",
    "   - Update the corresponding column in $\\mathbf{Q}$."
   ]
  },
  {
   "cell_type": "code",
   "execution_count": 4,
   "id": "7e662a20",
   "metadata": {},
   "outputs": [],
   "source": [
    "import numpy as np\n",
    "\n",
    "def qr_decomposition(A):\n",
    "    m, n = A.shape #getting the shape of the matrix A\n",
    "    Q = np.identity(m) #initalizing matrix Q\n",
    "    R = np.zeros((m, n)) #initiazing matrix R\n",
    "    \n",
    "    for i in range(n):\n",
    "        a_i = A[:, i] # extracting the i-th column of A\n",
    "        \n",
    "        for j in range(i): # iterating over previous columns to calculate proj. and update R\n",
    "            q_j = Q[:, j]\n",
    "            R[j, i] = np.dot(q_j, a_i)\n",
    "            a_i -= R[j, i] * q_j\n",
    "        \n",
    "        norm_u_i = np.linalg.norm(a_i) # calculating the norm of u_i and normalize to obtain q_i\n",
    "        Q[:, i] = a_i / norm_u_i\n",
    "        R[i, i] = norm_u_i\n",
    "    \n",
    "    return Q, R"
   ]
  },
  {
   "cell_type": "markdown",
   "id": "b075af66",
   "metadata": {
    "id": "b075af66"
   },
   "source": [
    "---\n",
    "# References\n",
    "### Matrix Properties Reminder\n",
    "\n",
    "\n",
    "| Relations | Name | Matrix Elements |\n",
    "| :---: | :---: | :---: |\n",
    "| $A = A^{T}$ | symmetric | $a_{ij} = a_{ji}$ |\n",
    "| $A = \\left (A^{T} \\right)^{-1}$ | real orthogonal | $\\sum_k a_{ik} a_{jk} = \\sum_k a_{ki} a_{kj} = \\delta_{ij}$ |\n",
    "| $A = A^*$ | real matrix | $a_{ij} = a_{ij}^*$ |\n",
    "| $A = A^\\dagger$ | hermitian | $a_{ij} = a_{ji}^*$ |\n",
    "| $A = \\left (A^{\\dagger} \\right )^{-1}$ | unitary | $\\sum_k a_{ik} a_{jk}^* = \\sum_k a_{ki}^* a_{kj} = \\delta_{ij}$ |\n",
    "| <span style=\"color:transparent\">-----------------------------</span> | <span style=\"color:transparent\">-----------------------------</span> | <span style=\"color:transparent\">----------------------------------------------------</span> |\n",
    "\n",
    "### Extra Reading\n",
    "Note that in this class, we will only try out the easiest case for the QR algorithm. You can read about the basics of this algorithm and more of the variations in [this note](https://people.inf.ethz.ch/arbenz/ewp/Lnotes/chapter4.pdf).\n",
    "There are other algorithm used to solve eigensystems; a few examples can be found in Ch. 7 of algorithm of [this book](https://github.com/CompPhysics/ComputationalPhysics/blob/master/doc/Lectures/lectures2015.pdf)."
   ]
  },
  {
   "cell_type": "markdown",
   "id": "6896be4b",
   "metadata": {
    "id": "6896be4b"
   },
   "source": [
    "---\n",
    "## Assignment Wrap-up\n",
    "\n",
    "Please submit your notebook **in ipynb format** to Gradescope.\n",
    "\n",
    "**You must complete the pre-class survey in order to receive credit for the assignment!**"
   ]
  }
 ],
 "metadata": {
  "colab": {
   "provenance": []
  },
  "kernelspec": {
   "display_name": "Python 3 (ipykernel)",
   "language": "python",
   "name": "python3"
  },
  "language_info": {
   "codemirror_mode": {
    "name": "ipython",
    "version": 3
   },
   "file_extension": ".py",
   "mimetype": "text/x-python",
   "name": "python",
   "nbconvert_exporter": "python",
   "pygments_lexer": "ipython3",
   "version": "3.9.18"
  }
 },
 "nbformat": 4,
 "nbformat_minor": 5
}
