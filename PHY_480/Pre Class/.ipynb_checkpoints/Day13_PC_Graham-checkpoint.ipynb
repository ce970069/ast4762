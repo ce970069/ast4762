{
 "cells": [
  {
   "cell_type": "markdown",
   "id": "e8d29321",
   "metadata": {
    "id": "e8d29321"
   },
   "source": [
    "# Day 13 Pre-Class Assignment: Ordinary Differential Equations II\n",
    "### <p style=\"text-align: right;\"> &#9989; Cesarine Graham.</p>"
   ]
  },
  {
   "cell_type": "markdown",
   "id": "00c4241f",
   "metadata": {
    "id": "00c4241f"
   },
   "source": [
    "\n",
    "## Goals of this assignment\n",
    "\n",
    "The goals of this assignment are:\n",
    "\n",
    "* Learn about how to solve higher-order differential equations\n",
    "* Descent method (and other methods for solving differential equations)\n",
    "\n",
    "## Assignment instructions\n",
    "\n",
    "Upload the assignment to Gradescope before 11:50PM the day before the next class and fill out the pre-class survey."
   ]
  },
  {
   "cell_type": "markdown",
   "id": "014fead4",
   "metadata": {
    "id": "014fead4"
   },
   "source": [
    "---\n",
    "## Part 1: Higher-Order Differential Equations\n",
    "So far, we have looked at first-order differential equations, but first-order equations are quite rare in physics.\n",
    "Many, perhaps most of the equations encountered in physics are second-order or higher.\n",
    "Luckily, now that we know how to solve first-order equations, solving second-order (or higher) ones is pretty easy, because of the following trick."
   ]
  },
  {
   "cell_type": "markdown",
   "id": "fa345f22",
   "metadata": {
    "id": "fa345f22"
   },
   "source": [
    "### 1.1 Second-order differential equations\n",
    "Consider first the simple case where there is only one dependent variable $x$.\n",
    "The general form of a second-order differential equation with one variable is\n",
    "\n",
    "$$ \\frac{d^2x}{dt^2} = f\\left(x,\\frac{dx}{dt},t\\right)$$\n",
    "\n",
    "We can define\n",
    "\n",
    "$$\\begin{align}\n",
    "\\frac{dx}{dt} &= y \\\\\n",
    "\\frac{dy}{dt} &= f\\left(x,y,t\\right)\n",
    "\\end{align}$$\n",
    "\n",
    "Now, the second-order differential equations are reduced to two simultaneous first-order equations that we know how to from solve in the previous in-class notebook."
   ]
  },
  {
   "cell_type": "markdown",
   "id": "cc5dfdc8",
   "metadata": {
    "id": "cc5dfdc8"
   },
   "source": [
    "### 1.2 Higher-order differential equations\n",
    "We can repeat the same trick for higher-order equations.\n",
    "For example, a third-order differential equation is\n",
    "\n",
    "$$ \\frac{d^3x}{dt^3} = f\\left(x,\\frac{dx}{dt}, \\frac{d^2x}{dt^2},t\\right).$$\n",
    "\n",
    "Rearrange in terms of two new variables:\n",
    "\n",
    "$$\\begin{align}\n",
    "\\frac{dx}{dt} &= y \\\\\n",
    "\\frac{dy}{dt} &= z \\\\\n",
    "\\frac{dz}{dt} &= f\\left(x,y,z,t\\right).\n",
    "\\end{align}$$\n",
    "\n",
    "Once again, we can solve one third-order  differential equation with three simultaneous first-order equations.\n",
    "One can continue the above approach to even higher orders, although the equations of order higher than three are rare in physics."
   ]
  },
  {
   "cell_type": "markdown",
   "id": "1b8adff9",
   "metadata": {
    "id": "1b8adff9"
   },
   "source": [
    "### 1.3 Higher-order differential multi-variable equations\n",
    "The method can be generalized in a straightforward manner to equations with more than one variable.\n",
    "The variables become vectors, but the basic equations are the same as above.\n",
    "A set of simultaneous second-order equations can be written in vector form as\n",
    "\n",
    "$$  \\frac{d^2 \\mathbf{r} }{d t^2} = \\mathbf{f} \\left(\\mathbf{r},\\frac{d \\mathbf{r} }{d t}, t\\right),$$\n",
    "\n",
    "which is equivalent to sets of first-order equations:\n",
    "\n",
    "$$\\begin{align}\n",
    "\\frac{d \\mathbf{r} }{d t} &=  \\mathbf{s} \\\\\n",
    "\\frac{d \\mathbf{s} }{d t} &= \\mathbf{f} (\\mathbf{r},\\mathbf{s} , t)\n",
    "\\end{align}$$\n",
    "\n",
    "If we started off with two simultaneous second-order equations, we would end up with four simultaneous first-order equations.\n",
    "More generally, an initial system of $n$ equations of $m$th order becomes a system of $m \\times n$ simultaneous first-order equations, which we can solve by the standard methods."
   ]
  },
  {
   "cell_type": "markdown",
   "id": "40097a48",
   "metadata": {
    "id": "40097a48"
   },
   "source": [
    "### 1.4 A physics example\n",
    "A standard problem in physics is the linear pendulum, where you approximate the behavior of a pendulum by a linear differential equation that can be solved exactly.\n",
    "However, a real pendulum is nonlinear.\n",
    "Consider a pendulum with an arm of length $l$ holding a bob of mass $m$ as shown in the figure below:\n",
    "\n",
    "https://mathematicalgarden.files.wordpress.com/2009/03/pendulum-definition1.png?w=300&h=229\n",
    "  \n",
    "In terms of the angle $\\theta$ of displacement of the arm from the vertical, the acceleration of the mass is\n",
    "\n",
    "$$l \\frac{d^2 \\theta}{dt^2}$$\n",
    "\n",
    "in the tangential direction.\n",
    "Meanwhile the force on the mass is vertically downward with magnitude $mg$ where $g=9.98 \\text{ ms}^{-2}$ is the acceleration due to gravity.\n",
    "For simplicity, we are ignoring friction and assuming the arm to be massless.\n",
    "\n",
    "The component of this force in the tangential direction is $mg\\sin(\\theta)$, always toward the rest point at $\\theta=0$, so Newton's second law gives us an equation of motion for the pendulum of the form\n",
    "\n",
    "$$ m l \\frac{d^2 \\theta}{dt^2} = -mg \\sin(\\theta) $$\n",
    "\n",
    "or equivalently\n",
    "\n",
    "$$ \\frac{d^2 \\theta}{dt^2} = -\\frac{g}{l} \\sin(\\theta) $$\n",
    "  \n",
    "Because it is nonlinear, it is not easy to solve this equation analytically, and no exact solution is known.\n",
    "On the other hand, a numerical solution on the computer is straightforward.\n",
    "\n",
    "We first use the trick to transform the second-order equation into two first-order equations by defining a new variable\n",
    "\n",
    "$$ \\frac{d \\theta}{dt} = \\omega $$\n",
    "\n",
    "and\n",
    "\n",
    "$$ \\frac{d\\omega}{dt} = -\\frac{g}{l} \\sin(\\theta). $$\n",
    "\n",
    "Now, we combine the two variables $\\theta$ and $\\omega$ into a single vector $\\mathbf{r} = (\\theta,\\omega)$ and apply the 4th-order Runge-Kutta method in its vector form to solve two equations simultaneously.\n",
    "In the end, we are only interested in the solution for $\\theta$.\n",
    "\n",
    "### 1.4.1 Complete the $\\mathbf{f}$ function\n",
    "The steps toward solving the equations are similar to the example shown in the previous in-class notebook.\n",
    "First we need to redefine the $\\mathbf{f}$ function."
   ]
  },
  {
   "cell_type": "code",
   "execution_count": 4,
   "id": "9a55aa76",
   "metadata": {
    "id": "9a55aa76"
   },
   "outputs": [],
   "source": [
    "# complete the code below\n",
    "\n",
    "import numpy as np\n",
    "l = 0.1 # in m; the arm of the pendulum is 10cm long\n",
    "g = 9.81 # in m/s^2\n",
    "def f(r, t):\n",
    "    theta = r[0]\n",
    "    omega = r[1]\n",
    "    dtheta_dt = omega # \\frac{d\\theta}{dt}\n",
    "    domega_dt = -(g / l) * np.sin(theta) # \\frac{d\\omega}{dt}\n",
    "    return np.array([dtheta_dt,domega_dt], float)"
   ]
  },
  {
   "cell_type": "markdown",
   "id": "7fec3c8d",
   "metadata": {
    "id": "7fec3c8d"
   },
   "source": [
    " ### 1.4.2 Solve the equations\n",
    "\n",
    "Now, write code below to solve the two first-order equations using the fourth-order Runge--Kutta method.\n",
    "\n",
    "_Hint: You can find an example of how to solve multi-variable first-order equations in a previous in-class notebook. You can copy-paste and reuse most of that code._\n",
    "\n",
    "Use your program to calculate the displacement angle $\\theta$ for several periods of the pendulum, when it is released from a standstill at $\\theta=179^\\circ$ from the vertical.  \n",
    "  \n",
    "Make a graph of $\\theta$ as a function of time."
   ]
  },
  {
   "cell_type": "code",
   "execution_count": 5,
   "id": "d270d832",
   "metadata": {
    "id": "d270d832"
   },
   "outputs": [
    {
     "data": {
      "image/png": "[encoded data removed]",
      "text/plain": [
       "<Figure size 640x480 with 1 Axes>"
      ]
     },
     "metadata": {},
     "output_type": "display_data"
    }
   ],
   "source": [
    "# put your code here\n",
    "\n",
    "import numpy as np\n",
    "import matplotlib.pyplot as plt\n",
    "\n",
    "# initial condiitons\n",
    "l = 0.1  # arm length [m]\n",
    "g = 9.81  # acceleration [m/s^2]\n",
    "theta0 = 179 * np.pi / 180  # initial angle [radians]\n",
    "omega0 = 0.0  # initial angular velocity [rad/s]\n",
    "\n",
    "# time parameters\n",
    "T = 2 * np.pi * np.sqrt(l / g)  # period of the pendulum\n",
    "a = 0.0  # starting time\n",
    "b = 5 * T  # ending time\n",
    "\n",
    "# function to calculate derivatives\n",
    "def f(r, t):\n",
    "    theta = r[0]\n",
    "    omega = r[1]\n",
    "    dtheta_dt = omega\n",
    "    domega_dt = -(g / l) * np.sin(theta)\n",
    "    return np.array([dtheta_dt, domega_dt], float)\n",
    "\n",
    "# using the Runge-Kutta method\n",
    "def runge_kutta(h, N):\n",
    "    tpoints = np.arange(a, b, h)\n",
    "    xpoints = []\n",
    "    r = np.array([theta0, omega0], float)\n",
    "    for t in tpoints:\n",
    "        xpoints.append(r[0])\n",
    "        k1 = h * f(r, t)\n",
    "        k2 = h * f(r + 0.5 * k1, t + 0.5 * h)\n",
    "        k3 = h * f(r + 0.5 * k2, t + 0.5 * h)\n",
    "        k4 = h * f(r + k3, t + h)\n",
    "        r += (k1 + 2 * k2 + 2 * k3 + k4) / 6\n",
    "    return tpoints, xpoints\n",
    "\n",
    "# number of steps\n",
    "N = 500\n",
    "h = (b - a) / N\n",
    "\n",
    "# calculating the results\n",
    "tpoints, xpoints = runge_kutta(h, N)\n",
    "\n",
    "#plotting the results\n",
    "plt.plot(tpoints, xpoints)\n",
    "plt.xlabel('Time (s)')\n",
    "plt.ylabel('Angle (radians)')\n",
    "plt.title('Pendulum Motion')\n",
    "plt.grid()\n",
    "plt.show()"
   ]
  },
  {
   "cell_type": "markdown",
   "id": "4c6b90ef",
   "metadata": {
    "id": "4c6b90ef"
   },
   "source": [
    "------\n",
    "# Part 2: Methods for Solving Differential Equations\n",
    "\n",
    "## 2.1 Secant method\n",
    "You will be given code to use secant method for the in-class assignment to solve for energy eigenvalues.\n",
    "Watch the following video to prepare yourself for the in-class activities."
   ]
  },
  {
   "cell_type": "code",
   "execution_count": 6,
   "id": "c3d54d20",
   "metadata": {
    "id": "c3d54d20",
    "outputId": "1e177183-aa21-4a1d-8d98-be1dc1152e18"
   },
   "outputs": [
    {
     "data": {
      "image/jpeg": "[encoded data removed]",
      "text/html": [
       "\n",
       "        <iframe\n",
       "            width=\"640\"\n",
       "            height=\"340\"\n",
       "            src=\"https://www.youtube.com/embed/Zz8AYQ8c5-U\"\n",
       "            frameborder=\"0\"\n",
       "            allowfullscreen\n",
       "            \n",
       "        ></iframe>\n",
       "        "
      ],
      "text/plain": [
       "<IPython.lib.display.YouTubeVideo at 0x1b541d86910>"
      ]
     },
     "execution_count": 6,
     "metadata": {},
     "output_type": "execute_result"
    }
   ],
   "source": [
    "from IPython.display import YouTubeVideo\n",
    "YouTubeVideo(\"Zz8AYQ8c5-U\",width=640,height=340)\n",
    "# Direct link on YourTube: https://www.youtube.com/watch?v=Zz8AYQ8c5-U"
   ]
  },
  {
   "cell_type": "markdown",
   "id": "0c514de3",
   "metadata": {
    "id": "0c514de3"
   },
   "source": [
    "\n",
    "\n",
    "## 2.2 (Optional) Other methods for differential equations\n",
    "\n",
    "There are other methods used to solve differential equations that we don't have time to cover in this class.\n",
    "If you are interested, you can read more about them in Chapter 8 in https://github.com/CompPhysics/ComputationalPhysics/blob/master/doc/Lectures/lectures2015.pdf\n",
    "This covers techniques such as:\n",
    " * Verlet algorithm\n",
    " * Leapfrog algorithm\n",
    " * Predictor-corrector method"
   ]
  },
  {
   "cell_type": "markdown",
   "id": "cbc8c3cf",
   "metadata": {
    "id": "cbc8c3cf"
   },
   "source": [
    "---\n",
    "## Assignment Wrap-up\n",
    "\n",
    "Please fill out the pre-class survey Google Form and submit your notebook in ipynb format to Gradescope.\n"
   ]
  }
 ],
 "metadata": {
  "colab": {
   "provenance": []
  },
  "kernelspec": {
   "display_name": "Python 3 (ipykernel)",
   "language": "python",
   "name": "python3"
  },
  "language_info": {
   "codemirror_mode": {
    "name": "ipython",
    "version": 3
   },
   "file_extension": ".py",
   "mimetype": "text/x-python",
   "name": "python",
   "nbconvert_exporter": "python",
   "pygments_lexer": "ipython3",
   "version": "3.9.18"
  }
 },
 "nbformat": 4,
 "nbformat_minor": 5
}
