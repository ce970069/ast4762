{
 "cells": [
  {
   "cell_type": "markdown",
   "metadata": {
    "id": "vjULRkz0mBcU"
   },
   "source": [
    "# Day 15 Pre-Class Assignment: How to Write Scientific Reports\n",
    "\n",
    "### <p style=\"text-align: right;\"> &#9989; Cesarine Graham.</p>\n",
    "\n",
    "-----------"
   ]
  },
  {
   "cell_type": "markdown",
   "metadata": {
    "id": "IowJKcUrk4Ol"
   },
   "source": [
    "## Goals of this assignment\n",
    "\n",
    "The goals of this assignment are:\n",
    "\n",
    "* Learn what to include in a scientific report\n",
    "* Set up an Overleaf account (free version)\n",
    "* Learn some basic LaTeX functions\n",
    "\n",
    "## Assignment instructions\n",
    "\n",
    "Upload the assignment to Gradescope before 11:50PM the day before the next class and fill out the pre-class survey."
   ]
  },
  {
   "cell_type": "markdown",
   "metadata": {
    "id": "ZevJfi6Nk4On"
   },
   "source": [
    "-----------\n",
    "## Part 1: What to Put into a Scientific Report\n",
    "\n",
    "### 1.1 Some basic ingredients for a successful numerical project\n",
    "\n",
    "When building a numerical project there are several elements you should think of. Here are a few to keep in mind:\n",
    "  * How to structure a code in terms of functions\n",
    "\n",
    "  * How to make a module\n",
    "\n",
    "  * How to read input data flexibly from the command line\n",
    "\n",
    "  * How to create graphical/web user interfaces\n",
    "\n",
    "  * How to write unit tests (test functions)\n",
    "\n",
    "  * How to refactor code in terms of classes (rather than collections of functions), in our case you think of a system and a solver class\n",
    "\n",
    "  * How to conduct and automate large-scale numerical experiments\n",
    "\n",
    "  * How to write scientific reports in various formats (LaTeX)"
   ]
  },
  {
   "cell_type": "markdown",
   "metadata": {
    "id": "ef_nQgf-k4On"
   },
   "source": [
    "### 1.2  What the ingredients are building\n",
    "The conventions and techniques outlined here will save you a lot of time when you incrementally extend software over time from simpler to more complicated problems.\n",
    "In particular, you will benefit from many good habits:\n",
    "* New code is added in a modular fashion to a library (modules)\n",
    "\n",
    "* Programs are run through convenient user interfaces\n",
    "\n",
    "* It takes one quick command to let all your code undergo heavy testing\n",
    "\n",
    "* Tedious manual work with running programs is automated\n",
    "\n",
    "* Your scientific investigations are reproducible\n",
    "\n",
    "* Scientific reports with top quality typesetting are produced"
   ]
  },
  {
   "cell_type": "markdown",
   "metadata": {
    "id": "wmTrX-UAk4Op"
   },
   "source": [
    "### 1.3 What should the report contain?\n",
    "\n",
    " * An abstract where you give the main summary of your work\n",
    "\n",
    " * An introduction where you explain the aims and rationale for the physics case and what you have done. At the end of the introduction you should give a brief summary of the structure of the report\n",
    "\n",
    " * Theoretical models and technicalities. This is the methods section\n",
    "\n",
    " * Results and discussion\n",
    "\n",
    " * Conclusions and perspectives\n",
    "\n",
    " * Appendix with extra material\n",
    "\n",
    " * Bibliography\n",
    "\n",
    "Keep always a good log of what you do."
   ]
  },
  {
   "cell_type": "markdown",
   "metadata": {
    "id": "_9CZVteFk4Oq"
   },
   "source": [
    "\n",
    "----------\n",
    "## Part 2: Report Structure\n",
    "\n",
    "### 2.1 The abstract\n",
    "The abstract gives the reader a quick overview of what has been done and the most important results.\n",
    "Here is a typical example taken from a scientific article:\n",
    "\n",
    "> We study the collective motion of a suspension of rodlike microswimmers in a two-dimensional film of viscoelastic fluids. We find that the fluid elasticity has a small effect on a suspension of pullers, while it significantly affects the pushers. The attraction and orientational ordering of the pushers are enhanced in viscoelastic fluids. The induced polymer stresses break down the large-scale flow structures and suppress velocity fluctuations. In addition, the energy spectra and induced mixing in the suspension of pushers are greatly modified by fluid elasticity.\n",
    "\n",
    "### 2.2  The introduction\n",
    "**What should I focus on?**\n",
    "\n",
    "You don't need to answer all questions in a chronological order.\n",
    "When you write the introduction you should focus on the following aspects:\n",
    " * Motivation. Explain to the reader in the first part of the introduction what the reason is for doing the work; give the overarching ideas\n",
    "\n",
    " * What you have done\n",
    "\n",
    " * The structure of the report, how it is organized\n",
    "\n",
    "### 2.3  Methodology\n",
    "**What should I focus on?**\n",
    "\n",
    " * Describe the methods and algorithms\n",
    "\n",
    " * You need to explain how you implemented the methods and also say something about the structure of your algorithm and present some parts of your code\n",
    "\n",
    " * You should plug in some calculations to demonstrate your code, such as selected runs used to validate and verify your results. The latter is extremely important!!  A reader needs to understand that your code reproduces selected benchmarks and reproduces previous results, either numerical or well-known closed form expressions.\n",
    "\n",
    "### 2.4   Results and discussion\n",
    "**What should I focus on?**\n",
    "\n",
    " * Present your results\n",
    "\n",
    " * Give a critical discussion of your work and place it in the correct context.\n",
    "\n",
    " * Relate your work to other calculations/studies\n",
    "\n",
    " * The reader should be able to reproduce your calculations if she/he wants to do so. All input variables should be properly explained.\n",
    "\n",
    " * Make sure that figures and tables contain enough information in their captions, axis labels, etc. so that the reader can gain a first impression of your work by studying figures and tables only.\n",
    "\n",
    "\n",
    "### 2.5  Conclusions and perspectives\n",
    "**What should I focus on?**\n",
    "\n",
    " * Restate your main findings and interpretations\n",
    "\n",
    " * Try as far as possible to present perspectives for future work\n",
    "\n",
    " * Try to discuss the pros and cons of the methods and possible improvements\n",
    "\n",
    "\n",
    "\n",
    "### 2.6  Appendices\n",
    "**What should I focus on?**\n",
    "\n",
    " * Additional calculations used to validate the codes\n",
    "\n",
    " * Selected calculations, these can be listed with few comments\n",
    "\n",
    " * Listing of the code if you feel this is necessary\n",
    "\n",
    "You can consider moving parts of the material that are long or inessential to understanding the main result from the methods section to the appendix.\n",
    "You can also place additional material on your webpage.\n",
    "\n",
    "### 2.7  References\n",
    "**What should I focus on?**\n",
    "\n",
    " * Always cite the material you based your work on, either scientific articles/reports or books.\n",
    "\n",
    " * Remember to include works you have made comparisons to\n",
    "\n",
    " * Refer to articles as: name(s) of author(s), journal, volume (boldfaced), page and year in parenthesis.\n",
    "\n",
    " * Refer to books as: name(s) of author(s), title of book, publisher, place and year, eventual page numbers\n",
    "\n",
    "\n",
    "\n",
    "\n",
    "### 2.8  Where do I find scientific reports?\n",
    " * You can access freely all books and scientific journals available at the [University library](https://libguides.lib.msu.edu/eresources/ejournals)\n",
    "\n",
    " * For scientific articles, you can find them by searching via [Google Scholar](https://scholar.google.com)\n",
    "\n",
    " * For physics and math topics, you can find preprints on the [arXiv](https://arxiv.org)"
   ]
  },
  {
   "cell_type": "markdown",
   "metadata": {
    "id": "s6OfdiJVk4Or"
   },
   "source": [
    "----\n",
    "# Part 3: Use Overleaf to Write a Report\n",
    "Overleaf is an online LaTeX editor that's easy to use.\n",
    "It requires no installation, allows real-time collaboration and provides version control.\n",
    "\n",
    "For this class, you should create a _free_ Overleaf account (free accounts can only share with one collaborator, but that's sufficient).\n",
    "Go to [Overleaf](https://www.overleaf.com/) and register (upper-right corner) to create an account (if you don't already have one).\n",
    "During the in-class, you will be using the instructor's paid Overleaf account so that you can work with your groupmates on one writing project.\n",
    "\n",
    "If you are new to Overleaf, please watch this video to learn some basics:"
   ]
  },
  {
   "cell_type": "code",
   "execution_count": 1,
   "metadata": {
    "id": "DwwsQpynk4Os",
    "outputId": "92b080e4-cb55-4993-bf86-2da9bd32c755"
   },
   "outputs": [
    {
     "data": {
      "text/html": [
       "\n",
       "        <iframe\n",
       "            width=\"640\"\n",
       "            height=\"340\"\n",
       "            src=\"https://www.youtube.com/embed/PzDLFJHO3E\"\n",
       "            frameborder=\"0\"\n",
       "            allowfullscreen\n",
       "            \n",
       "        ></iframe>\n",
       "        "
      ],
      "text/plain": [
       "<IPython.lib.display.YouTubeVideo at 0x253d15d8400>"
      ]
     },
     "execution_count": 1,
     "metadata": {},
     "output_type": "execute_result"
    }
   ],
   "source": [
    "from IPython.display import YouTubeVideo\n",
    "YouTubeVideo(\"PzDLFJHO3E\",width=640,height=340)\n",
    "# Direct link on YouTube:\n",
    "# https://www.youtube.com/watch?v=_PzDLFJHO3E\n",
    "# https://www.youtube.com/watch?v=g8Ejj0T0yG4 (from Overleaf but not up-to-date)"
   ]
  },
  {
   "cell_type": "markdown",
   "metadata": {
    "id": "9hmL0iwZk4Ot"
   },
   "source": [
    "To complete this pre-class assignment, you should complete the following\n",
    "\n",
    "1. Create a new project (with or without a template)\n",
    "\n",
    "1. Create the sections mentioned in Part 2 in your project\n",
    "\n",
    "1. Make a list of bullet items (your plan for the project or just repeat what video shows)\n",
    "\n",
    "1. Add an equation to any of the sections\n",
    "\n",
    "1. Add a figure (a plot from a previous class, a picture from your phone, etc.)\n",
    "\n",
    "1. Add a table made up of any numbers\n",
    "\n",
    "It's not necessary to memorize all the possible commands in LaTeX (just as no one memorizes all the Python functions).\n",
    "Most of the time when we need something, we will use Google to find the right command.\n",
    "If there is a template, you can copy the example given in the template and make changes accordingly.\n",
    "As always: whenever you need something, Google is your best friend.\n",
    "\n",
    "For more reading or references, you can try \"[Learn LaTeX in 30 minutes](https://www.overleaf.com/learn/latex/Learn_LaTeX_in_30_minutes)\""
   ]
  },
  {
   "cell_type": "markdown",
   "metadata": {},
   "source": [
    "### See the attached pdf file"
   ]
  },
  {
   "cell_type": "markdown",
   "metadata": {
    "id": "BLCgFcchk4Ou"
   },
   "source": [
    "---\n",
    "# Part 4:  For Your Amusement\n",
    "\n",
    "\n",
    "### TED talk from Tim Urban \"Inside the mind of a master procrastinator\"\n",
    "Tim Urban knows that procrastination doesn't make sense, but he's never been able to shake his habit of waiting until the last minute to get things done.\n",
    "In this hilarious and insightful talk, Urban takes us on a journey through YouTube binges, Wikipedia rabbit holes and bouts of staring out the window, and encourages us to think harder about what we're really procrastinating on, before we run out of time."
   ]
  },
  {
   "cell_type": "code",
   "execution_count": null,
   "metadata": {
    "id": "WU3nrfqRk4Ou",
    "outputId": "ac2c87cf-87df-44d7-e5c2-6c321e8613d5"
   },
   "outputs": [
    {
     "data": {
      "image/jpeg": "[encoded data removed]",
      "text/html": [
       "\n",
       "        <iframe\n",
       "            width=\"640\"\n",
       "            height=\"340\"\n",
       "            src=\"https://www.youtube.com/embed/arj7oStGLkU\"\n",
       "            frameborder=\"0\"\n",
       "            allowfullscreen\n",
       "        ></iframe>\n",
       "        "
      ],
      "text/plain": [
       "<IPython.lib.display.YouTubeVideo at 0x7fcd44591b50>"
      ]
     },
     "execution_count": 3,
     "metadata": {},
     "output_type": "execute_result"
    }
   ],
   "source": [
    "from IPython.display import YouTubeVideo\n",
    "YouTubeVideo(\"arj7oStGLkU\",width=640,height=340)\n",
    "# Direct link on YourTube:  https://www.youtube.com/watch?v=arj7oStGLkU"
   ]
  },
  {
   "cell_type": "markdown",
   "metadata": {
    "id": "XWGZusBdk4Ov"
   },
   "source": [
    "---\n",
    "## Assignment Wrap-up\n",
    "\n",
    "Please fill out the pre-class survey Google Form and submit your notebook in ipynb format to Gradescope.\n"
   ]
  },
  {
   "cell_type": "code",
   "execution_count": null,
   "metadata": {
    "id": "XYUBSZ91RLO5"
   },
   "outputs": [],
   "source": []
  }
 ],
 "metadata": {
  "colab": {
   "provenance": []
  },
  "kernelspec": {
   "display_name": "Python 3 (ipykernel)",
   "language": "python",
   "name": "python3"
  },
  "language_info": {
   "codemirror_mode": {
    "name": "ipython",
    "version": 3
   },
   "file_extension": ".py",
   "mimetype": "text/x-python",
   "name": "python",
   "nbconvert_exporter": "python",
   "pygments_lexer": "ipython3",
   "version": "3.9.18"
  }
 },
 "nbformat": 4,
 "nbformat_minor": 1
}
