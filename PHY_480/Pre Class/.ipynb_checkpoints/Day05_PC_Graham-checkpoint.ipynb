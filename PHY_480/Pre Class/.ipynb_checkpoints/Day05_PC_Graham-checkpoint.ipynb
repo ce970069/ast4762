{
 "cells": [
  {
   "cell_type": "markdown",
   "id": "f1588b90",
   "metadata": {
    "id": "f1588b90"
   },
   "source": [
    "# Day 05 Pre-class Assignment: <br>Solving Linear Equations I: Forward and Back Substitution\n",
    "\n",
    "### <p style=\"text-align: right;\"> &#9989; Cesarine Graham.</p>"
   ]
  },
  {
   "cell_type": "markdown",
   "id": "510a922a",
   "metadata": {
    "id": "510a922a"
   },
   "source": [
    "## Goals of this assignment\n",
    "\n",
    "The primary goal of this assignment is to develop some of the small algorithms we will use to solve systems of linear equations using Python.\n",
    "\n",
    "* Solve simple linear equations\n",
    "* Prepare for upcoming in-class activities\n",
    "\n",
    "## Assignment instructions\n",
    "\n",
    "Upload the assignment to **Gradescope** before noon the day of the next class."
   ]
  },
  {
   "cell_type": "markdown",
   "id": "ddce48bf",
   "metadata": {
    "id": "ddce48bf"
   },
   "source": [
    "---\n",
    "## Part 0: Solving Systems of Linear Equations\n",
    "Linear algebra pops up almost everywhere in physics. Therefore the matrix-related techniques will be used repeatedly in many physics problems. This week, we will explore a few ways of solving these equations: calculating the inverse of a matrix, via Gaussian elimination and LU decomposition. Next week, we will move on to solving eigensystems of physics matrices.\n",
    "\n",
    "We will start with a simple case: triangular matrices.\n",
    "To prepare for our in-class activities exploring Gaussian elimination and LU decomposition, we will start with a couple steps needed for later:\n",
    "forward substitution and back substitution.\n",
    "\n",
    "---\n",
    "## Part 1: Forward Substitution\n",
    "\n",
    "Let's start with a lower-triangular matrix $\\mathbf{L}$. The problem we are interested in solving is\n",
    "\n",
    "$$\\mathbf{L} \\mathbf{x} = \\mathbf{b}$$\n",
    "\n",
    "Our task is to find the solution vector $\\mathbf{x}$. To give a concrete example, let us study a $3 \\times 3 $ problem:\n",
    "\n",
    "$$ \\begin{bmatrix}\n",
    "    L_{00} & 0      & 0    \\\\\n",
    "    L_{10} & L_{11} & 0    \\\\\n",
    "    L_{20} & L_{21} & L_{22}\\\\\n",
    "   \\end{bmatrix}\n",
    "    \\begin{bmatrix} x_0 \\\\ x_1 \\\\ x_2 \\\\ \\end{bmatrix}\n",
    "  = \\begin{bmatrix} b_0 \\\\ b_1 \\\\ b_2 \\\\ \\end{bmatrix}.$$\n",
    "\n",
    "This can be expanded into equation form:\n",
    "\n",
    "$$\\begin{align}\n",
    "L_{00}x_0 &= b_0 \\\\\n",
    "L_{10}x_0+L_{11}x_1 &=b_1 \\\\\n",
    "L_{20}x_0+L_{21}x_1 +L_{22}x_2 &=b_2\n",
    "\\end{align}$$\n",
    "\n",
    "It is straightforward find the solution for $\\mathbf{x}$ in this case.\n",
    "\n",
    "### Q1.1 Solve for $\\mathbf{x}$\n",
    "In the Markdown cell below, please write the solutions for $x_i$ with $i\\in\\{0,1,2\\}$."
   ]
  },
  {
   "cell_type": "markdown",
   "id": "71068b32",
   "metadata": {
    "id": "71068b32"
   },
   "source": [
    "<font size=+3>&#9998;</font> *your answer here*\n",
    "\n",
    "\\begin{align*}\n",
    "x_0 &= \\frac{b_0}{L_{00}} \\\\\n",
    "x_1 &= \\frac{b_1 - L_{10}x_0}{L_{11}} \\\\\n",
    "x_2 &= \\frac{b_2 - L_{20}x_0 - L_{21}x_1}{L_{22}}\n",
    "\\end{align*}"
   ]
  },
  {
   "cell_type": "markdown",
   "id": "223dcd01",
   "metadata": {
    "id": "223dcd01"
   },
   "source": [
    "This process of solving for $\\mathbf{x}$ in the case of a lower-triangular matrix is known as *forward subsitution*, since we solve the unknowns by starting with the first equation and moving *forward* from there.\n",
    "\n",
    "### Q1.2: Apply to an example\n",
    "Now let's give your solution a try. Say\n",
    "$$\\mathbf{L} =\n",
    "           \\begin{bmatrix}\n",
    "                      6  &  0  & 0    \\\\\n",
    "                     -5  &  3  & 0    \\\\\n",
    "                      6  & -7  & 2\\\\\n",
    "           \\end{bmatrix}\n",
    "\\qquad\\text{and}\\qquad\n",
    " \\mathbf{b}=\\begin{bmatrix}\n",
    "                          1\\\\\n",
    "                          2 \\\\\n",
    "                          3\\\\\n",
    "                      \\end{bmatrix},\n",
    "$$\n",
    "Solve for $\\mathbf{x}$.\n",
    "\n",
    "In the cell below, create a function that takes a $3 \\times 3$ lower-triangular matrix $\\mathbf{L}$ and a vector $\\mathbf{b}$, and returns the solution $\\mathbf{x}$.\n",
    "\n",
    "Test your function on the example matrix above.\n",
    "\n",
    "Create a new Markdown cell below your code, and explain how you can check that your solution is correct.\n",
    "(If it's incorrect, go back and check your solution for typos or other issues.)"
   ]
  },
  {
   "cell_type": "code",
   "execution_count": 1,
   "id": "55da8dc1",
   "metadata": {
    "id": "55da8dc1"
   },
   "outputs": [
    {
     "name": "stdout",
     "output_type": "stream",
     "text": [
      "Solution for x: [0.16666667 0.94444444 4.30555556]\n"
     ]
    }
   ],
   "source": [
    "import numpy as np\n",
    "\n",
    "def forward_substitution(L, b):\n",
    "    # Extract the dimensions of the matrix L\n",
    "    n = len(L)\n",
    "    \n",
    "    # Initialize the solution vector x\n",
    "    x = np.zeros(n)\n",
    "    \n",
    "    # Perform forward substitution\n",
    "    for i in range(n):\n",
    "        x[i] = b[i] - np.dot(L[i, :i], x[:i])\n",
    "        x[i] /= L[i, i]\n",
    "    \n",
    "    return x\n",
    "\n",
    "# Example matrix and vector\n",
    "L_example = np.array([[6, 0, 0], [-5, 3, 0], [6, -7, 2]])\n",
    "b_example = np.array([1, 2, 3])\n",
    "\n",
    "# Solve for x using forward substitution\n",
    "solution_example = forward_substitution(L_example, b_example)\n",
    "\n",
    "# Display the solution\n",
    "print(\"Solution for x:\", solution_example)"
   ]
  },
  {
   "cell_type": "code",
   "execution_count": 2,
   "id": "6e175c33",
   "metadata": {},
   "outputs": [
    {
     "name": "stdout",
     "output_type": "stream",
     "text": [
      "Solution verification result: False\n"
     ]
    }
   ],
   "source": [
    "# Verify the solution \n",
    "verification_result = True\n",
    "for i in range(len(b_example)):\n",
    "    if np.dot(L_example[i, :], solution_example) != b_example[i]:\n",
    "        verification_result = False\n",
    "        break\n",
    "\n",
    "print(\"Solution verification result:\", verification_result)"
   ]
  },
  {
   "cell_type": "markdown",
   "id": "9ca777d4",
   "metadata": {},
   "source": [
    "In this approach, we iterate through the elements of the vectors and check for exact equality. If any element is not equal, the verification result is set to False. This method directly compares individual elements without relying on external packages"
   ]
  },
  {
   "cell_type": "markdown",
   "id": "ec6b263d",
   "metadata": {
    "id": "ec6b263d"
   },
   "source": [
    "### Q1.3: Generalize to an $n \\times n$ case\n",
    "Look at the solution pattern above. Can you generalize to the solution of an arbitrary $n \\times n$ case?\n",
    "In the Markdown cell below, write your best guess as to what the $n \\times n $ solution will be.\n",
    "(If you are not sure whether you got it right, give yourself an example $4 \\times 4$ matrix to work out the pattern.)\n",
    "\n",
    "You will be comparing your results with your groupmates in the class."
   ]
  },
  {
   "cell_type": "markdown",
   "id": "e38b561d",
   "metadata": {
    "id": "e38b561d"
   },
   "source": [
    "<font size=+3>&#9998;</font> *your answer here*\n",
    "\n",
    "\\begin{align*}\n",
    "x_0 &= \\frac{b_0}{L_{00}} \\\\\n",
    "x_1 &= \\frac{b_1 - L_{10}x_0}{L_{11}} \\\\\n",
    "x_2 &= \\frac{b_2 - L_{20}x_0 - L_{21}x_1}{L_{22}} \\\\\n",
    "& \\vdots \\\\\n",
    "x_i &= \\frac{b_i - L_{i0}x_0 - L_{i1}x_1 - \\ldots - L_{i,i-1}x_{i-1}}{L_{ii}} \\\\\n",
    "& \\vdots \\\\\n",
    "x_{n-1} &= \\frac{b_{n-1} - L_{n-1,0}x_0 - L_{n-1,1}x_1 - \\ldots - L_{n-1,n-2}x_{n-2}}{L_{n-1,n-1}} \\\\\n",
    "& \\vdots \\\\\n",
    "\\therefore x_i &= \\boxed{\\frac{b_i - L_{i0}x_0 - L_{i1}x_1 - \\ldots - L_{i,i-1}x_{i-1}}{L_{ii}}}\n",
    "\\end{align*}\n",
    "\n",
    "for $ i \\in \\{0,1,\\ldots,n-1\\} $."
   ]
  },
  {
   "cell_type": "markdown",
   "id": "4b1fb504",
   "metadata": {
    "id": "4b1fb504"
   },
   "source": [
    "---\n",
    "## Part 2: Back Substitution\n",
    "\n",
    "You can also start with an upper-triangular matrix $\\mathbf{U}$ to solve a problem of interest $\\mathbf{U} \\mathbf{x} = \\mathbf{b}$.\n",
    "\n",
    "As before, we will study a simple $3 \\times 3$ case first:\n",
    "\n",
    "$$\n",
    "   \\begin{bmatrix}\n",
    "      U_{00} & U_{01} & U_{02}   \\\\\n",
    "       0     & U_{11} & U_{12}   \\\\\n",
    "       0     &   0    & U_{22}  \\\\\n",
    "   \\end{bmatrix}\n",
    "    \\begin{bmatrix} x_0 \\\\ x_1 \\\\ x_2 \\\\ \\end{bmatrix}\n",
    "  = \\begin{bmatrix} b_0 \\\\ b_1 \\\\ b_2 \\\\ \\end{bmatrix}.$$\n",
    "\n",
    "This can be expanded into equation form\n",
    "\n",
    "$$\\begin{align}\n",
    "U_{00}x_0 + U_{21}x_1 +U_{22}x_2 &=b_0 \\\\\n",
    "U_{11}x_1+U_{12}x_2 &= b_1 \\\\\n",
    "U_{22}x_2 &=b_2\n",
    "\\end{align}$$\n",
    "\n",
    "It is again straightforward to find the solution for $\\mathbf{x}$ in this case.\n",
    "\n",
    "### Q2.1 Solution for $\\mathbf{x}$\n",
    "In the Markdown cell below, write the solution for $x_i$ with $i\\in\\{0,1,2\\}$."
   ]
  },
  {
   "cell_type": "markdown",
   "id": "0516cac9",
   "metadata": {
    "id": "0516cac9"
   },
   "source": [
    "<font size=+3>&#9998;</font> *your answer here* complete the following\n",
    "\n",
    "$x_i = $ with $i\\in\\{0,1,2\\}$.\n",
    "\n",
    "\\begin{align*}\n",
    "x_0 &= \\frac{b_0 - U_{01}x_1 - U_{02}x_2}{U_{00}} \\\\\n",
    "x_1 &= \\frac{b_1 - U_{12}x_2}{U_{11}} \\\\\n",
    "x_2 &= \\frac{b_2}{U_{22}} \n",
    "\\end{align*}"
   ]
  },
  {
   "cell_type": "markdown",
   "id": "48e98e35",
   "metadata": {
    "id": "48e98e35"
   },
   "source": [
    "This process of solving for $\\mathbf{x}$ is known as _**back** substitution_, since we solve the unknowns by starting with the last equation and moving *back* from there.\n",
    "\n",
    "### Q2.2: Apply to an example\n",
    "Now let's give your solution a try. Say\n",
    "$$\\mathbf{U} =\n",
    "  \\begin{bmatrix}\n",
    "    -1  &  2   & 3    \\\\\n",
    "     0  &  10  & 8    \\\\\n",
    "     0  &  0   & -6\\\\\n",
    "  \\end{bmatrix}\n",
    "\\qquad\\text{and}\\qquad\n",
    " \\mathbf{b}=\\begin{bmatrix}\n",
    "                          1\\\\\n",
    "                          2 \\\\\n",
    "                          3\\\\\n",
    "                      \\end{bmatrix},\n",
    "$$\n",
    "\n",
    "Now solve for $x$.\n",
    "\n",
    "In the cell below, create a function that takes a $3 \\times 3$ upper-triangular matrix $\\mathbf{U}$ and $\\mathbf{b}$, and returns $\\mathbf{x}$.\n",
    "\n",
    "Test your function on the example matrix above.\n",
    "\n",
    "Explain in a Markdown cell below your code how you can check that your solution is correct.\n",
    "(If it's incorrect, go back and check your solution for typos or other issues.)"
   ]
  },
  {
   "cell_type": "code",
   "execution_count": 3,
   "id": "df2d121a",
   "metadata": {
    "id": "df2d121a"
   },
   "outputs": [
    {
     "name": "stdout",
     "output_type": "stream",
     "text": [
      "Solution for x: [-1.3  0.6 -0.5]\n",
      "Solution verification result: True\n"
     ]
    }
   ],
   "source": [
    "# your code here and check your answer\n",
    "\n",
    "import numpy as np\n",
    "\n",
    "def back_substitution(U, b):\n",
    "    n = len(U) # extrating the dimensions of the matrix U\n",
    "    x = np.zeros(n) # initializing the solution vector x   \n",
    "    for i in range(n-1, -1, -1): # perfomring back substitution\n",
    "        x[i] = (b[i] - np.dot(U[i, i+1:], x[i+1:])) / U[i, i]\n",
    "    return x\n",
    "\n",
    "U_example = np.array([[-1, 2, 3], [0, 10, 8], [0, 0, -6]]) # random example matrix\n",
    "b_example = np.array([1, 2, 3]) # random example vector\n",
    "\n",
    "solution_example = back_substitution(U_example, b_example) #solving for x with back sub\n",
    "print(\"Solution for x:\", solution_example)\n",
    "\n",
    "verification_result = np.allclose(np.dot(U_example, solution_example), b_example) #verifying the solution\n",
    "print(\"Solution verification result:\", verification_result)"
   ]
  },
  {
   "cell_type": "markdown",
   "id": "1d2993be",
   "metadata": {
    "id": "1d2993be"
   },
   "source": [
    "<font size=+3>&#9998;</font> *your answer here* complete the following\n",
    "\n",
    "#### To check if the solution is correct, we can verify that the matrix-vector multiplication $Ux$ is equal to $b$. In other words, we check if the equation $Ux=b$ holds true for the computed solution $x$."
   ]
  },
  {
   "cell_type": "markdown",
   "id": "9a266aed",
   "metadata": {
    "id": "9a266aed"
   },
   "source": [
    "### Q2.3: Generalize to the $n \\times n$ case\n",
    "Looking at the solution pattern above, can you generalize the solution to the $n \\times n $ case?\n",
    "In the Markdown cell below, write your best guess as to what the $n \\times n$ solution will be.\n",
    "(If you are not sure whether you got it right, try to give yourself an example $4 \\times 4$ matrix to work out the pattern.)\n",
    "\n",
    "You will be comparing your results with your groupmates in the class."
   ]
  },
  {
   "cell_type": "markdown",
   "id": "daf96b11",
   "metadata": {
    "id": "daf96b11"
   },
   "source": [
    "<font size=+3>&#9998;</font> *your answer here* complete the following\n",
    "\n",
    "$x_i = $ with $i\\in\\{0,1,\\ldots,n-1\\}$\n",
    "\n",
    "\\begin{align*}\n",
    "x_0 &= \\frac{b_0 - U_{0,1}x_1 - U_{0,2}x_2 - \\ldots - U_{0,n-1}x_{n-1}}{U_{00}} \\\\\n",
    "x_1 &= \\frac{b_1 - U_{1,2}x_2 - U_{1,3}x_3 - \\ldots - U_{1,n-1}x_{n-1}}{U_{11}} \\\\\n",
    "& \\vdots \\\\\n",
    "x_{n-1} &= \\frac{b_{n-1}}{U_{n-1,n-1}} \\\\\n",
    "& \\vdots \\\\\n",
    "x_i &= \\boxed{\\frac{b_i - U_{i,i+1}x_{i+1} - U_{i,i+2}x_{i+2} - \\ldots - U_{i,n-1}x_{n-1}}{U_{ii}}} \n",
    "\\end{align*}\n"
   ]
  },
  {
   "cell_type": "markdown",
   "id": "020c1cf2",
   "metadata": {
    "id": "020c1cf2"
   },
   "source": [
    "---\n",
    "## Part 3: Gaussian Elimination\n",
    "We now return to the problem of solving linear simultaneous equations in general cases (i.e. no longer dealing with special cases like triangular matrices seen in Parts 1 and 2).\n",
    "\n",
    "Watch this YouTube video to learn about Gaussian Elimination:"
   ]
  },
  {
   "cell_type": "code",
   "execution_count": 4,
   "id": "a9537ae3",
   "metadata": {
    "id": "a9537ae3",
    "outputId": "63c14e7c-09c8-48d6-cb68-f22a50a04151"
   },
   "outputs": [
    {
     "data": {
      "image/jpeg": "[encoded data removed]",
      "text/html": [
       "\n",
       "        <iframe\n",
       "            width=\"640\"\n",
       "            height=\"340\"\n",
       "            src=\"https://www.youtube.com/embed/eDb6iugi6Uk\"\n",
       "            frameborder=\"0\"\n",
       "            allowfullscreen\n",
       "            \n",
       "        ></iframe>\n",
       "        "
      ],
      "text/plain": [
       "<IPython.lib.display.YouTubeVideo at 0x22a27ff8fa0>"
      ]
     },
     "execution_count": 4,
     "metadata": {},
     "output_type": "execute_result"
    }
   ],
   "source": [
    "from IPython.display import YouTubeVideo\n",
    "YouTubeVideo(\"eDb6iugi6Uk\",width=640,height=340)"
   ]
  },
  {
   "cell_type": "markdown",
   "id": "e20b7b6c",
   "metadata": {
    "id": "e20b7b6c"
   },
   "source": [
    "Now try to solve the linear system of equations below:\n",
    "\n",
    "$$\\begin{align}\n",
    "2 x_0 + x_1 + x_2 &= 8 \\\\\n",
    "x_0 + x_1 -2 x_2 &= -2 \\\\\n",
    "x_0 + 2 x_1 + x_2 &= 2\n",
    "\\end{align}$$\n",
    "\n",
    "### Q3.1\n",
    "Create a new Markdown cell below and rewrite these equations as a $3\\times 3$ matrix problem."
   ]
  },
  {
   "cell_type": "markdown",
   "id": "638058d9",
   "metadata": {},
   "source": [
    "$$\n",
    "\\begin{bmatrix}\n",
    "2 & 1 & 1 \\\\\n",
    "1 & 1 & -2 \\\\\n",
    "1 & 2 & 1\n",
    "\\end{bmatrix}\n",
    "\\begin{bmatrix}\n",
    "x_0 \\\\\n",
    "x_1 \\\\\n",
    "x_2\n",
    "\\end{bmatrix}\n",
    "=\n",
    "\\begin{bmatrix}\n",
    "8 \\\\\n",
    "-2 \\\\\n",
    "2\n",
    "\\end{bmatrix}\n",
    "$$\n"
   ]
  },
  {
   "cell_type": "markdown",
   "id": "1c946a77",
   "metadata": {
    "id": "1c946a77"
   },
   "source": [
    "### Q3.2\n",
    "Follow the video steps to solve for $x$ by hand.\n",
    "Use Gaussian Elimination to first reduce the general linear-algebra equation\n",
    "$\\mathbf{A} \\mathbf{x} = \\mathbf{b}$\n",
    "to a simpler upper-triangular matrix $\\mathbf{U}$ linear equation\n",
    "$\\mathbf{U} \\mathbf{x} = \\mathbf{v}$, where\n",
    "$\\mathbf{v}$ is the new constant vector.\n",
    "\n",
    "In the following cell, write down what you found for $\\mathbf{U}$, $ \\mathbf{v}$, and the solution $\\mathbf{x}$."
   ]
  },
  {
   "cell_type": "markdown",
   "id": "9c4206ac",
   "metadata": {
    "id": "9c4206ac"
   },
   "source": [
    "<font size=+3>&#9998;</font> *your answer here*\n",
    "\n",
    "$\\mathbf{U} \\mathbf{x} = \\mathbf{v}$:\n",
    "$$\n",
    "\\begin{bmatrix}\n",
    "2 & 1 & 0 \\\\\n",
    "0 & 1 & 0 \\\\\n",
    "0 & 0 & 0\n",
    "\\end{bmatrix}\n",
    "\\begin{bmatrix}\n",
    "\\frac{14}{3} \\\\\n",
    "-\\frac{2}{3} \\\\\n",
    "1\n",
    "\\end{bmatrix}\n",
    "=\n",
    "\\begin{bmatrix}\n",
    "\\frac{8}{3} \\\\\n",
    "-\\frac{2}{3} \\\\\n",
    "\\text{Free variable}\n",
    "\\end{bmatrix}\n",
    "$$"
   ]
  },
  {
   "cell_type": "markdown",
   "id": "b9555da6",
   "metadata": {
    "id": "b9555da6"
   },
   "source": [
    "### Q3.3\n",
    "Write down your thoughts on how you would use this method to solve a general $n \\times n$ matrix.\n",
    "You will share your thoughts with your groupmates in the class.\n",
    "*Hint: Find general ways to get any $n \\times n$ matrix $\\mathbf{A}$ into an upper-triangular matrix $\\mathbf{U}$ first. Then, apply back substitution to solve for $x$.*"
   ]
  },
  {
   "cell_type": "markdown",
   "id": "25a117ee",
   "metadata": {
    "id": "25a117ee"
   },
   "source": [
    "<font size=+3>&#9998;</font> *your answer here*\n",
    "\n",
    "To solve a general $n \\times n$ matrix equation $\\mathbf{A}\\mathbf{x} = \\mathbf{b}$ using Gaussian Elimination:\n",
    "\n",
    "1. **Augment the Matrix**: Form the augmented matrix $[\\mathbf{A} | \\mathbf{b}]$.\n",
    "\n",
    "2. **Reduce to Upper-Triangular Form**: Apply Gaussian Elimination to reduce the augmented matrix to upper-triangular form $[\\mathbf{U} | \\mathbf{v}]$.\n",
    "\n",
    "3. **Back Substitution**: Use back substitution to find the solution vector $\\mathbf{x}$ starting from the bottom row of the upper-triangular matrix $\\mathbf{U}$.\n",
    "\n",
    "   - For each row $i$ from bottom to top:\n",
    "     - $x_i = \\frac{v_i}{U_{ii}}$\n",
    "     - For each column $j$ from $i+1$ to $n-1$, subtract $U_{ij}x_j$ from $v_i$.\n",
    "   \n",
    "4. **Free Variables and Infinite Solutions**: If there are any rows of zeros in the reduced form, it implies the system has free variables, leading to infinitely many solutions. Express the solution in terms of these free variables."
   ]
  },
  {
   "cell_type": "markdown",
   "id": "6896be4b",
   "metadata": {
    "id": "6896be4b"
   },
   "source": [
    "---\n",
    "## Assignment Wrap-up\n",
    "\n",
    "Please submit your notebook **in ipynb format** to Gradescope.\n",
    "\n",
    "**You must complete the pre-class survey in order to receive credit for the assignment!**"
   ]
  }
 ],
 "metadata": {
  "colab": {
   "provenance": []
  },
  "kernelspec": {
   "display_name": "Python 3 (ipykernel)",
   "language": "python",
   "name": "python3"
  },
  "language_info": {
   "codemirror_mode": {
    "name": "ipython",
    "version": 3
   },
   "file_extension": ".py",
   "mimetype": "text/x-python",
   "name": "python",
   "nbconvert_exporter": "python",
   "pygments_lexer": "ipython3",
   "version": "3.9.18"
  }
 },
 "nbformat": 4,
 "nbformat_minor": 5
}
