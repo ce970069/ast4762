{
 "cells": [
  {
   "cell_type": "markdown",
   "id": "f1588b90",
   "metadata": {
    "id": "f1588b90"
   },
   "source": [
    "# Day 06 Pre-Class Assignment:<br>LU Decomposition and Jacobi Iterative Method\n",
    "\n",
    "### <p style=\"text-align: right;\"> &#9989; Cesarine Graham</p>"
   ]
  },
  {
   "cell_type": "markdown",
   "id": "510a922a",
   "metadata": {
    "id": "510a922a"
   },
   "source": [
    "## Goals of this assignment\n",
    "\n",
    "The primary goal of this assignment is expand our ability to manipulate matrices:\n",
    "\n",
    "* Learn about how to use LU decomposition to solve linear equations more efficiently\n",
    "* Use the Jacobi iterative method\n",
    "\n",
    "## Assignment instructions\n",
    "\n",
    "Upload the assignment to Gradescope before noon the day of the next class."
   ]
  },
  {
   "cell_type": "markdown",
   "id": "ddce48bf",
   "metadata": {
    "id": "ddce48bf"
   },
   "source": [
    "\n",
    "## Part 0: Solving Systems of Linear Equations\n",
    "Linear algebra pops up almost everywhere in physics.\n",
    "Therefore, matrix-related techniques will be used repeatedly in many physics problems.\n",
    "This week, we have already learned about the how to solve a system of linear equations with simple upper or lower-triangular form using substitution, and how to solve the general case via Gaussian elimination.\n",
    "In Day 6, we will continue to learn about other ways of solving the linear systems: LU decomposition and the Jacobi iterative method.\n",
    "\n",
    "---\n",
    "## Part 1: LU Decomposition\n",
    "LU decomposition takes advantage of the work that we do during Gaussian elimination to create an easier-to-solve problem when we want to reuse the matrix for multiple right-hand sides. We do this by rewriting the original matrix $\\mathbf{A}$ as a product of a lower- and an upper-triangular matrix, denoted $\\mathbf{L}$ and  $\\mathbf{U}$. So the original equation\n",
    "\n",
    "$$\\mathbf{A} \\mathbf{x} = \\mathbf{b}$$\n",
    "\n",
    "becomes\n",
    "\n",
    "$$\\mathbf{L}(\\mathbf{U} \\mathbf{x}) = \\mathbf{b}.$$\n",
    "\n",
    "If we denote $\\mathbf{U} \\mathbf{x}=\\mathbf{y}$, we now can solve for $\\mathbf{x}$ by solving the two simpler equations\n",
    "\n",
    "$$\\mathbf{L}\\mathbf{y}= \\mathbf{b}\n",
    "\\qquad \\text{and} \\qquad\n",
    "\\mathbf{U} \\mathbf{x}=\\mathbf{y}.$$\n",
    "\n",
    "Recall that we already have the needed functions in the previous in-class, `forsub(L,b)` and `backsub(U,b)`, to solve these equations. Notice also that unlike Gaussian elimination, we do not change the vector $\\mathbf{b}$, so we can easily replace it with a different right-hand side as necessary, a useful feature in many physics applications.\n",
    "\n",
    "Now, the only question remaining is how we find $\\mathbf{L}$ and $\\mathbf{U}$ for a given $\\mathbf{A}$.\n",
    "\n",
    "### Task 1.1: Watch the video below to learn how to get  $\\mathbf{L}$ and  $\\mathbf{U}$ for a $3 \\times 3$ example"
   ]
  },
  {
   "cell_type": "code",
   "execution_count": 1,
   "id": "fb9f9d99",
   "metadata": {
    "id": "fb9f9d99",
    "outputId": "7424e301-7df1-4063-92f0-30d5a086e58d"
   },
   "outputs": [
    {
     "data": {
      "image/jpeg": "[encoded data removed]",
      "text/html": [
       "\n",
       "        <iframe\n",
       "            width=\"640\"\n",
       "            height=\"340\"\n",
       "            src=\"https://www.youtube.com/embed/UlWcofkUDDU\"\n",
       "            frameborder=\"0\"\n",
       "            allowfullscreen\n",
       "            \n",
       "        ></iframe>\n",
       "        "
      ],
      "text/plain": [
       "<IPython.lib.display.YouTubeVideo at 0x1f6164e4c70>"
      ]
     },
     "execution_count": 1,
     "metadata": {},
     "output_type": "execute_result"
    }
   ],
   "source": [
    "from IPython.display import YouTubeVideo\n",
    "YouTubeVideo(\"UlWcofkUDDU\",width=640,height=340)"
   ]
  },
  {
   "cell_type": "markdown",
   "id": "6936aef6",
   "metadata": {
    "id": "6936aef6"
   },
   "source": [
    "\n",
    "### Task 1.2: Apply to an example\n",
    "Following the steps in the video, let's try to find $\\mathbf{L}$ and $\\mathbf{U}$ for\n",
    "\n",
    "$$\\mathbf{A} =\n",
    "  \\begin{bmatrix}\n",
    "    2  &  1  & 1  \\\\\n",
    "    1  &  1  & -2 \\\\\n",
    "    1  &  2  & 1  \\\\\n",
    "  \\end{bmatrix}.$$\n",
    "\n",
    "Create a new Markdown cell below, write down your $\\mathbf{L}$ and $\\mathbf{U}$ matrices, and explain how you can check your solution is correct.\n",
    "(If it's incorrect, go back and check your solutions for typos or other issues.)"
   ]
  },
  {
   "cell_type": "markdown",
   "id": "dc650bd9",
   "metadata": {},
   "source": [
    "<font color='blue'>\n",
    "\n",
    "We start by performing Gaussian elimination to obtain an upper-triangular matrix:\n",
    "\n",
    "$\\begin{bmatrix}\n",
    "2 & 1 & 1 \\\\\n",
    "0 & 0.5 & -2.5 \\\\\n",
    "0 & 0 & 8 \\\\\n",
    "\\end{bmatrix}$\n",
    "\n",
    "$\\mathbf{L}$ =\n",
    "$\\begin{bmatrix}\n",
    "1 & 0 & 0 \\\\\n",
    "0.5 & 1 & 0 \\\\\n",
    "0.5 & 3 & 1 \\\\\n",
    "\\end{bmatrix}$\n",
    "\n",
    "$\\mathbf{U}$ =\n",
    "$\\begin{bmatrix}\n",
    "2 & 1 & 1 \\\\\n",
    "0 & 0.5 & -2.5 \\\\\n",
    "0 & 0 & 8 \\\\\n",
    "\\end{bmatrix}$\n",
    "\n",
    "To check if the decomposition is correct, multiply $\\mathbf{L}$ and $\\mathbf{U}$. This multiplication should give us the original matrix $\\mathbf{A}$. If the result matches $\\mathbf{A}$, then our $\\mathbf{L}$ and $\\mathbf{U}$ matrices are correct.\n",
    "\n",
    "$\\mathbf{L} \\times \\mathbf{U} =\n",
    "\\begin{bmatrix}\n",
    "1 & 0 & 0 \\\\\n",
    "0.5 & 1 & 0 \\\\\n",
    "0.5 & 3 & 1 \\\\\n",
    "\\end{bmatrix}\n",
    "\\times\n",
    "\\begin{bmatrix}\n",
    "2 & 1 & 1 \\\\\n",
    "0 & 0.5 & -2.5 \\\\\n",
    "0 & 0 & 8 \\\\\n",
    "\\end{bmatrix}\n",
    "=\n",
    "\\begin{bmatrix}\n",
    "2  &  1  & 1  \\\\\n",
    "1  &  1  & -2 \\\\\n",
    "1  &  2  & 1  \\\\\n",
    "\\end{bmatrix}$\n",
    "    \n",
    "</font>"
   ]
  },
  {
   "cell_type": "markdown",
   "id": "4d674c06",
   "metadata": {
    "id": "4d674c06"
   },
   "source": [
    "### Task 1.3: Observation\n",
    "From the example you worked on in Task 1.2 and the example you see in the video, what do you observe about the pattern to obtain $\\mathbf{L}$ and $\\mathbf{U}$ matrix?\n",
    "Create a new Markdown cell and write down your observations."
   ]
  },
  {
   "cell_type": "markdown",
   "id": "6c437fd1",
   "metadata": {},
   "source": [
    "<font color='blue'>\n",
    "    \n",
    "- The diagonal elements are always 1, and the values below the diagonals come from the Gaussian elimination multipliers.\n",
    "- The pattern in $\\mathbf{U}$ is otained directly from Gaussian elimination.\n",
    "- THe elements below the diagonal are all zeros after elimination.\n",
    "- $\\mathbf{A}$ can be decomposed into the product of $\\mathbf{L}$ and $\\mathbf{U}$: $\\mathbf{A} = \\mathbf{L} \\times \\mathbf{U}$.\n",
    "- $\\mathbf{L}$ and $\\mathbf{U}$ can be used to solve linear systems with different right-hand sides without having to perform another decompisition. \n",
    "    \n",
    "</font>"
   ]
  },
  {
   "cell_type": "markdown",
   "id": "ec6b263d",
   "metadata": {
    "id": "ec6b263d"
   },
   "source": [
    "### Task 1.4: The general  $3 \\times 3$ case\n",
    "\n",
    "Following the steps in the video, and let's try to find $\\mathbf{L}$ and $\\mathbf{U}$ for\n",
    "$$\\mathbf{A} =\n",
    "  \\begin{bmatrix}\n",
    "    a_{00}  &  a_{01}  & a_{02} \\\\\n",
    "    a_{10}  &  a_{11}  & a_{12} \\\\\n",
    "    a_{20}  &  a_{21}  & a_{22} \\\\\n",
    "  \\end{bmatrix}.$$\n",
    "\n",
    "Create a new Markdown cell below and write down your $\\mathbf{L}$ and $\\mathbf{U}$ matrices in terms of $a_{ij}$ with $i$, $j$ being integer indices running from 1 to 3.\n",
    "\n",
    "Apply your formula to the example in Task 1.2 to check whether your solution is correct; show your check in a new code cell below."
   ]
  },
  {
   "cell_type": "markdown",
   "id": "659e3058",
   "metadata": {},
   "source": [
    "<font color='blue'>\n",
    "\n",
    "For a $3 \\times 3$ matrix:\n",
    "\n",
    "$$\\mathbf{L} =\n",
    "\\begin{bmatrix}\n",
    "1 & 0 & 0 \\\\\n",
    "l_{21} & 1 & 0 \\\\\n",
    "l_{31} & l_{32} & 1 \\\\\n",
    "\\end{bmatrix}$$\n",
    "\n",
    "$$\\mathbf{U} =\n",
    "\\begin{bmatrix}\n",
    "u_{11} & u_{12} & u_{13} \\\\\n",
    "0 & u_{22} & u_{23} \\\\\n",
    "0 & 0 & u_{33} \\\\\n",
    "\\end{bmatrix}$$\n",
    "\n",
    "where the elements $l_{ij}$ and $u_{ij}$ in terms of $a_{ij}$ are:\n",
    "\n",
    "1. $u_{11} = a_{00}$\n",
    "2. $u_{12} = a_{01}$\n",
    "3. $u_{13} = a_{02}$\n",
    "4. $u_{22} = a_{11} - l_{21}u_{12}$\n",
    "5. $u_{23} = a_{12} - l_{21}u_{13}$\n",
    "6. $u_{33} = a_{22} - l_{31}u_{13} - l_{32}u_{23}$\n",
    "7. $l_{21} = \\frac{a_{10}}{u_{11}}$\n",
    "8. $l_{31} = \\frac{a_{20}}{u_{11}}$\n",
    "9. $l_{32} = \\frac{a_{21} - l_{21}u_{12}}{u_{22}}$\n",
    "\n",
    "We will now apply this to the example matrix from 1.2:\n",
    "\n",
    "$$\\mathbf{A} =\n",
    "  \\begin{bmatrix}\n",
    "    2  &  1  & 1  \\\\\n",
    "    1  &  1  & -2 \\\\\n",
    "    1  &  2  & 1  \\\\\n",
    "  \\end{bmatrix}.$$\n",
    "\n",
    "We can now apply the formulas found above:\n",
    "\n",
    "1. $u_{11} = a_{00} = 2$\n",
    "2. $u_{12} = a_{01} = 1$\n",
    "3. $u_{13} = a_{02} = 1$\n",
    "4. $u_{22} = a_{11} - l_{21}u_{12} = 1 - \\frac{1}{2} \\times 1 = \\frac{1}{2}$\n",
    "5. $u_{23} = a_{12} - l_{21}u_{13} = -2 - \\frac{1}{2} \\times 1 = -\\frac{5}{2}$\n",
    "6. $u_{33} = a_{22} - l_{31}u_{13} - l_{32}u_{23} = 1 - \\frac{1}{2} \\times 1 - \\frac{1}{2} \\times (-\\frac{5}{2}) = 8$\n",
    "7. $l_{21} = \\frac{a_{10}}{u_{11}} = \\frac{1}{2}$\n",
    "8. $l_{31} = \\frac{a_{20}}{u_{11}} = \\frac{1}{2}$\n",
    "9. $l_{32} = \\frac{a_{21} - l_{21}u_{12}}{u_{22}} = \\frac{2 - \\frac{1}{2} \\times 1}{\\frac{1}{2}} = 3$\n",
    "\n",
    "We can substitute these values into the matrices $\\mathbf{L}$ and $\\mathbf{U}$ manually to check if the decomposition is correct, then multiply $\\mathbf{L}$ and $\\mathbf{U}$ to check if we obtain the original matrix $\\mathbf{A}$:\n",
    "\n",
    "$$\\mathbf{L} \\times \\mathbf{U} =\n",
    "\\begin{bmatrix}\n",
    "1 & 0 & 0 \\\\\n",
    "\\frac{1}{2} & 1 & 0 \\\\\n",
    "\\frac{1}{2} & 3 & 1 \\\\\n",
    "\\end{bmatrix}\n",
    "\\times\n",
    "\\begin{bmatrix}\n",
    "2 & 1 & 1 \\\\\n",
    "0 & \\frac{1}{2} & -\\frac{5}{2} \\\\\n",
    "0 & 0 & 8 \\\\\n",
    "\\end{bmatrix}\n",
    "=\n",
    "\\begin{bmatrix}\n",
    "2 & 1 & 1 \\\\\n",
    "1 & 1 & -2 \\\\\n",
    "1 & 2 & 1 \\\\\n",
    "\\end{bmatrix}\n",
    "$$\n",
    "\n",
    "The result matches the original matrix $\\mathbf{A}$, confirming that the decomposition is correct.\n",
    "</font>"
   ]
  },
  {
   "cell_type": "markdown",
   "id": "4b1fb504",
   "metadata": {
    "id": "4b1fb504"
   },
   "source": [
    "---\n",
    "## Part 2: Jacobi Iterative Method\n",
    "\n",
    "### Task 2.1: Watch this video to learn about the Jacobi method"
   ]
  },
  {
   "cell_type": "code",
   "execution_count": 1,
   "id": "7b305cf0",
   "metadata": {
    "id": "7b305cf0",
    "outputId": "c56ad26a-3909-400a-eb86-b33f1919a423"
   },
   "outputs": [
    {
     "data": {
      "image/jpeg": "[encoded data removed]",
      "text/html": [
       "\n",
       "        <iframe\n",
       "            width=\"640\"\n",
       "            height=\"340\"\n",
       "            src=\"https://www.youtube.com/embed/VH0TZlkZPRo\"\n",
       "            frameborder=\"0\"\n",
       "            allowfullscreen\n",
       "            \n",
       "        ></iframe>\n",
       "        "
      ],
      "text/plain": [
       "<IPython.lib.display.YouTubeVideo at 0x1d8f47127f0>"
      ]
     },
     "execution_count": 1,
     "metadata": {},
     "output_type": "execute_result"
    }
   ],
   "source": [
    "from IPython.display import YouTubeVideo\n",
    "YouTubeVideo(\"VH0TZlkZPRo\",width=640,height=340)\n"
   ]
  },
  {
   "cell_type": "markdown",
   "id": "9a266aed",
   "metadata": {
    "id": "9a266aed"
   },
   "source": [
    "### Task 2.2: An example\n",
    "\n",
    "We can demonstrate Jacobi's method by this $4\\times 4$ matrix problem. We assume a guess for the vector elements $x_i^{(0)}$, a guess which represents our first iteration. The new values are obtained from\n",
    "\n",
    "$$\n",
    "x_1^{(1)} =\\frac{b_1-a_{12}x_2^{(0)} -a_{13}x_3^{(0)} - a_{14}x_4^{(0)}}{a_{11}} \\nonumber\n",
    "$$\n",
    "\n",
    "$$\n",
    "x_2^{(1)} =\\frac{b_2-a_{21}x_1^{(0)} - a_{23}x_3^{(0)} - a_{24}x_4^{(0)}}{a_{22}} \\nonumber\n",
    "$$\n",
    "\n",
    "$$\n",
    "x_3^{(1)} =\\frac{b_3- a_{31}x_1^{(0)} -a_{32}x_2^{(0)} -a_{34}x_4^{(0)}}{a_{33}} \\nonumber\n",
    "$$\n",
    "\n",
    "$$\n",
    "x_4^{(1)}=\\frac{b_4-a_{41}x_1^{(0)} -a_{42}x_2^{(0)} - a_{43}x_3^{(0)}}{a_{44}},  \\nonumber\n",
    "$$\n",
    "\n",
    "which after $k+1$ iterations reads\n",
    "\n",
    "$$\n",
    "x_1^{(k+1)} =\\frac{b_1-a_{12}x_2^{(k)} -a_{13}x_3^{(k)} - a_{14}x_4^{(k)}}{a_{11}} \\nonumber\n",
    "$$\n",
    "\n",
    "$$\n",
    "x_2^{(k+1)} =\\frac{b_2-a_{21}x_1^{(k)} - a_{23}x_3^{(k)} - a_{24}x_4^{(k)}}{a_{22}} \\nonumber\n",
    "$$\n",
    "\n",
    "$$\n",
    "x_3^{(k+1)} =\\frac{b_3- a_{31}x_1^{(k)} -a_{32}x_2^{(k)} -a_{34}x_4^{(k)}}{a_{33}} \\nonumber\n",
    "$$\n",
    "\n",
    "$$\n",
    "x_4^{(k+1)}=\\frac{b_4-a_{41}x_1^{(k)} -a_{42}x_2^{(k)} - a_{43}x_3^{(k)}}{a_{44}}.  \\nonumber\n",
    "$$\n",
    "\n",
    "We can summarize the above equations in a compact form:\n",
    "$$\n",
    "x_i^{(k+1)}=\\frac{b_i-\\sum_{j\\ne i}a_{ij}x_j^{(k)}}{a_{ii}}\n",
    "$$\n",
    "\n",
    "Take the matrix from Task 1.2, use a guess of $\\mathbf{x}^{(0)}=[0,0,0]$, and write the solutions for the first 5 iterations below."
   ]
  },
  {
   "cell_type": "markdown",
   "id": "dbf9964b",
   "metadata": {
    "id": "a699eca0"
   },
   "source": [
    "<font color='blue'>\n",
    "    \n",
    "$$\\mathbf{A} =\n",
    "  \\begin{bmatrix}\n",
    "    2  &  1  & 1  \\\\\n",
    "    1  &  1  & -2 \\\\\n",
    "    1  &  2  & 1  \\\\\n",
    "  \\end{bmatrix}.$$\n",
    "    \n",
    "### Iteration 1:\n",
    "$$\n",
    "\\begin{align*}\n",
    "x_1^{(1)} &= \\frac{b_1 - a_{12}x_2^{(0)} - a_{13}x_3^{(0)}}{a_{11}} = \\frac{2 - 1 \\times 0 - 1 \\times 0}{2} = 1 \\\\\n",
    "x_2^{(1)} &= \\frac{b_2 - a_{21}x_1^{(0)} - a_{23}x_3^{(0)}}{a_{22}} = \\frac{1 - 1 \\times 0 - (-2) \\times 0}{1} = 1 \\\\\n",
    "x_3^{(1)} &= \\frac{b_3 - a_{31}x_1^{(0)} - a_{32}x_2^{(0)}}{a_{33}} = \\frac{1 - 1 \\times 0 - 2 \\times 0}{1} = 1 \\\\\n",
    "\\end{align*}\n",
    "$$\n",
    "\n",
    "### Iteration 2:\n",
    "$$\n",
    "\\begin{align*}\n",
    "x_1^{(2)} &= \\frac{b_1 - a_{12}x_2^{(1)} - a_{13}x_3^{(1)}}{a_{11}} = \\frac{2 - 1 \\times 1 - 1 \\times 1}{2} = 0 \\\\\n",
    "x_2^{(2)} &= \\frac{b_2 - a_{21}x_1^{(1)} - a_{23}x_3^{(1)}}{a_{22}} = \\frac{1 - 1 \\times 1 - (-2) \\times 1}{1} = 2 \\\\\n",
    "x_3^{(2)} &= \\frac{b_3 - a_{31}x_1^{(1)} - a_{32}x_2^{(1)}}{a_{33}} = \\frac{1 - 1 \\times 1 - 2 \\times 1}{1} = -2 \\\\\n",
    "\\end{align*}\n",
    "$$\n",
    "\n",
    "### Iteration 3:\n",
    "$$\n",
    "\\begin{align*}\n",
    "x_1^{(3)} &= \\frac{b_1 - a_{12}x_2^{(2)} - a_{13}x_3^{(2)}}{a_{11}} = \\frac{2 - 1 \\times 2 - 1 \\times (-2)}{2} = 1 \\\\\n",
    "x_2^{(3)} &= \\frac{b_2 - a_{21}x_1^{(2)} - a_{23}x_3^{(2)}}{a_{22}} = \\frac{1 - 1 \\times 0 - (-2) \\times (-2)}{1} = 0 \\\\\n",
    "x_3^{(3)} &= \\frac{b_3 - a_{31}x_1^{(2)} - a_{32}x_2^{(2)}}{a_{33}} = \\frac{1 - 1 \\times 0 - 2 \\times 0}{1} = 1 \\\\\n",
    "\\end{align*}\n",
    "$$\n",
    "\n",
    "### Iteration 4:\n",
    "$$\n",
    "\\begin{align*}\n",
    "x_1^{(4)} &= \\frac{b_1 - a_{12}x_2^{(3)} - a_{13}x_3^{(3)}}{a_{11}} = \\frac{2 - 1 \\times 0 - 1 \\times 1}{2} = \\frac{1}{2} \\\\\n",
    "x_2^{(4)} &= \\frac{b_2 - a_{21}x_1^{(3)} - a_{23}x_3^{(3)}}{a_{22}} = \\frac{1 - 1 \\times \\frac{1}{2} - (-2) \\times 1}{1} = \\frac{5}{2} \\\\\n",
    "x_3^{(4)} &= \\frac{b_3 - a_{31}x_1^{(3)} - a_{32}x_2^{(3)}}{a_{33}} = \\frac{1 - 1 \\times \\frac{1}{2} - 2 \\times \\frac{5}{2}}{1} = -4 \\\\\n",
    "\\end{align*}\n",
    "$$\n",
    "\n",
    "### Iteration 5:\n",
    "$$\n",
    "\\begin{align*}\n",
    "x_1^{(5)} &= \\frac{b_1 - a_{12}x_2^{(4)} - a_{13}x_3^{(4)}}{a_{11}} = \\frac{2 - 1 \\times \\frac{5}{2} - 1 \\times (-4)}{2} = \\frac{11}{4} \\\\\n",
    "x_2^{(5)} &= \\frac{b_2 - a_{21}x_1^{(4)} - a_{23}x_3^{(4)}}{a_{22}} = \\frac{1 - 1 \\times \\frac{1}{2} - (-2) \\times (-4)}{1} = \\frac{7}{2} \\\\\n",
    "x_3^{(5)} &= \\frac{b_3 - a_{31}x_1^{(4)} - a_{32}x_2^{(4)}}{a_{33}} = \\frac{1 - 1 \\times \\frac{1}{2} - 2 \\times \\frac{7}{2}}{1} = -8 \\\\\n",
    "\\end{align*}\n",
    "$$"
   ]
  },
  {
   "cell_type": "markdown",
   "id": "984cd540",
   "metadata": {
    "id": "984cd540"
   },
   "source": [
    "### Task 2.3: Improved Jacobi method:  Gauss-Seidel's method\n",
    "Instead of taking all parts of the solution from the previous ($k$th) iteration, the Gauss-Seidel method mixes the parts of the $k+1$-th iteration that we have computed into subsequent calculations. This means that we do not need to store the new solution separately, but rather can overwrite our old iteration as we go along.\n",
    "\n",
    "$$\n",
    "x_1^{(k+1)} =\\frac{b_1-a_{12}x_2^{(k)} -a_{13}x_3^{(k)} - a_{14}x_4^{(k)}}{a_{11}} \\nonumber\n",
    "$$\n",
    "\n",
    "$$\n",
    "x_2^{(k+1)} =\\frac{b_2-a_{21}x_1^{(k+1)} - a_{23}x_3^{(k)} - a_{24}x_4^{(k)}}{a_{22}} \\nonumber\n",
    "$$\n",
    "\n",
    "$$\n",
    "x_3^{(k+1)} =\\frac{b_3- a_{31}x_1^{(k+1)} -a_{32}x_2^{(k+1)} -a_{34}x_4^{(k)}}{a_{33}} \\nonumber\n",
    "$$\n",
    "\n",
    "$$\n",
    "x_4^{(k+1)}=\\frac{b_4-a_{41}x_1^{(k+1)} -a_{42}x_2^{(k+1)} - a_{43}x_3^{(k+1)}}{a_{44}}.  \\nonumber\n",
    "$$\n",
    "\n",
    "This technique normally improves the convergence behavior as well.\n",
    "\n",
    "We can write this in compact form as\n",
    "$$\n",
    "x^{(k+1)}_i = \\frac{1}{a_{ii}} \\left(b_i - \\sum_{j < i}a_{ij}x^{(k+1)}_j - \\sum_{j > i}a_{ij}x^{(k)}_j \\right),\\qquad i\\in\\{1,2,\\ldots,n\\}.\n",
    "$$\n",
    "\n",
    "\n"
   ]
  },
  {
   "cell_type": "markdown",
   "id": "6896be4b",
   "metadata": {
    "id": "6896be4b"
   },
   "source": [
    "---\n",
    "## Assignment Wrap-up\n",
    "\n",
    "\n",
    "Please submit your notebook **in ipynb format** to Gradescope.\n",
    "\n",
    "**You must complete the pre-class survey in order to receive credit for the assignment!**"
   ]
  }
 ],
 "metadata": {
  "colab": {
   "provenance": []
  },
  "kernelspec": {
   "display_name": "Python 3 (ipykernel)",
   "language": "python",
   "name": "python3"
  },
  "language_info": {
   "codemirror_mode": {
    "name": "ipython",
    "version": 3
   },
   "file_extension": ".py",
   "mimetype": "text/x-python",
   "name": "python",
   "nbconvert_exporter": "python",
   "pygments_lexer": "ipython3",
   "version": "3.9.18"
  }
 },
 "nbformat": 4,
 "nbformat_minor": 5
}
