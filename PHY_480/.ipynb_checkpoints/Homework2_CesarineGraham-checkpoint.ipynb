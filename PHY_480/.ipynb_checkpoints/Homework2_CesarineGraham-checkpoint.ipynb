{
 "cells": [
  {
   "cell_type": "markdown",
   "id": "3865621b",
   "metadata": {
    "id": "3865621b"
   },
   "source": [
    "# Homework 2:  Matrices, Linear Algebra, and Eigenvalue Problems\n",
    "\n",
    "\n",
    "### <p style=\"text-align: right;\"> &#9989; Cesarine Graham</p>\n"
   ]
  },
  {
   "cell_type": "markdown",
   "id": "945a21b6",
   "metadata": {
    "id": "945a21b6"
   },
   "source": [
    "---\n",
    "## Goals of this assignment\n",
    "\n",
    "The primary goal of this assignment is to practice algorithms for matrix investigation in Python.\n",
    "\n",
    "* Review linear algebra learned in this class so far\n",
    "* Apply Gaussian elimination and LU decomposition to solve physics linear equations\n",
    "* Implement the iterative Gauss-Seidel method from Jacobi\n",
    "* Solve eigenvectors and eigenvalues with a quantum example\n",
    "\n",
    "## Assignment instructions\n",
    "\n",
    "Following the instructions to complete this assignment. Upload the assignment to Gradescope to complete this assignment.\n",
    "\n",
    "___\n",
    "### Grading\n",
    "\n",
    "* Part 1: Solving Linear Equations for a Circuit of Resistors (15 points)\n",
    "* Part 2: Differential Equations as Linear Equations (30 points)\n",
    "* Part 3: Iterative Methods for Solving Linear Equations (20 points)\n",
    "* Part 4: Eigenvalues and Eigenvector: Quantum Rotator and Pendulum (15 points)\n",
    "\n",
    "**Total:** 80 points"
   ]
  },
  {
   "cell_type": "markdown",
   "id": "27e5b586",
   "metadata": {
    "id": "27e5b586"
   },
   "source": [
    "------\n",
    "## Part 1: Solving Linear Equations for a Circuit of Resistors (15 points)\n",
    "\n",
    "Consider the circuit of resistors as shown in the diagram in [this link](https://drive.google.com/file/d/1KNl2hXksd0gu8r4jQ9PX6l--rqFyzc1x)\n",
    "\n",
    "All the resistors have the same resistance $R$.\n",
    "The power rail at the top is at voltage $V_+=5$&nbsp;V.  What are the other four voltages, $V_1$ to $V_4$?\n",
    "\n",
    "### 1.1 Write down equations (5 points)\n",
    "To answer this question, first use Ohm's law and the Kirchhoff current law, which says that the total net current flow out of (or into) any junction in a circuit must be zero, to get a set of linear equations.\n",
    "\n",
    "Write down the linear equations in the Markdown cell below and compare the equations within your group.\n",
    "Only when you all agree that you can move on to the next part.\n"
   ]
  },
  {
   "cell_type": "markdown",
   "id": "16db0f23",
   "metadata": {
    "id": "16db0f23"
   },
   "source": [
    "<font size=+3>&#9998;</font>\n",
    "\n",
    "<font color='blue'>\n",
    "    \n",
    "Starting with Junction 1:\n",
    "    \n",
    "$\\sum \\frac{\\Delta V}{R} = \\frac{V_1-V_+}{R}+\\frac{V_1-V_2}{R}+\\frac{V_1-V_3}{R}+\\frac{V_1-V_4}{R} = 0$\n",
    "\n",
    "We will continue this calculation method for each of the following junction:\n",
    "    \n",
    "Junction 1: $\\sum \\frac{\\Delta V}{R} = 4V_1 - V_2 - V_3 - V_4 - V_+ = 0$\n",
    "    \n",
    "Junction 2: $\\sum \\frac{\\Delta V}{R} = 3V_2 - V_1 - V_4 = 0$\n",
    "    \n",
    "Junction 3: $\\sum \\frac{\\Delta V}{R} = 3V_3 - V_1 - V_4 - V_+ = 0$\n",
    "    \n",
    "Junction 4: $\\sum \\frac{\\Delta V}{R} = 4V_4 - V_1 - V_2 - V_3 = 0$"
   ]
  },
  {
   "cell_type": "markdown",
   "id": "244745f9",
   "metadata": {
    "id": "244745f9"
   },
   "source": [
    "\n",
    "### 1.2 Solve the linear equations (10 points)\n",
    "You can now solve these equations using Gaussian elimination you obtained earlier  and find the four voltages.\n",
    "\n",
    "#### 1.2.1 Add line-by-line comments to the code below (5 points)\n",
    "In physics, we often work with others and use functions others have already written. When working with code you did not write yourself, it's always a good practice to make sure that you understand what the code does, its limitations, etc.\n",
    "Below is an example of back substituion and Gaussian elimination code. Add comments for every line of the code."
   ]
  },
  {
   "cell_type": "markdown",
   "id": "381f5ac3",
   "metadata": {},
   "source": [
    "<font color='blue'>\n",
    "#1.2 \n",
    "\n",
    "$ A = \\begin{bmatrix} 4 & -1 & -1 & -1 \\\\ -1 & 3 & 0 & -1 \\\\ -1 & 0 & 3 & -1 \\\\ -1 & -1 & -1 & 4 \\end{bmatrix}$\n",
    "$ X = \\begin{bmatrix} V_1 \\\\ V_2 \\\\ V_3 \\\\ V_4 \\end{bmatrix}$\n",
    "$ B = \\begin{bmatrix} V_+ \\\\ 0 \\\\ -V_+ \\\\ 0 \\end{bmatrix}$\n",
    "\n",
    "In the form $AX = B$: \n",
    "\n",
    "$ \\begin{bmatrix} 4 & -1 & -1 & -1 \\\\ -1 & 3 & 0 & -1 \\\\ -1 & 0 & 3 & -1 \\\\ -1 & -1 & -1 & 4 \\end{bmatrix} \\begin{bmatrix} V_1 \\\\ V_2 \\\\ V_3 \\\\ V_4 \\end{bmatrix} = \\begin{bmatrix} V_+ \\\\ 0 \\\\ -V_+ \\\\ 0 \\end{bmatrix} $"
   ]
  },
  {
   "cell_type": "code",
   "execution_count": 1,
   "id": "5169a9a8",
   "metadata": {
    "id": "5169a9a8"
   },
   "outputs": [],
   "source": [
    "#performing back substitution\n",
    "def backsub(U,bs):\n",
    "    n = bs.size # getting the size of the input vector bs\n",
    "    xs = np.zeros(n) # initializing a vector xs to be the same size as bs, but filled with zeroes\n",
    "    for i in reversed(range(n)): #iterating over each row but in reversed order\n",
    "        xs[i] = (bs[i] - U[i,i+1:]@xs[i+1:])/U[i,i] # performing back sub.\n",
    "    return xs\n",
    "\n",
    "#performing gaussian elimination\n",
    "def gauelim(inA,inbs):\n",
    "    A = np.copy(inA) # making a copy of the Matrix A so we aren't modifying the original one\n",
    "    bs = np.copy(inbs) # making a copy of the bs vector so we aren't modifying the original one\n",
    "    n = bs.size # getting the size of the bs input vector\n",
    "\n",
    "    for j in range(n-1): # iterating over the columns to the second to last column\n",
    "        for i in range(j+1,n): # iterating over each row below the current diagonal element\n",
    "            coeff = A[i,j]/A[j,j] #calculating the coefficent for eliminating the element A[i,j]\n",
    "            A[i,j:] -= coeff*A[j,j:] # updating row i and the copy of matrix A\n",
    "            bs[i] -= coeff*bs[j] # updating row i and the copy of vector bs\n",
    "\n",
    "    xs = backsub(A,bs) # performing back sub\n",
    "    return xs #returning the solution"
   ]
  },
  {
   "cell_type": "markdown",
   "id": "ff2a557f",
   "metadata": {
    "id": "ff2a557f"
   },
   "source": [
    "#### 1.2.2 Solve for linear equations (5 points)\n",
    "Use the function provided above, find out the soluttions (i.e. voltages).\n",
    "Write down code and explaination to assure that your solutions are correct."
   ]
  },
  {
   "cell_type": "code",
   "execution_count": 2,
   "id": "5ec66013",
   "metadata": {},
   "outputs": [
    {
     "name": "stdout",
     "output_type": "stream",
     "text": [
      "Solutions for V1 to V4: [3.         1.66666667 3.33333333 2.        ]\n"
     ]
    }
   ],
   "source": [
    "import numpy as np\n",
    "\n",
    "A = np.array([[4, -1, -1, -1],\n",
    "              [-1, 3, 0, -1],\n",
    "              [-1, 0, 3, -1],\n",
    "              [-1, -1, -1, 4]], dtype=float) #changing the data type to a float or we get an error\n",
    "B = np.array([5, 0, 5, 0], dtype=float) #changing the data type to a float or we get an error\n",
    "\n",
    "# solving the system of linear equations\n",
    "voltages = gauelim(A, B)\n",
    "\n",
    "# printing the results\n",
    "print(\"Solutions for V1 to V4:\", voltages)"
   ]
  },
  {
   "cell_type": "markdown",
   "id": "2587a4ff",
   "metadata": {
    "id": "2587a4ff"
   },
   "source": [
    "------\n",
    "## Part 2: Differential Equations as Linear Equations (30 points)\n",
    "\n",
    "Many important equations in science are linear second-order differential equations like\n",
    "\n",
    "$$\n",
    "\\frac{d^2u}{dx^2}+k^2(x)u = f(x),\n",
    "$$\n",
    "\n",
    "where $f$ is normally called the _inhomogeneous term_ and $k^2$ is a real function.\n",
    "\n",
    "A classical equation from electromagnetism is the Poisson equation.\n",
    "The electrostatic potential $\\Phi$ is generated by a localized charge distribution $\\rho(\\mathbf{r})$.\n",
    "In three dimensions it reads\n",
    "\n",
    "$$\n",
    "\\nabla^2 \\Phi = -4\\pi \\rho (\\mathbf{r}).\n",
    "$$\n",
    "\n",
    "With a spherically symmetric $\\Phi$ and $\\rho(\\mathbf{r})$, the equation simplifies to a one-dimensional equation in $r$:\n",
    "\n",
    "$$\n",
    "\\frac{1}{r^2}\\frac{d}{dr}\\left(r^2\\frac{d\\Phi}{dr}\\right) = -4\\pi \\rho(r),\n",
    "$$\n",
    "\n",
    "which can be rewritten via a substitution $\\Phi(r)= \\phi(r)/r$ as\n",
    "\n",
    "$$\n",
    "\\frac{d^2\\phi}{dr^2}= -4\\pi r\\rho(r).\n",
    "$$\n",
    "\n",
    "The inhomogeneous term $f$ or source term is given by the charge distribution $\\rho$ multiplied by $r$ and the constant $-4\\pi$.\n",
    "\n",
    "We will rewrite this equation to match our original form by letting $\\phi\\rightarrow u$ and $r\\rightarrow y$.\n",
    "The general one-dimensional Poisson equation is then\n",
    "\n",
    "$$\n",
    "-u''(y) = f(y).\n",
    "$$"
   ]
  },
  {
   "cell_type": "markdown",
   "id": "317fb05b",
   "metadata": {
    "id": "317fb05b"
   },
   "source": [
    "In this project, we will solve the one-dimensional Poisson equation with Dirichlet boundary conditions by rewriting it as a set of linear equations.\n",
    "\n",
    "To be more explicit, we will solve the equation\n",
    "\n",
    "$$\n",
    "-u''(y) = f(y), \\qquad y\\in(0,1), \\qquad u(0) = u(1) = 0.\n",
    "$$\n",
    "\n",
    "and we define the discretized approximation to $u$ as $x_i$ with grid points $y_i=ih$ in the interval from $y_0=0$ to $y_{n+1}=1$, where $n$ is the number of points in our grid.\n",
    "\n",
    "The step length or spacing is $h=1/(n+1)$.\n",
    "The boundary conditions become $x_0 = x_{n+1} = 0$.\n",
    "We approximate the second derivative of $u$ by\n",
    "\n",
    "$$\n",
    "-\\frac{x_{i+1}+x_{i-1}-2x_i}{h^2} = f_i \\qquad \\text{for} \\, i\\in\\{1,\\dots, n\\},\n",
    "$$\n",
    "\n",
    "where $f_i=f(y_i)$.\n",
    "\n",
    "Show that you can rewrite this equation as a linear set of equations of the form\n",
    "\n",
    "$$\n",
    "\\mathbf{A}\\mathbf{x} = \\mathbf{b},\n",
    "$$\n",
    "\n",
    "where $\\mathbf{A}$ is an $n\\times n$ tridiagonal matrix\n",
    "\n",
    "$$\n",
    "\\mathbf{A} = \\begin{bmatrix}\n",
    "                2 &     -1 &      0 &  \\dots &  \\dots &      0 \\\\\n",
    "               -1 &      2 &     -1 & \\ddots &        & \\vdots \\\\\n",
    "                0 &     -1 &      2 & \\ddots & \\ddots & \\vdots \\\\\n",
    "           \\vdots & \\ddots & \\ddots & \\ddots & \\ddots &      0 \\\\\n",
    "           \\vdots &        & \\ddots & \\ddots &     2  &     -1 \\\\\n",
    "                0 &  \\dots &  \\dots &      0 &    -1  &      2 \\\\\n",
    "             \\end{bmatrix},\n",
    "$$\n",
    "\n",
    "and $b_i=h^2f_i$."
   ]
  },
  {
   "cell_type": "markdown",
   "id": "3cc09837",
   "metadata": {
    "id": "3cc09837"
   },
   "source": [
    "### 2.1: Plot the exact solution  (5 points)\n",
    "In our case we will assume that the source term is $f(y) = 100e^{-10y}$, and keep the same interval and boundary\n",
    "conditions.\n",
    "Then, the above differential equation has a closed-form solution, $u(y) = 1-(1-e^{-10})y-e^{-10y}$ (convince yourself that this is correct by inserting the solution into the Poisson equation).\n",
    "In the cell below, plot the exact solution with $y \\in [0,1]$."
   ]
  },
  {
   "cell_type": "code",
   "execution_count": 3,
   "id": "1c29e3c8",
   "metadata": {},
   "outputs": [
    {
     "data": {
      "image/png": "[encoded data removed]",
      "text/plain": [
       "<Figure size 640x480 with 1 Axes>"
      ]
     },
     "metadata": {},
     "output_type": "display_data"
    }
   ],
   "source": [
    "import numpy as np\n",
    "import matplotlib.pyplot as plt\n",
    "\n",
    "# defining exact solution function\n",
    "def exact_solution(y):\n",
    "    return 1 - (1 - np.exp(-10)) * y - np.exp(-10 * y)\n",
    "\n",
    "y_values = np.linspace(0, 1, 1000) # generating y values\n",
    "exact_values = exact_solution(y_values) # calculating corresponding exact solution values\n",
    "\n",
    "# plotting exact solution\n",
    "plt.plot(y_values, exact_values, label='Exact Solution', color='m')\n",
    "plt.title('Exact Solution of the Poisson Equation')\n",
    "plt.xlabel('y')\n",
    "plt.ylabel('u(y)')\n",
    "plt.grid()\n",
    "plt.legend()\n",
    "plt.show()"
   ]
  },
  {
   "cell_type": "markdown",
   "id": "36ddbebb",
   "metadata": {
    "id": "36ddbebb"
   },
   "source": [
    "### 2.2: Functions for $\\mathbf{A}$ and $\\mathbf{b}$  (5 points)\n",
    "\n",
    "#### 2.2.1\n",
    "In the code cell below, write a function to generate an $n \\times n$ $\\mathbf{A}$ matrix and another to generate an $n$-vector $\\mathbf{b}$ with a given integer $n$.\n",
    "\n",
    "#### 2.2.2\n",
    "Print the output of the functions for the simple cases $n=3$, $n=4$, and $n=5$.\n",
    "\n",
    "#### 2.2.3\n",
    "Create a new Markdown cell below, explaining why your functions are working correctly."
   ]
  },
  {
   "cell_type": "code",
   "execution_count": 4,
   "id": "95cb84e0",
   "metadata": {
    "id": "95cb84e0"
   },
   "outputs": [
    {
     "name": "stdout",
     "output_type": "stream",
     "text": [
      "\n",
      "For n = 3:\n",
      "A matrix:\n",
      "[[ 2. -1.  0.]\n",
      " [-1.  2. -1.]\n",
      " [ 0. -1.  2.]]\n",
      "\n",
      "b vector:\n",
      "[6.25000000e+00 4.21121687e-02 2.83749561e-04]\n",
      "\n",
      "For n = 4:\n",
      "A matrix:\n",
      "[[ 2. -1.  0.  0.]\n",
      " [-1.  2. -1.  0.]\n",
      " [ 0. -1.  2. -1.]\n",
      " [ 0.  0. -1.  2.]]\n",
      "\n",
      "b vector:\n",
      "[4.00000000e+00 1.42695973e-01 5.09053521e-03 1.81599719e-04]\n",
      "\n",
      "For n = 5:\n",
      "A matrix:\n",
      "[[ 2. -1.  0.  0.  0.]\n",
      " [-1.  2. -1.  0.  0.]\n",
      " [ 0. -1.  2. -1.  0.]\n",
      " [ 0.  0. -1.  2. -1.]\n",
      " [ 0.  0.  0. -1.  2.]]\n",
      "\n",
      "b vector:\n",
      "[2.77777778e+00 2.28013885e-01 1.87165194e-02 1.53634547e-03\n",
      " 1.26110916e-04]\n"
     ]
    }
   ],
   "source": [
    "# function to generate A matrix\n",
    "def generate_A_matrix(n):\n",
    "    # creating a tridiagonal matrix with 2 on the main diagonal and -1 on the off-diagonals\n",
    "    A = 2 * np.eye(n) - np.eye(n, k=1) - np.eye(n, k=-1)\n",
    "    return A\n",
    "\n",
    "# function to generate b vector\n",
    "def generate_b_vector(f_values, h):\n",
    "    b = h**2 * f_values # vector b using the formula b_i = h^2 * f_i\n",
    "    return b\n",
    "\n",
    "# setting up parameters\n",
    "n_values = [3, 4, 5]\n",
    "\n",
    "# priting the results for each n\n",
    "for n in n_values:\n",
    "    h = 1 / (n + 1)\n",
    "    \n",
    "    # adjusting the size of f_values based on the current n value\n",
    "    f_values = 100 * np.exp(-10 * np.linspace(0, 1, n))\n",
    "\n",
    "    A = generate_A_matrix(n)\n",
    "    b = generate_b_vector(f_values, h)\n",
    "\n",
    "    print(f\"\\nFor n = {n}:\")\n",
    "    print(\"A matrix:\")\n",
    "    print(A)\n",
    "    print(\"\\nb vector:\")\n",
    "    print(b)"
   ]
  },
  {
   "cell_type": "markdown",
   "id": "33f005e5",
   "metadata": {},
   "source": [
    "<font color='blue'>\n",
    "\n",
    "**generate_A_matrix(n) function:**\n",
    "   - The function creates an $n \\times n$ tridiagonal matrix with the main diagonal elements equal to $2$ and the off-diagonal elements equal to $-1$.\n",
    "   - The main diagonal is set using `2*np.eye(n)`, and the off-diagonals are set using `-np.eye(n, k=1)` and `-np.eye(n, k=-1`).\n",
    "   - This construction ensures that the tridiagonal matrix follows the form specified in the problem statement.\n",
    "\n",
    "**generate_b_vector(f_values, h) function:**\n",
    "   - The function takes an array of $f$ values at grid points $f_{values}$ and the spacing between grid points $h$.\n",
    "   - It calculates the vector $\\mathbf{b}$ using the formula $b_i = h^2 \\cdot f_i$ for each element in $f_{values}$.\n",
    "   - The result is a vector $\\mathbf{b}$ that represents the right-hand side of the linear system."
   ]
  },
  {
   "cell_type": "markdown",
   "id": "1e6762ce",
   "metadata": {
    "id": "1e6762ce"
   },
   "source": [
    "### 2.3: Solving a simplified case with Gaussian elimination (5 points)\n",
    "\n",
    "#### 2.3.1\n",
    "Using the functions given above, use Gaussian elimination to solve the $n=3$ linear equations.\n",
    "\n",
    "#### 2.3.2\n",
    "Compare the answers with the result you find by manually solving the linear equations\n",
    "\n",
    "$$\\begin{align}\n",
    "2 x_1 - x_2 \\phantom{{}-y_3}&= b_1 \\\\\n",
    "-x_1 +2 x_2 -x_3 &= b_2 \\\\\n",
    "- x_2 + 2x_3 &= b_3 \\\\\n",
    "\\end{align}$$"
   ]
  },
  {
   "cell_type": "code",
   "execution_count": 28,
   "id": "02f06f87",
   "metadata": {},
   "outputs": [
    {
     "name": "stdout",
     "output_type": "stream",
     "text": [
      "[6.25000000e+00 4.21121687e-02 2.83749561e-04]\n",
      "Solutions for x1 to x3: [4.70862702 3.16725404 1.5837689 ]\n"
     ]
    }
   ],
   "source": [
    "#2.3.1\n",
    "\n",
    "# Given parameters\n",
    "n = 3\n",
    "h = 1 / (n + 1)\n",
    "\n",
    "# Generate A matrix, favlues, b vector\n",
    "A = generate_A_matrix(n)\n",
    "f_values = 100 * np.exp(-10 * np.linspace(0, 1, n))\n",
    "b = generate_b_vector(f_values, h)\n",
    "\n",
    "# Solve the system of linear equations using gauelim and backsub\n",
    "x = gauelim(A, b)\n",
    "\n",
    "# printing result\n",
    "print(\"Solutions for x1 to x3:\", x)"
   ]
  },
  {
   "cell_type": "markdown",
   "id": "d7a75ce0",
   "metadata": {},
   "source": [
    "<font color='blue'>\n",
    "\n",
    "2.3.2\n",
    "\n",
    "Manual solution:    \n",
    "    \n",
    "$$\n",
    "x_1 = \\frac{3b_1 + 2b_2 + b_3}{4}\n",
    "$$\n",
    "    \n",
    "$$\n",
    "x_2 = \\frac{b_1 + 2b_2 + b_3}{2}\n",
    "$$\n",
    "    \n",
    "$$\n",
    "x_3 = \\frac{3b_1 + 6b_2 + 3b_3}{12}\n",
    "$$"
   ]
  },
  {
   "cell_type": "markdown",
   "id": "fe1b081b",
   "metadata": {
    "id": "fe1b081b"
   },
   "source": [
    "### 2.4: Solving a simplified case with Gaussian elimination (5 points)\n",
    "\n",
    "#### 2.4.1: Add comments to given functions (2 points)\n",
    "Comment on the below functions line-by-line, and make sure you understand what the code does."
   ]
  },
  {
   "cell_type": "code",
   "execution_count": 6,
   "id": "e7959007",
   "metadata": {
    "id": "e7959007"
   },
   "outputs": [],
   "source": [
    "def forsub(L,bs): #forward substitution\n",
    "    n = bs.size # getting the size of the input vector bs\n",
    "    xs = np.zeros(n) # initializing a vecotr xs the same size as bs, but filled with 0\n",
    "    for i in range(n): # iterating thru 0 to n-1\n",
    "        xs[i] = (bs[i] - L[i,:i]@xs[:i])/L[i,i] # performing forward sub\n",
    "    return xs # returning the solutions\n",
    "\n",
    "\n",
    "def ludec(A): #function for LU decomposition\n",
    "    n = A.shape[0] #getting the number of rows in matrix A\n",
    "    U = np.copy(A) # creating a copy of the input matrix A to store upper triangular part\n",
    "    L = np.identity(n) # initializing the lower triangular matrix as an identity matrix\n",
    "\n",
    "    for j in range(n-1): #iterating over columns up to the second to last\n",
    "        for i in range(j+1,n): #iterating over each row below the current diagonal elemennt\n",
    "            coeff = U[i,j]/U[j,j] # calculating the coefficient for eliminiting the elemtn U[i,j]\n",
    "            U[i,j:] -= coeff*U[j,j:] #updating row i and the copy of matrix U\n",
    "            L[i,j] = coeff #storing the coefficient in the lower triangular matrix\n",
    "\n",
    "    return L, U # returning lower triangular matrix and upper triangular matrix"
   ]
  },
  {
   "cell_type": "markdown",
   "id": "ebcdf180",
   "metadata": {
    "id": "ebcdf180"
   },
   "source": [
    "#### 2.4.2: Apply LU decomposition  (3 points)\n",
    "Now, solve the same problem from Part 2.3 using LU decomposition to solve the linear equations instead."
   ]
  },
  {
   "cell_type": "code",
   "execution_count": 7,
   "id": "e658b790",
   "metadata": {},
   "outputs": [
    {
     "name": "stdout",
     "output_type": "stream",
     "text": [
      "Solutions for x1 to x3 using LU decomposition:\n",
      "x1: 4.708627021762396\n",
      "x2: 3.167254043524792\n",
      "x3: 1.5837688965429033\n"
     ]
    }
   ],
   "source": [
    "# Given parameters\n",
    "n = 3\n",
    "h = 1 / (n+1)\n",
    "\n",
    "A = generate_A_matrix(n) # generating A matrix\n",
    "f_values = 100 * np.exp(-10 * np.linspace(0, 1, n)) # generating f_values \n",
    "b = generate_b_vector(f_values, h) # generating b vector\n",
    "\n",
    "L, U = ludec(A) # LU decomposition\n",
    "y = forsub(L, b) # forward substitution on Ly = b\n",
    "x = backsub(U, y) # backward substitution on Ux = y\n",
    "\n",
    "# printing the result\n",
    "print(\"Solutions for x1 to x3 using LU decomposition:\")\n",
    "print(\"x1:\", x[0])\n",
    "print(\"x2:\", x[1])\n",
    "print(\"x3:\", x[2])"
   ]
  },
  {
   "cell_type": "markdown",
   "id": "dc14dce6",
   "metadata": {
    "id": "dc14dce6"
   },
   "source": [
    "### 2.5: Scaling the problem (5 points)\n",
    "Solve the same problem with the setup above but expand to solve the problem for matrices of the sizes\n",
    "$10\\times 10$, $100\\times 100$ and $1000\\times 1000$.  \n",
    "(That means that you use $n=10$, $n=100$ and $n=1000$ grid points.)\n",
    "\n",
    "Make plots to demonstrate the following:\n",
    "\n",
    "#### 2.5.1: Make scaling plot(s) (3 points)\n",
    "How the solution varies as you increase the number grid points $n$.\n",
    "(Don't forget to compare with exact solution.)\n",
    "\n",
    "#### 2.5.2: Compare the solutions (2 points)\n",
    "Compare the solutions from Gaussian elimination and LU decomposition.\n",
    "Create an additional Markdown cell to comment: Are they what you expected? Why?"
   ]
  },
  {
   "cell_type": "code",
   "execution_count": 8,
   "id": "b45e87d0",
   "metadata": {},
   "outputs": [
    {
     "data": {
      "image/png": "[encoded data removed]",
      "text/plain": [
       "<Figure size 640x480 with 1 Axes>"
      ]
     },
     "metadata": {},
     "output_type": "display_data"
    }
   ],
   "source": [
    "import matplotlib.pyplot as plt\n",
    "\n",
    "def solve_and_plot(n_values):\n",
    "    for n in n_values:\n",
    "        h = 1 / (n+1)\n",
    "\n",
    "        A = generate_A_matrix(n) # generating A matrix\n",
    "        f_values = 100 * np.exp(-10 * np.linspace(0, 1, n))  # generating f_values\n",
    "        b = generate_b_vector(f_values, h) # generating b vector\n",
    "\n",
    "        # solving the system of linear equations using Gaussian elimination\n",
    "        x_gaussian = gauelim(A, b)\n",
    "\n",
    "        # performing LU decomposition\n",
    "        L, U = ludec(A)\n",
    "        # performing forward sub on Ly = b\n",
    "        y = forsub(L, b)\n",
    "        # performing back sub on Ux = y\n",
    "        x_lu = backsub(U, y)\n",
    "\n",
    "        # plotting\n",
    "        plt.plot(np.linspace(0, 1, n), x_gaussian, label=('Gaussian n= '+(str(n))))\n",
    "        plt.plot(np.linspace(0, 1, n), x_lu, label=('LU n= '+(str(n))), linestyle = (0, (5, 10)))\n",
    "        plt.title(\"The dashed lines are LU Decomposition and the solid lines are Gaussian Elimination\")\n",
    "        plt.suptitle(\"Poisson Equation\")\n",
    "        plt.xlabel('y')\n",
    "        plt.ylabel('u(y)')\n",
    "        plt.grid()\n",
    "        plt.legend()\n",
    "\n",
    "# solving and plotting for different values of n\n",
    "n_values = [10, 100, 1000]\n",
    "solve_and_plot(n_values)"
   ]
  },
  {
   "cell_type": "markdown",
   "id": "b8706f82",
   "metadata": {},
   "source": [
    "<font color='blue'>\n",
    "\n",
    "In the generated plots, the solutions obtained from Gaussian elimination and LU decomposition closely match each other for all values of $n$. The solutions obtained from both methods align well with the exact solution for each $n$, as demonstrated by the close proximity of the plotted curves. As $n$ increases, both methods continue to provide accurate solutions, showcasing their scalability for larger systems.\n",
    "\n",
    "Gaussian elimination and LU decomposition use different algorithms to achieve the same result – expressing a matrix as the product of lower and upper triangular matrices. The slight numerical differences that may arise are likely due to floating-point arithmetic and rounding errors. Despite the numerical differences, both methods yield solutions that are accurate enough for practical purposes. "
   ]
  },
  {
   "cell_type": "markdown",
   "id": "de2749c6",
   "metadata": {
    "id": "de2749c6"
   },
   "source": [
    "### 2.6: Comparison with `numpy` (5 points)\n",
    "In Python, there is a function `solve` for solving simultaneous equations in the module `linalg` of the `numpy` package.\n",
    "This function uses LU decomposition (with partial pivoting and row interchanges) and back substitution to solve systems of linear equations $\\mathbf{A}\\mathbf{x} = \\mathbf{b}$.\n",
    "\n",
    "Below is an example code of what you need to do:\n",
    "\n",
    "```\n",
    "from numpy.linalg import solve\n",
    "x = solve(A, b)\n",
    "```\n",
    "\n",
    "#### 2.6.1\n",
    "In the code cell, use the timer (see Day06 in-class notebook) to record the time it takes NumPy's `solve` function to find the solution as a function of $n$.\n",
    "\n",
    "#### 2.6.2\n",
    "Measure the time taken by your LU decomposition code as a function of $n$ and compare."
   ]
  },
  {
   "cell_type": "code",
   "execution_count": 9,
   "id": "57dc62c3",
   "metadata": {
    "id": "57dc62c3"
   },
   "outputs": [],
   "source": [
    "import time\n",
    "from numpy.linalg import solve"
   ]
  },
  {
   "cell_type": "code",
   "execution_count": 10,
   "id": "3f8888fd",
   "metadata": {},
   "outputs": [
    {
     "name": "stdout",
     "output_type": "stream",
     "text": [
      "NumPy Solve function Time:\n",
      "{10: 0.0, 100: 0.0, 1000: 0.014722824096679688, 1500: 0.031246662139892578, 2000: 0.1144256591796875}\n",
      "\n",
      "LU decomposition Time:\n",
      "{10: 0.0, 100: 0.014234304428100586, 1000: 1.6797459125518799, 1500: 4.44542121887207, 2000: 8.7866370677948}\n"
     ]
    }
   ],
   "source": [
    "# function for timing NumPy's solve function\n",
    "def time_numpy_solve(A, b):\n",
    "    start_time = time.time() # recording the start time\n",
    "    x = solve(A, b) # using numpy solve function to solve Ax = b\n",
    "    end_time = time.time() # recording the end time\n",
    "    return end_time - start_time # calculating and return the execution time\n",
    "\n",
    "# function for timing LU decomposition code\n",
    "def time_lu_decomposition(A, b, lu_func):\n",
    "    start_time = time.time() # recording the start time\n",
    "    L, U = lu_func(A) # performing LU decomposition on coeff matrix A\n",
    "    y = forsub(L, b) # using forward sub to solve Ly = b\n",
    "    x = forsub(U, y) # using back sub to solve Ux = y\n",
    "    end_time = time.time() # recording the end time\n",
    "    return end_time - start_time # calculating and return the execution time\n",
    "\n",
    "# list of values for n, with some added values\n",
    "n_values = [10, 100, 1000, 1500, 2000]\n",
    "\n",
    "# place to store our results later on\n",
    "numpy_solve_times = {}\n",
    "lu_decomposition_times = {}\n",
    "\n",
    "# measuring the time for each value of n\n",
    "for n in n_values:\n",
    "    # generating A matrix and b vector\n",
    "    A = generate_A_matrix(n)\n",
    "    f_values = 100 * np.exp(-10 * np.linspace(0, 1, n))\n",
    "    b = generate_b_vector(f_values, 1 / (n+1))\n",
    "\n",
    "    # timing numpy solve function\n",
    "    numpy_solve_time = time_numpy_solve(A, b)\n",
    "    numpy_solve_times[n] = numpy_solve_time\n",
    "\n",
    "    # timing LU decomposition code\n",
    "    lu_decomposition_time = time_lu_decomposition(A, b, ludec)\n",
    "    lu_decomposition_times[n] = lu_decomposition_time\n",
    "\n",
    "# printing the results\n",
    "print(\"NumPy Solve function Time:\")\n",
    "print(numpy_solve_times)\n",
    "print(\"\\nLU decomposition Time:\")\n",
    "print(lu_decomposition_times)"
   ]
  },
  {
   "cell_type": "code",
   "execution_count": 11,
   "id": "b118aa94",
   "metadata": {},
   "outputs": [
    {
     "data": {
      "image/png": "[encoded data removed]",
      "text/plain": [
       "<Figure size 1000x600 with 1 Axes>"
      ]
     },
     "metadata": {},
     "output_type": "display_data"
    }
   ],
   "source": [
    "plt.figure(figsize=(10, 6))\n",
    "\n",
    "# plotting numpy solve function times\n",
    "plt.plot(list(numpy_solve_times.keys()), list(numpy_solve_times.values()), marker='o', label=\"NumPy's solve\")\n",
    "# plotting LU decomposition times\n",
    "plt.plot(list(lu_decomposition_times.keys()), list(lu_decomposition_times.values()), marker='o', label=\"Your LU Decomposition\")\n",
    "\n",
    "plt.title('NumPy Solve vs. LU Decomposition')\n",
    "plt.xlabel('Matrix Size (n)')\n",
    "plt.ylabel('Execution Time (seconds)')\n",
    "plt.legend()\n",
    "plt.grid()\n",
    "plt.show()"
   ]
  },
  {
   "cell_type": "markdown",
   "id": "604f274a",
   "metadata": {},
   "source": [
    "<font color='blue'>\n",
    "\n",
    "According to the results plotted above, as the matrix size increases, NumPy's solve function proves itself to be faster rather than the LU decomposition method."
   ]
  },
  {
   "cell_type": "markdown",
   "id": "58c352bb",
   "metadata": {
    "id": "58c352bb"
   },
   "source": [
    "----\n",
    "\n",
    "## Part 3: Iterative Methods for Solving Linear Equations (20 points)\n",
    "\n",
    "### 3.1: Review the Day06 pre-class materials  (5 points)\n",
    "\n",
    "From the Day06 pre-class assignment, we learned about two example iterative methods:\n",
    "\n",
    "* Jacobi iterative method\n",
    "\n",
    "$$\n",
    "x_i^{(k+1)}=\\frac{b_i-\\sum_{j=1, j\\ne i}^{n}a_{ij}x_j^{(k)}}{a_{ii}}\n",
    "$$\n",
    "\n",
    "* Gauss-Seidel's method\n",
    "\n",
    "$$\n",
    "x^{(k+1)}_i = \\frac{1}{a_{ii}} \\left(b_i - \\sum_{j < i}a_{ij}x^{(k+1)}_j - \\sum_{j > i}a_{ij}x^{(k)}_j \\right),\\quad i\\in\\{1,2,\\ldots,n\\}.\n",
    "$$\n",
    "\n",
    "In Day06 in-class notebook, you and your groupmates worked out the code for the Jacobi iterative method. In this exercise, you will extend your Jacobi iterative method code to Gauss-Seidel's method.\n",
    "\n",
    "Add comments line-by-line to the Jacobi iterative method code below."
   ]
  },
  {
   "cell_type": "code",
   "execution_count": 12,
   "id": "44f151cd",
   "metadata": {
    "id": "44f151cd"
   },
   "outputs": [],
   "source": [
    "# function to calculate the relative error between the two vectors\n",
    "def tol_fun(xolds,xnews):\n",
    "    errs = np.abs((xnews - xolds)/xnews) # error formula\n",
    "    return np.sum(errs) # returning the value of the error\n",
    "\n",
    "def jacobi(A,bs,kmax=50,tol=1.e-6): # function for the Jacobi Iterative Method\n",
    "    n = bs.size # assigning the value of the length of vector bs to n\n",
    "    xnews = np.zeros(n) # initializing the solution vector with zeroes\n",
    "\n",
    "    for k in range(1,kmax): # iterating from 1 to 50 (kmax was set to 50 above)\n",
    "        xs = np.copy(xnews) # copying the solution vector from the previous iteration\n",
    "\n",
    "        for i in range(n): # iterating from 0 to n-1\n",
    "            slt = A[i,:i]@xs[:i] # the dot prodcut of the elements to the LEFT of the diagonal\n",
    "            sgt = A[i,i+1:]@xs[i+1:] # the dot product of the elemnts to the RIGHT of the diagonal\n",
    "            xnews[i] = (bs[i] - slt - sgt)/A[i,i] # updating the solution\n",
    "\n",
    "        err = tol_fun(xs,xnews) #calculating the relative error between the previous and current solution\n",
    "        print(k, xnews, err) # printing the current iteration, solution, error\n",
    "        if err < tol: # checking if the error is below tolerance, which will be defined as a parameter\n",
    "            break # code is done\n",
    "    else:\n",
    "        xnews = None #if the max number of iterations is reached without conv. the solution is None\n",
    "        \n",
    "    return xnews # return the final solution vector "
   ]
  },
  {
   "cell_type": "markdown",
   "id": "590058b2",
   "metadata": {
    "id": "590058b2"
   },
   "source": [
    "\n",
    "###  3.2: Write a `gauss_seidel(inA, inb, x0, kmax, tol)` function (5 points)\n",
    "\n",
    "Write a function with the signature `gauss_seidel(inA, inb, x0, kmax, tol)` that will take a general $n \\times n$ matrix $\\mathbf{A}$ and a vector $\\mathbf{b}$ from a system of linear equations $\\mathbf{A} \\mathbf{x} = \\mathbf{b}$ and return the vector solution $\\mathbf{x}$ using the Gauss-Seidel method.\n",
    "\n",
    "The initial guess `x0` for the solution $\\mathbf{x}$ should default to `None`.\n",
    "Inside the function, the code should generate a vector of 0's the same size as `inb` if no `x0` is given.\n",
    "\n",
    "Before proceeding further, have the function check that `inb`, `inA` and `x0` (if given) have the same size $N$;\n",
    "print out an error message and exit the function if they don't.\n",
    "\n",
    "We will impose a max number of iterations `kmax`, so that the function will still exit even if the Gauss-Seidel iteration is not converging (or is converging too slowly).\n",
    "Default `kmax` to 50.\n",
    "\n",
    "We want the program to exit as soon as we get a good enough solution.\n",
    "We need a `tol` (\"tolerance\") parameter to control how good of a solution is good enough. Default `tol` to `1e-6` in the function."
   ]
  },
  {
   "cell_type": "markdown",
   "id": "64ca65ee",
   "metadata": {
    "id": "64ca65ee"
   },
   "source": [
    "Using the Jacobi code given here, modify it to use the Gauss-Seidel method.\n",
    "\n",
    "Following  similar steps in Day06 in-class notebook,  \n",
    "Inside the function, please print for each iteration:\n",
    "1. the number of the iteration\n",
    "1. the solution (so far)\n",
    "1. the `err` to check the condition"
   ]
  },
  {
   "cell_type": "code",
   "execution_count": 13,
   "id": "72f5b627",
   "metadata": {},
   "outputs": [],
   "source": [
    "def gauss_seidel(inA, inb, x0=None, kmax=50, tol=1e-6):\n",
    "    # Check if inb, inA, and x0 (if given) have the same size\n",
    "    if x0 is not None and (len(inb) != len(inA) or len(x0) != len(inA)):\n",
    "        print(\"Error: Sizes of inb, inA, and x0 must be the same.\")\n",
    "        return\n",
    "\n",
    "    n = len(inb)\n",
    "    \n",
    "    # initializing x0 if not provided\n",
    "    if x0 is None:\n",
    "        x0 = np.zeros(n)\n",
    "\n",
    "    for k in range(1, kmax + 1):\n",
    "        xs = np.copy(x0)  # copying the solution vector from the previous iteration\n",
    "\n",
    "        for i in range(n):\n",
    "            slt = inA[i, :i] @ x0[:i]  # dot product of the elements LEFT of diagonal\n",
    "            sgt = inA[i, i+1:] @ xs[i+1:]  # dot product of the elements RIGHT of diagonal\n",
    "            x0[i] = (inb[i] - slt - sgt) / inA[i, i]  # updating solution for the current variable\n",
    "\n",
    "        err = tol_fun(xs, x0)  # calculating the rel. error between the previous and current solutions\n",
    "        print(k, x0, err)  # print current iteration, solution, and error\n",
    "\n",
    "        if err < tol:  # checking if the error is below the tolerance\n",
    "            break # stop running\n",
    "\n",
    "    return x0  # returning the final solution vector"
   ]
  },
  {
   "cell_type": "markdown",
   "id": "237068e2",
   "metadata": {
    "id": "237068e2"
   },
   "source": [
    "\n",
    "### 3.3: Test Your Function (10 points)\n",
    "\n",
    "Now we need to make sure that `gauss_seidel` returns the correct solution.\n",
    "\n",
    "#### 3.3.1 (5 points)\n",
    "Take the matrix $\\mathbf{A}$ and a vector $\\mathbf{b}$ below, and run your `gauss_seidel`. Return the first 5 solutions.\n",
    "Compare the results with the output of the `jacobi` function, and write down your observations."
   ]
  },
  {
   "cell_type": "code",
   "execution_count": 14,
   "id": "485c7424",
   "metadata": {
    "id": "485c7424"
   },
   "outputs": [
    {
     "name": "stdout",
     "output_type": "stream",
     "text": [
      "Gauss-Seidel solutions:\n",
      "1 [ 2.4     -4.025    1.90625] 3.0\n",
      "2 [ 0.8325     -2.960625    2.03203125] 2.3042923909422135\n",
      "3 [ 0.9950625  -2.99014062  1.99876953] 0.18988121489333215\n",
      "4 [ 1.00246406 -3.00123164  1.99969189] 0.01154011015143042\n",
      "5 [ 0.99987691 -3.00003087  2.00003849] 0.0031610137454690657\n",
      "6 [ 0.99997843 -2.99998229  2.00000096] 0.00013647421024256731\n",
      "7 [ 1.00000316 -3.00000094  1.99999945] 3.1702300841775105e-05\n",
      "8 [ 1.00000003 -3.00000015  2.00000003] 3.6787456516365136e-06\n",
      "9 [ 0.99999996 -2.99999998  2.        ] 1.4511560630949468e-07\n",
      "\n",
      "Jacobi solutions:\n",
      "1 [ 2.4   -3.125  1.5  ] 3.0\n",
      "2 [ 1.175   -3.65     1.68125] 1.294195499377532\n",
      "3 [ 0.9975    -3.1453125  2.11875  ] 0.5448915669811014\n",
      "4 [ 0.9234375  -2.969375    2.03695313] 0.17961021347058104\n",
      "5 [ 0.99134375 -2.96205078  2.01148438] 0.08363355055975198\n",
      "6 [ 1.00299609 -2.99388281  1.99267676] 0.03168826196775878\n",
      "7 [ 1.00415273 -3.00295435  1.99772168] 0.00669806447274922\n",
      "8 [ 1.00032046 -3.00212686  1.9997004 ] 0.005096192162828981\n",
      "9 [ 0.99969447 -3.00019507  2.0004516 ] 0.0016455820349403146\n",
      "10 [ 0.99978035 -2.99977253  2.00012515] 0.0003899703289463578\n",
      "11 [ 0.99999543 -2.99988634  1.99999804] 0.00031658273511992184\n",
      "12 [ 1.00002351 -2.99999878  1.99997273] 7.821587855635742e-05\n",
      "13 [ 1.00001115 -3.00001564  1.99999382] 2.85237643134079e-05\n",
      "14 [ 0.99999935 -3.00000573  2.00000112] 1.8762125201350285e-05\n",
      "15 [ 0.99999841 -2.99999947  2.0000016 ] 3.262652343357935e-06\n",
      "16 [ 0.99999947 -2.999999    2.00000027] 1.8820971707086774e-06\n",
      "17 [ 1.00000009 -2.99999973  1.99999988] 1.0604556669995183e-06\n",
      "18 [ 1.0000001  -3.00000006  1.99999991] 1.304005261243177e-07\n",
      "\n",
      "Comparison of solutions:\n",
      "Iteration 1: Gauss-Seidel=0.9999999580793612, Jacobi=1.0000000996922527\n",
      "Iteration 2: Gauss-Seidel=-2.999999976916966, Jacobi=-3.0000000636324717\n",
      "Iteration 3: Gauss-Seidel=2.0000000047094013, Jacobi=1.9999999102020531\n"
     ]
    }
   ],
   "source": [
    "A = np.array([[5.,-1.,2.],[3.,8., -2.],[1.,1.,4.]])\n",
    "b = np.array([[12.],[-25.],[6.]])\n",
    "\n",
    "# the intial guess for solutions\n",
    "x0_test = np.zeros(len(b))\n",
    "\n",
    "# running gauss_seidel\n",
    "print(\"Gauss-Seidel solutions:\")\n",
    "gauss_seidel_solutions = gauss_seidel(A, b, x0=x0_test, kmax=50, tol=1e-6)[:5]\n",
    "\n",
    "# running jacobi for comparison\n",
    "print(\"\\nJacobi solutions:\")\n",
    "jacobi_solutions = jacobi(A, b, kmax=50, tol=1e-6)[:5]\n",
    "\n",
    "# comparing and printing the solutions\n",
    "print(\"\\nComparison of solutions:\")\n",
    "for i in range(min(5, min(len(gauss_seidel_solutions), len(jacobi_solutions)))):\n",
    "    print(f\"Iteration {i+1}: Gauss-Seidel={gauss_seidel_solutions[i]}, Jacobi={jacobi_solutions[i]}\")"
   ]
  },
  {
   "cell_type": "markdown",
   "id": "3f02657c",
   "metadata": {},
   "source": [
    "<font color='blue'>\n",
    "\n",
    "The solutions from both methods are very close in the initial iterations, indicating that they start with similar estimates. Both methods exhibit a similar convergence pattern, approaching the true solution as the iterations progress.\n",
    "\n",
    "In this example, both methods converge relatively quickly, reaching accurate solutions within a few iterations, but at different number of iterations. The Jacobi method took nearly twice as long to converge as the Gauss-Seidel method did. The comparison printout showed that the solutions from Gauss-Seidel and Jacobi matched very closely even for the few iterations displayed."
   ]
  },
  {
   "cell_type": "markdown",
   "id": "19d8a0d9",
   "metadata": {
    "id": "19d8a0d9"
   },
   "source": [
    "\n",
    "#### 3.3.2 (5 points)\n",
    "Use another example with a $3\\times 3$ linear system with $\\mathbf{A}$ and $\\mathbf{b}$ given below. Compare the solutions using both functions again with numpy `solve` function.\n",
    "Does the your function output make sense? Why?"
   ]
  },
  {
   "cell_type": "code",
   "execution_count": 15,
   "id": "072727ab",
   "metadata": {
    "id": "072727ab"
   },
   "outputs": [
    {
     "name": "stdout",
     "output_type": "stream",
     "text": [
      "Gauss-Seidel solution:\n",
      "1 [ 0.5  1.5 -0.5] 3.0\n",
      "2 [0. 1. 1.] inf\n",
      "3 [-0.5  4.5 -5.5] 2.9595959595959593\n",
      "4 [  1. -10.  22.] 4.2\n",
      "5 [ -5.5  51.5 -94.5] 3.6087971719039675\n",
      "6 [  22. -209.  399.] 3.7332535885167464\n",
      "7 [  -94.5   894.5 -1691.5] 3.702339625547385\n",
      "8 [  399. -3780.  7164.] 3.7095934280144807\n",
      "9 [ -1691.5  16021.5 -30348.5] 3.70787606925379\n",
      "10 [  7164. -67859. 128557.] 3.708281346452039\n",
      "11 [ -30348.5  287464.5 -544577.5] 3.708185658016588\n",
      "12 [  128557. -1217710.  2306866.] 3.7082082465690673\n",
      "13 [ -544577.5  5158311.5 -9772042.5] 3.7082029140871278\n",
      "14 [  2306866. -21850949.  41395035.] 3.7082041729140407\n",
      "15 [-9.77204250e+06  9.25621145e+07 -1.75352184e+08] 3.708203875745168\n",
      "16 [ 4.13950350e+07 -3.92099400e+08  7.42803768e+08] 3.7082039458972185\n",
      "17 [-1.75352184e+08  1.66095972e+09 -3.14656726e+09] 3.708203929336566\n",
      "18 [ 7.42803768e+08 -7.03593828e+09  1.33290728e+10] 3.7082039332460055\n",
      "19 [-3.14656726e+09  2.98047128e+10 -5.64628584e+10] 3.708203932323112\n",
      "20 [ 1.33290728e+10 -1.26254790e+11  2.39180507e+11] 3.708203932540978\n",
      "21 [-5.64628584e+10  5.34823871e+11 -1.01318488e+12] 3.7082039324895466\n",
      "22 [ 2.39180507e+11 -2.26555028e+12  4.29192004e+12] 3.7082039325016876\n",
      "23 [-1.01318488e+12  9.59702497e+12 -1.81808651e+13] 3.7082039324988214\n",
      "24 [ 4.29192004e+12 -4.06536502e+13  7.70153803e+13] 3.7082039324994986\n",
      "25 [-1.81808651e+13  1.72211626e+14 -3.26242386e+14] 3.7082039324993383\n",
      "26 [ 7.70153803e+13 -7.29500153e+14  1.38198493e+15] 3.7082039324993765\n",
      "27 [-3.26242386e+14  3.09021224e+15 -5.85418209e+15] 3.7082039324993676\n",
      "28 [ 1.38198493e+15 -1.30903491e+16  2.47987133e+16] 3.7082039324993694\n",
      "29 [-5.85418209e+15  5.54516086e+16 -1.05049035e+17] 3.7082039324993685\n",
      "30 [ 2.47987133e+16 -2.34896784e+17  4.44994854e+17] 3.7082039324993694\n",
      "31 [-1.05049035e+17  9.95038743e+17 -1.88502845e+18] 3.7082039324993694\n",
      "32 [ 4.44994854e+17 -4.21505176e+18  7.98510866e+18] 3.708203932499369\n",
      "33 [-1.88502845e+18  1.78552458e+19 -3.38254631e+19] 3.7082039324993685\n",
      "34 [ 7.98510866e+18 -7.56360348e+19  1.43286961e+20] 3.7082039324993694\n",
      "35 [-3.38254631e+19  3.20399385e+20 -6.06973307e+20] 3.708203932499369\n",
      "36 [ 1.43286961e+20 -1.35723358e+21  2.57118019e+21] 3.7082039324993694\n",
      "37 [-6.06973307e+20  5.74933369e+21 -1.08916941e+22] 3.7082039324993685\n",
      "38 [ 2.57118019e+21 -2.43545683e+22  4.61379564e+22] 3.7082039324993694\n",
      "39 [-1.08916941e+22  1.03167607e+23 -1.95443520e+23] 3.708203932499369\n",
      "40 [ 4.61379564e+22 -4.37024996e+23  8.27912036e+23] 3.7082039324993694\n",
      "41 [-1.95443520e+23  1.85126759e+24 -3.50709166e+24] 3.7082039324993694\n",
      "42 [ 8.27912036e+23 -7.84209536e+24  1.48562787e+25] 3.7082039324993694\n",
      "43 [-3.50709166e+24  3.32196490e+25 -6.29322064e+25] 3.7082039324993694\n",
      "44 [ 1.48562787e+25 -1.40720692e+26  2.66585104e+26] 3.7082039324993694\n",
      "45 [-6.29322064e+25  5.96102415e+26 -1.12927262e+27] 3.7082039324993694\n",
      "46 [ 2.66585104e+26 -2.52513035e+27  4.78367560e+27] 3.7082039324993694\n",
      "47 [-1.12927262e+27  1.06966238e+28 -2.02639750e+28] 3.7082039324993694\n",
      "48 [ 4.78367560e+27 -4.53116256e+28  8.58395757e+28] 3.708203932499369\n",
      "49 [-2.02639750e+28  1.91943126e+29 -3.63622278e+29] 3.7082039324993694\n",
      "50 [ 8.58395757e+28 -8.13084131e+29  1.54032869e+30] 3.7082039324993694\n",
      "\n",
      "Jacobi solution:\n",
      "1 [0.5 2.  3. ] 3.0\n",
      "2 [-2.   7.5 -1.5] 4.983333333333333\n",
      "3 [ -2.5   1.  -10. ] 7.55\n",
      "4 [  5.  -15.5   3.5] 6.421658986175116\n",
      "5 [ 6.5  4.  29. ] 5.985079575596817\n",
      "6 [-16.   53.5 -11.5] 5.853222775294595\n",
      "7 [-20.5  -5.  -88. ] 12.788830376940131\n",
      "8 [  47.  -153.5   33.5] 6.030462594505469\n",
      "9 [ 60.5  22.  263. ] 9.073036797284983\n",
      "10 [-142.   467.5 -101.5] 5.970130519424866\n",
      "11 [-182.5  -59.  -790. ] 10.017165609120273\n",
      "12 [  425.  -1395.5   303.5] 5.990098415195187\n",
      "13 [ 546.5  184.  2369. ] 9.678449881764188\n",
      "14 [-1276.   4193.5  -911.5] 5.983426723261303\n",
      "15 [-1640.5  -545.  -7108. ] 9.78844797939379\n",
      "16 [  3827.  -12573.5   2733.5] 5.985648868041965\n",
      "17 [ 4920.5  1642.  21323. ] 9.751468569405546\n",
      "18 [-11482.   37727.5  -8201.5] 5.98490795857972\n",
      "19 [-14762.5  -4919.  -63970. ] 9.763759872858872\n",
      "20 [  34445.  -113175.5   24603.5] 5.985154906778388\n",
      "21 [ 44286.5  14764.  191909. ] 9.75965887728136\n",
      "22 [-103336.   339533.5  -73811.5] 5.985072588309972\n",
      "23 [-132860.5  -44285.  -575728. ] 9.761025442614402\n",
      "24 [  310007.  -1018593.5   221433.5] 5.985100027532525\n",
      "25 [ 398580.5  132862.  1727183. ] 9.76056987272194\n",
      "26 [-930022.  3055787.5 -664301.5] 5.98509088109535\n",
      "27 [-1195742.5  -398579.  -5181550. ] 9.760721724006018\n",
      "28 [ 2790065.  -9167355.5  1992903.5] 5.985093929904446\n",
      "29 [ 3587226.5  1195744.  15544649. ] 9.760671106317265\n",
      "30 [-8370196.  27502073.5 -5978711.5] 5.985092913634381\n",
      "31 [-10761680.5  -3587225.  -46633948. ] 9.760687978814175\n",
      "32 [ 25110587.  -82506213.5  17936133.5] 5.98509325239103\n",
      "33 [3.22850405e+07 1.07616820e+07 1.39901843e+08] 9.760682354641204\n",
      "34 [-7.53317620e+07  2.47518648e+08 -5.38084015e+07] 5.985093139472142\n",
      "35 [-9.68551225e+07 -3.22850390e+07 -4.19705530e+08] 9.760684229364713\n",
      "36 [ 2.25995285e+08 -7.42555936e+08  1.61425204e+08] 5.985093177111771\n",
      "37 [2.90565366e+08 9.68551240e+07 1.25911659e+09] 9.760683604456785\n",
      "38 [-6.77985856e+08  2.22766781e+09 -4.84275612e+08] 5.985093164565228\n",
      "39 [-8.71696100e+08 -2.90565365e+08 -3.77734977e+09] 9.760683812759419\n",
      "40 [ 2.03395757e+09 -6.68300343e+09  1.45282683e+09] 5.985093168747408\n",
      "41 [2.61508830e+09 8.71696102e+08 1.13320493e+10] 9.760683743325208\n",
      "42 [-6.10187270e+09  2.00490103e+10 -4.35848050e+09] 5.985093167353348\n",
      "43 [-7.84526490e+09 -2.61508830e+09 -3.39961479e+10] 9.760683766469946\n",
      "44 [ 1.83056181e+10 -6.01470309e+10  1.30754415e+10] 5.985093167818035\n",
      "45 [2.35357947e+10 7.84526490e+09 1.01988444e+11] 9.760683758755032\n",
      "46 [-5.49168543e+10  1.80441093e+11 -3.92263245e+10] 5.985093167663139\n",
      "47 [-7.06073841e+10 -2.35357947e+10 -3.05965331e+11] 9.76068376132667\n",
      "48 [ 1.64750563e+11 -5.41323278e+11  1.17678974e+11] 5.985093167714771\n",
      "49 [2.11822152e+11 7.06073841e+10 9.17895994e+11] 9.760683760469457\n",
      "\n",
      "Comparison of solutions:\n",
      "Gauss-Seidel: [ 8.58395757e+28 -8.13084131e+29  1.54032869e+30]\n",
      "Jacobi: None\n",
      "Numpy Solve: [[-0.25]\n",
      " [ 1.75]\n",
      " [-0.25]]\n"
     ]
    },
    {
     "name": "stderr",
     "output_type": "stream",
     "text": [
      "C:\\Users\\cesay\\AppData\\Local\\Temp\\ipykernel_23516\\3447081729.py:3: RuntimeWarning: divide by zero encountered in divide\n",
      "  errs = np.abs((xnews - xolds)/xnews) # error formula\n"
     ]
    }
   ],
   "source": [
    "A = np.array([[2,1,1], [1,1,-2],[1,2,1]])\n",
    "b = np.array([[1], [2], [3]])\n",
    "\n",
    "# running gauss_seidel\n",
    "print(\"Gauss-Seidel solution:\")\n",
    "gauss_seidel_solution = gauss_seidel(A, b, x0=None, kmax=50, tol=1e-6)\n",
    "\n",
    "# running jacobi\n",
    "print(\"\\nJacobi solution:\")\n",
    "jacobi_solution = jacobi(A, b, kmax=50, tol=1e-6)\n",
    "\n",
    "# running numpy solve\n",
    "numpy_solution = np.linalg.solve(A, b)\n",
    "\n",
    "# printing solutions\n",
    "print(\"\\nComparison of solutions:\")\n",
    "print(f\"Gauss-Seidel: {gauss_seidel_solution}\")\n",
    "print(f\"Jacobi: {jacobi_solution}\")\n",
    "print(f\"Numpy Solve: {numpy_solution}\")"
   ]
  },
  {
   "cell_type": "markdown",
   "id": "d446b0d7",
   "metadata": {},
   "source": [
    "<font color='blue'>\n",
    "\n",
    "Both the Gauss-Seidel and Jacobi methods seem to diverge as the number of iterations increases. This is evident from the large and increasing values in the solutions. Also, the solutions obtained from the Gauss-Seidel and Jacobi methods don't seem to converge to a stable solution for this particular system. Based on these observations, it seems that the Gauss-Seidel and Jacobi iterative methods are not converging for this particular example. It could be due to the characteristics of the coefficient matrix in the system, which might not meet the conditions for convergence of these iterative methods.\n",
    "\n",
    "\n",
    "However, the solution obtained using the numpy solve function is $[-0.25, 1.75, -0.25]$, which is a valid solution for the given linear system. The actual solution was checked by hand."
   ]
  },
  {
   "cell_type": "markdown",
   "id": "30f54cbe",
   "metadata": {
    "id": "30f54cbe"
   },
   "source": [
    "----\n",
    "## Part 4:  Eigenvalues and Eigenvector: Quantum Rotator and Pendulum (15 points)\n",
    "\n",
    "Let use our matrix-manipulation toolkit to study the quantum mechanics to of a pendulum described by the Hamiltonian\n",
    "\n",
    "$$ \\hat{H} = \\frac{\\hbar^2 \\hat{l}^2}{2I} + U(\\phi)  $$\n",
    "\n",
    "$$ \\hat{L} = -i  \\frac{\\partial }{\\partial \\phi }$$\n",
    "\n",
    "$$ U(\\phi) = M g a (1-\\cos \\phi) $$\n",
    "\n",
    "where $\\hbar \\hat{l}$ is the quantum angular-momentum operator for a rotation around a fixed axis by the angle $\\phi$, $I$ is the moment of inertia, $M$ is the mass, and $a$ is the distance between the center of mass and the pivot point.\n",
    "A classical pendulum performs oscillations for $E > 2Mga$ and rotations in either the positive or negative direction for $E > 2Mga$.\n",
    "The frequency of small oscillations around the minimum of the potential energy is\n",
    "\n",
    "$$ \\omega \\approx \\sqrt{\\frac{Mga}{I}}.$$\n",
    "\n",
    "In the case $U(\\phi) = 0$, pendulum simplifies to a rotator.\n",
    "\n",
    "Since adding $2 \\pi n$ to the angle does not change the physical position of the pendulum, the wavefunction satisfies the periodicity condition\n",
    "\n",
    "$$\\Psi(\\phi,t) = \\Psi(\\phi+2 \\pi n,t) \\qquad,\\quad n \\in \\mathbb{Z}$$\n",
    "\n",
    "Thus we consider wavefunctions over the interval $-\\pi \\leq \\phi \\leq \\pi$ and require $\\Psi(-\\phi,t) = \\Psi(\\phi,t)$.\n",
    "A suitable complete set of basis functions satisfying these conditions consists of the eigenfunctions of the angular momentum\n",
    "\n",
    "$$ \\hat{l} \\chi_m = m \\chi_m $$\n",
    "\n",
    "that are given by\n",
    "\n",
    "$$ \\chi_m = \\frac{e^{i m \\phi}}{\\sqrt{2\\pi}}. $$\n",
    "\n",
    "For the pendulum, these are not the eigenfunctions, but we can use them as a basis to formulate the matrix Schrödinger equation $ E \\Psi = \\hat{H} \\Psi$.\n",
    "The matrix elements of the Hamiltonian are given by\n",
    "\n",
    "$$\\begin{align}\n",
    "H_{mn} &= \\int_{-\\pi}^\\pi d\\phi\\, \\chi_m^*(\\phi) \\hat{H} \\chi_n(\\phi) \\\\\n",
    "       &= \\int_{-\\pi}^\\pi d\\phi\\, e^{-i m \\phi} \\left( -\\frac{\\hbar^2}{2I}\\frac{\\partial^2}{\\partial \\phi^2} + Mga(1-\\cos \\phi)e^{im\\phi} \\right) e^{i n \\phi} \\\\\n",
    "       &= \\left(\\frac{\\hbar^2 m^2}{2I} + Mga\\right)\\delta_{mn} - \\frac{Mga}{2} \\left(\\delta_{m,n+1}+\\delta_{m,n-1}\\right)\n",
    "\\end{align}$$\n",
    "\n",
    "Now, you can turn this into a matrix problem and solve for the eigenvalues of this quantum system."
   ]
  },
  {
   "cell_type": "markdown",
   "id": "575282dc",
   "metadata": {
    "id": "575282dc"
   },
   "source": [
    "### 4.1: Creating the Hamiltonian matrix  (5 points)\n",
    "Write a function to create the Hamiltonian matrix `Hmatrix` with an input $N$, where $N$ is the highest rotator quantum number $m$ to consider in the basis.\n",
    "Let's set $\\hbar = 0.1$, and everything else ($M$, $a$, $g$, $I=Ma^2$) to 1.\n",
    "\n",
    "_Hints: The matrix should be almost diagonal due to the $\\delta$ functions. Remember that the quantum number $m$ can be positive or negative, so your matrix has rank $2N+1$._"
   ]
  },
  {
   "cell_type": "code",
   "execution_count": 16,
   "id": "e4740f21",
   "metadata": {},
   "outputs": [
    {
     "name": "stdout",
     "output_type": "stream",
     "text": [
      "[[ 1.125 -0.5    0.     0.     0.     0.     0.     0.     0.     0.\n",
      "   0.   ]\n",
      " [-0.5    1.08  -0.5    0.     0.     0.     0.     0.     0.     0.\n",
      "   0.   ]\n",
      " [ 0.    -0.5    1.045 -0.5    0.     0.     0.     0.     0.     0.\n",
      "   0.   ]\n",
      " [ 0.     0.    -0.5    1.02  -0.5    0.     0.     0.     0.     0.\n",
      "   0.   ]\n",
      " [ 0.     0.     0.    -0.5    1.005 -0.5    0.     0.     0.     0.\n",
      "   0.   ]\n",
      " [ 0.     0.     0.     0.    -0.5    1.    -0.5    0.     0.     0.\n",
      "   0.   ]\n",
      " [ 0.     0.     0.     0.     0.    -0.5    1.005 -0.5    0.     0.\n",
      "   0.   ]\n",
      " [ 0.     0.     0.     0.     0.     0.    -0.5    1.02  -0.5    0.\n",
      "   0.   ]\n",
      " [ 0.     0.     0.     0.     0.     0.     0.    -0.5    1.045 -0.5\n",
      "   0.   ]\n",
      " [ 0.     0.     0.     0.     0.     0.     0.     0.    -0.5    1.08\n",
      "  -0.5  ]\n",
      " [ 0.     0.     0.     0.     0.     0.     0.     0.     0.    -0.5\n",
      "   1.125]]\n"
     ]
    }
   ],
   "source": [
    "def Hmatrix(N):\n",
    "    # Constants\n",
    "    hbar = 0.1 # planck's constant divided by 2*pi\n",
    "    M = 1 # mass\n",
    "    a = 1 # the distance between the center of mass and the pivot point\n",
    "    g = 1 # gravitational acceleration\n",
    "    I = M * a**2 # moment of inertia\n",
    "\n",
    "    H = np.zeros((2 * N + 1, 2 * N + 1), dtype=float) # initializing the Hamiltonian matrix\n",
    "\n",
    "    for m in range(-N, N + 1): # filling the diagonal and off-diagonal elements\n",
    "        H[m+N, m+N] = (hbar**2*m**2/(2*I)) + M*g*a # diagonal elements\n",
    "        if m < N:\n",
    "            H[m + N, m + N + 1] = -0.5 * M * g * a #RIGHT off-diagonal elements\n",
    "        if m > -N:\n",
    "            H[m + N, m + N - 1] = -0.5 * M * g * a #LEFT off-diagonal elements\n",
    "\n",
    "    return H #returing the hamiltonian matrix\n",
    "\n",
    "# example usage:\n",
    "N_value = 5\n",
    "Hamiltonian_matrix = Hmatrix(N_value)\n",
    "print(Hamiltonian_matrix)"
   ]
  },
  {
   "cell_type": "markdown",
   "id": "25c23909",
   "metadata": {
    "id": "25c23909"
   },
   "source": [
    "### 4.2: Solve the eigenvalues for $N=10$ (5 points)\n",
    "\n",
    "---\n",
    "\n",
    "\n",
    "\n",
    "#### 4.2.1\n",
    "Apply the QR algorithm to solve for the eigenvalues.\n",
    "\n",
    "#### 4.2.2\n",
    "Compare your results with those returned by using `eigvals` from NumPy `linalg` package.\n",
    "\n",
    "#### 4.2.3\n",
    "Write down in a Markdown cell on the comparison.\n",
    "Are they in agreement? If not, give a few possibilities on why?"
   ]
  },
  {
   "cell_type": "code",
   "execution_count": 26,
   "id": "58c3e878",
   "metadata": {
    "id": "58c3e878"
   },
   "outputs": [],
   "source": [
    "#4.2.1\n",
    "\n",
    "#this code is found in the homework-assignment part of the slack channel!\n",
    "def qr_decomposition(A):\n",
    "    n = A.shape[0] # define size n of input matrix\n",
    "    Q = np.zeros((n,n)) # initializing Q to be the same size as A but filled with 0\n",
    "    R = np.zeros((n,n)) # initializing R to be the same size as A but filled with 0\n",
    "    \n",
    "    for j in range(n): # looping over upper right triange and diag. of R matrix\n",
    "        a = A[:, j]  # extracting the jth column of the input matrix A\n",
    "        for i in range(j): # iterating over the range up to the current column index j.\n",
    "            R[i,j] = np.dot(Q[:, i], A[:,j]) # calculate the R elements using dot product\n",
    "            a = a - R[i,j] * Q[:,i] # update the current column of A after subract. the contribution\n",
    "            \n",
    "        R[j,j] = np.linalg.norm(a) # set the diagonal element of R to the norm of the updated column\n",
    "        Q[:,j] = a / R[j,j] # set the current column of Q to the normalized updated column of A\n",
    "    return Q, R\n",
    "\n",
    "# new eigenvalue function\n",
    "def qr_eigen(A, k): \n",
    "    A_new = A\n",
    "    n = A.shape[0] # getting the size of the matrix A\n",
    "    Q = np.eye(n) # initializing the transformation matrix Q as the identity matrix\n",
    "    for _ in range(k): # iterating k times \n",
    "        Q_k, R_k = qr_decomposition(A_new) # performing QR decomp. on A\n",
    "        A = np.dot(R_k, Q_k) # updating the matrix A with the QR result\n",
    "        Q = np.dot(Q_k, Q) # accumulate the transformation matrix Q\n",
    "\n",
    "    return np.diag(np.matrix(A_new))# returning the eigenvalues and Q"
   ]
  },
  {
   "cell_type": "code",
   "execution_count": 27,
   "id": "11069e5a",
   "metadata": {},
   "outputs": [
    {
     "name": "stdout",
     "output_type": "stream",
     "text": [
      "Eigenvalues from QR algorithm:\n",
      "[1.5   1.405 1.32  1.245 1.18  1.125 1.08  1.045 1.02  1.005 1.    1.005\n",
      " 1.02  1.045 1.08  1.125 1.18  1.245 1.32  1.405 1.5  ]\n",
      "\n",
      "Eigenvalues from NumPy's eigvals:\n",
      "[0.04968806 0.14846811 0.2462906  0.3442279  0.44474632 0.55120515\n",
      " 0.66617975 0.79026039 0.92222298 1.05978444 1.2001718  1.34040664\n",
      " 2.22808274 2.22800662 1.47743017 1.60815036 1.72941401 1.83805829\n",
      " 2.03426476 2.0164321  1.9265088 ]\n"
     ]
    }
   ],
   "source": [
    "#4.2.2\n",
    "\n",
    "from numpy.linalg import eigvals\n",
    "\n",
    "N = 10\n",
    "\n",
    "# Obtain the Hamiltonian matrix\n",
    "H = Hmatrix(N)\n",
    "\n",
    "# Apply the QR algorithm to solve for the eigenvalues\n",
    "eigenvalues_qr = qr_eigen(H, 1000)  # You can adjust the number of iterations (here, 1000)\n",
    "print(\"Eigenvalues from QR algorithm:\")\n",
    "print(eigenvalues_qr)\n",
    "\n",
    "# Use NumPy's eigvals to get eigenvalues for comparison\n",
    "eigenvalues_numpy = eigvals(H)\n",
    "print(\"\\nEigenvalues from NumPy's eigvals:\")\n",
    "print(eigenvalues_numpy)"
   ]
  },
  {
   "cell_type": "markdown",
   "id": "13fc7ab5",
   "metadata": {},
   "source": [
    "<font color='blue'>\n",
    "\n",
    "4.3.3\n",
    "\n",
    "The eigenvalues obtained from the QR algorithm are not in agreement with the eigenvalues from NumPy's eigvals function. This can be due to convergance issues. If the QR algorithm does not converge properly or converges to a different solution due to numerical instability, the results can deviate."
   ]
  },
  {
   "cell_type": "markdown",
   "id": "3c5fdb72",
   "metadata": {
    "id": "3c5fdb72"
   },
   "source": [
    "### 4.3: Solve the eigenvalues the $N=100$ (5 points)\n",
    "\n",
    "\n",
    "Now extend $N$ to 100. Sort the eigenvalues from lowest values to the highest ones.\n",
    "\n",
    "#### 4.3.1: Plots\n",
    "Write code below to make two plots: one with all the eigenvalues and one with the lowest 50 eigenvalues.\n",
    "Each plot should include a horizontal line at $E = 2Mga$.\n",
    "\n",
    "#### 4.3.2: Observations\n",
    "What do you observe from this system? Write your observations in the Markdown cell below."
   ]
  },
  {
   "cell_type": "code",
   "execution_count": 19,
   "id": "b0d5ed03",
   "metadata": {},
   "outputs": [
    {
     "data": {
      "text/plain": [
       "Text(0, 0.5, 'Energy')"
      ]
     },
     "execution_count": 19,
     "metadata": {},
     "output_type": "execute_result"
    },
    {
     "data": {
      "image/png": "[encoded data removed]",
      "text/plain": [
       "<Figure size 1200x600 with 2 Axes>"
      ]
     },
     "metadata": {},
     "output_type": "display_data"
    }
   ],
   "source": [
    "N = 100\n",
    "M = 1\n",
    "g = 1\n",
    "a = 1\n",
    "H = Hmatrix(N)\n",
    "eigenvalues, _ = qr_eigen(H, 1000)  # Only consider eigenvalues, not eigenvectors\n",
    "eigenvalues = np.round(eigenvalues, 3)\n",
    "eigenvalues.sort()\n",
    "\n",
    "plt.figure(figsize=(12, 6))\n",
    "plt.subplot(1, 2, 1)\n",
    "plt.title(\"All Eigenvalues\")\n",
    "plt.ylabel('Energy')\n",
    "plt.plot(eigenvalues, label='Energy Eigenvalues')\n",
    "plt.hlines(2, 0, 201, color='m', linestyle=\"--\", label='E = 2Mga')\n",
    "plt.legend()\n",
    "plt.grid()\n",
    "\n",
    "plt.subplot(1, 2, 2)\n",
    "plt.title(\"Lowest 50 Eigenvalues\")\n",
    "plt.ylabel('Energy')\n",
    "plt.plot(eigenvalues[:50], label='Energy Eigenvalues')\n",
    "plt.hlines(2, 0, 50, color='m', linestyle=\"--\", label='E = 2Mga')\n",
    "plt.legend()\n",
    "plt.grid()"
   ]
  },
  {
   "cell_type": "markdown",
   "id": "95c2296e",
   "metadata": {
    "id": "95c2296e"
   },
   "source": [
    "<font size=+3>&#9998;</font>  *Write your observations here*"
   ]
  },
  {
   "cell_type": "markdown",
   "id": "3cf320bc",
   "metadata": {
    "id": "JuQuhdthc5zH"
   },
   "source": [
    "<font color='blue'>\n",
    " \n",
    "As seen from the plots above, when the energy exceeds $E = 2Mga$, small, oscillatory motion takes place. It it more ovbious to observe in the right graph where we only plotted the lowest 50 eigenvalues. "
   ]
  },
  {
   "cell_type": "markdown",
   "id": "080b5a17",
   "metadata": {
    "id": "080b5a17"
   },
   "source": [
    "---\n",
    "## Assignment Wrap-up\n",
    "Save all the code and outputs in this notebook .ipynb format, and upload  the saved homework notebook to GradeScope for grading."
   ]
  },
  {
   "cell_type": "markdown",
   "id": "43a52907",
   "metadata": {
    "id": "43a52907"
   },
   "source": [
    "---\n",
    "\n",
    "### Congratulations, you're done!\n",
    "\n"
   ]
  }
 ],
 "metadata": {
  "colab": {
   "provenance": []
  },
  "kernelspec": {
   "display_name": "Python 3 (ipykernel)",
   "language": "python",
   "name": "python3"
  },
  "language_info": {
   "codemirror_mode": {
    "name": "ipython",
    "version": 3
   },
   "file_extension": ".py",
   "mimetype": "text/x-python",
   "name": "python",
   "nbconvert_exporter": "python",
   "pygments_lexer": "ipython3",
   "version": "3.9.18"
  }
 },
 "nbformat": 4,
 "nbformat_minor": 5
}
