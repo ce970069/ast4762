{
 "cells": [
  {
   "cell_type": "markdown",
   "id": "3865621b",
   "metadata": {
    "id": "3865621b"
   },
   "source": [
    "# Homework 5: Introduction to C++ and Project Proposal\n",
    "\n",
    "\n",
    "### <p style=\"text-align: right;\"> &#9989; Cesarine Graham</p>\n",
    "\n",
    "\n"
   ]
  },
  {
   "cell_type": "markdown",
   "id": "b8ff84f0",
   "metadata": {
    "id": "b8ff84f0"
   },
   "source": [
    "---\n",
    "## Goals of this assignment\n",
    "\n",
    "The primary goals of this assignment are to:\n",
    "\n",
    "* Prepare a project proposal\n",
    "\n",
    "## Assignment instructions\n",
    "\n",
    "Follow the instructions to complete this assignment.\n",
    "Upload the assignment to Gradescope _and_ fill out the homework survey to complete this assignment.\n",
    "\n",
    "___\n",
    "### Grading\n",
    "\n",
    "* Project Proposal (60 points)\n",
    "\n",
    "**Total:** 60 points"
   ]
  },
  {
   "cell_type": "markdown",
   "id": "27e5b586",
   "metadata": {
    "id": "27e5b586"
   },
   "source": [
    "------\n",
    "## Part 1: Project Proposal (60 points)\n",
    "\n",
    "Since this is a computational-physics class, your project has to relate to the course theme.\n",
    "If you are not sure whether your topic is appropriate, please talk to the instructor about it."
   ]
  },
  {
   "cell_type": "markdown",
   "id": "09444535",
   "metadata": {
    "id": "09444535"
   },
   "source": [
    "### 1.1  Physics question(s) (5 points)\n",
    "Record below what are the physics question(s) you want to address in this project?\n",
    "\n",
    "<br>\n",
    "\n",
    "<font color='blue'>\n",
    "    \n",
    "1. How can we use the Monte Carlo simulation technique to replicate an Ideal Gas?\n",
    "    \n",
    "2. Can we use the results from the simulated Ideal Gas to verify the Maxwell-Boltzmann distribution?\n",
    "    \n",
    "3. Can we use the results from the simulated Ideal Gas to verify the Stefan–Boltzmann constant?"
   ]
  },
  {
   "cell_type": "markdown",
   "id": "9975df6e",
   "metadata": {
    "id": "9975df6e"
   },
   "source": [
    "### 1.2 Research the topic (10 points)\n",
    "You should find out what has been done on the topic before and read a bit of the literature.\n",
    "This will give you some idea of what you may expect at the end of the project and also some idea of the complexity of the problems.\n",
    "(You don't want a problem that will take longer than the end of the semester to solve.)\n",
    "Add links to the references here, and write a short summary of your understanding of each.\n",
    "\n",
    "<br>\n",
    "\n",
    "<font color='blue'>\n",
    "\n",
    "1. Computational Physics, Mark Newman. \n",
    "    - It explains the basics of computational physics and describes the techniques required in order to solve various problems. To my understanding, he covers Monte Carlo simulations of an Ideal Gas somewhere within. \n",
    "2. https://notebook.community/tommyogden/quantum-python-lectures/11_Monte-Carlo-Maxwell-Boltzmann-Distributions\n",
    "    - This is a collection of python codes that were written on notebook.community reguarding various Maxwell-Boltzmann Distributions curves. The also briefly talk about different methods of integration for each curve.\n",
    "3. https://www.toolify.ai/ai-news/understanding-maxwellboltzmann-distribution-through-monte-carlo-simulation-164573\n",
    "    - This is just a set of steps that would be useful to follow in order to go about modeling Maxwell-Boltzmann Distribution through Monte Carlo Simulations. \n",
    "4. https://www.youtube.com/watch?v=V-Ex7PbsBPM\n",
    "    - This is a good example of how I could theoretically derive the Stefan-Boltzmann constant from a Planck distribution. \n",
    "    "
   ]
  },
  {
   "cell_type": "markdown",
   "id": "cb223401",
   "metadata": {
    "id": "cb223401"
   },
   "source": [
    "### 1.3  Software help (10 points)\n",
    "Identify any pre-existing Python libraries or packages that can be used to aid in answering the question(s).\n",
    "\n",
    "Record your plan to familiarize yourself with the data/libraries/packages and make sure you're aware of their limitations."
   ]
  },
  {
   "cell_type": "code",
   "execution_count": 1,
   "id": "c4d34d37",
   "metadata": {},
   "outputs": [],
   "source": [
    "import numpy as np\n",
    "import matplotlib.pyplot as plt\n",
    "from matplotlib.animation import FuncAnimation\n",
    "import scipy.constants as sc"
   ]
  },
  {
   "cell_type": "markdown",
   "id": "fbcde0ee",
   "metadata": {
    "id": "fbcde0ee"
   },
   "source": [
    "### 1.4 What code will you need to write? (10 points)\n",
    "\n",
    "---\n",
    "\n",
    "\n",
    "Write your estimation of what additional code will be necessary to run your model or analyze your data.\n",
    "If you use data, please identify the sources.\n",
    "(If your data is not publicly available, please provide poof that you have been given access to work on the data, such as an email from a research advisor.)"
   ]
  },
  {
   "cell_type": "markdown",
   "id": "ef82ae85",
   "metadata": {},
   "source": [
    "<font color='blue'>\n",
    "\n",
    "I plan on writing a code that models an ideal gas via Monte Carlo simulation. This ideal gas will be replicated using a series of elastic collisions. The code will simulataneously record how many particles there are, and how fast each of them are moving. According to this data set, we will have an approximate Maxwell-Boltzmann distribution that will increase in accuracy as the simulation goes on. Once we end the simulation, we will then proceed to estimate the Stefan–Boltzmann constant from the Monte Carlo's integrand of the Maxwell-Boltzmann distribution curve."
   ]
  },
  {
   "cell_type": "markdown",
   "id": "65005f50",
   "metadata": {
    "id": "65005f50"
   },
   "source": [
    "### 1.5  Difficulties or complications (10 points)\n",
    "Think about what difficulties or complications you may run into during your proposed project, and how you plan to overcome them.\n",
    "It's always good to have a plan-B result that you can use based on your efforts if you cannot get to the results that you originally planned.\n",
    "\n",
    "<br>\n",
    "\n",
    "<font color='blue'>\n",
    "\n",
    "I can forsee running into issues with having an animated simulation, as I've worked with this kind of code for several years now. If this happens and I'm running short on time, I will just take slices of the animation to display to the class to show the progression of the simulation. Additionaly, I can forsee running into issues with calculating the integrand of the final Maxwell-Boltzmann distribution curve with Monte Carlo. If this happens, I will use another method that we have learned in class."
   ]
  },
  {
   "cell_type": "markdown",
   "id": "58xCYfS7J9-O",
   "metadata": {
    "id": "58xCYfS7J9-O"
   },
   "source": [
    "### 1.6  Relevance to class content (10 points)\n",
    "How is your project relevant to what's been taught in this class?"
   ]
  },
  {
   "cell_type": "markdown",
   "id": "1ab6303c",
   "metadata": {},
   "source": [
    "<font color='blue'>\n",
    "\n",
    "This project is relevant since it includes Monte Carlo integration and Monte Carlo simulation methods. "
   ]
  },
  {
   "cell_type": "markdown",
   "id": "821012fe",
   "metadata": {
    "id": "821012fe"
   },
   "source": [
    "### 1.7  Acknowledgments (5 points)\n",
    "Please add an `x` in the `[ ]` below to acknowledge that you are aware of the template usage for Jupyter notebook, LaTex report template, and presentation guideline (which can be found in the D2L under the \"Semester Project\". Failure to use the templates will result in 50% reduced points for each category.\n",
    "- [X] I have downloaded the Jupyter notebook semester project template and will use the template for the project.\n",
    "- [X] I have downloaded the [LaTeX template](https://www.overleaf.com/read/btkjwgpgymnm) into my own (or my teammate's) Overleaf and will write our report using it"
   ]
  },
  {
   "cell_type": "markdown",
   "id": "080b5a17",
   "metadata": {
    "id": "080b5a17"
   },
   "source": [
    "---\n",
    "## Assignment Wrap-up\n",
    "Save all the code and outputs in this notebook .ipynb format, and upload  the saved homework notebook to GradeScope for grading."
   ]
  }
 ],
 "metadata": {
  "colab": {
   "provenance": []
  },
  "kernelspec": {
   "display_name": "Python 3 (ipykernel)",
   "language": "python",
   "name": "python3"
  },
  "language_info": {
   "codemirror_mode": {
    "name": "ipython",
    "version": 3
   },
   "file_extension": ".py",
   "mimetype": "text/x-python",
   "name": "python",
   "nbconvert_exporter": "python",
   "pygments_lexer": "ipython3",
   "version": "3.9.18"
  }
 },
 "nbformat": 4,
 "nbformat_minor": 5
}
