{
 "cells": [
  {
   "cell_type": "markdown",
   "id": "037d8657",
   "metadata": {
    "id": "037d8657"
   },
   "source": [
    "# Day 12 In-Class Assignment: Ordinary Differential Equations\n",
    "\n",
    "### <p style=\"text-align: right;\"> &#9989; Cesarine Graham</p>\n",
    "\n",
    "\n",
    "#### <p style=\"text-align: right;\"> &#9989; Victoria Fallon, Erin Syerson, Allison Perez-Bermudez (Group 2)</p>"
   ]
  },
  {
   "cell_type": "markdown",
   "id": "0a504b70",
   "metadata": {
    "id": "0a504b70"
   },
   "source": [
    "\n",
    "## Goals of this assignment\n",
    "\n",
    "The goals of this assignment are:\n",
    "\n",
    "* Solve ODEs using the 4th-order Runge-Kutta method\n",
    "* Solve ODEs over infinite range and using more than one variable\n",
    "\n",
    "\n",
    "## Assignment instructions\n",
    "\n",
    "Upload the assignment to Gradescope before noon on the day of the  class."
   ]
  },
  {
   "cell_type": "markdown",
   "id": "4013ed9a",
   "metadata": {
    "id": "4013ed9a"
   },
   "source": [
    "-----------\n",
    "## Part 1:  Solution over Infinite Range\n",
    "\n",
    "We have learned how to write a code to apply the 4th-order Runge-Kutta method with one variable to solve ODEs over a finite range.\n",
    "However, in physics, we often need to find solutions all the way out to $t=\\infty$.\n",
    "In such cases, we can't use the method we covered in the pre-class directly, but we can play a trick similar to the one we used in numerical integration: changing the variable.\n",
    "To handle $t=\\infty$, we can define a new variable\n",
    "\n",
    "$$ u =\\frac{t}{1+t} \\quad\\text{,}\\quad  t =\\frac{u}{1-u}, $$\n",
    "\n",
    "so that when $t \\rightarrow \\infty$, $u \\rightarrow 1$.\n",
    "\n",
    "Then, using the chain rule, we can rewrite the differential equations $\\frac{dx}{dt} = f(x,t)$\n",
    "\n",
    "$$\\frac{dx}{dt}=\\frac{dx}{du}\\frac{du}{dt} = f(x,t) $$\n",
    "\n",
    "$$\\frac{dx}{du} = \\frac{dt}{du} f(x,t) = \\frac{1}{(1-u)^2}f\\left(x,\\frac{u}{1-u}\\right) = g(x,u). $$\n",
    "\n",
    "Now, you can solve $\\frac{dx}{du}= g(x,u)$ with $u \\rightarrow 1$ using what we learned in the pre-class notebook.\n",
    "\n",
    "### 1.1 Example\n",
    "Apply the above idea to solve the equation $\\frac{dx}{dt} = \\frac{1}{x^2+t^2}$ from $t=0$ to $t= \\infty$ with $x=1$ at $t=0$.\n",
    "\n",
    "#### 1.1.1 Find the equivalent equations\n",
    "What would be the equivalent differential equation in $x$ and $u$ that you would solve?\n",
    "Create a new Markdown cell and write the equations.\n",
    "Compare your solution with your group.\n",
    "Make sure that everyone agrees before moving on."
   ]
  },
  {
   "cell_type": "markdown",
   "id": "538c6144",
   "metadata": {
    "id": "538c6144"
   },
   "source": [
    "<font color='blue'>\n",
    "\n",
    "### Answer\n",
    "$$\\frac{dx}{du} = \\frac{1}{(1-u)^2}f\\left(x,\\frac{u}{1-u}\\right)= \\frac{1}{(1-u)^2} \\frac{1}{x^2+\\left(\\frac{u}{1-u}\\right)^2}=\\frac{1}{(x^2\\cdot(1-u)^2+u^2)}$$"
   ]
  },
  {
   "cell_type": "markdown",
   "id": "3605d62c",
   "metadata": {
    "id": "3605d62c"
   },
   "source": [
    "#### 1.1.2 Find the solution\n",
    "Use the example completed code from your pre-class notebook to solve the equations using $N=100$ steps.  \n",
    "Note that you do want to have a solution for $x(t)$ at the end, so keep track of the $t=u/(1-u)$ points, in addition to the $u$ points for each step so that you can make a plot of the $x(t)$ solution at the end."
   ]
  },
  {
   "cell_type": "code",
   "execution_count": 1,
   "id": "ff4946f4",
   "metadata": {
    "id": "ff4946f4"
   },
   "outputs": [],
   "source": [
    "# put your code here"
   ]
  },
  {
   "cell_type": "markdown",
   "id": "eeeeb975",
   "metadata": {
    "id": "eeeeb975"
   },
   "source": [
    "-----------\n",
    "## Part 2:  Differential Equations with Multiple Variables\n",
    "So far, we have considered ordinary differential equations with only one dependent variable $x$, but in many physics problems, we have more than one variable: simultaneous differential equations, where the derivative of each variable can depend on any or all of the variables, as well as independent variable $t$.\n",
    "For example\n",
    "\n",
    "$$ \\frac{dx}{dt} = x y - x = f_x(x,y,t) \\quad\\text{,}\\quad\n",
    "   \\frac{dy}{dt} = y - x y + \\sin^2 \\omega t = f_y(x,y,t) $$\n",
    "\n",
    "Note that there is still only one _independent_ variable $t$.\n",
    "\n",
    "In principle, this can be expanded to an arbitrary number of variables using vector notation of\n",
    "$\\mathbf{r}(t)$ and rewrite the differential equation as\n",
    "\n",
    "$$ \\frac{d\\mathbf{r}}{dt} = \\mathbf{f}(\\mathbf{r},t), $$\n",
    "\n",
    "where $\\mathbf{f}$ is a vector of functions corresponding to the derivatives of each variable in the vector.\n",
    "\n",
    "Although simultaneous differential equations are often much harder to solve analytically than single equations, when solving computationally, they are actually not much more difficult than the one-variable case.\n",
    "For example, we can Taylor expand the vector $\\mathbf{r}$ as\n",
    "\n",
    "$$\\begin{align}\n",
    "\\mathbf{r}(t+h) &= \\mathbf{r}(t) + h \\frac{d\\mathbf{r}}{dt} + O\\left(h^2\\right) \\\\\n",
    "                &= \\mathbf{r}(t) + h \\mathbf{f} (x,t) + O\\left(h^2\\right)\n",
    "\\end{align}$$\n",
    "\n",
    "Dropping the $O\\left(h^2\\right)$ term, you get Euler's method for multi-variable ODEs:\n",
    "\n",
    "$$  \\mathbf{r}(t+h) \\approx x(t) + h \\mathbf{f} (x,t) $$\n",
    "\n",
    "Similarly, you can also derive a Runge-Kutta method for the multi-variable case:\n",
    "\n",
    "$$\\begin{align}\n",
    "\\mathbf{k}_1 &= h \\mathbf{f}  (\\mathbf{r},t) \\\\\n",
    "\\mathbf{k}_2 &= h \\mathbf{f} \\left(\\mathbf{r}+\\frac{1}{2}\\mathbf{k}_1,t+\\frac{1}{2}h \\right) \\\\\n",
    "\\mathbf{k}_3 &= h \\mathbf{f}  \\left(\\mathbf{r}+\\frac{1}{2}\\mathbf{k}_2,t+\\frac{1}{2}h \\right) \\\\\n",
    "\\mathbf{k}_4 &= h \\mathbf{f} \\left(\\mathbf{r}+\\frac{1}{2}\\mathbf{k}_3,t+h \\right) \\\\\n",
    "\\mathbf{r}(t+h) &= \\mathbf{r}(t)+\\tfrac{1}{6}\\left(k_1+2k_2+2k_3+k_4\\right)\n",
    "\\end{align}$$\n"
   ]
  },
  {
   "cell_type": "markdown",
   "id": "48a14c9b",
   "metadata": {
    "id": "48a14c9b"
   },
   "source": [
    "### 2.1 A multi-variable example\n",
    "Let's calculate a solution to the equations\n",
    "$$ \\frac{dx}{dt} = x y - x \\quad\\text{,}\\quad \\frac{dy}{dt} = y - x y + \\sin^2 \\omega t $$\n",
    "from $t=0$ to $t=10$, for the case $\\omega=1$ with initial condition $x=y=1$ at $t=0$.\n",
    "Here is an example code.\n",
    "Discuss with your groupmates and make sure everyone in the group understand what the code does, before moving on."
   ]
  },
  {
   "cell_type": "code",
   "execution_count": 2,
   "id": "a5faa9cd",
   "metadata": {
    "id": "a5faa9cd",
    "outputId": "a68c2e14-1735-4289-dd7b-fa91a3b548da",
    "scrolled": true
   },
   "outputs": [
    {
     "ename": "IndexError",
     "evalue": "index 2 is out of bounds for axis 0 with size 2",
     "output_type": "error",
     "traceback": [
      "\u001b[1;31m---------------------------------------------------------------------------\u001b[0m",
      "\u001b[1;31mIndexError\u001b[0m                                Traceback (most recent call last)",
      "Cell \u001b[1;32mIn[2], line 29\u001b[0m\n\u001b[0;32m     27\u001b[0m xpoints\u001b[38;5;241m.\u001b[39mappend(r[\u001b[38;5;241m0\u001b[39m])\n\u001b[0;32m     28\u001b[0m ypoints\u001b[38;5;241m.\u001b[39mappend(r[\u001b[38;5;241m1\u001b[39m])\n\u001b[1;32m---> 29\u001b[0m zpoints\u001b[38;5;241m.\u001b[39mappend(\u001b[43mr\u001b[49m\u001b[43m[\u001b[49m\u001b[38;5;241;43m2\u001b[39;49m\u001b[43m]\u001b[49m)\n\u001b[0;32m     30\u001b[0m k1 \u001b[38;5;241m=\u001b[39m h\u001b[38;5;241m*\u001b[39mf(r,t)\n\u001b[0;32m     31\u001b[0m k2 \u001b[38;5;241m=\u001b[39m h\u001b[38;5;241m*\u001b[39mf(r\u001b[38;5;241m+\u001b[39m\u001b[38;5;241m0.5\u001b[39m\u001b[38;5;241m*\u001b[39mk1,t\u001b[38;5;241m+\u001b[39m\u001b[38;5;241m0.5\u001b[39m\u001b[38;5;241m*\u001b[39mh)\n",
      "\u001b[1;31mIndexError\u001b[0m: index 2 is out of bounds for axis 0 with size 2"
     ]
    }
   ],
   "source": [
    "# example code\n",
    "\n",
    "import numpy as np\n",
    "import matplotlib.pyplot as plt\n",
    "\n",
    "def f(r,t):\n",
    "    x = r[0]\n",
    "    y = r[1]\n",
    "    z = r[2]\n",
    "    fx = 10*(y-x)\n",
    "    fy = 28*x - y - y*x\n",
    "    fz = x*y - (8/3)*z\n",
    "    return np.array([fx,fy,fz],float)\n",
    "\n",
    "a = 0.0\n",
    "b = 10.0\n",
    "N = 10000\n",
    "h = (b-a)/N\n",
    "\n",
    "tpoints = np.arange(a,b,h)\n",
    "xpoints = []\n",
    "ypoints = []\n",
    "zpoints = []\n",
    "\n",
    "r = np.array([1.0,1.0],float)\n",
    "for t in tpoints:\n",
    "    xpoints.append(r[0])\n",
    "    ypoints.append(r[1])\n",
    "    zpoints.append(r[2])\n",
    "    k1 = h*f(r,t)\n",
    "    k2 = h*f(r+0.5*k1,t+0.5*h)\n",
    "    k3 = h*f(r+0.5*k2,t+0.5*h)\n",
    "    k4 = h*f(r+k3,t+h)\n",
    "    r += (k1+2*k2+2*k3+k4)/6\n",
    "plt.plot(tpoints,xpoints)\n",
    "plt.plot(tpoints,ypoints)\n",
    "plt.grid()\n",
    "plt.xlabel(\"t\")\n",
    "plt.show()"
   ]
  },
  {
   "cell_type": "markdown",
   "id": "a08591cd",
   "metadata": {
    "id": "a08591cd"
   },
   "source": [
    "### 2.2 Solve the Lorenz Equations\n",
    "\n",
    "One of the most celebrated sets of differential equations in physics are the Lorenz equations:\n",
    "\n",
    "$$\n",
    "\\frac{dx}{dt} = \\sigma(y-x) \\quad\\text{,}\\quad\n",
    "\\frac{dy}{dt} = rx - y - xz \\quad\\text{,}\\quad\n",
    "\\frac{dz}{dt} = xy - bz,\n",
    "$$\n",
    "\n",
    "where $\\sigma$, $r$, and $b$ are constants.\n",
    "(The names $\\sigma$, $r$, and $b$ are odd but traditional; they are always used in these equations for historical reasons.)\n",
    "\n",
    "These equations were first studied by Edward Lorenz in 1963, who derived them from a simplified model of weather patterns.\n",
    "The reason for their fame is that they were one of the first incontrovertible examples of _deterministic chaos_, the occurrence of apparently random motion even though there is no randomness built into the equations.\n",
    "\n",
    "#### 2.2.1 Solve the equation\n",
    "Write a program to solve the Lorenz equations for the case $\\sigma=10$, $r=28$, and $b=\\frac{8}{3}$ in the range from $t=0$ to $t=50$ with initial conditions $(x,y,z)=(0,1,0)$."
   ]
  },
  {
   "cell_type": "code",
   "execution_count": null,
   "id": "5701bf6a",
   "metadata": {
    "id": "5701bf6a"
   },
   "outputs": [],
   "source": [
    "# your code here\n",
    "\n",
    "import numpy as np\n",
    "import matplotlib.pyplot as plt\n",
    "\n",
    "def f(r,t):\n",
    "    x = r[0]\n",
    "    y = r[1]\n",
    "    z = r[2]\n",
    "    fx = 10*(y-x)\n",
    "    fy = 28*x - y - x*z\n",
    "    fz = x*y - (8/3)*z\n",
    "    return np.array([fx,fy,fz],float)\n",
    "\n",
    "a = 0.0\n",
    "b = 50.0\n",
    "N = 10000\n",
    "h = (b-a)/N\n",
    "\n",
    "tpoints = np.arange(a, b, h)\n",
    "xpoints = []\n",
    "ypoints = []\n",
    "zpoints = []\n",
    "\n",
    "r = np.array([0.0, 1.0, 0.0], float)\n",
    "for t in tpoints:\n",
    "    xpoints.append(r[0])\n",
    "    ypoints.append(r[1])\n",
    "    zpoints.append(r[2])\n",
    "    k1 = h*f(r, t)\n",
    "    k2 = h*f(r+0.5*k1, t+0.5*h)\n",
    "    k3 = h*f(r+0.5*k2, t+0.5*h)\n",
    "    k4 = h*f(r+k3, t+h)\n",
    "    r += (k1 + 2*k2 + 2*k3 + k4)/6\n",
    "print(r)"
   ]
  },
  {
   "cell_type": "markdown",
   "id": "c6b04f33",
   "metadata": {
    "id": "c6b04f33"
   },
   "source": [
    "#### 2.2.2 Visualize  the solutions\n",
    "Now make a plot of $x$, $y$, $z$ as a function of time."
   ]
  },
  {
   "cell_type": "code",
   "execution_count": null,
   "id": "4bc21c5d",
   "metadata": {
    "id": "4bc21c5d"
   },
   "outputs": [],
   "source": [
    "# your code here\n",
    "\n",
    "fig = plt.figure()\n",
    "ax = fig.add_subplot(111, projection='3d')\n",
    "ax.plot(xpoints, ypoints, zpoints)\n",
    "ax.set_xlabel('X')\n",
    "ax.set_ylabel('Y')\n",
    "ax.set_zlabel('Z')\n",
    "plt.show()"
   ]
  },
  {
   "cell_type": "markdown",
   "id": "04c5a1e0",
   "metadata": {
    "id": "04c5a1e0"
   },
   "source": [
    "#### 2.2.3 Replot\n",
    "Modify your program to produce a plot of $z$ against $x$.\n",
    "You should see a picture of the famous _strange attractor_ of the Lorenz equations, a lopsided butterfly-shaped plot that never repeats itself."
   ]
  },
  {
   "cell_type": "code",
   "execution_count": null,
   "id": "3451af27",
   "metadata": {
    "id": "3451af27"
   },
   "outputs": [],
   "source": [
    "# your code here\n",
    "\n",
    "plt.plot(zpoints, ypoints)\n",
    "plt.xlabel('t')\n",
    "plt.show()"
   ]
  },
  {
   "cell_type": "code",
   "execution_count": null,
   "id": "7f50fe1b",
   "metadata": {},
   "outputs": [],
   "source": [
    "plt.plot(zpoints, xpoints)\n",
    "plt.xlabel('t')\n",
    "plt.show()"
   ]
  }
 ],
 "metadata": {
  "colab": {
   "provenance": []
  },
  "kernelspec": {
   "display_name": "Python 3 (ipykernel)",
   "language": "python",
   "name": "python3"
  },
  "language_info": {
   "codemirror_mode": {
    "name": "ipython",
    "version": 3
   },
   "file_extension": ".py",
   "mimetype": "text/x-python",
   "name": "python",
   "nbconvert_exporter": "python",
   "pygments_lexer": "ipython3",
   "version": "3.9.18"
  }
 },
 "nbformat": 4,
 "nbformat_minor": 5
}
