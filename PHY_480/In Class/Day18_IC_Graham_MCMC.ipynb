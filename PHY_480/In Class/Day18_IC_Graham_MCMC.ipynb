{
 "cells": [
  {
   "cell_type": "markdown",
   "id": "f1588b90",
   "metadata": {
    "id": "f1588b90"
   },
   "source": [
    "# Day 18 In-Class Assignment: Markov Chain Monte Carlo (MCMC)\n",
    "### <p style=\"text-align: right;\"> &#9989; Cesarine Graham</p>\n",
    "\n",
    "#### <p style=\"text-align: right;\"> &#9989; Allison Perez-Bermudez, Victoria Fallon, Erin Syerson (Group 2).</p>"
   ]
  },
  {
   "cell_type": "markdown",
   "id": "510a922a",
   "metadata": {
    "id": "510a922a"
   },
   "source": [
    "## Goals of this assignment\n",
    "\n",
    "The primary goal of this assignment is to\n",
    "\n",
    "* Steps to Implement Markov-chain Monte-Carlo (MCMC) methods\n",
    "* Apply MCMC on Ideal Gas\n",
    "* Ising Model\n",
    "\n",
    "## Assignment instructions\n",
    "\n",
    "Work with your group to complete this assignment. Upload the assignment to Gradescope at the end of class.\n",
    "**Make sure everyone's name is listed in everyone's notebook before moving on**"
   ]
  },
  {
   "cell_type": "markdown",
   "id": "f048efea",
   "metadata": {
    "id": "f048efea"
   },
   "source": [
    "---\n",
    "## Part 1: How to Implement the Metropolis Algorithm"
   ]
  },
  {
   "cell_type": "markdown",
   "id": "a59b17bc",
   "metadata": {
    "id": "a59b17bc"
   },
   "source": [
    "### 1.1 Metropolis steps\n",
    "\n",
    "The complete Metropolis algorithm implementing a Markov-chain Monte-Carlo simulation involves the following steps:\n",
    "\n",
    "1. Choose a random starting state.\n",
    "2. Choose a move uniformly at random from an allowed set of moves, such as changing a single molecule to a new state.\n",
    "3. Calculate the value of the acceptance probability $P_a$ given as\n",
    "$$\n",
    "P_a = \\biggl\\lbrace\\begin{array}{ll}\n",
    "           1 &\\quad\\text{if } E_j \\le E_i, \\\\\n",
    "           e^{- \\beta (E_j - E_i)} &\\quad\\text{if } E_j > E_i\n",
    "         \\end{array}\n",
    "$$\n",
    "\n",
    "4. With probability $P_a$ accept the move, meaning the state of the system to the new state; otherwise reject it, meaning the system stays in its current state for one more step of the calculation.\n",
    "5. Measure the value of the quantity of interest $X$ in the current state.\n",
    "6. Repeat from step 2.\n",
    "\n",
    "When we have done many such steps, we discard the earliest samples while the system was equilibrating.\n",
    "Then, we average the remaining samples to get an estimate of the average value\n",
    "\n",
    "$$ \\langle x\\rangle = \\frac{1}{N}\\sum_{k=1}^N X_k. $$"
   ]
  },
  {
   "cell_type": "markdown",
   "id": "6fc3aa08",
   "metadata": {
    "id": "6fc3aa08"
   },
   "source": [
    "### 1.2 Implementing the acceptance\n",
    "\n",
    "A simple way to implement the acceptance step in a program is to calculate the change in energy $E_j - E_i$ and then generate a random number $z$ uniformly in $[0,1]$ and accept the move if $z <  e^{- \\beta (E_j - E_i)}$.\n",
    "Note that if $E_j < E_i$, then the exponential will be greater than or equal to one, so the move will always be accepted.\n",
    "Thus, for instance, if we have a variable `deltaE` in our program that stores the change in energy $E_j - E_i$, then a single if statement of the form `if random() < exp(-beta*deltaE):` will accept or reject moves with the correct probabilities."
   ]
  },
  {
   "cell_type": "markdown",
   "id": "e45820a4",
   "metadata": {
    "id": "e45820a4"
   },
   "source": [
    "### 1.3 Caveats\n",
    "Although the Metropolis method is straightforward in practice, it does have some subtleties:\n",
    "\n",
    "- Don't forget to count samples where nothing changed; they must be counted in the average!\n",
    "- Your move-set must allow the system to visit **all** available states. This property is called _ergodicity_.\n",
    "- The number of moves must be the same for all states. Even if a move makes no sense for a state (e.g. you try to move a particle through an impenetrable barrier), you must still try it and accept with zero probability.\n",
    "- It will take some time for your distribution to approach the correct one. This is called _equilibration_ or _thermalization_. You can tell when your system is equilibrated by examining quantities of interest; these will tend to drift while not equilibrated, then jitter noisily at the same value once you've reached equilibrium."
   ]
  },
  {
   "cell_type": "markdown",
   "id": "9ab3aa8a",
   "metadata": {
    "id": "9ab3aa8a"
   },
   "source": [
    "---\n",
    "## Part 2: Ideal Gas\n",
    "\n",
    "The quantum states of a particle or atom of mass $m$ in a cubic box of length $L$ on each side have three integer quantum numbers $n_x, n_y, n_z \\in \\{1, 2, \\ldots\\}$, and energies given by\n",
    "\n",
    "$$E(n_x, n_y, n_z) = \\frac{\\pi^2 \\hbar^2}{2mL^2} \\left(n_x^2+n_y^2+n_z^2\\right).$$\n",
    "\n",
    "An ideal gas is a gas of $N$ such atoms that do not interact with one another in any way, so that their total energy is just the sum of the energies of the individual particles:\n",
    "\n",
    "$$E = \\sum_{i=1}^N E\\left(n_x^{(i)}, n_y^{(i)}, n_z^{(i)}\\right),$$\n",
    "\n",
    "where $n_x^{(i)}$ is the value of the quantum number $n_x$ for the $i$th atom, and similarly for $n_y$ and $n_z$.\n",
    "\n",
    "We will perform a Monte-Carlo simulation of such an ideal gas and use it to calculate the internal energy of the gas.\n",
    "\n",
    "First, we need to choose a move set.\n",
    "In this case, we will use the set of all moves of a single atom to one of the six neighboring states where $n_x$, $n_y$ or $n_z$, differs by $\\pm 1 $.\n",
    "That is, on each step, we choose a random atom, a random direction from $\\{x,y,z\\}$ and a random change, either $+1$ or $-1$.\n",
    "The total energy $E$ will change only in the term for the atom $i$ that changes state.\n",
    "If, for example, $n_x$ of atom $i$ increases by 1, then the change will be\n",
    "\n",
    "$$\\begin{align}\n",
    "\\Delta E &= \\frac{\\pi^2 \\hbar^2}{2mL^2} \\left((n_x+1)^2+n_y^2+n_z^2\\right)-\\frac{\\pi^2 \\hbar^2}{2mL^2} \\left(n_x^2+n_y^2+n_z^2\\right) \\\\\n",
    "         &= \\frac{\\pi^2 \\hbar^2}{2mL^2} (2 n_x+1)\n",
    "\\end{align}$$\n",
    "\n",
    "Similarly, if atom $i$ decreases by 1, we have\n",
    "$$ \\Delta E = \\frac{\\pi^2 \\hbar^2}{2mL^2} (-2 n_x+1) $$\n",
    "\n",
    "Your task as a group is to write a program below to perform the simulation for $N=1000$ particles with $k_B T=10$.\n",
    "For simplicity, we will work with units where $m=\\hbar=1$ and set the box size $L=1$.\n",
    "We will start all particles in the ground state, i.e. $n_x=n_y=n_z=1$."
   ]
  },
  {
   "cell_type": "markdown",
   "id": "da0b8039",
   "metadata": {
    "id": "da0b8039"
   },
   "source": [
    "### 2.1\n",
    "Before you start to write the code, work within your group to come up with _pseudo-code_ plus ideas, sketches or charts on how you would write the code."
   ]
  },
  {
   "cell_type": "markdown",
   "id": "45b8970f",
   "metadata": {},
   "source": [
    "### Your pseudo-code here (you can also upload a picture in the gradescope)\n",
    "\n",
    "<br>\n",
    "\n",
    "Initialize:\n",
    "\n",
    "    Set number of particles N = 1000\n",
    "    Set temperature T = 10\n",
    "    Set box size L = 1\n",
    "    Set number of Monte Carlo steps M\n",
    "    Set current energy E\n",
    "    Set current configuration of particles\n",
    "    \n",
    "Function energy_change(atom_index, direction_change):\n",
    "\n",
    "    Calculate delta_energy using provided formula\n",
    "    Return delta_energy\n",
    "    \n",
    "Function metropolis(energy_change):\n",
    "\n",
    "    If energy_change < 0:\n",
    "        Accept the move\n",
    "        return True\n",
    "        \n",
    "    Else:\n",
    "        Generate a random number r between 0 and 1\n",
    "        Calculate Boltzmann factor exp(-energy_change / (k_B * T))\n",
    "        If r < exp(-energy_change / (k_B * T)):\n",
    "            Accept the move\n",
    "            return True\n",
    "            \n",
    "        Else:\n",
    "            Reject the move\n",
    "            return False\n",
    "            \n",
    "Function perform_monte_carlo_step():\n",
    "\n",
    "    Select a random atom index\n",
    "    Select a random direction (x, y, or z)\n",
    "    Select a random change (+1 or -1)\n",
    "    Calculate energy_change for the selected atom and change\n",
    "    If metropolis(energy_change):\n",
    "        Update the configuration of the selected atom\n",
    "        \n",
    "Function main():\n",
    "\n",
    "    Initialize current configuration of particles with all particles in ground state\n",
    "    Set current energy E to the initial energy of the system\n",
    "    Set M = total number of Monte Carlo steps to perform\n",
    "    For each Monte Carlo step:\n",
    "        perform_monte_carlo_step()\n",
    "        Update total energy E\n",
    "    Calculate average energy per particle\n",
    "    Output average energy per particle"
   ]
  },
  {
   "cell_type": "markdown",
   "id": "d2421661",
   "metadata": {
    "id": "d2421661"
   },
   "source": [
    "### 2.2 Implement the code\n",
    "Now put your idea into code.\n",
    "Start with steps of 10000.\n",
    "Keep track of the total energy at each step.\n",
    "Plot the energy as a functions of step (sometimes called _Monte-Carlo time_)."
   ]
  },
  {
   "cell_type": "code",
   "execution_count": 15,
   "id": "8f54328a",
   "metadata": {},
   "outputs": [
    {
     "name": "stdout",
     "output_type": "stream",
     "text": [
      "Average energy per particle: 23.124483111750756\n"
     ]
    },
    {
     "data": {
      "image/png": "[encoded data removed]",
      "text/plain": [
       "<Figure size 640x480 with 1 Axes>"
      ]
     },
     "metadata": {},
     "output_type": "display_data"
    }
   ],
   "source": [
    "import numpy as np\n",
    "import random\n",
    "import matplotlib.pyplot as plt\n",
    "\n",
    "# Constants\n",
    "N = 1000  # Number of particles\n",
    "T = 10  # Temperature\n",
    "L = 1  # Box size\n",
    "M = 10000  # Number of Monte Carlo steps\n",
    "\n",
    "# Function to calculate energy change\n",
    "def energy_change(n, direction_change):\n",
    "    delta_n = direction_change\n",
    "    delta_E = np.pi**2 * (2 * n + delta_n) / (2 * L**2)\n",
    "    return delta_E\n",
    "\n",
    "# Function to perform Metropolis acceptance criterion\n",
    "def metropolis(delta_E):\n",
    "    if delta_E < 0:\n",
    "        return True\n",
    "    else:\n",
    "        boltzmann_factor = np.exp(-delta_E / T)\n",
    "        return random.random() < boltzmann_factor\n",
    "\n",
    "# Function to perform Monte Carlo step\n",
    "def perform_monte_carlo_step(config, E):\n",
    "    # Select random particle and direction\n",
    "    particle_index = random.randint(0, N - 1)\n",
    "    direction_index = random.randint(0, 2)\n",
    "    direction_change = random.choice([-1, 1])\n",
    "    # Calculate energy change\n",
    "    n = config[particle_index, direction_index]\n",
    "    delta_E = energy_change(n, direction_change)\n",
    "    # Apply Metropolis criterion\n",
    "    if metropolis(delta_E):\n",
    "        # Update particle configuration and energy\n",
    "        config[particle_index, direction_index] += direction_change\n",
    "        E += delta_E\n",
    "    return config, E\n",
    "\n",
    "# Main function\n",
    "def main():\n",
    "    # Initialize particles\n",
    "    config = np.ones((N, 3), dtype=int)  # Start all particles in ground state (n_x = n_y = n_z = 1)\n",
    "    E = np.sum(np.sum(np.pi**2 * (config**2) / (2 * L**2)))  # Initial energy\n",
    "    \n",
    "    # Perform Monte Carlo simulation\n",
    "    total_energy = [E]  # Store the total energy at each step\n",
    "    for step in range(M):\n",
    "        config, E = perform_monte_carlo_step(config, E)\n",
    "        total_energy.append(E)\n",
    "        \n",
    "    # Calculate average energy per particle\n",
    "    average_energy_per_particle = E / N\n",
    "    print(\"Average energy per particle:\", average_energy_per_particle)\n",
    "    \n",
    "    # Plot total energy as a function of step\n",
    "    plt.plot(range(M + 1), total_energy)\n",
    "    plt.xlabel('Monte Carlo Step')\n",
    "    plt.ylabel('Total Energy')\n",
    "    plt.title('Total Energy vs Monte Carlo Step')\n",
    "    plt.show()\n",
    "\n",
    "if __name__ == \"__main__\":\n",
    "    main()"
   ]
  },
  {
   "cell_type": "code",
   "execution_count": null,
   "id": "596a5749",
   "metadata": {
    "id": "596a5749",
    "outputId": "1f0d3a2a-aa52-4c52-c1de-0d04c95db059"
   },
   "outputs": [
    {
     "data": {
      "image/png": "[encoded data removed]",
      "text/plain": [
       "<Figure size 432x288 with 1 Axes>"
      ]
     },
     "metadata": {
      "needs_background": "light"
     },
     "output_type": "display_data"
    }
   ],
   "source": [
    "### Expectted result"
   ]
  },
  {
   "cell_type": "markdown",
   "id": "2febc84f",
   "metadata": {
    "id": "2febc84f"
   },
   "source": [
    "---\n",
    "## Part 3:  The Ising Model\n",
    "\n",
    "The Ising model is a theoretical model of a magnet.\n",
    "The magnetization of a magnetic material is made up of the combination of many small magnetic dipoles spread throughout the material.\n",
    "If these dipoles point in random directions, then the overall magnetization of the system will be close to zero, but if they line up so that all or most of them point in the same direction, then the system can acquire a macroscopic magnetic moment, becoming magnetized.\n",
    "The Ising model is a model of this process in which the individual moments are represented by dipoles or _spins_ arranged on a grid as see in [this plot](https://docs.google.com/document/d/1edS9FDytPnysiP7VvbqOyZ5G4xk49MPRgS3B_nugN6s/edit?usp=sharing)\n",
    "\n",
    "We are using a square lattice in two dimensions, but the model can be defined any kind of lattice in any number of dimensions.\n",
    "\n",
    "The spins are restricted to point in only two directions: up and down.\n",
    "Mathematically the spins are represented by variables $s_i=\\pm 1$ on the points of the lattice, $+1$ for up-pointing spins and $-1$ for down-pointing ones.\n",
    "Dipoles in real magnets can typically point in any direction, but the Ising model, with just two directions, captures a lot of the important physics while being simpler to understand.\n",
    "\n",
    "Another important feature of many magnetic materials is that the individual dipoles in the material interact magnetically such that it is energetically favorable for them to line up in the same direction.\n",
    "The magnetic potential energy due to the interaction of two dipoles is proportional to their dot product, so in the Ising model, this simplifies to just the product $s_i s_j$ for spins on sites $i$ and $j$ of the lattice,\n",
    "since the spins are one-dimensional scalars, not vectors.\n",
    "Then, the actual energy of interaction is $-Js_i s_j$, where $J$ is a positive interaction constant.\n",
    "The minus sign ensures that the interactions are _ferromagnetic_, meaning the energy is lower when dipoles are\n",
    "lined up.\n",
    "A ferromagnetic interaction implies that the material will magnetize if given the chance.\n",
    "\n",
    "Since the magnetic interaction falls quickly with distance, it is assumed that spins interact only with those that are immediately adjacent to them on the lattice.\n",
    "This gives a total energy for the entire system\n",
    "\n",
    "$$ E = -J \\sum_{\\langle ij\\rangle} s_i s_j, $$\n",
    "\n",
    "where the notation $\\langle ij\\rangle$ indicates a sum over pairs $i,j$ that are adjacent on the lattice.\n",
    "On the square lattice, each spin has four adjacent neighbors with which it interacts.\n",
    "\n",
    "Write a program to perform a Markov-chain Monte Carlo simulation of the Ising model on the square lattice for a system of $20\\times 20$ spins.\n",
    "You will need to set up variables to hold the value $\\pm 1$ of the spin on each lattice site, probably using a two-dimensional integer array."
   ]
  },
  {
   "cell_type": "markdown",
   "id": "90067c87",
   "metadata": {
    "id": "90067c87"
   },
   "source": [
    "### 3.1 Total-energy function\n",
    "\n",
    "First, write a function to calculate the total energy of the system, as given by the equation above.\n",
    "That is, for a given array of values of the spins, go through every pair of adjacent spins and add up the contributions $s_i s_j$ from all of them, then multiply by $-J$.  \n",
    "\n",
    "_Hint: Each unique pair of adjacent spins crops up only once in the sum.\n",
    "Thus, there is a term $-Js_1 s_2$ if spins 1 and 2 are adjacent to one another, but you do not also need a term $-Js_2 s_1$._\n",
    "  \n",
    "_Hint: To make your final program to run in a reasonable amount of time, you will find it helpful if you can work out a way to calculate the energy using Python's ability to do arithmetic with entire arrays at once.\n",
    "If you do the calculation using loops, your program will be impossibly slow._"
   ]
  },
  {
   "cell_type": "code",
   "execution_count": null,
   "id": "7cab6463",
   "metadata": {
    "id": "7cab6463"
   },
   "outputs": [],
   "source": [
    "### your code here"
   ]
  },
  {
   "cell_type": "markdown",
   "id": "d260446f",
   "metadata": {
    "id": "d260446f"
   },
   "source": [
    "### 3.2 Metropolis algorithm\n",
    "\n",
    "Now, use your function as the basis for a Metropolis simulation of the Ising model with $J=1$ and temperature $T=1$ in units where the Boltzmann constant $k_B$ is also $1$.\n",
    "Initially set, the spin variables randomly to $\\pm 1$, giving a total magnetization of roughly zero.\n",
    "For each step, choose a spin at random, flip it, and calculate the new energy after it is flipped, and hence also the change in energy as a result of the flip.\n",
    "Then, decide whether to accept the flip using the Metropolis acceptance formula.\n",
    "If the move is rejected, you will have to flip the spin back to where it was.\n",
    "Otherwise, keep the flipped spin.\n",
    "Repeat this process for many steps."
   ]
  },
  {
   "cell_type": "code",
   "execution_count": null,
   "id": "68299ae5",
   "metadata": {
    "id": "68299ae5"
   },
   "outputs": [],
   "source": [
    "### your code here"
   ]
  },
  {
   "cell_type": "markdown",
   "id": "5939a5a6",
   "metadata": {
    "id": "5939a5a6"
   },
   "source": [
    "### 3.3 Magnetization\n",
    "\n",
    "Make a plot of the total magnetization $M=\\sum_i s_i$ of the system as a function of time for a million Monte-Carlo steps.\n",
    "You should see that the system develops a _spontaneous magnetization_, a nonzero value of the overall magnetization.\n",
    "\n",
    "_Hint: Use shorter runs for debugging before setting it to go for a million steps._"
   ]
  },
  {
   "cell_type": "code",
   "execution_count": null,
   "id": "3b9ab582",
   "metadata": {
    "id": "3b9ab582"
   },
   "outputs": [],
   "source": [
    "### your code here"
   ]
  },
  {
   "cell_type": "markdown",
   "id": "f0644a89",
   "metadata": {
    "id": "f0644a89"
   },
   "source": [
    "### 3.4 Ensembles\n",
    "\n",
    "Run your program several times and observe the sign of the magnetization that develops, positive or negative.\n",
    "Describe what you find and give a brief explanation of what is happening."
   ]
  },
  {
   "cell_type": "code",
   "execution_count": null,
   "id": "cda8b85b",
   "metadata": {
    "id": "cda8b85b"
   },
   "outputs": [],
   "source": [
    "### your code here"
   ]
  },
  {
   "cell_type": "markdown",
   "id": "fdd0e200",
   "metadata": {
    "id": "fdd0e200"
   },
   "source": [
    "### 3.5 Animations\n",
    "\n",
    "Make an animation of the system evolving over Monte-Carlo time.\n",
    "Run it with temperature $T=1$ and observe the behavior of the system.\n",
    "Then, run it two further times at temperatures $T=2$ and $T=3$.\n",
    "Explain briefly what you see in your three runs.\n",
    "How and why does the behavior of the system change as temperature is increased?"
   ]
  },
  {
   "cell_type": "code",
   "execution_count": null,
   "id": "4013348f",
   "metadata": {
    "id": "4013348f"
   },
   "outputs": [],
   "source": [
    "### your code here"
   ]
  },
  {
   "cell_type": "markdown",
   "id": "769c1f78",
   "metadata": {
    "id": "769c1f78"
   },
   "source": [
    "---\n",
    "## Extra Reading  and References\n",
    "\n",
    "1. _Markov Chain Monte Carlo for Dummies_ by Masanori Hanada:\n",
    "https://arxiv.org/pdf/1808.08490.pdf\n",
    "(First half is a general MCMC introduction and second half is examples of applications in high-energy physics)\n",
    "1. _Computational Physics_ by Morten Hjorth-Jensen (Chapter 11, 12, 13) https://courses.physics.ucsd.edu/2017/Spring/physics142/Lectures/Lecture18/Hjorth-JensenLectures2010.pdf"
   ]
  },
  {
   "cell_type": "markdown",
   "id": "ltq5V3ozt8Vf",
   "metadata": {
    "id": "ltq5V3ozt8Vf"
   },
   "source": [
    "&#169; Copyright 2024,  Michigan State University Board of Trustees"
   ]
  },
  {
   "cell_type": "code",
   "execution_count": null,
   "id": "1d012e48",
   "metadata": {
    "id": "1d012e48"
   },
   "outputs": [],
   "source": []
  }
 ],
 "metadata": {
  "colab": {
   "provenance": []
  },
  "kernelspec": {
   "display_name": "Python 3 (ipykernel)",
   "language": "python",
   "name": "python3"
  },
  "language_info": {
   "codemirror_mode": {
    "name": "ipython",
    "version": 3
   },
   "file_extension": ".py",
   "mimetype": "text/x-python",
   "name": "python",
   "nbconvert_exporter": "python",
   "pygments_lexer": "ipython3",
   "version": "3.9.18"
  }
 },
 "nbformat": 4,
 "nbformat_minor": 5
}
