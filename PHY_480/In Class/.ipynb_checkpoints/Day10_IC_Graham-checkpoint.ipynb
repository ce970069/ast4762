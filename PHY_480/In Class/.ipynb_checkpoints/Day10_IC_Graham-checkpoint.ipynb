{
 "cells": [
  {
   "cell_type": "markdown",
   "id": "f1588b90",
   "metadata": {
    "id": "f1588b90"
   },
   "source": [
    "# Day 10 In-Class Assignment:<br>Numerical Integration: Gaussian Quadrature\n",
    "\n",
    "### <p style=\"text-align: right;\"> &#9989; Cesarine Graham.</p>\n",
    "\n",
    "#### <p style=\"text-align: right;\"> &#9989; Victoria Fallon, Erin Syerson, Allison Perez-Bermudez (Group 2)</p>"
   ]
  },
  {
   "cell_type": "markdown",
   "id": "510a922a",
   "metadata": {
    "id": "510a922a"
   },
   "source": [
    "\n",
    "## Goals of this assignment\n",
    "\n",
    "The goals of this assignment are:\n",
    "\n",
    "* Study example code for Gaussian quadrature\n",
    "* Apply Gaussian quadrature to a quantum problem\n",
    "\n",
    "## Assignment instructions\n",
    "\n",
    "Upload the assignment to Gradescope before noon the day of the next class."
   ]
  },
  {
   "cell_type": "markdown",
   "id": "caba7436",
   "metadata": {
    "id": "caba7436"
   },
   "source": [
    "-----------\n",
    "# Part 1: Gaussian Quadrature Basics\n",
    "\n",
    "In physics, we often work with others and use functions others have already written.\n",
    "When working with code you did not write yourself, it's always a good practice to make sure that you understand what the code does, its limitations, etc.\n",
    "Below is an example code for Gaussian quadrature.\n",
    "\n",
    "## 1.1: Learn how the code works\n",
    "### 1.1.1: Learn how the code works I\n",
    "Discuss within your group, and add comments for _every line_ of the code.\n",
    "Create a new markdown cell and discuss with your groupmates how to use this function.\n"
   ]
  },
  {
   "cell_type": "code",
   "execution_count": 3,
   "id": "4ea3c3c8",
   "metadata": {
    "id": "4ea3c3c8"
   },
   "outputs": [],
   "source": [
    "import numpy as np\n",
    "\n",
    "def gaussxw(N):\n",
    "    # Initial approximation to roots of the Legendre polynomial\n",
    "    a = np.linspace(3, 4*N-1, N) / (4*N+2)  # Generate initial approximation array 'a'\n",
    "    x = np.cos(np.pi*a + 1 / (8*N*N*np.tan(a)))  # Calculate initial root approximation array 'x'\n",
    "    \n",
    "    # Find roots using Newton's method\n",
    "    epsilon = 1e-15  # Set a small value for stopping criterion\n",
    "    delta = 1.0  # Initialize delta\n",
    "    \n",
    "    while delta > epsilon:  # Start the iteration loop\n",
    "        p0 = np.ones(N, float)  # Initialize array p0 with ones\n",
    "        p1 = np.copy(x)  # Initialize array p1 with the current approximation of roots 'x'\n",
    "        \n",
    "        for k in range(1, N):  # Iterate through each polynomial degree\n",
    "            p0, p1 = p1, ((2*k+1)*x*p1 - k*p0) / (k+1)  # Compute the Legendre polynomials p0 and p1\n",
    "            \n",
    "        dp = (N+1) * (p0 - x*p1) / (1 - x*x)  # Compute the derivative of the Legendre polynomial\n",
    "        dx = p1 / dp  # Compute the change in root approximation 'x'\n",
    "        x -= dx  # Update root approximation 'x'\n",
    "        delta = max(np.abs(dx))  # Update delta with the maximum absolute change in 'x'\n",
    "        \n",
    "    # Calculate the weights\n",
    "    w = 2*(N+1)*(N+1) / (N*N * (1 - x*x) * dp * dp)  # Compute the weights\n",
    "    \n",
    "    return x, w  # Return the roots and weights"
   ]
  },
  {
   "cell_type": "markdown",
   "id": "kzz6_carsPqi",
   "metadata": {
    "id": "kzz6_carsPqi"
   },
   "source": [
    "### 1.1.2: Learn how the code works II\n",
    "Discuss within your group; write down what this function does and how you use it."
   ]
  },
  {
   "cell_type": "markdown",
   "id": "d91a4f03",
   "metadata": {},
   "source": [
    "<font color='blue'>\n",
    "\n",
    "How the function works:\n",
    " - The function breaks apart the amount of bins about the span of the function and weighs them differently according to the equation.\n",
    "    \n",
    "    \n",
    "How we use the function:\n",
    " - define how many iterations (n) we need\n",
    " - Use the function to find the weight of x\n",
    " - Use the x values and plug them into the x_vals equations\n",
    " - Find the x_yals\n",
    " - Plug x_vals and y_vals into the integral function"
   ]
  },
  {
   "cell_type": "markdown",
   "id": "CVE_Iq-xs-i9",
   "metadata": {
    "id": "CVE_Iq-xs-i9"
   },
   "source": [
    "### 1.1.3: Apply the code\n",
    "Test the function by calculating the integral of $x^4-2x+1$ from $x=-1$ to $x=1$."
   ]
  },
  {
   "cell_type": "code",
   "execution_count": 2,
   "id": "Ao_Mh9yltOgI",
   "metadata": {
    "id": "Ao_Mh9yltOgI"
   },
   "outputs": [
    {
     "name": "stdout",
     "output_type": "stream",
     "text": [
      "gaussian quadrature apporximation: 2.3999999999999853\n"
     ]
    }
   ],
   "source": [
    "def func(x):\n",
    "    return x**4 - 2*x + 1\n",
    "a = -1\n",
    "b = 1\n",
    "N = 10\n",
    "x, w = gaussxw(N)\n",
    "x_vals = 0.5*((b - a)*x + (b + a))\n",
    "y_vals = func(x_vals)\n",
    "integral = np.sum(w*y_vals)\n",
    "print('gaussian quadrature apporximation:', integral)"
   ]
  },
  {
   "cell_type": "markdown",
   "id": "qx9t2IfNtSgo",
   "metadata": {
    "id": "qx9t2IfNtSgo"
   },
   "source": [
    "## 1.2: Finite Integral Range Using  Gaussian Quadrature\n",
    "In physics, we often have to deal with different integral ranges rather than $[-1,1]$. Luckily, we can use a simple change of variables to make our code work for a general integration range $[a,b]$.\n",
    "\n",
    "### 1.2.1: Change of variable  \n",
    "Up to this point, we have only discussed Gaussian-quadrature integration from $-1$ to $1$:\n",
    "$$   I = \\int_{-1}^1 dx\\, f(x) $$\n",
    "We generally need to integrate from arbitrary $a$ to $b$:\n",
    "$$\n",
    "   I = \\int_a^b dy\\, f(y)\n",
    "$$\n",
    "The solution is simply to carry out a change of variable.\n",
    "\n",
    "Derive within your group how to change the variable (use the board in the classroom or your notebook), and fill in the missing answers ($c_1$ and $c_2$) below."
   ]
  },
  {
   "cell_type": "markdown",
   "id": "lV3nas9Gw5ge",
   "metadata": {
    "id": "lV3nas9Gw5ge"
   },
   "source": [
    "Using the endpoint information, we can solve for $c_1$ and $c_2$. Therefore,\n",
    "$$y=c_1 + c_2 x $$\n",
    "(Substitute in your answer for $c_1$ and $c_2$ in terms of $a$ and $b$).\n",
    "$$dt = c_2 dx = \\text{??} $$\n",
    "and therefore,\n",
    "\n",
    "$$\n",
    "   I = \\int_a^b dy\\, f(y) = \\text{??}  \\int_{-1}^1 \\text{??}\\, dx\\, f(\\text{??} x)\n",
    "$$\n",
    "\n",
    "Now employ an intergral sum, giving\n",
    "\n",
    "$$\n",
    "   I = \\int_a^b dy\\, f(y) = \\text{??}  \\sum_{I=1}^N \\text{??}\\, w_i  f(\\text{??} x_i) $$"
   ]
  },
  {
   "cell_type": "markdown",
   "id": "jiOlGHYhyjq2",
   "metadata": {
    "id": "jiOlGHYhyjq2"
   },
   "source": [
    "\n",
    "### 1.2.2: Check your results\n",
    "What can you do to check that your results above are correct? Discuss within your group and record your ideas in a new Markdown cell below."
   ]
  },
  {
   "cell_type": "markdown",
   "id": "N8QPufP3yzvk",
   "metadata": {
    "id": "N8QPufP3yzvk"
   },
   "source": [
    "<font color='blue'>\n",
    "Check $a=-1$ and $b=1$, everything should to go $1$."
   ]
  },
  {
   "cell_type": "markdown",
   "id": "Uu9z8PIFy58a",
   "metadata": {
    "id": "Uu9z8PIFy58a"
   },
   "source": [
    "### 1.2.3: Write a new function\n",
    "Now, write a new function to take a general intergration range so that you can use it for the remainder of the in-class assignement.\n",
    "Discuss with your groupmates and fill in the missing code below."
   ]
  },
  {
   "cell_type": "code",
   "execution_count": 7,
   "id": "vE7kgfcwyyp5",
   "metadata": {
    "id": "vE7kgfcwyyp5"
   },
   "outputs": [],
   "source": [
    "# Fill in the missing code\n",
    "def gaussxwab(N,a,b):\n",
    "    x,w = gaussxw(N)\n",
    "    return               # return the new x and w"
   ]
  },
  {
   "cell_type": "code",
   "execution_count": 8,
   "id": "Zwj3-ZMWsFSY",
   "metadata": {
    "id": "Zwj3-ZMWsFSY"
   },
   "outputs": [],
   "source": [
    "# Answer\n",
    "def gaussxwab(N,a,b):\n",
    "    x,w = gaussxw(N)\n",
    "    return 0.5*(b-a)*x+0.5*(b+a),0.5*(b-a)*w"
   ]
  },
  {
   "cell_type": "markdown",
   "id": "0b568a97",
   "metadata": {
    "id": "0b568a97"
   },
   "source": [
    "### 1.2.4: Use the function\n",
    "Test the function `gaussxwab(N,a,b)` by calculating the integral of $x^4-2x+1$ from $x=0$ to $x=2$."
   ]
  },
  {
   "cell_type": "code",
   "execution_count": 13,
   "id": "4ab5b00c",
   "metadata": {
    "id": "4ab5b00c"
   },
   "outputs": [
    {
     "name": "stdout",
     "output_type": "stream",
     "text": [
      "gaussian quadrature apporximation: 4.400000000000037\n"
     ]
    }
   ],
   "source": [
    "# your code here\n",
    "\n",
    "a = 0\n",
    "b = 2\n",
    "N = 10\n",
    "\n",
    "x, w = gaussxwab(N, a, b)\n",
    "y_vals = func(x)\n",
    "integral = np.sum(w*y_vals)\n",
    "print('gaussian quadrature apporximation:', integral)"
   ]
  },
  {
   "cell_type": "markdown",
   "id": "uQccByE8zdjJ",
   "metadata": {
    "id": "uQccByE8zdjJ"
   },
   "source": [
    "### 1.2.5: Check your function results\n",
    "How can you be sure that you are getting the correct answer from your function above?\n",
    "Discuss within your group and record a few ideas on how to verify that you have a working function to use in the homework problem."
   ]
  },
  {
   "cell_type": "markdown",
   "id": "bfa87219",
   "metadata": {},
   "source": [
    "<font color='blue'>\n",
    "We can use Scipy to check our result and also extropolate an error. Notice below that the calculated error is to an order of -15, therefore we can confidently say that 4.4 is the correct answer. "
   ]
  },
  {
   "cell_type": "code",
   "execution_count": 14,
   "id": "BxosXtwvzzLk",
   "metadata": {
    "id": "BxosXtwvzzLk"
   },
   "outputs": [
    {
     "name": "stdout",
     "output_type": "stream",
     "text": [
      "Scipy Result: (4.399999999999999, 3.552713678800501e-15)\n"
     ]
    }
   ],
   "source": [
    "from scipy import integrate\n",
    "result = integrate.quadrature(func, 0, 2)\n",
    "print(\"Scipy Result:\", result)"
   ]
  },
  {
   "cell_type": "markdown",
   "id": "MolgfymmzzcQ",
   "metadata": {
    "id": "MolgfymmzzcQ"
   },
   "source": [
    "### 1.2.6: Check the convergence\n",
    "Repeat 1.2.4 and vary `N` from `2` to `15`; use the function `gaussxwab(N,a,b)` to calculate the intergral and print out the answer with each `N` value.\n",
    "Then, write down your observation on how the answer changes with `N`.\n"
   ]
  },
  {
   "cell_type": "code",
   "execution_count": 21,
   "id": "76YM2tuE0UUY",
   "metadata": {
    "id": "76YM2tuE0UUY"
   },
   "outputs": [
    {
     "name": "stdout",
     "output_type": "stream",
     "text": [
      "2 ; 4.22222222222223\n",
      "3 ; 4.4000000000000075\n",
      "4 ; 4.400000000000021\n",
      "5 ; 4.400000000000018\n",
      "6 ; 4.400000000000002\n",
      "7 ; 4.400000000000009\n",
      "8 ; 4.400000000000009\n",
      "9 ; 4.4000000000000155\n",
      "10 ; 4.400000000000037\n",
      "11 ; 4.400000000000015\n",
      "12 ; 4.400000000000048\n",
      "13 ; 4.400000000000021\n",
      "14 ; 4.400000000000009\n",
      "15 ; 4.399999999999996\n"
     ]
    },
    {
     "data": {
      "image/png": "[encoded data removed]",
      "text/plain": [
       "<Figure size 600x400 with 1 Axes>"
      ]
     },
     "metadata": {},
     "output_type": "display_data"
    }
   ],
   "source": [
    "from matplotlib.ticker import FuncFormatter\n",
    "\n",
    "N = np.arange(2, 16, 1)\n",
    "integrals = []\n",
    "for i in range(len(N)):\n",
    "    x, w = gaussxwab(N[i], a, b)\n",
    "    y_vals = func(x)\n",
    "    integrals.append(np.sum(w * y_vals))\n",
    "    print(N[i], ';', integrals[i])\n",
    "\n",
    "plt.figure(figsize=(6, 4))\n",
    "plt.plot(N, integrals, marker='.', color='purple')\n",
    "plt.grid()\n",
    "\n",
    "def format_func(value, tick_number):\n",
    "    return \"{:.9f}\".format(value)\n",
    "\n",
    "plt.gca().yaxis.set_major_formatter(FuncFormatter(format_func))\n",
    "plt.show()"
   ]
  },
  {
   "cell_type": "markdown",
   "id": "OjmKBJnE0Udt",
   "metadata": {
    "id": "OjmKBJnE0Udt"
   },
   "source": [
    "### 1.2.7: Compare with other methods\n",
    "Now, compare your results from 1.2.6 to the integration using other methods from Day09 1.2.4. Discuss within your group, what do you observe?"
   ]
  },
  {
   "cell_type": "markdown",
   "id": "0a781f99",
   "metadata": {},
   "source": [
    "<font color='blue'>\n",
    "\n",
    "It approximated the integration very fast."
   ]
  },
  {
   "cell_type": "markdown",
   "id": "785f0a73",
   "metadata": {
    "id": "785f0a73"
   },
   "source": [
    "## 1.3: How to Deal with Infinite-Range Gaussian Quadrature\n",
    "\n",
    "Often in physics, we encounter integrals over infinite ranges, like $\\int_0^\\infty dx\\, f(x)$.\n",
    "\n",
    "The techniques we have seen so far don't work for these integrals, because we'd need an infinite number of sample points to span an infinite range.\n",
    "The solution to this problem is to change variables.\n",
    "For an integral over the range from $0$ to $\\infty$, the standard change of variables is\n",
    "\n",
    "$$z = \\frac{x}{1 + x} $$\n",
    "\n",
    "or equivalently,\n",
    "\n",
    "$$x =\\frac{z}{1 - z}.$$\n",
    "\n",
    "Then,\n",
    "\n",
    "$$dx = \\frac{dz}{(1 - z)^2},$$\n",
    "\n",
    "$$\\int_0^\\infty dx\\, f(x) = \\int_0^1 dz\\, \\frac{f\\left(\\frac{z}{1 - z}\\right)}{(1-z)^2},$$\n",
    "\n",
    "which can be done using any of the previous techniques, including the trapezoidal and Simpson rules, or Gaussian quadrature.\n",
    "\n",
    "Now, use the transformation and evaluate the following integral using Gaussian quadrature:\n",
    "\n",
    "$$I = \\int_0^\\infty dt\\, e^{-t^2}$$"
   ]
  },
  {
   "cell_type": "markdown",
   "id": "2oXqTMviLWHB",
   "metadata": {
    "id": "2oXqTMviLWHB"
   },
   "source": [
    "#### 1.3.1: Rewrite the integral\n",
    "Write down the new integral in the Markdown cell below with the suggested change of the variables above.\n",
    "Discuss and check with your group to make sure that you all agree before moving on."
   ]
  },
  {
   "cell_type": "markdown",
   "id": "a3d66571",
   "metadata": {
    "id": "a3d66571"
   },
   "source": [
    "<font size=+3>&#9998;</font>\n",
    "<font color='blue'>\n",
    "\n",
    "$\\int_0^1 \\frac{e^{-t^2}}{\\left(1-\\left(\\frac{e^{-t^2}}{1+e^{-t^2}}\\right)\\right)^2}dt\\$"
   ]
  },
  {
   "cell_type": "markdown",
   "id": "c7deca57",
   "metadata": {
    "id": "c7deca57"
   },
   "source": [
    "#### 1.3.2: Evaluate the integral\n",
    "Use the Gaussian quadrature code provided above to evaluate the integral.\n",
    "Write down your code below."
   ]
  },
  {
   "cell_type": "code",
   "execution_count": 22,
   "id": "525d783d",
   "metadata": {
    "id": "525d783d"
   },
   "outputs": [
    {
     "name": "stdout",
     "output_type": "stream",
     "text": [
      "gaussian quadrature apporximation: 0.8870584163012322\n",
      "scipy check: 0.8862269320887732\n"
     ]
    }
   ],
   "source": [
    "def func2(x):\n",
    "    return np.exp(-x**2)\n",
    "def big_func(z):\n",
    "    return func2(z/(1-z)) / (1-z)**2\n",
    "a = 0\n",
    "b = 1\n",
    "N = 10\n",
    "x, w = gaussxwab(N, a, b)\n",
    "y_vals = big_func(x)\n",
    "integral = np.sum(w*y_vals)\n",
    "print('gaussian quadrature apporximation:', integral)\n",
    "# using scipy.integrate.quadrature() method\n",
    "from scipy import integrate\n",
    "geek = integrate.quadrature(big_func, 0, 1)\n",
    "print('scipy check:', geek[0])"
   ]
  },
  {
   "cell_type": "markdown",
   "id": "d145d91b",
   "metadata": {
    "id": "d145d91b"
   },
   "source": [
    "---\n",
    "# Part 2: Period of an Anharmonic Oscillator\n",
    "\n",
    "The simple harmonic oscillator crops up in many places.\n",
    "Its behavior can be studied readily using analytic methods, and it has the important property that its period of oscillation is a constant, independent of its amplitude, making it useful, for instance, for keeping time in watches and clocks.\n",
    "\n",
    "Frequently in physics, however, we also come across anharmonic oscillators, whose periods vary with amplitude and whose behavior usually cannot be calculated analytically.\n",
    "A general classical oscillator can be thought of as a particle in a concave potential well.\n",
    "When disturbed, the particle will rock back and forth in the well, as shown [here](\n",
    "https://drive.google.com/file/d/1GGOMzvEDH4oVSpFDZ061LIhAMw5mjgfS/view?usp=sharing).\n",
    "\n",
    "The harmonic oscillator corresponds to a quadratic potential $V(x) \\propto x^2$.\n",
    "Any other form gives an anharmonic oscillator.\n",
    "\n",
    "One way to calculate the motion of an oscillator is to write down the equation for the conservation of energy in the system.\n",
    "If the particle has mass $m$ and position $x$, then the total energy is equal to the sum of the kinetic and potential energies thus:\n",
    "\n",
    "$$\n",
    "E = \\frac{1}{2} m \\left( {\\frac{d x}{d t}} \\right)^2 + V(x).\n",
    "$$\n",
    "\n",
    "Since the energy must be constant over time, this equation is effectively a (nonlinear) differential equation linking $x$ and $t$.\n",
    "\n",
    "Let us assume that the potential $V(x)$ is symmetric about $x=0$, and let us set our anharmonic oscillator going with amplitude $a$.\n",
    "That is, at $t=0$ we release it from rest at position $x=a$, and it swings back towards the origin.\n",
    "Then, at $t=0$ we have $dx/dt = 0$, and the equation above reads $E = V(a)$, which gives us the total energy of the particle in terms of the amplitude.\n",
    "\n",
    "### 2.1\n",
    "When the particle reaches the origin for the first time, it has gone through one quarter of a period of the oscillator.\n",
    "By rearranging the equation above for $dx/dt$ and integrating with respect to $t$ from 0 to $T/4$, show that the period $T$ is given by\n",
    "\n",
    "$$\n",
    "T = \\sqrt{8m} \\int_0^a {\\frac{d x}{\\sqrt{V(a)-V(x)}}}.\n",
    "$$\n"
   ]
  },
  {
   "cell_type": "code",
   "execution_count": null,
   "id": "12fcd94d",
   "metadata": {
    "id": "12fcd94d"
   },
   "outputs": [],
   "source": [
    "# your code here"
   ]
  },
  {
   "cell_type": "markdown",
   "id": "fb610fa2",
   "metadata": {
    "id": "fb610fa2"
   },
   "source": [
    "### 2.2\n",
    "Suppose the potential is $V(x)=x^4$ and the mass of the particle is $m=1$.\n",
    "Write a Python function that calculates the period of the oscillator for given amplitude $a$ using Gaussian quadrature with $N=20$ points.\n",
    "Then, use your function to make a graph of the period for amplitudes ranging from $a=0$ to $a=2$."
   ]
  },
  {
   "cell_type": "code",
   "execution_count": null,
   "id": "02d708ce",
   "metadata": {
    "id": "02d708ce"
   },
   "outputs": [],
   "source": [
    "# your code here"
   ]
  },
  {
   "cell_type": "markdown",
   "id": "8585958f",
   "metadata": {
    "id": "8585958f"
   },
   "source": [
    "### 2.3\n",
    "You should find that the oscillator gets faster as the amplitude increases, even though the particle has further to travel for larger amplitude.\n",
    "You should also find that the period diverges as the amplitude goes to zero.\n",
    "How do you explain these results?"
   ]
  },
  {
   "cell_type": "code",
   "execution_count": null,
   "id": "5c7c8fa6",
   "metadata": {
    "id": "5c7c8fa6"
   },
   "outputs": [],
   "source": [
    "# your code here"
   ]
  }
 ],
 "metadata": {
  "colab": {
   "provenance": []
  },
  "kernelspec": {
   "display_name": "Python 3 (ipykernel)",
   "language": "python",
   "name": "python3"
  },
  "language_info": {
   "codemirror_mode": {
    "name": "ipython",
    "version": 3
   },
   "file_extension": ".py",
   "mimetype": "text/x-python",
   "name": "python",
   "nbconvert_exporter": "python",
   "pygments_lexer": "ipython3",
   "version": "3.9.18"
  }
 },
 "nbformat": 4,
 "nbformat_minor": 5
}
