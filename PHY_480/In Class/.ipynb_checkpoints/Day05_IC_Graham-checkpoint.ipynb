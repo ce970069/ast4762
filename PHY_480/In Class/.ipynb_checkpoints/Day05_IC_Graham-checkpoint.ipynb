{
 "cells": [
  {
   "cell_type": "markdown",
   "id": "f1588b90",
   "metadata": {
    "id": "f1588b90"
   },
   "source": [
    "# Day 05 In-Class Assignment:<br>Gaussian Elimination and Back Substitution\n",
    "### <p style=\"text-align: right;\"> &#9989; Cesarine Graham</p>\n",
    "\n",
    "#### <p style=\"text-align: right;\"> &#9989; Michael Quintieri, Evan Crandall, Allison Perez-Bermudez (Group 4)</p>"
   ]
  },
  {
   "cell_type": "markdown",
   "id": "510a922a",
   "metadata": {
    "id": "510a922a"
   },
   "source": [
    "## Goals of this assignment\n",
    "\n",
    "The primary goal of this assignment is\n",
    "\n",
    "* Write functions to solve upper and lower-triangular matrices\n",
    "* Solve a general rank-$n$ system of linear equations\n",
    "* Apply the code to a few examples in physics\n",
    "\n",
    "## Assignment instructions\n",
    "\n",
    "Work with your group to complete this assignment. Upload the assignment to Gradescope at the end of class.\n",
    "**Make sure everyone's name is listed in everyone's notebook before moving on**"
   ]
  },
  {
   "cell_type": "markdown",
   "id": "e45820a4",
   "metadata": {
    "id": "e45820a4"
   },
   "source": [
    "---\n",
    "## Part 1: Forward and back substitution functions\n",
    "\n",
    "In this exercise, we will first compare and check answers among groupmates from the pre-class assignment for the general $n \\times n$ case, and write functions so that we can use them later in this class and in future classes.\n",
    "\n",
    "\n",
    "### 1.1 $n \\times n$ lower-triangular case\n",
    "Compare among your groupmates your answers to the pre-class assignment, Q1.3.\n",
    "Once everyone agrees on what the answer is, write down your final answer as a group.\n",
    "\n",
    "Note that you will receive a deduction on the in-class assignment if answers differ within the same group. Please check each other's final formula."
   ]
  },
  {
   "cell_type": "markdown",
   "id": "bf2a88ac",
   "metadata": {
    "id": "bf2a88ac"
   },
   "source": [
    "<font size=+3>&#9998;</font> *your answer here*\n",
    "\n",
    "$x_i = $ with $i\\in\\{0,1,\\ldots,n-1\\}$\n",
    "\n",
    "\\begin{align*}\n",
    "x_0 &= \\frac{b_0}{L_{00}} \\\\\n",
    "x_1 &= \\frac{b_1 - L_{10}x_0}{L_{11}} \\\\\n",
    "x_2 &= \\frac{b_2 - L_{20}x_0 - L_{21}x_1}{L_{22}} \\\\\n",
    "& \\vdots \\\\\n",
    "x_i &= \\frac{b_i - L_{i0}x_0 - L_{i1}x_1 - \\ldots - L_{i,i-1}x_{i-1}}{L_{ii}} \\\\\n",
    "& \\vdots \\\\\n",
    "x_{n-1} &= \\frac{b_{n-1} - L_{n-1,0}x_0 - L_{n-1,1}x_1 - \\ldots - L_{n-1,n-2}x_{n-2}}{L_{n-1,n-1}} \\\\\n",
    "& \\vdots \\\\\n",
    "\\therefore x_i &= \\boxed{\\frac{b_i - L_{i0}x_0 - L_{i1}x_1 - \\ldots - L_{i,i-1}x_{i-1}}{L_{ii}}}\n",
    "\\end{align*}\n",
    "\n",
    "for $ i \\in \\{0,1,\\ldots,n-1\\} $.\n",
    "\n",
    "or\n",
    "\n",
    "$\\boxed{x_i = \\frac{b_i}{L_{ii}} - \\displaystyle\\sum_{m=0}^{i-1}\\left(\\frac{L_{im}x_m}{L_{ii}}\\right)}$ for $i\\in\\{0,1,\\ldots,n-1\\}$"
   ]
  },
  {
   "cell_type": "markdown",
   "id": "5e77c61b",
   "metadata": {
    "id": "5e77c61b"
   },
   "source": [
    "\n",
    "### 1.2 Write a `forsub(L,b)` function  \n",
    "Now, we will write a function named `forsub` that will take a lower-triangular matrix $\\mathbf{L}$ and a vector $\\mathbf{b}$ from a system of linear equations $\\mathbf{L} \\mathbf{x} = \\mathbf{b}$ and return a vector solution.\n",
    "\n",
    "Since we will be using these functions later in the class, please do not change the name nor the inputs for this function."
   ]
  },
  {
   "cell_type": "code",
   "execution_count": 3,
   "id": "cd16be37",
   "metadata": {
    "id": "cd16be37",
    "outputId": "d6e4a737-51ad-4d3d-9c8b-0b249a78e3b2",
    "scrolled": true
   },
   "outputs": [],
   "source": [
    "# your function here\n",
    "    \n",
    "import numpy as np\n",
    "\n",
    "def forsub(L, b):\n",
    "    n = len(L) # getting the size of the matrix\n",
    "    x = np.zeros(n) # initializing the solution vector x\n",
    "    for i in range(n): # performing forward substitution\n",
    "        numerator = b[i] - np.dot(L[i, :i], x[:i]) #calculating the numerator \n",
    "        x[i] = numerator / L[i, i] # calculating the solution for xi\n",
    "    return x"
   ]
  },
  {
   "cell_type": "markdown",
   "id": "f7847764",
   "metadata": {
    "id": "f7847764"
   },
   "source": [
    "\n",
    "### 1.3 Test the `forsub(L,b)` function  \n",
    "Now we need to make sure that `forsub` returns the correct solution.\n",
    "\n",
    "1. Use the inputs from the pre-class assignement Q1.2, and check whether your `forsub(L,b)` returns the same solution.\n",
    "\n",
    "1. Use another example from a $4\\times 4$ linear system. Check the solutions."
   ]
  },
  {
   "cell_type": "code",
   "execution_count": 5,
   "id": "abe6b26e",
   "metadata": {
    "id": "abe6b26e"
   },
   "outputs": [
    {
     "name": "stdout",
     "output_type": "stream",
     "text": [
      "Solution for 3x3 example: [0.16666667 0.94444444 4.30555556]\n",
      "Solution for 4x4 example: [3.   2.5  0.   3.25]\n"
     ]
    }
   ],
   "source": [
    "# example from Q1.2\n",
    "L_3x3 = np.array([[6, 0, 0],\n",
    "                          [-5, 3, 0],\n",
    "                          [6, -7, 2]])\n",
    "b_3x1 = np.array([1, 2, 3])\n",
    "\n",
    "# testing the function\n",
    "solution_3x1 = forsub(L_3x3, b_3x1)\n",
    "print(\"Solution for 3x3 example:\", solution_3x1)\n",
    "\n",
    "\n",
    "# example for 4x4\n",
    "L_4x4 = np.array([[3, 0, 0, 0],\n",
    "                          [1, 2, 0, 0],\n",
    "                          [-1, 4, 5, 0],\n",
    "                          [2, -3, 1, 2]])\n",
    "b_4x1 = np.array([9, 8, 7, 5])\n",
    "\n",
    "# testing the function for 4x4\n",
    "solution_4x1 = forsub(L_4x4, b_4x1)\n",
    "print(\"Solution for 4x4 example:\", solution_4x1)"
   ]
  },
  {
   "cell_type": "markdown",
   "id": "8be2887a",
   "metadata": {
    "id": "8be2887a"
   },
   "source": [
    "### 1.4 The $n \\times n $ upper-triangular case: back substitution\n",
    "Compare among your groupmates your answers for pre-class assignment, Q2.3.\n",
    "Once everyone agrees on what the answer is, write down your final answer as a group.\n",
    "\n",
    "Note that you will receive a deduction on the in-class assignment if answers differ within the same group. Please check each other's final formula."
   ]
  },
  {
   "cell_type": "markdown",
   "id": "f16e73ed",
   "metadata": {
    "id": "f16e73ed"
   },
   "source": [
    "<font size=+3>&#9998;</font> *your answer here*\n",
    "\n",
    "$x_i = $ with $i\\in\\{0,1,\\ldots,n-1\\}$\n",
    "\n",
    "\\begin{align*}\n",
    "x_0 &= \\frac{b_0 - U_{0,1}x_1 - U_{0,2}x_2 - \\ldots - U_{0,n-1}x_{n-1}}{U_{00}} \\\\\n",
    "x_1 &= \\frac{b_1 - U_{1,2}x_2 - U_{1,3}x_3 - \\ldots - U_{1,n-1}x_{n-1}}{U_{11}} \\\\\n",
    "& \\vdots \\\\\n",
    "x_{n-1} &= \\frac{b_{n-1}}{U_{n-1,n-1}} \\\\\n",
    "& \\vdots \\\\\n",
    "x_i &= \\boxed{\\frac{b_i - U_{i,i+1}x_{i+1} - U_{i,i+2}x_{i+2} - \\ldots - U_{i,n-1}x_{n-1}}{U_{ii}}} \n",
    "\\end{align*}"
   ]
  },
  {
   "cell_type": "markdown",
   "id": "28b49efb",
   "metadata": {
    "id": "28b49efb"
   },
   "source": [
    "\n",
    "### 1.5 Write a `backsub(U,b)` function  \n",
    "Now, we will write a function named `backsub` that will take a upper-triangular matrix $\\mathbf{U}$ and a vector $\\mathbf{b}$ from a system of linear equations $\\mathbf{U} \\mathbf{x} = \\mathbf{b}$ and return $\\mathbf{x}$ the vector solution.\n",
    "\n",
    "Since we will be using these functions later in the class, please do not change the name nor the inputs for this function."
   ]
  },
  {
   "cell_type": "code",
   "execution_count": 20,
   "id": "6ff171df",
   "metadata": {},
   "outputs": [],
   "source": [
    "def backsub(U, b):\n",
    "    n = len(U) # getting the size of the matrix\n",
    "    x = np.zeros(n) # initializing the solution vector x\n",
    "    for i in range(n - 1, -1, -1): # performing back substitution\n",
    "        numerator = b[i] - np.dot(U[i, i+1:], x[i+1:]) # calculating the numerator part of the formula\n",
    "        x[i] = numerator / U[i, i] # calculating the solution for xi\n",
    "    return x"
   ]
  },
  {
   "cell_type": "code",
   "execution_count": 26,
   "id": "afcdecb3",
   "metadata": {},
   "outputs": [],
   "source": [
    "def backsub(L,b):\n",
    "    N = np.size(L,1)\n",
    "    x = np.empty((1,N)) # initializing output array\n",
    "    for i in range(N-1, 0, -1):\n",
    "        sum_j = 0\n",
    "        for j in range(i+1,N):\n",
    "            sum_j += L[i,j]*x[0,j]\n",
    "        x[0,i] = (1/L[i,i])*(b[i,0] - sum_j)\n",
    "    return x"
   ]
  },
  {
   "cell_type": "markdown",
   "id": "a2c4a488",
   "metadata": {
    "id": "a2c4a488"
   },
   "source": [
    "\n",
    "### 1.6 Test the `backsub(L,b)` function  \n",
    "Now, we need to make sure that `backsub` returns the correct solution.\n",
    "\n",
    "1. Use the inputs from pre-class assignment Q2.2, and check whether your `backsub(L,b)` returns the same solution.\n",
    "\n",
    "1. Use another example with a $4\\times 4$ linear system. Check the solution."
   ]
  },
  {
   "cell_type": "code",
   "execution_count": 27,
   "id": "961c2eb5",
   "metadata": {
    "id": "961c2eb5"
   },
   "outputs": [
    {
     "ename": "IndexError",
     "evalue": "too many indices for array: array is 1-dimensional, but 2 were indexed",
     "output_type": "error",
     "traceback": [
      "\u001b[1;31m---------------------------------------------------------------------------\u001b[0m",
      "\u001b[1;31mIndexError\u001b[0m                                Traceback (most recent call last)",
      "Cell \u001b[1;32mIn[27], line 10\u001b[0m\n\u001b[0;32m      7\u001b[0m b_3x1 \u001b[38;5;241m=\u001b[39m np\u001b[38;5;241m.\u001b[39marray([\u001b[38;5;241m1\u001b[39m, \u001b[38;5;241m2\u001b[39m, \u001b[38;5;241m3\u001b[39m])\n\u001b[0;32m      9\u001b[0m \u001b[38;5;66;03m# testing the function\u001b[39;00m\n\u001b[1;32m---> 10\u001b[0m solution_3x1 \u001b[38;5;241m=\u001b[39m \u001b[43mbacksub\u001b[49m\u001b[43m(\u001b[49m\u001b[43mL_3x3\u001b[49m\u001b[43m,\u001b[49m\u001b[43m \u001b[49m\u001b[43mb_3x1\u001b[49m\u001b[43m)\u001b[49m\n\u001b[0;32m     11\u001b[0m \u001b[38;5;28mprint\u001b[39m(\u001b[38;5;124m\"\u001b[39m\u001b[38;5;124mSolution for 3x3 example:\u001b[39m\u001b[38;5;124m\"\u001b[39m, solution_3x1)\n\u001b[0;32m     14\u001b[0m \u001b[38;5;66;03m# example for 4x4\u001b[39;00m\n",
      "Cell \u001b[1;32mIn[26], line 8\u001b[0m, in \u001b[0;36mbacksub\u001b[1;34m(L, b)\u001b[0m\n\u001b[0;32m      6\u001b[0m     \u001b[38;5;28;01mfor\u001b[39;00m j \u001b[38;5;129;01min\u001b[39;00m \u001b[38;5;28mrange\u001b[39m(i\u001b[38;5;241m+\u001b[39m\u001b[38;5;241m1\u001b[39m,N):\n\u001b[0;32m      7\u001b[0m         sum_j \u001b[38;5;241m+\u001b[39m\u001b[38;5;241m=\u001b[39m L[i,j]\u001b[38;5;241m*\u001b[39mx[\u001b[38;5;241m0\u001b[39m,j]\n\u001b[1;32m----> 8\u001b[0m     x[\u001b[38;5;241m0\u001b[39m,i] \u001b[38;5;241m=\u001b[39m (\u001b[38;5;241m1\u001b[39m\u001b[38;5;241m/\u001b[39mL[i,i])\u001b[38;5;241m*\u001b[39m(\u001b[43mb\u001b[49m\u001b[43m[\u001b[49m\u001b[43mi\u001b[49m\u001b[43m,\u001b[49m\u001b[38;5;241;43m0\u001b[39;49m\u001b[43m]\u001b[49m \u001b[38;5;241m-\u001b[39m sum_j)\n\u001b[0;32m      9\u001b[0m \u001b[38;5;28;01mreturn\u001b[39;00m x\n",
      "\u001b[1;31mIndexError\u001b[0m: too many indices for array: array is 1-dimensional, but 2 were indexed"
     ]
    }
   ],
   "source": [
    "# your code here\n",
    "\n",
    "# example from Q1.2\n",
    "L_3x3 = np.array([[-1, 2, 3],\n",
    "                          [0, 10, 8],\n",
    "                          [0, 0, -6]])\n",
    "b_3x1 = np.array([1, 2, 3])\n",
    "\n",
    "# testing the function\n",
    "solution_3x1 = backsub(L_3x3, b_3x1)\n",
    "print(\"Solution for 3x3 example:\", solution_3x1)\n",
    "\n",
    "\n",
    "# example for 4x4\n",
    "L_4x4 = np.array([[3, 0, 0, 0],\n",
    "                          [1, 2, 0, 0],\n",
    "                          [-1, 4, 5, 0],\n",
    "                          [2, -3, 1, 2]])\n",
    "b_4x1 = np.array([9, 8, 7, 5])\n",
    "\n",
    "# testing the function for 4x4\n",
    "solution_4x1 = backsub(L_4x4, b_4x1)\n",
    "print(\"Solution for 4x4 example:\", solution_4x1)"
   ]
  },
  {
   "cell_type": "markdown",
   "id": "429e0278",
   "metadata": {
    "id": "429e0278"
   },
   "source": [
    "## STOP\n",
    "Take a moment to compare results. If there is any disagreement or anyone in your group who needs help with the problems, please attempt to work things out.\n",
    "Only move on to the next part when everyone in your group in done with Part 1."
   ]
  },
  {
   "cell_type": "markdown",
   "id": "da0b8039",
   "metadata": {
    "id": "da0b8039"
   },
   "source": [
    "---\n",
    "## Part 2: Gaussian Elimination\n",
    "\n",
    "### 2.1 Review the pre-class results\n",
    "\n",
    "From the pre-class video, Gaussian elimination first reduces a general matrix equation (linear system of equations)\n",
    "\n",
    "$$\\mathbf{A} \\mathbf{x} = \\mathbf{b}$$\n",
    "\n",
    "to a simpler upper-triangular matrix $\\mathbf{U}$ equation\n",
    "\n",
    "$$\\mathbf{U} \\mathbf{x} = \\mathbf{v},$$\n",
    "\n",
    "where $\\mathbf{v}$ is the new constant vector.\n",
    "From there, you can use `backsub(U,b)` to solve for $\\mathbf{x}$.\n",
    "\n",
    "Discuss with your groupmates the ideas you had in the pre-class assignment.\n",
    "\n",
    "#### Checkpoint:\n",
    "You already know how to use back substitution by this point, so the remaining challenge is to obtain $\\mathbf{U}$.\n",
    "You want to have an automatic algorithm to carry out the following operation:\n",
    "\n",
    "* For each 0 you want to create in the lower triangle of the matrix, subtract some coefficient times a higher row from the row where you want the 0.\n",
    "\n",
    "_Hints:_\n",
    "* _The coefficient is just the value you want to take to 0 divided by what you're going to subtract from it._\n",
    "* _If you're trying to 0 the $i$th column, you subtract using the $i$th row. (Because higher rows have nonzero elements to the left that would mess up what you previously made 0.)_"
   ]
  },
  {
   "cell_type": "markdown",
   "id": "c9170de3",
   "metadata": {
    "id": "c9170de3"
   },
   "source": [
    "<font size=+3>&#9998;</font> *Discuss as a group, then write down your consensus strategy on how to obtain $\\mathbf{U}$ here*\n"
   ]
  },
  {
   "cell_type": "markdown",
   "id": "0f95903f",
   "metadata": {
    "id": "0f95903f"
   },
   "source": [
    "### 2.2 Write the `gauelim(inA,inb)` function\n",
    "\n",
    "Now, write a function named `gauelim` that will take a general $n \\times n$ matrix $\\mathbf{A}$ and a vector $\\mathbf{b}$ from a system of linear equations $\\mathbf{A} \\mathbf{x} = \\mathbf{b}$ and return the vector solution using the Gaussian elimination method.\n",
    "\n",
    "Please do not change the given code below and **only** fill in the missing code."
   ]
  },
  {
   "cell_type": "code",
   "execution_count": null,
   "id": "34b7fd73",
   "metadata": {
    "id": "34b7fd73"
   },
   "outputs": [],
   "source": [
    "# your function here\n",
    "\n",
    "def gauelim(inA,inb):\n",
    "    # fill in the missing code\n",
    "\n",
    "\n",
    "\n",
    "\n",
    "\n",
    "    x = backsub(U,v)\n",
    "    return x\n"
   ]
  },
  {
   "cell_type": "markdown",
   "id": "1e351b1e",
   "metadata": {
    "id": "1e351b1e"
   },
   "source": [
    "\n",
    "### 2.3 Test your function `gauelim(inA,inb)`\n",
    "\n",
    "Now, we need to make sure that `gauelim` returns the correct solution.\n",
    "\n",
    "1. Use the inputs from pre-class assignment Q3.1, and check whether your `gauelim(inA,inb)` returns the same solution.\n",
    "\n",
    "1. Use another example with a $4\\times 4$ linear system. Check the solution."
   ]
  },
  {
   "cell_type": "code",
   "execution_count": null,
   "id": "8f577bd6",
   "metadata": {
    "id": "8f577bd6"
   },
   "outputs": [],
   "source": [
    "# your code here"
   ]
  },
  {
   "cell_type": "markdown",
   "id": "b816b035",
   "metadata": {
    "id": "b816b035"
   },
   "source": [
    "## STOP\n",
    "Take a moment to compare results. If there is any disagreement or anyone in your group who needs help with the problems, please attempt to work things out.\n",
    "Only move on to the next part when everyone in your group in done with Part 2."
   ]
  },
  {
   "cell_type": "markdown",
   "id": "769c1f78",
   "metadata": {
    "id": "769c1f78"
   },
   "source": [
    "---\n",
    "## Part 3: Application - A circuit of resistors\n",
    "Consider the circuit of resistors as shown in the diagram in [this link](https://drive.google.com/file/d/1KNl2hXksd0gu8r4jQ9PX6l--rqFyzc1x)\n",
    "\n",
    "All the resistors have the same resistance $R$.\n",
    "The power rail at the top is at voltage $V_+=5$&nbsp;V.  What are the other four voltages, $V_1$ to $V_4$?\n",
    "\n",
    "### 3.1 Write down equations\n",
    "To answer this question, first use Ohm's law and the Kirchhoff current law, which says that the total net current flow out of (or into) any junction in a circuit must be zero, to get a set of linear equations.\n",
    "\n",
    "Write down the linear equations in the Markdown cell below and compare the equations within your group.\n",
    "Only when you all agree that you can move on to the next part."
   ]
  },
  {
   "cell_type": "markdown",
   "id": "1d5c1326",
   "metadata": {
    "id": "1d5c1326"
   },
   "source": [
    "<font size=+3>&#9998;</font> *your equation here*"
   ]
  },
  {
   "cell_type": "markdown",
   "id": "344da21c",
   "metadata": {
    "id": "344da21c"
   },
   "source": [
    "\n",
    "### 3.2 Solve the linear equations\n",
    "You can now solve these equations using Gaussian elimination you obtained earlier  and find the four voltages.\n"
   ]
  },
  {
   "cell_type": "code",
   "execution_count": null,
   "id": "2d2551d4",
   "metadata": {
    "id": "2d2551d4"
   },
   "outputs": [],
   "source": [
    "# your function here"
   ]
  }
 ],
 "metadata": {
  "colab": {
   "provenance": []
  },
  "kernelspec": {
   "display_name": "Python 3 (ipykernel)",
   "language": "python",
   "name": "python3"
  },
  "language_info": {
   "codemirror_mode": {
    "name": "ipython",
    "version": 3
   },
   "file_extension": ".py",
   "mimetype": "text/x-python",
   "name": "python",
   "nbconvert_exporter": "python",
   "pygments_lexer": "ipython3",
   "version": "3.9.18"
  }
 },
 "nbformat": 4,
 "nbformat_minor": 5
}
