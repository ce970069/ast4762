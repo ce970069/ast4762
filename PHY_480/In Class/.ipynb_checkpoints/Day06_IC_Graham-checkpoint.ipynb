{
 "cells": [
  {
   "cell_type": "markdown",
   "id": "f1588b90",
   "metadata": {
    "id": "f1588b90"
   },
   "source": [
    "# Day 06 In-Class Assignment:<br>LU Decomposition and Jacobi Iterative Method  \n",
    "### <p style=\"text-align: right;\"> &#9989; Cesarine Graham</p>\n",
    "\n",
    "#### <p style=\"text-align: right;\"> &#9989; Michael Quintieri, Evan Crandall, Allison Perez-Bermudez (Group 4)</p>"
   ]
  },
  {
   "cell_type": "markdown",
   "id": "510a922a",
   "metadata": {
    "id": "510a922a"
   },
   "source": [
    "## Goals of this assignment\n",
    "\n",
    "The primary goal of this assignment is to expand our ability to solve systems of equations represented by matrix equations.\n",
    "\n",
    "* Derive and write a function to do LU decomposition\n",
    "* Implement the Jacobi iterative method  \n",
    "* Apply the code to a physics example\n",
    "\n",
    "## Assignment instructions\n",
    "\n",
    "Work with your group to complete this assignment. Upload the assignment to Gradescope at the end of class.\n",
    "**Make sure everyone's name is listed in everyone's notebook before moving on**"
   ]
  },
  {
   "cell_type": "markdown",
   "id": "0e833c3f",
   "metadata": {
    "id": "0e833c3f"
   },
   "source": [
    "---\n",
    "## Part 0: Quick Review on `forsub(L,b)` and `backsub (U,b)` Functions\n",
    "\n",
    "In today's class, we will need to use the functions that you work on in the previous class:  `forsub(L,b)` and `backsub (U,b)`. Let's do a quick review here before starting on the LU decomposition.\n",
    "\n",
    "### 0.1 Forward substitution\n",
    "The function `forsub(L,b)` that will take a lower-triangular matrix $\\mathbf{L}$ and a vector $\\mathbf{b}$ from a system of linear equations $\\mathbf{L} \\mathbf{x} = \\mathbf{b}$ and return a vector solution.\n",
    "The function should return solution for  $x_{0,1,2,... n-1}$\n",
    "\n",
    "$$x_i = \\frac{1}{L_{ii}} \\cdot \\left( b_i - \\sum_{j=0}^{i-1} L_{ij}\\cdot x_j \\right) $$\n",
    "\n",
    "In physics, we often work with others and use functions others have already written. When working with code you did not write yourself, it's always a good practice to make sure that you understand what the code does, its limitations, etc.\n",
    "Below is an example `forsub(L,b)`  code. Discuss within your group, and add comments for every line of the code."
   ]
  },
  {
   "cell_type": "code",
   "execution_count": 1,
   "id": "e8ec5d9f",
   "metadata": {
    "id": "e8ec5d9f"
   },
   "outputs": [],
   "source": [
    "# Add your comments below\n",
    "\n",
    "def forsub(L,bs): # the function takes in a lower triangular matrix and a vector bs\n",
    "    n = bs.size # creating an array n the same size as bs\n",
    "    xs = np.zeros(n) #making xs, a vector of zeros of length n\n",
    "    for i in range(n): # looping through n items, i\n",
    "        xs[i] = (bs[i] - L[i,:i]@xs[:i])/L[i,i] # main operation of forward operation for each value of i @ used for matrix multiplication\n",
    "    return xs #returned the finished xs vector"
   ]
  },
  {
   "cell_type": "markdown",
   "id": "00d45b2c",
   "metadata": {
    "id": "00d45b2c"
   },
   "source": [
    "\n",
    "### 0.2 Back substitution\n",
    "The function `backsub(U,b)`  will take a upper-triangular matrix $\\mathbf{U}$ and a vector $\\mathbf{b}$ from a system of linear equations $\\mathbf{U} \\mathbf{x} = \\mathbf{b}$ and return $\\mathbf{x}$ the vector solution.\n",
    "The function should return solution for  $x_{n-1,n-2,...,2,1,0}$\n",
    "\n",
    "$$x_i = \\frac{1}{U_{ii}} \\cdot \\left( b_i - \\sum_{j=i+1}^{n-1} U_{ij}  x_j \\right)$$\n",
    "\n",
    "Below is an example  `backsub(U,bs)`  code. Discuss within your group, and add comments for every line of the code."
   ]
  },
  {
   "cell_type": "code",
   "execution_count": 2,
   "id": "cfb01af6",
   "metadata": {
    "id": "cfb01af6"
   },
   "outputs": [],
   "source": [
    "# Add your comments below\n",
    "\n",
    "def backsub(U,bs): # the function takes in a lower triangular matrix and a vector bs\n",
    "    n = bs.size # creating an array n the same size as bs\n",
    "    xs = np.zeros(n) #making xs, a vector of zeros of length n\n",
    "    for i in reversed(range(n)): # looping through n items, i\n",
    "        xs[i] = (bs[i] - U[i,i+1:]@xs[i+1:])/U[i,i] # main operation of backward operation for each value of i @ used for matrix multiplication\n",
    "    return xs #returned the finished xs vector\n"
   ]
  },
  {
   "cell_type": "markdown",
   "id": "e45820a4",
   "metadata": {
    "id": "e45820a4"
   },
   "source": [
    "---\n",
    "## Part 1: General Case for LU Decomposition\n",
    "\n",
    "In this exercise, we will revisit a $3 \\times 3$ example for LU decomposition using a different angle and derive a general solution for a $n \\times n$ matrix.\n",
    "\n",
    "\n",
    "### 1.1: A $3 \\times 3$ example\n",
    "The easiest way to find a general $n \\times n$ for large $n$ is to start with a simpler $3 \\times 3$ case.\n",
    "We are looking for the solution matrices $\\mathbf{L}$ and $\\mathbf{U}$ (for a given $\\mathbf{A}$) with the following structure\n",
    "\n",
    "$$\\mathbf{L} =\n",
    "           \\begin{bmatrix}\n",
    "                      1     &  0       & 0   \\\\\n",
    "                     L_{10} &  1       & 0    \\\\\n",
    "                     L_{20} &  L_{21}  & 1\\\\\n",
    "             \\end{bmatrix},\n",
    "\\qquad\n",
    "  \\mathbf{U} =\n",
    "           \\begin{bmatrix}\n",
    "                     U_{00}    &  U_{01}    & U_{02}  \\\\\n",
    "                         0     &  U_{11}    & U_{12}    \\\\\n",
    "                         0     &  0         & U_{22}\\\\\n",
    "            \\end{bmatrix},                     \n",
    "$$\n",
    "\n",
    "$$\n",
    "  \\mathbf{A} =\n",
    "           \\begin{bmatrix}\n",
    "                     U_{00}        &  U_{01}                    & U_{02}  \\\\\n",
    "                     U_{00}L_{10}  &  U_{01}L_{10}+U_{11}       & U_{02}L_{10}+U_{12}    \\\\\n",
    "                     U_{00}L_{20}  &  U_{01}L_{20}+U_{11}L_{21} & U_{02}L_{20}+U_{12}L_{21}+U_{22}\\\\\n",
    "            \\end{bmatrix},                     \n",
    "$$\n",
    "\n",
    "You can prove that by applying Gaussian elimination to the matrix $\\mathbf{A}$, you obtain the upper-triangular $\\mathbf{U}$.\n",
    "\n",
    "Work this out on paper and post a picture of your results on Jamboard to share on the general channel of the class Slack.\n",
    "\n",
    "**Grader:** Check the class Slack channel when you grade the assignment.\n",
    "\n",
    "<font color='blue'>\n",
    "jamboard link posted in 'general'\n",
    "    \n",
    "https://jamboard.google.com/d/1E75qTYFiOjFW2FLkJ1txQdqohhGU8Wc4Zb2bfvxNEpA/viewer?pli=1&f=0"
   ]
  },
  {
   "cell_type": "markdown",
   "id": "1476604e",
   "metadata": {
    "id": "1476604e"
   },
   "source": [
    "### 1.2: From $\\mathbf{A}$ to  $\\mathbf{L}$ and  $\\mathbf{U}$\n",
    "Now let's take\n",
    "\n",
    "$$\\mathbf{A} =\n",
    "           \\begin{bmatrix}\n",
    "                      a_{00}  &  a_{01}  & a_{02}    \\\\\n",
    "                      a_{10}  &  a_{11}  & a_{12}     \\\\\n",
    "                      a_{20}  &  a_{21}  & a_{22} \\\\\n",
    "             \\end{bmatrix}\n",
    "$$\n",
    "\n",
    "Using the elements of $\\mathbf{A}$, solve for the $U_{ij}$ and $L_{ij}$ in $\\mathbf{L}$ and  $\\mathbf{U}$.\n",
    "Create a new Markdown cell below and write down your answer for $U_{ij}$ and $L_{ij}$ in terms of $a_{ij}$.\n",
    "\n",
    "You can also check the pre-class assignment to see whether you get the same answer."
   ]
  },
  {
   "cell_type": "markdown",
   "id": "f9aa8306",
   "metadata": {},
   "source": [
    "<font color='blue'>\n",
    "\n",
    "$$\\mathbf{L_{ij}} =\n",
    "  \\begin{bmatrix}\n",
    "    1  &  0  & 0 \\\\\n",
    "    \\frac{a_{10}}{a_{00}}  &  1  & 0 \\\\\n",
    "    \\frac{a_{20}}{a_{00}}  &  \\frac{a_{21}-\\left(\\frac{a_{20}a_{01}}{a_{00}}\\right)}{a_{11}-\\left(\\frac{a_{10}a_{01}}{a_{00}}\\right)}  & 1 \\\\\n",
    "  \\end{bmatrix}$$\n",
    "$$\\mathbf{U_{ij}} =\n",
    "  \\begin{bmatrix}\n",
    "    a_{00}  &  a_{01}  & a_{02} \\\\\n",
    "    0  &  a_{11}-\\left(\\frac{a_{10}a_{01}}{a_{00}}\\right)  &  a_{12}-\\left(\\frac{a_{10}a_{02}}{a_{00}}\\right) \\\\\n",
    "    0  &  0  &  a_{22}-\\left(\\frac{a_{20}a_{02}}{a_{00}}\\right) - \\left(\\frac{\\left(a_{21}-\\left(\\frac{a_{20}a_{01}}{a_{00}}\\right)\\right) \\left(a_{12}-\\left(\\frac{a_{10}a_{02}}{a_{00}}\\right)\\right)}{a_{11} - \\frac{a_{10}a_{01}}{a_{00}}}\\right)\\\\\n",
    "  \\end{bmatrix}$$"
   ]
  },
  {
   "cell_type": "markdown",
   "id": "e790f1ca",
   "metadata": {
    "id": "e790f1ca"
   },
   "source": [
    "### 1.3: Generalize to  $n \\times n$\n",
    "Using the solution to 1.2, discuss within your group using Jamboard on how to generalize to an $n \\times n$ $ \\mathbf{A}$ matrix with $n>3$.\n",
    "\n",
    "Write your conclusions below.\n",
    "This will be your outline for writing the function.\n",
    "\n",
    "Make sure everyone in the group agrees on the result before moving on.\n",
    "\n",
    "<font color='blue'>\n",
    "jamboard link posted in 'general'\n",
    "    \n",
    "https://jamboard.google.com/d/1E75qTYFiOjFW2FLkJ1txQdqohhGU8Wc4Zb2bfvxNEpA/viewer?pli=1&f=0\n",
    "    \n",
    "we were unable to find the $n \\times n$ $ \\mathbf{A}$ matrix with $n>3$ due to the time constraint of extending the diagonal of the $U_ij$ matrix"
   ]
  },
  {
   "cell_type": "markdown",
   "id": "5e77c61b",
   "metadata": {
    "id": "5e77c61b"
   },
   "source": [
    "### 1.4: Write a `ludec(A)` function  \n",
    "Now write a function named `ludec(A)` that will take any $n\\times n$ matrix $\\mathbf{A}$ and return 2 matrix  $\\mathbf{L}$ and $\\mathbf{U}$.\n",
    "\n",
    "Please do not change the given code in this function."
   ]
  },
  {
   "cell_type": "code",
   "execution_count": 6,
   "id": "cd16be37",
   "metadata": {
    "id": "cd16be37",
    "outputId": "3d738223-92e5-4b6c-c831-4ad4c1c151b4",
    "scrolled": true
   },
   "outputs": [],
   "source": [
    "# fill in the missing code\n",
    "\n",
    "import numpy as np\n",
    "\n",
    "def ludec(A):\n",
    "    n = A.shape[0]\n",
    "    L = np.eye(n) #returning the matrix the identity matrix!!\n",
    "    U = A.copy().astype(float)\n",
    "    for j in range(n):\n",
    "        for i in range(j+1, n):\n",
    "            L[i, j] = U[i, j] / U[j, j]\n",
    "            U[i, j:] -= L[i, j] * U[j, j:]\n",
    "    return L, U"
   ]
  },
  {
   "cell_type": "markdown",
   "id": "f7847764",
   "metadata": {
    "id": "f7847764"
   },
   "source": [
    "\n",
    "### 1.5: Test the function  \n",
    "We need to make sure that `ludec` returns the correct solution.\n",
    "\n",
    "1. Use the inputs from pre-class assignment Task 1.2, and check whether your `ludec(A)` returns the same solution.\n",
    "\n",
    "1. Use another example with a $4\\times 4$ linear system. Check the solution."
   ]
  },
  {
   "cell_type": "code",
   "execution_count": 7,
   "id": "abe6b26e",
   "metadata": {
    "id": "abe6b26e"
   },
   "outputs": [
    {
     "name": "stdout",
     "output_type": "stream",
     "text": [
      "Matrix L:\n",
      "[[1.  0.  0. ]\n",
      " [0.5 1.  0. ]\n",
      " [0.5 3.  1. ]]\n",
      "\n",
      "Matrix U:\n",
      "[[ 2.   1.   1. ]\n",
      " [ 0.   0.5 -2.5]\n",
      " [ 0.   0.   8. ]]\n",
      "Matrix L2:\n",
      "[[ 1.          0.          0.          0.        ]\n",
      " [ 0.33333333  1.          0.          0.        ]\n",
      " [ 1.66666667 -1.          1.          0.        ]\n",
      " [ 1.         -0.42857143  0.69387755  1.        ]]\n",
      "\n",
      "Matrix U2:\n",
      "[[ 3.          4.          5.          2.        ]\n",
      " [ 0.          4.66666667  0.33333333  3.33333333]\n",
      " [ 0.          0.         -7.          1.        ]\n",
      " [ 0.          0.          0.          1.73469388]]\n"
     ]
    }
   ],
   "source": [
    "matrixA = np.array([[2, 1, 1],[1, 1, -2],[1, 2, 1]]) # 3x3 matrix from Task 1.2\n",
    "matrix4 = np.array([[3,4,5,2],[1,6,2,4],[5,2,1,1],[3,2,0,3]]) # 4x4 matrix \n",
    "\n",
    "matrixL, matrixU = ludec(matrixA)\n",
    "matrixL2, matrixU2 = ludec(matrix4)\n",
    "\n",
    "print(\"Matrix L:\")\n",
    "print(matrixL)\n",
    "\n",
    "print(\"\\nMatrix U:\")\n",
    "print(matrixU)\n",
    "\n",
    "print(\"Matrix L2:\")\n",
    "print(matrixL2)\n",
    "\n",
    "print(\"\\nMatrix U2:\")\n",
    "print(matrixU2)"
   ]
  },
  {
   "cell_type": "markdown",
   "id": "7bfdd839",
   "metadata": {
    "id": "7bfdd839"
   },
   "source": [
    "### 1.6: Determinant of a matrix\n",
    "Use the following relation\n",
    "\n",
    "$$\\det(\\mathbf{A}) = \\det(\\mathbf{L}) \\times  \\det(\\mathbf{U})$$\n",
    "\n",
    "to find $\\det(\\mathbf{A})$ in terms of $U_{ij}$ and $L_{ij}$ and write your solution in a new Markdown cell below.\n",
    "Spend 5 minutes to discuss within your group how you may obtain $\\det(\\mathbf{A})$ for the general case $\\mathbf{A}$ (say, a 10 by 10 matrix)."
   ]
  },
  {
   "cell_type": "code",
   "execution_count": null,
   "id": "b9294983",
   "metadata": {
    "id": "b9294983"
   },
   "outputs": [],
   "source": []
  },
  {
   "cell_type": "markdown",
   "id": "429e0278",
   "metadata": {
    "id": "429e0278"
   },
   "source": [
    "## STOP\n",
    "Take a moment to compare results. If there is any disagreement or anyone in your group who needs help with the problems, please attempt to work things out.\n",
    "Only move on to the next part when everyone in your group in done with Part 1."
   ]
  },
  {
   "cell_type": "markdown",
   "id": "da0b8039",
   "metadata": {
    "id": "da0b8039"
   },
   "source": [
    "---\n",
    "## Part 2: Iterative Methods\n",
    "### 2.1: Review the pre-class materials  \n",
    "\n",
    "From the pre-class assignment, we learned about two example iterative methods:\n",
    "\n",
    "* Jacobi iterative method\n",
    "\n",
    "$$\n",
    "x_i^{(k+1)}=\\frac{b_i-\\sum_{j=1, j\\ne i}^{n}a_{ij}x_j^{(k)}}{a_{ii}}\n",
    "$$\n",
    "\n",
    "* Gauss-Seidel's method\n",
    "\n",
    "$$\n",
    "x^{(k+1)}_i = \\frac{1}{a_{ii}} \\left(b_i - \\sum_{j < i}a_{ij}x^{(k+1)}_j - \\sum_{j > i}a_{ij}x^{(k)}_j \\right),\\quad i\\in\\{1,2,\\ldots,n\\}.\n",
    "$$\n",
    "\n",
    "\n",
    "Check your results on the Jacobi iterative method in the pre-class assignment, Task 2.3, or finish work on this problem now.\n",
    "Make sure you get this right before moving on to the next steps."
   ]
  },
  {
   "cell_type": "code",
   "execution_count": null,
   "id": "c0924bbd",
   "metadata": {
    "id": "c0924bbd"
   },
   "outputs": [],
   "source": []
  },
  {
   "cell_type": "markdown",
   "id": "0f95903f",
   "metadata": {
    "id": "0f95903f"
   },
   "source": [
    "### 2.2: Write a `jacobi(inA, inb, x0, kmax, tol)` function\n",
    "\n",
    "Now write a function with the signature `jacobi(inA, inb, x0, kmax, tol)` that will take a general $n \\times n$ matrix $\\mathbf{A}$ and a vector $\\mathbf{b}$ from a system of linear equations $\\mathbf{A} \\mathbf{x} = \\mathbf{b}$ and return the vector solution $\\mathbf{x}$ using the Jacobi method.\n",
    "\n",
    "The initial guess `x0` for the solution $\\mathbf{x}$ should default to `None`.\n",
    "Inside the function, the code should generate a vector of 0's the same size as `inb` if no `x0` is given.\n",
    "\n",
    "Before proceeding further, have the function check that `inb`, `inA` and `x0` (if given) have the same size $N$;\n",
    "print out an error message and exit the function if they don't.\n",
    "\n",
    "We will impose a max number of iterations `kmax`, so that the function will still exit even if the Jacobi iteration is not converging (or is converging too slowly).\n",
    "Default `kmax` to 50.\n",
    "\n",
    "We want the program to exit as soon as we get a good enough solution.\n",
    "We will use the `tol` (\"tolerance\") parameter to control how good of a solution is good enough.\n",
    "Default `tol` to `1e-6` in the function.\n",
    "You can set `tol` explicitly if you want a less or more precise result.  \n",
    "\n",
    "How do we know when the answer is good enough though? What \"standard\" should we compare to `tol`?\n",
    "Discuss with your group and write down what `err` you should use, and write a function to define it.\n",
    "\n",
    "Now, everything is in place, and you can add the loops to apply the Jacobi method.\n",
    "Inside the function, please print for each iteration:\n",
    "1. the number of the iteration\n",
    "1. the solution (so far)\n",
    "1. the `err` to check the condition\n",
    "\n",
    "Write your code in the cell below.\n",
    "\n",
    "Please do not change the given code below and **only** fill in the missing code."
   ]
  },
  {
   "cell_type": "code",
   "execution_count": null,
   "id": "34b7fd73",
   "metadata": {
    "id": "34b7fd73"
   },
   "outputs": [],
   "source": [
    "# your function here\n",
    "# fill in the missing code\n",
    "\n",
    "def jacobi(inA, inb, x0=, kmax=, tol=):\n",
    "\n",
    "    newx=\n",
    "\n",
    "\n",
    "\n",
    "\n",
    "\n",
    "\n",
    "    return newx\n"
   ]
  },
  {
   "cell_type": "markdown",
   "id": "1e351b1e",
   "metadata": {
    "id": "1e351b1e"
   },
   "source": [
    "### 2.3: Test Your Function\n",
    "\n",
    "Now we need to make sure that `jacobi` returns the correct solution.\n",
    "\n",
    "1. Use the inputs from pre-class assignment Task 2.3 (or this assignment 3.1), and check whether your `jacobi` return the same first 5 solutions.\n",
    "\n",
    "1. Use another example with a $4\\times 4$ linear system. Check the solutions with your groupmates."
   ]
  },
  {
   "cell_type": "code",
   "execution_count": null,
   "id": "8f577bd6",
   "metadata": {
    "id": "8f577bd6"
   },
   "outputs": [],
   "source": [
    "# your function here"
   ]
  },
  {
   "cell_type": "markdown",
   "id": "feef7c13",
   "metadata": {
    "id": "feef7c13"
   },
   "source": [
    "---\n",
    "## Part 3: Application - A circuit of resistors\n",
    "\n",
    "In the Day05 in-class assignment, you were given a circuit diagram, wrote down the linear equations and used Gaussian elimination to solve for the voltages.\n",
    "\n",
    "Now, let's use this same example but apply LU decomposition to get the solution instead.\n",
    "\n",
    "\n",
    "### 3.1: Circuit-of-resistors equations\n",
    "Go back to the Day 05 IC notebook, copy the equations and paste below.\n",
    "If your group did not make it that far, work out the equations now.\n",
    "(Make sure everyone's answers agree before moving on to the next step.)"
   ]
  },
  {
   "cell_type": "markdown",
   "id": "74b6a545",
   "metadata": {
    "id": "74b6a545"
   },
   "source": [
    "<font size=+3>&#9998;</font> *As a group, write down your answer here*\n"
   ]
  },
  {
   "cell_type": "markdown",
   "id": "3b1a83e1",
   "metadata": {
    "id": "3b1a83e1"
   },
   "source": [
    "\n",
    "### 3.2: Solve with LU compositon  \n",
    "Use `ludec(A)` from today's Part 1, and `forsub(L,b)` and `backsub(U,b)` from the Day05 in-class assignment to find the solution here.\n",
    "\n",
    "How is the solution speed compared with the Gaussian-elimination method?"
   ]
  },
  {
   "cell_type": "code",
   "execution_count": null,
   "id": "e1f3e14d",
   "metadata": {
    "id": "e1f3e14d"
   },
   "outputs": [],
   "source": []
  },
  {
   "cell_type": "markdown",
   "id": "f567a959",
   "metadata": {
    "id": "f567a959"
   },
   "source": [
    "### 3.3: Game on: Comparison with Gaussian Elimination Method\n",
    "\n",
    "Use a random number generator to make an $N$ by $N$ matrix $\\mathbf{A}$ and and an $N$-vector $\\mathbf{b}$ with $A_{ij} \\in [1,10]$ and $b_i \\in [0, 10]$.\n",
    "Once you have it, do **not** run the random numbers again until both methods are done.\n",
    "We want to compare the solution to the same rank-$N$ matrix between Gaussian elimination and LU decomposition, so we need to keep the input matrix fixed when making the comparison.\n",
    "\n",
    "Google how to use a timer in Python so that you can measure the time spent solving the same problem with each of the two methods.\n",
    "\n",
    "Before starting, save your notebook (and make additional copy to be safe).\n",
    "Depending on your memory and CPU, you may need to restart your computer in the following exercise.\n",
    "\n",
    "Record the time spent on the random $N$ by $N$ matrix for both methods. (You will be tracking two time lists.)\n",
    "Start with $N=10$ and increase the size of the matrix in steps of $10$ until it takes longer than a couple seconds to run.\n",
    "\n",
    "Now plot the inverse of the time $1/t$ (in units of 1/sec, which gives us something like a speed) on the vertical axis and $N$ on the horizontal axis.\n",
    "Make a plot showing the \"speed\" for both methods (using different colors of solid lines) on a single plot.\n",
    "Remember to add legends and label the axes."
   ]
  },
  {
   "cell_type": "code",
   "execution_count": null,
   "id": "72a41db1",
   "metadata": {
    "id": "72a41db1"
   },
   "outputs": [],
   "source": []
  },
  {
   "cell_type": "markdown",
   "id": "b0cfbdc6",
   "metadata": {
    "id": "b0cfbdc6"
   },
   "source": [
    "### 3.4: Compare the results within your group  \n",
    "Now that each of your groupmates has a solution and timings for different matrices for each $N$, collect the two time lists from each person in your group.\n",
    "Add your groupmates' results to your plot:\n",
    "use the same color scheme for each method;\n",
    "use different dashed lines for each group member.\n",
    "\n",
    "Make a plot below with the collected results and write in a new Markdown cell what you observe."
   ]
  },
  {
   "cell_type": "code",
   "execution_count": null,
   "id": "ac3d1368",
   "metadata": {
    "id": "ac3d1368"
   },
   "outputs": [],
   "source": []
  },
  {
   "cell_type": "markdown",
   "id": "769c1f78",
   "metadata": {
    "id": "769c1f78"
   },
   "source": [
    "# ---\n",
    "## Extra Reading  and References\n",
    "Due to limitations of class time (and other topics the instructors want to cover in this semester), we only have the chance to learn a few methods here.\n",
    "If you are interested in learning more ways to solve linear equations, such as\n",
    "* Successive over-relaxation\n",
    "* Conjugate gradient\n",
    "\n",
    "check out Chapters 6.6.3 and 6.6.4 in this book\n",
    "https://www.uio.no/studier/emner/matnat/fys/FYS4411/v13/undervisningsmateriale/Lecture_notes_and_literature/lectures2012.pdf\n",
    "(examples shown in C++)"
   ]
  },
  {
   "cell_type": "code",
   "execution_count": null,
   "id": "773b51a4",
   "metadata": {
    "id": "773b51a4"
   },
   "outputs": [],
   "source": []
  }
 ],
 "metadata": {
  "colab": {
   "provenance": []
  },
  "kernelspec": {
   "display_name": "Python 3 (ipykernel)",
   "language": "python",
   "name": "python3"
  },
  "language_info": {
   "codemirror_mode": {
    "name": "ipython",
    "version": 3
   },
   "file_extension": ".py",
   "mimetype": "text/x-python",
   "name": "python",
   "nbconvert_exporter": "python",
   "pygments_lexer": "ipython3",
   "version": "3.9.18"
  }
 },
 "nbformat": 4,
 "nbformat_minor": 5
}
