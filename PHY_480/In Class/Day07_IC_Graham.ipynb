{
 "cells": [
  {
   "cell_type": "markdown",
   "id": "f1588b90",
   "metadata": {
    "id": "f1588b90"
   },
   "source": [
    "# Day 07 In-Class Assignment: Implement the Power Method\n",
    "### <p style=\"text-align: right;\"> &#9989; Cesarine Graham</p>\n",
    "\n",
    "#### <p style=\"text-align: right;\"> &#9989; Michael Quintieri, Evan Crandall, Allison Perez-Bermudez (Group 4)</p>"
   ]
  },
  {
   "cell_type": "markdown",
   "id": "510a922a",
   "metadata": {
    "id": "510a922a"
   },
   "source": [
    "## Goals of this assignment\n",
    "\n",
    "In the pre-class assignment, you learned about the power method and inverse power method by using a simple $2 \\times 2$ matrix.\n",
    "In this in-class assignment, you will be working with your group to write Python code to apply the power method and inverse power method to general $N \\times N$ matrices to find the largest/smallest eigenvalues and their corresponding eigenvectors.\n",
    "\n",
    "* Implement the power method and inverse power method to solve eigensystem\n",
    "* Usage of Rayleigh quotient\n",
    "\n",
    "## Assignment instructions\n",
    "\n",
    "Work with your group to complete this assignment. Upload the assignment to Gradescope at the end of class.\n",
    "**Make sure everyone's name is listed in everyone's notebook before moving on**"
   ]
  },
  {
   "cell_type": "markdown",
   "id": "e45820a4",
   "metadata": {
    "id": "e45820a4"
   },
   "source": [
    "---\n",
    "## Part 1: Power Method\n",
    "\n",
    "### 1.0: Recap\n",
    "\n",
    "The power method is one of the simplest (and more intuitive) methods used to extract an eigenvalue and eigenvector of a matrix.\n",
    "This is one of the methods that almost all computational physics courses cover, since it can be intellectually related to more complicated and robust methods used to solve eigensystems.\n",
    "The general problem we are trying to solve is\n",
    "\n",
    "$$\\mathbf{A}\\mathbf{v}_i = \\lambda_i \\mathbf{v}_i$$\n",
    "\n",
    "where $\\lambda_i$ and $\\mathbf{v}_i$ are the true eigenvalues and eigenvectors of the matrix $\\mathbf{A}$.\n",
    "Assume that all $n$ eigenvector are distinct and that they are sorted as\n",
    "\n",
    "$$\\left|\\lambda_0\\right| > \\left|\\lambda_1\\right| > \\ldots > \\left|\\lambda_{n-1}\\right|$$\n",
    "\n",
    "The power method allows us to determine the largest eigenvalue $\\lambda_0$ (also known as the _dominant_ eigenvalue) and its corresponding eigenvector $\\mathbf{v}_0$.\n",
    "\n",
    "\n",
    "### 1.1: How does the method work?\n",
    "\n",
    "As you learned in the pre-class videos, you start with a initial guess of vector $\\mathbf{x}_0$.\n",
    "Such a vector can be written as a linear combination of the true eigenvectors (still unknown for now):\n",
    "\n",
    "$$\\mathbf{x}_0 = \\sum_{i=0}^{n-1} c_i  \\mathbf{v}_i = c_0 \\mathbf{v}_0 + c_1 \\mathbf{v}_1 + \\ldots + c_{n-1} \\mathbf{v}_{n-1}$$\n",
    "\n",
    "When you multiply by $\\mathbf{A}$ $k$ times (neglect normalizing for now), you get to the vector $\\mathbf{x}_k$\n",
    "\n",
    "$$\\mathbf{x}_k = \\mathbf{A}^k x_0 = \\text{???}.$$\n",
    "\n",
    "Working with your groupmates (with the help of Google Jamboard), write down your derivation in the Markdown cell below to show that as $k$ increases, $ \\mathbf{x}_k$ will approach $c_0 \\lambda_0^k \\mathbf{v}_0 $\n",
    "\n",
    "_Hint: Use the equations from Part 1.0 in your derivations._"
   ]
  },
  {
   "cell_type": "markdown",
   "id": "963d7315",
   "metadata": {
    "id": "963d7315"
   },
   "source": [
    "<font size=+3>&#9998;</font> *your answer here*\n",
    "\n",
    "<font color='blue'>\n",
    "https://jamboard.google.com/d/13TnRLyrPepyIsW15mEbElpJnN2h_qVUSxQRBEsfrZ6Y/viewer?f=0\n",
    " \n",
    "<br>\n",
    "<br>\n",
    "    \n",
    "Proof: We will start with the given expression for the initial guess vector:\n",
    "\n",
    "$ \\mathbf{x}_0 = \\sum_{i=0}^{n-1} c_i \\mathbf{v}_i = c_0 \\mathbf{v}_0 + c_1 \\mathbf{v}_1 + \\ldots + c_{n-1} \\mathbf{v}_{n-1} $\n",
    "\n",
    "Now, when you multiply by $\\mathbf{A}$ $k$ times:\n",
    "\n",
    "$ \\mathbf{x}_k = \\mathbf{A}^k \\mathbf{x}_0 $\n",
    "\n",
    "We will not substitue the expression for $\\mathbf{x}_0$ into the equation:\n",
    "\n",
    "$ \\mathbf{x}_k = \\mathbf{A}^k \\left( c_0 \\mathbf{v}_0 + c_1 \\mathbf{v}_1 + \\ldots + c_{n-1} \\mathbf{v}_{n-1} \\right) $\n",
    "\n",
    "Since $\\mathbf{A} \\mathbf{v}_i = \\lambda_i \\mathbf{v}_i$, we can replace each term $\\mathbf{A}^k \\mathbf{v}_i$ with $\\lambda_i^k \\mathbf{v}_i$:\n",
    "\n",
    "$\\mathbf{x}_k = c_0 \\lambda_0^k \\mathbf{v}_0 + c_1 \\lambda_1^k \\mathbf{v}_1 + \\ldots + c_{n-1} \\lambda_{n-1}^k \\mathbf{v}_{n-1}$\n",
    "\n",
    "As $|\\lambda_0| > |\\lambda_1| > \\ldots > |\\lambda_{n-1}|$ (from the given assumption), the term $c_0 \\lambda_0^k \\mathbf{v}_0$ dominates as $k$ increases.\n",
    "\n",
    "So, as $k$ approaches infinity, the other terms become negligible compared to $c_0 \\lambda_0^k \\mathbf{v}_0$, and $\\mathbf{x}_k$ approaches $c_0 \\lambda_0^k \\mathbf{v}_0$. "
   ]
  },
  {
   "cell_type": "markdown",
   "id": "11249df9",
   "metadata": {
    "id": "11249df9"
   },
   "source": [
    "### 1.2: Implement the code `power_method(A, kmax)`\n",
    "Now, write a function called `power_method(A, kmax)` that takes 2 inputs:\n",
    "an $N \\times N$ matrix $\\mathbf{A}$, and a stopping number of iterations $k_\\text{max}$ with some appropriate default value.\n",
    "Inside the function, start with an initial guess of 1 for each element in vector $\\mathbf{x}_0$.\n",
    "The function should return the approximation to the dominant eigenvalue and its eigenvector after $k_\\text{max}$ iterations."
   ]
  },
  {
   "cell_type": "code",
   "execution_count": 1,
   "id": "56dc684b",
   "metadata": {
    "id": "56dc684b"
   },
   "outputs": [
    {
     "name": "stdout",
     "output_type": "stream",
     "text": [
      "[[3.0000e+00 3.0000e+00 3.0000e+00]\n",
      " [1.8000e+01 2.7000e+01 2.1000e+01]\n",
      " [3.1500e+02 6.5100e+02 4.6200e+02]\n",
      " [1.7997e+04 4.9665e+04 3.5091e+04]]\n"
     ]
    }
   ],
   "source": [
    "# your code here\n",
    "\n",
    "import numpy as np\n",
    "def power_method(A, kmax):\n",
    "    n = A.shape[0]\n",
    "    xs = np.zeros((kmax, n))\n",
    "    x_0 = np.ones(n)  # initial guess\n",
    "    for i in range(kmax):\n",
    "        x_0 = A**i @ x_0\n",
    "        xs[i, :] = x_0\n",
    "    return xs\n",
    "A = np.array([[1, 2,3], [2, 3,4],[1,2,4]])\n",
    "result = power_method(A, 4)\n",
    "print(result)"
   ]
  },
  {
   "cell_type": "markdown",
   "id": "f7847764",
   "metadata": {
    "id": "f7847764"
   },
   "source": [
    "### 1.3: Test the function  \n",
    "\n",
    "Use the inputs\n",
    "$$\\mathbf{A} =\n",
    "  \\begin{bmatrix}\n",
    "    6  &  7    \\\\\n",
    "    8  &  9   \\\\\n",
    "  \\end{bmatrix},$$\n",
    "\n",
    "and check whether your `power_method` returns the same solution within your group.\n",
    "Increase `kmax` if necessary.\n"
   ]
  },
  {
   "cell_type": "code",
   "execution_count": 2,
   "id": "abe6b26e",
   "metadata": {
    "id": "abe6b26e"
   },
   "outputs": [
    {
     "data": {
      "text/plain": [
       "array([[2.00000000e+00, 2.00000000e+00],\n",
       "       [2.60000000e+01, 3.40000000e+01],\n",
       "       [2.60200000e+03, 4.41800000e+03],\n",
       "       [2.07740600e+06, 4.55294600e+06],\n",
       "       [1.36239415e+10, 3.83809337e+10],\n",
       "       [7.51008122e+14, 2.71278507e+15],\n",
       "       [3.54195485e+20, 1.63855748e+21]])"
      ]
     },
     "execution_count": 2,
     "metadata": {},
     "output_type": "execute_result"
    }
   ],
   "source": [
    "A_test = np.array([[6, 7],\n",
    "                   [8, 9]])\n",
    "power_method(A_test, 7)"
   ]
  },
  {
   "cell_type": "markdown",
   "id": "78f32e90",
   "metadata": {
    "id": "78f32e90"
   },
   "source": [
    "### 1.4: Visiualize the eigenvalue\n",
    "\n",
    "Modify the above function (rewrite them below) to keep track of the\n",
    "$n_k$  and Rayleigh quotient,\n",
    "$$ \\mu_k (\\mathbf{q}_k) = \\mathbf{q}_k^T \\mathbf{A}  \\mathbf{q}_k  $$\n",
    "for each $k$ iteration.\n",
    "\n",
    "Use the same inputs above and make a plot of the $n_k$ (recall the definition in the pre-class video) and $\\mu_k$ (different color and added legends) as a function of iterations.\n",
    "Create a new Markdown cell to write down your observation.\n"
   ]
  },
  {
   "cell_type": "code",
   "execution_count": 11,
   "id": "5a69b7a6",
   "metadata": {
    "id": "5a69b7a6"
   },
   "outputs": [
    {
     "data": {
      "image/png": "[encoded data removed]",
      "text/plain": [
       "<Figure size 640x480 with 1 Axes>"
      ]
     },
     "metadata": {},
     "output_type": "display_data"
    }
   ],
   "source": [
    "# Rayleight quotient function\n",
    "import matplotlib.pyplot as plt\n",
    "\n",
    "def rayleight_quotient(A, kmax):\n",
    "    n = A.shape[0]\n",
    "    xs = np.zeros((kmax, n))\n",
    "    nk_values = np.zeros(kmax)\n",
    "    mu_values = np.zeros(kmax)\n",
    "    \n",
    "    x_0 = np.ones(n)  # initial guess\n",
    "    \n",
    "    for i in range(kmax):\n",
    "        x_0 = A @ x_0\n",
    "        xs[i, :] = x_0\n",
    "        \n",
    "        # Calculate n_k and mu_k\n",
    "        nk_values[i] = np.max(sum(np.abs(x) for x in x_0))\n",
    "        mu_values[i] = sum(x_0[j] * A[j, k] * x_0[k] for j in range(n) for k in range(n)) / nk_values[i]\n",
    "        #nk_values[i] = np.linalg.norm(x_0, ord=np.inf) \n",
    "        #mu_values[i] = x_0 @ A @ x_0 / np.linalg.norm(x_0)\n",
    "    \n",
    "    return xs, nk_values, mu_values\n",
    "\n",
    "A = np.array([[1, 2, 3], [2, 3, 4], [1, 2, 4]])\n",
    "result, nk_values, mu_values = rayleight_quotient(A, 4)\n",
    "\n",
    "# Plotting\n",
    "iterations = np.arange(1, 5)\n",
    "plt.plot(iterations, nk_values, label='$n_k$')\n",
    "plt.plot(iterations, mu_values, label='$\\mu_k$')\n",
    "plt.xlabel('Iterations')\n",
    "plt.ylabel('Values')\n",
    "plt.legend()\n",
    "plt.grid()\n",
    "plt.title('Power Method: $n_k$ and $\\mu_k$ vs. Iterations')\n",
    "plt.show()"
   ]
  },
  {
   "cell_type": "markdown",
   "id": "accc15fb",
   "metadata": {},
   "source": [
    "<font color='blue'>\n",
    "\n",
    "Observation: As the iterations increase, the $\\mu_k$ increases much faster than $n_k$. We're not sure what this means mathematically."
   ]
  },
  {
   "cell_type": "markdown",
   "id": "c20e9697",
   "metadata": {
    "id": "c20e9697"
   },
   "source": [
    "\n",
    "### 1.5: Test your code  a $5 \\times 5$ case\n",
    "Now with your group, create a real symmetric $5 \\times 5$ matrix with example code given below.\n",
    "Use the `linalg.eigh()` to make sure that eigvalues of your matrix satifify the power method condition.\n",
    "Within your code, determine ONE $\\mathbf{A}$ to use for the whole group.\n",
    "Then repeat 1.4 exercse with your modified function, make the plot and write down your observation."
   ]
  },
  {
   "cell_type": "code",
   "execution_count": 14,
   "id": "fa716ad4",
   "metadata": {
    "id": "fa716ad4",
    "outputId": "0c4a6cf4-5982-4e1b-ad98-198f0a6bbb08",
    "scrolled": true
   },
   "outputs": [
    {
     "name": "stdout",
     "output_type": "stream",
     "text": [
      "[[0.61058228 1.88331748 1.07192651 0.27178827 0.942448  ]\n",
      " [1.88331748 1.71038897 1.27356486 0.90935803 1.78259087]\n",
      " [1.07192651 1.27356486 0.37680588 0.90635802 0.61313073]\n",
      " [0.27178827 0.90935803 0.90635802 0.32484534 1.23823238]\n",
      " [0.942448   1.78259087 0.61313073 1.23823238 0.01850541]]\n",
      "eigenvalues =  [-1.46697254 -0.99324336 -0.20813786  0.3955294   5.31395222]\n"
     ]
    }
   ],
   "source": [
    "# example code to create\n",
    "import numpy as np\n",
    "N = 5\n",
    "np.random.seed(10023) # Added a seed so the group has the same thing.\n",
    "tmp = np.random.random((N, N))\n",
    "A_sym = tmp + tmp.T\n",
    "print(A_sym)\n",
    "eig, v = np.linalg.eigh(A_sym)\n",
    "print(\"eigenvalues = \", eig)"
   ]
  },
  {
   "cell_type": "code",
   "execution_count": 15,
   "id": "b361214e",
   "metadata": {
    "id": "b361214e"
   },
   "outputs": [
    {
     "data": {
      "image/png": "[encoded data removed]",
      "text/plain": [
       "<Figure size 640x480 with 1 Axes>"
      ]
     },
     "metadata": {},
     "output_type": "display_data"
    }
   ],
   "source": [
    "# put down the remaining of your code here\n",
    "\n",
    "result, nk_values, mu_values = rayleight_quotient(A_sym, 4)\n",
    "# Plotting\n",
    "iterations = np.arange(1, 5)\n",
    "plt.plot(iterations, nk_values, label='$n_k$')\n",
    "plt.plot(iterations, mu_values, label='$\\mu_k$')\n",
    "plt.xlabel('Iterations')\n",
    "plt.ylabel('Values')\n",
    "plt.legend()\n",
    "plt.grid()\n",
    "plt.title('Power Method: $n_k$ and $\\mu_k$ vs. Iterations')\n",
    "plt.show()"
   ]
  },
  {
   "cell_type": "markdown",
   "id": "d6b4195c",
   "metadata": {},
   "source": [
    "<font color='blue'>\n",
    "\n",
    "In this case, $n_k$ keeps pace with $\\mu_k$ much more closely. We are still unsure what this means."
   ]
  },
  {
   "cell_type": "markdown",
   "id": "429e0278",
   "metadata": {
    "id": "429e0278"
   },
   "source": [
    "## STOP\n",
    "Take a moment to compare results. If there is any disagreement or anyone in your group who needs help with the problems, please attempt to work things out.\n",
    "Only move on to the next part when everyone in your group in done with Part 1."
   ]
  },
  {
   "cell_type": "markdown",
   "id": "26c4fbba",
   "metadata": {
    "id": "26c4fbba"
   },
   "source": [
    "---\n",
    "## Part 2:  Inverse Power Method\n",
    "\n",
    "Now we are going to implement functions of inverse ower method to the eigenvector of the smallest eigenvalues and use Rayleigh quotient to determine the corresponding eigenvalues."
   ]
  },
  {
   "cell_type": "code",
   "execution_count": null,
   "id": "caaacc8c",
   "metadata": {
    "id": "caaacc8c"
   },
   "outputs": [],
   "source": [
    "# Your code here"
   ]
  },
  {
   "cell_type": "markdown",
   "id": "cb2efa80",
   "metadata": {
    "id": "cb2efa80"
   },
   "source": [
    "### 2.1: Implement the code `inverse_power_method(A, kmax)`\n",
    "Now, write a function called `inverse_power_method(A, kmax)` that takes 2 inputs:\n",
    "an $N \\times N$ matrix $\\mathbf{A}$, and a stopping number of iterations $k_\\text{max}$ with some appropriate default value.\n",
    "Inside the function,\n",
    "use the `numpy` `linalg.inv()` to calculate  $\\mathbf{A^{-1}}$\n",
    "start with an initial guess of 1 for each element in vector $\\mathbf{x}_0$.\n",
    "The function should return the approximation to the smallest eigenvalue and its eigenvector after $k_\\text{max}$ iterations.\n",
    "hint: Invere power method give your the eigenvector corresponding to the smallest eigenvalue. You will need to use the Rayleigh Quotient to get the eigenvalues."
   ]
  },
  {
   "cell_type": "code",
   "execution_count": null,
   "id": "2f99f103",
   "metadata": {
    "id": "2f99f103"
   },
   "outputs": [],
   "source": []
  },
  {
   "cell_type": "markdown",
   "id": "26f39bd9",
   "metadata": {
    "id": "26f39bd9"
   },
   "source": [
    "### 2.2: Test the function  \n",
    "\n",
    "Use the inputs from first pre-class vedio\n",
    "$$\\mathbf{A} =\n",
    "  \\begin{bmatrix}\n",
    "    6  &  7    \\\\\n",
    "    8  &  9   \\\\\n",
    "  \\end{bmatrix},$$\n",
    "\n",
    "and check whether your `inverse_power_method` returns the same solution within your group.\n",
    "Increase `kmax` if necessary."
   ]
  },
  {
   "cell_type": "code",
   "execution_count": null,
   "id": "3f564088",
   "metadata": {
    "id": "3f564088"
   },
   "outputs": [],
   "source": []
  },
  {
   "cell_type": "markdown",
   "id": "3952b308",
   "metadata": {
    "id": "3952b308"
   },
   "source": [
    "### 2.3: Visiualize the eigenvalue\n",
    "\n",
    "Modify the above function (rewrite them below) to keep track of the\n",
    "$n_k$  and Rayleigh quotient,\n",
    "$$ \\mu_k (\\mathbf{q}_k) = \\mathbf{q}_k^T \\mathbf{A^{-1}}  \\mathbf{q}_k  $$\n",
    "for each $k$ iteration.\n",
    "\n",
    "Use the same inputs above and make a plot of the $n_k$ and $\\mu_k$ (different color and added legends) as a function of iterations.\n",
    "Create a new Markdown cell to write down your observation.\n"
   ]
  },
  {
   "cell_type": "code",
   "execution_count": null,
   "id": "037e9131",
   "metadata": {
    "id": "037e9131"
   },
   "outputs": [],
   "source": []
  },
  {
   "cell_type": "markdown",
   "id": "2bb68f20",
   "metadata": {
    "id": "2bb68f20"
   },
   "source": [
    "### 2.4  Test your function on $5 \\times 5$ matrix\n",
    "Take  $\\mathbf{A}$ from 1.5.\n",
    "Then repeat 2.3 exercse with your modified function, make the plot and write down your observation."
   ]
  },
  {
   "cell_type": "code",
   "execution_count": null,
   "id": "8894c849",
   "metadata": {
    "id": "8894c849"
   },
   "outputs": [],
   "source": []
  },
  {
   "cell_type": "markdown",
   "id": "83c4b9a9",
   "metadata": {
    "id": "83c4b9a9"
   },
   "source": [
    "### 2.5 Inverse Power Method with Shift and Rayleigh Quotient (if time allows)\n",
    "\n",
    "You start with initial guess of eigenvalue $\\mu_0$ and eigenvector $x_0$.\n",
    "At each $k$ iteration,\n",
    "\n",
    "1. calculate Rayleigh quotient:\n",
    "$$ \\mu_k = \\mathbf{q}_k^T \\mathbf{A}  \\mathbf{q}_k  $$\n",
    "\n",
    "1. Compute $$\\mathbf{B} = (\\mathbf{A}  - \\mu_k \\mathbf{I})^{-1}$$\n",
    "\n",
    "1. update the new vector\n",
    "$$ \\mathbf{q}_{k+1}  = \\frac{\\mathbf{B} \\mathbf{q}_k}{|\\mathbf{B} \\mathbf{q}_k|}  $$\n",
    "\n",
    "Copy the functions you already have and tested below, and modify it to include Rayleigh Quotient and matix update in the iteration."
   ]
  },
  {
   "cell_type": "code",
   "execution_count": null,
   "id": "5d281675",
   "metadata": {
    "id": "5d281675"
   },
   "outputs": [],
   "source": [
    "# your code here"
   ]
  },
  {
   "cell_type": "markdown",
   "id": "69754413",
   "metadata": {
    "id": "69754413"
   },
   "source": [
    "### 2.6 (Optional) Stopping condition\n",
    "Instead of using `kmax` to determine how many iterations to use for the power method, you can also let the code run as long as needed to reach the desired precision.\n",
    "Implement `power_method2(A, tol)` or  `inverse_power_method2(A, tol)`, where the loop exits when the error meets the specified tolerance.\n",
    "\n",
    "$$  \\text{err} = \\sum_{j=0}^{n-1} \\left|\\frac{q_k^{j} - q_{k-1}^j}{q_k^{j}} \\right|  $$\n",
    "\n",
    "Use a default `tol` of `1e-6`, which is typical for single precision."
   ]
  },
  {
   "cell_type": "code",
   "execution_count": null,
   "id": "8151d4ce",
   "metadata": {
    "id": "8151d4ce"
   },
   "outputs": [],
   "source": []
  }
 ],
 "metadata": {
  "colab": {
   "provenance": []
  },
  "kernelspec": {
   "display_name": "Python 3 (ipykernel)",
   "language": "python",
   "name": "python3"
  },
  "language_info": {
   "codemirror_mode": {
    "name": "ipython",
    "version": 3
   },
   "file_extension": ".py",
   "mimetype": "text/x-python",
   "name": "python",
   "nbconvert_exporter": "python",
   "pygments_lexer": "ipython3",
   "version": "3.9.18"
  }
 },
 "nbformat": 4,
 "nbformat_minor": 5
}
