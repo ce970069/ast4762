{
 "cells": [
  {
   "cell_type": "markdown",
   "id": "3865621b",
   "metadata": {
    "id": "3865621b"
   },
   "source": [
    "# Homework 6: Project Update\n",
    "\n",
    "\n",
    "### <p style=\"text-align: right;\"> &#9989; Cesarine Graham.</p>\n",
    "\n",
    "\n"
   ]
  },
  {
   "cell_type": "markdown",
   "id": "b8ff84f0",
   "metadata": {
    "id": "b8ff84f0"
   },
   "source": [
    "---\n",
    "## Goals of this assignment\n",
    "\n",
    "The primary goals of this assignment are to:\n",
    "\n",
    "* Provide an update on your project progress\n",
    "* Submit in-progress Jupyter notebook, slides and LaTeX writeup\n",
    "\n",
    "## Assignment instructions\n",
    "\n",
    "Follow the instructions to complete this assignment.\n",
    "Upload the assignment to Gradescope _and_ fill out the homework survey to complete this assignment.\n",
    "\n",
    "___\n",
    "### Grading\n",
    "\n",
    "* Part 1: Project Update (45 points)\n",
    "* Part 2: Progress Report (40 points)\n",
    "\n",
    "**Total:** 85 points"
   ]
  },
  {
   "cell_type": "markdown",
   "id": "27e5b586",
   "metadata": {
    "id": "27e5b586"
   },
   "source": [
    "------\n",
    "## Part 1: Project Update (45 points)\n",
    "\n",
    "We will quickly revisit the project proposal from Homework 5 with the same questions listed below.\n",
    "If nothing needs to be updated, you can use what you had before.\n",
    "If topic or scope of the project has changed, please update accordingly.\n",
    "This should match your final submitted project."
   ]
  },
  {
   "cell_type": "markdown",
   "id": "dac109ff",
   "metadata": {
    "id": "dac109ff"
   },
   "source": [
    "<font size=+3>&#9998;</font>"
   ]
  },
  {
   "cell_type": "markdown",
   "id": "09444535",
   "metadata": {
    "id": "09444535"
   },
   "source": [
    "### 1.1  Physics question(s) (5 points)\n",
    "Record below what are the physics question(s) you want to address in this project?\n",
    "\n",
    "<br>\n",
    "\n",
    "<font color='blue'>\n",
    "    \n",
    "1. How can we model an Ideal Gas using the physics of elastic collisions?\n",
    "    \n",
    "2. Can we use the results from the simulated Ideal Gas to verify the Maxwell-Boltzmann distribution?\n",
    "    \n",
    "3. Can we use the results from the simulated Ideal Gas to verify the Stefan–Boltzmann constant using Monte Carlo methods?\n"
   ]
  },
  {
   "cell_type": "markdown",
   "id": "d00c4aa5",
   "metadata": {
    "id": "d00c4aa5"
   },
   "source": [
    "<font size=+3>&#9998;</font>"
   ]
  },
  {
   "cell_type": "markdown",
   "id": "7b3a1775",
   "metadata": {
    "id": "7b3a1775"
   },
   "source": [
    "###  1.2 Research the topic (5 points)\n",
    "You should find out what has been done on the topic before and read a bit of the literature.\n",
    "This will give you some idea of what you may expect at the end of the project and also some idea of the complexity of the problems.\n",
    "(You don't want a problem that will take longer than the end of the semester to solve.)\n",
    "Add links to the references here, and write a short summary of your understanding of each."
   ]
  },
  {
   "cell_type": "markdown",
   "id": "5cada36a",
   "metadata": {
    "id": "5cada36a"
   },
   "source": [
    "<font size=+3>&#9998;</font>\n",
    "\n",
    "<br>\n",
    "\n",
    "<font color='blue'>\n",
    "\n",
    "1. Computational Physics, Mark Newman. \n",
    "    - It explains the basics of computational physics and describes the techniques required in order to solve various problems. To my understanding, he covers Monte Carlo simulations of an Ideal Gas somewhere within. \n",
    "2. https://notebook.community/tommyogden/quantum-python-lectures/11_Monte-Carlo-Maxwell-Boltzmann-Distributions\n",
    "    - This is a collection of python codes that were written on notebook.community reguarding various Maxwell-Boltzmann Distributions curves. The also briefly talk about different methods of integration for each curve.\n",
    "3. https://www.toolify.ai/ai-news/understanding-maxwellboltzmann-distribution-through-monte-carlo-simulation-164573\n",
    "    - This is just a set of steps that would be useful to follow in order to go about modeling Maxwell-Boltzmann Distribution through Monte Carlo Simulations. \n",
    "4. https://www.youtube.com/watch?v=V-Ex7PbsBPM\n",
    "    - This is a good example of how I could theoretically derive the Stefan-Boltzmann constant from a distribution. \n",
    "    "
   ]
  },
  {
   "cell_type": "markdown",
   "id": "cb223401",
   "metadata": {
    "id": "cb223401"
   },
   "source": [
    "### 1.3  Software help (5 points)\n",
    "Identify any pre-existing Python libraries or packages that can be used to aid in answering the question(s).\n",
    "\n",
    "Record your plan to familiarize yourself with the data/libraries/packages and make sure you're aware of their limitations."
   ]
  },
  {
   "cell_type": "code",
   "execution_count": 1,
   "id": "8fe0ce43",
   "metadata": {
    "id": "86a6a02f"
   },
   "outputs": [],
   "source": [
    "import numpy as np    \n",
    "import matplotlib.pyplot as plt\n",
    "from matplotlib.animation import FuncAnimation"
   ]
  },
  {
   "cell_type": "markdown",
   "id": "5e54bc57",
   "metadata": {
    "id": "5e54bc57"
   },
   "source": [
    "### 1.4 What code have you written? What code will you need to write? (10 points)\n",
    "Write your estimation of what additional code will be necessary to run your model or analyze your data.\n",
    "If you use data, please identify the sources.\n",
    "(If your data is not publicly available, please provide poof that you have been given access to work on the data, such as an email from a research advisor.)"
   ]
  },
  {
   "cell_type": "markdown",
   "id": "017edf3e",
   "metadata": {
    "id": "017edf3e"
   },
   "source": [
    "<font size=+3>&#9998;</font>\n",
    "\n",
    "<font color='blue'>\n",
    "\n",
    "I plan on writing a code that models an ideal gas via a series of elastic collisions. The code will simulataneously record how many particles there are, and how fast each of them are moving. According to this data set, we will have an approximate Maxwell-Boltzmann distribution that will increase in accuracy as the simulation goes on. Once we end the simulation, we will then proceed to estimate the Stefan–Boltzmann (SB) constant from the Monte Carlo's integrand of the Maxwell-Boltzmann distribution curve. I will then calculate the percentage error between the calculated SB constant and the actual SB constant."
   ]
  },
  {
   "cell_type": "markdown",
   "id": "ad1dd5fa",
   "metadata": {
    "id": "ad1dd5fa"
   },
   "source": [
    "### 1.5  Difficulties or complications (5 points)\n",
    "Think about what difficulties or complications you may run into during your proposed project, and how you plan to overcome them.\n",
    "It's always good to have a plan-B result that you can use based on your efforts if you cannot get to the results that you originally planned."
   ]
  },
  {
   "cell_type": "markdown",
   "id": "16db0f23",
   "metadata": {
    "id": "16db0f23"
   },
   "source": [
    "<font size=+3>&#9998;</font>\n",
    "\n",
    "<br>\n",
    "\n",
    "<font color='blue'>\n",
    "\n",
    "I can forsee running into issues with having an animated simulation, as I've worked with this kind of code for several years now. If this happens and I'm running short on time, I will just take slices of the animation to display to the class to show the progression of the simulation. Additionaly, I can forsee running into issues with calculating the integrand of the final Maxwell-Boltzmann distribution curve with Monte Carlo. If this happens, I will use another method that we have learned in class."
   ]
  },
  {
   "cell_type": "markdown",
   "id": "QbwHMHnFutyP",
   "metadata": {
    "id": "QbwHMHnFutyP"
   },
   "source": [
    "### 1.6  Relevance to class content (10 points)\n",
    "How is your project relevant to what's been taught in this class?"
   ]
  },
  {
   "cell_type": "markdown",
   "id": "1FAPqAvbu-t-",
   "metadata": {
    "id": "1FAPqAvbu-t-"
   },
   "source": [
    "<font size=+3>&#9998;</font>\n",
    "\n",
    "<font color='blue'>\n",
    "\n",
    "This project is relevant since it includes Monte Carlo integration and Monte Carlo simulation methods. "
   ]
  },
  {
   "cell_type": "markdown",
   "id": "a5141aab",
   "metadata": {
    "id": "a5141aab"
   },
   "source": [
    "### 1.7  Acknowledgments (5 points)\n",
    "Please add an `x` in the `[ ]` below to acknowledge that you are aware of the template usage for Jupyter notebook, LaTex report template, and presentation guideline (which can be found in the D2L under the \"Semester Project\". Failure to use the templates will result in 50% reduced points for each category.\n",
    "- [x] I have downloaded the Jupyter notebook semester project template and will use the template for the project.\n",
    "- [x] I have downloaded the [LaTeX template](https://www.overleaf.com/read/btkjwgpgymnm) into my own (or my teammate's) Overleaf and will write our report using it\n",
    "- [x] I will continue working on presentation slides on my own (or with my teammate's) Google account and complete the introduction/method slides, and half of the results\n",
    "- [x] I acknowledge that I have NOT submitted a similar project in other classes before"
   ]
  },
  {
   "cell_type": "markdown",
   "id": "65f85791",
   "metadata": {
    "id": "65f85791"
   },
   "source": [
    "---\n",
    "# Part 2: Progress Report (40 points)\n"
   ]
  },
  {
   "cell_type": "markdown",
   "id": "62a841fa",
   "metadata": {
    "id": "62a841fa"
   },
   "source": [
    "### 2.1 Summary of your progress (20 points)\n",
    "Please briefly summarize using bullet points what you've done since the last update."
   ]
  },
  {
   "cell_type": "markdown",
   "id": "ed52792a",
   "metadata": {
    "id": "ed52792a"
   },
   "source": [
    "<font size=+3>&#9998;</font>\n",
    "\n",
    "<br>\n",
    "\n",
    "<font color='blue'>\n",
    "    \n",
    "- I have completed my coding portion of the project notebook.\n",
    "- I have completed the slides.\n",
    "- I have completed a few pages of the final report."
   ]
  },
  {
   "cell_type": "markdown",
   "id": "d0ecb289",
   "metadata": {
    "id": "d0ecb289"
   },
   "source": [
    "### 2.2 List what remains to be done and a timeline to complete it (20 points)"
   ]
  },
  {
   "cell_type": "markdown",
   "id": "9c6b721d",
   "metadata": {
    "id": "9c6b721d"
   },
   "source": [
    "<font size=+3>&#9998;</font>\n",
    "\n",
    "<br>\n",
    "\n",
    "<font color='blue'>\n",
    "    \n",
    "- I need to finish the project notebook according the the template that was given by 04/20.\n",
    "- I need to finish polishing my slides by Sunday (04/14) evening.\n",
    "- I need to continue working on my report and turn it in by 04/20."
   ]
  },
  {
   "cell_type": "markdown",
   "id": "080b5a17",
   "metadata": {
    "id": "080b5a17"
   },
   "source": [
    "---\n",
    "## Assignment Wrap-up\n",
    "\n",
    "To complete this assignement, you need to\n",
    "1. Submit this homework Jupyter notebook (in .ipynb format)\n",
    "2. Submit your current semester-project Jupyter notebook (in .ipynb format)\n",
    "3. Submit your current Overleaf report\n",
    "4. Submit your current slides\n",
    "\n",
    "to the course Gradescope web page."
   ]
  },
  {
   "cell_type": "markdown",
   "id": "43a52907",
   "metadata": {
    "id": "43a52907"
   },
   "source": [
    "---\n",
    "\n",
    "### Congratulations, you're done!\n"
   ]
  }
 ],
 "metadata": {
  "colab": {
   "collapsed_sections": [
    "5e54bc57"
   ],
   "provenance": []
  },
  "kernelspec": {
   "display_name": "Python 3 (ipykernel)",
   "language": "python",
   "name": "python3"
  },
  "language_info": {
   "codemirror_mode": {
    "name": "ipython",
    "version": 3
   },
   "file_extension": ".py",
   "mimetype": "text/x-python",
   "name": "python",
   "nbconvert_exporter": "python",
   "pygments_lexer": "ipython3",
   "version": "3.9.18"
  }
 },
 "nbformat": 4,
 "nbformat_minor": 5
}
