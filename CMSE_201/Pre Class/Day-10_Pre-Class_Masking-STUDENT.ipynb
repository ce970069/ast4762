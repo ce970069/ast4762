{
 "cells": [
  {
   "cell_type": "markdown",
   "id": "987f80db-741e-4da3-9674-2909f8c868d6",
   "metadata": {},
   "source": [
    "### <p style=\"text-align: right;\"> &#9989; Cesarine Graham</p>"
   ]
  },
  {
   "cell_type": "markdown",
   "id": "3925a802-d4f2-4720-9c81-8b009eec85ad",
   "metadata": {},
   "source": [
    "## Goals for today's pre-class assignment\n",
    "\n",
    "* Working with the descriptive statistics and visualizations of Normal Distributions\n",
    "* Practice using masks with NumPy arrays\n",
    "* Interpreting Log Plots\n",
    "\n",
    "\n",
    "## Assignment instructions\n",
    "\n",
    "**This assignment is due by 11:59 p.m. the day before class,** and should be uploaded into the appropriate \"Pre-class assignments\" submission folder.  If you run into issues with your code, make sure to use Slack to help each other out and receive some assistance from the instructors. Submission instructions can be found at the end of the notebook."
   ]
  },
  {
   "cell_type": "markdown",
   "id": "5451775e-436f-4945-b52f-33d723859d19",
   "metadata": {},
   "source": [
    "## 1. Normal Distributions \n",
    "In today’s assignment we will be talking about the **Normal** (or Gaussian) **distribution.** A normal distribution of values looks something like this:"
   ]
  },
  {
   "cell_type": "code",
   "execution_count": 1,
   "id": "657f4759-e25d-4b48-ab37-a7e6b4990dab",
   "metadata": {},
   "outputs": [
    {
     "data": {
      "text/plain": [
       "(array([1.9000e+01, 7.1000e+01, 2.4600e+02, 8.4000e+02, 2.0800e+03,\n",
       "        4.6650e+03, 8.4920e+03, 1.3018e+04, 1.6242e+04, 1.7071e+04,\n",
       "        1.4826e+04, 1.0756e+04, 6.4030e+03, 3.2270e+03, 1.3950e+03,\n",
       "        4.6200e+02, 1.3800e+02, 3.8000e+01, 8.0000e+00, 3.0000e+00]),\n",
       " array([ 5.99960725,  6.43215988,  6.8647125 ,  7.29726513,  7.72981776,\n",
       "         8.16237038,  8.59492301,  9.02747564,  9.46002826,  9.89258089,\n",
       "        10.32513352, 10.75768614, 11.19023877, 11.6227914 , 12.05534402,\n",
       "        12.48789665, 12.92044928, 13.3530019 , 13.78555453, 14.21810716,\n",
       "        14.65065978]),\n",
       " <BarContainer object of 20 artists>)"
      ]
     },
     "execution_count": 1,
     "metadata": {},
     "output_type": "execute_result"
    },
    {
     "data": {
      "image/png": "[encoded data removed]",
      "text/plain": [
       "<Figure size 432x288 with 1 Axes>"
      ]
     },
     "metadata": {
      "needs_background": "light"
     },
     "output_type": "display_data"
    }
   ],
   "source": [
    "import matplotlib.pyplot as plt\n",
    "import numpy as np\n",
    "\n",
    "N_points = 100000\n",
    "mean=10.0\n",
    "stand_dev = 1.0\n",
    "\n",
    "n_bins = 20\n",
    "\n",
    "x = np.random.normal(mean,stand_dev,N_points)\n",
    "plt.hist(x, bins=n_bins)"
   ]
  },
  {
   "cell_type": "markdown",
   "id": "60fd0352-8c63-40c7-be97-4e5d7d01ac5a",
   "metadata": {},
   "source": [
    "Which you may have seen before (it’s also called a *bell curve*). Normal distributions are very important in statistics, primarily because **most distributions eventually become Normal distributions if you collect enough samples** (this is called the Central Limit Theorem)."
   ]
  },
  {
   "cell_type": "markdown",
   "id": "78f84514-7559-42fa-9d5d-3b8f846de382",
   "metadata": {},
   "source": [
    "### 1.1 \n",
    "Change the number of data points (`N_points`) and plot the resulting distribution. Make four subplots, showing distributions for `N_points`= 10, 100, 1000, and 10000. (Use `mean`=10.0  and `stand_dev` = 1.0)"
   ]
  },
  {
   "cell_type": "code",
   "execution_count": 6,
   "id": "3a3f7a5b-f65b-4a9a-bbd8-c18f0c0b400e",
   "metadata": {},
   "outputs": [
    {
     "data": {
      "text/plain": [
       "(array([1.000e+00, 4.000e+00, 1.500e+01, 4.100e+01, 1.050e+02, 2.610e+02,\n",
       "        4.580e+02, 7.990e+02, 1.136e+03, 1.434e+03, 1.582e+03, 1.416e+03,\n",
       "        1.093e+03, 7.840e+02, 4.650e+02, 2.440e+02, 1.040e+02, 4.100e+01,\n",
       "        1.300e+01, 4.000e+00]),\n",
       " array([ 5.96081455,  6.34745743,  6.73410031,  7.12074319,  7.50738606,\n",
       "         7.89402894,  8.28067182,  8.6673147 ,  9.05395758,  9.44060046,\n",
       "         9.82724334, 10.21388622, 10.6005291 , 10.98717198, 11.37381486,\n",
       "        11.76045774, 12.14710062, 12.5337435 , 12.92038638, 13.30702926,\n",
       "        13.69367214]),\n",
       " <BarContainer object of 20 artists>)"
      ]
     },
     "execution_count": 6,
     "metadata": {},
     "output_type": "execute_result"
    },
    {
     "data": {
      "image/png": "[encoded data removed]",
      "text/plain": [
       "<Figure size 432x288 with 1 Axes>"
      ]
     },
     "metadata": {
      "needs_background": "light"
     },
     "output_type": "display_data"
    }
   ],
   "source": [
    "#Insert code here\n",
    "N_points = 10000\n",
    "mean=10.0\n",
    "stand_dev = 1.0\n",
    "\n",
    "n_bins = 20\n",
    "\n",
    "x = np.random.normal(mean,stand_dev,N_points)\n",
    "plt.hist(x, bins=n_bins)"
   ]
  },
  {
   "cell_type": "code",
   "execution_count": 7,
   "id": "3763827e",
   "metadata": {},
   "outputs": [
    {
     "data": {
      "text/plain": [
       "(array([ 11.,  10.,  22.,  30.,  40.,  61.,  80.,  87., 106., 123.,  96.,\n",
       "         91.,  89.,  63.,  28.,  31.,  17.,   8.,   4.,   3.]),\n",
       " array([ 7.45538227,  7.72934458,  8.0033069 ,  8.27726921,  8.55123152,\n",
       "         8.82519383,  9.09915614,  9.37311845,  9.64708076,  9.92104307,\n",
       "        10.19500538, 10.46896769, 10.74293   , 11.01689231, 11.29085462,\n",
       "        11.56481694, 11.83877925, 12.11274156, 12.38670387, 12.66066618,\n",
       "        12.93462849]),\n",
       " <BarContainer object of 20 artists>)"
      ]
     },
     "execution_count": 7,
     "metadata": {},
     "output_type": "execute_result"
    },
    {
     "data": {
      "image/png": "[encoded data removed]",
      "text/plain": [
       "<Figure size 432x288 with 1 Axes>"
      ]
     },
     "metadata": {
      "needs_background": "light"
     },
     "output_type": "display_data"
    }
   ],
   "source": [
    "N_points = 1000\n",
    "mean=10.0\n",
    "stand_dev = 1.0\n",
    "\n",
    "n_bins = 20\n",
    "\n",
    "x = np.random.normal(mean,stand_dev,N_points)\n",
    "plt.hist(x, bins=n_bins)"
   ]
  },
  {
   "cell_type": "code",
   "execution_count": 8,
   "id": "d30e8c59",
   "metadata": {},
   "outputs": [
    {
     "data": {
      "text/plain": [
       "(array([ 2.,  1.,  6.,  9.,  7.,  8., 10., 12.,  5., 12., 10.,  7.,  1.,\n",
       "         3.,  1.,  2.,  3.,  0.,  0.,  1.]),\n",
       " array([ 7.94231457,  8.2119793 ,  8.48164402,  8.75130875,  9.02097348,\n",
       "         9.2906382 ,  9.56030293,  9.82996766, 10.09963238, 10.36929711,\n",
       "        10.63896184, 10.90862656, 11.17829129, 11.44795601, 11.71762074,\n",
       "        11.98728547, 12.25695019, 12.52661492, 12.79627965, 13.06594437,\n",
       "        13.3356091 ]),\n",
       " <BarContainer object of 20 artists>)"
      ]
     },
     "execution_count": 8,
     "metadata": {},
     "output_type": "execute_result"
    },
    {
     "data": {
      "image/png": "[encoded data removed]",
      "text/plain": [
       "<Figure size 432x288 with 1 Axes>"
      ]
     },
     "metadata": {
      "needs_background": "light"
     },
     "output_type": "display_data"
    }
   ],
   "source": [
    "N_points = 100\n",
    "mean=10.0\n",
    "stand_dev = 1.0\n",
    "\n",
    "n_bins = 20\n",
    "\n",
    "x = np.random.normal(mean,stand_dev,N_points)\n",
    "plt.hist(x, bins=n_bins)"
   ]
  },
  {
   "cell_type": "code",
   "execution_count": 10,
   "id": "a08f5ec2",
   "metadata": {},
   "outputs": [
    {
     "data": {
      "text/plain": [
       "(array([1., 0., 0., 0., 0., 0., 0., 0., 0., 0., 1., 1., 1., 0., 2., 0., 0.,\n",
       "        0., 1., 3.]),\n",
       " array([ 7.23001822,  7.43604095,  7.64206367,  7.8480864 ,  8.05410913,\n",
       "         8.26013185,  8.46615458,  8.67217731,  8.87820003,  9.08422276,\n",
       "         9.29024548,  9.49626821,  9.70229094,  9.90831366, 10.11433639,\n",
       "        10.32035912, 10.52638184, 10.73240457, 10.9384273 , 11.14445002,\n",
       "        11.35047275]),\n",
       " <BarContainer object of 20 artists>)"
      ]
     },
     "execution_count": 10,
     "metadata": {},
     "output_type": "execute_result"
    },
    {
     "data": {
      "image/png": "[encoded data removed]",
      "text/plain": [
       "<Figure size 432x288 with 1 Axes>"
      ]
     },
     "metadata": {
      "needs_background": "light"
     },
     "output_type": "display_data"
    }
   ],
   "source": [
    "N_points = 10\n",
    "mean=10.0\n",
    "stand_dev = 1.0\n",
    "\n",
    "n_bins = 20\n",
    "\n",
    "x = np.random.normal(mean,stand_dev,N_points)\n",
    "plt.hist(x, bins=n_bins)"
   ]
  },
  {
   "cell_type": "markdown",
   "id": "f57d9ccb-30be-4bc9-afe7-2550c47d9cc0",
   "metadata": {},
   "source": [
    "### 1.2 \n",
    "What do you notice about how the shape of the distribution changes as you use more data points?"
   ]
  },
  {
   "cell_type": "markdown",
   "id": "72487677-aa20-41ec-8326-5bd25125002e",
   "metadata": {},
   "source": [
    "The more data points were used, the more precise the distribution curve was shaped and vise versa."
   ]
  },
  {
   "cell_type": "markdown",
   "id": "00153b8e-3b9b-4903-bd80-c30cab2acea9",
   "metadata": {},
   "source": [
    "### 1.3 \n",
    "Run your code above again, so you get a new set of data points for your plots. What do you notice about how the different plots change when you pick new data points?"
   ]
  },
  {
   "cell_type": "markdown",
   "id": "81e47994-1b42-4d45-b176-f252e1e589b9",
   "metadata": {},
   "source": [
    "The median remained the same, but the change was very noticable with the decrease in the amount of points. The distribution of the points changed every time new data points were used."
   ]
  },
  {
   "cell_type": "markdown",
   "id": "eb0d181e-d637-45f4-a450-03a3e4a280f5",
   "metadata": {},
   "source": [
    "Let’s talk about the important properties of a Normal distribution.\n",
    "\n",
    "### 1.4 Mean & Median\n",
    "Make four distributions (using `N_points` = 100000 and `stand_dev`=1.0) with means of 0.0, 1.0, 5.0, 10.0. For each distribution, calculate the mean and median values."
   ]
  },
  {
   "cell_type": "code",
   "execution_count": 12,
   "id": "28bcfeaa-74a0-422b-932c-50d3f7809b53",
   "metadata": {},
   "outputs": [
    {
     "data": {
      "text/plain": [
       "(array([6.0000e+00, 3.0000e+01, 1.2600e+02, 3.8900e+02, 1.1150e+03,\n",
       "        2.7350e+03, 5.3250e+03, 9.1090e+03, 1.3173e+04, 1.6112e+04,\n",
       "        1.6242e+04, 1.3973e+04, 1.0210e+04, 6.1750e+03, 3.2240e+03,\n",
       "        1.3590e+03, 4.8700e+02, 1.5000e+02, 4.4000e+01, 1.6000e+01]),\n",
       " array([ 5.78994125,  6.20583753,  6.62173382,  7.0376301 ,  7.45352639,\n",
       "         7.86942267,  8.28531896,  8.70121524,  9.11711153,  9.53300781,\n",
       "         9.94890409, 10.36480038, 10.78069666, 11.19659295, 11.61248923,\n",
       "        12.02838552, 12.4442818 , 12.86017809, 13.27607437, 13.69197066,\n",
       "        14.10786694]),\n",
       " <BarContainer object of 20 artists>)"
      ]
     },
     "execution_count": 12,
     "metadata": {},
     "output_type": "execute_result"
    },
    {
     "data": {
      "image/png": "[encoded data removed]",
      "text/plain": [
       "<Figure size 432x288 with 1 Axes>"
      ]
     },
     "metadata": {
      "needs_background": "light"
     },
     "output_type": "display_data"
    }
   ],
   "source": [
    "#Insert code here\n",
    "N_points = 100000\n",
    "mean=10.0\n",
    "stand_dev = 1.0\n",
    "\n",
    "n_bins = 20\n",
    "\n",
    "x = np.random.normal(mean,stand_dev,N_points)\n",
    "plt.hist(x, bins=n_bins)"
   ]
  },
  {
   "cell_type": "code",
   "execution_count": 13,
   "id": "68112489",
   "metadata": {},
   "outputs": [
    {
     "data": {
      "text/plain": [
       "(array([2.0000e+00, 1.5000e+01, 5.6000e+01, 2.3400e+02, 7.2500e+02,\n",
       "        1.9490e+03, 4.3150e+03, 8.0090e+03, 1.2357e+04, 1.5718e+04,\n",
       "        1.7203e+04, 1.5436e+04, 1.1223e+04, 6.9360e+03, 3.5480e+03,\n",
       "        1.5530e+03, 5.1500e+02, 1.5800e+02, 3.5000e+01, 1.3000e+01]),\n",
       " array([0.51076543, 0.94388373, 1.37700203, 1.81012033, 2.24323863,\n",
       "        2.67635693, 3.10947523, 3.54259353, 3.97571183, 4.40883013,\n",
       "        4.84194843, 5.27506673, 5.70818503, 6.14130333, 6.57442163,\n",
       "        7.00753993, 7.44065823, 7.87377653, 8.30689483, 8.74001313,\n",
       "        9.17313143]),\n",
       " <BarContainer object of 20 artists>)"
      ]
     },
     "execution_count": 13,
     "metadata": {},
     "output_type": "execute_result"
    },
    {
     "data": {
      "image/png": "[encoded data removed]",
      "text/plain": [
       "<Figure size 432x288 with 1 Axes>"
      ]
     },
     "metadata": {
      "needs_background": "light"
     },
     "output_type": "display_data"
    }
   ],
   "source": [
    "N_points = 100000\n",
    "mean=5.0\n",
    "stand_dev = 1.0\n",
    "\n",
    "n_bins = 20\n",
    "\n",
    "x = np.random.normal(mean,stand_dev,N_points)\n",
    "plt.hist(x, bins=n_bins)"
   ]
  },
  {
   "cell_type": "code",
   "execution_count": 14,
   "id": "91c70000",
   "metadata": {},
   "outputs": [
    {
     "data": {
      "text/plain": [
       "(array([6.0000e+00, 2.7000e+01, 1.1300e+02, 4.9300e+02, 1.4190e+03,\n",
       "        3.3800e+03, 6.8820e+03, 1.1519e+04, 1.5622e+04, 1.7863e+04,\n",
       "        1.6284e+04, 1.2303e+04, 7.7190e+03, 3.8800e+03, 1.6930e+03,\n",
       "        5.9300e+02, 1.5300e+02, 4.8000e+01, 2.0000e+00, 1.0000e+00]),\n",
       " array([-3.3018455 , -2.85350658, -2.40516767, -1.95682875, -1.50848983,\n",
       "        -1.06015091, -0.61181199, -0.16347308,  0.28486584,  0.73320476,\n",
       "         1.18154368,  1.6298826 ,  2.07822151,  2.52656043,  2.97489935,\n",
       "         3.42323827,  3.87157719,  4.3199161 ,  4.76825502,  5.21659394,\n",
       "         5.66493286]),\n",
       " <BarContainer object of 20 artists>)"
      ]
     },
     "execution_count": 14,
     "metadata": {},
     "output_type": "execute_result"
    },
    {
     "data": {
      "image/png": "[encoded data removed]",
      "text/plain": [
       "<Figure size 432x288 with 1 Axes>"
      ]
     },
     "metadata": {
      "needs_background": "light"
     },
     "output_type": "display_data"
    }
   ],
   "source": [
    "N_points = 100000\n",
    "mean=1.0\n",
    "stand_dev = 1.0\n",
    "\n",
    "n_bins = 20\n",
    "\n",
    "x = np.random.normal(mean,stand_dev,N_points)\n",
    "plt.hist(x, bins=n_bins)"
   ]
  },
  {
   "cell_type": "code",
   "execution_count": 11,
   "id": "2c1d1ca6",
   "metadata": {},
   "outputs": [
    {
     "data": {
      "text/plain": [
       "(array([5.0000e+00, 3.8000e+01, 1.2400e+02, 3.7900e+02, 1.0470e+03,\n",
       "        2.6400e+03, 5.2500e+03, 8.6990e+03, 1.2575e+04, 1.5477e+04,\n",
       "        1.6079e+04, 1.4202e+04, 1.0526e+04, 6.7300e+03, 3.6510e+03,\n",
       "        1.6410e+03, 6.4600e+02, 2.2600e+02, 5.0000e+01, 1.5000e+01]),\n",
       " array([-4.17091753, -3.76326556, -3.3556136 , -2.94796163, -2.54030967,\n",
       "        -2.13265771, -1.72500574, -1.31735378, -0.90970181, -0.50204985,\n",
       "        -0.09439789,  0.31325408,  0.72090604,  1.128558  ,  1.53620997,\n",
       "         1.94386193,  2.3515139 ,  2.75916586,  3.16681782,  3.57446979,\n",
       "         3.98212175]),\n",
       " <BarContainer object of 20 artists>)"
      ]
     },
     "execution_count": 11,
     "metadata": {},
     "output_type": "execute_result"
    },
    {
     "data": {
      "image/png": "[encoded data removed]",
      "text/plain": [
       "<Figure size 432x288 with 1 Axes>"
      ]
     },
     "metadata": {
      "needs_background": "light"
     },
     "output_type": "display_data"
    }
   ],
   "source": [
    "N_points = 100000\n",
    "mean=0.0\n",
    "stand_dev = 1.0\n",
    "\n",
    "n_bins = 20\n",
    "\n",
    "x = np.random.normal(mean,stand_dev,N_points)\n",
    "plt.hist(x, bins=n_bins)"
   ]
  },
  {
   "cell_type": "markdown",
   "id": "86b07a21-d195-4059-aee3-bc9c088a9dce",
   "metadata": {},
   "source": [
    "### 1.5 \n",
    "What do you notice about the mean and median values for the five distributions? How do they compare to one another?"
   ]
  },
  {
   "cell_type": "markdown",
   "id": "c5a2c48b-74ea-467c-a228-ea1888c59872",
   "metadata": {},
   "source": [
    "The mean and median values change to what they were set to at the beginning of the problem."
   ]
  },
  {
   "cell_type": "markdown",
   "id": "24d77af4-9cfa-4142-8207-750777f1406d",
   "metadata": {},
   "source": [
    "### 1.6 Standard Deviation\n",
    "Make four distributions (using `N_points` = 100000 and `mean`=10.0) with standard deviations of 0.5, 1.0, 5.0, and 10.0. Make four subplots showing each of the distributions. "
   ]
  },
  {
   "cell_type": "code",
   "execution_count": 17,
   "id": "b220d0a2-fd0f-43f3-8987-ac3e4550e50d",
   "metadata": {},
   "outputs": [
    {
     "data": {
      "image/png": "[encoded data removed]",
      "text/plain": [
       "<Figure size 1008x1152 with 4 Axes>"
      ]
     },
     "metadata": {
      "needs_background": "light"
     },
     "output_type": "display_data"
    }
   ],
   "source": [
    "#Insert code here\n",
    "\n",
    "plt.figure(figsize=(14,16))\n",
    "\n",
    "N_points = 100000\n",
    "mean=0.0\n",
    "stand_dev = 0.5\n",
    "n_bins = 20\n",
    "x = np.random.normal(mean,stand_dev,N_points)\n",
    "plt.hist(x, bins=n_bins)\n",
    "\n",
    "plt.subplot(2,2,1)\n",
    "plt.hist(x, bins=n_bins)\n",
    "plt.title('standard deviation of 0.5')\n",
    "plt.grid()\n",
    "\n",
    "\n",
    "N_points = 100000\n",
    "mean=0.0\n",
    "stand_dev = 1.0\n",
    "n_bins = 20\n",
    "x = np.random.normal(mean,stand_dev,N_points)\n",
    "plt.hist(x, bins=n_bins)\n",
    "\n",
    "plt.subplot(2,2,2)\n",
    "plt.hist(x, bins=n_bins)\n",
    "plt.title('standard deviation of 1.0')\n",
    "plt.grid()\n",
    "\n",
    "\n",
    "N_points = 100000\n",
    "mean=0.0\n",
    "stand_dev = 5.0\n",
    "n_bins = 20\n",
    "x = np.random.normal(mean,stand_dev,N_points)\n",
    "plt.hist(x, bins=n_bins)\n",
    "\n",
    "plt.subplot(2,2,3)\n",
    "plt.hist(x, bins=n_bins)\n",
    "plt.title('standard deviation of 5.0')\n",
    "plt.grid()\n",
    "\n",
    "\n",
    "N_points = 100000\n",
    "mean=0.0\n",
    "stand_dev = 10.0\n",
    "n_bins = 20\n",
    "x = np.random.normal(mean,stand_dev,N_points)\n",
    "plt.hist(x, bins=n_bins)\n",
    "\n",
    "plt.subplot(2,2,4)\n",
    "plt.hist(x, bins=n_bins)\n",
    "plt.title('standard deviation of 10.0')\n",
    "plt.grid()\n"
   ]
  },
  {
   "cell_type": "markdown",
   "id": "b4078e0e-5697-43c3-aa15-e1011af7d913",
   "metadata": {},
   "source": [
    "### 1.7\n",
    "What do you notice about the shape of the five distributions? How do they compare to one another? What effect does changing the standard deviation have on the distributions? **NOTE: If you don't notice a difference right away, try setting `xlim` to $[-40,40]$ for each subplot** \n"
   ]
  },
  {
   "cell_type": "markdown",
   "id": "394120eb-c5d7-4ca0-bae2-22cfa83c4183",
   "metadata": {},
   "source": [
    "The standard deviation changed the ranges that the distributions covered"
   ]
  },
  {
   "cell_type": "markdown",
   "id": "e846964e-fa2b-42be-94ce-536685bc3126",
   "metadata": {},
   "source": [
    "## 2. Masking\n",
    "\n",
    "Masking is an extremely important and absurdly useful tool that we will be adding to our coding tool box. Fundamentally, **Masking is a process that allows us to select specific parts of our data that meet some condition.** Let’s work through some examples, to better understand what this means.\n",
    "\n",
    "Let’s start by looking at the random set of numbers."
   ]
  },
  {
   "cell_type": "code",
   "execution_count": 18,
   "id": "c40c30e7-921a-4384-aba5-ed2d205912a7",
   "metadata": {},
   "outputs": [],
   "source": [
    "vals = np.array([3, 11, 6, 9, 7, 12, 8, 11, 5, 3, 15, 13])"
   ]
  },
  {
   "cell_type": "markdown",
   "id": "2d9767a2-9ae7-4e9f-b9bb-c30ebd93ead4",
   "metadata": {},
   "source": [
    "### 2.1\n",
    "Write a piece of code that uses a `for` loop and an `if` statement to select all values of `vals` that are above 8. Append the values to a new list and print them out."
   ]
  },
  {
   "cell_type": "code",
   "execution_count": 20,
   "id": "a0c5e312-5bcb-4dd8-8a6a-d94d9966863c",
   "metadata": {},
   "outputs": [
    {
     "name": "stdout",
     "output_type": "stream",
     "text": [
      "[11, 9, 12, 11, 15, 13]\n"
     ]
    }
   ],
   "source": [
    "#Insert code here\n",
    "\n",
    "new_list = []\n",
    "\n",
    "for val in vals:\n",
    "    if val > 8:\n",
    "        new_list.append(val)\n",
    "        \n",
    "print(new_list)"
   ]
  },
  {
   "cell_type": "markdown",
   "id": "4fc185df-e9ba-4e22-a598-cca5be337c5f",
   "metadata": {},
   "source": [
    "What we just did was select a subset of our data; specifically, all `x` values greater than 8. Now, let’s do the same thing using Masking. The code below creates a mask and then uses that mask to select all of the data points that meet our condition."
   ]
  },
  {
   "cell_type": "code",
   "execution_count": 1,
   "id": "aacd0ae5-ee85-4f3d-a923-38c3e5a0347d",
   "metadata": {},
   "outputs": [
    {
     "ename": "NameError",
     "evalue": "name 'vals' is not defined",
     "output_type": "error",
     "traceback": [
      "\u001b[1;31m---------------------------------------------------------------------------\u001b[0m",
      "\u001b[1;31mNameError\u001b[0m                                 Traceback (most recent call last)",
      "Input \u001b[1;32mIn [1]\u001b[0m, in \u001b[0;36m<cell line: 1>\u001b[1;34m()\u001b[0m\n\u001b[1;32m----> 1\u001b[0m mask \u001b[38;5;241m=\u001b[39m \u001b[43mvals\u001b[49m \u001b[38;5;241m>\u001b[39m \u001b[38;5;241m8\u001b[39m\n\u001b[0;32m      2\u001b[0m vals_masked \u001b[38;5;241m=\u001b[39m vals[mask]\n",
      "\u001b[1;31mNameError\u001b[0m: name 'vals' is not defined"
     ]
    }
   ],
   "source": [
    "mask = vals > 8\n",
    "vals_masked = vals[mask]"
   ]
  },
  {
   "cell_type": "markdown",
   "id": "686af36b-c445-4cb6-ab71-415bd70b20e4",
   "metadata": {},
   "source": [
    "### 2.2 \n",
    "Let’s break this code down, piece by piece. First, write a piece of code that prints `mask`. "
   ]
  },
  {
   "cell_type": "code",
   "execution_count": null,
   "id": "c138b330-4fd0-4fd8-af9c-3b1f0e8ddfeb",
   "metadata": {},
   "outputs": [],
   "source": [
    "#Insert code here\n",
    "\n",
    "print(mask)"
   ]
  },
  {
   "cell_type": "markdown",
   "id": "1e182d68-06af-41f9-984c-e7a7c65e20d9",
   "metadata": {},
   "source": [
    "### 2.3 \n",
    "You should see a list of Boolean values (`True` or `False`). Compare your `mask` values to the values of `vals`. What do you notice?"
   ]
  },
  {
   "cell_type": "markdown",
   "id": "d8e8b458-9001-4dd9-897e-b7ffb3c4024a",
   "metadata": {},
   "source": [
    "If the value is less than 8 it comes back as False"
   ]
  },
  {
   "cell_type": "markdown",
   "id": "bfdef9ad-caa2-4738-bb3b-69239946603a",
   "metadata": {},
   "source": [
    "### 2.4 \n",
    "Now print out the values of `vals_masked`. "
   ]
  },
  {
   "cell_type": "code",
   "execution_count": 23,
   "id": "c46fdd02-8d0f-4c66-925d-4298af837c1d",
   "metadata": {},
   "outputs": [
    {
     "name": "stdout",
     "output_type": "stream",
     "text": [
      "[11  9 12 11 15 13]\n"
     ]
    }
   ],
   "source": [
    "#Insert code here\n",
    "print(vals_masked)"
   ]
  },
  {
   "cell_type": "markdown",
   "id": "b890851b-4d30-4227-955d-d1acc2646757",
   "metadata": {},
   "source": [
    "### 2.5 \n",
    "\n",
    "What values does `vals_masked` contain? How are these values connected to `vals`, `mask`, and the list that you created in 2.1?"
   ]
  },
  {
   "cell_type": "markdown",
   "id": "8977acb3-b480-402e-be3d-fcd07b570df2",
   "metadata": {},
   "source": [
    "It prints the values of the list that are greater than 8"
   ]
  },
  {
   "cell_type": "markdown",
   "id": "7cfbcc05-af1b-4c97-bc42-835b9795c0d9",
   "metadata": {},
   "source": [
    "### 2.6 \n",
    "Try tinkering with the mask generation code (line 1 from the cell in 2.1) by changing the condition (e.g., values below 8, values above 11, etc.). Print out the `mask` and `vals_masked` values for each one. "
   ]
  },
  {
   "cell_type": "code",
   "execution_count": 26,
   "id": "7c7f583f-1832-44ff-8a68-0d5ec0f16ca9",
   "metadata": {},
   "outputs": [
    {
     "name": "stdout",
     "output_type": "stream",
     "text": [
      "[12 15 13]\n",
      "[11  6  9  7 12  8 11 15 13]\n"
     ]
    }
   ],
   "source": [
    "#Insert code here\n",
    "mask = vals > 11\n",
    "vals_masked = vals[mask]\n",
    "print(vals_masked)\n",
    "\n",
    "mask = vals > 5\n",
    "vals_masked = vals[mask]\n",
    "print(vals_masked)"
   ]
  },
  {
   "cell_type": "markdown",
   "id": "34ba4155-3952-4edc-8f93-a0992fc8b39a",
   "metadata": {},
   "source": [
    "### 2.7 \n",
    "Take a moment and reflect. What is a mask? What does masking do? "
   ]
  },
  {
   "cell_type": "markdown",
   "id": "b60213ea-beae-4d65-b749-6d00a2ea216c",
   "metadata": {},
   "source": [
    "The masking function covers the values of the list that do not match the specifications."
   ]
  },
  {
   "cell_type": "markdown",
   "id": "5da944ea-46b4-4107-a537-8fcf85cf3d73",
   "metadata": {},
   "source": [
    "### 2.8 \n",
    "Before moving on, explain the concept of Masking as if you were talking to someone who has never coded before."
   ]
  },
  {
   "cell_type": "markdown",
   "id": "2f16e539-3f15-4fe0-a983-c962d365ca22",
   "metadata": {},
   "source": [
    "Masking \"masks\" the values of a data set that do not match the specifications that you want it to."
   ]
  },
  {
   "cell_type": "markdown",
   "id": "ef0af240-58ee-44b7-98a6-daca701dbc00",
   "metadata": {},
   "source": [
    "## 3. Interpretating Log Plots\n",
    "\n",
    "For this next exercise, we will explore the utility and interpretation of **log plots**. We’re used to **linear plots**; these are plots where the space between 1 and 2 is the same as it is between 3 and 4 (or 8 and 9 or 800 and 801). The step size is linear, hence the name.\n",
    "\n",
    "In a log plot, though, the space between 1 and 2 is the same as the space between 2 and ***4*** (or 4 and 8 or 800 and 1600). In a log plot, the step size is *multiplicative* (e.g., all of the previous examples increased by a factor of 2).  \n",
    "\n",
    "Log plots are useful when you have a **large dynamic range.** That is, when the difference between the smallest thing you care about and the largest thing you care about is **BIG.**\n",
    "\n",
    "Let’s take another look at the economic data from your day nine exercise. The filename is `GDP_Cleaned.csv`, and you can find it on the course website. (as the name suggests, we’ve cleaned up the dataset for you).\n",
    "\n"
   ]
  },
  {
   "cell_type": "markdown",
   "id": "eb23233a-12e5-4cd1-ba0d-2d62426bc4ab",
   "metadata": {},
   "source": [
    "### 3.1 \n",
    "Use Pandas to read in `GDP_Cleaned.csv`."
   ]
  },
  {
   "cell_type": "code",
   "execution_count": 37,
   "id": "37974efa-a1eb-471f-bfd8-ca39213e8021",
   "metadata": {},
   "outputs": [
    {
     "name": "stdout",
     "output_type": "stream",
     "text": [
      "    Year  Africa Eastern and Southern  Africa Western and Central  \\\n",
      "0   1960                 1.929193e+10                1.040732e+10   \n",
      "1   1961                 1.970186e+10                1.113130e+10   \n",
      "2   1962                 2.147035e+10                1.194684e+10   \n",
      "3   1963                 2.570500e+10                1.268022e+10   \n",
      "4   1964                 2.350165e+10                1.384262e+10   \n",
      "..   ...                          ...                         ...   \n",
      "56  2016                 8.547519e+11                6.874847e+11   \n",
      "57  2017                 9.622690e+11                6.809891e+11   \n",
      "58  2018                 9.840320e+11                7.381313e+11   \n",
      "59  2019                 9.778092e+11                7.920789e+11   \n",
      "60  2020                 8.984741e+11                7.865850e+11   \n",
      "\n",
      "       Australia       Austria       Burundi       Belgium         Benin  \\\n",
      "0   1.857767e+10  6.592694e+09  1.960000e+08  1.165872e+10  2.261956e+08   \n",
      "1   1.965282e+10  7.311750e+09  2.030000e+08  1.240015e+10  2.356682e+08   \n",
      "2   1.989249e+10  7.756110e+09  2.135000e+08  1.326402e+10  2.364349e+08   \n",
      "3   2.150745e+10  8.374175e+09  2.327500e+08  1.426002e+10  2.539276e+08   \n",
      "4   2.376414e+10  9.169984e+09  2.607500e+08  1.596011e+10  2.698190e+08   \n",
      "..           ...           ...           ...           ...           ...   \n",
      "56  1.208847e+12  3.955686e+11  2.959641e+09  4.757396e+11  1.182107e+10   \n",
      "57  1.329188e+12  4.162073e+11  3.172292e+09  5.015229e+11  1.270166e+10   \n",
      "58  1.432881e+12  4.548726e+11  3.036937e+09  5.434107e+11  1.425099e+10   \n",
      "59  1.396567e+12  4.450754e+11  3.012309e+09  5.332545e+11  1.439169e+10   \n",
      "60  1.330901e+12  4.289654e+11  3.258187e+09  5.153325e+11  1.565155e+10   \n",
      "\n",
      "    Burkina Faso    Bangladesh  ...        Turkey        Uganda  \\\n",
      "0   3.304428e+08  4.274894e+09  ...  1.399507e+10  4.230084e+08   \n",
      "1   3.502472e+08  4.817580e+09  ...  7.988889e+09  4.415241e+08   \n",
      "2   3.795670e+08  5.081413e+09  ...  8.922222e+09  4.490126e+08   \n",
      "3   3.940406e+08  5.319458e+09  ...  1.035556e+10  5.161478e+08   \n",
      "4   4.103216e+08  5.386055e+09  ...  1.117778e+10  5.890566e+08   \n",
      "..           ...           ...  ...           ...           ...   \n",
      "56  1.283336e+10  2.214152e+11  ...  8.696930e+11  2.907859e+10   \n",
      "57  1.410696e+10  2.497109e+11  ...  8.589963e+11  3.074447e+10   \n",
      "58  1.605991e+10  2.740390e+11  ...  7.783770e+11  3.291234e+10   \n",
      "59  1.599080e+10  3.025634e+11  ...  7.614282e+11  3.517004e+10   \n",
      "60  1.736906e+10  3.242392e+11  ...  7.201012e+11  3.737203e+10   \n",
      "\n",
      "    Upper middle income       Uruguay  United States  \\\n",
      "0          2.379344e+11  1.242289e+09   5.433000e+11   \n",
      "1          2.133097e+11  1.547389e+09   5.633000e+11   \n",
      "2          2.238717e+11  1.710004e+09   6.051000e+11   \n",
      "3          2.333284e+11  1.539681e+09   6.386000e+11   \n",
      "4          2.686296e+11  1.975702e+09   6.858000e+11   \n",
      "..                  ...           ...            ...   \n",
      "56         1.979362e+13  5.723665e+10   1.874508e+13   \n",
      "57         2.191199e+13  6.423397e+10   1.954298e+13   \n",
      "58         2.358090e+13  6.451504e+10   2.061186e+13   \n",
      "59         2.397975e+13  6.123115e+10   2.143322e+13   \n",
      "60         2.310488e+13  5.362883e+10   2.093660e+13   \n",
      "\n",
      "    St. Vincent and the Grenadines         World  South Africa        Zambia  \\\n",
      "0                     1.306656e+07  1.384628e+12  7.575397e+09  7.130000e+08   \n",
      "1                     1.399988e+07  1.440342e+12  7.972997e+09  6.962857e+08   \n",
      "2                     1.452488e+07  1.545697e+12  8.497997e+09  6.931429e+08   \n",
      "3                     1.370822e+07  1.665141e+12  9.423396e+09  7.187143e+08   \n",
      "4                     1.475821e+07  1.824117e+12  1.037400e+10  8.394286e+08   \n",
      "..                             ...           ...           ...           ...   \n",
      "56                    7.744296e+08  7.641725e+13  2.963573e+11  2.095841e+10   \n",
      "57                    7.921778e+08  8.132672e+13  3.495541e+11  2.587360e+10   \n",
      "58                    8.113000e+08  8.634351e+13  3.682889e+11  2.631164e+10   \n",
      "59                    8.247185e+08  8.760777e+13  3.514316e+11  2.330869e+10   \n",
      "60                    8.096815e+08  8.470543e+13  3.019236e+11  1.932005e+10   \n",
      "\n",
      "        Zimbabwe  \n",
      "0   1.052990e+09  \n",
      "1   1.096647e+09  \n",
      "2   1.117602e+09  \n",
      "3   1.159512e+09  \n",
      "4   1.217138e+09  \n",
      "..           ...  \n",
      "56  2.054868e+10  \n",
      "57  1.901533e+10  \n",
      "58  1.952362e+10  \n",
      "59  1.693243e+10  \n",
      "60  1.676851e+10  \n",
      "\n",
      "[61 rows x 122 columns]\n"
     ]
    }
   ],
   "source": [
    "#Write your code here\n",
    "\n",
    "import pandas as pd\n",
    "df = pd.read_csv('GDP_Cleaned.csv')\n",
    "print(df)"
   ]
  },
  {
   "cell_type": "markdown",
   "id": "17bea5e4-1c72-453c-88ee-86ab6ddaf35c",
   "metadata": {},
   "source": [
    "### 3.2\n",
    "Make a plot of the GDP versus time (Year) for both the United States and Bangladesh."
   ]
  },
  {
   "cell_type": "code",
   "execution_count": 45,
   "id": "de9e97e6-66bd-427a-931f-2c26c4b05f5c",
   "metadata": {},
   "outputs": [
    {
     "data": {
      "text/plain": [
       "<matplotlib.legend.Legend at 0x1789c355790>"
      ]
     },
     "execution_count": 45,
     "metadata": {},
     "output_type": "execute_result"
    },
    {
     "data": {
      "image/png": "[encoded data removed]",
      "text/plain": [
       "<Figure size 432x288 with 1 Axes>"
      ]
     },
     "metadata": {
      "needs_background": "light"
     },
     "output_type": "display_data"
    }
   ],
   "source": [
    "#Write your code here\n",
    "\n",
    "united_states = (df['United States'])\n",
    "bangladesh = (df['Bangladesh'])\n",
    "year = (df['Year'])\n",
    "\n",
    "plt.plot(year, united_states, label = 'united states')\n",
    "plt.plot(year, bangladesh, label = 'bangladesh')\n",
    "plt.title('Change in GDP per Year')\n",
    "plt.xlabel('time (years)')\n",
    "plt.ylabel('GDP (E9)')\n",
    "plt.grid()\n",
    "plt.legend()\n"
   ]
  },
  {
   "cell_type": "markdown",
   "id": "6d6bd604-5383-4eaf-8732-e7bda2b3a1e1",
   "metadata": {},
   "source": [
    "### 3.3 \n",
    "Based on this plot, what can you say about the growth of the economy in Bangladesh?"
   ]
  },
  {
   "cell_type": "markdown",
   "id": "fa7a5280-810a-4648-b456-eddda1bee3ff",
   "metadata": {},
   "source": [
    "Bangladesh has almost a linear growth in the economy or little growth."
   ]
  },
  {
   "cell_type": "markdown",
   "id": "4add1e83-1b6d-410f-88e5-620d1e1adece",
   "metadata": {},
   "source": [
    "### 3.4 \n",
    "Now remake the same plot, but this time with the `yscale` set to log (you may need to look how to do this)."
   ]
  },
  {
   "cell_type": "code",
   "execution_count": 47,
   "id": "e6b181be-c2b1-477a-b0dd-2b2ea8c4c8e8",
   "metadata": {},
   "outputs": [
    {
     "data": {
      "text/plain": [
       "<matplotlib.legend.Legend at 0x1789c399580>"
      ]
     },
     "execution_count": 47,
     "metadata": {},
     "output_type": "execute_result"
    },
    {
     "data": {
      "image/png": "[encoded data removed]",
      "text/plain": [
       "<Figure size 432x288 with 1 Axes>"
      ]
     },
     "metadata": {
      "needs_background": "light"
     },
     "output_type": "display_data"
    }
   ],
   "source": [
    "#Write your code here\n",
    "\n",
    "united_states = (df['United States'])\n",
    "bangladesh = (df['Bangladesh'])\n",
    "year = (df['Year'])\n",
    "\n",
    "plt.plot(year, united_states, label = 'united states')\n",
    "plt.plot(year, bangladesh, label = 'bangladesh')\n",
    "plt.yscale('log',base=10) \n",
    "plt.title('Change in GDP per Year')\n",
    "plt.xlabel('time (years)')\n",
    "plt.ylabel('log GDP')\n",
    "plt.grid()\n",
    "plt.legend()"
   ]
  },
  {
   "cell_type": "markdown",
   "id": "fd8cfd01-a04b-4341-895d-b7a16b88726d",
   "metadata": {},
   "source": [
    "### 3.5 \n",
    "Using the log-plot, what can you say about the growth of the economy in Bangladesh? Use the plot to read off the starting and ending values (i.e., the economy of Bangladesh in 1960 and 2021)."
   ]
  },
  {
   "cell_type": "markdown",
   "id": "9f048738-baf3-4352-967b-aa0b81cfb86e",
   "metadata": {},
   "source": [
    "According to the log-plot, the growth of the economy in Bangladesh is the same to that of the positive growth of the United States. The economy of Bangladesh in 1960 was 10^10.5 and the economy in 2021 was 10^11.5."
   ]
  },
  {
   "cell_type": "markdown",
   "id": "1aab8eeb-0eea-4c4f-9820-0d0386b7dd3c",
   "metadata": {},
   "source": [
    "### 3.6\n",
    "Now try setting `xscale` to be log as well. "
   ]
  },
  {
   "cell_type": "code",
   "execution_count": 48,
   "id": "305e11ec-695a-422e-82af-37d660aa72e4",
   "metadata": {},
   "outputs": [
    {
     "data": {
      "text/plain": [
       "<matplotlib.legend.Legend at 0x1789c74df40>"
      ]
     },
     "execution_count": 48,
     "metadata": {},
     "output_type": "execute_result"
    },
    {
     "data": {
      "image/png": "[encoded data removed]",
      "text/plain": [
       "<Figure size 432x288 with 1 Axes>"
      ]
     },
     "metadata": {
      "needs_background": "light"
     },
     "output_type": "display_data"
    }
   ],
   "source": [
    "#Write your code here\n",
    "\n",
    "united_states = (df['United States'])\n",
    "bangladesh = (df['Bangladesh'])\n",
    "year = (df['Year'])\n",
    "\n",
    "plt.plot(year, united_states, label = 'united states')\n",
    "plt.plot(year, bangladesh, label = 'bangladesh')\n",
    "plt.xscale('log',base=10) \n",
    "plt.yscale('log',base=10) \n",
    "plt.title('Change in GDP per Year')\n",
    "plt.xlabel('time (years)')\n",
    "plt.ylabel('log GDP')\n",
    "plt.grid()\n",
    "plt.legend()"
   ]
  },
  {
   "cell_type": "markdown",
   "id": "149497cb-6cca-4448-83b6-52e757e541e5",
   "metadata": {},
   "source": [
    "### 3.7\n",
    "What do you notice? How large is the dynamic range of the x-axis values (i.e., by what multiplicative value does the x-values increase?)"
   ]
  },
  {
   "cell_type": "markdown",
   "id": "060158a8-25f2-40c1-b9ca-f4e996cbbb99",
   "metadata": {},
   "source": [
    "The x values increase exponenetially, but the graph itself looks the same."
   ]
  },
  {
   "cell_type": "markdown",
   "id": "5c91c576-8f45-4242-9a93-b6fb224a928d",
   "metadata": {},
   "source": [
    "---\n",
    "## Assignment wrap-up\n",
    "\n",
    "Please fill out the form that appears when you run the code below.  **You must completely fill this out in order to receive credit for the assignment!**"
   ]
  },
  {
   "cell_type": "code",
   "execution_count": 49,
   "id": "5befceec-9ee5-432b-a755-ee0fc39a9450",
   "metadata": {},
   "outputs": [
    {
     "data": {
      "text/html": [
       "\n",
       "<iframe \n",
       "\tsrc=\"https://cmse.msu.edu/cmse201-pc-survey\" \n",
       "\twidth=\"800px\" \n",
       "\theight=\"600px\" \n",
       "\tframeborder=\"0\" \n",
       "\tmarginheight=\"0\" \n",
       "\tmarginwidth=\"0\">\n",
       "\tLoading...\n",
       "</iframe>\n"
      ],
      "text/plain": [
       "<IPython.core.display.HTML object>"
      ]
     },
     "execution_count": 49,
     "metadata": {},
     "output_type": "execute_result"
    }
   ],
   "source": [
    "from IPython.display import HTML\n",
    "HTML(\n",
    "\"\"\"\n",
    "<iframe \n",
    "\tsrc=\"https://cmse.msu.edu/cmse201-pc-survey\" \n",
    "\twidth=\"800px\" \n",
    "\theight=\"600px\" \n",
    "\tframeborder=\"0\" \n",
    "\tmarginheight=\"0\" \n",
    "\tmarginwidth=\"0\">\n",
    "\tLoading...\n",
    "</iframe>\n",
    "\"\"\"\n",
    ")"
   ]
  },
  {
   "cell_type": "markdown",
   "id": "69d9f732-20c2-4f3e-86c7-924242d4a4ae",
   "metadata": {},
   "source": [
    "### Congratulations, you're done!\n",
    "\n",
    "Submit this assignment by uploading it to the course Desire2Learn web page.  Go to the \"Pre-class assignments\" folder, find the appropriate submission link, and upload it there.\n",
    "\n",
    "See you in class!"
   ]
  },
  {
   "cell_type": "markdown",
   "id": "ad62082c-16bd-4cd1-924e-d8ca12e1ca4c",
   "metadata": {},
   "source": [
    "&#169; Copyright 2021,  Michigan State University Board of Trustees"
   ]
  },
  {
   "cell_type": "code",
   "execution_count": null,
   "id": "52b65b57",
   "metadata": {},
   "outputs": [],
   "source": []
  }
 ],
 "metadata": {
  "kernelspec": {
   "display_name": "Python 3 (ipykernel)",
   "language": "python",
   "name": "python3"
  },
  "language_info": {
   "codemirror_mode": {
    "name": "ipython",
    "version": 3
   },
   "file_extension": ".py",
   "mimetype": "text/x-python",
   "name": "python",
   "nbconvert_exporter": "python",
   "pygments_lexer": "ipython3",
   "version": "3.9.12"
  }
 },
 "nbformat": 4,
 "nbformat_minor": 5
}
