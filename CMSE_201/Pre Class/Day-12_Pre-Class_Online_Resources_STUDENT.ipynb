{
 "cells": [
  {
   "cell_type": "markdown",
   "id": "2194c3d5-50a0-4810-9b72-b58f8e50e6eb",
   "metadata": {},
   "source": [
    "# Day 12 Pre-class Assignment: Finding Resources Online\n"
   ]
  },
  {
   "cell_type": "markdown",
   "id": "195a4fc6-8949-4ee8-acc0-5d6e15aa915e",
   "metadata": {},
   "source": [
    "### <p style=\"text-align: right;\"> &#9989; Cesarine Graham"
   ]
  },
  {
   "cell_type": "markdown",
   "id": "344a3497-857d-4861-b2e6-b404b999f927",
   "metadata": {},
   "source": [
    "## Goals for today's pre-class assignment\n",
    "\n",
    "* Find appropriate datasets that can be used for analysis\n",
    "* Working with new coding tools that you find online\n",
    "\n",
    "\n",
    "## Assignment instructions\n",
    "\n",
    "**This assignment is due by 11:59 p.m. the day before class,** and should be uploaded into the appropriate \"Pre-class assignments\" submission folder.  If you run into issues with your code, make sure to use Slack to help each other out and receive some assistance from the instructors. Submission instructions can be found at the end of the notebook.\n",
    "\n",
    "**It is important that you do your best to complete the pre-class assignment!** Going through this assignment and trying to complete it to the best of your ability will help to make sure you're prepared for the content that is covered in class. "
   ]
  },
  {
   "cell_type": "markdown",
   "id": "687908fe-2eba-434d-8fa3-1ddeae537d1a",
   "metadata": {},
   "source": [
    "# Part 1: Finding Data Online\n",
    "\n",
    "We've provided you with datasets for many of our previous assignments to work with. However, there is a vast treasure trove of data on the internet, and we want to ensure that you can find and access these resources online. Aside from being an important skill to develop in general, this will also prove invaluable for most of you when working on your semester projects.\n",
    "\n",
    "Not all datasets are created equal. There are several important qualities that you should look for as you pick a dataset:\n",
    "\n",
    "1. **Use data that comes from reliable sources.** There should be a citation you can give for any data you end up using. The most reliable sources come from government agencies--CDC, FDA, the CIA (strangely), etc.--and large NGOs/non-profit organizations (E.g., World Bank). This doesn't need to be a hard and fast rule for our purposes here, but you should follow it in general.\n",
    "1. **The data should be rich.** The power that computers have brought to modern data analysis is that they allow us to look at many variables in massive data sets. You should look for data that contains multiple variables (4+) and has many values for each variable (>1000). \n",
    "1. **...But not too rich (just for this assignment).** We don't want you spending too much time trimming down data for this assignment (not true for your semester project!). We recommend looking for datasets that are <5 MB.\n",
    "\n",
    "Here is a list of resources we recommend for finding data. You don't need to use any of these, but they can be helpful if you're unsure of where to start.  \n",
    "\n",
    "#### [The Center for Disease Control:](https://www.cdc.gov/datastatistics/index.html) Lots of medical/medicine-related data sets.\n",
    "#### [Food and Agricultural Organization:](https://www.fao.org/faostat/en/#data) Data mostly related to economics.\n",
    "#### [Kaggle:](https://www.kaggle.com/datasets) Kind of a random assortment of data sets. I’ve found everything from data on roadkill in Vermont to an exhaustive compilation of memes.\n",
    "#### [UNICEF:](https://data.unicef.org/resources/resource-type/datasets/) Also health-related.\n",
    "#### [World Health Organization:](https://www.who.int/data/collections) Health-related data.\n",
    "#### [World Bank:](https://data.worldbank.org/) Economic Data\n",
    "\n",
    "\n",
    "### **[Here is a video](https://mediaspace.msu.edu/media/Finding_Data_Online/1_adc51hni)** showing an example of finding data from the FAO website. \n",
    "\n",
    "\n"
   ]
  },
  {
   "cell_type": "markdown",
   "id": "b73865f0-54ad-4324-b452-681d0a9e9119",
   "metadata": {},
   "source": [
    "### &#9989;&nbsp; **TASK** Your task for this section is to find a data set. You will be sharing the dataset that you find with your group in class, so you should prepare a quick summary of your data. **You should make a single slide with important information about your dataset including (but not limited to):** \n",
    "1. **The source of your dataset**\n",
    "1. **The variables in your dataset.**\n",
    "1. **What makes your dataset interesting.**\n",
    "\n",
    "It would be good to use Google Slides or a shared PowerPoint presentation to make your slide, so that you can easily share it with your group mates.\n",
    "\n",
    "\n",
    "#### **NOTE:** If you have an idea for a data set you’d like to work with but are having trouble finding data in any of the resources we’ve provided, we *strongly recommend* searching Google! You can search for something like “(TOPIC YOU CARE ABOUT) data csv.” Hopefully you’ll be able to find something that works!\n",
    "\n",
    "#### For this section I made a Google Slide presentation for my group to see."
   ]
  },
  {
   "cell_type": "markdown",
   "id": "cc5bb805-6b53-4ddb-b756-3add83ff6aa9",
   "metadata": {},
   "source": [
    "# Part 2: Using New Coding Tools\n",
    "\n",
    "A critical skill for you to develop is the ability to find and use new coding tools from online sources. Thus far, we’ve provided you with the tools that you need for class that come from Numpy, Matplotlib, and Pandas. However, there are many (*many*) more tools available to the python coder that we haven’t talked about. If you want to learn these tools on your own, it’s best to use a code we’re calling  **Tinkering.** \n",
    "\n",
    "\n",
    "\n",
    "## Code Tinkering\n",
    "\n",
    "Tinkering is where you experiment with a functioning piece of code that is new to you to understand it well enough to use it for your purposes. \n",
    "\n",
    "**NOTE** Tinkering is not an official term; it’s just what we’re calling this kind of code experimentation. \n",
    "\n",
    "\n",
    "### Important Ideas for Tinkering with Code\n",
    "\n",
    "1. **Always have a copy of the original code, in case you break things too much and need to start over.** You can use the copy/comment/paste method (not officially recognized as a thing; just what we’re calling it). \n",
    "1. **Make sure there is some output to see the effect of the changes you make.** Either plot the results or print them, with a preference for plotting (easier to see changes!) \n",
    "1. **Look for specific values in the code that you can change.** Change the value of any numbers/strings you see. \n",
    "1. **Test your understanding of the code.** When you feel like you understand how things work, make some predictions about what will happen if you change specific values.\n",
    "1. **Use your understanding of the code to get it to work for your purposes.** Ultimately, we tinker with code to figure out how to use new tools that we find online. \n",
    "\n",
    "### [This video](https://mediaspace.msu.edu/media/Code_Tinkering_Video/1_ld77uos6) provides a worked example of code tinkering. \n",
    "\n",
    "\n",
    "### &#9989;&nbsp; **TASK** Your task for this section is to go to the [Matplotlib Gallery](https://matplotlib.org/stable/gallery/)  and find a novel plotting tool or utility. Experiment with the code until you feel that you can use the tool for your purposes. **You will be sharing--and potentially using--your new plotting tool with your group,** so it’s important that you understand it well enough to get it to work. Like the previous section, write a quick summary of your plotting tool that you can share with your group, including an example of the tool in action. \n",
    "\n",
    "\n",
    "\n"
   ]
  },
  {
   "cell_type": "code",
   "execution_count": 13,
   "id": "d4721ab6-6c50-4827-b313-df466eaaf7fe",
   "metadata": {},
   "outputs": [
    {
     "data": {
      "image/png": "[encoded data removed]",
      "text/plain": [
       "<Figure size 540x252 with 2 Axes>"
      ]
     },
     "metadata": {
      "needs_background": "light"
     },
     "output_type": "display_data"
    }
   ],
   "source": [
    "#Use this space to tinker with the code for the plotting tool you found\n",
    "\n",
    "import numpy as np\n",
    "import matplotlib.pyplot as plt\n",
    "from matplotlib.markers import MarkerStyle\n",
    "from matplotlib.transforms import Affine2D\n",
    "from matplotlib.textpath import TextPath\n",
    "from matplotlib.colors import Normalize\n",
    "\n",
    "N = 25\n",
    "np.random.seed(1000)\n",
    "skills = np.random.uniform(5, 80, size=N) * 0.1 + 5\n",
    "takeoff_angles = np.random.normal(0, 90, N)\n",
    "thrusts = np.random.uniform(size=N)\n",
    "successful = np.random.randint(0, 3, size=N)\n",
    "positions = np.random.normal(size=(N, 2)) * 5\n",
    "data = zip(skills, takeoff_angles, thrusts, successful, positions)\n",
    "\n",
    "cmap = plt.colormaps[\"plasma\"]\n",
    "fig, ax = plt.subplots()\n",
    "fig.suptitle(\"Throwing success\", size=14)\n",
    "for skill, takeoff, thrust, mood, pos in data:\n",
    "    t = Affine2D().scale(skill).rotate_deg(takeoff)\n",
    "    m = MarkerStyle(SUCCESS_SYMBOLS[mood])\n",
    "    ax.plot(pos[0], pos[1], marker=m, color=cmap(thrust))\n",
    "fig.colorbar(plt.cm.ScalarMappable(norm=Normalize(0, 1), cmap=cmap),\n",
    "             ax=ax, label=\"Normalized Thrust [a.u.]\")\n",
    "ax.set_xlabel(\"X position [m]\")\n",
    "ax.set_ylabel(\"Y position [m]\")\n",
    "\n",
    "plt.show()\n",
    "plt.show()"
   ]
  },
  {
   "cell_type": "code",
   "execution_count": 15,
   "id": "abc6aefb",
   "metadata": {},
   "outputs": [
    {
     "data": {
      "text/plain": [
       "<Figure size 1296x72 with 0 Axes>"
      ]
     },
     "metadata": {},
     "output_type": "display_data"
    },
    {
     "data": {
      "image/png": "[encoded data removed]",
      "text/plain": [
       "<Figure size 540x252 with 2 Axes>"
      ]
     },
     "metadata": {
      "needs_background": "light"
     },
     "output_type": "display_data"
    }
   ],
   "source": [
    "import numpy as np\n",
    "import matplotlib.pyplot as plt\n",
    "\n",
    "plt.figure(figsize=(18,1))\n",
    "\n",
    "\n",
    "plt.rcParams[\"figure.figsize\"] = [7.50, 3.50]\n",
    "plt.rcParams[\"figure.autolayout\"] = True\n",
    "\n",
    "def func(x, y):\n",
    "    return 3 * x + 4 * y - 2 + np.random.randn(30)\n",
    "\n",
    "x, y = np.random.randn(2, 30)\n",
    "y *= 1000\n",
    "z = func(x, y)\n",
    "\n",
    "fig, ax = plt.subplots()\n",
    "\n",
    "s = ax.scatter(x,y, c=z, s=100, marker='*', cmap='plasma')\n",
    "\n",
    "fig.colorbar(s, label=\"Surface Temperature (K)\", orientation=\"horizontal\")\n",
    "plt.ylabel(\"Luminosity (compared to the Sun)\")\n",
    "\n",
    "plt.show()"
   ]
  },
  {
   "cell_type": "markdown",
   "id": "94f03244",
   "metadata": {},
   "source": [
    "For my project, I would like to plot an HR diagram using the recent datasets from the James Webb Space Telescope. To make the HR digram, I need to be able to plot a multivariant graph with a colormap to differentiate the surface temperatures of the various stars."
   ]
  },
  {
   "cell_type": "markdown",
   "id": "5db7900d-779a-4c56-ba6d-18f00e870ef9",
   "metadata": {},
   "source": [
    "---\n",
    "## Assignment wrap-up\n",
    "\n",
    "Please fill out the form that appears when you run the code below.  **You must completely fill this out in order to receive credit for the assignment!**"
   ]
  },
  {
   "cell_type": "code",
   "execution_count": 22,
   "id": "91519093-a33e-406d-8536-573d6a852c68",
   "metadata": {},
   "outputs": [
    {
     "data": {
      "text/html": [
       "\n",
       "<iframe \n",
       "\tsrc=\"https://cmse.msu.edu/cmse201-pc-survey\" \n",
       "\twidth=\"800px\" \n",
       "\theight=\"600px\" \n",
       "\tframeborder=\"0\" \n",
       "\tmarginheight=\"0\" \n",
       "\tmarginwidth=\"0\">\n",
       "\tLoading...\n",
       "</iframe>\n"
      ],
      "text/plain": [
       "<IPython.core.display.HTML object>"
      ]
     },
     "execution_count": 22,
     "metadata": {},
     "output_type": "execute_result"
    }
   ],
   "source": [
    "from IPython.display import HTML\n",
    "HTML(\n",
    "\"\"\"\n",
    "<iframe \n",
    "\tsrc=\"https://cmse.msu.edu/cmse201-pc-survey\" \n",
    "\twidth=\"800px\" \n",
    "\theight=\"600px\" \n",
    "\tframeborder=\"0\" \n",
    "\tmarginheight=\"0\" \n",
    "\tmarginwidth=\"0\">\n",
    "\tLoading...\n",
    "</iframe>\n",
    "\"\"\"\n",
    ")"
   ]
  },
  {
   "cell_type": "markdown",
   "id": "d0b2a4e1-e81d-4986-92db-8b9d824f4130",
   "metadata": {},
   "source": [
    "### Congratulations, you're done!\n",
    "\n",
    "Submit this assignment by uploading it to the course Desire2Learn web page.  Go to the \"Pre-class assignments\" folder, find the appropriate submission link, and upload it there.\n",
    "\n",
    "See you in class!"
   ]
  },
  {
   "cell_type": "markdown",
   "id": "52e181b0-f145-466e-add9-649d606736cc",
   "metadata": {},
   "source": [
    "Copyright &#169; 2021, [Department of Computational Mathematics, Science and Engineering](https://cmse.msu.edu/) at Michigan State University, All rights reserved."
   ]
  }
 ],
 "metadata": {
  "kernelspec": {
   "display_name": "Python 3 (ipykernel)",
   "language": "python",
   "name": "python3"
  },
  "language_info": {
   "codemirror_mode": {
    "name": "ipython",
    "version": 3
   },
   "file_extension": ".py",
   "mimetype": "text/x-python",
   "name": "python",
   "nbconvert_exporter": "python",
   "pygments_lexer": "ipython3",
   "version": "3.9.12"
  }
 },
 "nbformat": 4,
 "nbformat_minor": 5
}
