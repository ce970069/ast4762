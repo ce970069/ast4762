{
 "cells": [
  {
   "cell_type": "markdown",
   "id": "dc5f1ece",
   "metadata": {},
   "source": [
    "# Day 16: Pre-class Assignment: Introduction to Modeling with Ordinary Differential Equations"
   ]
  },
  {
   "cell_type": "markdown",
   "id": "0dbdfdda",
   "metadata": {},
   "source": [
    "### <p style=\"text-align: right;\"> &#9989; Cesarine Graham.</p>"
   ]
  },
  {
   "cell_type": "markdown",
   "id": "3a109dca",
   "metadata": {},
   "source": [
    "### Goals for Today's Pre-Class Assignment\n",
    "In this assignment, you will:\n",
    "* Learn how to model changing systems mathematically\n",
    "* Qualitatively describe how a system is changing\n",
    "* Explore using Python to numerically model these systems\n",
    "\n",
    "\n",
    "### Assignment instructions\n",
    "\n",
    "This assignment will introduce how we can model real-world examples with ordinary differential equations and how we can use Python to solve them numerically.\n",
    "\n",
    "**This assignment is due by 11:59 p.m. the day before class,** and should be uploaded into the appropriate \"Pre-class assignments\" submission folder.  Submission instructions can be found at the end of the notebook.\n",
    "\n",
    "---"
   ]
  },
  {
   "cell_type": "markdown",
   "id": "3fb44d5a",
   "metadata": {},
   "source": [
    "## 1. What is an Ordinary Differential Equation?\n",
    "\n",
    "### Video\n",
    "\n",
    "### Watch this video on [MediaSpace](https://mediaspace.msu.edu/media/Rachel+Frisbie+%28she+her%29%27s+Zoom+Meeting/1_k8ns6p88)"
   ]
  },
  {
   "cell_type": "markdown",
   "id": "5d07ed3f",
   "metadata": {},
   "source": [
    "### &#9989;&nbsp; 1.1 Question\n",
    "\n",
    "In your own words, summarize the purpose of **ordinary differential equations**."
   ]
  },
  {
   "cell_type": "markdown",
   "id": "55f84126",
   "metadata": {},
   "source": [
    "<font size=\"+3\">&#9998;</font> The purpose of ordinary differential equations is to describe a function with respect to its derivatives"
   ]
  },
  {
   "cell_type": "markdown",
   "id": "977fb1e7-8412-4570-a988-68504529b63c",
   "metadata": {},
   "source": [
    "### &#9989;&nbsp; 1.2 Question\n",
    "\n",
    "What is an example of an ODE that we’ve worked on in this class?"
   ]
  },
  {
   "cell_type": "markdown",
   "id": "3c2917ba-646e-4595-903c-5b098203333d",
   "metadata": {},
   "source": [
    "<font size=\"+3\">&#9998;</font> An example of an ODE that we worked on in class is the population equation "
   ]
  },
  {
   "cell_type": "markdown",
   "id": "26718fb3-1171-4683-9da4-f6168ca3052c",
   "metadata": {},
   "source": [
    "### &#9989;&nbsp; 1.3 Question\n",
    "\n",
    "Let’s say we’re working with some (mathematical) function $f(t)$ and the differential equation $\\frac{df}{dt}$. What does it mean if you have a large *positive* derivative? (i.e., $\\frac{df}{dt}$ is a very big positive number.) "
   ]
  },
  {
   "cell_type": "markdown",
   "id": "3d0197f4-9e1c-41af-9034-f51ea2f4779c",
   "metadata": {},
   "source": [
    "<font size=\"+3\">&#9998;</font> **Put your answer here**"
   ]
  },
  {
   "cell_type": "markdown",
   "id": "3d38e059-98d3-4c2e-a073-df0f5fd9845a",
   "metadata": {},
   "source": [
    "### &#9989;&nbsp; 1.4 Question\n",
    "\n",
    "What does it mean if you have a large *negative* derivative? (I.e., $\\frac{df}{dt}$ is a very big negative number.) "
   ]
  },
  {
   "cell_type": "markdown",
   "id": "93946397-efd0-4296-95ba-4d283e916109",
   "metadata": {},
   "source": [
    "<font size=\"+3\">&#9998;</font> It means that the function is decreasing by a large amount"
   ]
  },
  {
   "cell_type": "markdown",
   "id": "787b4e26",
   "metadata": {},
   "source": [
    "## 2. Introducing Numerical Integration with Python\n",
    "\n",
    "### Video\n",
    "\n",
    "### Watch this video on [Mediaspace](https://mediaspace.msu.edu/media/Rachel+Frisbie+%28she+her%29%27s+Zoom+Meeting/1_8det5gjq)"
   ]
  },
  {
   "cell_type": "markdown",
   "id": "ddaf32c5",
   "metadata": {},
   "source": [
    "### &#9989;&nbsp; 2.1 Question\n",
    "\n",
    "What is an update equation? What do you need for an update equation?"
   ]
  },
  {
   "cell_type": "markdown",
   "id": "d9a75618",
   "metadata": {},
   "source": [
    "<font size=\"+3\">&#9998;</font> Update equations calculate an estimate for the solution at a set time interval. You would need an update equation for when you don't have the exact equation."
   ]
  },
  {
   "cell_type": "markdown",
   "id": "a3f6bac8-b52b-4f34-b414-d58e5235b44a",
   "metadata": {},
   "source": [
    "### &#9989;&nbsp; 2.2 Question\n",
    "\n",
    "If we know the value of $x_1$ at time $t_1$, and we know the differential equation $\\frac{dx}{dt}$, how could we find the value of $x_2$ at time $t_2 = t_1 + \\Delta t$?"
   ]
  },
  {
   "cell_type": "markdown",
   "id": "29829c00-c7da-4d10-9447-048ea81721a5",
   "metadata": {},
   "source": [
    "<font size=\"+3\">&#9998;</font> x2 = x1 + dx/dt*1"
   ]
  },
  {
   "cell_type": "markdown",
   "id": "b901c1ea-38ec-4657-b90a-fe53860b756c",
   "metadata": {},
   "source": [
    "### &#9989;&nbsp; 2.3 Question\n",
    "\n",
    "In your own words, explain how you used the differential equation $\\frac{dx}{dt}$ to find the value $x_2$  in the previous question."
   ]
  },
  {
   "cell_type": "markdown",
   "id": "46c8471e-62c9-43f2-98e0-f8c58f3fd220",
   "metadata": {},
   "source": [
    "<font size=\"+3\">&#9998;</font> I found the value of x2 by adding the value of x1 to the differential equation's value of the next sequence."
   ]
  },
  {
   "cell_type": "markdown",
   "id": "a8735f51",
   "metadata": {},
   "source": [
    "### &#9989;&nbsp; 2.4 Question\n",
    "\n",
    "\n",
    "Look at the solution to the differential equation for population growth below with a timestep of 50 years. How might that change with a time step of 10 years? What about 100 years?\n",
    "\n",
    "<div align=\"center\">\n",
    "<img src=\"https://raw.githubusercontent.com/msu-cmse-courses/cmse201-S22-data/main/ezgif.com-gif-maker(1).gif\" alt=\"population-models-gif\" border=\"0\" width=\"500\" height=\"500\">\n",
    "\n",
    "</div>\n"
   ]
  },
  {
   "cell_type": "markdown",
   "id": "7eca44d7",
   "metadata": {},
   "source": [
    "If you change the time step to 10 years you would get a more accurate estimatations of the solutions."
   ]
  },
  {
   "cell_type": "markdown",
   "id": "9dd05390",
   "metadata": {},
   "source": [
    "## 3. The Population Growth Model\n",
    "\n",
    "Recall from the video that the ordinary differential equation describing population is:\n",
    "\n",
    "\\begin{equation}\n",
    "\\frac{dP}{dt} = kP\\Big(1-\\frac{P}{C}\\Big),\n",
    "\\end{equation}\n",
    "\n",
    "where $P =$ population, $k =$ growth rate, and $C =$ the carrying capacity. If we make our initial population be 1 billion and vary the other parameters, the solution $P(t)$ looks like the figures below.\n",
    "\n",
    "<div align=\"center\">\n",
    "<img src=\"https://raw.githubusercontent.com/msu-cmse-courses/cmse201-S22-data/main/Day-14/population_models_bigC.png\" alt=\"population-models-big-C\" border=\"0\">\n",
    "<img src=\"https://raw.githubusercontent.com/msu-cmse-courses/cmse201-S22-data/main/Day-14/population_models_littlek.png\" alt=\"population-models-littlek\" border=\"0\">\n",
    "</div>"
   ]
  },
  {
   "cell_type": "markdown",
   "id": "08fcc664",
   "metadata": {},
   "source": [
    "### &#9989;&nbsp; 3.1 Question\n",
    "\n",
    "What are the parameters of our population function? What value(s) change with time?"
   ]
  },
  {
   "cell_type": "markdown",
   "id": "e8e10948",
   "metadata": {},
   "source": [
    "<font size=\"+3\">&#9998;</font> The parameters of the population function are the growth rate and carrying capacity. The population is the value that changes with time."
   ]
  },
  {
   "cell_type": "markdown",
   "id": "7a56ae4e",
   "metadata": {},
   "source": [
    "### &#9989;&nbsp; 3.2 Question\n",
    "\n",
    "Look at the figure below showing different values of initial population $P_0$. How does the population growth change with different initial values?\n",
    "\n",
    "<div align=\"center\">\n",
    "<img src=\"https://raw.githubusercontent.com/msu-cmse-courses/cmse201-S22-data/main/population_vary_P0.png\" alt=\"population-models-big-C\" border=\"0\">\n",
    "</div>"
   ]
  },
  {
   "cell_type": "markdown",
   "id": "244714b8",
   "metadata": {},
   "source": [
    "<font size=\"+3\">&#9998;</font> It looks like for the last four lines the rate of change didn't really change, but the rate of change is slighly different for the first line."
   ]
  },
  {
   "cell_type": "markdown",
   "id": "756eb570",
   "metadata": {},
   "source": [
    "## 4. Coding the Derivative\n",
    "\n",
    "To do numerical integration for a model, we need to compute a new value for our solution for each time step using our previous value, the derivative, and the time step. Recall that we refer to these as **update equations**. To calculate the derivative at each time step for use in the update equations, we will use a function. The function must take in the current value of the solution, include any relevant constants, and return the value of the derivative.\n",
    "\n",
    "### &#9989;&nbsp; 4.1 Task\n",
    "In the cell below, fill in the `derivs` function with the appropriate inputs, outputs, and equation for the derivative of population with respect to time ($\\frac{dP}{dt}$ from Part 3)."
   ]
  },
  {
   "cell_type": "code",
   "execution_count": 5,
   "id": "eb729d50",
   "metadata": {},
   "outputs": [],
   "source": [
    "\n",
    "# Define a function that computes the derivatives\n",
    "def derivs(P0,k,C):\n",
    "    # Define any important constants here\n",
    "    \n",
    "    # Define the differential equation for population\n",
    "    diffeq = -k*P0*(1-(P0/C))\n",
    "    #return the derivative\n",
    "    return diffeq"
   ]
  },
  {
   "cell_type": "markdown",
   "id": "1ba690e7",
   "metadata": {},
   "source": [
    "### &#9989;&nbsp; 4.2 Task\n",
    "\n",
    "Now test your `derivs` function to see if it works by calling it with $P_0 = 1$ billion and assuming $k = 0.01$ and $C=12$ billion. You should get a value of about ~9170000."
   ]
  },
  {
   "cell_type": "code",
   "execution_count": 6,
   "id": "1967caee",
   "metadata": {},
   "outputs": [
    {
     "data": {
      "text/plain": [
       "-9166666.666666666"
      ]
     },
     "execution_count": 6,
     "metadata": {},
     "output_type": "execute_result"
    }
   ],
   "source": [
    "# Put your code here\n",
    "derivs(1000000000,0.01,12000000000)"
   ]
  },
  {
   "cell_type": "markdown",
   "id": "82baf998",
   "metadata": {},
   "source": [
    "### &#9989;&nbsp; 4.3 Questions\n",
    "\n",
    "What does the output of the `derivs` function mean? How could you use the output of the `derivs` function to calculate population values (I.e., $P(t)$)?"
   ]
  },
  {
   "cell_type": "markdown",
   "id": "8352baaa",
   "metadata": {},
   "source": [
    "<font size=\"+3\">&#9998;</font> The output of the derivs function means how drastically the P(t) is changing with respect to time. In our case, it is quite large and negative, therefore, the function itself is decresasing at a deep slope."
   ]
  },
  {
   "cell_type": "markdown",
   "id": "4c668c2b",
   "metadata": {},
   "source": [
    "### &#9989;&nbsp; 4.4 Task\n",
    "\n",
    "To get the solution for many time steps, we will need to use the derivative in a loop that calculates the values using update equations. In the cell below, write pseudocode that describes the structure of this loop. Be as detailed as you can!"
   ]
  },
  {
   "cell_type": "markdown",
   "id": "3380340a",
   "metadata": {},
   "source": [
    "<font size=\"+3\">&#9998;</font> \n",
    "\n",
    "for year in range(1,500,10): #going from year 1 to year 500 in steps of 10\n",
    "    derivs(1000000000,0.01,12000000000)\n"
   ]
  },
  {
   "cell_type": "markdown",
   "id": "f8fafb62",
   "metadata": {},
   "source": [
    "---\n",
    "## Assignment wrapup\n",
    "\n",
    "Please fill out the form that appears when you run the code below. **You must completely fill this out in order to receive credit for the assignment!** "
   ]
  },
  {
   "cell_type": "code",
   "execution_count": 7,
   "id": "e2ddcb7c",
   "metadata": {},
   "outputs": [
    {
     "data": {
      "text/html": [
       "\n",
       "<iframe \n",
       "\tsrc=\"https://cmse.msu.edu/cmse201-pc-survey\" \n",
       "\twidth=\"800px\" \n",
       "\theight=\"600px\" \n",
       "\tframeborder=\"0\" \n",
       "\tmarginheight=\"0\" \n",
       "\tmarginwidth=\"0\">\n",
       "\tLoading...\n",
       "</iframe>\n"
      ],
      "text/plain": [
       "<IPython.core.display.HTML object>"
      ]
     },
     "execution_count": 7,
     "metadata": {},
     "output_type": "execute_result"
    }
   ],
   "source": [
    "from IPython.display import HTML\n",
    "HTML(\n",
    "\"\"\"\n",
    "<iframe \n",
    "\tsrc=\"https://cmse.msu.edu/cmse201-pc-survey\" \n",
    "\twidth=\"800px\" \n",
    "\theight=\"600px\" \n",
    "\tframeborder=\"0\" \n",
    "\tmarginheight=\"0\" \n",
    "\tmarginwidth=\"0\">\n",
    "\tLoading...\n",
    "</iframe>\n",
    "\"\"\"\n",
    ")"
   ]
  },
  {
   "cell_type": "markdown",
   "id": "e5a4cf6f",
   "metadata": {},
   "source": [
    "### Congratulations, you're done!\n",
    "\n",
    "Submit this assignment by uploading it to the course Desire2Learn web page.  Go to the \"Pre-Class Assignments\" folder, find the appropriate submission link, and upload it there."
   ]
  },
  {
   "cell_type": "code",
   "execution_count": null,
   "id": "862d60c5",
   "metadata": {},
   "outputs": [],
   "source": []
  }
 ],
 "metadata": {
  "kernelspec": {
   "display_name": "Python 3 (ipykernel)",
   "language": "python",
   "name": "python3"
  },
  "language_info": {
   "codemirror_mode": {
    "name": "ipython",
    "version": 3
   },
   "file_extension": ".py",
   "mimetype": "text/x-python",
   "name": "python",
   "nbconvert_exporter": "python",
   "pygments_lexer": "ipython3",
   "version": "3.9.12"
  }
 },
 "nbformat": 4,
 "nbformat_minor": 5
}
