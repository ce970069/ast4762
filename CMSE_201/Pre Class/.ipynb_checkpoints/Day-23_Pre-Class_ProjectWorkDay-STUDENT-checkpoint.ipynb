{
 "cells": [
  {
   "cell_type": "markdown",
   "id": "2b48b787",
   "metadata": {},
   "source": [
    "# Day 23 Pre-class: Project Update Preparation"
   ]
  },
  {
   "cell_type": "markdown",
   "id": "b3a5b289",
   "metadata": {},
   "source": [
    "### <p style=\"text-align: right;\"> &#9989; Cesarine Graham</p>"
   ]
  },
  {
   "cell_type": "markdown",
   "id": "9765f066",
   "metadata": {},
   "source": [
    "### Goals for this pre-class assignment\n",
    "\n",
    "* Spend time working on your semester project\n",
    "* Prepapre a short (1-2 slides) update on your project for your group members\n",
    "\n",
    "### Assignment instructions\n",
    "\n",
    "The submitted work for this pre-class assignment is minimal. However, you should spend at least ~2-3 hours working on making progress on your semester project. \n",
    "\n",
    "**Prior to class, you should submit your 1-2 slides update** to the appropriate \"Pre-class assignments\" submission folder.  Submission instructions can be found at the end of the notebook."
   ]
  },
  {
   "cell_type": "markdown",
   "id": "6b2cac61",
   "metadata": {},
   "source": [
    "## Instructions for Slides\n",
    "\n",
    "Fro this assignment, you need to create 1-2 slides with a project update for your group members. Those slides should contain the collowing:\n",
    "\n",
    "* Your research question\n",
    "* A summary of what you have done so far (data cleaning, analysis, model coded, etc.)\n",
    "* At least one challenge you have faced\n",
    "* A plan for completing your proejct by the deadline"
   ]
  },
  {
   "cell_type": "markdown",
   "id": "5acf31bf",
   "metadata": {},
   "source": [
    "---\n",
    "## Assignment wrap-up\n",
    "Please fill out the form that appears when you run the code below. You must completely fill this out in order to receive credit for the assignment!"
   ]
  },
  {
   "cell_type": "code",
   "execution_count": 1,
   "id": "d9137a3d",
   "metadata": {},
   "outputs": [
    {
     "data": {
      "text/html": [
       "\n",
       "<iframe \n",
       "\tsrc=\"https://cmse.msu.edu/cmse201-pc-survey\" \n",
       "\twidth=\"800\" \n",
       "\theight=\"600\" \n",
       "\tframeborder=\"0\" \n",
       "\tmarginheight=\"0\" \n",
       "\tmarginwidth=\"0\">\n",
       "\tLoading...\n",
       "</iframe>\n"
      ],
      "text/plain": [
       "<IPython.core.display.HTML object>"
      ]
     },
     "execution_count": 1,
     "metadata": {},
     "output_type": "execute_result"
    }
   ],
   "source": [
    "from IPython.display import HTML\n",
    "HTML(\n",
    "\"\"\"\n",
    "<iframe \n",
    "\tsrc=\"https://cmse.msu.edu/cmse201-pc-survey\" \n",
    "\twidth=\"800\" \n",
    "\theight=\"600\" \n",
    "\tframeborder=\"0\" \n",
    "\tmarginheight=\"0\" \n",
    "\tmarginwidth=\"0\">\n",
    "\tLoading...\n",
    "</iframe>\n",
    "\"\"\"\n",
    ")"
   ]
  },
  {
   "cell_type": "markdown",
   "id": "951a5689",
   "metadata": {},
   "source": [
    "### Congratulations, you're done!\n",
    "\n",
    "Submit this assignment by uploading your slides to the course D2L web page.  Go to the \"Pre-class assignments\" folder, find the appropriate submission link, and upload them there."
   ]
  },
  {
   "cell_type": "markdown",
   "id": "f0c3b0b2",
   "metadata": {},
   "source": [
    "&#169; Copyright 2022,  Michigan State University Board of Trustees"
   ]
  }
 ],
 "metadata": {
  "kernelspec": {
   "display_name": "Python 3 (ipykernel)",
   "language": "python",
   "name": "python3"
  },
  "language_info": {
   "codemirror_mode": {
    "name": "ipython",
    "version": 3
   },
   "file_extension": ".py",
   "mimetype": "text/x-python",
   "name": "python",
   "nbconvert_exporter": "python",
   "pygments_lexer": "ipython3",
   "version": "3.9.12"
  }
 },
 "nbformat": 4,
 "nbformat_minor": 5
}
