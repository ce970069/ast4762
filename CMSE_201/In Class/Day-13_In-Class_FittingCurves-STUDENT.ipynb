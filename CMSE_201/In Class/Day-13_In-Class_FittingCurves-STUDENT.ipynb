{
 "cells": [
  {
   "cell_type": "markdown",
   "metadata": {},
   "source": [
    "# Day 13 In-Class Assignment: (Thoughtfully) fitting models to data \n",
    "---"
   ]
  },
  {
   "cell_type": "markdown",
   "metadata": {},
   "source": [
    "### <p style=\"text-align: right;\"> &#9989; Cesarine Graham</p>\n",
    "\n",
    "#### <p style=\"text-align: right;\"> &#9989; Tori, Allison, Olivia, Bella</p>"
   ]
  },
  {
   "cell_type": "markdown",
   "metadata": {},
   "source": [
    "In this assignment we're going to look at how we might use a meaningful model to understand data.\n",
    "\n",
    "The **learning goals** of the assignment are to:\n",
    "\n",
    "* Discuss the role that models play in our understanding of the world around us and how models can be used to make predictions.\n",
    "* Practice using the NumPy `curve_fit()` function to fit a specific model to data\n",
    "* Interpret the results of our best fit model\n",
    "* Use our best fit model to calculate new values and forecast future behavior\n",
    "\n",
    "### Assignment instructions\n",
    "\n",
    "Work with your group to complete this assignment. Instructions for submitting this assignment are at the end of the notebook. The assignment is due at the end of class."
   ]
  },
  {
   "cell_type": "markdown",
   "metadata": {},
   "source": [
    "---\n",
    "## 1. Thinking about models and how they help us understand the world around us\n",
    "\n",
    "&#9989;&nbsp; **In your groups**, take turns providing examples of previous experiences you've had that involved a model (or models) of one form other another. These can be experiences from current or prior courses (outside of CMSE 201!) or experiences from your personal life or from work.\n",
    "\n",
    "When sharing your example, **you should**:\n",
    "* Explain the real-world context of the model and what the basic components of the model are.\n",
    "* Identify and explain any assumptions that are built into the model or limitations of the model (i.e. where might the model breakdown?).\n",
    "\n",
    "For example: I have a model for how my retirement savings will grow as a function of time and I can use this model to predict how much money I will have when I retire or to understand how early I might be able to retire given the financial needs I will have during my retirement. Assumptions that are built into my retirement model include things like the health of the economy over time and how much money (if any) I might receive from social security when I retire. The accuracy of my model is only as good as the assumptions I base it off of.\n",
    "\n",
    "&#9989;&nbsp; **Record the details you shared with your group in the cell below**. There will be an opportunity to share out some of these examples as a class."
   ]
  },
  {
   "cell_type": "markdown",
   "metadata": {},
   "source": [
    "<font size=+3>&#9998;</font> Using models for research and research papers. Statistical models for the pass rates of classes. Average rating for an app assignment. "
   ]
  },
  {
   "cell_type": "markdown",
   "metadata": {},
   "source": [
    "---\n",
    "## 2. Using Python to fit specific models to data\n",
    "\n",
    "In the section that follows, we will practice using Python to fit a model to provided data. When doing so, it is important to think about whether or not these model fits the data well and what information about the data is provided by the model we use."
   ]
  },
  {
   "cell_type": "markdown",
   "metadata": {},
   "source": [
    "### Revisiting population growth\n",
    "\n",
    "In a previous in-class assignment you created a function **based on a model** to project population growth as a function of time based on an initial population, a carry capacity, and a growth rate coefficient. Let's quickly revisit the mathematical logistic growth model for growth of a population:\n",
    "\n",
    "$$P(t) = \\frac{C}{1 + Ae^{-kt}}$$\n",
    "\n",
    "where \n",
    "\n",
    "$$A = \\frac{C-P_{init}}{P_{init}}$$\n",
    "\n",
    "The variable $C$ represents the *carrying capacity* of the population, which is the maximum population that the environment can sustain, and $k$ is the relative growth rate coefficient (the larger $k$ is, the faster the population will grow initially). $P_{init}$ is the initial value of the population at $t=0$.\n",
    "\n",
    "#### Understanding a logistic growth model\n",
    "\n",
    "Here are several logistic growth models for when the initial population, $P_{init}$, is **1 billion** but the the carrying capacity, $C$, and the growth rate coefficient, $k$, are varied.\n",
    "\n",
    "The **first** plot on the keeps $P_{init}$ and $k$ fixed while changing $C$, and the **second** plot on the keeps $P_{init}$ and $C$ fixed while changing $k$.\n",
    "\n",
    "<div align=\"center\">\n",
    "<img src=\"https://raw.githubusercontent.com/msu-cmse-courses/cmse201-S22-data/main/Day-14/population_models_bigC.png\" alt=\"population-models-big-C\" border=\"0\">\n",
    "<img src=\"https://raw.githubusercontent.com/msu-cmse-courses/cmse201-S22-data/main/Day-14/population_models_littlek.png\" alt=\"population-models-littlek\" border=\"0\">\n",
    "</div>\n",
    "\n",
    "&#9989;&nbsp; Questions to make sure you **answer with your group**:\n",
    "1. What is the impact of $P_{init}$, the initial population, in the model? How would the curves change if you changed this value?\n",
    "1. What is the impact of $C$, the carrying capacity, in the model? How does this parameter control the shape of the curves in the plot above?\n",
    "2. What is the impact of $k$, the growth rate coefficient, in the model? How does this parameter control the shape of the curves in the plot above?\n",
    "\n",
    "Pay special attention to the values for the parameters that made these curves -- they may useful in the next part of the activity!"
   ]
  },
  {
   "cell_type": "markdown",
   "metadata": {},
   "source": [
    "<font size=+3>&#9998;</font> The initial population in the model impacts where the graph starts. The carrying capacity impacts the upper limit of the function. The growth rate impacts the rate of change of the graph."
   ]
  },
  {
   "cell_type": "markdown",
   "metadata": {},
   "source": [
    "#### Can we use this model to understand some population data?\n",
    "\n",
    "In the file, `pop200.csv`, you'll find some data for 200 years of population growth for an unknown civilization.\n",
    "\n",
    "&#9989;&nbsp; Your goal is to **work with your group** to determine if the population growth model presented above is a good approximation for the data that we’ve provided you and what the best fit parameters for that model are:\n",
    "\n",
    "1. Load the data into your Jupyter notebook and make a plot of the **data alone**. Visualizing your data is always a good first step!\n",
    "2. Create function for calculating population as a function of time using the mathematical model provided above.\n",
    "    - Your function needs to take the following arguments in the following order: an array of time values; the initial population, $P_{init}$; the carrying capacity, $C$; and the growth rate coefficient, $k$.\n",
    "    - Your function needs to **return** an array of the population values.\n",
    "    - For reference, here is the mathematical representation of the function again:\n",
    "    $$P(t) = \\frac{C}{1 + Ae^{-kt}}$$\n",
    "\n",
    "    where \n",
    "\n",
    "    $$A = \\frac{C-P_{init}}{P_{init}}$$\n",
    "3. Use SciPy's [`curve_fit()`](https://docs.scipy.org/doc/scipy/reference/generated/scipy.optimize.curve_fit.html) function to determine a best fit set of model parameters using your function and the provided data.\n",
    "    - When you first try running `curve_fit()`, you might get a warning and you might get results that don't make sense. Sometimes `curve_fit()` will fail to find a good fit if the initial guess for the best fit parameters is too far off. How would you fix this? Look at the [documentation for `curve_fit`](https://docs.scipy.org/doc/scipy/reference/generated/scipy.optimize.curve_fit.html), especially the `p0` argument, and see if you and your group can figure out how to overcome this issue. What might be reasonable starting guesses for the initial populuation and the carrying capacity? **Hint**: revisit the plot from above and the parameters that were used to make those models.\n",
    "4. Make a plot of the data as well as a expected values based on your best fit model parameters.\n",
    "    - Your plot should plot population (in billions) on the y-axis and time (in years) on the x-axis. Make sure you include appropriate axis labels.\n",
    "    - Your plot should use a legend to identify what parts of the plot constitute the data and what part represents the expected values from your model."
   ]
  },
  {
   "cell_type": "code",
   "execution_count": 38,
   "metadata": {},
   "outputs": [
    {
     "name": "stdout",
     "output_type": "stream",
     "text": [
      "[1.05555896e+09 1.15288885e+10 1.99605458e-02]\n"
     ]
    },
    {
     "data": {
      "text/plain": [
       "<matplotlib.legend.Legend at 0x29bd22f5370>"
      ]
     },
     "execution_count": 38,
     "metadata": {},
     "output_type": "execute_result"
    },
    {
     "data": {
      "image/png": "[encoded data removed]",
      "text/plain": [
       "<Figure size 432x288 with 1 Axes>"
      ]
     },
     "metadata": {
      "needs_background": "light"
     },
     "output_type": "display_data"
    }
   ],
   "source": [
    "# Put your code here. Create additional code cells as is useful for necessary\n",
    "import pandas as pd\n",
    "import matplotlib.pyplot as plt\n",
    "import numpy as np\n",
    "import math\n",
    "from scipy.optimize import curve_fit\n",
    "%matplotlib inline\n",
    "\n",
    "def growth_of_population(year, P0, C, k):\n",
    "    P = (C / (1 + ((C - P0) / P0)*np.exp(-(k)*(year - year[0]))))\n",
    "    return P\n",
    "\n",
    "pop200 = pd.read_csv(\"pop200.csv\", skiprows=0, delimiter=',')\n",
    "\n",
    "plt.scatter(pop200[\"time\"],pop200[\"population\"])\n",
    "plt.xlabel('time (years)')\n",
    "plt.ylabel('population (billions)')\n",
    "\n",
    "best_fit_parameters, ignore = curve_fit(growth_of_population, pop200[\"time\"], \n",
    "                                        pop200[\"population\"], p0 = [1191119990, (1e10), 0.015])\n",
    "print(best_fit_parameters)\n",
    "\n",
    "P0_fit = best_fit_parameters[0]\n",
    "C_fit = best_fit_parameters[1]\n",
    "k_fit = best_fit_parameters[2]\n",
    "\n",
    "population_fit = growth_of_population(pop200['time'],P0_fit, C_fit, k_fit)\n",
    "\n",
    "plt.plot(pop200['time'], population_fit, color = \"orange\", label = \"fit\")\n",
    "plt.legend()"
   ]
  },
  {
   "cell_type": "markdown",
   "metadata": {},
   "source": [
    "#### Interpreting your results and using your model to calculate expected values.\n",
    "\n",
    "&#9989;&nbsp; Now that you've modeled the data using your logistic growth model, use your results to answers the following questions.\n",
    "\n",
    "1. What does your model estimate as being the initial population for this civilization?\n",
    "2. What does your model estimate as being the carry capacity of the population?\n",
    "3. Using your model and the best fit parameters, calculate the expected population for this civilization at:\n",
    "    - 177 years\n",
    "    - 256 years\n",
    "\n",
    "Ask your group for help if you're not sure how to find these answers.\n",
    "\n"
   ]
  },
  {
   "cell_type": "markdown",
   "metadata": {},
   "source": [
    "<font size=+3>&#9998;</font> \n",
    "\n",
    "\n",
    "The model estimated initial population of the civilization to be 1.05555896e+09. \n",
    "\n",
    "The model estimated the carry capacity to be 1.15288885e+10.\n",
    "\n",
    "177 years: 8937887690.758736\n",
    "\n",
    "256 years: 10877372592.972935"
   ]
  },
  {
   "cell_type": "code",
   "execution_count": 39,
   "metadata": {},
   "outputs": [
    {
     "name": "stdout",
     "output_type": "stream",
     "text": [
      "8937887690.758736\n",
      "10877372592.972935\n"
     ]
    }
   ],
   "source": [
    "# Or use code to print out your answers\n",
    "def calc_pop(year, P0, C, k):\n",
    "    P = (C / (1 + ((C - P0) / P0)*np.exp(-(k)*(year))))\n",
    "    return P\n",
    "print(calc_pop(177, 1.05555896e+09, 1.15288885e+10, 1.99605458e-02))\n",
    "print(calc_pop(256, 1.05555896e+09, 1.15288885e+10, 1.99605458e-02))"
   ]
  },
  {
   "cell_type": "markdown",
   "metadata": {},
   "source": [
    "#### Using your model to forecast future values\n",
    "\n",
    "&#9989;&nbsp; Using your model and the best-fit parameters, generate a new plot that shows the expected values for **every year for the first 300 years** of the civilization. Overplot the data you have for the first 200 years of growth.\n",
    "\n",
    "\n"
   ]
  },
  {
   "cell_type": "code",
   "execution_count": 44,
   "metadata": {},
   "outputs": [
    {
     "data": {
      "text/plain": [
       "<matplotlib.legend.Legend at 0x29bd4e83a60>"
      ]
     },
     "execution_count": 44,
     "metadata": {},
     "output_type": "execute_result"
    },
    {
     "data": {
      "image/png": "[encoded data removed]",
      "text/plain": [
       "<Figure size 432x288 with 1 Axes>"
      ]
     },
     "metadata": {
      "needs_background": "light"
     },
     "output_type": "display_data"
    }
   ],
   "source": [
    "# Put your code here\n",
    "years_300 = np.arange(0,301,1)\n",
    "\n",
    "population_fit = growth_of_population(years_300,P0_fit, C_fit, k_fit)\n",
    "\n",
    "plt.scatter(pop200['time'],pop200['population'])\n",
    "plt.plot(years_300, population_fit, color = \"orange\", label = \"fit\")\n",
    "plt.legend()"
   ]
  },
  {
   "cell_type": "markdown",
   "metadata": {},
   "source": [
    "#### Comparing forecasted values to new data\n",
    "\n",
    "&#9989;&nbsp; Now that you've predicted the growth of the population for a full 300 years, grab the `pop300.csv` data file which contains the most recent data available for this civilization, read it into your notebook and plot it along with your expected values."
   ]
  },
  {
   "cell_type": "code",
   "execution_count": 46,
   "metadata": {},
   "outputs": [
    {
     "data": {
      "text/plain": [
       "<matplotlib.legend.Legend at 0x29bcd7ec5e0>"
      ]
     },
     "execution_count": 46,
     "metadata": {},
     "output_type": "execute_result"
    },
    {
     "data": {
      "image/png": "[encoded data removed]",
      "text/plain": [
       "<Figure size 432x288 with 1 Axes>"
      ]
     },
     "metadata": {
      "needs_background": "light"
     },
     "output_type": "display_data"
    }
   ],
   "source": [
    "# Put your code here\n",
    "\n",
    "pop300 = pd.read_csv(\"pop300.csv\", skiprows=0, delimiter=',')\n",
    "\n",
    "plt.scatter(pop300[\"time\"],pop300[\"population\"])\n",
    "plt.scatter(pop200['time'],pop200['population'])\n",
    "plt.plot(years_300, population_fit, color = \"purple\", label = \"fit\")\n",
    "plt.legend()\n"
   ]
  },
  {
   "cell_type": "markdown",
   "metadata": {},
   "source": [
    "&#9989;&nbsp; **Question**: Do you still feel like the model is a good fit to the population data for this civilization? Explain why or why not. Are their any parameters of your model that seem particularly inaccurate given the new data?"
   ]
  },
  {
   "cell_type": "markdown",
   "metadata": {},
   "source": [
    "<font size=+3>&#9998;</font> The model is a good fit to the population data for this civilization. The carrying capacity of the data is slightly off but its okie. bryan said it was perfect :)"
   ]
  },
  {
   "cell_type": "markdown",
   "metadata": {},
   "source": [
    "#### Updating your model based on new data\n",
    "\n",
    "Regardless of whether or not you think your current model is a good fit to the data, it's always worth checking to see if the new data provides a different set of best fit parameters. Folks who build and use models to understand the world around them are constantly using new data to revise and improve their models.\n",
    "\n",
    "&#9989;&nbsp; Try recalibrating your best fit parameters by running `curve_fit` on the new data you've been provided. Then answer the following questions:\n",
    "1. Which parameter(s) changed the most when you re-fit your model to the data?\n",
    "2. Do any shifts you find in the parameter values agree with your \"by eye\" assessment of how well the model fit the data? Explain why or why not."
   ]
  },
  {
   "cell_type": "code",
   "execution_count": 51,
   "metadata": {},
   "outputs": [
    {
     "name": "stdout",
     "output_type": "stream",
     "text": [
      "[1.10137006e+09 1.19986504e+10 1.91181243e-02]\n"
     ]
    }
   ],
   "source": [
    "# Put your code here\n",
    "new_best_fit_parameters, ignore = curve_fit(growth_of_population, pop300[\"time\"], \n",
    "                                        pop300[\"population\"], p0 = [1191119990, (1e10), 0.015])\n",
    "print(new_best_fit_parameters)\n",
    "\n",
    "new_P0_fit = new_best_fit_parameters[0]\n",
    "new_C_fit = new_best_fit_parameters[1]\n",
    "new_k_fit = new_best_fit_parameters[2]"
   ]
  },
  {
   "cell_type": "markdown",
   "metadata": {},
   "source": [
    "<font size=+3>&#9998;</font> the carrying capacity went up"
   ]
  },
  {
   "cell_type": "markdown",
   "metadata": {},
   "source": [
    "&#9989;&nbsp; Now that you have a new set of best fit parameters, make one final plot that shows the true glory of your expected model values along with the full set of data."
   ]
  },
  {
   "cell_type": "code",
   "execution_count": 53,
   "metadata": {},
   "outputs": [
    {
     "data": {
      "text/plain": [
       "<matplotlib.legend.Legend at 0x29bd4f9ec10>"
      ]
     },
     "execution_count": 53,
     "metadata": {},
     "output_type": "execute_result"
    },
    {
     "data": {
      "image/png": "[encoded data removed]",
      "text/plain": [
       "<Figure size 432x288 with 1 Axes>"
      ]
     },
     "metadata": {
      "needs_background": "light"
     },
     "output_type": "display_data"
    }
   ],
   "source": [
    "# Put your code here.\n",
    "\n",
    "plt.scatter(pop300[\"time\"],pop300[\"population\"])\n",
    "new_population_fit = growth_of_population(pop300['time'],new_P0_fit, new_C_fit, new_k_fit)\n",
    "plt.plot(pop300['time'], new_population_fit, color = \"orange\", label = \"fit\")\n",
    "plt.legend()"
   ]
  },
  {
   "cell_type": "markdown",
   "metadata": {},
   "source": [
    "---\n",
    "## Assignment wrapup\n",
    "\n",
    "Please fill out the form that appears when you run the code below. **You must completely fill this out in order to receive credit for the assignment!** "
   ]
  },
  {
   "cell_type": "code",
   "execution_count": 7,
   "metadata": {},
   "outputs": [
    {
     "data": {
      "text/html": [
       "\n",
       "<iframe \n",
       "\tsrc=\"https://cmse.msu.edu/cmse201-ic-survey\" \n",
       "\twidth=\"800px\" \n",
       "\theight=\"600px\" \n",
       "\tframeborder=\"0\" \n",
       "\tmarginheight=\"0\" \n",
       "\tmarginwidth=\"0\">\n",
       "\tLoading...\n",
       "</iframe>\n"
      ],
      "text/plain": [
       "<IPython.core.display.HTML object>"
      ]
     },
     "execution_count": 7,
     "metadata": {},
     "output_type": "execute_result"
    }
   ],
   "source": [
    "from IPython.display import HTML\n",
    "HTML(\n",
    "\"\"\"\n",
    "<iframe \n",
    "\tsrc=\"https://cmse.msu.edu/cmse201-ic-survey\" \n",
    "\twidth=\"800px\" \n",
    "\theight=\"600px\" \n",
    "\tframeborder=\"0\" \n",
    "\tmarginheight=\"0\" \n",
    "\tmarginwidth=\"0\">\n",
    "\tLoading...\n",
    "</iframe>\n",
    "\"\"\"\n",
    ")"
   ]
  },
  {
   "cell_type": "markdown",
   "metadata": {},
   "source": [
    "---"
   ]
  },
  {
   "cell_type": "markdown",
   "metadata": {},
   "source": [
    "## Congratulations, you're done!\n",
    "\n",
    "Submit this assignment by uploading your notebook to the course Desire2Learn web page.  Go to the \"In-Class Assignments\" folder, find the appropriate submission link, and upload everything there. Make sure your name is on it!"
   ]
  },
  {
   "cell_type": "markdown",
   "metadata": {},
   "source": [
    "&#169; Copyright 2021,  [Department of Computational Mathematics, Science and Engineering](https://cmse.msu.edu) at Michigan State University."
   ]
  },
  {
   "cell_type": "code",
   "execution_count": null,
   "metadata": {},
   "outputs": [],
   "source": []
  }
 ],
 "metadata": {
  "kernelspec": {
   "display_name": "Python 3 (ipykernel)",
   "language": "python",
   "name": "python3"
  },
  "language_info": {
   "codemirror_mode": {
    "name": "ipython",
    "version": 3
   },
   "file_extension": ".py",
   "mimetype": "text/x-python",
   "name": "python",
   "nbconvert_exporter": "python",
   "pygments_lexer": "ipython3",
   "version": "3.9.12"
  }
 },
 "nbformat": 4,
 "nbformat_minor": 4
}
