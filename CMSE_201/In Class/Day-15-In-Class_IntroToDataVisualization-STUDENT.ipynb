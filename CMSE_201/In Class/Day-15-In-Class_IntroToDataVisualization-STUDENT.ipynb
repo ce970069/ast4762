{
 "cells": [
  {
   "cell_type": "markdown",
   "id": "be62e6f5-875c-406c-a2b0-45612ba42157",
   "metadata": {},
   "source": [
    "# Day 15 In-Class: Introduction to Data Visualization"
   ]
  },
  {
   "cell_type": "markdown",
   "id": "61d562b0-a552-43f6-b148-af533d79af57",
   "metadata": {},
   "source": [
    "### <p style=\"text-align: right;\"> &#9989; Cesarine Graham</p>"
   ]
  },
  {
   "cell_type": "markdown",
   "id": "789a70a8-7a2c-4e89-bd08-4c40a03bac6a",
   "metadata": {},
   "source": [
    "## Learning Goals:\n",
    "\n",
    "By the end of this assignment, you should be able to:\n",
    "- Compare and evaluate plots"
   ]
  },
  {
   "cell_type": "markdown",
   "id": "f80061ca-6fed-4bff-ac16-d01bff94ed94",
   "metadata": {},
   "source": [
    "## Introduction\n",
    "\n",
    "The goal of this assignment is for you and your group to make a compelling plot that is both descriptive and easy to understand. What's more, your plot should **tell a story.** This is meant to be a test run of the skills you'll be expected to demonstrate for the semester project.\n",
    "\n",
    "In the pre-class assignment, you were tasked with making a relevant plot for your semester project. In today's assignment, you will be:\n",
    "1. Sharing your plot with your group\n",
    "1. Picking (as a group) one plot\n",
    "1. Improving the plot according to the rubric listed in part 3.\n",
    "1. Sharing your plot and competing with your classmates for the best figure."
   ]
  },
  {
   "cell_type": "markdown",
   "id": "993132d5-842f-467e-8665-731908137987",
   "metadata": {},
   "source": [
    "## 1. Sharing out with your group\n",
    "\n",
    "#### &#9989;&nbsp; **TASK** As a group, take turns sharing your plots with one another."
   ]
  },
  {
   "cell_type": "markdown",
   "id": "b23312cc-725d-4b29-be13-478a2dab2add",
   "metadata": {},
   "source": [
    "olivia - rollercoaster scatter plot\n",
    "\n",
    "bella - heat map\n",
    "\n",
    "allie - diamond density\n",
    "\n",
    "me - penguino scatter plot\n",
    "\n",
    "tori - car circle thing?"
   ]
  },
  {
   "cell_type": "markdown",
   "id": "9e8bddd8-41dc-4e97-bcb9-e7c8cc14c68c",
   "metadata": {},
   "source": [
    "## 2. Picking one plot to work with\n",
    "\n",
    "#### &#9989;&nbsp; **TASK** As a group, pick one of the plots to work with. You will be scored using the rubric given in the next section, so it may be worthwhile to read ahead before making your choice."
   ]
  },
  {
   "cell_type": "markdown",
   "id": "a5b38152-e877-44d1-a68d-f08c2570d370",
   "metadata": {},
   "source": [
    "## 3. Create an Effective Plot\n",
    "\n",
    "#### &#9989;&nbsp; **TASK** As a group, you will need to make an informative and easy-to-understand plot. Near the end of class, you will present your figure. The presentation will be a competition between the different groups to determine the best plot.\n",
    "\n",
    "### You will be scored by your peers based on the following rubric:\n",
    "1. **Does the plot tell a story? (8 Points)** \n",
    "1. **No wasted space (3 points)**\n",
    "1. **Labels, legend, and title are informative without cluttering (2 points)**\n",
    "1. **Multi-variable Data (2 points)**\n",
    "\n",
    "**Total: 15 Points**\n",
    "\n",
    "### 1. Does the plot tell a story? (8 Points) \n",
    "\n",
    "Your plot should be able to stand on its own and inform/convince people of your point. \n",
    "\n",
    "#### **The first ~60-90 seconds of your presentation will be silent; your classmates will look at your plot and try to determine its story.** \n",
    "After this silent part, you will tell the class what point you were trying to get across. Your classmates will then compare your explanation to their interpretation and determine how well your plot told its story.\n",
    "\n",
    "### 2. No wasted space (3 points)\n",
    "\n",
    "You only have a finite amount of space on a projector screen, so you want to make sure that every square inch of your plot conveys information. Let's look at an example from Day 13, where we looked at Cocoa exports.\n",
    "\n",
    "<img src=\"https://github.com/msu-cmse-courses/cmse201-S22-data/blob/main/Day-13_NEW/Linear_Plot_Cocoa_Beans_Export.jpg?raw=true\" width=1000px>\n",
    "\n",
    "\n",
    "\n",
    "The problem that we run into here is a considerable amount of wasted space. Most countries export a substantially smaller amount than the countries along the west coast of Africa. Our plot is massive, but we're getting information from ~20%, which is bad. \n",
    "\n",
    "\n",
    "One possible way of dealing with this issue is to change the y-scale to log, which allows you to see information about all of the other countries. \n",
    "\n",
    "<img src=\"https://github.com/msu-cmse-courses/cmse201-S22-data/blob/main/Day-13_NEW/Log_Plot_Cocoa_Beans_Export.jpg?raw=true\" width=1000px>\n",
    "\n",
    "The trade-off is that unless you know that your audience might not be as comfortable with reading/interpreting log plots, it's functionally useless if no one can understand your plot. You will need to decide what works best for your plot.\n",
    "\n",
    "\n",
    "\n",
    "### 3. Labels, legend, and title are informative without cluttering (2 points)\n",
    "\n",
    "The x/y labels, legend, and title are the tools you will use to give your audience context, making them crucial for a well-made plot. \n",
    "\n",
    "Let's again look at the Cocoa bean export plot from above. Our title is a good descriptive summary that isn't taking up too much space. We run into trouble when we try to add too much description, and we end up taking up a lot of space, potentially in attempting to be a little too on the nose with the story of our plot. \n",
    "\n",
    "<img src=\"https://github.com/msu-cmse-courses/cmse201-S22-data/blob/main/Day-20/Cluttered_Plot_Cocoa_Beans_Export.jpg?raw=true\" width=1000px>\n",
    "\n",
    "Aside from being aesthetically displeasing, too much space is being taken up by text. You want your text to balance giving enough information without becoming the center of attention. We want the eyes to be drawn to the plot first and then look at the text to get context; in this case, it's not clear where we should focus our eyes. \n",
    "\n",
    "\n",
    "### 4. Multi-variable Data (2 points)\n",
    "\n",
    "**NOTE: You do not need to have multi-variable data. There is just more points for this kind of plot)**\n",
    "\n",
    "It will often be the case that you'll be dealing with data with multiple dimensions that could be important. In this case, it's important to find a way to include all of the different variables in your plot so that the reader can see all factors in play.\n",
    "\n",
    "Let's take a look at the figure from the pre-class assignment. \n",
    "\n",
    "\n",
    "\n",
    "\n",
    "<p align=\"center\">\n",
    "    <img src=\"https://github.com/msu-cmse-courses/cmse201-S22-data/blob/main/Day-20/USA_Gas_Guzzlers.jpg?raw=true\" width=500px>\n",
    "</p>\n",
    "\n",
    "In this figure, we're currently displaying four variables: MPG, Horsepower, Country of Origin, and Weight. This is an excellent example of a plot that has little to no wasted space, has informative text that isn't drawing attention away from the figure, and shows all relevant variables. The figure above is the kind of plot you should be aiming for. \n",
    "\n",
    "\n"
   ]
  },
  {
   "cell_type": "markdown",
   "id": "bf5a0c28-645c-41ea-853b-8c76b4e70af4",
   "metadata": {},
   "source": [
    "## 4. Present your plot to the rest of the class\n",
    "\n",
    "#### &#9989;&nbsp; **TASK** As a group, you will present your plot to the rest of class. Your instructor should have shared a Google Slides presentation with you. When you aren't presenting you will score your classmates plots using [**this score sheet.**](https://forms.office.com/r/q6J8vjeYCB) Please fill out one for each group. "
   ]
  },
  {
   "cell_type": "markdown",
   "id": "ef64bb3e-5591-4c8a-b692-b66b2c33130d",
   "metadata": {},
   "source": [
    "---\n",
    "## Assignment wrapup\n",
    "\n",
    "Please fill out the form that appears when you run the code below. **You must completely fill this out in order to receive credit for the assignment!** "
   ]
  },
  {
   "cell_type": "code",
   "execution_count": 1,
   "id": "559c4f92-ffe8-4810-85f8-e59f58c238c5",
   "metadata": {},
   "outputs": [
    {
     "data": {
      "text/html": [
       "\n",
       "<iframe \n",
       "\tsrc=\"https://cmse.msu.edu/cmse201-ic-survey\" \n",
       "\twidth=\"800px\" \n",
       "\theight=\"600px\" \n",
       "\tframeborder=\"0\" \n",
       "\tmarginheight=\"0\" \n",
       "\tmarginwidth=\"0\">\n",
       "\tLoading...\n",
       "</iframe>\n"
      ],
      "text/plain": [
       "<IPython.core.display.HTML object>"
      ]
     },
     "execution_count": 1,
     "metadata": {},
     "output_type": "execute_result"
    }
   ],
   "source": [
    "from IPython.display import HTML\n",
    "HTML(\n",
    "\"\"\"\n",
    "<iframe \n",
    "\tsrc=\"https://cmse.msu.edu/cmse201-ic-survey\" \n",
    "\twidth=\"800px\" \n",
    "\theight=\"600px\" \n",
    "\tframeborder=\"0\" \n",
    "\tmarginheight=\"0\" \n",
    "\tmarginwidth=\"0\">\n",
    "\tLoading...\n",
    "</iframe>\n",
    "\"\"\"\n",
    ")"
   ]
  },
  {
   "cell_type": "markdown",
   "id": "235cafb4-1b13-4380-b820-099e7e5948aa",
   "metadata": {},
   "source": [
    "## Congratulations, you're done!\n",
    "\n",
    "Submit this assignment by uploading your notebook to the course Desire2Learn web page.  Go to the \"In-Class Assignments\" folder, find the appropriate submission link, and upload it there. Make sure your name is on it.\n",
    "\n",
    "See you next class!"
   ]
  },
  {
   "cell_type": "code",
   "execution_count": null,
   "id": "2d60dd23-1e97-4e0f-9a58-a881406e4988",
   "metadata": {},
   "outputs": [],
   "source": []
  }
 ],
 "metadata": {
  "kernelspec": {
   "display_name": "Python 3 (ipykernel)",
   "language": "python",
   "name": "python3"
  },
  "language_info": {
   "codemirror_mode": {
    "name": "ipython",
    "version": 3
   },
   "file_extension": ".py",
   "mimetype": "text/x-python",
   "name": "python",
   "nbconvert_exporter": "python",
   "pygments_lexer": "ipython3",
   "version": "3.9.12"
  }
 },
 "nbformat": 4,
 "nbformat_minor": 5
}
