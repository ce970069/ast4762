{
 "cells": [
  {
   "cell_type": "markdown",
   "metadata": {},
   "source": [
    "# Day 5 In-class Assignment: Savings for Everyone\n",
    "![Snowballs](https://www.palmettocitizens.org/images/personal-savings3.jpg)"
   ]
  },
  {
   "cell_type": "markdown",
   "metadata": {},
   "source": [
    "### <p style=\"text-align: right;\"> &#9989; Cesarine Graham\n",
    "<p style=\"text-align: right;\"> &#9989; Bella, Olivia, Allie, Tori"
   ]
  },
  {
   "cell_type": "markdown",
   "metadata": {},
   "source": [
    "## Learning Goals:\n",
    "\n",
    "By the end of this assignment you should be able to:\n",
    "\n",
    "* Review code that uses `if`, `elif`, and `else` statments and understand the logical flow of the program\n",
    "* Write `if`/`elif`/`else` statements in Python.\n",
    "* Create and use basic functions in Python.\n"
   ]
  },
  {
   "cell_type": "markdown",
   "metadata": {},
   "source": [
    "---\n",
    "## Part 1: Understanding `if` statements in Python\n",
    "\n",
    "As you saw in the pre-class assignment, `if` statements provide an mechanism for \"**branching**\" to occur in your code. Depending on whether or not something is determined to be true, your code can pursue one branch, or another, or do nothing at all. The `else` statement allows your code to execute *something* even if none of the `if` or `elif` statements you write are found to be true. By combining these sorts of commands in a variety of ways we can create a very complex system of branches in our code.\n",
    "\n",
    "&#9989;&nbsp; **As a group, review and run** the following bit of example code.\n",
    "\n",
    "&#9989;&nbsp; **As a group, add comments** to explain what various parts of the code are doing. "
   ]
  },
  {
   "cell_type": "code",
   "execution_count": 1,
   "metadata": {},
   "outputs": [
    {
     "name": "stdout",
     "output_type": "stream",
     "text": [
      "Square root of 2.0 is 1.4142135623730951\n",
      "Square root is not real.\n",
      "Square root of 16.0 is 4.0\n",
      "Square root of 17.0 is 4.123105625617661\n",
      "Square root is not real.\n",
      "Square root of 23.0 is 4.795831523312719\n",
      "Square root of 0.0 is 0.0\n",
      "2 is positive.\n",
      "-5 is negative.\n",
      "16 is positive.\n",
      "17 is positive.\n",
      "-6 is negative.\n",
      "23 is positive.\n",
      "The number is zero.\n"
     ]
    }
   ],
   "source": [
    "some_numbers = [2, -5, 16, 17, -6, 23, 0]\n",
    "\n",
    "for i in range(len(some_numbers)): #for loop that loops by index\n",
    "    number = float(some_numbers[i]) #converting the int to a float\n",
    "    if number < 0:\n",
    "        print('Square root is not real.') #you cannot calculate the square root of a number less than 0\n",
    "    else:\n",
    "        print('Square root of',number,'is',number**(1/2)) #calculating the square roots of the valid inputs\n",
    "        \n",
    "for number in some_numbers: #for loop that loops by value\n",
    "    if number > 0:\n",
    "        print(number,'is positive.') #labeling the number as positive\n",
    "    elif number < 0:\n",
    "        print(number,'is negative.') #labeling the number as negative\n",
    "    else:\n",
    "        print('The number is zero.') #anything else is zero"
   ]
  },
  {
   "cell_type": "markdown",
   "metadata": {},
   "source": [
    "&#9989;&nbsp; **Question**: What does `float(some_numbers[i])` do?"
   ]
  },
  {
   "cell_type": "markdown",
   "metadata": {},
   "source": [
    "<font size=\"+3\">&#9998;</font> It converts the numbers to float numbers so the square root function can give an answer as a float. This is because not every square root is perfect and needs decimals places."
   ]
  },
  {
   "cell_type": "markdown",
   "metadata": {},
   "source": [
    "&#9989;&nbsp; **Question**: What does the `len()` function do?"
   ]
  },
  {
   "cell_type": "markdown",
   "metadata": {},
   "source": [
    "<font size=\"+3\">&#9998;</font> The len() function tells the program to run for the full length of the list of values."
   ]
  },
  {
   "cell_type": "markdown",
   "metadata": {},
   "source": [
    "&#9989;&nbsp; **Question**: What does the `range()` function do?"
   ]
  },
  {
   "cell_type": "markdown",
   "metadata": {},
   "source": [
    "<font size=\"+3\">&#9998;</font> The range() function tells the program the range of indexes the list contains. "
   ]
  },
  {
   "cell_type": "markdown",
   "metadata": {},
   "source": [
    "---\n",
    "## Part 2: Writing your own `if` statements\n",
    "\n",
    "Sometimes in computational modeling and data science, you need to be able parse a set of numbers or data and execute particular tasks based on the how those numbers compare to each other. Conditional statements that use things like `<`, `>`, `>=`, or `==` combined with logical operators like `and` and `or` provide an excellent mechanism for comparing values! Try the following:\n",
    "\n",
    "&#9989;&nbsp; **Write a program** that compares three variables v1, v2, and v3 (initial values are provide below) and does the following using `if` statements:\n",
    "\n",
    "1. If v1 is equal to v2, print \"woohoo!\"\n",
    "2. If v1 is the smallest value of the three (i.e., v1 is less than both v2 and v3), print out \"v1 is tiny!\"\n",
    "3. If v1 is the smallest value of the three, add a nested if statement to print out a statement saying whether v2 or v3 is the largest value.\n",
    "\n",
    "Try several values of v1, v2 and v3 and ensure that you see the correct behavior. \n",
    "\n",
    "**Suggestion**: Make sure you work together with your group to solve this. **Planning it out on the whiteboard can also be useful!**\n",
    "\n",
    "**Note**: Although you learned briefly about functions in your pre-class assignment, don't worry about using functions just yet!"
   ]
  },
  {
   "cell_type": "code",
   "execution_count": 3,
   "metadata": {},
   "outputs": [
    {
     "name": "stdout",
     "output_type": "stream",
     "text": [
      "v1 is tiny!\n",
      "v2 is greater than v3\n",
      "woohoo\n",
      "v1 is not equal to v2 and is not less than v2 and v3\n"
     ]
    }
   ],
   "source": [
    "# Put your code here. Initial values for v1, v2, and v3 are provided.\n",
    "# Make sure to test out new values to ensure your code works as intended!\n",
    "\n",
    "v1 = 1\n",
    "v2 = 4\n",
    "v3 = 3\n",
    "\n",
    "value_list = [1,4,3]\n",
    "\n",
    "for values in value_list:\n",
    "    if values == v2: \n",
    "        print('woohoo')\n",
    "    elif values < v2 and values < v3:\n",
    "        print('v1 is tiny!')\n",
    "        if v2 > v3:\n",
    "            print('v2 is greater than v3')\n",
    "        else:\n",
    "            print('v2 is not greater than v3')\n",
    "    else:\n",
    "        print('v1 is not equal to v2 and is not less than v2 and v3')\n",
    "        \n",
    "#or you could write without the for loop\n",
    "if v1 == v2:\n",
    "    print('woohoo')\n",
    "elif v1 < v2 and v1 < v3:\n",
    "    print('v1 is tiny')\n",
    "    \n",
    "    if v2 > v3:\n",
    "        print('v2 is greater than v3')\n",
    "    else:\n",
    "        print('v2 is not greater than v3')\n",
    "else:\n",
    "    print('v1 is not equal to v2 and is not less than v2 and v3')\n",
    "    "
   ]
  },
  {
   "cell_type": "markdown",
   "metadata": {},
   "source": [
    "&#9989;&nbsp; **Question**: What happens in your code if either v2 or v3 is less than v1? "
   ]
  },
  {
   "cell_type": "markdown",
   "metadata": {},
   "source": [
    "<font size=\"+3\">&#9998;</font> If either v2 or v3 is less than v1 it will skip to the final statement that 'v1 is not equal to v2 and is not less than v2 and v3.'"
   ]
  },
  {
   "cell_type": "markdown",
   "metadata": {},
   "source": [
    "---\n",
    "## Part 3: Continued Investment\n",
    "\n",
    "You're back at your bank job, calculating the total amount of money people save in their retirement accounts. Previously, your boss asked you to calculate the different amount of money people would save if there was one interest rate for people that started saving early (under 30) and another interest rate (twice the original interest rate) if they started saving later (30 or older). \n",
    "\n",
    "Your boss used your calculations to justify to *their* boss that offering a \"better interest rate for older investors\" was a good marketing strategy. Your boss's boss accepted the plan with one modification. Rather than give people over 30 double the interest rates, the interest rates would be structured in the following way:\n",
    "- People that start to save when they are between **18-24 years old** will receive an interest rate of **6.5%**\n",
    "- People that start to save when they are between **25-31 years old** will receive an interest rate of **8.5%**\n",
    "- People that start to save when they are between **32-39 years old** will receive an interest rate of **11.0%**\n",
    "- People that start to save when they are **40 years or older** will receive an interest rate of **17.0%**\n",
    "\n",
    "(Also, it is assumed that **everyone will retire at 65**)\n",
    "\n",
    "The bank rolled out the plan, and it worked *really well.* Now, there are dozens of new applications for savings accounts, and your boss says you need to calculate the expected savings for all of these new applications. \n",
    "\n",
    "You will need to **write a piece of code that will go through each of these new applications and calculate each individual's expected retirement savings.  Your code should make a list of all of the expected retirement savings.**\n",
    "\n",
    "**Note:** In finding a solution to this problem, we **strongly recommend** that you use your code from the previous assignment involving compound interest."
   ]
  },
  {
   "cell_type": "markdown",
   "metadata": {},
   "source": [
    "### 3.1 Plan out your code\n",
    "\n",
    "#### You and your groups members are expected to **use a virtual whiteboard (e.g. [Google Jamboard](https://jamboard.google.com/) or [Aww app](https://awwapp.com/)) to come up with your plan.**. \n",
    "\n",
    "*Things to think about:*\n",
    "- How will you go through each application?\n",
    "- What variables will change for each application?\n",
    "- What calculations do you need to make for each application?\n",
    "- How can you use the code you wrote in the previous compound interest assignment?\n",
    "\n",
    "(**Note:** Answering these questions is not the same as coming up with a plan!)"
   ]
  },
  {
   "cell_type": "markdown",
   "metadata": {},
   "source": [
    "We will write a function to calculate the retirement savings. We will then write an if statement to determine the person's interest rate, then import that value into the function."
   ]
  },
  {
   "cell_type": "markdown",
   "metadata": {},
   "source": [
    "## &#128721; STOP AND ASK YOUR INSTRUCTOR TO COME OVER AND CHECK YOUR PLAN"
   ]
  },
  {
   "cell_type": "markdown",
   "metadata": {},
   "source": [
    "### 3.2 Write out your code\n",
    "\n",
    "Below are lists of all of the new applications, including the clients name, the amount they will save each year, and the age at which they're starting to save. \n",
    "\n",
    "**Write your code below. Store the final retirement savings in the list `final_retirement_savings`**"
   ]
  },
  {
   "cell_type": "code",
   "execution_count": 12,
   "metadata": {},
   "outputs": [],
   "source": [
    "# New applications\n",
    "client_name = [\"Michael Mitchell\",\"Ashley Moore\",\"Fred Walker\",\"Walter Wood\",\"Jesse Gonzalez\",\"Phillip Sanders\",\"Marie Jenkins\",\"Annie Brown\",\"Christopher King\",\"Carl Phillips\",\"Betty Perez\",\"Ashley Hernandez\",\"Carlos Davis\",\"Richard Jackson\",\"Jean Cox\",\"Sara Allen\",\"Peter Butler\",\"Justin Collins\",\"Kevin Miller\",\"Andrew Russell\"]\n",
    "savings_per_year = [4680,4680,4320,5880,5280,5640,4680,5520,5040,4200,4920,5400,5280,4560,5040,4440,5640,5040,4800,4680]\n",
    "start_savings_age = [20,31,35,39,40,37,26,21,36,25,25,36,33,27,35,31,28,19,31,34]\n",
    "\n",
    "final_retirement_savings = []"
   ]
  },
  {
   "cell_type": "code",
   "execution_count": 15,
   "metadata": {},
   "outputs": [],
   "source": [
    "# Put your code here\n",
    "def retirement_savings (add_amount, interest_rate, starting_age):\n",
    "    current_amount = 0\n",
    "    for i in range(65 - starting_age): \n",
    "        current_amount += current_amount * interest_rate + add_amount      \n",
    "    return current_amount\n",
    "\n",
    "for i in range(len(client_name)):\n",
    "    age = start_savings_age[i] #so the program knows what age it is in the list and we dont have to write the list name every time\n",
    "    interest_rate = 0 #initializing the interest rate\n",
    "    if age >= 18 and age <= 24:\n",
    "        interest_rate = 0.065\n",
    "    elif age >= 25 and age <= 31:\n",
    "        interest_rate = 0.085\n",
    "    elif age >= 32 and age <= 39:\n",
    "        interest_rate = 0.11\n",
    "    else:\n",
    "        interest_rate = 0.17\n",
    "    \n",
    "    final_retirement_savings.append(retirement_savings(savings_per_year[i], interest_rate,start_savings_age[i]))"
   ]
  },
  {
   "cell_type": "code",
   "execution_count": 16,
   "metadata": {},
   "outputs": [
    {
     "name": "stdout",
     "output_type": "stream",
     "text": [
      "Michael Mitchell will save $1.15 million by the time they retire\n",
      "Ashley Moore will save $0.83 million by the time they retire\n",
      "Fred Walker will save $0.86 million by the time they retire\n",
      "Walter Wood will save $0.75 million by the time they retire\n",
      "Jesse Gonzalez will save $1.54 million by the time they retire\n",
      "Phillip Sanders will save $0.90 million by the time they retire\n",
      "Marie Jenkins will save $1.27 million by the time they retire\n",
      "Annie Brown will save $1.27 million by the time they retire\n",
      "Christopher King will save $0.90 million by the time they retire\n",
      "Carl Phillips will save $1.24 million by the time they retire\n",
      "Betty Perez will save $1.45 million by the time they retire\n",
      "Ashley Hernandez will save $0.96 million by the time they retire\n",
      "Carlos Davis will save $1.31 million by the time they retire\n",
      "Richard Jackson will save $1.14 million by the time they retire\n",
      "Jean Cox will save $1.00 million by the time they retire\n",
      "Sara Allen will save $0.78 million by the time they retire\n",
      "Peter Butler will save $1.29 million by the time they retire\n",
      "Justin Collins will save $1.33 million by the time they retire\n",
      "Kevin Miller will save $0.85 million by the time they retire\n",
      "Andrew Russell will save $1.04 million by the time they retire\n"
     ]
    },
    {
     "ename": "IndexError",
     "evalue": "list index out of range",
     "output_type": "error",
     "traceback": [
      "\u001b[1;31m---------------------------------------------------------------------------\u001b[0m",
      "\u001b[1;31mIndexError\u001b[0m                                Traceback (most recent call last)",
      "Input \u001b[1;32mIn [16]\u001b[0m, in \u001b[0;36m<cell line: 3>\u001b[1;34m()\u001b[0m\n\u001b[0;32m      1\u001b[0m \u001b[38;5;66;03m# Print out the final savings for all of the new applications\u001b[39;00m\n\u001b[0;32m      3\u001b[0m \u001b[38;5;28;01mfor\u001b[39;00m kk \u001b[38;5;129;01min\u001b[39;00m \u001b[38;5;28mrange\u001b[39m(\u001b[38;5;28mlen\u001b[39m(final_retirement_savings)):\n\u001b[1;32m----> 4\u001b[0m     \u001b[38;5;28mprint\u001b[39m(\u001b[38;5;124m\"\u001b[39m\u001b[38;5;132;01m{}\u001b[39;00m\u001b[38;5;124m will save $\u001b[39m\u001b[38;5;132;01m{:.2f}\u001b[39;00m\u001b[38;5;124m million by the time they retire\u001b[39m\u001b[38;5;124m\"\u001b[39m\u001b[38;5;241m.\u001b[39mformat(\u001b[43mclient_name\u001b[49m\u001b[43m[\u001b[49m\u001b[43mkk\u001b[49m\u001b[43m]\u001b[49m,final_retirement_savings[kk]\u001b[38;5;241m/\u001b[39m\u001b[38;5;241m1.0e6\u001b[39m))\n",
      "\u001b[1;31mIndexError\u001b[0m: list index out of range"
     ]
    }
   ],
   "source": [
    "# Print out the final savings for all of the new applications\n",
    "\n",
    "for kk in range(len(final_retirement_savings)):\n",
    "    print(\"{} will save ${:.2f} million by the time they retire\".format(client_name[kk],final_retirement_savings[kk]/1.0e6))"
   ]
  },
  {
   "cell_type": "markdown",
   "metadata": {},
   "source": [
    "&#9989;&nbsp; **Question**: Which client will retire with the *largest* amount of money in their savings account? When did they start saving? How much money did they add every year?"
   ]
  },
  {
   "cell_type": "markdown",
   "metadata": {},
   "source": [
    "<font size=\"+3\">&#9998;</font> Jesse Gonzalez saved the most money and he started at 40. They added 5280 every year."
   ]
  },
  {
   "cell_type": "markdown",
   "metadata": {},
   "source": [
    "&#9989;&nbsp; **Question**: Which client will retire with the *smallest* amount of money in their savings account? When did they start saving? How much money did they add every year?"
   ]
  },
  {
   "cell_type": "markdown",
   "metadata": {},
   "source": [
    "<font size=\"+3\">&#9998;</font> Walter Wood will retire with the smallest amount. They started saving at 39 and they added 5880 every year."
   ]
  },
  {
   "cell_type": "markdown",
   "metadata": {},
   "source": [
    "&#9989;&nbsp; **Question**: Compare the people that retired with the most and least amount of money. What was the leading cause of the differences between the two? Is there anything that the person with the least amount of money saved could have done differently?"
   ]
  },
  {
   "cell_type": "markdown",
   "metadata": {},
   "source": [
    "<font size=\"+3\">&#9998;</font> The main difference between Walter Wood and Jesse Gonzalez is their interest rates. If Water had waited one more year they could've had a much larger interest rate to their advantage."
   ]
  },
  {
   "cell_type": "markdown",
   "metadata": {},
   "source": [
    "---\n",
    "### &#128721; STOP\n",
    "Check in with all of your group members to make sure you all understand everything to this point!"
   ]
  },
  {
   "cell_type": "markdown",
   "metadata": {},
   "source": [
    "---\n",
    "## Part 4: Writing Functions\n",
    "\n",
    "In the pre-class assignment, you were introduced to how to write functions and when to use them.\n",
    "\n",
    "To review:\n",
    "\n",
    "1. Functions are handy when you have code you have to run many times but want to avoid copying and pasting\n",
    "2. Functions can prevent bugs by reducing the places you have to change code\n",
    "3. Functions can make your code easier to read by allowing you to **compartmentalize** your code into separate functions which you can then call in the main body of your code\n",
    "4. Functions can save future you time by allowing you to write functions you can use in future notebooks!\n",
    "\n",
    "In general, if a piece of code is **repeated more than three times** or **may be useful later**, you should turn it into a function!\n",
    "\n",
    "---\n",
    "\n",
    "In today's assignment and a previous assignment, you used a block of code that calculated the total amount of money saved for retirement. Let's use this bit of code to get some practice writing functions.\n",
    "\n",
    "### 4.1: Writing a function\n",
    "**Write a function that calculates the total amount of money saved in a retirement account.** You should be able to insert this function directly into the code you wrote in the previous exercise."
   ]
  },
  {
   "cell_type": "code",
   "execution_count": null,
   "metadata": {},
   "outputs": [],
   "source": [
    "# Put your code here\n",
    "def retirement_savings (add_amount, interest_rate, starting_age):\n",
    "    current_amount = 0\n",
    "    for i in range(65 - starting_age): \n",
    "        current_amount += current_amount * interest_rate + add_amount      \n",
    "    return current_amount\n"
   ]
  },
  {
   "cell_type": "markdown",
   "metadata": {},
   "source": [
    "#### Part 4.2: Using your Function\n",
    "\n",
    "**In the cell below, put your code from Part 3.2. Use the function you wrote to calculate the total amount of money saved in the retirement account.**"
   ]
  },
  {
   "cell_type": "code",
   "execution_count": null,
   "metadata": {},
   "outputs": [],
   "source": [
    "# Put your code here\n",
    "def retirement_savings (add_amount, interest_rate, starting_age):\n",
    "    current_amount = 0\n",
    "    for i in range(65 - starting_age): \n",
    "        current_amount += current_amount * interest_rate + add_amount      \n",
    "    return current_amount\n",
    "\n",
    "for i in range(len(client_name)):\n",
    "    age = start_savings_age[i] #so the program knows what age it is in the list and we dont have to write the list name every time\n",
    "    interest_rate = 0 #initializing the interest rate\n",
    "    if age >= 18 and age <= 24:\n",
    "        interest_rate = 0.065\n",
    "    elif age >= 25 and age <= 31:\n",
    "        interest_rate = 0.085\n",
    "    elif age >= 32 and age <= 39:\n",
    "        interest_rate = 0.11\n",
    "    else:\n",
    "        interest_rate = 0.17\n",
    "    \n",
    "    final_retirement_savings.append(retirement_savings(savings_per_year[i], interest_rate,start_savings_age[i]))"
   ]
  },
  {
   "cell_type": "code",
   "execution_count": 17,
   "metadata": {},
   "outputs": [
    {
     "name": "stdout",
     "output_type": "stream",
     "text": [
      "Michael Mitchell will save $1.15 million by the time they retire\n",
      "Ashley Moore will save $0.83 million by the time they retire\n",
      "Fred Walker will save $0.86 million by the time they retire\n",
      "Walter Wood will save $0.75 million by the time they retire\n",
      "Jesse Gonzalez will save $1.54 million by the time they retire\n",
      "Phillip Sanders will save $0.90 million by the time they retire\n",
      "Marie Jenkins will save $1.27 million by the time they retire\n",
      "Annie Brown will save $1.27 million by the time they retire\n",
      "Christopher King will save $0.90 million by the time they retire\n",
      "Carl Phillips will save $1.24 million by the time they retire\n",
      "Betty Perez will save $1.45 million by the time they retire\n",
      "Ashley Hernandez will save $0.96 million by the time they retire\n",
      "Carlos Davis will save $1.31 million by the time they retire\n",
      "Richard Jackson will save $1.14 million by the time they retire\n",
      "Jean Cox will save $1.00 million by the time they retire\n",
      "Sara Allen will save $0.78 million by the time they retire\n",
      "Peter Butler will save $1.29 million by the time they retire\n",
      "Justin Collins will save $1.33 million by the time they retire\n",
      "Kevin Miller will save $0.85 million by the time they retire\n",
      "Andrew Russell will save $1.04 million by the time they retire\n"
     ]
    },
    {
     "ename": "IndexError",
     "evalue": "list index out of range",
     "output_type": "error",
     "traceback": [
      "\u001b[1;31m---------------------------------------------------------------------------\u001b[0m",
      "\u001b[1;31mIndexError\u001b[0m                                Traceback (most recent call last)",
      "Input \u001b[1;32mIn [17]\u001b[0m, in \u001b[0;36m<cell line: 2>\u001b[1;34m()\u001b[0m\n\u001b[0;32m      1\u001b[0m \u001b[38;5;66;03m# Print out the final savings for all of the new applications\u001b[39;00m\n\u001b[0;32m      2\u001b[0m \u001b[38;5;28;01mfor\u001b[39;00m kk \u001b[38;5;129;01min\u001b[39;00m \u001b[38;5;28mrange\u001b[39m(\u001b[38;5;28mlen\u001b[39m(final_retirement_savings)):\n\u001b[1;32m----> 3\u001b[0m     \u001b[38;5;28mprint\u001b[39m(\u001b[38;5;124m\"\u001b[39m\u001b[38;5;132;01m{}\u001b[39;00m\u001b[38;5;124m will save $\u001b[39m\u001b[38;5;132;01m{:.2f}\u001b[39;00m\u001b[38;5;124m million by the time they retire\u001b[39m\u001b[38;5;124m\"\u001b[39m\u001b[38;5;241m.\u001b[39mformat(\u001b[43mclient_name\u001b[49m\u001b[43m[\u001b[49m\u001b[43mkk\u001b[49m\u001b[43m]\u001b[49m,final_retirement_savings[kk]\u001b[38;5;241m/\u001b[39m\u001b[38;5;241m1.0e6\u001b[39m))\n",
      "\u001b[1;31mIndexError\u001b[0m: list index out of range"
     ]
    }
   ],
   "source": [
    "# Print out the final savings for all of the new applications\n",
    "for kk in range(len(final_retirement_savings)):\n",
    "    print(\"{} will save ${:.2f} million by the time they retire\".format(client_name[kk],final_retirement_savings[kk]/1.0e6))"
   ]
  },
  {
   "cell_type": "markdown",
   "metadata": {},
   "source": [
    "---\n",
    "## Assignment wrapup\n",
    "\n",
    "Please fill out the form that appears when you run the code below. **You must completely fill this out in order to receive credit for the assignment!** "
   ]
  },
  {
   "cell_type": "code",
   "execution_count": 18,
   "metadata": {},
   "outputs": [
    {
     "data": {
      "text/html": [
       "\n",
       "<iframe \n",
       "\tsrc=\"https://cmse.msu.edu/cmse201-ic-survey\" \n",
       "\twidth=\"800px\" \n",
       "\theight=\"600px\" \n",
       "\tframeborder=\"0\" \n",
       "\tmarginheight=\"0\" \n",
       "\tmarginwidth=\"0\">\n",
       "\tLoading...\n",
       "</iframe>\n"
      ],
      "text/plain": [
       "<IPython.core.display.HTML object>"
      ]
     },
     "execution_count": 18,
     "metadata": {},
     "output_type": "execute_result"
    }
   ],
   "source": [
    "from IPython.display import HTML\n",
    "HTML(\n",
    "\"\"\"\n",
    "<iframe \n",
    "\tsrc=\"https://cmse.msu.edu/cmse201-ic-survey\" \n",
    "\twidth=\"800px\" \n",
    "\theight=\"600px\" \n",
    "\tframeborder=\"0\" \n",
    "\tmarginheight=\"0\" \n",
    "\tmarginwidth=\"0\">\n",
    "\tLoading...\n",
    "</iframe>\n",
    "\"\"\"\n",
    ")"
   ]
  },
  {
   "cell_type": "markdown",
   "metadata": {},
   "source": [
    "---"
   ]
  },
  {
   "cell_type": "markdown",
   "metadata": {},
   "source": [
    "## Congratulations, you're done!\n",
    "\n",
    "Submit this assignment by uploading it to the course Desire2Learn web page.  Go to the \"In-class assignments\" folder, find the appropriate submission link, and upload it there.\n",
    "\n",
    "See you next class!"
   ]
  },
  {
   "cell_type": "markdown",
   "metadata": {},
   "source": [
    "&#169; Copyright 2018,  Michigan State University Board of Trustees"
   ]
  }
 ],
 "metadata": {
  "kernelspec": {
   "display_name": "Python 3 (ipykernel)",
   "language": "python",
   "name": "python3"
  },
  "language_info": {
   "codemirror_mode": {
    "name": "ipython",
    "version": 3
   },
   "file_extension": ".py",
   "mimetype": "text/x-python",
   "name": "python",
   "nbconvert_exporter": "python",
   "pygments_lexer": "ipython3",
   "version": "3.9.12"
  }
 },
 "nbformat": 4,
 "nbformat_minor": 4
}
