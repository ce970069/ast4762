{
 "cells": [
  {
   "cell_type": "markdown",
   "metadata": {},
   "source": [
    "# Day 9 In-Class: Cleaning and Analyzing Economic Data\n",
    "\n",
    "\n",
    "\n",
    "\n",
    "<img src=\"http://2oqz471sa19h3vbwa53m33yj-wpengine.netdna-ssl.com/wp-content/uploads/2018/10/world-economy-gdp.jpg\" width=500px>"
   ]
  },
  {
   "cell_type": "markdown",
   "metadata": {},
   "source": [
    "### <p style=\"text-align: right;\"> &#9989; Cesarine Graham </p>\n",
    "\n",
    "#### <p style=\"text-align: right;\"> &#9989; Tori, Allison, Bella, Olivia</p>"
   ]
  },
  {
   "cell_type": "markdown",
   "metadata": {},
   "source": [
    "## Goals for today's in-class project\n",
    "\n",
    "- Load in data and clean Pandas dataframes\n",
    "- Learn different ways to index Pandas dataframes \n",
    "- Analyze different countries GDP data\n",
    "- Practice using online research to learn new programming skills\n"
   ]
  },
  {
   "cell_type": "markdown",
   "metadata": {},
   "source": [
    "## Assignment instructions\n",
    "\n",
    "Work with your group to complete this assignment. The assignment is due at the end of class and should be uploaded to the appropriate submission folder on D2L."
   ]
  },
  {
   "cell_type": "markdown",
   "metadata": {},
   "source": [
    "---"
   ]
  },
  {
   "cell_type": "markdown",
   "metadata": {},
   "source": [
    "# Part 1: Practice calculating statistics using Python\n",
    "\n",
    "### 1.1 Computing standard deviation by hand\n",
    "\n",
    "&#9989;&nbsp; **Fix a function** that takes in a _list of values_ and calculates the _standard deviation_ using only basic python functions. The function is already written but it doesn't *quite* work. Run the cell to see. Here's the equation for standard deviation:"
   ]
  },
  {
   "cell_type": "markdown",
   "metadata": {},
   "source": [
    "## $$ \\sigma = \\sqrt{\\frac{\\sum\\limits_{i=1}^{N} (x_{i}-\\mu)^2}{N}} $$\n",
    "\n",
    "where the symbols in this equation represent the following:\n",
    "\n",
    "* $\\sigma$: Standard Deviation\n",
    "* $\\mu$: Mean\n",
    "* $N$: Number of observations\n",
    "* $x_{i}$: the value of dataset at position $i$"
   ]
  },
  {
   "cell_type": "code",
   "execution_count": 1,
   "metadata": {},
   "outputs": [],
   "source": [
    "# Fix the function here\n",
    "def std(vals):\n",
    "    length = len(vals)\n",
    "    mean = sum(vals) / len(vals)\n",
    "    diffs = []\n",
    "    for i in range(length):\n",
    "        diffs.append(vals[i] - mean) ** 2\n",
    "    return (sum(diffs)/vals) ** 0.5"
   ]
  },
  {
   "cell_type": "markdown",
   "metadata": {},
   "source": [
    "&#9989;&nbsp; **Check your function for accuracy**\n",
    "\n",
    "Call your function using the variable `test_list` (provided below) as the input and compare your function's output with that of `np.std()` to make sure you calculated standard deviation correctly."
   ]
  },
  {
   "cell_type": "code",
   "execution_count": 2,
   "metadata": {},
   "outputs": [],
   "source": [
    "import matplotlib.pyplot as plt\n",
    "import numpy as np\n",
    "%matplotlib inline"
   ]
  },
  {
   "cell_type": "code",
   "execution_count": 3,
   "metadata": {},
   "outputs": [
    {
     "data": {
      "text/plain": [
       "4.681523968396046"
      ]
     },
     "execution_count": 3,
     "metadata": {},
     "output_type": "execute_result"
    }
   ],
   "source": [
    "test_list = [1,3,5,10,15,5]\n",
    "\n",
    "# Put your code for comparing the answers here\n",
    "def std(vals):\n",
    "    length = len(vals)\n",
    "    mean = sum(vals) / len(vals)\n",
    "    diffs = []\n",
    "    for i in range(length):\n",
    "        diffs.append((vals[i] - mean) ** 2)\n",
    "    return ((sum(diffs)/len(vals)) ** 0.5)\n",
    "\n",
    "std(test_list)"
   ]
  },
  {
   "cell_type": "markdown",
   "metadata": {},
   "source": [
    "### 1.2 Next, we will apply stats to a distribution *visually*\n",
    "\n",
    "But first, let's cover how to visualize the distribution of a one-dimensional data set. We begin with a random distribution of numbers from a random number generator in the NumPy library."
   ]
  },
  {
   "cell_type": "code",
   "execution_count": 4,
   "metadata": {},
   "outputs": [],
   "source": [
    "# You might not be familiar this with random number generator, that's OK,\n",
    "# This is one of _many_ that are available in NumPy.\n",
    "random_distribution = np.random.wald(200,500,size=1000)"
   ]
  },
  {
   "cell_type": "markdown",
   "metadata": {},
   "source": [
    "This is an array holding 1000 random numbers, generated from a statistical distribution called the \"Wald distribution\".  \n",
    "\n",
    "Let's look at the first 10 numbers:"
   ]
  },
  {
   "cell_type": "code",
   "execution_count": 5,
   "metadata": {},
   "outputs": [
    {
     "data": {
      "text/plain": [
       "array([111.37580333, 185.01179995, 238.62595608, 217.05086908,\n",
       "        65.77039382, 136.88904205,  76.31059224, 123.17631629,\n",
       "        54.77984852,  92.83046092])"
      ]
     },
     "execution_count": 5,
     "metadata": {},
     "output_type": "execute_result"
    }
   ],
   "source": [
    "random_distribution[0:10]"
   ]
  },
  {
   "cell_type": "markdown",
   "metadata": {},
   "source": [
    "And plot all of the elements:"
   ]
  },
  {
   "cell_type": "code",
   "execution_count": 6,
   "metadata": {},
   "outputs": [
    {
     "data": {
      "text/plain": [
       "Text(0, 0.5, 'Value')"
      ]
     },
     "execution_count": 6,
     "metadata": {},
     "output_type": "execute_result"
    },
    {
     "data": {
      "image/png": "[encoded data removed]",
      "text/plain": [
       "<Figure size 432x288 with 1 Axes>"
      ]
     },
     "metadata": {
      "needs_background": "light"
     },
     "output_type": "display_data"
    }
   ],
   "source": [
    "plt.plot(random_distribution,'o')\n",
    "plt.xlabel('Index')\n",
    "plt.ylabel('Value')"
   ]
  },
  {
   "cell_type": "markdown",
   "metadata": {},
   "source": [
    "What are some other ways we can analyze and visualize this data?  One visualization is a box plot, which shows where the ***quartiles*** of the data set are, as well as outliers."
   ]
  },
  {
   "cell_type": "code",
   "execution_count": 7,
   "metadata": {},
   "outputs": [
    {
     "data": {
      "image/png": "[encoded data removed]",
      "text/plain": [
       "<Figure size 432x288 with 1 Axes>"
      ]
     },
     "metadata": {
      "needs_background": "light"
     },
     "output_type": "display_data"
    }
   ],
   "source": [
    "box = plt.boxplot(random_distribution, vert=False)\n",
    "ylabel = plt.ylabel(\"Frequency\")\n",
    "xlabel = plt.xlabel(\"Value\")\n",
    "title = plt.title(\"Wald Distribution\")"
   ]
  },
  {
   "cell_type": "markdown",
   "metadata": {},
   "source": [
    "Another visualization is a histogram, which splits the data set into a bunch of equally sized intervals, and then graphs the number of data points that fall into each interval. The higher the bar on a histogram, the more data points in that interval."
   ]
  },
  {
   "cell_type": "code",
   "execution_count": 8,
   "metadata": {
    "scrolled": true
   },
   "outputs": [
    {
     "data": {
      "image/png": "[encoded data removed]",
      "text/plain": [
       "<Figure size 432x288 with 1 Axes>"
      ]
     },
     "metadata": {
      "needs_background": "light"
     },
     "output_type": "display_data"
    }
   ],
   "source": [
    "hist = plt.hist(random_distribution, bins=50, color=\"k\", alpha=0.5) #what's the alpha argument doing?\n",
    "ylabel = plt.ylabel(\"Frequency\")\n",
    "xlabel = plt.xlabel(\"Value\")\n",
    "title = plt.title(\"Wald Distribution\")"
   ]
  },
  {
   "cell_type": "markdown",
   "metadata": {},
   "source": [
    "&#9989;&nbsp; **Compare the representations above**\n",
    "\n",
    "What are the similarities between how the boxplot represents the data set versus the histogram? What does the boxplot do a better job of showing? What does the histogram do a better job of showing?"
   ]
  },
  {
   "cell_type": "markdown",
   "metadata": {},
   "source": [
    "<font size=+3>&#9998;</font> The similarities beween the boxplot and the histogram is the statistics are still shown numerically (ie average, frequency, outlier data). The boxplot does a better job showing the values themselves and their relation to the percentile, but the histogram shows a better job showing things such as the modes and and the overall trend line."
   ]
  },
  {
   "cell_type": "markdown",
   "metadata": {},
   "source": [
    "### 1.3 Compute and Compare\n",
    "\n",
    "&#9989;&nbsp; **Now lets actually compute the mean and median and visualize them on the distribution graph.**\n",
    "\n",
    "Add **two vertical lines** with different colors where the **mean** and **median** are using Matplotlib's [`plt.axvline()`](https://matplotlib.org/3.1.1/api/_as_gen/matplotlib.pyplot.axvline.html) function -- this might be new to you, so make sure you understand how it works!\n",
    "\n",
    "**Make sure you label your lines and include a legend.**"
   ]
  },
  {
   "cell_type": "code",
   "execution_count": 9,
   "metadata": {},
   "outputs": [
    {
     "data": {
      "text/plain": [
       "<matplotlib.legend.Legend at 0x1d8c7a87820>"
      ]
     },
     "execution_count": 9,
     "metadata": {},
     "output_type": "execute_result"
    },
    {
     "data": {
      "image/png": "[encoded data removed]",
      "text/plain": [
       "<Figure size 432x288 with 1 Axes>"
      ]
     },
     "metadata": {
      "needs_background": "light"
     },
     "output_type": "display_data"
    }
   ],
   "source": [
    "hist = plt.hist(random_distribution,bins=50,color=\"k\",alpha=0.5)\n",
    "# Add your additional plotting commands here\n",
    "\n",
    "plt.axvline(x = np.median(random_distribution), linewidth=2, color='r',label = \"median\")\n",
    "plt.axvline(x = np.mean(random_distribution), linewidth=2, color='orange',label = \"mean\")\n",
    "plt.title('random distribution')\n",
    "plt.xlabel('value')\n",
    "plt.ylabel('frequency')\n",
    "plt.legend()"
   ]
  },
  {
   "cell_type": "markdown",
   "metadata": {},
   "source": [
    "&#9989;&nbsp; **What is larger for this data set, mean or median? Explain why you think that is.**"
   ]
  },
  {
   "cell_type": "markdown",
   "metadata": {},
   "source": [
    "<font size=+3>&#9998;</font> The mean is larger because it is further to the right on the histograph. This is because there are a lot of outlier data points that shifted the mean."
   ]
  },
  {
   "cell_type": "markdown",
   "metadata": {},
   "source": [
    "---"
   ]
  },
  {
   "cell_type": "markdown",
   "metadata": {},
   "source": [
    "\n",
    "# Part 2: Loading in and cleaning economic data\n",
    "\n",
    "The next part we will focus on transforming and manipulating a dataset using Pandas. As data scientist/computational professional in training, one of the goals we want you to accomplish is to be comfortable searching through online resources to try and solve problems. There are far too many functions and concepts in programming to remember everything so in practice it's essential to utilize package documentation, stack overflow, etc. Some of the questions you will see below will ask you to use or look for a function you've never used before to get you to practice Googling questions that help you accomplish your task."
   ]
  },
  {
   "cell_type": "markdown",
   "metadata": {},
   "source": [
    "---"
   ]
  },
  {
   "cell_type": "markdown",
   "metadata": {},
   "source": [
    "We will be analyzing a dataset from the World Bank containing yearly GDP data for countries from 1960-2020. The GDP numbers have been converted to USD for all countries by the exchange rate at the time. Which is important to note because depending on the exchange rates at the time this could over/under value the non US countries numbers or increase the variance of GDP.\n",
    "\n",
    "Link to dataset: https://data.worldbank.org/indicator/ny.gdp.mktp.cd\n",
    "\n",
    "GDP stands for **Gross Domestic Product** and it is equal to the market value of all the finished goods and services produced within a country's borders in a specific time period.\n",
    "\n",
    "GDP = Consumer Spending + Private Investment + Government Expenditure + Net Exports\n",
    "\n",
    "---\n",
    "\n",
    "### 2.1 Cleaning data is an important part analyzing data.\n",
    "\n",
    "First, we're going to load in the .csv dataset into a Pandas Dataframe and explore the original structure of the data and think about if it could be formatted in a more useful way. **There might be multiple .csv's in the download. You might have to figure out which file has the GDPs before you load it into your notebook.**\n",
    "\n",
    "Make sure you import the Pandas module before moving on!"
   ]
  },
  {
   "cell_type": "code",
   "execution_count": 10,
   "metadata": {},
   "outputs": [],
   "source": [
    "# put your Pandas import command here\n",
    "\n",
    "import numpy as np\n",
    "\n",
    "import matplotlib.pyplot as plt\n",
    "%matplotlib inline\n",
    "\n",
    "import pandas as pd"
   ]
  },
  {
   "cell_type": "markdown",
   "metadata": {},
   "source": [
    "&#9989;&nbsp; **Load in the insert_filename_here.csv file using `pd.read_csv()`.  Skip the first 4 rows and use a comma as the delimiter. Then display the first few lines using `.head()`.**\n",
    "\n",
    "Use `gdp` as the variable name for storing your dataframe as indicated in the code cell below."
   ]
  },
  {
   "cell_type": "code",
   "execution_count": 11,
   "metadata": {},
   "outputs": [],
   "source": [
    "# Load in GDP.csv\n",
    "gdp = pd.read_csv(\"GPD_monkeys.csv\", skiprows=4, delimiter=',')"
   ]
  },
  {
   "cell_type": "markdown",
   "metadata": {},
   "source": [
    "As a first step to cleaning a data set, it can be helpful to get rid of rows that have a lot of \"NaN\" values. NaN means \"Not a Number,\" and it is a value that sometimes takes the place of a blank entry. Countries that did not track GDP as far back as 1960 will have some NaN values, such as Aruba and Angola. You may want to keep these rows in your own data sets, but for this assignment, we are going to \"drop\" them from the data set, using a handy pandas function called \"dropna\"."
   ]
  },
  {
   "cell_type": "code",
   "execution_count": 12,
   "metadata": {},
   "outputs": [
    {
     "data": {
      "text/html": [
       "<div>\n",
       "<style scoped>\n",
       "    .dataframe tbody tr th:only-of-type {\n",
       "        vertical-align: middle;\n",
       "    }\n",
       "\n",
       "    .dataframe tbody tr th {\n",
       "        vertical-align: top;\n",
       "    }\n",
       "\n",
       "    .dataframe thead th {\n",
       "        text-align: right;\n",
       "    }\n",
       "</style>\n",
       "<table border=\"1\" class=\"dataframe\">\n",
       "  <thead>\n",
       "    <tr style=\"text-align: right;\">\n",
       "      <th></th>\n",
       "      <th>Country Name</th>\n",
       "      <th>Country Code</th>\n",
       "      <th>Indicator Name</th>\n",
       "      <th>Indicator Code</th>\n",
       "      <th>1960</th>\n",
       "      <th>1961</th>\n",
       "      <th>1962</th>\n",
       "      <th>1963</th>\n",
       "      <th>1964</th>\n",
       "      <th>1965</th>\n",
       "      <th>...</th>\n",
       "      <th>2011</th>\n",
       "      <th>2012</th>\n",
       "      <th>2013</th>\n",
       "      <th>2014</th>\n",
       "      <th>2015</th>\n",
       "      <th>2016</th>\n",
       "      <th>2017</th>\n",
       "      <th>2018</th>\n",
       "      <th>2019</th>\n",
       "      <th>2020</th>\n",
       "    </tr>\n",
       "  </thead>\n",
       "  <tbody>\n",
       "    <tr>\n",
       "      <th>1</th>\n",
       "      <td>Africa Eastern and Southern</td>\n",
       "      <td>AFE</td>\n",
       "      <td>GDP (current US$)</td>\n",
       "      <td>NY.GDP.MKTP.CD</td>\n",
       "      <td>1.929193e+10</td>\n",
       "      <td>1.970186e+10</td>\n",
       "      <td>2.147035e+10</td>\n",
       "      <td>2.570500e+10</td>\n",
       "      <td>2.350165e+10</td>\n",
       "      <td>2.678117e+10</td>\n",
       "      <td>...</td>\n",
       "      <td>8.962561e+11</td>\n",
       "      <td>9.131974e+11</td>\n",
       "      <td>9.276555e+11</td>\n",
       "      <td>9.563187e+11</td>\n",
       "      <td>8.930997e+11</td>\n",
       "      <td>8.547519e+11</td>\n",
       "      <td>9.622690e+11</td>\n",
       "      <td>9.840320e+11</td>\n",
       "      <td>9.778092e+11</td>\n",
       "      <td>8.984741e+11</td>\n",
       "    </tr>\n",
       "    <tr>\n",
       "      <th>3</th>\n",
       "      <td>Africa Western and Central</td>\n",
       "      <td>AFW</td>\n",
       "      <td>GDP (current US$)</td>\n",
       "      <td>NY.GDP.MKTP.CD</td>\n",
       "      <td>1.040732e+10</td>\n",
       "      <td>1.113130e+10</td>\n",
       "      <td>1.194684e+10</td>\n",
       "      <td>1.268022e+10</td>\n",
       "      <td>1.384262e+10</td>\n",
       "      <td>1.486682e+10</td>\n",
       "      <td>...</td>\n",
       "      <td>6.584282e+11</td>\n",
       "      <td>7.169352e+11</td>\n",
       "      <td>8.078189e+11</td>\n",
       "      <td>8.469431e+11</td>\n",
       "      <td>7.574921e+11</td>\n",
       "      <td>6.874847e+11</td>\n",
       "      <td>6.809891e+11</td>\n",
       "      <td>7.381313e+11</td>\n",
       "      <td>7.920789e+11</td>\n",
       "      <td>7.865850e+11</td>\n",
       "    </tr>\n",
       "    <tr>\n",
       "      <th>13</th>\n",
       "      <td>Australia</td>\n",
       "      <td>AUS</td>\n",
       "      <td>GDP (current US$)</td>\n",
       "      <td>NY.GDP.MKTP.CD</td>\n",
       "      <td>1.857767e+10</td>\n",
       "      <td>1.965282e+10</td>\n",
       "      <td>1.989249e+10</td>\n",
       "      <td>2.150745e+10</td>\n",
       "      <td>2.376414e+10</td>\n",
       "      <td>2.593684e+10</td>\n",
       "      <td>...</td>\n",
       "      <td>1.396650e+12</td>\n",
       "      <td>1.546152e+12</td>\n",
       "      <td>1.576184e+12</td>\n",
       "      <td>1.467484e+12</td>\n",
       "      <td>1.351694e+12</td>\n",
       "      <td>1.208847e+12</td>\n",
       "      <td>1.329188e+12</td>\n",
       "      <td>1.432881e+12</td>\n",
       "      <td>1.396567e+12</td>\n",
       "      <td>1.330901e+12</td>\n",
       "    </tr>\n",
       "    <tr>\n",
       "      <th>14</th>\n",
       "      <td>Austria</td>\n",
       "      <td>AUT</td>\n",
       "      <td>GDP (current US$)</td>\n",
       "      <td>NY.GDP.MKTP.CD</td>\n",
       "      <td>6.592694e+09</td>\n",
       "      <td>7.311750e+09</td>\n",
       "      <td>7.756110e+09</td>\n",
       "      <td>8.374175e+09</td>\n",
       "      <td>9.169984e+09</td>\n",
       "      <td>9.994071e+09</td>\n",
       "      <td>...</td>\n",
       "      <td>4.311203e+11</td>\n",
       "      <td>4.094252e+11</td>\n",
       "      <td>4.300687e+11</td>\n",
       "      <td>4.419961e+11</td>\n",
       "      <td>3.818176e+11</td>\n",
       "      <td>3.955686e+11</td>\n",
       "      <td>4.162073e+11</td>\n",
       "      <td>4.548726e+11</td>\n",
       "      <td>4.450754e+11</td>\n",
       "      <td>4.289654e+11</td>\n",
       "    </tr>\n",
       "    <tr>\n",
       "      <th>16</th>\n",
       "      <td>Burundi</td>\n",
       "      <td>BDI</td>\n",
       "      <td>GDP (current US$)</td>\n",
       "      <td>NY.GDP.MKTP.CD</td>\n",
       "      <td>1.960000e+08</td>\n",
       "      <td>2.030000e+08</td>\n",
       "      <td>2.135000e+08</td>\n",
       "      <td>2.327500e+08</td>\n",
       "      <td>2.607500e+08</td>\n",
       "      <td>1.589950e+08</td>\n",
       "      <td>...</td>\n",
       "      <td>2.235821e+09</td>\n",
       "      <td>2.333308e+09</td>\n",
       "      <td>2.451625e+09</td>\n",
       "      <td>2.705783e+09</td>\n",
       "      <td>3.104395e+09</td>\n",
       "      <td>2.959641e+09</td>\n",
       "      <td>3.172292e+09</td>\n",
       "      <td>3.036937e+09</td>\n",
       "      <td>3.012309e+09</td>\n",
       "      <td>3.258187e+09</td>\n",
       "    </tr>\n",
       "  </tbody>\n",
       "</table>\n",
       "<p>5 rows × 65 columns</p>\n",
       "</div>"
      ],
      "text/plain": [
       "                   Country Name Country Code     Indicator Name  \\\n",
       "1   Africa Eastern and Southern          AFE  GDP (current US$)   \n",
       "3    Africa Western and Central          AFW  GDP (current US$)   \n",
       "13                    Australia          AUS  GDP (current US$)   \n",
       "14                      Austria          AUT  GDP (current US$)   \n",
       "16                      Burundi          BDI  GDP (current US$)   \n",
       "\n",
       "    Indicator Code          1960          1961          1962          1963  \\\n",
       "1   NY.GDP.MKTP.CD  1.929193e+10  1.970186e+10  2.147035e+10  2.570500e+10   \n",
       "3   NY.GDP.MKTP.CD  1.040732e+10  1.113130e+10  1.194684e+10  1.268022e+10   \n",
       "13  NY.GDP.MKTP.CD  1.857767e+10  1.965282e+10  1.989249e+10  2.150745e+10   \n",
       "14  NY.GDP.MKTP.CD  6.592694e+09  7.311750e+09  7.756110e+09  8.374175e+09   \n",
       "16  NY.GDP.MKTP.CD  1.960000e+08  2.030000e+08  2.135000e+08  2.327500e+08   \n",
       "\n",
       "            1964          1965  ...          2011          2012          2013  \\\n",
       "1   2.350165e+10  2.678117e+10  ...  8.962561e+11  9.131974e+11  9.276555e+11   \n",
       "3   1.384262e+10  1.486682e+10  ...  6.584282e+11  7.169352e+11  8.078189e+11   \n",
       "13  2.376414e+10  2.593684e+10  ...  1.396650e+12  1.546152e+12  1.576184e+12   \n",
       "14  9.169984e+09  9.994071e+09  ...  4.311203e+11  4.094252e+11  4.300687e+11   \n",
       "16  2.607500e+08  1.589950e+08  ...  2.235821e+09  2.333308e+09  2.451625e+09   \n",
       "\n",
       "            2014          2015          2016          2017          2018  \\\n",
       "1   9.563187e+11  8.930997e+11  8.547519e+11  9.622690e+11  9.840320e+11   \n",
       "3   8.469431e+11  7.574921e+11  6.874847e+11  6.809891e+11  7.381313e+11   \n",
       "13  1.467484e+12  1.351694e+12  1.208847e+12  1.329188e+12  1.432881e+12   \n",
       "14  4.419961e+11  3.818176e+11  3.955686e+11  4.162073e+11  4.548726e+11   \n",
       "16  2.705783e+09  3.104395e+09  2.959641e+09  3.172292e+09  3.036937e+09   \n",
       "\n",
       "            2019          2020  \n",
       "1   9.778092e+11  8.984741e+11  \n",
       "3   7.920789e+11  7.865850e+11  \n",
       "13  1.396567e+12  1.330901e+12  \n",
       "14  4.450754e+11  4.289654e+11  \n",
       "16  3.012309e+09  3.258187e+09  \n",
       "\n",
       "[5 rows x 65 columns]"
      ]
     },
     "execution_count": 12,
     "metadata": {},
     "output_type": "execute_result"
    }
   ],
   "source": [
    "gdp = gdp.dropna(axis=\"columns\", how=\"all\") # drop empty columns, like the last column in gdp\n",
    "gdp = gdp.dropna() # drop rows with NaNs, like Aruba and Angola\n",
    "gdp.head()"
   ]
  },
  {
   "cell_type": "markdown",
   "metadata": {},
   "source": [
    "___\n",
    "**Note that the `dropna` function was accessed from the dataframe itself (`gdp.dropna()`).**  These functions are included with each dataframe object. We've already seen this with functions like `describe()`, and even with numpy array functions like `my_array.sum()`.  Many of the functions you'll be using today are included with the dataframe objects. \n",
    "\n",
    "You can browse through these built-in functions by typing the name of a dataframe followed by `.` and then hitting the tab key.  Try it out below!"
   ]
  },
  {
   "cell_type": "code",
   "execution_count": 13,
   "metadata": {},
   "outputs": [
    {
     "data": {
      "text/html": [
       "<div>\n",
       "<style scoped>\n",
       "    .dataframe tbody tr th:only-of-type {\n",
       "        vertical-align: middle;\n",
       "    }\n",
       "\n",
       "    .dataframe tbody tr th {\n",
       "        vertical-align: top;\n",
       "    }\n",
       "\n",
       "    .dataframe thead th {\n",
       "        text-align: right;\n",
       "    }\n",
       "</style>\n",
       "<table border=\"1\" class=\"dataframe\">\n",
       "  <thead>\n",
       "    <tr style=\"text-align: right;\">\n",
       "      <th></th>\n",
       "      <th>1960</th>\n",
       "      <th>1961</th>\n",
       "      <th>1962</th>\n",
       "      <th>1963</th>\n",
       "      <th>1964</th>\n",
       "      <th>1965</th>\n",
       "      <th>1966</th>\n",
       "      <th>1967</th>\n",
       "      <th>1968</th>\n",
       "      <th>1969</th>\n",
       "      <th>...</th>\n",
       "      <th>2011</th>\n",
       "      <th>2012</th>\n",
       "      <th>2013</th>\n",
       "      <th>2014</th>\n",
       "      <th>2015</th>\n",
       "      <th>2016</th>\n",
       "      <th>2017</th>\n",
       "      <th>2018</th>\n",
       "      <th>2019</th>\n",
       "      <th>2020</th>\n",
       "    </tr>\n",
       "  </thead>\n",
       "  <tbody>\n",
       "    <tr>\n",
       "      <th>count</th>\n",
       "      <td>1.210000e+02</td>\n",
       "      <td>1.210000e+02</td>\n",
       "      <td>1.210000e+02</td>\n",
       "      <td>1.210000e+02</td>\n",
       "      <td>1.210000e+02</td>\n",
       "      <td>1.210000e+02</td>\n",
       "      <td>1.210000e+02</td>\n",
       "      <td>1.210000e+02</td>\n",
       "      <td>1.210000e+02</td>\n",
       "      <td>1.210000e+02</td>\n",
       "      <td>...</td>\n",
       "      <td>1.210000e+02</td>\n",
       "      <td>1.210000e+02</td>\n",
       "      <td>1.210000e+02</td>\n",
       "      <td>1.210000e+02</td>\n",
       "      <td>1.210000e+02</td>\n",
       "      <td>1.210000e+02</td>\n",
       "      <td>1.210000e+02</td>\n",
       "      <td>1.210000e+02</td>\n",
       "      <td>1.210000e+02</td>\n",
       "      <td>1.210000e+02</td>\n",
       "    </tr>\n",
       "    <tr>\n",
       "      <th>mean</th>\n",
       "      <td>7.615601e+10</td>\n",
       "      <td>7.810716e+10</td>\n",
       "      <td>8.353834e+10</td>\n",
       "      <td>8.997082e+10</td>\n",
       "      <td>9.869484e+10</td>\n",
       "      <td>1.077017e+11</td>\n",
       "      <td>1.161291e+11</td>\n",
       "      <td>1.226510e+11</td>\n",
       "      <td>1.318158e+11</td>\n",
       "      <td>1.456150e+11</td>\n",
       "      <td>...</td>\n",
       "      <td>4.135028e+12</td>\n",
       "      <td>4.262456e+12</td>\n",
       "      <td>4.434329e+12</td>\n",
       "      <td>4.580732e+12</td>\n",
       "      <td>4.360294e+12</td>\n",
       "      <td>4.413809e+12</td>\n",
       "      <td>4.733136e+12</td>\n",
       "      <td>5.025870e+12</td>\n",
       "      <td>5.114606e+12</td>\n",
       "      <td>4.933731e+12</td>\n",
       "    </tr>\n",
       "    <tr>\n",
       "      <th>std</th>\n",
       "      <td>2.223599e+11</td>\n",
       "      <td>2.319129e+11</td>\n",
       "      <td>2.493698e+11</td>\n",
       "      <td>2.681147e+11</td>\n",
       "      <td>2.932747e+11</td>\n",
       "      <td>3.189465e+11</td>\n",
       "      <td>3.478115e+11</td>\n",
       "      <td>3.712141e+11</td>\n",
       "      <td>4.018441e+11</td>\n",
       "      <td>4.421745e+11</td>\n",
       "      <td>...</td>\n",
       "      <td>1.094628e+13</td>\n",
       "      <td>1.117776e+13</td>\n",
       "      <td>1.150401e+13</td>\n",
       "      <td>1.182147e+13</td>\n",
       "      <td>1.123128e+13</td>\n",
       "      <td>1.141597e+13</td>\n",
       "      <td>1.214127e+13</td>\n",
       "      <td>1.290593e+13</td>\n",
       "      <td>1.310484e+13</td>\n",
       "      <td>1.269586e+13</td>\n",
       "    </tr>\n",
       "    <tr>\n",
       "      <th>min</th>\n",
       "      <td>1.201201e+07</td>\n",
       "      <td>1.159201e+07</td>\n",
       "      <td>1.254156e+07</td>\n",
       "      <td>1.283323e+07</td>\n",
       "      <td>1.341655e+07</td>\n",
       "      <td>1.359393e+07</td>\n",
       "      <td>1.446908e+07</td>\n",
       "      <td>1.583518e+07</td>\n",
       "      <td>1.460000e+07</td>\n",
       "      <td>1.585000e+07</td>\n",
       "      <td>...</td>\n",
       "      <td>6.761296e+08</td>\n",
       "      <td>6.929333e+08</td>\n",
       "      <td>7.212074e+08</td>\n",
       "      <td>7.277148e+08</td>\n",
       "      <td>7.554000e+08</td>\n",
       "      <td>7.744296e+08</td>\n",
       "      <td>7.921778e+08</td>\n",
       "      <td>8.113000e+08</td>\n",
       "      <td>8.247185e+08</td>\n",
       "      <td>8.096815e+08</td>\n",
       "    </tr>\n",
       "    <tr>\n",
       "      <th>25%</th>\n",
       "      <td>5.075138e+08</td>\n",
       "      <td>4.903252e+08</td>\n",
       "      <td>5.317365e+08</td>\n",
       "      <td>5.161478e+08</td>\n",
       "      <td>5.828164e+08</td>\n",
       "      <td>7.352671e+08</td>\n",
       "      <td>7.237356e+08</td>\n",
       "      <td>7.619815e+08</td>\n",
       "      <td>7.738415e+08</td>\n",
       "      <td>8.536302e+08</td>\n",
       "      <td>...</td>\n",
       "      <td>1.798491e+10</td>\n",
       "      <td>1.852860e+10</td>\n",
       "      <td>1.909102e+10</td>\n",
       "      <td>1.979725e+10</td>\n",
       "      <td>2.097977e+10</td>\n",
       "      <td>2.079317e+10</td>\n",
       "      <td>2.274261e+10</td>\n",
       "      <td>2.406778e+10</td>\n",
       "      <td>2.330869e+10</td>\n",
       "      <td>2.171467e+10</td>\n",
       "    </tr>\n",
       "    <tr>\n",
       "      <th>50%</th>\n",
       "      <td>3.193200e+09</td>\n",
       "      <td>3.034044e+09</td>\n",
       "      <td>3.308913e+09</td>\n",
       "      <td>3.905734e+09</td>\n",
       "      <td>3.889130e+09</td>\n",
       "      <td>4.388938e+09</td>\n",
       "      <td>5.135388e+09</td>\n",
       "      <td>5.203136e+09</td>\n",
       "      <td>5.736084e+09</td>\n",
       "      <td>6.450175e+09</td>\n",
       "      <td>...</td>\n",
       "      <td>2.447972e+11</td>\n",
       "      <td>2.420535e+11</td>\n",
       "      <td>2.384840e+11</td>\n",
       "      <td>2.589096e+11</td>\n",
       "      <td>2.439191e+11</td>\n",
       "      <td>2.504401e+11</td>\n",
       "      <td>2.770347e+11</td>\n",
       "      <td>2.975717e+11</td>\n",
       "      <td>2.793855e+11</td>\n",
       "      <td>2.712339e+11</td>\n",
       "    </tr>\n",
       "    <tr>\n",
       "      <th>75%</th>\n",
       "      <td>2.925265e+10</td>\n",
       "      <td>3.039508e+10</td>\n",
       "      <td>3.293141e+10</td>\n",
       "      <td>3.772878e+10</td>\n",
       "      <td>3.684782e+10</td>\n",
       "      <td>4.104042e+10</td>\n",
       "      <td>4.428192e+10</td>\n",
       "      <td>4.377710e+10</td>\n",
       "      <td>4.680919e+10</td>\n",
       "      <td>5.352536e+10</td>\n",
       "      <td>...</td>\n",
       "      <td>1.554802e+12</td>\n",
       "      <td>1.776151e+12</td>\n",
       "      <td>1.846597e+12</td>\n",
       "      <td>1.805750e+12</td>\n",
       "      <td>1.650983e+12</td>\n",
       "      <td>1.542336e+12</td>\n",
       "      <td>1.649266e+12</td>\n",
       "      <td>1.724846e+12</td>\n",
       "      <td>1.770043e+12</td>\n",
       "      <td>1.685632e+12</td>\n",
       "    </tr>\n",
       "    <tr>\n",
       "      <th>max</th>\n",
       "      <td>1.384628e+12</td>\n",
       "      <td>1.440342e+12</td>\n",
       "      <td>1.545697e+12</td>\n",
       "      <td>1.665141e+12</td>\n",
       "      <td>1.824117e+12</td>\n",
       "      <td>1.986368e+12</td>\n",
       "      <td>2.155141e+12</td>\n",
       "      <td>2.294159e+12</td>\n",
       "      <td>2.476490e+12</td>\n",
       "      <td>2.732228e+12</td>\n",
       "      <td>...</td>\n",
       "      <td>7.347986e+13</td>\n",
       "      <td>7.517281e+13</td>\n",
       "      <td>7.733191e+13</td>\n",
       "      <td>7.946886e+13</td>\n",
       "      <td>7.523360e+13</td>\n",
       "      <td>7.641725e+13</td>\n",
       "      <td>8.132672e+13</td>\n",
       "      <td>8.634351e+13</td>\n",
       "      <td>8.760777e+13</td>\n",
       "      <td>8.470543e+13</td>\n",
       "    </tr>\n",
       "  </tbody>\n",
       "</table>\n",
       "<p>8 rows × 61 columns</p>\n",
       "</div>"
      ],
      "text/plain": [
       "               1960          1961          1962          1963          1964  \\\n",
       "count  1.210000e+02  1.210000e+02  1.210000e+02  1.210000e+02  1.210000e+02   \n",
       "mean   7.615601e+10  7.810716e+10  8.353834e+10  8.997082e+10  9.869484e+10   \n",
       "std    2.223599e+11  2.319129e+11  2.493698e+11  2.681147e+11  2.932747e+11   \n",
       "min    1.201201e+07  1.159201e+07  1.254156e+07  1.283323e+07  1.341655e+07   \n",
       "25%    5.075138e+08  4.903252e+08  5.317365e+08  5.161478e+08  5.828164e+08   \n",
       "50%    3.193200e+09  3.034044e+09  3.308913e+09  3.905734e+09  3.889130e+09   \n",
       "75%    2.925265e+10  3.039508e+10  3.293141e+10  3.772878e+10  3.684782e+10   \n",
       "max    1.384628e+12  1.440342e+12  1.545697e+12  1.665141e+12  1.824117e+12   \n",
       "\n",
       "               1965          1966          1967          1968          1969  \\\n",
       "count  1.210000e+02  1.210000e+02  1.210000e+02  1.210000e+02  1.210000e+02   \n",
       "mean   1.077017e+11  1.161291e+11  1.226510e+11  1.318158e+11  1.456150e+11   \n",
       "std    3.189465e+11  3.478115e+11  3.712141e+11  4.018441e+11  4.421745e+11   \n",
       "min    1.359393e+07  1.446908e+07  1.583518e+07  1.460000e+07  1.585000e+07   \n",
       "25%    7.352671e+08  7.237356e+08  7.619815e+08  7.738415e+08  8.536302e+08   \n",
       "50%    4.388938e+09  5.135388e+09  5.203136e+09  5.736084e+09  6.450175e+09   \n",
       "75%    4.104042e+10  4.428192e+10  4.377710e+10  4.680919e+10  5.352536e+10   \n",
       "max    1.986368e+12  2.155141e+12  2.294159e+12  2.476490e+12  2.732228e+12   \n",
       "\n",
       "       ...          2011          2012          2013          2014  \\\n",
       "count  ...  1.210000e+02  1.210000e+02  1.210000e+02  1.210000e+02   \n",
       "mean   ...  4.135028e+12  4.262456e+12  4.434329e+12  4.580732e+12   \n",
       "std    ...  1.094628e+13  1.117776e+13  1.150401e+13  1.182147e+13   \n",
       "min    ...  6.761296e+08  6.929333e+08  7.212074e+08  7.277148e+08   \n",
       "25%    ...  1.798491e+10  1.852860e+10  1.909102e+10  1.979725e+10   \n",
       "50%    ...  2.447972e+11  2.420535e+11  2.384840e+11  2.589096e+11   \n",
       "75%    ...  1.554802e+12  1.776151e+12  1.846597e+12  1.805750e+12   \n",
       "max    ...  7.347986e+13  7.517281e+13  7.733191e+13  7.946886e+13   \n",
       "\n",
       "               2015          2016          2017          2018          2019  \\\n",
       "count  1.210000e+02  1.210000e+02  1.210000e+02  1.210000e+02  1.210000e+02   \n",
       "mean   4.360294e+12  4.413809e+12  4.733136e+12  5.025870e+12  5.114606e+12   \n",
       "std    1.123128e+13  1.141597e+13  1.214127e+13  1.290593e+13  1.310484e+13   \n",
       "min    7.554000e+08  7.744296e+08  7.921778e+08  8.113000e+08  8.247185e+08   \n",
       "25%    2.097977e+10  2.079317e+10  2.274261e+10  2.406778e+10  2.330869e+10   \n",
       "50%    2.439191e+11  2.504401e+11  2.770347e+11  2.975717e+11  2.793855e+11   \n",
       "75%    1.650983e+12  1.542336e+12  1.649266e+12  1.724846e+12  1.770043e+12   \n",
       "max    7.523360e+13  7.641725e+13  8.132672e+13  8.634351e+13  8.760777e+13   \n",
       "\n",
       "               2020  \n",
       "count  1.210000e+02  \n",
       "mean   4.933731e+12  \n",
       "std    1.269586e+13  \n",
       "min    8.096815e+08  \n",
       "25%    2.171467e+10  \n",
       "50%    2.712339e+11  \n",
       "75%    1.685632e+12  \n",
       "max    8.470543e+13  \n",
       "\n",
       "[8 rows x 61 columns]"
      ]
     },
     "execution_count": 13,
     "metadata": {},
     "output_type": "execute_result"
    }
   ],
   "source": [
    "# uncomment the line below, then go to the end of the line and hit tab \n",
    "\n",
    "gdp.describe()"
   ]
  },
  {
   "cell_type": "markdown",
   "metadata": {},
   "source": [
    "If you want to learn more about something, select it (or type it out), add a question mark, and then run the cell.\n",
    "___"
   ]
  },
  {
   "cell_type": "markdown",
   "metadata": {},
   "source": [
    "### Making the dataset easier to explore\n",
    "\n",
    "Typically when we are looking at data over time we represent each time step as a row rather than a column. Switching the rows and columns is an operation known as \"Transposing\" and [Pandas has a function](https://pandas.pydata.org/docs/reference/api/pandas.DataFrame.transpose.html) that does that! \n",
    "\n",
    "**IMPORTANT:** When you use Pandas functions on dataframes, some operations will affect the original dataframe (referred to as not in place operations), and some will not (referred to as in place operations). Transposing a dataframe is an **in place** operation, meaning that the results are not saved unless you save them to a variable!\n",
    "\n",
    "Let's transpose the dataset to get years as rows instead of columns.\n",
    "\n",
    "Example of Transposing:\n",
    "\n",
    "<img src=\"https://www.howtogeek.com/wp-content/uploads/2016/06/00_lead_image_transpose_word_table.png\" width=500px>\n",
    "\n",
    "&#9989;&nbsp; **Transpose the data** to flip the orientation of the rows and columns."
   ]
  },
  {
   "cell_type": "code",
   "execution_count": 14,
   "metadata": {},
   "outputs": [
    {
     "data": {
      "text/html": [
       "<div>\n",
       "<style scoped>\n",
       "    .dataframe tbody tr th:only-of-type {\n",
       "        vertical-align: middle;\n",
       "    }\n",
       "\n",
       "    .dataframe tbody tr th {\n",
       "        vertical-align: top;\n",
       "    }\n",
       "\n",
       "    .dataframe thead th {\n",
       "        text-align: right;\n",
       "    }\n",
       "</style>\n",
       "<table border=\"1\" class=\"dataframe\">\n",
       "  <thead>\n",
       "    <tr style=\"text-align: right;\">\n",
       "      <th></th>\n",
       "      <th>1</th>\n",
       "      <th>3</th>\n",
       "      <th>13</th>\n",
       "      <th>14</th>\n",
       "      <th>16</th>\n",
       "      <th>17</th>\n",
       "      <th>18</th>\n",
       "      <th>19</th>\n",
       "      <th>20</th>\n",
       "      <th>23</th>\n",
       "      <th>...</th>\n",
       "      <th>244</th>\n",
       "      <th>247</th>\n",
       "      <th>249</th>\n",
       "      <th>250</th>\n",
       "      <th>251</th>\n",
       "      <th>253</th>\n",
       "      <th>259</th>\n",
       "      <th>263</th>\n",
       "      <th>264</th>\n",
       "      <th>265</th>\n",
       "    </tr>\n",
       "  </thead>\n",
       "  <tbody>\n",
       "    <tr>\n",
       "      <th>Country Name</th>\n",
       "      <td>Africa Eastern and Southern</td>\n",
       "      <td>Africa Western and Central</td>\n",
       "      <td>Australia</td>\n",
       "      <td>Austria</td>\n",
       "      <td>Burundi</td>\n",
       "      <td>Belgium</td>\n",
       "      <td>Benin</td>\n",
       "      <td>Burkina Faso</td>\n",
       "      <td>Bangladesh</td>\n",
       "      <td>Bahamas, The</td>\n",
       "      <td>...</td>\n",
       "      <td>Turkey</td>\n",
       "      <td>Uganda</td>\n",
       "      <td>Upper middle income</td>\n",
       "      <td>Uruguay</td>\n",
       "      <td>United States</td>\n",
       "      <td>St. Vincent and the Grenadines</td>\n",
       "      <td>World</td>\n",
       "      <td>South Africa</td>\n",
       "      <td>Zambia</td>\n",
       "      <td>Zimbabwe</td>\n",
       "    </tr>\n",
       "    <tr>\n",
       "      <th>Country Code</th>\n",
       "      <td>AFE</td>\n",
       "      <td>AFW</td>\n",
       "      <td>AUS</td>\n",
       "      <td>AUT</td>\n",
       "      <td>BDI</td>\n",
       "      <td>BEL</td>\n",
       "      <td>BEN</td>\n",
       "      <td>BFA</td>\n",
       "      <td>BGD</td>\n",
       "      <td>BHS</td>\n",
       "      <td>...</td>\n",
       "      <td>TUR</td>\n",
       "      <td>UGA</td>\n",
       "      <td>UMC</td>\n",
       "      <td>URY</td>\n",
       "      <td>USA</td>\n",
       "      <td>VCT</td>\n",
       "      <td>WLD</td>\n",
       "      <td>ZAF</td>\n",
       "      <td>ZMB</td>\n",
       "      <td>ZWE</td>\n",
       "    </tr>\n",
       "    <tr>\n",
       "      <th>Indicator Name</th>\n",
       "      <td>GDP (current US$)</td>\n",
       "      <td>GDP (current US$)</td>\n",
       "      <td>GDP (current US$)</td>\n",
       "      <td>GDP (current US$)</td>\n",
       "      <td>GDP (current US$)</td>\n",
       "      <td>GDP (current US$)</td>\n",
       "      <td>GDP (current US$)</td>\n",
       "      <td>GDP (current US$)</td>\n",
       "      <td>GDP (current US$)</td>\n",
       "      <td>GDP (current US$)</td>\n",
       "      <td>...</td>\n",
       "      <td>GDP (current US$)</td>\n",
       "      <td>GDP (current US$)</td>\n",
       "      <td>GDP (current US$)</td>\n",
       "      <td>GDP (current US$)</td>\n",
       "      <td>GDP (current US$)</td>\n",
       "      <td>GDP (current US$)</td>\n",
       "      <td>GDP (current US$)</td>\n",
       "      <td>GDP (current US$)</td>\n",
       "      <td>GDP (current US$)</td>\n",
       "      <td>GDP (current US$)</td>\n",
       "    </tr>\n",
       "    <tr>\n",
       "      <th>Indicator Code</th>\n",
       "      <td>NY.GDP.MKTP.CD</td>\n",
       "      <td>NY.GDP.MKTP.CD</td>\n",
       "      <td>NY.GDP.MKTP.CD</td>\n",
       "      <td>NY.GDP.MKTP.CD</td>\n",
       "      <td>NY.GDP.MKTP.CD</td>\n",
       "      <td>NY.GDP.MKTP.CD</td>\n",
       "      <td>NY.GDP.MKTP.CD</td>\n",
       "      <td>NY.GDP.MKTP.CD</td>\n",
       "      <td>NY.GDP.MKTP.CD</td>\n",
       "      <td>NY.GDP.MKTP.CD</td>\n",
       "      <td>...</td>\n",
       "      <td>NY.GDP.MKTP.CD</td>\n",
       "      <td>NY.GDP.MKTP.CD</td>\n",
       "      <td>NY.GDP.MKTP.CD</td>\n",
       "      <td>NY.GDP.MKTP.CD</td>\n",
       "      <td>NY.GDP.MKTP.CD</td>\n",
       "      <td>NY.GDP.MKTP.CD</td>\n",
       "      <td>NY.GDP.MKTP.CD</td>\n",
       "      <td>NY.GDP.MKTP.CD</td>\n",
       "      <td>NY.GDP.MKTP.CD</td>\n",
       "      <td>NY.GDP.MKTP.CD</td>\n",
       "    </tr>\n",
       "    <tr>\n",
       "      <th>1960</th>\n",
       "      <td>19291929319.738899</td>\n",
       "      <td>10407321640.353901</td>\n",
       "      <td>18577668271.922901</td>\n",
       "      <td>6592693841.18495</td>\n",
       "      <td>195999990.0</td>\n",
       "      <td>11658722590.99</td>\n",
       "      <td>226195579.35701</td>\n",
       "      <td>330442817.168859</td>\n",
       "      <td>4274893913.49536</td>\n",
       "      <td>169803921.568627</td>\n",
       "      <td>...</td>\n",
       "      <td>13995067817.509199</td>\n",
       "      <td>423008385.744235</td>\n",
       "      <td>237934419358.274994</td>\n",
       "      <td>1242289239.20493</td>\n",
       "      <td>543300000000.0</td>\n",
       "      <td>13066557.778685</td>\n",
       "      <td>1384628173213.669922</td>\n",
       "      <td>7575396973.02288</td>\n",
       "      <td>713000000.0</td>\n",
       "      <td>1052990400.0</td>\n",
       "    </tr>\n",
       "    <tr>\n",
       "      <th>...</th>\n",
       "      <td>...</td>\n",
       "      <td>...</td>\n",
       "      <td>...</td>\n",
       "      <td>...</td>\n",
       "      <td>...</td>\n",
       "      <td>...</td>\n",
       "      <td>...</td>\n",
       "      <td>...</td>\n",
       "      <td>...</td>\n",
       "      <td>...</td>\n",
       "      <td>...</td>\n",
       "      <td>...</td>\n",
       "      <td>...</td>\n",
       "      <td>...</td>\n",
       "      <td>...</td>\n",
       "      <td>...</td>\n",
       "      <td>...</td>\n",
       "      <td>...</td>\n",
       "      <td>...</td>\n",
       "      <td>...</td>\n",
       "      <td>...</td>\n",
       "    </tr>\n",
       "    <tr>\n",
       "      <th>2016</th>\n",
       "      <td>854751939466.569946</td>\n",
       "      <td>687484728475.58606</td>\n",
       "      <td>1208846993739.98999</td>\n",
       "      <td>395568644341.038025</td>\n",
       "      <td>2959641046.92291</td>\n",
       "      <td>475739588764.758972</td>\n",
       "      <td>11821065852.1271</td>\n",
       "      <td>12833363370.174</td>\n",
       "      <td>221415188000.475006</td>\n",
       "      <td>11928500000.0</td>\n",
       "      <td>...</td>\n",
       "      <td>869692960365.551025</td>\n",
       "      <td>29078589751.459599</td>\n",
       "      <td>19793622358355.601562</td>\n",
       "      <td>57236652490.169899</td>\n",
       "      <td>18745075687000.0</td>\n",
       "      <td>774429629.62963</td>\n",
       "      <td>76417252932190.90625</td>\n",
       "      <td>296357282715.109009</td>\n",
       "      <td>20958412538.309299</td>\n",
       "      <td>20548678100.0</td>\n",
       "    </tr>\n",
       "    <tr>\n",
       "      <th>2017</th>\n",
       "      <td>962268990853.850952</td>\n",
       "      <td>680989095100.780029</td>\n",
       "      <td>1329188475752.320068</td>\n",
       "      <td>416207272209.538025</td>\n",
       "      <td>3172292379.36329</td>\n",
       "      <td>501522868356.440979</td>\n",
       "      <td>12701655845.961201</td>\n",
       "      <td>14106956830.085699</td>\n",
       "      <td>249710922462.30899</td>\n",
       "      <td>12490700000.0</td>\n",
       "      <td>...</td>\n",
       "      <td>858996263095.858032</td>\n",
       "      <td>30744473839.743698</td>\n",
       "      <td>21911993146488.101562</td>\n",
       "      <td>64233966861.251801</td>\n",
       "      <td>19542979183000.0</td>\n",
       "      <td>792177777.777778</td>\n",
       "      <td>81326724569979.796875</td>\n",
       "      <td>349554116683.817993</td>\n",
       "      <td>25873601260.8353</td>\n",
       "      <td>19015327919.1087</td>\n",
       "    </tr>\n",
       "    <tr>\n",
       "      <th>2018</th>\n",
       "      <td>984032027895.520996</td>\n",
       "      <td>738131279381.972046</td>\n",
       "      <td>1432881172002.169922</td>\n",
       "      <td>454872626780.005005</td>\n",
       "      <td>3036937141.27062</td>\n",
       "      <td>543410654016.60199</td>\n",
       "      <td>14250987026.053301</td>\n",
       "      <td>16059910870.623899</td>\n",
       "      <td>274038973437.274994</td>\n",
       "      <td>13022100000.0</td>\n",
       "      <td>...</td>\n",
       "      <td>778377023568.884033</td>\n",
       "      <td>32912338571.340302</td>\n",
       "      <td>23580897831803.5</td>\n",
       "      <td>64515038268.137299</td>\n",
       "      <td>20611860934000.0</td>\n",
       "      <td>811300000.0</td>\n",
       "      <td>86343514250201.5</td>\n",
       "      <td>368288939768.322021</td>\n",
       "      <td>26311637646.6539</td>\n",
       "      <td>19523622341.6133</td>\n",
       "    </tr>\n",
       "    <tr>\n",
       "      <th>2019</th>\n",
       "      <td>977809241188.770996</td>\n",
       "      <td>792078923887.671997</td>\n",
       "      <td>1396567014733.22998</td>\n",
       "      <td>445075391688.156006</td>\n",
       "      <td>3012308945.62671</td>\n",
       "      <td>533254518108.234009</td>\n",
       "      <td>14391686309.033001</td>\n",
       "      <td>15990803569.996099</td>\n",
       "      <td>302563398919.927979</td>\n",
       "      <td>13578800000.0</td>\n",
       "      <td>...</td>\n",
       "      <td>761428183369.171021</td>\n",
       "      <td>35170037380.862999</td>\n",
       "      <td>23979749026560.5</td>\n",
       "      <td>61231149880.585701</td>\n",
       "      <td>21433224697000.0</td>\n",
       "      <td>824718518.518518</td>\n",
       "      <td>87607773878148.90625</td>\n",
       "      <td>351431649241.439026</td>\n",
       "      <td>23308688906.128799</td>\n",
       "      <td>16932434838.692801</td>\n",
       "    </tr>\n",
       "    <tr>\n",
       "      <th>2020</th>\n",
       "      <td>898474072150.353027</td>\n",
       "      <td>786584975143.582031</td>\n",
       "      <td>1330900925056.97998</td>\n",
       "      <td>428965397959.455994</td>\n",
       "      <td>3258187232.63159</td>\n",
       "      <td>515332499627.861023</td>\n",
       "      <td>15651545208.8783</td>\n",
       "      <td>17369059295.222599</td>\n",
       "      <td>324239176765.052979</td>\n",
       "      <td>11250000000.0</td>\n",
       "      <td>...</td>\n",
       "      <td>720101212394.114014</td>\n",
       "      <td>37372032557.594398</td>\n",
       "      <td>23104877770162.5</td>\n",
       "      <td>53628827440.3582</td>\n",
       "      <td>20936600000000.0</td>\n",
       "      <td>809681481.481481</td>\n",
       "      <td>84705425882119.0</td>\n",
       "      <td>301923639269.552002</td>\n",
       "      <td>19320053859.278999</td>\n",
       "      <td>16768513442.6415</td>\n",
       "    </tr>\n",
       "  </tbody>\n",
       "</table>\n",
       "<p>65 rows × 121 columns</p>\n",
       "</div>"
      ],
      "text/plain": [
       "                                        1                           3    \\\n",
       "Country Name    Africa Eastern and Southern  Africa Western and Central   \n",
       "Country Code                            AFE                         AFW   \n",
       "Indicator Name            GDP (current US$)           GDP (current US$)   \n",
       "Indicator Code               NY.GDP.MKTP.CD              NY.GDP.MKTP.CD   \n",
       "1960                     19291929319.738899          10407321640.353901   \n",
       "...                                     ...                         ...   \n",
       "2016                    854751939466.569946          687484728475.58606   \n",
       "2017                    962268990853.850952         680989095100.780029   \n",
       "2018                    984032027895.520996         738131279381.972046   \n",
       "2019                    977809241188.770996         792078923887.671997   \n",
       "2020                    898474072150.353027         786584975143.582031   \n",
       "\n",
       "                                 13                   14                 16   \\\n",
       "Country Name               Australia              Austria            Burundi   \n",
       "Country Code                     AUS                  AUT                BDI   \n",
       "Indicator Name     GDP (current US$)    GDP (current US$)  GDP (current US$)   \n",
       "Indicator Code        NY.GDP.MKTP.CD       NY.GDP.MKTP.CD     NY.GDP.MKTP.CD   \n",
       "1960              18577668271.922901     6592693841.18495        195999990.0   \n",
       "...                              ...                  ...                ...   \n",
       "2016             1208846993739.98999  395568644341.038025   2959641046.92291   \n",
       "2017            1329188475752.320068  416207272209.538025   3172292379.36329   \n",
       "2018            1432881172002.169922  454872626780.005005   3036937141.27062   \n",
       "2019             1396567014733.22998  445075391688.156006   3012308945.62671   \n",
       "2020             1330900925056.97998  428965397959.455994   3258187232.63159   \n",
       "\n",
       "                                17                  18                  19   \\\n",
       "Country Name                Belgium               Benin        Burkina Faso   \n",
       "Country Code                    BEL                 BEN                 BFA   \n",
       "Indicator Name    GDP (current US$)   GDP (current US$)   GDP (current US$)   \n",
       "Indicator Code       NY.GDP.MKTP.CD      NY.GDP.MKTP.CD      NY.GDP.MKTP.CD   \n",
       "1960                 11658722590.99     226195579.35701    330442817.168859   \n",
       "...                             ...                 ...                 ...   \n",
       "2016            475739588764.758972    11821065852.1271     12833363370.174   \n",
       "2017            501522868356.440979  12701655845.961201  14106956830.085699   \n",
       "2018             543410654016.60199  14250987026.053301  16059910870.623899   \n",
       "2019            533254518108.234009  14391686309.033001  15990803569.996099   \n",
       "2020            515332499627.861023    15651545208.8783  17369059295.222599   \n",
       "\n",
       "                                20                 23   ...  \\\n",
       "Country Name             Bangladesh       Bahamas, The  ...   \n",
       "Country Code                    BGD                BHS  ...   \n",
       "Indicator Name    GDP (current US$)  GDP (current US$)  ...   \n",
       "Indicator Code       NY.GDP.MKTP.CD     NY.GDP.MKTP.CD  ...   \n",
       "1960               4274893913.49536   169803921.568627  ...   \n",
       "...                             ...                ...  ...   \n",
       "2016            221415188000.475006      11928500000.0  ...   \n",
       "2017             249710922462.30899      12490700000.0  ...   \n",
       "2018            274038973437.274994      13022100000.0  ...   \n",
       "2019            302563398919.927979      13578800000.0  ...   \n",
       "2020            324239176765.052979      11250000000.0  ...   \n",
       "\n",
       "                                244                 247  \\\n",
       "Country Name                 Turkey              Uganda   \n",
       "Country Code                    TUR                 UGA   \n",
       "Indicator Name    GDP (current US$)   GDP (current US$)   \n",
       "Indicator Code       NY.GDP.MKTP.CD      NY.GDP.MKTP.CD   \n",
       "1960             13995067817.509199    423008385.744235   \n",
       "...                             ...                 ...   \n",
       "2016            869692960365.551025  29078589751.459599   \n",
       "2017            858996263095.858032  30744473839.743698   \n",
       "2018            778377023568.884033  32912338571.340302   \n",
       "2019            761428183369.171021  35170037380.862999   \n",
       "2020            720101212394.114014  37372032557.594398   \n",
       "\n",
       "                                  249                 250                251  \\\n",
       "Country Name      Upper middle income             Uruguay      United States   \n",
       "Country Code                      UMC                 URY                USA   \n",
       "Indicator Name      GDP (current US$)   GDP (current US$)  GDP (current US$)   \n",
       "Indicator Code         NY.GDP.MKTP.CD      NY.GDP.MKTP.CD     NY.GDP.MKTP.CD   \n",
       "1960              237934419358.274994    1242289239.20493     543300000000.0   \n",
       "...                               ...                 ...                ...   \n",
       "2016            19793622358355.601562  57236652490.169899   18745075687000.0   \n",
       "2017            21911993146488.101562  64233966861.251801   19542979183000.0   \n",
       "2018                 23580897831803.5  64515038268.137299   20611860934000.0   \n",
       "2019                 23979749026560.5  61231149880.585701   21433224697000.0   \n",
       "2020                 23104877770162.5    53628827440.3582   20936600000000.0   \n",
       "\n",
       "                                           253                    259  \\\n",
       "Country Name    St. Vincent and the Grenadines                  World   \n",
       "Country Code                               VCT                    WLD   \n",
       "Indicator Name               GDP (current US$)      GDP (current US$)   \n",
       "Indicator Code                  NY.GDP.MKTP.CD         NY.GDP.MKTP.CD   \n",
       "1960                           13066557.778685   1384628173213.669922   \n",
       "...                                        ...                    ...   \n",
       "2016                           774429629.62963   76417252932190.90625   \n",
       "2017                          792177777.777778  81326724569979.796875   \n",
       "2018                               811300000.0       86343514250201.5   \n",
       "2019                          824718518.518518   87607773878148.90625   \n",
       "2020                          809681481.481481       84705425882119.0   \n",
       "\n",
       "                                263                 264                 265  \n",
       "Country Name           South Africa              Zambia            Zimbabwe  \n",
       "Country Code                    ZAF                 ZMB                 ZWE  \n",
       "Indicator Name    GDP (current US$)   GDP (current US$)   GDP (current US$)  \n",
       "Indicator Code       NY.GDP.MKTP.CD      NY.GDP.MKTP.CD      NY.GDP.MKTP.CD  \n",
       "1960               7575396973.02288         713000000.0        1052990400.0  \n",
       "...                             ...                 ...                 ...  \n",
       "2016            296357282715.109009  20958412538.309299       20548678100.0  \n",
       "2017            349554116683.817993    25873601260.8353    19015327919.1087  \n",
       "2018            368288939768.322021    26311637646.6539    19523622341.6133  \n",
       "2019            351431649241.439026  23308688906.128799  16932434838.692801  \n",
       "2020            301923639269.552002  19320053859.278999    16768513442.6415  \n",
       "\n",
       "[65 rows x 121 columns]"
      ]
     },
     "execution_count": 14,
     "metadata": {},
     "output_type": "execute_result"
    }
   ],
   "source": [
    "# Transpose the dataframe here and check to see if it worked\n",
    "# MAKE SURE YOU SAVE YOUR TRANSPOSED DATAFRAME AS A VARIABLE\n",
    "\n",
    "y = gdp.transpose()\n",
    "y"
   ]
  },
  {
   "cell_type": "markdown",
   "metadata": {},
   "source": [
    "One of the benefits of Pandas Dataframe is being able to index a column by name rather than a number.\n",
    "\n",
    "&#9989;&nbsp; **Modify the dataframe so that each country name is used as the column headers by assigning the first row of the dataframe to be the column headers.**\n",
    "\n",
    "Think back to the Pre-Class Assignment. What information are you looking to retreive? What tools do you have to access this information? You may want to use `.iloc` to do this. If done correctly, you then should be able to index a column out of our dataframe using `gdp['United States']`, for example. Make sure to test this out!"
   ]
  },
  {
   "cell_type": "code",
   "execution_count": 15,
   "metadata": {},
   "outputs": [
    {
     "data": {
      "text/html": [
       "<div>\n",
       "<style scoped>\n",
       "    .dataframe tbody tr th:only-of-type {\n",
       "        vertical-align: middle;\n",
       "    }\n",
       "\n",
       "    .dataframe tbody tr th {\n",
       "        vertical-align: top;\n",
       "    }\n",
       "\n",
       "    .dataframe thead th {\n",
       "        text-align: right;\n",
       "    }\n",
       "</style>\n",
       "<table border=\"1\" class=\"dataframe\">\n",
       "  <thead>\n",
       "    <tr style=\"text-align: right;\">\n",
       "      <th>Country Name</th>\n",
       "      <th>Africa Eastern and Southern</th>\n",
       "      <th>Africa Western and Central</th>\n",
       "      <th>Australia</th>\n",
       "      <th>Austria</th>\n",
       "      <th>Burundi</th>\n",
       "      <th>Belgium</th>\n",
       "      <th>Benin</th>\n",
       "      <th>Burkina Faso</th>\n",
       "      <th>Bangladesh</th>\n",
       "      <th>Bahamas, The</th>\n",
       "      <th>...</th>\n",
       "      <th>Turkey</th>\n",
       "      <th>Uganda</th>\n",
       "      <th>Upper middle income</th>\n",
       "      <th>Uruguay</th>\n",
       "      <th>United States</th>\n",
       "      <th>St. Vincent and the Grenadines</th>\n",
       "      <th>World</th>\n",
       "      <th>South Africa</th>\n",
       "      <th>Zambia</th>\n",
       "      <th>Zimbabwe</th>\n",
       "    </tr>\n",
       "  </thead>\n",
       "  <tbody>\n",
       "    <tr>\n",
       "      <th>Country Name</th>\n",
       "      <td>Africa Eastern and Southern</td>\n",
       "      <td>Africa Western and Central</td>\n",
       "      <td>Australia</td>\n",
       "      <td>Austria</td>\n",
       "      <td>Burundi</td>\n",
       "      <td>Belgium</td>\n",
       "      <td>Benin</td>\n",
       "      <td>Burkina Faso</td>\n",
       "      <td>Bangladesh</td>\n",
       "      <td>Bahamas, The</td>\n",
       "      <td>...</td>\n",
       "      <td>Turkey</td>\n",
       "      <td>Uganda</td>\n",
       "      <td>Upper middle income</td>\n",
       "      <td>Uruguay</td>\n",
       "      <td>United States</td>\n",
       "      <td>St. Vincent and the Grenadines</td>\n",
       "      <td>World</td>\n",
       "      <td>South Africa</td>\n",
       "      <td>Zambia</td>\n",
       "      <td>Zimbabwe</td>\n",
       "    </tr>\n",
       "    <tr>\n",
       "      <th>Country Code</th>\n",
       "      <td>AFE</td>\n",
       "      <td>AFW</td>\n",
       "      <td>AUS</td>\n",
       "      <td>AUT</td>\n",
       "      <td>BDI</td>\n",
       "      <td>BEL</td>\n",
       "      <td>BEN</td>\n",
       "      <td>BFA</td>\n",
       "      <td>BGD</td>\n",
       "      <td>BHS</td>\n",
       "      <td>...</td>\n",
       "      <td>TUR</td>\n",
       "      <td>UGA</td>\n",
       "      <td>UMC</td>\n",
       "      <td>URY</td>\n",
       "      <td>USA</td>\n",
       "      <td>VCT</td>\n",
       "      <td>WLD</td>\n",
       "      <td>ZAF</td>\n",
       "      <td>ZMB</td>\n",
       "      <td>ZWE</td>\n",
       "    </tr>\n",
       "    <tr>\n",
       "      <th>Indicator Name</th>\n",
       "      <td>GDP (current US$)</td>\n",
       "      <td>GDP (current US$)</td>\n",
       "      <td>GDP (current US$)</td>\n",
       "      <td>GDP (current US$)</td>\n",
       "      <td>GDP (current US$)</td>\n",
       "      <td>GDP (current US$)</td>\n",
       "      <td>GDP (current US$)</td>\n",
       "      <td>GDP (current US$)</td>\n",
       "      <td>GDP (current US$)</td>\n",
       "      <td>GDP (current US$)</td>\n",
       "      <td>...</td>\n",
       "      <td>GDP (current US$)</td>\n",
       "      <td>GDP (current US$)</td>\n",
       "      <td>GDP (current US$)</td>\n",
       "      <td>GDP (current US$)</td>\n",
       "      <td>GDP (current US$)</td>\n",
       "      <td>GDP (current US$)</td>\n",
       "      <td>GDP (current US$)</td>\n",
       "      <td>GDP (current US$)</td>\n",
       "      <td>GDP (current US$)</td>\n",
       "      <td>GDP (current US$)</td>\n",
       "    </tr>\n",
       "    <tr>\n",
       "      <th>Indicator Code</th>\n",
       "      <td>NY.GDP.MKTP.CD</td>\n",
       "      <td>NY.GDP.MKTP.CD</td>\n",
       "      <td>NY.GDP.MKTP.CD</td>\n",
       "      <td>NY.GDP.MKTP.CD</td>\n",
       "      <td>NY.GDP.MKTP.CD</td>\n",
       "      <td>NY.GDP.MKTP.CD</td>\n",
       "      <td>NY.GDP.MKTP.CD</td>\n",
       "      <td>NY.GDP.MKTP.CD</td>\n",
       "      <td>NY.GDP.MKTP.CD</td>\n",
       "      <td>NY.GDP.MKTP.CD</td>\n",
       "      <td>...</td>\n",
       "      <td>NY.GDP.MKTP.CD</td>\n",
       "      <td>NY.GDP.MKTP.CD</td>\n",
       "      <td>NY.GDP.MKTP.CD</td>\n",
       "      <td>NY.GDP.MKTP.CD</td>\n",
       "      <td>NY.GDP.MKTP.CD</td>\n",
       "      <td>NY.GDP.MKTP.CD</td>\n",
       "      <td>NY.GDP.MKTP.CD</td>\n",
       "      <td>NY.GDP.MKTP.CD</td>\n",
       "      <td>NY.GDP.MKTP.CD</td>\n",
       "      <td>NY.GDP.MKTP.CD</td>\n",
       "    </tr>\n",
       "    <tr>\n",
       "      <th>1960</th>\n",
       "      <td>19291929319.738899</td>\n",
       "      <td>10407321640.353901</td>\n",
       "      <td>18577668271.922901</td>\n",
       "      <td>6592693841.18495</td>\n",
       "      <td>195999990.0</td>\n",
       "      <td>11658722590.99</td>\n",
       "      <td>226195579.35701</td>\n",
       "      <td>330442817.168859</td>\n",
       "      <td>4274893913.49536</td>\n",
       "      <td>169803921.568627</td>\n",
       "      <td>...</td>\n",
       "      <td>13995067817.509199</td>\n",
       "      <td>423008385.744235</td>\n",
       "      <td>237934419358.274994</td>\n",
       "      <td>1242289239.20493</td>\n",
       "      <td>543300000000.0</td>\n",
       "      <td>13066557.778685</td>\n",
       "      <td>1384628173213.669922</td>\n",
       "      <td>7575396973.02288</td>\n",
       "      <td>713000000.0</td>\n",
       "      <td>1052990400.0</td>\n",
       "    </tr>\n",
       "    <tr>\n",
       "      <th>...</th>\n",
       "      <td>...</td>\n",
       "      <td>...</td>\n",
       "      <td>...</td>\n",
       "      <td>...</td>\n",
       "      <td>...</td>\n",
       "      <td>...</td>\n",
       "      <td>...</td>\n",
       "      <td>...</td>\n",
       "      <td>...</td>\n",
       "      <td>...</td>\n",
       "      <td>...</td>\n",
       "      <td>...</td>\n",
       "      <td>...</td>\n",
       "      <td>...</td>\n",
       "      <td>...</td>\n",
       "      <td>...</td>\n",
       "      <td>...</td>\n",
       "      <td>...</td>\n",
       "      <td>...</td>\n",
       "      <td>...</td>\n",
       "      <td>...</td>\n",
       "    </tr>\n",
       "    <tr>\n",
       "      <th>2016</th>\n",
       "      <td>854751939466.569946</td>\n",
       "      <td>687484728475.58606</td>\n",
       "      <td>1208846993739.98999</td>\n",
       "      <td>395568644341.038025</td>\n",
       "      <td>2959641046.92291</td>\n",
       "      <td>475739588764.758972</td>\n",
       "      <td>11821065852.1271</td>\n",
       "      <td>12833363370.174</td>\n",
       "      <td>221415188000.475006</td>\n",
       "      <td>11928500000.0</td>\n",
       "      <td>...</td>\n",
       "      <td>869692960365.551025</td>\n",
       "      <td>29078589751.459599</td>\n",
       "      <td>19793622358355.601562</td>\n",
       "      <td>57236652490.169899</td>\n",
       "      <td>18745075687000.0</td>\n",
       "      <td>774429629.62963</td>\n",
       "      <td>76417252932190.90625</td>\n",
       "      <td>296357282715.109009</td>\n",
       "      <td>20958412538.309299</td>\n",
       "      <td>20548678100.0</td>\n",
       "    </tr>\n",
       "    <tr>\n",
       "      <th>2017</th>\n",
       "      <td>962268990853.850952</td>\n",
       "      <td>680989095100.780029</td>\n",
       "      <td>1329188475752.320068</td>\n",
       "      <td>416207272209.538025</td>\n",
       "      <td>3172292379.36329</td>\n",
       "      <td>501522868356.440979</td>\n",
       "      <td>12701655845.961201</td>\n",
       "      <td>14106956830.085699</td>\n",
       "      <td>249710922462.30899</td>\n",
       "      <td>12490700000.0</td>\n",
       "      <td>...</td>\n",
       "      <td>858996263095.858032</td>\n",
       "      <td>30744473839.743698</td>\n",
       "      <td>21911993146488.101562</td>\n",
       "      <td>64233966861.251801</td>\n",
       "      <td>19542979183000.0</td>\n",
       "      <td>792177777.777778</td>\n",
       "      <td>81326724569979.796875</td>\n",
       "      <td>349554116683.817993</td>\n",
       "      <td>25873601260.8353</td>\n",
       "      <td>19015327919.1087</td>\n",
       "    </tr>\n",
       "    <tr>\n",
       "      <th>2018</th>\n",
       "      <td>984032027895.520996</td>\n",
       "      <td>738131279381.972046</td>\n",
       "      <td>1432881172002.169922</td>\n",
       "      <td>454872626780.005005</td>\n",
       "      <td>3036937141.27062</td>\n",
       "      <td>543410654016.60199</td>\n",
       "      <td>14250987026.053301</td>\n",
       "      <td>16059910870.623899</td>\n",
       "      <td>274038973437.274994</td>\n",
       "      <td>13022100000.0</td>\n",
       "      <td>...</td>\n",
       "      <td>778377023568.884033</td>\n",
       "      <td>32912338571.340302</td>\n",
       "      <td>23580897831803.5</td>\n",
       "      <td>64515038268.137299</td>\n",
       "      <td>20611860934000.0</td>\n",
       "      <td>811300000.0</td>\n",
       "      <td>86343514250201.5</td>\n",
       "      <td>368288939768.322021</td>\n",
       "      <td>26311637646.6539</td>\n",
       "      <td>19523622341.6133</td>\n",
       "    </tr>\n",
       "    <tr>\n",
       "      <th>2019</th>\n",
       "      <td>977809241188.770996</td>\n",
       "      <td>792078923887.671997</td>\n",
       "      <td>1396567014733.22998</td>\n",
       "      <td>445075391688.156006</td>\n",
       "      <td>3012308945.62671</td>\n",
       "      <td>533254518108.234009</td>\n",
       "      <td>14391686309.033001</td>\n",
       "      <td>15990803569.996099</td>\n",
       "      <td>302563398919.927979</td>\n",
       "      <td>13578800000.0</td>\n",
       "      <td>...</td>\n",
       "      <td>761428183369.171021</td>\n",
       "      <td>35170037380.862999</td>\n",
       "      <td>23979749026560.5</td>\n",
       "      <td>61231149880.585701</td>\n",
       "      <td>21433224697000.0</td>\n",
       "      <td>824718518.518518</td>\n",
       "      <td>87607773878148.90625</td>\n",
       "      <td>351431649241.439026</td>\n",
       "      <td>23308688906.128799</td>\n",
       "      <td>16932434838.692801</td>\n",
       "    </tr>\n",
       "    <tr>\n",
       "      <th>2020</th>\n",
       "      <td>898474072150.353027</td>\n",
       "      <td>786584975143.582031</td>\n",
       "      <td>1330900925056.97998</td>\n",
       "      <td>428965397959.455994</td>\n",
       "      <td>3258187232.63159</td>\n",
       "      <td>515332499627.861023</td>\n",
       "      <td>15651545208.8783</td>\n",
       "      <td>17369059295.222599</td>\n",
       "      <td>324239176765.052979</td>\n",
       "      <td>11250000000.0</td>\n",
       "      <td>...</td>\n",
       "      <td>720101212394.114014</td>\n",
       "      <td>37372032557.594398</td>\n",
       "      <td>23104877770162.5</td>\n",
       "      <td>53628827440.3582</td>\n",
       "      <td>20936600000000.0</td>\n",
       "      <td>809681481.481481</td>\n",
       "      <td>84705425882119.0</td>\n",
       "      <td>301923639269.552002</td>\n",
       "      <td>19320053859.278999</td>\n",
       "      <td>16768513442.6415</td>\n",
       "    </tr>\n",
       "  </tbody>\n",
       "</table>\n",
       "<p>65 rows × 121 columns</p>\n",
       "</div>"
      ],
      "text/plain": [
       "Country Name    Africa Eastern and Southern  Africa Western and Central  \\\n",
       "Country Name    Africa Eastern and Southern  Africa Western and Central   \n",
       "Country Code                            AFE                         AFW   \n",
       "Indicator Name            GDP (current US$)           GDP (current US$)   \n",
       "Indicator Code               NY.GDP.MKTP.CD              NY.GDP.MKTP.CD   \n",
       "1960                     19291929319.738899          10407321640.353901   \n",
       "...                                     ...                         ...   \n",
       "2016                    854751939466.569946          687484728475.58606   \n",
       "2017                    962268990853.850952         680989095100.780029   \n",
       "2018                    984032027895.520996         738131279381.972046   \n",
       "2019                    977809241188.770996         792078923887.671997   \n",
       "2020                    898474072150.353027         786584975143.582031   \n",
       "\n",
       "Country Name               Australia              Austria            Burundi  \\\n",
       "Country Name               Australia              Austria            Burundi   \n",
       "Country Code                     AUS                  AUT                BDI   \n",
       "Indicator Name     GDP (current US$)    GDP (current US$)  GDP (current US$)   \n",
       "Indicator Code        NY.GDP.MKTP.CD       NY.GDP.MKTP.CD     NY.GDP.MKTP.CD   \n",
       "1960              18577668271.922901     6592693841.18495        195999990.0   \n",
       "...                              ...                  ...                ...   \n",
       "2016             1208846993739.98999  395568644341.038025   2959641046.92291   \n",
       "2017            1329188475752.320068  416207272209.538025   3172292379.36329   \n",
       "2018            1432881172002.169922  454872626780.005005   3036937141.27062   \n",
       "2019             1396567014733.22998  445075391688.156006   3012308945.62671   \n",
       "2020             1330900925056.97998  428965397959.455994   3258187232.63159   \n",
       "\n",
       "Country Name                Belgium               Benin        Burkina Faso  \\\n",
       "Country Name                Belgium               Benin        Burkina Faso   \n",
       "Country Code                    BEL                 BEN                 BFA   \n",
       "Indicator Name    GDP (current US$)   GDP (current US$)   GDP (current US$)   \n",
       "Indicator Code       NY.GDP.MKTP.CD      NY.GDP.MKTP.CD      NY.GDP.MKTP.CD   \n",
       "1960                 11658722590.99     226195579.35701    330442817.168859   \n",
       "...                             ...                 ...                 ...   \n",
       "2016            475739588764.758972    11821065852.1271     12833363370.174   \n",
       "2017            501522868356.440979  12701655845.961201  14106956830.085699   \n",
       "2018             543410654016.60199  14250987026.053301  16059910870.623899   \n",
       "2019            533254518108.234009  14391686309.033001  15990803569.996099   \n",
       "2020            515332499627.861023    15651545208.8783  17369059295.222599   \n",
       "\n",
       "Country Name             Bangladesh       Bahamas, The  ...  \\\n",
       "Country Name             Bangladesh       Bahamas, The  ...   \n",
       "Country Code                    BGD                BHS  ...   \n",
       "Indicator Name    GDP (current US$)  GDP (current US$)  ...   \n",
       "Indicator Code       NY.GDP.MKTP.CD     NY.GDP.MKTP.CD  ...   \n",
       "1960               4274893913.49536   169803921.568627  ...   \n",
       "...                             ...                ...  ...   \n",
       "2016            221415188000.475006      11928500000.0  ...   \n",
       "2017             249710922462.30899      12490700000.0  ...   \n",
       "2018            274038973437.274994      13022100000.0  ...   \n",
       "2019            302563398919.927979      13578800000.0  ...   \n",
       "2020            324239176765.052979      11250000000.0  ...   \n",
       "\n",
       "Country Name                 Turkey              Uganda  \\\n",
       "Country Name                 Turkey              Uganda   \n",
       "Country Code                    TUR                 UGA   \n",
       "Indicator Name    GDP (current US$)   GDP (current US$)   \n",
       "Indicator Code       NY.GDP.MKTP.CD      NY.GDP.MKTP.CD   \n",
       "1960             13995067817.509199    423008385.744235   \n",
       "...                             ...                 ...   \n",
       "2016            869692960365.551025  29078589751.459599   \n",
       "2017            858996263095.858032  30744473839.743698   \n",
       "2018            778377023568.884033  32912338571.340302   \n",
       "2019            761428183369.171021  35170037380.862999   \n",
       "2020            720101212394.114014  37372032557.594398   \n",
       "\n",
       "Country Name      Upper middle income             Uruguay      United States  \\\n",
       "Country Name      Upper middle income             Uruguay      United States   \n",
       "Country Code                      UMC                 URY                USA   \n",
       "Indicator Name      GDP (current US$)   GDP (current US$)  GDP (current US$)   \n",
       "Indicator Code         NY.GDP.MKTP.CD      NY.GDP.MKTP.CD     NY.GDP.MKTP.CD   \n",
       "1960              237934419358.274994    1242289239.20493     543300000000.0   \n",
       "...                               ...                 ...                ...   \n",
       "2016            19793622358355.601562  57236652490.169899   18745075687000.0   \n",
       "2017            21911993146488.101562  64233966861.251801   19542979183000.0   \n",
       "2018                 23580897831803.5  64515038268.137299   20611860934000.0   \n",
       "2019                 23979749026560.5  61231149880.585701   21433224697000.0   \n",
       "2020                 23104877770162.5    53628827440.3582   20936600000000.0   \n",
       "\n",
       "Country Name    St. Vincent and the Grenadines                  World  \\\n",
       "Country Name    St. Vincent and the Grenadines                  World   \n",
       "Country Code                               VCT                    WLD   \n",
       "Indicator Name               GDP (current US$)      GDP (current US$)   \n",
       "Indicator Code                  NY.GDP.MKTP.CD         NY.GDP.MKTP.CD   \n",
       "1960                           13066557.778685   1384628173213.669922   \n",
       "...                                        ...                    ...   \n",
       "2016                           774429629.62963   76417252932190.90625   \n",
       "2017                          792177777.777778  81326724569979.796875   \n",
       "2018                               811300000.0       86343514250201.5   \n",
       "2019                          824718518.518518   87607773878148.90625   \n",
       "2020                          809681481.481481       84705425882119.0   \n",
       "\n",
       "Country Name           South Africa              Zambia            Zimbabwe  \n",
       "Country Name           South Africa              Zambia            Zimbabwe  \n",
       "Country Code                    ZAF                 ZMB                 ZWE  \n",
       "Indicator Name    GDP (current US$)   GDP (current US$)   GDP (current US$)  \n",
       "Indicator Code       NY.GDP.MKTP.CD      NY.GDP.MKTP.CD      NY.GDP.MKTP.CD  \n",
       "1960               7575396973.02288         713000000.0        1052990400.0  \n",
       "...                             ...                 ...                 ...  \n",
       "2016            296357282715.109009  20958412538.309299       20548678100.0  \n",
       "2017            349554116683.817993    25873601260.8353    19015327919.1087  \n",
       "2018            368288939768.322021    26311637646.6539    19523622341.6133  \n",
       "2019            351431649241.439026  23308688906.128799  16932434838.692801  \n",
       "2020            301923639269.552002  19320053859.278999    16768513442.6415  \n",
       "\n",
       "[65 rows x 121 columns]"
      ]
     },
     "execution_count": 15,
     "metadata": {},
     "output_type": "execute_result"
    }
   ],
   "source": [
    "# Change the column headers to be the country names here.\n",
    "y.columns = y.iloc[0,:]\n",
    "\n",
    "y\n",
    "\n",
    "#Index the first and second row by .iloc\n"
   ]
  },
  {
   "cell_type": "markdown",
   "metadata": {},
   "source": [
    "This is looking pretty good!\n",
    "\n",
    "Of course, now we have a few redundant rows: \"Country Name\", \"Country Code\", \"Indicator Name\", and \"Indicator Code\". We don't really need these any more now that we've change the column labels.\n",
    "\n",
    "&#9989;&nbsp; **Remove these four rows, since they don't contain yearly GDP data.** There's more than one way to do this. The best option is to use the `gdp.drop()` function. Figure out how it works with `gdp.drop?`."
   ]
  },
  {
   "cell_type": "code",
   "execution_count": 20,
   "metadata": {},
   "outputs": [],
   "source": [
    "# Try to remove the rows that don't represent years here\n",
    "y = y.drop(index = ['Country Name', 'Country Code', 'Indicator Name', 'Indicator Code'])"
   ]
  },
  {
   "cell_type": "markdown",
   "metadata": {},
   "source": [
    "Now our dataset should be in an easier format. The next step is to examine the structure of our data.\n",
    "\n",
    "&#9989;&nbsp; **Review the following code and comment what each line is doing.**"
   ]
  },
  {
   "cell_type": "code",
   "execution_count": 21,
   "metadata": {},
   "outputs": [
    {
     "name": "stdout",
     "output_type": "stream",
     "text": [
      "Index(['1960', '1961', '1962', '1963', '1964', '1965', '1966', '1967', '1968',\n",
      "       '1969', '1970', '1971', '1972', '1973', '1974', '1975', '1976', '1977',\n",
      "       '1978', '1979', '1980', '1981', '1982', '1983', '1984', '1985', '1986',\n",
      "       '1987', '1988', '1989', '1990', '1991', '1992', '1993', '1994', '1995',\n",
      "       '1996', '1997', '1998', '1999', '2000', '2001', '2002', '2003', '2004',\n",
      "       '2005', '2006', '2007', '2008', '2009', '2010', '2011', '2012', '2013',\n",
      "       '2014', '2015', '2016', '2017', '2018', '2019', '2020'],\n",
      "      dtype='object')\n",
      "<class 'str'>\n"
     ]
    }
   ],
   "source": [
    "print(y.index) #it is printing the number of columns and their index\n",
    "\n",
    "print(type(y.index[0])) #it is telling you what the data type is- in this case it is an integer in numpy"
   ]
  },
  {
   "cell_type": "markdown",
   "metadata": {},
   "source": [
    "We can see the index column is made up of strings representing years, which isn't ideal!\n",
    "\n",
    "The code below will change the data type from strings to integers. This will be helpful for when we begin plotting because when you try to plot strings as numbers it doesn't usually work out very well!"
   ]
  },
  {
   "cell_type": "code",
   "execution_count": 22,
   "metadata": {},
   "outputs": [
    {
     "data": {
      "text/plain": [
       "Int64Index([1960, 1961, 1962, 1963, 1964, 1965, 1966, 1967, 1968, 1969, 1970,\n",
       "            1971, 1972, 1973, 1974, 1975, 1976, 1977, 1978, 1979, 1980, 1981,\n",
       "            1982, 1983, 1984, 1985, 1986, 1987, 1988, 1989, 1990, 1991, 1992,\n",
       "            1993, 1994, 1995, 1996, 1997, 1998, 1999, 2000, 2001, 2002, 2003,\n",
       "            2004, 2005, 2006, 2007, 2008, 2009, 2010, 2011, 2012, 2013, 2014,\n",
       "            2015, 2016, 2017, 2018, 2019, 2020],\n",
       "           dtype='int64')"
      ]
     },
     "execution_count": 22,
     "metadata": {},
     "output_type": "execute_result"
    }
   ],
   "source": [
    "y.index = y.index.astype(int)\n",
    "y.index"
   ]
  },
  {
   "cell_type": "markdown",
   "metadata": {},
   "source": [
    "### 2.2 Exploring the Data"
   ]
  },
  {
   "cell_type": "markdown",
   "metadata": {},
   "source": [
    "&#9989;&nbsp; **Now pick 2 countries and print the GDP for year 1975 using `.loc` and the column name.** Again, look back at the dataset and think about what information we are looking to retreive. What information is stored in our columns? What information is stored in our rows? "
   ]
  },
  {
   "cell_type": "code",
   "execution_count": 26,
   "metadata": {},
   "outputs": [
    {
     "name": "stdout",
     "output_type": "stream",
     "text": [
      "1684904000000.0\n",
      "227695851126.928\n"
     ]
    }
   ],
   "source": [
    "# Put your code here\n",
    "print(y[\"United States\"].loc[1975])\n",
    "print(y[\"Italy\"].loc[1975])\n"
   ]
  },
  {
   "cell_type": "markdown",
   "metadata": {},
   "source": [
    "&#9989;&nbsp; Now, **plot those two countries GDP *in billions of dollars* from 1960-2020, make sure to have proper labels and legends.**\n"
   ]
  },
  {
   "cell_type": "code",
   "execution_count": 32,
   "metadata": {},
   "outputs": [
    {
     "data": {
      "text/plain": [
       "<matplotlib.legend.Legend at 0x1d8cbb99880>"
      ]
     },
     "execution_count": 32,
     "metadata": {},
     "output_type": "execute_result"
    },
    {
     "data": {
      "image/png": "[encoded data removed]",
      "text/plain": [
       "<Figure size 432x288 with 1 Axes>"
      ]
     },
     "metadata": {
      "needs_background": "light"
     },
     "output_type": "display_data"
    }
   ],
   "source": [
    "# Put your plotting commands here\n",
    "\n",
    "plt.plot(y.index, y[\"United States\"], label = \"United States\")\n",
    "plt.plot(y.index, y[\"Italy\"], label = \"Italy\")\n",
    "plt.title(\"ur mom\")\n",
    "plt.xlabel(\"Year\")\n",
    "plt.ylabel(\"Billions of Dollars\")\n",
    "plt.legend()"
   ]
  },
  {
   "cell_type": "markdown",
   "metadata": {},
   "source": [
    "&#9989;&nbsp; **Question** Is this a good way visual comparison for the two countries? If one country has a much larger GDP or much larger population than the other country what would be a better way to normalize or compare the data? This might involve doing some sort of calculation or visualizing the data differently."
   ]
  },
  {
   "cell_type": "markdown",
   "metadata": {},
   "source": [
    "<font size=+3>&#9998;</font> This is a good way to visualize the comparison because you can see the overall trendline of the GDP growth for both countries."
   ]
  },
  {
   "cell_type": "markdown",
   "metadata": {},
   "source": [
    "### 2.3 Exploring the log-linear plot\n",
    "\n",
    "During the COVID-19 pandemic, some of the visualizations floating around that show the numbers of confirmed cases in various places around the world have been \"log-linear\" plots which uses a logarithmic scale (tick marks indicate powers of 10) on the y-axis and a linear scale on the x-axis. Some folks have even written papers about [how these sort of plots may or may not impact how people perceive the need for confinement](https://www.ncbi.nlm.nih.gov/pmc/articles/PMC7200843/) to stop the spread of the virus.\n",
    "\n",
    "You can change the scaling of an axis using `plt.yscale('log')`.\n",
    "\n",
    "&#9989;&nbsp; Try using a log scale for the GDP in the previous plot for the two different countries to see if it facilitates a better comparison!"
   ]
  },
  {
   "cell_type": "code",
   "execution_count": 34,
   "metadata": {},
   "outputs": [
    {
     "data": {
      "text/plain": [
       "<matplotlib.legend.Legend at 0x1d8cbd46670>"
      ]
     },
     "execution_count": 34,
     "metadata": {},
     "output_type": "execute_result"
    },
    {
     "data": {
      "image/png": "[encoded data removed]",
      "text/plain": [
       "<Figure size 432x288 with 1 Axes>"
      ]
     },
     "metadata": {
      "needs_background": "light"
     },
     "output_type": "display_data"
    }
   ],
   "source": [
    "# Try making a \"semilogy\" plot here\n",
    "plt.yscale('log')\n",
    "plt.plot(y.index, y[\"United States\"], label = \"United States\")\n",
    "plt.plot(y.index, y[\"Italy\"], label = \"Italy\")\n",
    "plt.title(\"ur mom\")\n",
    "plt.xlabel(\"Year\")\n",
    "plt.ylabel(\"Billions of Dollars\")\n",
    "plt.legend()"
   ]
  },
  {
   "cell_type": "markdown",
   "metadata": {},
   "source": [
    "&#9989;&nbsp; **Question** Do you find this to be a better way to visualize the data, yes or no? Explain your reasoning!"
   ]
  },
  {
   "cell_type": "markdown",
   "metadata": {},
   "source": [
    "<font size=+3>&#9998;</font> I dont find this to be a better way to visualize the data tbh since it just linearizes the dat"
   ]
  },
  {
   "cell_type": "markdown",
   "metadata": {},
   "source": [
    "### 2.4 Analyzing growth rates\n",
    "\n",
    "One way to compare GDP between different countries in a way that is unit free would be to consider the countries _growth rates_. The growth rate for a year would be equal to the **percent change** going from one year to another, defined like so:\n",
    "\n",
    "* Growth Rate in 1961 = (GDP in year 1961 - GDP in year 1960) / GDP in year 1960\n",
    "\n",
    "&#9989;&nbsp; **Lets plot two countries growth rates on the same plot over time making sure to properly label our graph.**\n",
    "\n",
    "(Pandas dataframes might have a function that can compute the percent change for you -- time to consult the internet again!)"
   ]
  },
  {
   "cell_type": "code",
   "execution_count": null,
   "metadata": {},
   "outputs": [],
   "source": [
    "# Calculate and plot the growth rates as a function of time\n",
    "\n"
   ]
  },
  {
   "cell_type": "markdown",
   "metadata": {},
   "source": [
    "&#9989;&nbsp; **Question**: Why might comparing growth rates be a better comparison for countries that have GDP's of very different magnitudes?\n"
   ]
  },
  {
   "cell_type": "markdown",
   "metadata": {},
   "source": [
    "<font size=+3>&#9998;</font> *Put your answer here*"
   ]
  },
  {
   "cell_type": "markdown",
   "metadata": {},
   "source": [
    "---"
   ]
  },
  {
   "cell_type": "markdown",
   "metadata": {},
   "source": [
    "## Time Permitting: More Data Manipulation (time permitting or if you're interested in exploring the data further on your own time!)\n",
    "### Filtering, sorting, and calculating new quantities \n",
    "\n",
    "You've been able to clean, transform, and visualize the data, but for an extra challenge let's use any time you have remaining to work on filtering and sorting your data.\n",
    "\n",
    "The below analyses are going to focus on data for individual countries for the year 2020. To get started, we're going to:\n",
    "\n",
    "1. create a new dataset for only the year 2020, and\n",
    "2. drop columns that don't correspond to individual countries"
   ]
  },
  {
   "cell_type": "code",
   "execution_count": null,
   "metadata": {},
   "outputs": [],
   "source": [
    "gdp2020 = gdp.loc[2020]\n",
    "gdp2020 = gdp2020.drop(['World', 'High income', 'OECD members', 'Post-demographic dividend', 'IDA & IBRD total', \n",
    "                        'Low & middle income', 'Middle income', 'IBRD only', 'Upper middle income',\n",
    "                        'North America', 'Late-demographic dividend',\n",
    "                        'East Asia & Pacific (excluding high income)',\n",
    "                        'East Asia & Pacific (IDA & IBRD countries)', 'Euro area', 'Early-demographic dividend',\n",
    "                        'Lower middle income', 'Latin America & Caribbean',\n",
    "                        'Latin America & the Caribbean (IDA & IBRD countries)',\n",
    "                        'Latin America & Caribbean (excluding high income)', 'South Asia',\n",
    "                        'South Asia (IDA & IBRD)', 'IDA total', 'Fragile and conflict affected situations',\n",
    "                        'Sub-Saharan Africa', 'Sub-Saharan Africa (IDA & IBRD countries)',\n",
    "                        'Sub-Saharan Africa (excluding high income)', 'IDA only'])"
   ]
  },
  {
   "cell_type": "markdown",
   "metadata": {},
   "source": [
    "&#9989;&nbsp; **Great!  Now filter the top 10% of countries in the cleaned up data set by their 2020 GDP, print their names, and store the names in a list in ordered by their GDP ranking.**\n",
    "\n",
    "(Hint Pandas has a `quantile` function that could be useful to find the value for the 10% cut off as well as a function for sorting the values)"
   ]
  },
  {
   "cell_type": "code",
   "execution_count": null,
   "metadata": {},
   "outputs": [],
   "source": [
    "# Put your code for finding the countries with the highest 10 GDP values and sorting them here\n"
   ]
  },
  {
   "cell_type": "markdown",
   "metadata": {},
   "source": [
    "&#9989;&nbsp; **Let's take a closer look at how the countries rank by plotting a horizontal bar graph of the top 10% countries GDP in billions by ranking order starting with the highest GDP.**\n",
    "\n",
    "Pandas dataframes have a horizontal bar graph function as well (`.plot.barh()`) -- isn't Pandas handy?"
   ]
  },
  {
   "cell_type": "code",
   "execution_count": null,
   "metadata": {},
   "outputs": [],
   "source": [
    "# Make your horizonal bar graph here\n"
   ]
  },
  {
   "cell_type": "markdown",
   "metadata": {},
   "source": [
    "&#9989;&nbsp; **With Pandas, we can pull multiple columns at the same time. Using that list of the top 10% of countries, create a subset of the original GDP dataframe that has data for only the last 20 years for countries in your list of top 10%.**\n",
    "\n",
    "We can create a subset by setting a new variable to equal the subset of the Dataframe. \n",
    "\n",
    "(something like: `Subset = DataFrame[list_of_columns_headers]`)\n",
    "\n"
   ]
  },
  {
   "cell_type": "code",
   "execution_count": null,
   "metadata": {},
   "outputs": [],
   "source": [
    "# Put your code here and create additional code cells as needed\n"
   ]
  },
  {
   "cell_type": "markdown",
   "metadata": {},
   "source": [
    "&#9989;&nbsp; Next, **calculate the standard deviation of GDP for each country in the subset dataframe over the last 20 years. Recreate the Horizontal Bargraph above with but using the standard deviation.**"
   ]
  },
  {
   "cell_type": "markdown",
   "metadata": {},
   "source": [
    "&#9989;&nbsp; **Are there similiarities between the GDP graph and the standard deviation graph? Explain why you think they look similiar and what the limitation is with using standard deviation to compare the variation of the GDP for different contries.**"
   ]
  },
  {
   "cell_type": "markdown",
   "metadata": {},
   "source": [
    "<font size=+3>&#9998;</font> *Put your answer here*"
   ]
  },
  {
   "cell_type": "markdown",
   "metadata": {},
   "source": [
    "---"
   ]
  },
  {
   "cell_type": "markdown",
   "metadata": {},
   "source": [
    "**Let's pause and think about the following example:**"
   ]
  },
  {
   "cell_type": "code",
   "execution_count": null,
   "metadata": {},
   "outputs": [],
   "source": [
    "X = np.array([2,4,10,15,30,50])\n",
    "print(np.std(X))\n",
    "\n",
    "X2 = X*50\n",
    "print(np.std(X2))"
   ]
  },
  {
   "cell_type": "markdown",
   "metadata": {},
   "source": [
    "The idea here is the spread between the numbers in the datasets `X` & `X2` are the same in when considered as a percentage of the total, but the standard deviation will be proportionally higher for `X2`. This means the difference between each observation and the mean from a percentage basis is the same, but because the values in `X2` are 50 times larger, the standard deviation will be 50 times larger.\n",
    "\n",
    "The take away is if we want to compare how much a countries GDP growth varies relative to another country, we want an apples to apples comparison. For example, taking the standard deviation of the United States compared to Thailand we would expect United States to have a higher standard deviation because the US GDP is much higher. When in reality, Thailand's GDP varies relatively more than the United States GDP varies.\n"
   ]
  },
  {
   "cell_type": "markdown",
   "metadata": {},
   "source": [
    "---"
   ]
  },
  {
   "cell_type": "markdown",
   "metadata": {},
   "source": [
    " "
   ]
  },
  {
   "cell_type": "markdown",
   "metadata": {},
   "source": [
    "In order to compare the variation in GDP by countries of different magnitudes we want to be looking at the change in GDP from a percentage view.\n",
    "\n",
    "&#9989;&nbsp; **Recreate the horizontal bar graph again, but this time take the standard deviation of the percent changes, or growth rates, of GDP for the last 20 years.**"
   ]
  },
  {
   "cell_type": "code",
   "execution_count": null,
   "metadata": {},
   "outputs": [],
   "source": [
    "# Put your code here\n"
   ]
  },
  {
   "cell_type": "markdown",
   "metadata": {},
   "source": [
    "&#9989;&nbsp; **What do you observe? Why is taking the standard deviation of growth rates a better assessment of volatility than standard deviation of normal GDP for this data?**\n",
    "\n"
   ]
  },
  {
   "cell_type": "markdown",
   "metadata": {},
   "source": [
    "<font size=+3>&#9998;</font> *Put your answer here*"
   ]
  },
  {
   "cell_type": "markdown",
   "metadata": {},
   "source": [
    "---\n",
    "## Assignment wrapup\n",
    "\n",
    "Please fill out the form that appears when you run the code below. **You must completely fill this out in order to receive credit for the assignment!** "
   ]
  },
  {
   "cell_type": "code",
   "execution_count": 35,
   "metadata": {},
   "outputs": [
    {
     "data": {
      "text/html": [
       "\n",
       "<iframe \n",
       "\tsrc=\"https://cmse.msu.edu/cmse201-ic-survey\" \n",
       "\twidth=\"800px\" \n",
       "\theight=\"600px\" \n",
       "\tframeborder=\"0\" \n",
       "\tmarginheight=\"0\" \n",
       "\tmarginwidth=\"0\">\n",
       "\tLoading...\n",
       "</iframe>\n"
      ],
      "text/plain": [
       "<IPython.core.display.HTML object>"
      ]
     },
     "execution_count": 35,
     "metadata": {},
     "output_type": "execute_result"
    }
   ],
   "source": [
    "from IPython.display import HTML\n",
    "HTML(\n",
    "\"\"\"\n",
    "<iframe \n",
    "\tsrc=\"https://cmse.msu.edu/cmse201-ic-survey\" \n",
    "\twidth=\"800px\" \n",
    "\theight=\"600px\" \n",
    "\tframeborder=\"0\" \n",
    "\tmarginheight=\"0\" \n",
    "\tmarginwidth=\"0\">\n",
    "\tLoading...\n",
    "</iframe>\n",
    "\"\"\"\n",
    ")"
   ]
  },
  {
   "cell_type": "markdown",
   "metadata": {},
   "source": [
    "---\n"
   ]
  },
  {
   "cell_type": "markdown",
   "metadata": {},
   "source": [
    "## Congratulations, you're done!\n",
    "\n",
    "Submit this assignment by uploading your notebook to the course Desire2Learn web page.  Go to the \"In-Class Assignments\" folder, find the appropriate submission link, and upload everything there. Make sure your name is on it!"
   ]
  },
  {
   "cell_type": "markdown",
   "metadata": {},
   "source": [
    "&#169; Copyright 2021,  Michigan State University Board of Trustees"
   ]
  },
  {
   "cell_type": "code",
   "execution_count": null,
   "metadata": {},
   "outputs": [],
   "source": []
  }
 ],
 "metadata": {
  "kernelspec": {
   "display_name": "Python 3 (ipykernel)",
   "language": "python",
   "name": "python3"
  },
  "language_info": {
   "codemirror_mode": {
    "name": "ipython",
    "version": 3
   },
   "file_extension": ".py",
   "mimetype": "text/x-python",
   "name": "python",
   "nbconvert_exporter": "python",
   "pygments_lexer": "ipython3",
   "version": "3.9.12"
  }
 },
 "nbformat": 4,
 "nbformat_minor": 4
}
