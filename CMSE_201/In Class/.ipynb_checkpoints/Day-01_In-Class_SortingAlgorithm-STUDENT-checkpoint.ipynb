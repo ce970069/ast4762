{
 "cells": [
  {
   "cell_type": "markdown",
   "metadata": {},
   "source": [
    "# Day 1 In-Class Assignment: Introductions and Sorting Algorithms\n",
    "<img src=\"https://cmse.msu.edu/sites/_cmse/assets/Image/image001.png\" width=400px>"
   ]
  },
  {
   "cell_type": "markdown",
   "metadata": {},
   "source": [
    "## 🛑 If you are viewing this on the course website it will not be editable.  Download it as an `.ipynb` file using the link on the top right and then open using Jupyter! 🛑"
   ]
  },
  {
   "cell_type": "markdown",
   "metadata": {},
   "source": [
    "### <p style=\"text-align: right;\"> &#9989; **Put your name here** </p>"
   ]
  },
  {
   "cell_type": "markdown",
   "metadata": {},
   "source": [
    "## Goals for today's in-class assignment\n",
    "\n",
    "* Get comfortable with the course website\n",
    "* Pratice how to use a Jupyter notebook \n",
    "* Get to know your fellow students\n",
    "* Start thinking about algorithm design"
   ]
  },
  {
   "cell_type": "markdown",
   "metadata": {},
   "source": [
    "## The course website and Jupyter"
   ]
  },
  {
   "cell_type": "markdown",
   "metadata": {},
   "source": [
    "If you have followed the Software Setup Guide (available on the course website and D2L) then you are well on your way to opening and interacting with Jupyter notebooks. You might have figured this out and are reading this in Jupyter already!  If that is the case you can skip this step.\n",
    "\n",
    "**Step 1: Open Jupyter in your web browser.**  On a Mac, open the Terminal and type `jupyter notebook`.  In Windows, open the cmd window and type `jupyter notebook`. Jupyter should open in your web browser.\n",
    "\n",
    "**Step 2: Select this notebook and open it.** You will probably find this in your Downloads folder, unless you put it someplace else.  "
   ]
  },
  {
   "cell_type": "markdown",
   "metadata": {},
   "source": [
    "**That's all!** If you have opened this in Jupyter you should be able to interact with the cells in this notebook, including running the Python cells below.  The second cell below has a YouTube video on Anaconda and the Jupyter program.  Some of this information has since been updated (***e.g. our notebooks aren't found on D2L but on the [class website](https://cmse.msu.edu/cmse201)***), but we include the video here for your reference. \n",
    "\n",
    "**To make notebook cells that have Python code in them do something, hold down the 'shift' key and then press the 'enter' key.** You'll have to do this to get the YouTube videos to run."
   ]
  },
  {
   "cell_type": "code",
   "execution_count": 2,
   "metadata": {},
   "outputs": [],
   "source": [
    "# Imports the functionality that we need to display YouTube videos in a Jupyter Notebook.  \n",
    "# You need to run this cell before you run ANY of the YouTube videos.\n",
    "\n",
    "from IPython.display import YouTubeVideo  "
   ]
  },
  {
   "cell_type": "code",
   "execution_count": 3,
   "metadata": {},
   "outputs": [
    {
     "data": {
      "image/jpeg": "[encoded data removed]",
      "text/html": [
       "\n",
       "        <iframe\n",
       "            width=\"640\"\n",
       "            height=\"360\"\n",
       "            src=\"https://www.youtube.com/embed/5WSQnGmz3IA\"\n",
       "            frameborder=\"0\"\n",
       "            allowfullscreen\n",
       "            \n",
       "        ></iframe>\n",
       "        "
      ],
      "text/plain": [
       "<IPython.lib.display.YouTubeVideo at 0x213d57dddf0>"
      ]
     },
     "execution_count": 3,
     "metadata": {},
     "output_type": "execute_result"
    }
   ],
   "source": [
    "# Video on Modules in Python\n",
    "\n",
    "YouTubeVideo(\"5WSQnGmz3IA\",width=640,height=360)  "
   ]
  },
  {
   "cell_type": "markdown",
   "metadata": {},
   "source": [
    "If for some reason, the YouTube video will not work for you or you are unable to access Youtube in your location, you can try this link as a backup option: https://mediaspace.msu.edu/media/t/0_hkqjufix"
   ]
  },
  {
   "cell_type": "markdown",
   "metadata": {},
   "source": [
    "---\n",
    "# Introductions!\n",
    "\n",
    "### Take a moment to introduce yourself to the people in your group! (10-15 Minutes)\n",
    "\n",
    "Introduce yourself to the other students in your group. During your introductions, make sure to let each other know:\n",
    "\n",
    "* Your name and your pronouns\n",
    "* Your major\n",
    "* Whether you're new to coding or if you have some previous experience\n",
    "* \"You wake up tomorrow as an animal. What animal would you *least* want to wake up as?\"\n",
    "\n",
    "**Make sure you listen to each other when doing the introductions as this is your first opportunity to start to get to know your classmates!**"
   ]
  },
  {
   "cell_type": "markdown",
   "metadata": {},
   "source": [
    "<font size=6 color=\"#009600\">&#9998;</font> *Put the information for each of your groups members here.*  (reminder: double-click on this cell to go into \"edit mode\" and then hit shift+enter when you're done)*\n",
    "\n",
    "Cesarine Graham, she/her, Astrophysics, MATLAB, Cockroach\n",
    "Danielle Armstrong, she/her, Statistics, JavaScript, Mosquito\n",
    "Denis Selyuzhitsky, they/them, Economics, R, Mosquito\n",
    "Bian Almjareesh, she/her, Genomic and Molecular Genetic, n/a, Cockroach\n",
    "Trevor Parcella, he/him, Actuarial Science, R, Wasp\n",
    "\n",
    "...\n"
   ]
  },
  {
   "cell_type": "markdown",
   "metadata": {},
   "source": [
    "---\n",
    "# Background information on algorithms\n",
    "\n",
    "This video contains information about what an algorithm is and how they can be used.  We'll watch this as a class before today's in-class activity."
   ]
  },
  {
   "cell_type": "code",
   "execution_count": 4,
   "metadata": {},
   "outputs": [
    {
     "data": {
      "image/jpeg": "[encoded data removed]",
      "text/html": [
       "\n",
       "        <iframe\n",
       "            width=\"640\"\n",
       "            height=\"360\"\n",
       "            src=\"https://www.youtube.com/embed/jT0KZ849fak\"\n",
       "            frameborder=\"0\"\n",
       "            allowfullscreen\n",
       "            \n",
       "        ></iframe>\n",
       "        "
      ],
      "text/plain": [
       "<IPython.lib.display.YouTubeVideo at 0x213d57f02e0>"
      ]
     },
     "execution_count": 4,
     "metadata": {},
     "output_type": "execute_result"
    }
   ],
   "source": [
    "# Video on Algorithms and Programs\n",
    "# Watch it in full-screen mode if it's too small for you.\n",
    "\n",
    "YouTubeVideo(\"jT0KZ849fak\",width=640,height=360)  "
   ]
  },
  {
   "cell_type": "markdown",
   "metadata": {},
   "source": [
    "Here is the Mediaspace link if the YouTube link is not working: https://mediaspace.msu.edu/media/1_b20az67d"
   ]
  },
  {
   "cell_type": "markdown",
   "metadata": {},
   "source": [
    "---\n",
    "# Today's activity:  Sorting algorithms\n",
    "\n",
    "**The goal: Design an algorithm that sorts a group of people by their birthday (Jan 1st to Dec 31st). The catch is that it can only ask the people yes-or-no questions.**\n",
    "\n",
    "Details:\n",
    "* The \"input\" to this algorithm is a set of people, in a given (random) order.\n",
    "\n",
    "* The \"output\" of this algorithm is the same set of people, but arranged by birthday.\n",
    "\n",
    "* The algorithm can change the order of people in the list and can ask for information, but each person can only respond \"yes\" or \"no\".  \n",
    "\n",
    "Examples: \n",
    "\n",
    "* \"Were you born in July?\"\n",
    "\n",
    "* \"Were you born on February 2nd?\"\n",
    "\n",
    "### 1) **As a group,** design a sorting algorithm (20-25 minutes)\n",
    "   **Use a virtual whiteboard app like [Google Jamboard](https://jamboard.google.com/) or the [Aww app](https://awwapp.com/)** to plan out your algorithm by sharing a link with your group. \n",
    "   \n",
    "**Write your algorithm in words in the box below:**"
   ]
  },
  {
   "cell_type": "markdown",
   "metadata": {},
   "source": [
    "For each person:\n",
    "\n",
    "Born in January?\n",
    "Born in February?\n",
    "Born in March?\n",
    "....\n",
    "Born in December?\n",
    "Order those based on month as people answer yes\n",
    "\n",
    "\n",
    "If two people have same month:\n",
    "ask them\n",
    "Born on 1st?\n",
    "Born on 2nd?\n",
    "....\n",
    "\n",
    "Order those based on day as people answer yes"
   ]
  },
  {
   "cell_type": "markdown",
   "metadata": {},
   "source": [
    "### 2) After you've designed your algorithm, test it on your own group. (10-15 Minutes)  \n",
    "\n",
    "**How many steps did it take?**"
   ]
  },
  {
   "cell_type": "code",
   "execution_count": null,
   "metadata": {},
   "outputs": [],
   "source": []
  },
  {
   "cell_type": "markdown",
   "metadata": {},
   "source": [
    "roughly 200, and at best 12 for a random person. for our group it would take 42 steps"
   ]
  },
  {
   "cell_type": "markdown",
   "metadata": {},
   "source": [
    "## &#128721; STOP AND ASK YOUR INSTRUCTOR TO COME OVER\n",
    "\n",
    "### 3) (Time Permitting) Now form larger groups by joining up with 1-2 other groups (15-20 Minutes)\n",
    "\n",
    "Each of the original small groups should take turns implementing their algorithm by sorting the combined members of the other groups. \n",
    "\n",
    "**For each algorithm, keep track of how many steps were required to accurately sort everyone below.**"
   ]
  },
  {
   "cell_type": "markdown",
   "metadata": {},
   "source": [
    "roughly 33 steps for the other group"
   ]
  },
  {
   "cell_type": "markdown",
   "metadata": {},
   "source": [
    "### 4) (Time Permitting) Once each team has tested their algorithm take a few minutes to discuss each other's algorithms and the nature of the process in general\n",
    "* What worked well and what didn't?\n",
    "* Are there ways to make your algorithm work more efficiently?\n",
    "* Which algorithm worked the best and why?\n",
    "* What if the individuals that you were trying to sort could ask questions of each other?\n",
    "    \n",
    "**Answer these questions in the box below**"
   ]
  },
  {
   "cell_type": "markdown",
   "metadata": {},
   "source": [
    "the algorithm was faster but it malfunctioned if there was more than two people born in the same month. the algorithm could be  improved by changing the numbering system to whole numbers rather than decimals. the other group's algorithm was more efficent for a small group of people, and vice versa for our group. both groups had effective yet inefficent solutions."
   ]
  },
  {
   "cell_type": "markdown",
   "metadata": {},
   "source": [
    "---\n",
    "## Assignment wrapup\n",
    "\n",
    "Please fill out the form that appears when you run the code below. ***For today's assignment, ignore the part about pre-class assignment.*  You must completely fill this out in order to receive credit for the assignment!** "
   ]
  },
  {
   "cell_type": "code",
   "execution_count": 5,
   "metadata": {},
   "outputs": [
    {
     "data": {
      "text/html": [
       "\n",
       "<iframe \n",
       "\tsrc=\"https://cmse.msu.edu/cmse201-ic-survey\" \n",
       "\twidth=\"800px\" \n",
       "\theight=\"600px\" \n",
       "\tframeborder=\"0\" \n",
       "\tmarginheight=\"0\" \n",
       "\tmarginwidth=\"0\">\n",
       "\tLoading...\n",
       "</iframe>\n"
      ],
      "text/plain": [
       "<IPython.core.display.HTML object>"
      ]
     },
     "execution_count": 5,
     "metadata": {},
     "output_type": "execute_result"
    }
   ],
   "source": [
    "from IPython.display import HTML\n",
    "HTML(\n",
    "\"\"\"\n",
    "<iframe \n",
    "\tsrc=\"https://cmse.msu.edu/cmse201-ic-survey\" \n",
    "\twidth=\"800px\" \n",
    "\theight=\"600px\" \n",
    "\tframeborder=\"0\" \n",
    "\tmarginheight=\"0\" \n",
    "\tmarginwidth=\"0\">\n",
    "\tLoading...\n",
    "</iframe>\n",
    "\"\"\"\n",
    ")"
   ]
  },
  {
   "cell_type": "markdown",
   "metadata": {},
   "source": [
    "---"
   ]
  },
  {
   "cell_type": "markdown",
   "metadata": {},
   "source": [
    "### Submit this assignment by uploading it to the course Desire2Learn web page.  \n",
    "Go to the \"In-class assignments\" folder, find the assignment submission link for Day 1, and upload it there.\n",
    "\n",
    "#### Congratulations, you're done!\n",
    "\n",
    "Make sure to complete the **Pre-class assignment before next class.** See you next class!"
   ]
  },
  {
   "cell_type": "markdown",
   "metadata": {},
   "source": [
    "&#169; Copyright 2021,  Michigan State University Board of Trustees"
   ]
  }
 ],
 "metadata": {
  "kernelspec": {
   "display_name": "Python 3 (ipykernel)",
   "language": "python",
   "name": "python3"
  },
  "language_info": {
   "codemirror_mode": {
    "name": "ipython",
    "version": 3
   },
   "file_extension": ".py",
   "mimetype": "text/x-python",
   "name": "python",
   "nbconvert_exporter": "python",
   "pygments_lexer": "ipython3",
   "version": "3.9.12"
  }
 },
 "nbformat": 4,
 "nbformat_minor": 4
}
