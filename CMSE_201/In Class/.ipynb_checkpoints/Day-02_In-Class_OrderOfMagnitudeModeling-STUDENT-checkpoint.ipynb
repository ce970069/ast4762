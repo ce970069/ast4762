{
 "cells": [
  {
   "cell_type": "markdown",
   "metadata": {},
   "source": [
    "# Day 2 In-class Assignment: Order of Magnitude Modeling"
   ]
  },
  {
   "cell_type": "markdown",
   "metadata": {},
   "source": [
    "### <p style=\"text-align: right;\"> &#9989; **Cesarine Graham** </p>\n",
    "#### <p style=\"text-align: right;\"> &#9989; Denis, Danelle, Joel, Bian, Joal, Trevor</p>"
   ]
  },
  {
   "cell_type": "markdown",
   "metadata": {},
   "source": [
    "## How many mice would it take to fill up this classroom?\n",
    "\n",
    "### (a.k.a., making order-of-magnitude estimates for fun and profit!)\n",
    "![Mouse](https://www.jax.org/-/media/jaxweb/images/jax-mice-and-services/mice/web_0009_find-and-order-jax-mice.jpg?h=316&w=467&la=en&hash=D42556D3A616EC2E099378DB9CA5403D0C38C1E4)"
   ]
  },
  {
   "cell_type": "markdown",
   "metadata": {},
   "source": [
    "## Learning Goals \n",
    "\n",
    "Why are we asking you to do this?\n",
    "\n",
    "One type of modeling is called \"order-of-magnitude estimation\" or \"order-of-magnitude modeling.\"  A physicist would call this a \"Fermi Problem\" after Enrico Fermi, a physicist who participated in the Manhattan Project and who was famously good at making estimates of this sort.  More specifically, this sort of modeling makes us think about:\n",
    "\n",
    "* The quantities that should go into our models, and the reasonable values of those quantities.\n",
    "* How the different parts of our model might interact with one another.\n",
    "* What a \"good enough\" answer would be to a particular problem"
   ]
  },
  {
   "cell_type": "markdown",
   "metadata": {},
   "source": [
    "## The Problem\n",
    "\n",
    "In this project, your group is going to calculate an answer one of the following questions:\n",
    "\n",
    "1. How many grams of caffeine get consumed on MSU's campus each week?  \n",
    "2. How much does the air above Lake Superior weigh?\n",
    "3. If somebody left one of the bathroom faucets running at the Breslin Center, how long would it take to fill it up with water?  \n",
    "4. If all of the toilet paper used per week in the United States were rolled out across the surface of Michigan could you cover the entire state? If so, could you cover it more than once?\n",
    "5. Which has more mass, the air in this classroom or the brains in this classroom?  \n",
    "6. On average, how many people are airborne in the world at a given moment?  \n",
    "7. How many total miles do all Americans drive in their cars in one year, and how does this compare to the circumference of the Earth ($2.5 \\times 10^4$ miles), the distance from the Earth to the Sun ($9 \\times 10^7$ miles), and size of the Solar System ($10^9$ miles)?\n",
    "8. After a particularly exciting Spartan football game, the fans rush the field. How many people can fit onto the football field at Spartan Stadium?\n",
    "\n",
    "---\n",
    "# Part 1\n",
    "\n",
    "**As a group**, you will be assigned one of these problems to answer. You will need to come up with:\n",
    "1. The questions that you need to ask and answer to come up with an estimate for your problem.\n",
    "2. The equation(s) you will need to solve your problem.\n",
    "3. The reasonable values that would go into the equation(s).\n",
    "\n",
    "Once you have finished these steps, you and your group will implement a simple computer program to calculate a range of answers to your problem.\n",
    "\n",
    "#### Use a virtual whiteboard app like [Google Jamboard](https://jamboard.google.com/) or the [Aww app](https://awwapp.com/)** or the physical whiteboards in the classroom to write out your ideas to ensure that everyone is on the same page and allow your instructors to see your progress."
   ]
  },
  {
   "cell_type": "markdown",
   "metadata": {},
   "source": [
    "## 1.1 Describing Your Model\n",
    "**In the cell below, write down your assigned question and the parameters in your model.** Also write down the range of possible values for each of the parameters!\n",
    "\n"
   ]
  },
  {
   "cell_type": "markdown",
   "metadata": {},
   "source": [
    "<font size=6 color=\"#009600\">&#9998;</font> \n",
    "\n",
    "Group 2: How much does the air above Lake Superior weigh?\n",
    "\n",
    "How heavy is air? Air weighs 14 - 15 pounds per square inch at sea level\n",
    "\n",
    "What is the surface area of Lake Superior? 25,000 - 35,000 sq mi\n",
    "\n",
    "How tall is the atmosphere? 440 - 6,200 mi\n",
    "\n",
    "We are assuming air density is constant, we are at sea level, air resistance does not exist.\n"
   ]
  },
  {
   "cell_type": "markdown",
   "metadata": {},
   "source": [
    "## 1.2 Coding Your Model\n",
    "In the cell below, write a program to calculate and print out an estimate for your model."
   ]
  },
  {
   "cell_type": "markdown",
   "metadata": {},
   "source": [
    "> **Important**: When writing your code, **define variables for each value of interest.**  Then use those variables in your equations.  In other words, do not  hard-code the values in your equations (do not put *numbers* in your equations, put *variables* in your equations).  \n",
    ">\n",
    "> As an example, if I want to compute and then print the area of a right triangle, which I know to be $A = \\frac{1}{2} b h$, I might write my code like so:\n",
    ">\n",
    ">> ```\n",
    ">> base = 10\n",
    ">> height = 5\n",
    ">>\n",
    ">> area = (base * height) / 2\n",
    ">>\n",
    ">> print(\"The area is:\", area)\n",
    ">> ```  \n",
    ">       \n",
    "> By doing this, if I decide I need to change the `base` value or the `height` value, I can just change the value where they are defined. This can be especially useful if I have to use the values multiple times or if I want to experiment with changing the values."
   ]
  },
  {
   "cell_type": "code",
   "execution_count": 2,
   "metadata": {},
   "outputs": [
    {
     "name": "stdout",
     "output_type": "stream",
     "text": [
      "The lower estimate of the weight of air over Lake Superior is  2430.5555555555557 pounds per mile.\n",
      "The higher estimate of the weight of air over Lake Superior is  51373.106060606064 pounds per mile.\n"
     ]
    }
   ],
   "source": [
    "densityOfAirLow = 14.0 \n",
    "densityOfAirHigh = 15.0\n",
    "surfaceAreaLow = 25000.0\n",
    "surfaceAreaHigh = 35000.0\n",
    "heightOfAirLow = 440.0\n",
    "heightOfAirHigh = 6200.0\n",
    "\n",
    "weightOfAirLow = densityOfAirLow * surfaceAreaLow * heightOfAirLow * (1/63360)\n",
    "weightOfAirHigh = densityOfAirHigh * surfaceAreaHigh * heightOfAirHigh * (1/63360)\n",
    "\n",
    "print(\"The lower estimate of the weight of air over Lake Superior is \", weightOfAirLow, \"pounds per mile.\")\n",
    "print(\"The higher estimate of the weight of air over Lake Superior is \", weightOfAirHigh, \"pounds per mile.\")"
   ]
  },
  {
   "cell_type": "markdown",
   "metadata": {},
   "source": [
    "## 1.3 Exploring Model Results\n",
    "**Now, run your model several times**, and each time change the values of the parameters to a different value in the range you think is valid.  In the cell below, write down all of your answers.  What is the total range, and approximately what is the average value?"
   ]
  },
  {
   "cell_type": "markdown",
   "metadata": {},
   "source": [
    "<font size=6 color=\"#009600\">&#9998;</font> \n",
    "\n",
    "First run range: 2430.6 - 51373.1 pounds per mile \n",
    "\n",
    "Second run range: 2916.7 - 51373.1 pounds per mile *changed the lower surface area to 30,000 mi^2\n",
    "\n",
    "Third run range: 2430.6 - 49715.9 pounds per mile *changed the upper height to 6,000 mi\n",
    "\n",
    "Fourth run range: 1736.1 - 68497.5 pounds per mile *changed the density of air to 10-20 psi"
   ]
  },
  {
   "cell_type": "markdown",
   "metadata": {},
   "source": [
    "---\n",
    "## &#128721; STOP AND ASK YOUR INSTRUCTOR TO COME OVER\n",
    "\n",
    "# Part 2\n",
    "\n",
    "## 2.1 Pick a Second Model\n",
    "**Now, picking one of the other questions and going through the process of making another order-of-magnitude estimate.** Each group must choose a *different* question. Once you have decided on which question you are going to try to tackle, try working through the answer on your own, but check in with the members of your group if you run into issues or want to bounce ideas off each other."
   ]
  },
  {
   "cell_type": "markdown",
   "metadata": {},
   "source": [
    "## 2.2 Describe the Model\n",
    "**In the cell below, write down your chosen question and the parameters in your model.** Also write down the range of possible values for each of the parameters!"
   ]
  },
  {
   "cell_type": "markdown",
   "metadata": {},
   "source": [
    "<font size=6 color=\"#009600\">&#9998;</font> \n",
    "\n",
    "8. After a particularly exciting Spartan football game, the fans rush the field. How many people can fit onto the football field at Spartan Stadium?\n",
    "\n",
    "Average Length of a Person Low - 1.25 feet\n",
    "\n",
    "Average Length of a Person High - 2.00 feet\n",
    "\n",
    "Average Width of a Person Low - 0.50 feet\n",
    "\n",
    "Average Width of a Person High - 1.00 feet\n",
    "\n",
    "Surface area of a Football Field - 57,600 square feet\n",
    "\n",
    "\n",
    "Assuming humans are rectangle shaped, not including sidelines of the field, and every human is the same size."
   ]
  },
  {
   "cell_type": "markdown",
   "metadata": {},
   "source": [
    "## 2.3 Coding the Model\n",
    "\n",
    "In the cell below, write a program to calculate and print out an estimate for your model."
   ]
  },
  {
   "cell_type": "code",
   "execution_count": 8,
   "metadata": {},
   "outputs": [
    {
     "name": "stdout",
     "output_type": "stream",
     "text": [
      "The highest estimate for the amount of people on the field is 92160.0 .\n",
      "The lower estimate for the amount of people on the field is 28800.0 .\n"
     ]
    }
   ],
   "source": [
    "lengthLow = 1.25\n",
    "lengthHigh = 2.00\n",
    "widthLow = 0.50\n",
    "widthHigh = 1.00\n",
    "fieldArea = 57600\n",
    "\n",
    "peopleOnFieldLow = fieldArea / (lengthLow * widthLow)\n",
    "peopleOnFieldHigh = fieldArea / (lengthHigh * widthHigh)\n",
    "\n",
    "print(\"The highest estimate for the amount of people on the field is\",peopleOnFieldLow,\".\")\n",
    "print(\"The lower estimate for the amount of people on the field is\",peopleOnFieldHigh,\".\")"
   ]
  },
  {
   "cell_type": "markdown",
   "metadata": {},
   "source": [
    "---\n",
    "## Assignment wrapup\n",
    "\n",
    "Please fill out the form that appears when you run the code below. **You must completely fill this out in order to receive credit for the assignment!** "
   ]
  },
  {
   "cell_type": "code",
   "execution_count": 5,
   "metadata": {},
   "outputs": [
    {
     "data": {
      "text/html": [
       "\n",
       "<iframe \n",
       "\tsrc=\"https://cmse.msu.edu/cmse201-ic-survey\" \n",
       "\twidth=\"800px\" \n",
       "\theight=\"600px\" \n",
       "\tframeborder=\"0\" \n",
       "\tmarginheight=\"0\" \n",
       "\tmarginwidth=\"0\">\n",
       "\tLoading...\n",
       "</iframe>\n"
      ],
      "text/plain": [
       "<IPython.core.display.HTML object>"
      ]
     },
     "execution_count": 5,
     "metadata": {},
     "output_type": "execute_result"
    }
   ],
   "source": [
    "from IPython.display import HTML\n",
    "HTML(\n",
    "\"\"\"\n",
    "<iframe \n",
    "\tsrc=\"https://cmse.msu.edu/cmse201-ic-survey\" \n",
    "\twidth=\"800px\" \n",
    "\theight=\"600px\" \n",
    "\tframeborder=\"0\" \n",
    "\tmarginheight=\"0\" \n",
    "\tmarginwidth=\"0\">\n",
    "\tLoading...\n",
    "</iframe>\n",
    "\"\"\"\n",
    ")"
   ]
  },
  {
   "cell_type": "markdown",
   "metadata": {},
   "source": [
    "### Submit this assignment by uploading it to the course Desire2Learn web page.  \n",
    "Go to the \"In-class assignments\" folder, find the assignment submission link for today's assignment, and upload it there.\n",
    "\n",
    "#### Congratulations, you're done!\n",
    "\n",
    "Make sure to complete the **Pre-class assignment before next class.** See you next class!\n",
    "\n",
    "See you next class!"
   ]
  },
  {
   "cell_type": "markdown",
   "metadata": {},
   "source": [
    "&#169; Copyright 2021,  Michigan State University Board of Trustees"
   ]
  }
 ],
 "metadata": {
  "kernelspec": {
   "display_name": "Python 3 (ipykernel)",
   "language": "python",
   "name": "python3"
  },
  "language_info": {
   "codemirror_mode": {
    "name": "ipython",
    "version": 3
   },
   "file_extension": ".py",
   "mimetype": "text/x-python",
   "name": "python",
   "nbconvert_exporter": "python",
   "pygments_lexer": "ipython3",
   "version": "3.9.12"
  }
 },
 "nbformat": 4,
 "nbformat_minor": 4
}
