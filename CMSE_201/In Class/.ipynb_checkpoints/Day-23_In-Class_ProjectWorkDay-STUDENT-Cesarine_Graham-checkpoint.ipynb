{
 "cells": [
  {
   "cell_type": "markdown",
   "id": "89e168d0",
   "metadata": {},
   "source": [
    "# Day 23 In-class Assignment: Project Work Day "
   ]
  },
  {
   "cell_type": "markdown",
   "id": "c674d63b",
   "metadata": {},
   "source": [
    "### <p style=\"text-align: right;\"> &#9989; Cesarine Graham</p>\n",
    "\n",
    "#### <p style=\"text-align: right;\"> &#9989; Bella, Tori, Allison, Olivia</p>"
   ]
  },
  {
   "cell_type": "markdown",
   "id": "d1d79f7d",
   "metadata": {},
   "source": [
    "## Goals of this assignment\n",
    "\n",
    "The primary goal of this assignment is to share your project progress with your group members, provide feedback for their projects, and spend some time working on your project.\n",
    "\n",
    "\n",
    "## Assignment instructions\n",
    "\n",
    "Follow the instructions below to fill out this notebook. Upload the assignment to D2L at the end of class."
   ]
  },
  {
   "cell_type": "markdown",
   "id": "871ce230",
   "metadata": {},
   "source": [
    "## Part 1: Sharing Project Updates\n",
    "\n",
    "**Step 1:** Take ~5 minutes each to present your slides\n",
    "**Step 2:** As each person presents, fill out the questions below for each person:\n",
    "\n",
    "1. Highlight one strength of their work so far\n",
    "2. Identify one area for growth in their project\n",
    "3. Provide at least one comment on the feasibility of their project\n",
    "\n",
    "Take care to make sure you are providing constructive, actionable feedback to your peers to help them improve their projects!\n",
    "\n",
    "---"
   ]
  },
  {
   "cell_type": "markdown",
   "id": "b798a068",
   "metadata": {},
   "source": [
    "### Group Member: Bella"
   ]
  },
  {
   "cell_type": "markdown",
   "id": "c60bcb1a",
   "metadata": {},
   "source": [
    "Feedback goes here!\n",
    "\n",
    "1. good project idea! im excited to see the results of the data\n",
    "2. I like the data set you selected\n",
    "3. I recommend starting on the data analysis with the pandas module"
   ]
  },
  {
   "cell_type": "markdown",
   "id": "1a029458",
   "metadata": {},
   "source": [
    "### Group Member: Allison"
   ]
  },
  {
   "cell_type": "markdown",
   "id": "761cc2bf",
   "metadata": {},
   "source": [
    "Feedback goes here!\n",
    "\n",
    "1. i absolutely love the project idea- its an interesting idea\n",
    "2. that is a very impressive data collection. i love that it ranges over 60 years\n",
    "3. i like the idea of how to predict names in the future, but how are you gonna predict it?"
   ]
  },
  {
   "cell_type": "markdown",
   "id": "b187ec2e",
   "metadata": {},
   "source": [
    "### Group Member: Tori ###"
   ]
  },
  {
   "cell_type": "markdown",
   "id": "a1a2873e",
   "metadata": {},
   "source": [
    "Feedback goes here!\n",
    "\n",
    "1. I absolutely love the research question- it is very applicable to the real world\n",
    "2. I like how you decided to plot the data\n",
    "3. I feel like there was an easier way to clean up your data, but it's good that it's cleaned "
   ]
  },
  {
   "cell_type": "markdown",
   "id": "99048089",
   "metadata": {},
   "source": [
    "### Group Member: Olivia ###"
   ]
  },
  {
   "cell_type": "markdown",
   "id": "ede5053f",
   "metadata": {},
   "source": [
    "Feedback goes here!\n",
    "\n",
    "1. I like the histograms! they are very neat and easy to interpret\n",
    "2. good number analysis\n",
    "3. are you using roller coasters across the world? where are the roller coasters that you analyzed?"
   ]
  },
  {
   "cell_type": "markdown",
   "id": "e30f21c7",
   "metadata": {},
   "source": [
    "---\n",
    "\n",
    "## Submission of Feedback\n",
    "\n",
    "When you are finished sharing, upload your Day 23 notebook to D2L or the folder your instructor provided to share the feedback with your peers.\n",
    "\n",
    "## Post-class Survey\n",
    "\n",
    "In the post class survey, provide a sentence or two describing what you worked on in class for your project!\n",
    "\n",
    "---"
   ]
  },
  {
   "cell_type": "markdown",
   "id": "954a4eb6",
   "metadata": {},
   "source": [
    "## Assignment wrapup\n",
    "\n",
    "Please fill out the form that appears when you run the code below. **You must completely fill this out in order to receive credit for the assignment!** "
   ]
  },
  {
   "cell_type": "code",
   "execution_count": 2,
   "id": "ef5db08e",
   "metadata": {},
   "outputs": [
    {
     "data": {
      "text/html": [
       "\n",
       "<iframe \n",
       "\tsrc=\"https://cmse.msu.edu/cmse201-ic-survey\" \n",
       "\twidth=\"800px\" \n",
       "\theight=\"600px\" \n",
       "\tframeborder=\"0\" \n",
       "\tmarginheight=\"0\" \n",
       "\tmarginwidth=\"0\">\n",
       "\tLoading...\n",
       "</iframe>\n"
      ],
      "text/plain": [
       "<IPython.core.display.HTML object>"
      ]
     },
     "execution_count": 2,
     "metadata": {},
     "output_type": "execute_result"
    }
   ],
   "source": [
    "from IPython.display import HTML\n",
    "HTML(\n",
    "\"\"\"\n",
    "<iframe \n",
    "\tsrc=\"https://cmse.msu.edu/cmse201-ic-survey\" \n",
    "\twidth=\"800px\" \n",
    "\theight=\"600px\" \n",
    "\tframeborder=\"0\" \n",
    "\tmarginheight=\"0\" \n",
    "\tmarginwidth=\"0\">\n",
    "\tLoading...\n",
    "</iframe>\n",
    "\"\"\"\n",
    ")"
   ]
  },
  {
   "cell_type": "markdown",
   "id": "2c984a59",
   "metadata": {},
   "source": [
    "## Congratulations, you're done!\n",
    "\n",
    "Submit this assignment by uploading your notebook and the pictures of your model planning session to the course Desire2Learn web page.  Go to the \"In-Class Assignments\" folder, find the appropriate submission link, and upload everything there. Make sure your name is on it!"
   ]
  }
 ],
 "metadata": {
  "kernelspec": {
   "display_name": "Python 3 (ipykernel)",
   "language": "python",
   "name": "python3"
  },
  "language_info": {
   "codemirror_mode": {
    "name": "ipython",
    "version": 3
   },
   "file_extension": ".py",
   "mimetype": "text/x-python",
   "name": "python",
   "nbconvert_exporter": "python",
   "pygments_lexer": "ipython3",
   "version": "3.9.12"
  }
 },
 "nbformat": 4,
 "nbformat_minor": 5
}
