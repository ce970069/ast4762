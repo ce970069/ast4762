{
 "cells": [
  {
   "cell_type": "markdown",
   "id": "bda69294-7227-4c23-acee-f273f74f4356",
   "metadata": {},
   "source": [
    "# Day 12 In-Class: Using Resources from Online"
   ]
  },
  {
   "cell_type": "markdown",
   "id": "b207259d-197d-4787-aaed-d42024e263a5",
   "metadata": {},
   "source": [
    "### <p style=\"text-align: right;\"> &#9989; Put your name here</p>"
   ]
  },
  {
   "cell_type": "markdown",
   "id": "27ee52f1-b50c-493b-a69e-104a34f245ca",
   "metadata": {},
   "source": [
    "## Learning Goals:\n",
    "\n",
    "By the end of this assignment, you should be able to:\n",
    "- Compare and evaluate datasets\n",
    "- Make visualizations using tools that you found online\n",
    "- Present a dataset using visualizations"
   ]
  },
  {
   "cell_type": "markdown",
   "id": "32125d80-5dd4-453b-9e76-86eb0c2f8f96",
   "metadata": {},
   "source": [
    "## Introduction\n",
    "\n",
    "The goal of this assignment is for you and your group to make one or more visualizations of real-world data and then share these visualizations with the rest of the class. This is meant to be a kind of test run of the skills you’ll be expected to demonstrate for the semester project.\n",
    "\n",
    "In the pre-class assignment, you were tasked with finding a dataset and a new plotting tool using online resources. In today’s assignment, you will be:\n",
    "1. Sharing the datasets and plotting tools you found in the pre-class assignment with your group. \n",
    "1. Picking (as a group) one dataset to work with\n",
    "1. Using one or more of the plotting tools to make one or more visualizations of the data\n",
    "1. Sharing the visualization(s) that you made with the rest of the class"
   ]
  },
  {
   "cell_type": "markdown",
   "id": "3a4e8fbc-5b27-4495-859c-e57559af24f0",
   "metadata": {},
   "source": [
    "## 1. Sharing out with your group\n",
    "\n",
    "#### &#9989;&nbsp; **TASK** As a group, take turns sharing your datasets and plotting tools with one another."
   ]
  },
  {
   "cell_type": "markdown",
   "id": "dc0332f0-76fc-405f-bfbf-cd88fbd1f05c",
   "metadata": {},
   "source": [
    "we did"
   ]
  },
  {
   "cell_type": "markdown",
   "id": "2970f13e-19f8-40e2-8d58-98c43bcb79a0",
   "metadata": {},
   "source": [
    "## 2. Picking one dataset to work with\n",
    "\n",
    "#### &#9989;&nbsp; **TASK** As a group, pick one of the datasets to work with. When deciding on which dataset to use, keep in mind that you will need to use it to make one or more visualizations.\n",
    "\n",
    "we are using tori's data and presentation"
   ]
  },
  {
   "cell_type": "markdown",
   "id": "3b5069b4-2e4d-4579-8884-126812a748c1",
   "metadata": {},
   "source": [
    "## 3. Create one or more visualizations of your dataset\n",
    "\n",
    "#### &#9989;&nbsp; **TASK** As a group, create one or more visualizations of this dataset. \n",
    "\n",
    "**Example** Below are two example plots, which have been created using the data retrived in the example in the pre-class assignment (I.e., Cocoa Export data taken from the FAO). If I were presenting these plots, I would probably use the linear plot to note how much of the total exports are coming from just a small handful of countries--most of which are on Africa's west coast--and put special empahsis on the dominant role played by the Cote d'Ivoire. I would then use the log plot to talk about how there are still many countries that have *some* Cocoa bean exports, just significantly less than the top few countries. \n",
    "\n",
    "\n",
    "<img src=\"https://github.com/msu-cmse-courses/cmse201-S22-data/blob/main/Day-13_NEW/Linear_Plot_Cocoa_Beans_Export.jpg?raw=true\" width=1000px>\n",
    "\n",
    "<img src=\"https://github.com/msu-cmse-courses/cmse201-S22-data/blob/main/Day-13_NEW/Log_Plot_Cocoa_Beans_Export.jpg?raw=true\" width=1000px>"
   ]
  },
  {
   "cell_type": "code",
   "execution_count": null,
   "id": "845806cc-adeb-49f1-bbf7-16bd52e24b06",
   "metadata": {},
   "outputs": [],
   "source": [
    "#Write the code for your visualizations here\n",
    "#Every member of your group should have this code in their final notebooks."
   ]
  },
  {
   "cell_type": "markdown",
   "id": "12cffbf0-19e0-456c-bffe-d308b264e3d1",
   "metadata": {},
   "source": [
    "## 4. Present your visualizations to the rest of the class\n",
    "\n",
    "#### &#9989;&nbsp; **TASK** As a group, you will present your visualizations to the rest of the class to tell the rest of the class about the specific dataset that you’ve chosen to work with. Your instructor should have shared a Google Slides presentation with you. Put your visualizations on your slide, and decide how you are going to present them to the rest of the class. "
   ]
  },
  {
   "cell_type": "markdown",
   "id": "2e6077ca-c99a-441c-9771-ea0690b31356",
   "metadata": {},
   "source": [
    "---\n",
    "## Assignment wrapup\n",
    "\n",
    "Please fill out the form that appears when you run the code below. **You must completely fill this out in order to receive credit for the assignment!** "
   ]
  },
  {
   "cell_type": "code",
   "execution_count": 1,
   "id": "4a1bd8df-9cbd-45d9-823b-a960ad403482",
   "metadata": {},
   "outputs": [
    {
     "data": {
      "text/html": [
       "\n",
       "<iframe \n",
       "\tsrc=\"https://cmse.msu.edu/cmse201-ic-survey\" \n",
       "\twidth=\"800px\" \n",
       "\theight=\"600px\" \n",
       "\tframeborder=\"0\" \n",
       "\tmarginheight=\"0\" \n",
       "\tmarginwidth=\"0\">\n",
       "\tLoading...\n",
       "</iframe>\n"
      ],
      "text/plain": [
       "<IPython.core.display.HTML object>"
      ]
     },
     "execution_count": 1,
     "metadata": {},
     "output_type": "execute_result"
    }
   ],
   "source": [
    "from IPython.display import HTML\n",
    "HTML(\n",
    "\"\"\"\n",
    "<iframe \n",
    "\tsrc=\"https://cmse.msu.edu/cmse201-ic-survey\" \n",
    "\twidth=\"800px\" \n",
    "\theight=\"600px\" \n",
    "\tframeborder=\"0\" \n",
    "\tmarginheight=\"0\" \n",
    "\tmarginwidth=\"0\">\n",
    "\tLoading...\n",
    "</iframe>\n",
    "\"\"\"\n",
    ")"
   ]
  },
  {
   "cell_type": "markdown",
   "id": "b173fc55-7deb-4a08-a7a5-60e548d0aa48",
   "metadata": {},
   "source": [
    "## Congratulations, you're done!\n",
    "\n",
    "Submit this assignment by uploading your notebook to the course Desire2Learn web page.  Go to the \"In-Class Assignments\" folder, find the appropriate submission link, and upload it there. Make sure your name is on it.\n",
    "\n",
    "See you next class!"
   ]
  },
  {
   "cell_type": "markdown",
   "id": "19cce7a5-3be0-45ba-9f62-1d12ec097e72",
   "metadata": {},
   "source": [
    "Copyright &#169; 2021, [Department of Computational Mathematics, Science and Engineering](https://cmse.msu.edu/) at Michigan State University, All rights reserved."
   ]
  }
 ],
 "metadata": {
  "kernelspec": {
   "display_name": "Python 3 (ipykernel)",
   "language": "python",
   "name": "python3"
  },
  "language_info": {
   "codemirror_mode": {
    "name": "ipython",
    "version": 3
   },
   "file_extension": ".py",
   "mimetype": "text/x-python",
   "name": "python",
   "nbconvert_exporter": "python",
   "pygments_lexer": "ipython3",
   "version": "3.9.12"
  }
 },
 "nbformat": 4,
 "nbformat_minor": 5
}
