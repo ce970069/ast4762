{
 "cells": [
  {
   "cell_type": "markdown",
   "id": "a3c4aa76-23aa-4873-9959-1939a459837e",
   "metadata": {},
   "source": [
    "## <p style=\"text-align: right;\"> &#9989; Cesarine Graham</p>"
   ]
  },
  {
   "cell_type": "markdown",
   "id": "91c9c720-2656-45a2-af5f-ed692cf0f3ea",
   "metadata": {},
   "source": [
    "# CMSE 201: Quiz 1 (Section 006 Fall 2022)\n",
    "\n",
    "The goal of this quiz is to give you the opportunity to test out some of the skills that you've developed thus far this semester. In particular, you'll reflect on what you know about writing code using Python and showcase some of your new programming skills.\n",
    "\n",
    "**Important note about using online resources**: This exam is \"open internet\". That means that you can look up documentation, google how to accomplish certain Python tasks, etc. Being able to effectively use the internet for computational modeling and data science is a very important skill, so we want to make sure you have the opportunity to exercise that skill. **However, the use of any person-to-person communication software is absolutely not acceptable.**\n",
    "\n",
    "**Do your own work.** This quiz is designed to give *you* the opportunity to show the instructor what you can do and you should hold yourself accountable for maintaining a high level of academic integrity. Any violation of academic integrity could result in you receiving a zero on the quiz."
   ]
  },
  {
   "cell_type": "markdown",
   "id": "f9070f69-b6d1-4c9d-9d2c-8d94d80d9391",
   "metadata": {},
   "source": [
    "---\n",
    "# Academic integrity statement [10 points]\n",
    "\n",
    "In the markdown cell below, put your personal academic integrity statement. By including this statement, you are confirming that you are submitting this as your own work and not that of someone else.\n"
   ]
  },
  {
   "cell_type": "markdown",
   "id": "2c692dc2-9763-46fa-878a-b18664e6ce53",
   "metadata": {},
   "source": [
    "<font size=+3>&#9998;</font> I, Cesarine Graham, commit to upholding the Spartan Code of Honor Academic Pledge, as well as holding the values true to myself for the rest of my academic career. I will uphold the core value of the US Navy being 'I will bear true faith and allegiance,' as the US Navy was the reason I was able to recieve a collegiate education and any further opportunites.'I commit to submitting my work, only my work, and nothing else. All work that is not mine shall be properly clearly and visibly cited to the audience."
   ]
  },
  {
   "cell_type": "markdown",
   "id": "e4ae8012",
   "metadata": {},
   "source": [
    "---\n",
    "\n",
    "# 1. Variables (10 points)\n",
    "\n",
    "In the first cell below, define a variable that holds a string that is your name, and define another variable that holds a number that is the number of dogs you wish you had.\n",
    "\n",
    "In the second cell below, write a print statement (using your two variables defined in the first cell) that prints a complete sentence stating your name and how many dogs you wish you had.\n",
    "\n",
    "Fnially, describe your thought process for how you constructed your print statement."
   ]
  },
  {
   "cell_type": "code",
   "execution_count": 2,
   "id": "b0b75a79",
   "metadata": {},
   "outputs": [],
   "source": [
    "# define your variables here\n",
    "my_name = 'Cesarine Graham'\n",
    "dogs = 5"
   ]
  },
  {
   "cell_type": "code",
   "execution_count": 4,
   "id": "49c9dd40",
   "metadata": {},
   "outputs": [
    {
     "name": "stdout",
     "output_type": "stream",
     "text": [
      "My name is Cesarine Graham and I wish I had 5 dogs .\n"
     ]
    }
   ],
   "source": [
    "# write your print statement here\n",
    "print('My name is', my_name, 'and I wish I had', dogs, 'dogs','.')"
   ]
  },
  {
   "cell_type": "markdown",
   "id": "9b2b8b39",
   "metadata": {},
   "source": [
    "<font size=+3>&#9998;</font> I know that any words that I want to use in the print statement I have to type out as a string, and the words that are defined in the functions I just need to call the variables. All of these are separated by commas so they dont result in an error."
   ]
  },
  {
   "cell_type": "markdown",
   "id": "2ec7650c",
   "metadata": {},
   "source": [
    "---\n",
    "# 2. Lists and Indexing (10 points)\n",
    "\n",
    "In the cell below, define a list that holds the names of at least 5 varieties of fruit. Then, **using the indices**, write a print statement that prints your fruit varieties in order from your favorite to least favorite. \n",
    "\n",
    "Then, describe your thought process for how you solved this problem."
   ]
  },
  {
   "cell_type": "code",
   "execution_count": 7,
   "id": "9e6ed06b",
   "metadata": {},
   "outputs": [
    {
     "name": "stdout",
     "output_type": "stream",
     "text": [
      "orange\n",
      "mango\n",
      "strawberry\n",
      "apple\n",
      "grape\n"
     ]
    }
   ],
   "source": [
    "# put your code here\n",
    "fruit = ['orange','mango','strawberry','apple','grape']\n",
    "\n",
    "for i in range(len(fruit)):\n",
    "    print(fruit[i])"
   ]
  },
  {
   "cell_type": "markdown",
   "id": "acb70de0",
   "metadata": {},
   "source": [
    "<font size=+3>&#9998;</font> I started this problem by initializing a list of fruit in the order that i liked from greatest to least. then i set up a for loop that will loop by index. in order to set up a loop by index, i used the range(len(function)) format, and then printed each iteration index."
   ]
  },
  {
   "cell_type": "markdown",
   "id": "a82b3728-b1b5-4325-8e79-06a38064c969",
   "metadata": {},
   "source": [
    "---\n",
    "\n",
    "# 3. For Loops and Debugging: Calculating Catering Food Costs (55 points)\n",
    "\n",
    "You work for a catering company, specifically helping them figure out how much they need to spend on ordering materials. For each catering job, the system stores three lists:\n",
    "- One with the name of the item \n",
    "- One with the quantity of that item that they need \n",
    "- One with the price of the item "
   ]
  },
  {
   "cell_type": "code",
   "execution_count": 9,
   "id": "a7677abd-6033-4300-ad68-6042557b8f7c",
   "metadata": {},
   "outputs": [],
   "source": [
    "materials_names = [\"Eggplant\", \"Roast Beef\", \"Eggs\", \"Strawberries\", \"Pasta\", \"Parmesan Cheese\"]\n",
    "materials_quantity = [100, 50, 500, 2500, 100, 10]\n",
    "materials_prices = [2.5, 25.0, 0.1, 0.20, 12, 30]"
   ]
  },
  {
   "cell_type": "markdown",
   "id": "0af6f375-1e3a-4a4c-b341-847590b8b7c0",
   "metadata": {},
   "source": [
    "**Your company needs a piece of code that will calculate the total cost of materials for each job, so they can make up the budget.** To calculate the total cost *for one item*, the item's price must be multiplied by the quantity needed (E.g., the total cost of Eggplants is \\\\$2.50 per eggplant $\\times$ 100 eggplants $=$ \\\\$250.00.) The total cost of materials is the sum of the costs of each item.\n",
    "\n",
    "Your boss started to write this bit of code (below), but part way through they **ran into an error** they couldn’t figure out. "
   ]
  },
  {
   "cell_type": "code",
   "execution_count": 10,
   "id": "dc542fad-56d6-4a38-8397-8e4828510d1a",
   "metadata": {},
   "outputs": [
    {
     "ename": "TypeError",
     "evalue": "'list' object cannot be interpreted as an integer",
     "output_type": "error",
     "traceback": [
      "\u001b[1;31m---------------------------------------------------------------------------\u001b[0m",
      "\u001b[1;31mTypeError\u001b[0m                                 Traceback (most recent call last)",
      "Input \u001b[1;32mIn [10]\u001b[0m, in \u001b[0;36m<cell line: 3>\u001b[1;34m()\u001b[0m\n\u001b[0;32m      1\u001b[0m all_items_total_cost \u001b[38;5;241m=\u001b[39m []\n\u001b[1;32m----> 3\u001b[0m \u001b[38;5;28;01mfor\u001b[39;00m i \u001b[38;5;129;01min\u001b[39;00m \u001b[38;5;28;43mrange\u001b[39;49m\u001b[43m(\u001b[49m\u001b[43mmaterials_quantity\u001b[49m\u001b[43m)\u001b[49m:\n\u001b[0;32m      4\u001b[0m     item_total_cost \u001b[38;5;241m=\u001b[39m materials_quantity[i]\u001b[38;5;241m*\u001b[39mmaterials_prices[i]\n\u001b[0;32m      5\u001b[0m     all_items_total_cost\u001b[38;5;241m.\u001b[39mappend(item_total_cost)\n",
      "\u001b[1;31mTypeError\u001b[0m: 'list' object cannot be interpreted as an integer"
     ]
    }
   ],
   "source": [
    "all_items_total_cost = []\n",
    "\n",
    "for i in range(materials_quantity):\n",
    "    item_total_cost = materials_quantity[i]*materials_prices[i]\n",
    "    all_items_total_cost.append(item_total_cost)"
   ]
  },
  {
   "cell_type": "markdown",
   "id": "0892c9ab-8560-48f0-b697-656b06992db6",
   "metadata": {},
   "source": [
    "&#9989;&nbsp; **Part 1 (20 points):** In the cell below, describe the bug in the code and how you solved it. Specifically, provide the following information: \n",
    "1. The line of code that caused the error(s)\n",
    "2. (Where appropriate) The error code\n",
    "3. A plain english description of the error(s) in the code\n",
    "4. How you solved the error(s)"
   ]
  },
  {
   "cell_type": "markdown",
   "id": "0d88f3c1-c2fa-47ff-84ad-d01ecb036f25",
   "metadata": {},
   "source": [
    "<font size=+3>&#9998;</font> The line of code that caused the error was line 3 because there was no len call. The errror type was \" 'list' object cannot be interpreted as an integer.\" In order to loop by index in python, you must tell the code that it is running for the length of the list. Since this was forgotten, the code did not know where to stop. I fixed this by adding the len call inside of the range call. "
   ]
  },
  {
   "cell_type": "markdown",
   "id": "5d0ba3d2-f9b3-4a90-a0eb-49b2626a94b1",
   "metadata": {},
   "source": [
    "&#9989;&nbsp; **Part 2 (20 points):** In the empty code cell below, rewrite the buggy code so that it works properly. "
   ]
  },
  {
   "cell_type": "code",
   "execution_count": 11,
   "id": "57abd5d4-4313-4476-a22f-bf595bc8377e",
   "metadata": {},
   "outputs": [],
   "source": [
    "# Put your modified code here\n",
    "all_items_total_cost = []\n",
    "\n",
    "for i in range(len(materials_quantity)):\n",
    "    item_total_cost = materials_quantity[i]*materials_prices[i]\n",
    "    all_items_total_cost.append(item_total_cost)"
   ]
  },
  {
   "cell_type": "markdown",
   "id": "cca8b40f-a65b-4214-b3ab-55f49268069b",
   "metadata": {},
   "source": [
    "&#9989;&nbsp; **Part 3 (10 points):** Is this code looping by index or looping by value? Could you solve the problem using the other kind of `for` loop? "
   ]
  },
  {
   "cell_type": "markdown",
   "id": "02f91219-191c-4d50-bb51-6335cb53f580",
   "metadata": {},
   "source": [
    "<font size=+3>&#9998;</font> The code is looping by index. You could solve the problem using a loop by value by stating: \"for value in materials_quantity:\" ."
   ]
  },
  {
   "cell_type": "markdown",
   "id": "a056b957",
   "metadata": {},
   "source": [
    "# 4. While Loops (15 points)\n",
    "\n",
    "In the cell below, there is a `for` loop and some lists that your friend wrote to keep track of the number of animals they saw at the zoo. When they gave you their code, you realized that their code might be more clear and efficient if it were written as a `while` loop instead.\n",
    "\n",
    "In the empty cell below, rewrite the `for` loop as a `while` loop. The output should remain the same, but you can change any of the variable names."
   ]
  },
  {
   "cell_type": "code",
   "execution_count": 12,
   "id": "1a623c9f",
   "metadata": {},
   "outputs": [
    {
     "name": "stdout",
     "output_type": "stream",
     "text": [
      "There are 4 otter in the zoo.\n",
      "There are 6 flamingo in the zoo.\n",
      "There are 2 elephant in the zoo.\n",
      "There are 1 tiger in the zoo.\n",
      "There are 3 ibex in the zoo.\n",
      "There are 2 tortoise in the zoo.\n",
      "There are 9 elk in the zoo.\n",
      "There are 5 wolf in the zoo.\n",
      "There are 20 prarie dog in the zoo.\n",
      "There are 12 lemur in the zoo.\n",
      "There are 64 total animals in the zoo.\n"
     ]
    }
   ],
   "source": [
    "animal_species = ['otter','flamingo','elephant','tiger','ibex','tortoise','elk','wolf','prarie dog','lemur']\n",
    "animal_counts = [4,6,2,1,3,2,9,5,20,12]\n",
    "\n",
    "count = 0\n",
    "animal_count = 0\n",
    "for i in animal_species:\n",
    "    print('There are',animal_counts[count],animal_species[count],'in the zoo.')\n",
    "    animal_count+=animal_counts[count]\n",
    "    count = count + 1\n",
    "print('There are',animal_count,'total animals in the zoo.')"
   ]
  },
  {
   "cell_type": "code",
   "execution_count": 13,
   "id": "9f06aa07",
   "metadata": {},
   "outputs": [
    {
     "name": "stdout",
     "output_type": "stream",
     "text": [
      "There are 4 otter in the zoo.\n",
      "There are 6 flamingo in the zoo.\n",
      "There are 2 elephant in the zoo.\n",
      "There are 1 tiger in the zoo.\n",
      "There are 3 ibex in the zoo.\n",
      "There are 2 tortoise in the zoo.\n",
      "There are 9 elk in the zoo.\n",
      "There are 5 wolf in the zoo.\n",
      "There are 20 prarie dog in the zoo.\n",
      "There are 12 lemur in the zoo.\n",
      "There are 64 total animals in the zoo.\n"
     ]
    }
   ],
   "source": [
    "animal_species = ['otter','flamingo','elephant','tiger','ibex','tortoise','elk','wolf','prarie dog','lemur']\n",
    "animal_counts = [4,6,2,1,3,2,9,5,20,12]\n",
    "count = 0\n",
    "animal_count = 0\n",
    "\n",
    "while count < 10:\n",
    "    print('There are',animal_counts[count],animal_species[count],'in the zoo.')\n",
    "    animal_count+=animal_counts[count]\n",
    "    count = count + 1\n",
    "    \n",
    "print('There are',animal_count,'total animals in the zoo.')"
   ]
  },
  {
   "cell_type": "markdown",
   "id": "68544b38-6ac6-44cc-91f4-e870d2feb899",
   "metadata": {},
   "source": [
    "---\n",
    "\n",
    "### Congratulations, you're done!\n",
    "\n",
    "Submit this quiz by uploading it to the course Desire2Learn web page.  Go to the \"Quizzes\" section, find the submission folder link for Quiz #1, and upload it there."
   ]
  }
 ],
 "metadata": {
  "kernelspec": {
   "display_name": "Python 3 (ipykernel)",
   "language": "python",
   "name": "python3"
  },
  "language_info": {
   "codemirror_mode": {
    "name": "ipython",
    "version": 3
   },
   "file_extension": ".py",
   "mimetype": "text/x-python",
   "name": "python",
   "nbconvert_exporter": "python",
   "pygments_lexer": "ipython3",
   "version": "3.9.12"
  }
 },
 "nbformat": 4,
 "nbformat_minor": 5
}
