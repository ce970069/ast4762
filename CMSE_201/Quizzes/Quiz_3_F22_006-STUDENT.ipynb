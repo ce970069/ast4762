{
 "cells": [
  {
   "cell_type": "markdown",
   "metadata": {},
   "source": [
    "## <p style=\"text-align: right;\"> &#9989; Cesarine Graham</p>"
   ]
  },
  {
   "cell_type": "markdown",
   "metadata": {},
   "source": [
    "# CMSE 201: Quiz 3 (Section 006 - Fall 2022)\n",
    "\n",
    "The goal of this quiz is to give you the opportunity to test out some of the skills that you've developed thus far this semester. In particular, you'll reflect on what you know about writing code using Python and showcase some of your new programming skills.\n",
    "\n",
    "**Important note about using online resources**: This exam is \"open internet\". That means that you can look up documentation, google how to accomplish certain Python tasks, etc. Being able to effectively use the internet for computational modeling and data science is a very important skill, so we want to make sure you have the opportunity to exercise that skill. **However, the use of any person-to-person communication software is absolutely not acceptable.**\n",
    "\n",
    "**Do your own work.** This quiz is designed to give *you* the opportunity to show the instructor what you can do and you should hold yourself accountable for maintaining a high level of academic integrity. Any violation of academic integrity could result in you receiving a zero on the quiz."
   ]
  },
  {
   "cell_type": "markdown",
   "metadata": {},
   "source": [
    "---\n",
    "# Academic integrity statement [10 points]\n",
    "\n",
    "In the markdown cell below, put your personal academic integrity statement. By including this statement, you are confirming that you are submitting this as your own work and not that of someone else.\n"
   ]
  },
  {
   "cell_type": "markdown",
   "metadata": {},
   "source": [
    "<font size=+3>&#9998;</font> *I, Cesarine Graham, commit to upholding the Spartan Code of Honor Academic Pledge, as well as holding the values true to myself for the rest of my academic career. I will uphold the core value of the US Navy being 'I will bear true faith and allegiance,' as the US Navy was the reason I was able to recieve a collegiate education and any further opportunites.'I commit to submitting my work, only my work, and nothing else. All work that is not mine shall be properly clearly and visibly cited to the audience.*"
   ]
  },
  {
   "cell_type": "markdown",
   "metadata": {},
   "source": [
    "---\n",
    "\n",
    "# Analyzing Athletic Performance in Powerlifting\n",
    "\n",
    "You have landed your first data science internship at the Center for Obscure Sports. Your first assignment is to explore how overall performance in powerlifting changes with age. Your team lead has given you a datafile called `open_pl_for_quiz.csv` that you are going to explore with `pandas` and other python modules to see what you can learn and share with your team.\n",
    "\n",
    "#### Background Information on Powerlifting for the Curious\n",
    "Powerlifting is a strength sport in which lifters compete for the highest total across their squat, bench press, and deadlift. Each competitor gets three attempts at each lift (squat, bench, and deadlift), and the best of the three attempts on each lift are added up to the competitor's \"Total.\" The competitors are divided up into weight classes, and the competitor with the highest total in their weight class wins. If a lifter misses all three attempts for a squat, bench, or deadlift, they are disqualified and do not get a Total. A miss is any attempt that a competitor fails to complete as judged by the referees."
   ]
  },
  {
   "cell_type": "markdown",
   "metadata": {},
   "source": [
    "#### &#9989;&nbsp; **Part 1 (15 points):** Examine the data file and describe the columns of data it contains to the best of your knowledge."
   ]
  },
  {
   "cell_type": "code",
   "execution_count": 1,
   "metadata": {},
   "outputs": [
    {
     "data": {
      "text/html": [
       "<div>\n",
       "<style scoped>\n",
       "    .dataframe tbody tr th:only-of-type {\n",
       "        vertical-align: middle;\n",
       "    }\n",
       "\n",
       "    .dataframe tbody tr th {\n",
       "        vertical-align: top;\n",
       "    }\n",
       "\n",
       "    .dataframe thead th {\n",
       "        text-align: right;\n",
       "    }\n",
       "</style>\n",
       "<table border=\"1\" class=\"dataframe\">\n",
       "  <thead>\n",
       "    <tr style=\"text-align: right;\">\n",
       "      <th></th>\n",
       "      <th>Age</th>\n",
       "      <th>BodyweightKg</th>\n",
       "      <th>Best3SquatKg</th>\n",
       "      <th>Best3BenchKg</th>\n",
       "      <th>Best3DeadliftKg</th>\n",
       "      <th>TotalKg</th>\n",
       "    </tr>\n",
       "  </thead>\n",
       "  <tbody>\n",
       "    <tr>\n",
       "      <th>0</th>\n",
       "      <td>37.0</td>\n",
       "      <td>51.8</td>\n",
       "      <td>92.5</td>\n",
       "      <td>66.0</td>\n",
       "      <td>125.0</td>\n",
       "      <td>283.5</td>\n",
       "    </tr>\n",
       "    <tr>\n",
       "      <th>1</th>\n",
       "      <td>25.0</td>\n",
       "      <td>71.9</td>\n",
       "      <td>102.5</td>\n",
       "      <td>72.5</td>\n",
       "      <td>135.0</td>\n",
       "      <td>310.0</td>\n",
       "    </tr>\n",
       "    <tr>\n",
       "      <th>2</th>\n",
       "      <td>68.0</td>\n",
       "      <td>65.3</td>\n",
       "      <td>120.0</td>\n",
       "      <td>65.0</td>\n",
       "      <td>210.0</td>\n",
       "      <td>395.0</td>\n",
       "    </tr>\n",
       "    <tr>\n",
       "      <th>3</th>\n",
       "      <td>71.0</td>\n",
       "      <td>81.4</td>\n",
       "      <td>150.0</td>\n",
       "      <td>85.0</td>\n",
       "      <td>180.0</td>\n",
       "      <td>415.0</td>\n",
       "    </tr>\n",
       "    <tr>\n",
       "      <th>4</th>\n",
       "      <td>50.0</td>\n",
       "      <td>82.0</td>\n",
       "      <td>200.0</td>\n",
       "      <td>110.0</td>\n",
       "      <td>220.0</td>\n",
       "      <td>530.0</td>\n",
       "    </tr>\n",
       "  </tbody>\n",
       "</table>\n",
       "</div>"
      ],
      "text/plain": [
       "    Age  BodyweightKg  Best3SquatKg  Best3BenchKg  Best3DeadliftKg  TotalKg\n",
       "0  37.0          51.8          92.5          66.0            125.0    283.5\n",
       "1  25.0          71.9         102.5          72.5            135.0    310.0\n",
       "2  68.0          65.3         120.0          65.0            210.0    395.0\n",
       "3  71.0          81.4         150.0          85.0            180.0    415.0\n",
       "4  50.0          82.0         200.0         110.0            220.0    530.0"
      ]
     },
     "execution_count": 1,
     "metadata": {},
     "output_type": "execute_result"
    }
   ],
   "source": [
    "# Write any code you need here\n",
    "\n",
    "#importing my modules\n",
    "import pandas as pd\n",
    "import matplotlib.pyplot as plt\n",
    "import numpy as np\n",
    "\n",
    "#importing the data file and describing the data\n",
    "fitness_data = pd.read_csv('open_pl_for_quiz.csv')\n",
    "fitness_data.head()"
   ]
  },
  {
   "cell_type": "markdown",
   "metadata": {},
   "source": [
    "<font size=+3>&#9998;</font> *This data file contains a list of persons of varying ages and their respective bodyweight (kg), best 3 squat(kg), best 3 bench(kg), best 3 deadlift(kg), and total weight of each of the exercises(kg).*\n"
   ]
  },
  {
   "cell_type": "markdown",
   "metadata": {},
   "source": [
    "#### &#9989;&nbsp; **Part 2 (20 points):** Select all of the data for one lifter age of your choice (e.g., where 'Age' column is equal to 25). Print out the mean (average) of the 'TotalKg' column for all of the lifters of the age you chose. "
   ]
  },
  {
   "cell_type": "code",
   "execution_count": 2,
   "metadata": {},
   "outputs": [
    {
     "data": {
      "text/html": [
       "<div>\n",
       "<style scoped>\n",
       "    .dataframe tbody tr th:only-of-type {\n",
       "        vertical-align: middle;\n",
       "    }\n",
       "\n",
       "    .dataframe tbody tr th {\n",
       "        vertical-align: top;\n",
       "    }\n",
       "\n",
       "    .dataframe thead th {\n",
       "        text-align: right;\n",
       "    }\n",
       "</style>\n",
       "<table border=\"1\" class=\"dataframe\">\n",
       "  <thead>\n",
       "    <tr style=\"text-align: right;\">\n",
       "      <th></th>\n",
       "      <th>Age</th>\n",
       "      <th>BodyweightKg</th>\n",
       "      <th>Best3SquatKg</th>\n",
       "      <th>Best3BenchKg</th>\n",
       "      <th>Best3DeadliftKg</th>\n",
       "      <th>TotalKg</th>\n",
       "    </tr>\n",
       "  </thead>\n",
       "  <tbody>\n",
       "    <tr>\n",
       "      <th>63</th>\n",
       "      <td>20.0</td>\n",
       "      <td>58.80</td>\n",
       "      <td>183.0</td>\n",
       "      <td>107.5</td>\n",
       "      <td>241.0</td>\n",
       "      <td>531.5</td>\n",
       "    </tr>\n",
       "    <tr>\n",
       "      <th>122</th>\n",
       "      <td>20.0</td>\n",
       "      <td>101.60</td>\n",
       "      <td>250.0</td>\n",
       "      <td>160.0</td>\n",
       "      <td>265.0</td>\n",
       "      <td>675.0</td>\n",
       "    </tr>\n",
       "    <tr>\n",
       "      <th>167</th>\n",
       "      <td>20.0</td>\n",
       "      <td>72.10</td>\n",
       "      <td>195.0</td>\n",
       "      <td>95.0</td>\n",
       "      <td>215.0</td>\n",
       "      <td>505.0</td>\n",
       "    </tr>\n",
       "    <tr>\n",
       "      <th>170</th>\n",
       "      <td>20.0</td>\n",
       "      <td>79.20</td>\n",
       "      <td>205.0</td>\n",
       "      <td>87.5</td>\n",
       "      <td>220.5</td>\n",
       "      <td>513.0</td>\n",
       "    </tr>\n",
       "    <tr>\n",
       "      <th>210</th>\n",
       "      <td>20.0</td>\n",
       "      <td>102.02</td>\n",
       "      <td>190.0</td>\n",
       "      <td>150.0</td>\n",
       "      <td>242.5</td>\n",
       "      <td>582.5</td>\n",
       "    </tr>\n",
       "  </tbody>\n",
       "</table>\n",
       "</div>"
      ],
      "text/plain": [
       "      Age  BodyweightKg  Best3SquatKg  Best3BenchKg  Best3DeadliftKg  TotalKg\n",
       "63   20.0         58.80         183.0         107.5            241.0    531.5\n",
       "122  20.0        101.60         250.0         160.0            265.0    675.0\n",
       "167  20.0         72.10         195.0          95.0            215.0    505.0\n",
       "170  20.0         79.20         205.0          87.5            220.5    513.0\n",
       "210  20.0        102.02         190.0         150.0            242.5    582.5"
      ]
     },
     "execution_count": 2,
     "metadata": {},
     "output_type": "execute_result"
    }
   ],
   "source": [
    "# Write any code you need here\n",
    "\n",
    "#creating a mask for only when age is equal to 20\n",
    "age_20_masked = fitness_data['Age']==20\n",
    "age_20_masked = fitness_data[age_20_masked]\n",
    "age_20_masked.head() #printing the data file to make sure the mask worked"
   ]
  },
  {
   "cell_type": "code",
   "execution_count": 3,
   "metadata": {},
   "outputs": [
    {
     "name": "stdout",
     "output_type": "stream",
     "text": [
      "the average total kg for the 20 year olds is: \n"
     ]
    },
    {
     "data": {
      "text/plain": [
       "478.8634827586206"
      ]
     },
     "execution_count": 3,
     "metadata": {},
     "output_type": "execute_result"
    }
   ],
   "source": [
    "#printing the mean of the 'TotalKg' column\n",
    "print(\"the average total kg for the 20 year olds is: \")\n",
    "np.average(age_20_masked['TotalKg'])"
   ]
  },
  {
   "cell_type": "markdown",
   "metadata": {},
   "source": [
    "#### &#9989;&nbsp; **Part 3 (40 points):** Calculate the mean total (from the 'TotalKg' column) for ages ranging from 20 to 40 in steps of 1 year (i.e. you should have ~20 data points in all). Make a plot showing the average total for each age. \n"
   ]
  },
  {
   "cell_type": "code",
   "execution_count": 9,
   "metadata": {},
   "outputs": [
    {
     "name": "stdout",
     "output_type": "stream",
     "text": [
      "[478.8634827586207, 489.33221041155616, 503.56774426719835, 509.5846185397867, 513.4234134960518, 511.56729362985294, 508.58649094567403, 512.9262642465173, 512.3988669238187, 514.4333316195372, 509.8131067961164, 511.2413982770046, 514.3420338983052, 510.70660914581543, 500.45891866913115, 511.7952883675464, 484.91436819172117, 476.32600487210715, 480.48148555708394, 468.43702850877185]\n"
     ]
    }
   ],
   "source": [
    "# Write any code you need here\n",
    "\n",
    "#for the less than or equal to 40\n",
    "age_mask_40 = fitness_data['Age'] <= 40\n",
    "age_ranged_40 = fitness_data[age_mask_40]\n",
    "\n",
    "#for the greater than or equal to 20\n",
    "age_mask_20 = age_ranged_40['Age'] >= 20\n",
    "age_ranged_20_40 = age_ranged_40[age_mask_20]\n",
    "\n",
    "age_ranged_array = []\n",
    "for age in range(20,40,1):\n",
    "    rg_age = age_ranged_20_40[age_ranged_20_40['Age'] == age]\n",
    "    age_ranged_array.append(rg_age['TotalKg'].mean())\n",
    "print(age_ranged_array)"
   ]
  },
  {
   "cell_type": "code",
   "execution_count": 5,
   "metadata": {},
   "outputs": [
    {
     "data": {
      "text/plain": [
       "Text(0.5, 1.0, 'Average Total Kg for Each Age from 20-40')"
      ]
     },
     "execution_count": 5,
     "metadata": {},
     "output_type": "execute_result"
    },
    {
     "data": {
      "image/png": "[encoded data removed]",
      "text/plain": [
       "<Figure size 432x288 with 1 Axes>"
      ]
     },
     "metadata": {
      "needs_background": "light"
     },
     "output_type": "display_data"
    }
   ],
   "source": [
    "import matplotlib.pyplot as plt\n",
    "\n",
    "plt.plot(range(20,40),age_ranged_array, color = \"darkgreen\")\n",
    "plt.xlabel('Age')\n",
    "plt.ylabel('Total Kg')\n",
    "plt.title(\"Average Total Kg for Each Age from 20-40\")"
   ]
  },
  {
   "cell_type": "markdown",
   "metadata": {},
   "source": [
    "#### &#9989;&nbsp; **Part 4 (15 points):** Use the figure you just created to answer the following question: At what age does the average powerlifter's performance (how high total weight lifted is) start to decrease? "
   ]
  },
  {
   "cell_type": "markdown",
   "metadata": {},
   "source": [
    "<font size=+3>&#9998;</font> *According to the created figure, the age at which the average powerlifter's performance starts to decrease at around age 35, with a drastic decrease in total kg with each suscessive year.*"
   ]
  },
  {
   "cell_type": "markdown",
   "metadata": {},
   "source": [
    "---\n",
    "\n",
    "### Congratulations, you're done!\n",
    "\n",
    "Submit this quiz by uploading it to the course Desire2Learn web page.  Go to the \"Quizzes\" section, find the submission folder link for Quiz #3, and upload it there."
   ]
  },
  {
   "cell_type": "markdown",
   "metadata": {},
   "source": [
    "&#169; Copyright 2021,  Michigan State University Board of Trustees"
   ]
  }
 ],
 "metadata": {
  "kernelspec": {
   "display_name": "Python 3 (ipykernel)",
   "language": "python",
   "name": "python3"
  },
  "language_info": {
   "codemirror_mode": {
    "name": "ipython",
    "version": 3
   },
   "file_extension": ".py",
   "mimetype": "text/x-python",
   "name": "python",
   "nbconvert_exporter": "python",
   "pygments_lexer": "ipython3",
   "version": "3.9.12"
  }
 },
 "nbformat": 4,
 "nbformat_minor": 4
}
