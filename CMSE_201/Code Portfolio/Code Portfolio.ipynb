{
 "cells": [
  {
   "cell_type": "markdown",
   "id": "9db6fad9",
   "metadata": {},
   "source": [
    "#### Importing Statements ####"
   ]
  },
  {
   "cell_type": "code",
   "execution_count": 2,
   "id": "c1017d23",
   "metadata": {},
   "outputs": [],
   "source": [
    "import numpy as np\n",
    "from scipy.integrate import solve_ivp\n",
    "import matplotlib.pyplot as plt\n",
    "from scipy.optimize import curve_fit\n",
    "%matplotlib inline\n",
    "import math\n",
    "import pandas as pd\n",
    "import seaborn as sns\n",
    "import random"
   ]
  },
  {
   "cell_type": "markdown",
   "id": "79535cfc",
   "metadata": {},
   "source": [
    "#### Variable Types"
   ]
  },
  {
   "cell_type": "code",
   "execution_count": null,
   "id": "7ab698d5",
   "metadata": {},
   "outputs": [],
   "source": [
    "a = 2 #integer\n",
    "b = 2.0 #floating point number\n",
    "type(a) #this will tell you if the variable is an integer or floating point"
   ]
  },
  {
   "cell_type": "markdown",
   "id": "934beca6",
   "metadata": {},
   "source": [
    "#### Variable Conversion"
   ]
  },
  {
   "cell_type": "code",
   "execution_count": null,
   "id": "131983bc",
   "metadata": {},
   "outputs": [],
   "source": [
    "a = 1 #integer\n",
    "b = 2.0 #floating-point\n",
    "c = \"bee\" #string\n",
    "\n",
    "str(a)\n",
    "\n",
    "d = str(a) #string version of a\n",
    "type(d) #shows that it is now a string\n",
    "\n",
    "c + d #addition of the two strings 'bee' and '1'\n",
    "\n",
    "#you cannot turn word strings into integers but you can turn number strings into int or float\n",
    "new_string = '512'\n",
    "int(new_string) #converting the number string into an integer\n",
    "\n",
    "newer_string = '123.456'\n",
    "float(newer_string) #number the number string into a floating number"
   ]
  },
  {
   "cell_type": "markdown",
   "id": "3e7fd2bb",
   "metadata": {},
   "source": [
    "#### Contatenation and Letter Calling"
   ]
  },
  {
   "cell_type": "code",
   "execution_count": null,
   "id": "4d35df9d",
   "metadata": {},
   "outputs": [],
   "source": [
    "d = \"monkey\"\n",
    "e = 'rhinoceros'\n",
    "print(d,e)\n",
    "\n",
    "f = d + e #concatenated two string variables\n",
    "print(f)\n",
    "\n",
    "3*d #printing monkey three times\n",
    "3*d + e #printing monkey three times then rhinoceros\n",
    "\n",
    "d[0] #gives the first character of the string monkey from 0-5\n",
    "first_character = d[0]\n",
    "print(first_character)\n",
    "\n",
    "print(d[0],d[2],d[4]) #this eliminates needing to define variables"
   ]
  },
  {
   "cell_type": "markdown",
   "id": "41932643",
   "metadata": {},
   "source": [
    "#### Lists"
   ]
  },
  {
   "cell_type": "code",
   "execution_count": null,
   "id": "bc785635",
   "metadata": {},
   "outputs": [],
   "source": [
    "mynewlist = [2, 4.0, 'six']\n",
    "print(mynewlist)\n",
    "\n",
    "mynewlist[0]\n",
    "type(mynewlist[0])\n",
    "\n",
    "#to change the data types in the list\n",
    "mynewlist[1] = 'five'\n",
    "print(mynewlist)\n",
    "\n",
    "#built-in method called append to add to the end of the list\n",
    "mynewlist.append(8.0)\n",
    "print(mynewlist)\n",
    "\n",
    "#to find out how many items there are in the list\n",
    "len(mynewlist)\n",
    "\n",
    "#list made of other lists\n",
    "a = [2,4,6]\n",
    "b = [1,3,5]\n",
    "c = [a,b]\n",
    "print(c)\n",
    "\n",
    "c[1] #what is the second item of the list\n",
    "c[1][2] #the second item in the first item\n",
    "c[1][2] = 'five' #changing the second item in the first item"
   ]
  },
  {
   "cell_type": "markdown",
   "id": "b746774c",
   "metadata": {},
   "source": [
    "#### For Loops"
   ]
  },
  {
   "cell_type": "code",
   "execution_count": null,
   "id": "42403b6f",
   "metadata": {},
   "outputs": [],
   "source": [
    "for i in range(10): #zero to one less than 10, 0-9\n",
    "    print(i)\n",
    "for i in range(-2,10,3): #going from -2 to 10 in steps of three\n",
    "    print(i)    \n",
    "    \n",
    "    \n",
    "count_up = 0\n",
    "for i in range (2,17,2):\n",
    "    count_up = count_up + i #or count_up += i or add i to countup\n",
    "    print (i, count_up)\n",
    "    \n",
    "    \n",
    "mylist = [1,6,2,19,-4,27,3]\n",
    "accumulate = 0\n",
    "for val in mylist: #looping by value\n",
    "    accumulate += val\n",
    "    print(val, accumulate)\n"
   ]
  },
  {
   "cell_type": "code",
   "execution_count": null,
   "id": "846dfc55",
   "metadata": {},
   "outputs": [],
   "source": [
    "some_numbers = [2, -5, 16, 17, -6, 23, 0]\n",
    "\n",
    "for i in range(len(some_numbers)): #for loop that loops by index\n",
    "    number = float(some_numbers[i]) #converting the int to a float\n",
    "    if number < 0:\n",
    "        print('Square root is not real.') #you cannot calculate the square root of a number less than 0\n",
    "    else:\n",
    "        print('Square root of',number,'is',number**(1/2)) #calculating the square roots of the valid inputs\n",
    "        \n",
    "for number in some_numbers: #for loop that loops by value\n",
    "    if number > 0:\n",
    "        print(number,'is positive.') #labeling the number as positive\n",
    "    elif number < 0:\n",
    "        print(number,'is negative.') #labeling the number as negative\n",
    "    else:\n",
    "        print('The number is zero.') #anything else is zero"
   ]
  },
  {
   "cell_type": "markdown",
   "id": "6aa0205e",
   "metadata": {},
   "source": [
    "#### While Loops"
   ]
  },
  {
   "cell_type": "code",
   "execution_count": null,
   "id": "ca122c7c",
   "metadata": {},
   "outputs": [],
   "source": [
    "blank = []\n",
    "i = 0\n",
    "while i < len(y)-1: # for calculating the percentage difference\n",
    "    p_dif = ((y[i+1]-y[i])/y[i])*100 #the formula\n",
    "    blank.append(p_dif) \n",
    "    i += 1 #shifting the index up by one\n",
    " \n",
    "\n",
    "while amount < goal: #how many years it takes to turn 100 into 1000 via interest\n",
    "    amount = amount * (1 + interest) \n",
    "    years += 1\n",
    "    \n",
    "    \n",
    "counter = 0\n",
    "while counter < 19:\n",
    "    counter += 1\n",
    "    if cans[counter] == cans[counter - 1]:\n",
    "        print(cats[counter], 'ate the same amount as', cats[counter -1])"
   ]
  },
  {
   "cell_type": "markdown",
   "id": "1d94fe1c",
   "metadata": {},
   "source": [
    "#### Boolean Logic"
   ]
  },
  {
   "cell_type": "code",
   "execution_count": null,
   "id": "b8cfe77f",
   "metadata": {},
   "outputs": [],
   "source": [
    "a = 17\n",
    "b = 23\n",
    "\n",
    "a == b #boolean logic is false\n",
    "a > b #boolean logic is false\n",
    "a < b #boolean logical is true"
   ]
  },
  {
   "cell_type": "markdown",
   "id": "ba9f8f06",
   "metadata": {},
   "source": [
    "#### If Statements"
   ]
  },
  {
   "cell_type": "code",
   "execution_count": null,
   "id": "4c8c133a",
   "metadata": {},
   "outputs": [],
   "source": [
    "a = 18\n",
    "b = 27\n",
    "if a == b:\n",
    "    print(\"a equals b\")\n",
    "elif a != b:\n",
    "    print(\"a does not equal b\")\n",
    "elif a < b:\n",
    "    print(\"a is less than b\")\n",
    "else:\n",
    "    print(\"a is greater than b\")\n",
    "    \n",
    "\n",
    "animals = ['dog', 'cat', 'mouse', 'velociraptor', 'snake', 'Dog', 'Cat']\n",
    "for animal in animals:\n",
    "    if animal == 'dog' or animal == 'Dog':\n",
    "        print('woof')\n",
    "    elif animal == 'cat' or animal == 'Cat':\n",
    "        print('meow')\n",
    "    elif animal == 'mouse':\n",
    "        print('i like cheese')\n",
    "    elif animal == 'velociraptor':\n",
    "        print('youre extinct')\n",
    "    else:\n",
    "        print('you dont belong in my house')"
   ]
  },
  {
   "cell_type": "markdown",
   "id": "2b6f30fd",
   "metadata": {},
   "source": [
    "#### Functions"
   ]
  },
  {
   "cell_type": "code",
   "execution_count": null,
   "id": "ac3b0d11",
   "metadata": {},
   "outputs": [],
   "source": [
    "def multiply_them(number1, number2, number3):\n",
    "    new_number1 = number1 * 2\n",
    "    new_number2 = number2 * 3\n",
    "    new_number3 = number3 * 4\n",
    "    return new_number1, new_number2, new_number3\n",
    "\n",
    "num1 = 3\n",
    "num2 = 5.0\n",
    "num3 = 7\n",
    "\n",
    "new_num1, new_num2, new_num3 = multiply_them(num1, num2, num3)\n",
    "\n",
    "print(new_num1, new_num2, new_num3)"
   ]
  },
  {
   "cell_type": "code",
   "execution_count": null,
   "id": "c18fb920",
   "metadata": {},
   "outputs": [],
   "source": [
    "def double_it(number):\n",
    "    new_number = 2.0 * number\n",
    "    return new_number\n",
    "\n",
    "num = 5.0\n",
    "new_num = double_it(num)\n",
    "print(new_num)"
   ]
  },
  {
   "cell_type": "code",
   "execution_count": null,
   "id": "ef592535",
   "metadata": {},
   "outputs": [],
   "source": [
    "def retirement_savings (add_amount, interest_rate, starting_age):\n",
    "    current_amount = 0\n",
    "    for i in range(65 - starting_age): \n",
    "        current_amount += current_amount * interest_rate + add_amount      \n",
    "    return current_amount\n",
    "\n",
    "for i in range(len(client_name)):\n",
    "    age = start_savings_age[i] #so the program knows what age it is in the list and we dont have to write the list name every time\n",
    "    interest_rate = 0 #initializing the interest rate\n",
    "    if age >= 18 and age <= 24:\n",
    "        interest_rate = 0.065\n",
    "    elif age >= 25 and age <= 31:\n",
    "        interest_rate = 0.085\n",
    "    elif age >= 32 and age <= 39:\n",
    "        interest_rate = 0.11\n",
    "    else:\n",
    "        interest_rate = 0.17\n",
    "    \n",
    "    final_retirement_savings.append(retirement_savings(savings_per_year[i], interest_rate,start_savings_age[i]))"
   ]
  },
  {
   "cell_type": "code",
   "execution_count": null,
   "id": "2ccab87a",
   "metadata": {},
   "outputs": [],
   "source": [
    "# code for the color function (2)\n",
    "def unique_squirrel_colors(colors):\n",
    "    unique_squirrel_colors = []\n",
    "    for i in colors:\n",
    "        if i not in(unique_squirrel_colors):\n",
    "            unique_squirrel_colors.append(i)\n",
    "    return unique_squirrel_colors\n",
    "    \n",
    "print(unique_squirrel_colors(squirrel_primary_fur_color))\n",
    "\n",
    "# code for the shift function (1)\n",
    "def squirrel_time(time):\n",
    "    if time == 'AM':\n",
    "        return True\n",
    "    else: \n",
    "        return False\n",
    "print(squirrel_time('AM'))\n",
    "print(squirrel_time('PM'))\n",
    "\n",
    "#code for the indifferent behavior(3)\n",
    "squirrel_approach = [\"False\",\"True\",\"False\",\"True\"]\n",
    "squirrel_indifferent = [\"True\",\"False\", \"True\", \"False\"]\n",
    "\n",
    "def antics (squirrel_indifferent, squirrel_approach):\n",
    "    results = []\n",
    "    for i in range(len(squirrel_indifferent)):\n",
    "        if squirrel_indifferent[i] == \"True\":\n",
    "            results.append(\"Not approaching\")\n",
    "        elif squirrel_approach[i] == \"True\":\n",
    "            results.append(\"Approaching\")\n",
    "        else:\n",
    "            results.append(\"Neither\")\n",
    "    return results\n",
    "antics(squirrel_indifferent, squirrel_approach)"
   ]
  },
  {
   "cell_type": "markdown",
   "id": "2cb1f60b",
   "metadata": {},
   "source": [
    "#### NumPy"
   ]
  },
  {
   "cell_type": "code",
   "execution_count": null,
   "id": "c3594b71",
   "metadata": {},
   "outputs": [],
   "source": [
    "import numpy as np #importing numpy and calling it np\n",
    "\n",
    "t_list = np.arange(1800,2100,1) # make an array of year values\n",
    "\n",
    "for i in range(100): #how to use np in a loop for sine\n",
    "    x = i*0.1\n",
    "    x_list.append(x)\n",
    "    y1.append(np.sin(x))\n",
    "    y2.append(np.sin(2*x))\n",
    "    y3.append(np.sin(3*x))\n",
    "    y4.append(np.sin(4*x))\n",
    "    y5.append(np.sin(5*x))\n",
    "    y6.append(np.sin(6*x))\n",
    "\n"
   ]
  },
  {
   "cell_type": "markdown",
   "id": "39d2084e",
   "metadata": {},
   "source": [
    "#### Math Module"
   ]
  },
  {
   "cell_type": "code",
   "execution_count": null,
   "id": "f9ba3214",
   "metadata": {},
   "outputs": [],
   "source": [
    "import math #importing the math module\n",
    "\n",
    "math.log10(200) #log base 10 of 200\n",
    "math.pi #pi\n",
    "math.degrees(math.pi/2.0) #rad to deg"
   ]
  },
  {
   "cell_type": "markdown",
   "id": "12d4150b",
   "metadata": {},
   "source": [
    "#### Plot Module"
   ]
  },
  {
   "cell_type": "code",
   "execution_count": null,
   "id": "1f5f72e9",
   "metadata": {},
   "outputs": [],
   "source": [
    "import matplotlib.pyplot as plt #we are calling it plt\n",
    "%matplotlib inline  #this allows us to display images in the notebook\n",
    "\n",
    "xvals = [0.5,1,2.5,3,3.1]\n",
    "yvals = [1,5,2,3,0]\n",
    "xvals2 = [1,2,3,4]\n",
    "yvals2 = [1,2,3,4]\n",
    "plt.plot(xvals,yvals,'r-', xvals2, yvals2, 'b--',linewidth=3) #x,y coordinates\n",
    "plt.axis([0,4,-1,6])\n",
    "plt.title('clever title')\n",
    "plt.xlabel('time')\n",
    "plt.ylabel('some values')\n",
    "plt.legend() #this is for the legend\n",
    "plt.savefig('my_first_figure.png') #or .pdf or .jpg"
   ]
  },
  {
   "cell_type": "code",
   "execution_count": null,
   "id": "901cde08",
   "metadata": {},
   "outputs": [],
   "source": [
    "#how to plot a subplot\n",
    "\n",
    "plt.figure(figsize=(14,16)) #making the figure size ideal for a 3x2 (row x column)\n",
    "\n",
    "plt.subplot(3,2,1)\n",
    "plt.plot(mhu_date, mhu_level, label = 'lake michigan huron')\n",
    "plt.title('water level over time')\n",
    "plt.xlabel('time (years)')\n",
    "plt.ylabel('water level')\n",
    "plt.grid()\n",
    "\n",
    "plt.subplot(3,2,2)\n",
    "plt.plot(date_erie, level_erie, label = 'lake erie')\n",
    "plt.title('water level over time')\n",
    "plt.xlabel('time (years)')\n",
    "plt.ylabel('water level')\n",
    "plt.grid()\n",
    "\n",
    "plt.subplot(3,2,3)\n",
    "plt.plot(date_ontario, level_ontario, label = 'lake ontario')\n",
    "plt.title('water level over time')\n",
    "plt.xlabel('time (years)')\n",
    "plt.ylabel('water level')\n",
    "plt.grid()\n",
    "\n",
    "plt.subplot(3,2,4)\n",
    "plt.plot(date_superior, level_superior, label = 'lake superior')\n",
    "plt.title('water level over time')\n",
    "plt.xlabel('time (years)')\n",
    "plt.ylabel('water level')\n",
    "plt.grid()\n",
    "\n",
    "plt.savefig('four lakes individually.png')"
   ]
  },
  {
   "cell_type": "code",
   "execution_count": null,
   "id": "7cdbe78e",
   "metadata": {},
   "outputs": [],
   "source": [
    "plt.scatter #scatter plot\n",
    "plt.hist(bins[:-1], bins, weights=counts) #histogram\n",
    "plt.plot(x,y) #line graph\n",
    "plt.boxplot(dataname, vert=False) #for a boxplot\n",
    "\n",
    "print(np.corrcoef(level_erie, mhu_level)) #to determine the correlation between the x and y values\n",
    "\n",
    "#for vertical lines to appear in the graph as labeling devices:\n",
    "plt.axvline(x = np.median(random_distribution), linewidth=2, color='r',label = \"median\")\n",
    "plt.axvline(x = np.mean(random_distribution), linewidth=2, color='orange',label = \"mean\")"
   ]
  },
  {
   "cell_type": "markdown",
   "id": "bfb77234",
   "metadata": {},
   "source": [
    "#### Pandas"
   ]
  },
  {
   "cell_type": "code",
   "execution_count": null,
   "id": "fc08227a",
   "metadata": {},
   "outputs": [],
   "source": [
    "%matplotlib inline\n",
    "import pandas as pd\n",
    "\n",
    "#filename.head() gives the top few rows\n",
    "#filename.tail() gives the last few rows\n",
    "#filename.describe() shows the statistical information\n",
    "\n",
    "gdp = pd.read_csv(\"GPD_monkeys.csv\", skiprows=4, delimiter=',')\n",
    "gdp = gdp.dropna(axis=\"columns\", how=\"all\") # drop empty columns, like the last column in gdp\n",
    "gdp = gdp.dropna() # drop rows with NaNs, like Aruba and Angola\n",
    "\n",
    "#to transpose a data file\n",
    "y = gdp.transpose() \n",
    "\n",
    "#for encoded files\n",
    "us_pop_by_state_2012_2013 = pd.read_csv(\"us_pop_by_state_2012_2013_encoding_utf-16be.csv\", encoding = 'utf_16_be', delimiter=',', thousands=',')\n",
    "us_pop_by_state_2012_2013.describe() \n",
    "\n",
    "#masking\n",
    "mask = flint_data[\"PbBottle1_ppb\"] > 15\n",
    "vals_masked = flint_data[\"PbBottle1_ppb\"][mask]\n",
    "print(len(vals_masked)) #to find the amount of smaples that exceeded the limit\n",
    "print(len(flint_data)) #to find the total amount of samples"
   ]
  },
  {
   "cell_type": "code",
   "execution_count": 1,
   "id": "f4ce4dbe",
   "metadata": {},
   "outputs": [
    {
     "data": {
      "text/html": [
       "<img src=\"panda.jpg\" width=\"550\" height=\"500\"/>"
      ],
      "text/plain": [
       "<IPython.core.display.Image object>"
      ]
     },
     "execution_count": 1,
     "metadata": {},
     "output_type": "execute_result"
    }
   ],
   "source": [
    "from IPython.display import Image\n",
    "Image(url=\"panda.jpg\", width=550, height=500)"
   ]
  },
  {
   "cell_type": "markdown",
   "id": "9012177f",
   "metadata": {},
   "source": [
    "#### Dictionaries"
   ]
  },
  {
   "cell_type": "code",
   "execution_count": null,
   "id": "d061b1f3",
   "metadata": {},
   "outputs": [],
   "source": [
    "dictionary = {\"neutron star\": \"the collapsed core of a massive supergiant star\", \n",
    "            \"ether\": \"a theoretical yet disproven universal medium\", \n",
    "            \"Newtonian\": \"formulated according to the principles of classical physics\",\n",
    "            \"Astrobiology\": \"the study of life in the universe\",\n",
    "            \"Mach\": \"a unit of measurement for the speed of a moving object in relation to the speed of sound\",\n",
    "            \"cold\": ['chilly', 'frigid', 'freezing', 'cool', 'glacial'], \n",
    "            \"tired\": ['exhausted', 'weary', 'drained', 'fatigued', 'drowsy'], \n",
    "           \"proctor\": ['supervise', 'delegate', 'monitor', 'minister', 'invigilate'], \n",
    "            \"grief\": ['sorrow', 'anguish', 'pain', 'distress', 'heartbreak'], \n",
    "            \"sad\": ['unhappy', 'depressed', 'sorrowful', 'miserable', 'melancholy']}"
   ]
  },
  {
   "cell_type": "code",
   "execution_count": null,
   "id": "3938582a",
   "metadata": {},
   "outputs": [],
   "source": [
    "# put your answer here\n",
    "print('The ether is', dictionary['ether'],'that was originially believed to carry EM waves.')\n",
    "print('The student is sad. They are far from home and have a lot of work, therefore they are', dictionary['sad'][1], '.')"
   ]
  },
  {
   "cell_type": "markdown",
   "id": "87cfad7f",
   "metadata": {},
   "source": [
    "#### SciPy"
   ]
  },
  {
   "cell_type": "code",
   "execution_count": null,
   "id": "514b1aa0",
   "metadata": {},
   "outputs": [],
   "source": [
    "# import curve_fit function\n",
    "from scipy.optimize import curve_fit\n",
    "import numpy as np\n",
    "import matplotlib.pyplot as plt\n",
    "%matplotlib inline\n",
    "\n",
    "#generating the sine plot\n",
    "x_sin = np.linspace(0,4*np.pi,60)\n",
    "y_sin = 1.5 * np.sin(1.2 * x_sin) + np.random.normal(.25,.25,60)\n",
    "plt.scatter(x_sin, y_sin, label = \"data\")\n",
    "plt.legend()\n",
    "plt.xlabel('x')\n",
    "plt.ylabel('y')\n",
    "plt.show()\n",
    "\n",
    "#turning a sine curve fit into a function\n",
    "def my_sin_function(x, A, B, C):\n",
    "    return A * np.sin(B * x + C)\n",
    "\n",
    "# Use curve_fit by passing in the sin function, x data, and y data\n",
    "best_fit_parameters, just_ignore_this = curve_fit(my_sin_function, x_sin, y_sin)\n",
    "\n",
    "# Unpack the parameter results into separate variables so that we can feed them to our sine function\n",
    "a_fit = best_fit_parameters[0]  # get fitted A value\n",
    "b_fit = best_fit_parameters[1]  # get fitted B value\n",
    "c_fit = best_fit_parameters[2]  # get fitted C value\n",
    "\n",
    "# use my_sin_function with new parameters to get fitted y values\n",
    "y_sin_fit = my_sin_function(x_sin, a_fit, b_fit, c_fit)\n",
    "\n",
    "# plot our actual data\n",
    "plt.scatter(x_sin, y_sin, label = \"data\")\n",
    "# plot our fitted curve\n",
    "plt.plot(x_sin, y_sin_fit, color = \"orange\", label = \"fit\")\n",
    "plt.legend()\n",
    "plt.xlabel('x')\n",
    "plt.ylabel('y')\n",
    "plt.show()"
   ]
  },
  {
   "cell_type": "code",
   "execution_count": 3,
   "id": "637806cf",
   "metadata": {},
   "outputs": [
    {
     "data": {
      "image/png": "[encoded data removed]",
      "text/plain": [
       "<Figure size 640x480 with 1 Axes>"
      ]
     },
     "metadata": {},
     "output_type": "display_data"
    },
    {
     "ename": "IndexError",
     "evalue": "tuple index out of range",
     "output_type": "error",
     "traceback": [
      "\u001b[1;31m---------------------------------------------------------------------------\u001b[0m",
      "\u001b[1;31mIndexError\u001b[0m                                Traceback (most recent call last)",
      "\u001b[1;32m~\\AppData\\Local\\Temp\\ipykernel_22532\\961848846.py\u001b[0m in \u001b[0;36m<module>\u001b[1;34m\u001b[0m\n\u001b[0;32m     21\u001b[0m \u001b[0mG_fit\u001b[0m \u001b[1;33m=\u001b[0m \u001b[0mbest_fit_parameters\u001b[0m\u001b[1;33m[\u001b[0m\u001b[1;36m0\u001b[0m\u001b[1;33m]\u001b[0m  \u001b[1;31m# get fitted A value\u001b[0m\u001b[1;33m\u001b[0m\u001b[1;33m\u001b[0m\u001b[0m\n\u001b[0;32m     22\u001b[0m \u001b[0md_fit\u001b[0m \u001b[1;33m=\u001b[0m \u001b[0mbest_fit_parameters\u001b[0m\u001b[1;33m[\u001b[0m\u001b[1;36m1\u001b[0m\u001b[1;33m]\u001b[0m  \u001b[1;31m# get fitted B value\u001b[0m\u001b[1;33m\u001b[0m\u001b[1;33m\u001b[0m\u001b[0m\n\u001b[1;32m---> 23\u001b[1;33m \u001b[0mL_fit\u001b[0m \u001b[1;33m=\u001b[0m \u001b[0mbest_fit_parameters\u001b[0m\u001b[1;33m[\u001b[0m\u001b[1;36m2\u001b[0m\u001b[1;33m]\u001b[0m  \u001b[1;31m# get fitted C value\u001b[0m\u001b[1;33m\u001b[0m\u001b[1;33m\u001b[0m\u001b[0m\n\u001b[0m\u001b[0;32m     24\u001b[0m \u001b[1;33m\u001b[0m\u001b[0m\n\u001b[0;32m     25\u001b[0m \u001b[1;31m# use my_sin_function with new parameters to get fitted y values\u001b[0m\u001b[1;33m\u001b[0m\u001b[1;33m\u001b[0m\u001b[0m\n",
      "\u001b[1;31mIndexError\u001b[0m: tuple index out of range"
     ]
    }
   ],
   "source": [
    "x = np.array([0.0,0.45,0.9,1.34,1.79,2.24,2.69,3.14,3.59,4.03,4.48,4.93,5.38,5.83,6.28,6.72,7.17,7.62,8.07,8.52,8.97,9.41,9.86,10.31,10.76,11.21,11.66,12.1,12.55,13.0])\n",
    "y = np.array([0.74,0.92,1.16,1.65,2.23,2.56,2.92,2.9,2.97,2.98,2.54,2.48,2.31,2.3,2.34,2.39,2.94,3.36,3.61,4.1,4.33,4.61,4.78,4.62,4.29,4.17,4.22,3.9,3.98,4.29])\n",
    "\n",
    "#Make a plot of x vs. y here\n",
    "x_cos = x\n",
    "y_cos = y\n",
    "plt.scatter(x_cos, y_cos, label = \"data\")\n",
    "plt.legend()\n",
    "plt.xlabel('x')\n",
    "plt.ylabel('y')\n",
    "plt.show()\n",
    "\n",
    "#turning a cosine curve fit into a function\n",
    "def my_cos_function(x, G, d, L):\n",
    "    return G * np.cos(x) + d*x + L\n",
    "\n",
    "# Use curve_fit by passing in the cos function, x data, and y data\n",
    "best_fit_parameters = curve_fit(my_cos_function, x_cos, y_cos)\n",
    "\n",
    "# Unpack the parameter results into separate variables so that we can feed them to our sine function\n",
    "G_fit = best_fit_parameters[0]  # get fitted A value\n",
    "d_fit = best_fit_parameters[1]  # get fitted B value\n",
    "L_fit = best_fit_parameters[2]  # get fitted C value\n",
    "\n",
    "# use my_sin_function with new parameters to get fitted y values\n",
    "y_cos_fit = my_cos_function(x_cos, G_fit, d_fit, L_fit)\n",
    "\n",
    "# plot our actual data\n",
    "plt.scatter(x_cos, y_cos, label = \"data\")\n",
    "# plot our fitted curve\n",
    "plt.plot(x_cos, y_cos_fit, color = \"orange\", label = \"fit\")\n",
    "plt.legend()\n",
    "plt.xlabel('x')\n",
    "plt.ylabel('y')\n",
    "plt.show()"
   ]
  },
  {
   "cell_type": "markdown",
   "id": "3573c3f3",
   "metadata": {},
   "source": [
    "#### SciPy curve_fit"
   ]
  },
  {
   "cell_type": "code",
   "execution_count": null,
   "id": "f231dc19",
   "metadata": {},
   "outputs": [],
   "source": [
    "parameters_for_my_func, ignore_me = curve_fit(my_func, x_vals, y_vals, p0=[arg1, arg2,...])\n",
    "\n",
    "parameters_for_my_func = array containing all the parameteres\n",
    "my_func = name of function\n",
    "x_vals = array of x values\n",
    "y_vals = array of y values\n",
    "p0 = initial parameters, positional argument, must be in the same order of the function"
   ]
  },
  {
   "cell_type": "code",
   "execution_count": 1,
   "id": "9ae65817",
   "metadata": {},
   "outputs": [
    {
     "name": "stdout",
     "output_type": "stream",
     "text": [
      "[1.64659542 1.17088966 0.0770739 ]\n"
     ]
    },
    {
     "data": {
      "image/png": "[encoded data removed]",
      "text/plain": [
       "<Figure size 432x288 with 1 Axes>"
      ]
     },
     "metadata": {
      "needs_background": "light"
     },
     "output_type": "display_data"
    }
   ],
   "source": [
    "import numpy as np\n",
    "import matplotlib.pyplot as plt\n",
    "%matplotlib inline\n",
    "\n",
    "x = np.array([0.00, 0.71, 1.43, 2.14, 2.86, 3.57, 4.28, 5.00, 5.71, 6.43, 7.14, 7.85])\n",
    "y = np.array([0.34, 1.42, 1.92, 1.23, -0.08, -1.19, -0.82, -0.14, 0.90, 1.77, 1.78, 0.30])\n",
    "\n",
    "plt.plot(x,y)\n",
    "\n",
    "def sin_function(x, A, B, C):\n",
    "    return A * np.sin(B * x + C)\n",
    "\n",
    "from scipy.optimize import curve_fit\n",
    "\n",
    "best_fit_parameters, just_ignore_this = curve_fit(sin_function, x, y)\n",
    "print(best_fit_parameters)\n",
    "\n",
    "A_expected = best_fit_parameters[0]  \n",
    "B_expected = best_fit_parameters[1]\n",
    "C_expected = best_fit_parameters[2]\n",
    "\n",
    "y_expected = sin_function(x, A_expected, B_expected, C_expected)\n",
    "\n",
    "plt.scatter(x, y, label = \"data\")\n",
    "plt.plot(x, y_expected, color = \"orange\", label = \"fit\")\n",
    "plt.legend()"
   ]
  },
  {
   "cell_type": "code",
   "execution_count": 2,
   "id": "72676ca1",
   "metadata": {},
   "outputs": [
    {
     "name": "stdout",
     "output_type": "stream",
     "text": [
      "[2.23714286 0.09047619]\n"
     ]
    },
    {
     "data": {
      "text/plain": [
       "<matplotlib.legend.Legend at 0x1d312a13fa0>"
      ]
     },
     "execution_count": 2,
     "metadata": {},
     "output_type": "execute_result"
    },
    {
     "data": {
      "image/png": "[encoded data removed]",
      "text/plain": [
       "<Figure size 432x288 with 1 Axes>"
      ]
     },
     "metadata": {
      "needs_background": "light"
     },
     "output_type": "display_data"
    }
   ],
   "source": [
    "x = np.array([0,1,2,3,4,5])\n",
    "y = np.array([0.5,2.6,3.2,7.7,8.2,11.9])\n",
    "\n",
    "plt.plot(x,y)\n",
    "\n",
    "def line_function(x, A, B):\n",
    "    return A * x + B\n",
    "\n",
    "from scipy.optimize import curve_fit\n",
    "\n",
    "best_fit_parameters, just_ignore_this = curve_fit(line_function, x, y)\n",
    "print(best_fit_parameters)\n",
    "\n",
    "A_expected = best_fit_parameters[0]  \n",
    "B_expected = best_fit_parameters[1]\n",
    "\n",
    "y_expected = line_function(x, A_expected, B_expected)\n",
    "\n",
    "plt.scatter(x, y, label = \"data\")\n",
    "plt.plot(x, y_expected, color = \"orange\", label = \"fit\")\n",
    "plt.legend()"
   ]
  },
  {
   "cell_type": "markdown",
   "id": "52005ea6",
   "metadata": {},
   "source": [
    "#### Seaborn ####"
   ]
  },
  {
   "cell_type": "code",
   "execution_count": 1,
   "id": "54962cf8",
   "metadata": {},
   "outputs": [
    {
     "data": {
      "text/plain": [
       "<seaborn.axisgrid.FacetGrid at 0x26322dc3160>"
      ]
     },
     "execution_count": 1,
     "metadata": {},
     "output_type": "execute_result"
    },
    {
     "data": {
      "image/png": "[encoded data removed]",
      "text/plain": [
       "<Figure size 702.75x600 with 1 Axes>"
      ]
     },
     "metadata": {},
     "output_type": "display_data"
    }
   ],
   "source": [
    "import seaborn as sns # import Seaborn\n",
    "\n",
    "sns.set_theme(style=\"white\") # sets the visual theme for Seaborn\n",
    "\n",
    "mpg = sns.load_dataset(\"mpg\") # loads the 'mpg' default dataset\n",
    "\n",
    "# Plots some of the data using Seaborn's relplot function!\n",
    "\n",
    "sns.relplot(x=\"horsepower\", y=\"mpg\", hue=\"origin\", size=\"weight\",\n",
    "            sizes=(40, 400), alpha=.5, palette=\"muted\",\n",
    "            height=6, data=mpg)"
   ]
  },
  {
   "cell_type": "markdown",
   "id": "d28702e4",
   "metadata": {},
   "source": [
    "#### ODEs #### \n"
   ]
  },
  {
   "cell_type": "code",
   "execution_count": null,
   "id": "e9ede64a",
   "metadata": {},
   "outputs": [],
   "source": [
    "def derivs(time,curr_vals):\n",
    "    \n",
    "    # Declare parameters\n",
    "    g = -9.81 # m/s^2\n",
    "    \n",
    "    # Unpack the current values of the variables we wish to \"update\" from the curr_vals list\n",
    "    h, v = curr_vals\n",
    "    \n",
    "    # Right-hand side of odes, which are used to computer the derivative\n",
    "    dhdt = v\n",
    "    dvdt = g\n",
    "    \n",
    "    return dhdt, dvdt"
   ]
  },
  {
   "cell_type": "markdown",
   "id": "0bf2ec97",
   "metadata": {},
   "source": [
    "#### Compartmental Modeling /  Solve IVP ####"
   ]
  },
  {
   "cell_type": "code",
   "execution_count": null,
   "id": "2bc32aa6",
   "metadata": {},
   "outputs": [],
   "source": [
    "# shark, lotka-volterra model\n",
    "\n",
    "def LV(time, current_state, alpha, beta, delta, gamma):\n",
    "    \n",
    "    prey = current_state[0]\n",
    "    predators = current_state[1]\n",
    "    \n",
    "    dprey_dt = alpha*prey - beta*prey*predators\n",
    "    dpredators_dt = delta*prey*predators - gamma*predators\n",
    "    \n",
    "    return [dprey_dt, dpredators_dt]\n",
    "\n",
    "alpha = 1\n",
    "beta = 4/3\n",
    "delta = 1\n",
    "gamma = 1\n",
    "initial_conditions = [1,.1]\n",
    "time = np.linspace(0,20,1000)\n",
    "\n",
    "result = solve_ivp(LV, (0,20),initial_conditions, t_eval = time, args=(alpha, beta, delta, gamma))\n",
    "\n",
    "prey = result.y[0,:]\n",
    "predators = result.y[1,:]\n",
    "\n",
    "plt.plot(time, prey, label='prey')\n",
    "plt.plot(time, predators, label='predators')\n",
    "plt.grid()\n",
    "plt.legend()\n",
    "plt.xlabel('time')\n",
    "plt.ylabel('population (thousands)')\n",
    "plt.title('Solution of the Lotka-Volterra Predator-Prey Equations')"
   ]
  },
  {
   "cell_type": "code",
   "execution_count": null,
   "id": "652c68e1",
   "metadata": {},
   "outputs": [],
   "source": [
    "# infections, SIR model\n",
    "\n",
    "def SIR(time, current_state, beta, gamma, delta, alpha):\n",
    "    \n",
    "    susceptible = current_state[0]\n",
    "    infectious = current_state[1]\n",
    "    recovered = current_state[2]\n",
    "    asymptomatic = current_state[3]\n",
    "    drug_before_symptoms = current_state[4]\n",
    "    drug_during_symptoms = current_state[5]\n",
    "    \n",
    "    dsusceptible_dt = -beta*susceptible*infectious\n",
    "    dinfectious_dt = beta*susceptible*infectious - gamma*infectious\n",
    "    drecovered_dt = gamma*infectious\n",
    "    dasymptomatic_dt = beta*susceptible*asymptomatic - gamma*asymptomatic\n",
    "    drug_before_dt = beta*susceptible*drug_before_symptoms - gamma*drug_before_symptoms\n",
    "    drug_during_sympoms_dt = beta*susceptible*drug_during_symptoms - gamma*drug_during_symptoms\n",
    "    \n",
    "    return [dsusceptible_dt, dinfectious_dt, drecovered_dt,dasymptomatic_dt, drug_before_dt, drug_during_sympoms_dt]\n",
    "\n",
    "\n",
    "beta = 0.002\n",
    "gamma = 1\n",
    "\n",
    "initial_conditions = [1000,1,0,3,2,4]\n",
    "time = np.linspace(0,20,1000)\n",
    "\n",
    "result = solve_ivp(SIR, (0,20), initial_conditions, t_eval = time, args=(beta, gamma))\n",
    "\n",
    "susceptible = result.y[0,:]\n",
    "infectious = result.y[1,:]\n",
    "recovered = result.y[2,:]\n",
    "asymptomatic = result.y[3,:]\n",
    "drug_before_symptoms = result.y[4,:]\n",
    "drug_during_symptoms = result.y[5,:]\n",
    "\n",
    "plt.plot(time, susceptible, label='susceptible')\n",
    "plt.plot(time, infectious, label='infectious')\n",
    "plt.plot(time, recovered, label='recovered')\n",
    "plt.plot(time, asymptomatic, label='asymptomatic')\n",
    "plt.plot(time, drug_before_symptoms, label='drugs before symptoms')\n",
    "plt.plot(time, drug_during_symptoms, label='drugs during symptoms')\n",
    "plt.grid()\n",
    "plt.legend()\n",
    "plt.xlabel('time')\n",
    "plt.ylabel('population (thousands)')\n",
    "plt.title('Solution of the SIR Model')"
   ]
  },
  {
   "cell_type": "code",
   "execution_count": null,
   "id": "594171f9",
   "metadata": {},
   "outputs": [],
   "source": [
    "plt.figure(figsize=(18,5))\n",
    "gamma = 0.1\n",
    "result = solve_ivp(SIR, (0,20), initial_conditions, t_eval = time, args=(beta, gamma))\n",
    "susceptible = result.y[0,:]\n",
    "infectious = result.y[1,:]\n",
    "recovered = result.y[2,:]\n",
    "plt.subplot(1,3,1)\n",
    "plt.plot(time, susceptible, label='susceptible', color= 'limegreen')\n",
    "plt.plot(time, infectious, label='infectious', color = 'firebrick')\n",
    "plt.plot(time, recovered, label='recovered', color = 'darkorchid')\n",
    "plt.grid()\n",
    "plt.legend()\n",
    "plt.xlabel('time (days)')\n",
    "plt.ylabel('population (thousands)')\n",
    "plt.title('Solution of the SIR Model when Gamma = 0.1')\n",
    "\n",
    "\n",
    "gamma = 0.5\n",
    "result = solve_ivp(SIR, (0,20), initial_conditions, t_eval = time, args=(beta, gamma))\n",
    "susceptible = result.y[0,:]\n",
    "infectious = result.y[1,:]\n",
    "recovered = result.y[2,:]\n",
    "plt.subplot(1,3,2)\n",
    "plt.plot(time, susceptible, label='susceptible', color = 'limegreen')\n",
    "plt.plot(time, infectious, label='infectious', color = 'firebrick')\n",
    "plt.plot(time, recovered, label='recovered', color = 'darkorchid')\n",
    "plt.grid()\n",
    "plt.legend()\n",
    "plt.xlabel('time (days)')\n",
    "plt.ylabel('population (thousands)')\n",
    "plt.title('Solution of the SIR Model when Gamma = 0.5')\n",
    "\n",
    "gamma = 1\n",
    "result = solve_ivp(SIR, (0,20), initial_conditions, t_eval = time, args=(beta, gamma))\n",
    "susceptible = result.y[0,:]\n",
    "infectious = result.y[1,:]\n",
    "recovered = result.y[2,:]\n",
    "plt.subplot(1,3,3)\n",
    "plt.plot(time, susceptible, label='susceptible', color = 'limegreen')\n",
    "plt.plot(time, infectious, label='infectious', color = 'firebrick')\n",
    "plt.plot(time, recovered, label='recovered', color = 'darkorchid')\n",
    "plt.grid()\n",
    "plt.legend()\n",
    "plt.xlabel('time (days)')\n",
    "plt.ylabel('population (thousands)')\n",
    "plt.title('Solution of the SIR Model when Gamma = 1')"
   ]
  },
  {
   "cell_type": "markdown",
   "id": "7dca15ea",
   "metadata": {},
   "source": [
    "#### 2D NumPy Arrays ####"
   ]
  },
  {
   "cell_type": "code",
   "execution_count": 3,
   "id": "62d50b34",
   "metadata": {},
   "outputs": [],
   "source": [
    "cherry = np.array([1200, 1500, 1700, 3200, 5000])\n",
    "maple = np.array([2500, 4300, 1200, 2100, 900])\n",
    "oak = np.array([2750, 1230, 1600, 2900, 1100])\n",
    "walnut = np.array([1100, 1200, 5000, 2300, 2200])\n",
    "\n",
    "neighborhood = np.array([cherry, maple, oak, walnut])\n",
    "\n",
    "#indexing\n",
    "neighborhood[0][0] #first house on the first street\n",
    "neightborhood[0,0] #first house on the first street\n",
    "\n",
    "for i in range(len(neighboorhood)):\n",
    "    print(\"street\", i)\n",
    "    print(\"contents of the street\", neighborhood[i])\n",
    "    \n",
    "    for j in range(len(neighborhood[i])):\n",
    "        print(\"lot\", j)\n",
    "        print(\"lot value:\", neighborhood[i,j], \"index: [\", i , \",\", j, \"]\")\n",
    "\n",
    "neighborhood[:, 0:2] #first two columns of the each of the rows\n",
    "neighborhood.shape #tells us the dimensions of the array\n",
    "\n",
    "neighborhood*1000 #multiplies all the values of the array by 1000"
   ]
  },
  {
   "cell_type": "markdown",
   "id": "f29f8a71",
   "metadata": {},
   "source": [
    "#### Masking NumPy Arrays ####"
   ]
  },
  {
   "cell_type": "code",
   "execution_count": 4,
   "id": "c198ac57",
   "metadata": {},
   "outputs": [
    {
     "name": "stdout",
     "output_type": "stream",
     "text": [
      "this person is elligible 0\n",
      "this person is elligible 1\n",
      "this person is elligible 3\n",
      "this person is elligible 5\n"
     ]
    }
   ],
   "source": [
    "people = np.array([[62, 22],\n",
    "                  [58, 31],\n",
    "                  [65, 17],\n",
    "                  [54, 28],\n",
    "                  [57, 19],\n",
    "                  [61, 33]])\n",
    "ages = people[:, 1]\n",
    "for i in range(len(ages)):\n",
    "    if ages[i] > 20: \n",
    "        print('this person is elligible', i)\n",
    "\n",
    "people[:, 1] > 20\n",
    "people[people[:, 1]> 20]"
   ]
  },
  {
   "cell_type": "markdown",
   "id": "89a3b1d4",
   "metadata": {},
   "source": [
    "#### Plot Grid ####"
   ]
  },
  {
   "cell_type": "code",
   "execution_count": null,
   "id": "c4ad2551",
   "metadata": {},
   "outputs": [],
   "source": [
    "def plotgrid(myarray):\n",
    "    \n",
    "    # \n",
    "    x_range = np.linspace(0, myarray.shape[1]-1, myarray.shape[1]) \n",
    "    y_range = np.linspace(0, myarray.shape[0]-1, myarray.shape[0]) # repeat for the y/vertical axis\n",
    "    \n",
    "    # \n",
    "    x_indices, y_indices = np.meshgrid(x_range, y_range)\n",
    "    \n",
    "    # \n",
    "    tree_x = x_indices[myarray == 1]; #we are masking ho\n",
    "    tree_y = y_indices[myarray == 1]; \n",
    "    fire_x = x_indices[myarray == 2];   \n",
    "    fire_y = y_indices[myarray == 2]; \n",
    "    \n",
    "    # \n",
    "    plt.plot(tree_x, myarray.shape[0] - tree_y - 1, 'g^', markersize=10)   \n",
    "    plt.plot(fire_x,  myarray.shape[0] - fire_y - 1, 'r*',markersize=10)  # repeat for indices with fire \n",
    "    \n",
    "    # \n",
    "    plt.xlim([-1,myarray.shape[1]])\n",
    "    plt.ylim([-1,myarray.shape[0]]) \n",
    "\n",
    "    # \n",
    "    plt.tick_params(axis='both', which='both',\n",
    "                    bottom=False, top=False, left=False, right=False,\n",
    "                    labelbottom=False, labelleft=False)"
   ]
  }
 ],
 "metadata": {
  "kernelspec": {
   "display_name": "Python 3 (ipykernel)",
   "language": "python",
   "name": "python3"
  },
  "language_info": {
   "codemirror_mode": {
    "name": "ipython",
    "version": 3
   },
   "file_extension": ".py",
   "mimetype": "text/x-python",
   "name": "python",
   "nbconvert_exporter": "python",
   "pygments_lexer": "ipython3",
   "version": "3.9.13"
  }
 },
 "nbformat": 4,
 "nbformat_minor": 5
}
