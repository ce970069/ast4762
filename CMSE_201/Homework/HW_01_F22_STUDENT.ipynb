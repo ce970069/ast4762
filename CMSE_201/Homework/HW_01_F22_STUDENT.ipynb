{
 "cells": [
  {
   "cell_type": "markdown",
   "id": "45bb8053-48ae-4a43-9420-7531a2088f70",
   "metadata": {},
   "source": [
    "# Homework 1: Introduction to Variables, Lists, and Loops"
   ]
  },
  {
   "cell_type": "markdown",
   "id": "369b25c4-5270-44f7-b4aa-5de43f181457",
   "metadata": {},
   "source": [
    "### <p style=\"text-align: right;\"> &#9989; **Put your name here** </p>"
   ]
  },
  {
   "cell_type": "markdown",
   "id": "9db8f7d4-bb38-4e4d-81eb-b3f4a29e4390",
   "metadata": {},
   "source": [
    "# __CMSE  201 &ndash; Fall 2022__\n",
    "\n",
    "<img src=\"https://cmse.msu.edu/sites/_cmse/assets/Image/image002.jpg\"\n",
    "     alt=\"CMSE Logo\"\n",
    "     align=\"right\" \n",
    "     height=\"100\" \n",
    "     width=\"100\" />\n",
    "\n",
    "\n",
    "## Learning Goals\n",
    "\n",
    "### Content Goals\n",
    "- **Utilize loops to store, access, and manipulate data in a multiple lists**\n",
    "- **Write code to execute simple mathematical operations**\n",
    "- **Utilize variables and lists to store data**\n",
    "\n",
    "\n",
    "### Practice Goals\n",
    "- **Evaluate different ways to solve problems using code**\n",
    "- **Diagnose and debug code provided to you**\n",
    "\n",
    "\n",
    "___"
   ]
  },
  {
   "cell_type": "markdown",
   "id": "e2d25c6b-8ba7-4899-b2aa-e1c9db4ade5c",
   "metadata": {},
   "source": [
    "## Assignment instructions\n",
    "\n",
    "Work through the following assignment, making sure to follow all the directions and answer all the questions.\n",
    "\n",
    "**This assignment is due at 11:59 pm on Friday, September 16.** It should be uploaded into the \"Homework Assignments\" submission folder for Homework #1.  Submission instructions can be found at the end of the notebook."
   ]
  },
  {
   "cell_type": "markdown",
   "id": "3c95e3e0-bf6e-4735-aa5c-ffdf3b4b69a4",
   "metadata": {},
   "source": [
    "# Version check\n",
    "\n",
    "Before you begin, make sure your Jupyter kernel is Python3. There are significant differences between Python2 and Python3, and we will use Python3 in this course. The kernel type at the upper-right corner should say \"Python3\", and the following code should show a version 3.x.y.\n",
    "\n",
    "If your kernel is Python2, try selecting Python3 from the Kernel menu above under the submenu \"Change kernel\". If that does not work, consult the Slack help channel for assistance."
   ]
  },
  {
   "cell_type": "code",
   "execution_count": 1,
   "id": "df6fc368-2a6f-4a95-83c1-89279fbc61b3",
   "metadata": {},
   "outputs": [
    {
     "name": "stdout",
     "output_type": "stream",
     "text": [
      "3.9.12 (main, Apr  5 2022, 01:53:17) \n",
      "[Clang 12.0.0 ]\n"
     ]
    }
   ],
   "source": [
    "import sys\n",
    "print(sys.version)"
   ]
  },
  {
   "cell_type": "markdown",
   "id": "7ceb3943-d50b-4f97-b15b-cd6a26e49a9c",
   "metadata": {},
   "source": [
    "---\n",
    "## Grading\n",
    "\n",
    "Academic integrity statement (2 Points)\n",
    "\n",
    "0. Going to Office Hours (8 Points) \n",
    "1. Looping by Index (10 Points)\n",
    "2. Looping by Value (10 Points)\n",
    "3. While loops (10 Points)\n",
    "4. Debugging with Lists and Loops (10 Points)\n",
    "\n",
    "Total points possible: **50**\n",
    "\n",
    "---"
   ]
  },
  {
   "cell_type": "markdown",
   "id": "07697278-efc1-44f9-b281-b7b4aece9bff",
   "metadata": {},
   "source": [
    "## Academic integrity statement (2 Points)\n",
    "\n",
    "In the markdown cell below, paste your personal academic integrity statement. By including this statement, you are confirming that you are submitting this as your own work and not that of someone else.\n"
   ]
  },
  {
   "cell_type": "markdown",
   "id": "add02426-de57-4036-8da8-2add665532c4",
   "metadata": {},
   "source": [
    "<font size=6 color=\"#009600\">&#9998;</font> *Put your personal academic integrity statement here.*"
   ]
  },
  {
   "cell_type": "markdown",
   "id": "295e310b-e5f2-4c21-9e3b-afe0ec9813f9",
   "metadata": {},
   "source": [
    "## 0. Going to Office Hours (8 Points)\n",
    "\n",
    "### Why are we doing this?\n",
    "We want to make sure that everyone knows how to access the resources\n",
    "available to you. One of the best resources you have at your disposal is office hours.\n",
    "\n",
    "11-12 Wed, 10-11 Fri -- Dr. Frisbie's Hour\n",
    "\n",
    "### What will you do?\n",
    "(At minimum) Go to one office hour session ​(it doesn’t matter which one you go to). Come with one question that you would like to talk about. It can be big or small. Ask your question. All of the instructors for CMSE 201 (section leads, TAs, and LAs) will be adding to a running list of folks that we see during office hours; as long as your name appears on the list, you’ll get credit for this part of Homework 1.\n",
    "\n",
    "**NOTE:** The day when the homework is due (**Friday, September 16**) will be the busiest time for folks to go to office hours. You are **STRONGLY** encouraged to go to office hours before Friday to get credit for this part of this assignment. (You should still feel free to go to office hours on Friday for help, though!)\n",
    "\n",
    "You can find the office hours calendar on the [course website](https://cmse.msu.edu/cmse201).\n",
    "\n",
    "### I visited Erin Syerson and Han during their online office hours on 09/09/2021."
   ]
  },
  {
   "cell_type": "markdown",
   "id": "01676cce",
   "metadata": {},
   "source": [
    "---\n",
    "## 1. Looping by Index (10 Points)\n",
    "\n",
    "It’s important to understand how to use the indices to access elements of a list and how to use loop variables in `for` loops. For the following exercises, we’ll be focusing on **\"looping by index.\"**\n",
    "\n",
    "**Note:** Each of these problems provides you with a bit of starter code. You *must* use the provided starter code to answer the questions.\n",
    "\n",
    "Below is a list (`animals`), which you will use to answer the subsequent questions."
   ]
  },
  {
   "cell_type": "code",
   "execution_count": 1,
   "id": "8659efa6",
   "metadata": {},
   "outputs": [],
   "source": [
    "animals = [\"Cat\", \"Dog\", \"Bird\", \"Pig\", \"Cow\"]"
   ]
  },
  {
   "cell_type": "markdown",
   "id": "c0e6a467",
   "metadata": {},
   "source": [
    "### &#9989;&nbsp; 1.1 Task (2 Points)\n",
    "\n",
    "Use the following starter code to print out the indices 0 through 4 **AND** all of the values in the `animals` list. You must loop by index. Your final result should look like:\n",
    "\n",
    "```\n",
    "0 Cat\n",
    "1 Dog\n",
    "2 Bird\n",
    "3 Pig\n",
    "4 Cow\n",
    "```"
   ]
  },
  {
   "cell_type": "code",
   "execution_count": 2,
   "id": "5af23925",
   "metadata": {},
   "outputs": [
    {
     "name": "stdout",
     "output_type": "stream",
     "text": [
      "0 Cat\n",
      "1 Dog\n",
      "2 Bird\n",
      "3 Pig\n",
      "4 Cow\n"
     ]
    }
   ],
   "source": [
    "# write your answer here, starting with the given code\n",
    "count = 0\n",
    "for a in range(len(animals)):\n",
    "    print (a, animals[count])\n",
    "    count = count + 1"
   ]
  },
  {
   "cell_type": "markdown",
   "id": "4f2daa50",
   "metadata": {},
   "source": [
    "### &#9989;&nbsp; 1.2 Task (3 Point)\n",
    "Now that we know which indicies corresponds to each animal, lets try printing out the same list, but this time switching `Dog` and `Pig` in the print statement by changing indices. Use the starter code below. You must loop by index. Your final result should look like:\n",
    "```\n",
    "0 Cat\n",
    "1 Pig\n",
    "2 Bird\n",
    "3 Dog\n",
    "4 Cow\n",
    "\n",
    "```"
   ]
  },
  {
   "cell_type": "code",
   "execution_count": 3,
   "id": "ba4c3277",
   "metadata": {},
   "outputs": [
    {
     "name": "stdout",
     "output_type": "stream",
     "text": [
      "0 Cat\n",
      "1 Pig\n",
      "2 Bird\n",
      "3 Dog\n",
      "4 Cow\n"
     ]
    }
   ],
   "source": [
    "# write your answer here, starting with the given code\n",
    "animals[1] = 'Pig'\n",
    "animals[3] = 'Dog'\n",
    "count = 0\n",
    "for b in range(len(animals)):\n",
    "    print (b, animals[count])\n",
    "    count = count + 1"
   ]
  },
  {
   "cell_type": "markdown",
   "id": "5c36fa67",
   "metadata": {},
   "source": [
    "### &#9989;&nbsp; 1.3 Task (3 Points)\n",
    "\n",
    "Lets try slicing an array. For this task, we are going to be printing the same output that you did in question 1.1, only this time, it will be backwards. You must loop by index. Your final result should look like this:\n",
    "```\n",
    "4 Cow\n",
    "3 Pig\n",
    "2 Bird\n",
    "1 Dog\n",
    "0 Cat\n",
    "\n",
    "```"
   ]
  },
  {
   "cell_type": "code",
   "execution_count": 4,
   "id": "abf30acf",
   "metadata": {},
   "outputs": [
    {
     "name": "stdout",
     "output_type": "stream",
     "text": [
      "4 Cow\n",
      "3 Pig\n",
      "2 Bird\n",
      "1 Dog\n",
      "0 Cat\n"
     ]
    }
   ],
   "source": [
    "# write your answer here, starting with the given code\n",
    "animals = [\"Cat\", \"Dog\", \"Bird\", \"Pig\", \"Cow\"] #redefining this since it was changed in the last question\n",
    "animals = animals[::-1] #splicing the list to read backwards\n",
    "count = 4\n",
    "for c in range(len(animals)): #given code\n",
    "    print (count, animals[c])\n",
    "    count = count - 1"
   ]
  },
  {
   "cell_type": "markdown",
   "id": "ebda25a8",
   "metadata": {},
   "source": [
    "### &#9989;&nbsp; 1.4 Task (2 Points)\n",
    "\n",
    "Now we are going to only extract one value and index. Try to only print out **bird** from the `animals` list."
   ]
  },
  {
   "cell_type": "code",
   "execution_count": 5,
   "id": "a07d1b97",
   "metadata": {},
   "outputs": [
    {
     "name": "stdout",
     "output_type": "stream",
     "text": [
      "Bird\n"
     ]
    }
   ],
   "source": [
    "# write your answer here\n",
    "print (animals[2]) #using the reversed list from 1.3"
   ]
  },
  {
   "cell_type": "markdown",
   "id": "c64d6bfc",
   "metadata": {},
   "source": [
    "---\n",
    "## 2. Looping by Value (10 Points)\n",
    "\n",
    "### Example (goes with Part 1)\n",
    "\n",
    "In all of the questions above in the previous problem, we had you **\"loop by index.\"** However, we can also **\"loop by value,\"** as the example below demonstrates."
   ]
  },
  {
   "cell_type": "code",
   "execution_count": 34,
   "id": "5a785b5d",
   "metadata": {},
   "outputs": [
    {
     "name": "stdout",
     "output_type": "stream",
     "text": [
      "Cat\n",
      "Dog\n",
      "Bird\n",
      "Pig\n",
      "Cow\n"
     ]
    }
   ],
   "source": [
    "for animal in animals:\n",
    "    print(animal)"
   ]
  },
  {
   "cell_type": "markdown",
   "id": "a4697b66",
   "metadata": {},
   "source": [
    "### &#9989;&nbsp; 2.1 Task (2 Points)\n",
    "\n",
    "**In the cell below, try to solve each of the problems above using \"loop by value.\" You don’t have to demonstrate success (or failure) for each problem; just tinker with it and see if you can solve them.**"
   ]
  },
  {
   "cell_type": "code",
   "execution_count": 9,
   "id": "7150b23a",
   "metadata": {},
   "outputs": [
    {
     "name": "stdout",
     "output_type": "stream",
     "text": [
      "Cow\n",
      "Pig\n",
      "Bird\n",
      "Dog\n",
      "Cat\n",
      "Cat\n"
     ]
    },
    {
     "ename": "TypeError",
     "evalue": "'list' object is not callable",
     "output_type": "error",
     "traceback": [
      "\u001b[1;31m---------------------------------------------------------------------------\u001b[0m",
      "\u001b[1;31mTypeError\u001b[0m                                 Traceback (most recent call last)",
      "Input \u001b[1;32mIn [9]\u001b[0m, in \u001b[0;36m<cell line: 17>\u001b[1;34m()\u001b[0m\n\u001b[0;32m     11\u001b[0m \u001b[38;5;28mprint\u001b[39m(animal)\n\u001b[0;32m     13\u001b[0m \u001b[38;5;66;03m#1.3\u001b[39;00m\n\u001b[0;32m     14\u001b[0m \u001b[38;5;66;03m# you cannot splice by value instead of by index\u001b[39;00m\n\u001b[0;32m     15\u001b[0m \n\u001b[0;32m     16\u001b[0m \u001b[38;5;66;03m#1.4\u001b[39;00m\n\u001b[1;32m---> 17\u001b[0m \u001b[38;5;28mprint\u001b[39m(\u001b[43manimals\u001b[49m\u001b[43m(\u001b[49m\u001b[43m[\u001b[49m\u001b[38;5;124;43m'\u001b[39;49m\u001b[38;5;124;43mBird\u001b[39;49m\u001b[38;5;124;43m'\u001b[39;49m\u001b[43m]\u001b[49m\u001b[43m)\u001b[49m)\n",
      "\u001b[1;31mTypeError\u001b[0m: 'list' object is not callable"
     ]
    }
   ],
   "source": [
    "#Try to solve the problems above using loop by value. \n",
    "#This cell won't be graded for correctness; it's basically just scratch work\n",
    "\n",
    "#1.1\n",
    "for animal in animals:\n",
    "    print(animal)\n",
    "    \n",
    "#1.2\n",
    "animals['Dog'] = 'Pig' #you cannot change indices unless they are integers\n",
    "animals['Pig'] = 'Dog' #you cannot change indices unless they are integers\n",
    "print(animal)\n",
    "\n",
    "#1.3\n",
    "#you cannot splice by value instead of by index\n",
    "\n",
    "#1.4\n",
    "print(animals(['Bird'])) #this is not callable since the object is a str"
   ]
  },
  {
   "cell_type": "markdown",
   "id": "c3e57493",
   "metadata": {},
   "source": [
    "### &#9989;&nbsp; 2.2 Task (4 Points)\n",
    "\n",
    "**Which problems can be solved using a \"loop by value?\" Which ones can NOT be solved using a \"loop by value?\"**"
   ]
  },
  {
   "cell_type": "markdown",
   "id": "91dfaa59",
   "metadata": {},
   "source": [
    "I was able to solve 1.1 with a loop by value, but I was unable to solve 1.2-1.4 with a loop by value."
   ]
  },
  {
   "cell_type": "markdown",
   "id": "b9783175",
   "metadata": {},
   "source": [
    "### &#9989;&nbsp; 2.3 Task (4 Points)\n",
    "\n",
    "**Is there a problem that could be solved using “loop by value” that could NOT be solved using “loop by index”? If so, give an example in the (code) cell below. If not, explain why not in the (text) cell below.**"
   ]
  },
  {
   "cell_type": "code",
   "execution_count": null,
   "id": "10035655",
   "metadata": {},
   "outputs": [],
   "source": [
    "# write an example here\n",
    "\n",
    "for animal in animals:\n",
    "    print(animal)\n",
    "\n",
    "#this is an example of a piece of code that can only be solved using a loop by value. "
   ]
  },
  {
   "cell_type": "markdown",
   "id": "0e6dd972",
   "metadata": {},
   "source": [
    "*Write your answer here*"
   ]
  },
  {
   "cell_type": "markdown",
   "id": "99338d9c",
   "metadata": {},
   "source": [
    "---\n",
    "\n",
    "## 3. While Loops (10 Points)"
   ]
  },
  {
   "cell_type": "markdown",
   "id": "1a50ad77",
   "metadata": {},
   "source": [
    "Your friend has convinced you to help her out with her catsitting business this weekend. She has a bunch of clients who are out of town and need their cats to be fed. You offered to tag along, help drive to different locations, and keep track of the tasks she'll have to do. She gave you some relevant information for the day: the names of cats and the number of cans of food they'll need to eat. The lists below show this information in the same order as the feeding schedule for this weekend."
   ]
  },
  {
   "cell_type": "code",
   "execution_count": 1,
   "id": "e540b99d",
   "metadata": {},
   "outputs": [],
   "source": [
    "cats = [\"Steve\", \"Meowmers\", \"Leon\", \"Alexandria\", \"Mrs. Sneakypaws\", \"Rudolph\", \"Lord of the Pineapple\", \"Sweet Pea\", \"Olive\", \"Kanye\", \"Babette\", \"Winston\", \"Gracie\", \"Longbottom\", \"Sparty\", \"Chloe\", \"White Claw\", \"Queen Maureen\", \"Penelope\", \"The Gobbler\"]\n",
    "cans = [4, 2, 1, 4, 2, 3, 5, 1, 1, 2, 4, 3, 2, 2, 1, 4, 3, 1, 2, 8]"
   ]
  },
  {
   "cell_type": "markdown",
   "id": "be1f61fc",
   "metadata": {},
   "source": [
    "### 3.1 Using loops to show information\n",
    "\n",
    "You have been given **three** lists, `cats` and `cans`. Write a `for` loop that loops over the lists and prints out the name and number of cans for each cat. You can assume that the elements in the lists correspond to each other (i.e. the 0-th element of `cats` corresponds to the 0-th element of `cans`)."
   ]
  },
  {
   "cell_type": "code",
   "execution_count": 2,
   "id": "fb73b89f",
   "metadata": {
    "scrolled": true
   },
   "outputs": [
    {
     "name": "stdout",
     "output_type": "stream",
     "text": [
      "Steve needs: 4 cans of food.\n",
      "Meowmers needs: 2 cans of food.\n",
      "Leon needs: 1 cans of food.\n",
      "Alexandria needs: 4 cans of food.\n",
      "Mrs. Sneakypaws needs: 2 cans of food.\n",
      "Rudolph needs: 3 cans of food.\n",
      "Lord of the Pineapple needs: 5 cans of food.\n",
      "Sweet Pea needs: 1 cans of food.\n",
      "Olive needs: 1 cans of food.\n",
      "Kanye needs: 2 cans of food.\n",
      "Babette needs: 4 cans of food.\n",
      "Winston needs: 3 cans of food.\n",
      "Gracie needs: 2 cans of food.\n",
      "Longbottom needs: 2 cans of food.\n",
      "Sparty needs: 1 cans of food.\n",
      "Chloe needs: 4 cans of food.\n",
      "White Claw needs: 3 cans of food.\n",
      "Queen Maureen needs: 1 cans of food.\n",
      "Penelope needs: 2 cans of food.\n",
      "The Gobbler needs: 8 cans of food.\n"
     ]
    }
   ],
   "source": [
    "count = 0\n",
    "for x in range(len(cats)):\n",
    "    print (cats[count],\"needs:\", cans[count], \"cans of food.\")\n",
    "    count = count + 1"
   ]
  },
  {
   "cell_type": "markdown",
   "id": "6dcaf965",
   "metadata": {},
   "source": [
    "### 3.2 Using loops to identify an event\n",
    "\n",
    "As you look through the list of cats and their diets, you notice that this is a lot of cans of cat food. Your friend is meant to supply the food herself, and as you embark on your journey, you learn that she only has a single 24-pack of cat food cans. She is definitely going to run out of food, and she will need to buy more from the store. \n",
    "\n",
    "Using a `while` loop, print out the name of the cat who will finish the 24-pack."
   ]
  },
  {
   "cell_type": "code",
   "execution_count": 3,
   "id": "3dc3eb07",
   "metadata": {
    "scrolled": true
   },
   "outputs": [
    {
     "name": "stdout",
     "output_type": "stream",
     "text": [
      "there will not be enough food for the next cat after Olive\n"
     ]
    }
   ],
   "source": [
    "total = 0\n",
    "counter = 0\n",
    "\n",
    "while(total <= 24) and ((total + cans[counter]) <= 24):\n",
    "    total = total + cans[counter]\n",
    "    counter += 1\n",
    "\n",
    "#correcting for the extra addition to the counter within the while loop\n",
    "counter -= 1 \n",
    "#printing the name of the cat who finishes the food\n",
    "print(\"there will not be enough food for the next cat after\", cats[counter]) "
   ]
  },
  {
   "cell_type": "markdown",
   "id": "541273b4",
   "metadata": {},
   "source": [
    "### 3.3 Using loops to identify a pattern\n",
    "\n",
    "Your friend would also like to know when a cat will be eating the same number of cans as the cat who ate right beforehand. Write a `while` loop to print out the name of the first cat who eats the same amount of food as the cat before."
   ]
  },
  {
   "cell_type": "code",
   "execution_count": 5,
   "id": "b29865dd",
   "metadata": {},
   "outputs": [
    {
     "name": "stdout",
     "output_type": "stream",
     "text": [
      "Olive ate the same amount as Sweet Pea\n",
      "Longbottom ate the same amount as Gracie\n"
     ]
    }
   ],
   "source": [
    "counter = 0\n",
    "\n",
    "while counter < 19:\n",
    "    counter += 1\n",
    "    if cans[counter] == cans[counter - 1]:\n",
    "        print(cats[counter], 'ate the same amount as', cats[counter -1])"
   ]
  },
  {
   "cell_type": "markdown",
   "id": "52a2fd61",
   "metadata": {},
   "source": [
    "---\n",
    "## 4. Debugging with Lists and Loops (10 Points)\n",
    "\n",
    "### 4.1 What is wrong with my code? (5 points)\n",
    "\n",
    "In the cell below, there is a piece of code that isn't working. Describe the source of the bug, how you figured it out (Did you Google it? Read the error message? Try random things?), and then fix the bug!"
   ]
  },
  {
   "cell_type": "markdown",
   "id": "249f6242",
   "metadata": {},
   "source": [
    "*Write your answer in this cell. Fix the bug in the cell below.*"
   ]
  },
  {
   "cell_type": "code",
   "execution_count": 37,
   "id": "06c57a17",
   "metadata": {
    "scrolled": true
   },
   "outputs": [
    {
     "name": "stdout",
     "output_type": "stream",
     "text": [
      "[71.6, 82.4, 68.0, 73.4, 75.2, 78.80000000000001, 71.6, 78.80000000000001, 80.6, 80.6]\n"
     ]
    }
   ],
   "source": [
    "# code to convert Celcius measurements to Fahrenheit\n",
    "\n",
    "temps_C = [22, 28, 20, 23, 24, 26, 22, 26, 27, 27] # celcius\n",
    "temps_F = [] # fahrenheit\n",
    "count = 0\n",
    "for t in temps_C: # loop to convert the temperature measurements\n",
    "    converted_temp = temps_C[count] * 1.8 + 32\n",
    "    temps_F.append(converted_temp)\n",
    "    count += 1\n",
    "print(temps_F)\n",
    "\n",
    "#the coding did not work because 't' just referred to the indexes within temps_C\n",
    "#i added a counter that was initialized at 0 and goes up by one with each loop iteration"
   ]
  },
  {
   "cell_type": "markdown",
   "id": "058bd3fc",
   "metadata": {},
   "source": [
    "### 4.2 The code runs, but the output looks off... (5 points)\n",
    "\n",
    "In the cells below, there is a piece of code that runs but is not generating the output we want. Describe the source of the bug, how you figured it out (Did you Google it? Read the error message? Try random things?), and then fix the bug!"
   ]
  },
  {
   "cell_type": "markdown",
   "id": "d1959645",
   "metadata": {},
   "source": [
    "*Write your answer in this cell. Fix the bug in the cell below.*"
   ]
  },
  {
   "cell_type": "code",
   "execution_count": 41,
   "id": "b656bbfd",
   "metadata": {},
   "outputs": [
    {
     "name": "stdout",
     "output_type": "stream",
     "text": [
      "78\n"
     ]
    }
   ],
   "source": [
    "# code to calculate years it takes to turn $100 into $1000 via interest\n",
    "\n",
    "interest = .03 # interest level\n",
    "amount = 100 # original amount\n",
    "goal = 1000 # ending amount\n",
    "years = 0\n",
    "\n",
    "while amount < goal: # loop to calculate the number of years it takes\n",
    "    amount = amount * (1 + interest) # += was the error, it needed to be = otherwise the amount would double each iteration\n",
    "    years += 1\n",
    "\n",
    "print(years)\n",
    "\n",
    "#the issue with this solution was the line 'amount += amount * (1 + interest)'\n",
    "# when the coder put +=, that means that the amount of money would double as well as add the interest, which is not what we wanted\n",
    "#to fix this, i changed the += to a = in order to prevent the amount from completely doubling with each iteration"
   ]
  },
  {
   "cell_type": "markdown",
   "id": "8299e7f1",
   "metadata": {},
   "source": [
    "---\n",
    "\n",
    "### Congratulations, you're done! ###\n",
    "\n",
    "Submit this assignment by uploading it to the course Desire2Learn web page. Go to the \"Homework Assignments\" section, find the submission folder link for Homework #1, and upload it there."
   ]
  }
 ],
 "metadata": {
  "kernelspec": {
   "display_name": "Python 3 (ipykernel)",
   "language": "python",
   "name": "python3"
  },
  "language_info": {
   "codemirror_mode": {
    "name": "ipython",
    "version": 3
   },
   "file_extension": ".py",
   "mimetype": "text/x-python",
   "name": "python",
   "nbconvert_exporter": "python",
   "pygments_lexer": "ipython3",
   "version": "3.9.12"
  }
 },
 "nbformat": 4,
 "nbformat_minor": 5
}
