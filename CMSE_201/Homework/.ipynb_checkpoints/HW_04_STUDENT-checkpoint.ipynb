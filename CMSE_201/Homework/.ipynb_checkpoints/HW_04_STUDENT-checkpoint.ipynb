{
 "cells": [
  {
   "cell_type": "markdown",
   "metadata": {},
   "source": [
    "# Homework 4: Modeling Bacterial Growth"
   ]
  },
  {
   "cell_type": "markdown",
   "metadata": {},
   "source": [
    "### <p style=\"text-align: right;\"> &#9989; Cesarine Graham.\n"
   ]
  },
  {
   "cell_type": "markdown",
   "metadata": {},
   "source": [
    "# __CMSE  201 &ndash; Fall 2022__\n",
    "\n",
    "<img src=\"https://cmse.msu.edu/sites/_cmse/assets/Image/image002.jpg\"\n",
    "     alt=\"CMSE Logo\"\n",
    "     align=\"right\" \n",
    "     height=\"100\" \n",
    "     width=\"100\" />\n",
    "     \n",
    "## Goals\n",
    "\n",
    "In this homework, you will use Numpy, SciPy and Matplotlib to model the bacterial growth. This should serve as a good assessment of what you understand at this point in the course. Make sure to use Slack and help room hours if you run into issues!\n",
    "\n",
    "### By the end of the homework assignment you will have practiced:\n",
    "\n",
    "1. Using `solve_ivp`\n",
    "2. Using `curve_fit`\n",
    "3. Using `matplotlib`\n",
    "4. Interpreting model results\n",
    "5. Computing data from model results\n",
    "6. Learn a new built-in function of SciPy"
   ]
  },
  {
   "cell_type": "markdown",
   "metadata": {},
   "source": [
    "## Assignment instructions\n",
    "\n",
    "Work through the following assignment, making sure to follow all of the directions and answer all of the questions.\n",
    "\n",
    "**This assignment is due at 11:59 p.m. on Friday, Nov 18.** It should be uploaded into the \"Homework Assignments\" dropbox folder for Homework #4.  Submission instructions can be found at the end of the notebook."
   ]
  },
  {
   "cell_type": "markdown",
   "metadata": {},
   "source": [
    "## Grading\n",
    "\n",
    "* Part 0: Academic integrity statement (1 point)\n",
    "* Part 1: Preliminary (1 point)\n",
    "   - Question 1 (1 point)\n",
    "\n",
    "* Part 2: Find a numerical solution of the Monod type model (14 points)\n",
    "   - Question 2 (7 points)\n",
    "   - Question 3 (7 points)\n",
    "\n",
    "* Part 3: Compute some quantites of interest (15 points)\n",
    "   - Question 4 (6 points)\n",
    "   - Question 5 (3 points)\n",
    "   - Question 6 (6 points)\n",
    "\n",
    "* Part 4: Fitting Experimental Data (19 points)\n",
    "   - Question 7 (3 points)\n",
    "   - Question 8 (6 points)\n",
    "   - Question 9 (6 points)\n",
    "   - Question 10 (4 points)\n",
    "\n",
    "Total points possible: **50**\n",
    "___"
   ]
  },
  {
   "cell_type": "markdown",
   "metadata": {},
   "source": [
    "## Part 0: Academic integrity statement (1 point)\n",
    "\n",
    "In the markdown cell below, paste your personal academic integrity statement. By including this statement, you are confirming that you are submitting this as your own work and not that of someone else."
   ]
  },
  {
   "cell_type": "markdown",
   "metadata": {},
   "source": [
    "<font size=6 color=\"#009600\">&#9998;</font> *I, Cesarine Graham, commit to upholding the Spartan Code of Honor Academic Pledge, as well as holding the values true to myself for the rest of my academic career. I will uphold the core value of the US Navy being 'I will bear true faith and allegiance,' as the US Navy was the reason I was able to recieve a collegiate education and any further opportunites.'I commit to submitting my work, only my work, and nothing else. All work that is not mine shall be properly clearly and visibly cited to the audience.*"
   ]
  },
  {
   "cell_type": "markdown",
   "metadata": {},
   "source": [
    "## Context\n",
    "\n",
    "Antimicrobial resistance is among the 10 top threats that humans are facing, according to the [World Health Organization](https://www.who.int/news-room/fact-sheets/detail/antimicrobial-resistance). As a young scientist, you wish to investigate the bacterial resistance to antimicrobials using _Vibrio cholerae_ as a model microorganism. This pathogen predominantly lives in aquatic environments and is the causative agent of cholera, a virulent disease that still affects millions of people, according to the World Health Organization. \n",
    "\n",
    "In order to deepen your knowledge in this field, you now want to initiate yourself to the modeling of bacterial growth based on ordinary differential equations (ODEs). As a first step, you will focus on the modeling of bacterial growth in a liquid environment, where aquatic bacteria such as _Vibrio cholerae_ can be found. More precisely, you are interested in a Monod kinetics growth model given by \n",
    "\n",
    "\\begin{equation*}\n",
    "    \\begin{aligned}\n",
    "        \\frac{d C_M}{dt} =&\\,\\, \\frac{\\mu_1\\,C_N}{K_s+C_N}\\,C_M - k_r\\,C_M\\\\\n",
    "        \\frac{d C_N}{dt} =&\\,\\, -\\frac{\\mu_2\\,C_N}{K_s+C_N}\\,C_M\n",
    "    \\end{aligned}\n",
    "\\end{equation*}\n",
    "\n",
    "where $C_M$ is the concentration of bacteria per unit of volume, $C_N$ is the concentration of nutrients per unit per volume, $\\mu_1$ is the maximum specific growth rate, $\\mu_2>0$ considers the effect of the yield rate, $k_r>0$ is the first-order endogenous decay rate and $K_s$ is the concentration of nutrients where the specific growth rate, given by $\\frac{\\mu_1\\,C_N}{K_s+C_N}$ has half its maximum value. \n",
    "\n",
    "Your goal is now to understand this model!"
   ]
  },
  {
   "cell_type": "markdown",
   "metadata": {},
   "source": [
    "## Part 1: Preliminary (1 point)"
   ]
  },
  {
   "cell_type": "markdown",
   "metadata": {},
   "source": [
    "**Question 1**: Make sure you set up your notebook to import the modules that you will need in this homework (numpy, matplotlib, pandas, solve_ivp, and curve_fit). "
   ]
  },
  {
   "cell_type": "code",
   "execution_count": 1,
   "metadata": {},
   "outputs": [],
   "source": [
    "# Put your code here\n",
    "import numpy as np\n",
    "from scipy.integrate import solve_ivp\n",
    "import matplotlib.pyplot as plt\n",
    "from scipy.optimize import curve_fit\n",
    "%matplotlib inline\n",
    "import math\n",
    "import pandas as pd\n",
    "import seaborn as sns"
   ]
  },
  {
   "cell_type": "markdown",
   "metadata": {},
   "source": [
    "## Part 2: Find a numerical solution of the Monod type model (14 points)\n",
    "\n",
    "As a first step, you want to find an approximation of the solution of the presented Monod type model for a given initial condition, that is the initial concentration of bacteria and nutrients. "
   ]
  },
  {
   "cell_type": "markdown",
   "metadata": {},
   "source": [
    "**Question 2.1**: Create a derivative function that computes the derivatives of $C_M$ and $C_N$ from the equations above (to be used in solve_ivp) with the following inputs/outputs:\n",
    "\n",
    "Inputs:\n",
    "1. time\n",
    "2. a list containing the \"current\" values of $C_M$ and $C_N$\n",
    "3. any other constants you need to compute the derivatives\n",
    "\n",
    "Outputs:\n",
    "1. derivative of $C_M$ \n",
    "2. derivative of $C_N$"
   ]
  },
  {
   "cell_type": "code",
   "execution_count": 2,
   "metadata": {},
   "outputs": [],
   "source": [
    "# put your code here\n",
    "\n",
    "def derivs(t,curr_vals,Ks, kr, u1, u2):\n",
    "    \n",
    "    # Unpack the current values of the variables we wish to \"update\" from the curr_vals list\n",
    "    Cm = curr_vals[0]\n",
    "    Cn = curr_vals[1]\n",
    "    \n",
    "    # Right-hand side of odes, which are used to computer the derivative\n",
    "    dCmdt = ((u1*Cn)/(Ks + Cn)) * Cm - (kr * Cm) \n",
    "    dCndt = - ((u2*Cn)/(Ks + Cn))*Cm\n",
    "    \n",
    "    return dCmdt, dCndt"
   ]
  },
  {
   "cell_type": "markdown",
   "metadata": {},
   "source": [
    "**Question 2.2:** Create a function named `computeApproxMonodModel` that calls your derivative function and uses `solve_ivp` to \n",
    "compute an approximation of $C_M$ and $C_N$. \n",
    "\n",
    "The **inputs** for your function are:\n",
    "\n",
    "1. a list (or array) containing the constants of the model ($\\mu_1$, $\\mu_2$, $K_s$, and $k_r$)\n",
    "2. a list (or array) containing the initial conditions of the model (initial values of $C_M$ and $C_N$)\n",
    "3. an array of time values\n",
    "\n",
    "The **outputs** are: \n",
    "\n",
    "1. a list (or array) that contains the approximation of $C_M$ (taken from the output of `solve_ivp`)\n",
    "2. a list (or array) that contains the approximation of $C_N$ (taken from the output of `solve_ivp`)\n",
    "\n",
    "Try to emphasize using unique (and descriptive) variable names to help keep track of things!"
   ]
  },
  {
   "cell_type": "code",
   "execution_count": 3,
   "metadata": {},
   "outputs": [],
   "source": [
    "# Put your code here\n",
    "def computeApproxMonodModel(time, constants, initial_values):\n",
    "\n",
    "    Ks = constants[0]\n",
    "    kr = constants[1]\n",
    "    u1 = constants[2]\n",
    "    u2 = constants[3]\n",
    "    \n",
    "    result = solve_ivp(derivs, (time[0],time[-1]),initial_values, t_eval=time, args=[Ks,kr,u1,u2])\n",
    "    \n",
    "    Cm = result.y[0,:]\n",
    "    Cn = result.y[1,:]\n",
    "    \n",
    "    return Cm, Cn"
   ]
  },
  {
   "cell_type": "markdown",
   "metadata": {},
   "source": [
    "**Question 3.1**: Using your `computeApproxMonodModel` function, compute the approximation of $C_M$ and $C_N$ for a time interval of $[0,100]$. You consider that the initial conditions of the model are a concentration of bacteria ($C_M$) and nutrients ($C_N$) of $0.03$ and $0.3$, respectively. The constants for this model are: $K_s = 0.3$, $\\mu_1 = 0.05$, $\\mu_2 = 0.3$ and $k_r =0.005$. Plot the approximations of $C_M$ and $C_N$ together on one plot (include all relevant labels)."
   ]
  },
  {
   "cell_type": "code",
   "execution_count": 4,
   "metadata": {},
   "outputs": [
    {
     "data": {
      "image/png": "[encoded data removed]",
      "text/plain": [
       "<Figure size 432x288 with 1 Axes>"
      ]
     },
     "metadata": {
      "needs_background": "light"
     },
     "output_type": "display_data"
    }
   ],
   "source": [
    "# Put your code here\n",
    "\n",
    "time = np.linspace(0,101,1000)\n",
    "constants = [0.3, 0.005, 0.05, 0.3]\n",
    "initial_values = [0.03,0.3]\n",
    "\n",
    "Cm, Cn = computeApproxMonodModel(time, constants, initial_values)\n",
    "\n",
    "plt.plot(time, Cm, label = 'bacteria', color = 'olive')\n",
    "plt.plot(time, Cn, label = 'nutrients', color = 'forestgreen')\n",
    "plt.title('concentration of bacteria and nutrients per unit volume over time', font = 'Times New Roman', fontsize = 14)\n",
    "plt.xlabel('time (days)', font = 'Times New Roman', fontsize = 14)\n",
    "plt.ylabel('volume', font = \"Times New Roman\", fontsize = 14)\n",
    "plt.legend()\n",
    "plt.grid()"
   ]
  },
  {
   "cell_type": "markdown",
   "metadata": {},
   "source": [
    "**Question 3.2:** Recall from the problem statement that $C_M$ is the concentration of bacteria per unit of volume and $C_N$ is the concentration of nutrients (food for the bacteria) per unit per volume. \n",
    "\n",
    "* According to your plot, how do $C_M$ and $C_N$ change over time? \n",
    "\n",
    "* Thinking a bit more broadly about how populations grow in relation to their available resources, does the way your solutions for $C_M$ and $C_N$ change in relation to each other make sense? Why or why not?"
   ]
  },
  {
   "cell_type": "markdown",
   "metadata": {},
   "source": [
    "<font size=6 color=\"#009600\">&#9998;</font> Cm (the concentration of bacteria) slowly increases over time then plateaus; Cn (the concentration of nutrients) drastically decreases over time. This trend occurs because the bacteria population is dependant upon the amount of resources (in our case, the nutrients) that are available. The larger the bacterial population, the faster the nutrients are depleted."
   ]
  },
  {
   "cell_type": "markdown",
   "metadata": {},
   "source": [
    "## Part 3: Compute some quantities of interest (15 points)\n",
    "\n",
    "Now you want to compute some quantities of interest from the model results. Indeed, you wish to have an accurate approximation of the time when the concentration of nutrients is half of the initial concentration, and when the concentration of bacteria and nutrients are equal. In this part, you will consider that the initial concentration of bacteria and nutrients at $t=0$ are respectively $0.03$ and $0.3$, and the following parameters: $K_s = 0.3$, $\\mu_1 = 0.05$, $\\mu_2 = 0.3$ and $k_r = 0.005$.\n",
    "\n",
    "To do so, you will use the function `root_scalar` from the library scipy.optimize (imported in the cell below).\n",
    "\n",
    "This function computes the root $r$ of a given function $g(x)$, that is $g(r)=0$ (i.e. where the two functions intersect each other). \n",
    "\n",
    "The code below shows an example of finding this root for the function $g(x)=(x-1)^2$ with the x-axis (the function $y = 0$). The `root_scalar` function takes in the function you want to find a root of as well as two initial guesses for the root (one below where the root should be, and one above). In the example below, the inputs for root_scalar are the function `g`, and the initial guesses for the root of `x0=0.1` and `x1=0.3`."
   ]
  },
  {
   "cell_type": "code",
   "execution_count": 5,
   "metadata": {},
   "outputs": [],
   "source": [
    "from scipy.optimize import root_scalar"
   ]
  },
  {
   "cell_type": "code",
   "execution_count": 6,
   "metadata": {},
   "outputs": [
    {
     "name": "stdout",
     "output_type": "stream",
     "text": [
      "r = 0.9999999792406621\n"
     ]
    },
    {
     "data": {
      "text/plain": [
       "Text(0.5, 1.0, 'Intersection between g(x) and y=0')"
      ]
     },
     "execution_count": 6,
     "metadata": {},
     "output_type": "execute_result"
    },
    {
     "data": {
      "image/png": "[encoded data removed]",
      "text/plain": [
       "<Figure size 432x288 with 1 Axes>"
      ]
     },
     "metadata": {
      "needs_background": "light"
     },
     "output_type": "display_data"
    }
   ],
   "source": [
    "# EXAMPLE TAKEN FROM DAY 19 ICA\n",
    "\n",
    "def g(x):\n",
    "    return (x-1)**2.0\n",
    "\n",
    "sol = root_scalar(g,x0=0.1,x1=0.3)\n",
    "\n",
    "print('r =',sol.root)\n",
    "\n",
    "\n",
    "x = np.linspace(0,2)\n",
    "plt.plot(x,g(x),'-b',label='g(x)')\n",
    "plt.axhline(0,ls='--',color='k',label='y=0')\n",
    "plt.plot(sol.root,g(sol.root),'ro',label='intersection point')\n",
    "plt.legend()\n",
    "plt.xlabel('x')\n",
    "plt.title('Intersection between g(x) and y=0')"
   ]
  },
  {
   "cell_type": "markdown",
   "metadata": {},
   "source": [
    "### Intersection Between Two Curves with `root_scalar`\n",
    "\n",
    "We can also use this strategy to compute the intersection between two curves. For example, the intersection between the curve $g(x)$ and the curve $y=0.5$ as shown in the cell below."
   ]
  },
  {
   "cell_type": "code",
   "execution_count": 7,
   "metadata": {},
   "outputs": [
    {
     "data": {
      "text/plain": [
       "Text(0.5, 1.0, 'Intersection between g(x) and y=0.5')"
      ]
     },
     "execution_count": 7,
     "metadata": {},
     "output_type": "execute_result"
    },
    {
     "data": {
      "image/png": "[encoded data removed]",
      "text/plain": [
       "<Figure size 432x288 with 1 Axes>"
      ]
     },
     "metadata": {
      "needs_background": "light"
     },
     "output_type": "display_data"
    }
   ],
   "source": [
    "# EXAMPLE TAKEN FROM DAY 19 ICA\n",
    "\n",
    "def h(x):\n",
    "    # sets up a value to use for the curve y = 0.5\n",
    "    y_target = 0.5\n",
    "    # computes the difference between y = 0.5 and the function g(x) (for every value of x)\n",
    "    curve_difference = g(x)-y_target  \n",
    "    return curve_difference\n",
    "\n",
    "sol = root_scalar(h,x0=0.1,x1=0.3) # finds the intersection of g(x) and y(x) = 0.5\n",
    "\n",
    "x = np.linspace(0,1)\n",
    "plt.plot(x,g(x),'-b',label='g(x)')\n",
    "plt.axhline(0.5,ls ='--',color='k',label='y=0.5')\n",
    "plt.plot(sol.root,g(sol.root),'ro',label='intersection point')\n",
    "plt.legend()\n",
    "plt.xlabel('x')\n",
    "plt.title('Intersection between g(x) and y=0.5')"
   ]
  },
  {
   "cell_type": "markdown",
   "metadata": {},
   "source": [
    "**Question 4**: Complete in the cell below the function called `CN_half` for which there is a root that corresponds to the time when the concentration of nutrients is half of the initial concentration. The **input** is a given time and the **output** is the value of $C_N(t) - C_N(0)/2$. You **must use** the function `computeApproxMonodModel` that you created in Question 2.\n",
    "\n",
    "**Hints**: \n",
    "* You could use the graph of Question 3 to verify your results."
   ]
  },
  {
   "cell_type": "code",
   "execution_count": 8,
   "metadata": {},
   "outputs": [],
   "source": [
    "# Complete this function\n",
    "\n",
    "def CN_half(t):\n",
    "    # constants and initial conditions for the MonodModel function\n",
    "    y0 = [0.03, 0.3]\n",
    "    param = [0.3, 0.005, 0.05, 0.3]\n",
    "    \n",
    "    # set up the time interval\n",
    "    time_grid = np.linspace(0,t,2) # you must use linspace otherwise there will be an error \n",
    "    \n",
    "    # compute approximation of CM and CN\n",
    "    CM,CN = computeApproxMonodModel(time_grid,param,y0) \n",
    "    \n",
    "    # print out CN (for debugging)\n",
    "    print(CN)\n",
    "    \n",
    "    # Compute the difference between the final value of CN and half the initial value of CN\n",
    "    difference = (CN[-1])-(CN[0]/2)\n",
    "    \n",
    "    return difference # return the difference you computed"
   ]
  },
  {
   "cell_type": "markdown",
   "metadata": {},
   "source": [
    "**Question 5**: Using the functions `root_scalar` and `CN_half`, find an approximation of the time when the concentration of nutrients is half of the initial concentration. For your initial guess of the roots, use `x0=20` and `x1=40`. Print your results."
   ]
  },
  {
   "cell_type": "code",
   "execution_count": 9,
   "metadata": {},
   "outputs": [
    {
     "name": "stdout",
     "output_type": "stream",
     "text": [
      "[0.3        0.20151494]\n",
      "[0.3        0.10487461]\n",
      "[0.3        0.14753608]\n",
      "[0.3        0.14991588]\n",
      "[0.3        0.15000022]\n",
      "[0.3  0.15]\n",
      "      converged: True\n",
      "           flag: 'converged'\n",
      " function_calls: 6\n",
      "     iterations: 5\n",
      "           root: 30.157371803779935\n",
      "30.157371803779935\n"
     ]
    }
   ],
   "source": [
    "# Put your code here\n",
    "half_concentration = root_scalar(CN_half, x0=20, x1=40)\n",
    "print(half_concentration)\n",
    "print(half_concentration.root)"
   ]
  },
  {
   "cell_type": "markdown",
   "metadata": {},
   "source": [
    "**Question 6**: Using a similar procedure as in Question 4 and 5, find an approximation of the time when the concentration of nutrients and bacteria are equal. For your initial guess of the roots, use `x0=50` and `x1=60` Print your results."
   ]
  },
  {
   "cell_type": "code",
   "execution_count": 10,
   "metadata": {},
   "outputs": [],
   "source": [
    "# Put your code here\n",
    "\n",
    "def CNCM(t):\n",
    "    y0 = [0.03, 0.3]\n",
    "    param = [0.3, 0.005, 0.05, 0.3]\n",
    "    time_grid = np.linspace(0,t,2)\n",
    "    CM,CN = computeApproxMonodModel(time_grid,param,y0) \n",
    "\n",
    "    # calculate when the final value of CM is equal to the final value of CN\n",
    "    solution = CM[-1]-CN[-1]\n",
    "    \n",
    "    return solution"
   ]
  },
  {
   "cell_type": "code",
   "execution_count": 11,
   "metadata": {},
   "outputs": [
    {
     "name": "stdout",
     "output_type": "stream",
     "text": [
      "      converged: True\n",
      "           flag: 'converged'\n",
      " function_calls: 7\n",
      "     iterations: 6\n",
      "           root: 53.255138641321714\n",
      "53.255138641321714\n"
     ]
    }
   ],
   "source": [
    "# Put your code to use root_scalar here\n",
    "solution = root_scalar(CNCM, x0=50,x1=60)\n",
    "print(solution)\n",
    "print(solution.root)"
   ]
  },
  {
   "cell_type": "markdown",
   "metadata": {},
   "source": [
    "## Part 4: Fitting experimental data (19 points)\n",
    "\n",
    "In this part, you want to fit a model on the experimental data of bacteria growth. The bacterial growth is quantified by measuring the optical density at 600 nm (OD$_{600}$) during 24 hours. The experimental data are contained in the file _OD600.csv_. Your goal is now to seek an appropriate model to fit these data. \n",
    "\n",
    "**Hint**: It is always a good idea to take a look to the file before loading it. "
   ]
  },
  {
   "cell_type": "markdown",
   "metadata": {},
   "source": [
    "**Question 7**: Extract from the file the time and the corresponding data. So you should have two arrays: one for the time and one for OD. Make a `scatter` plot showing the OD$_{600}$ vs time. Your figure should contain a title, a $x$-axis label and a $y$-axis label."
   ]
  },
  {
   "cell_type": "code",
   "execution_count": 19,
   "metadata": {},
   "outputs": [
    {
     "data": {
      "text/plain": [
       "Text(0.5, 1.0, 'OD600 vs Time')"
      ]
     },
     "execution_count": 19,
     "metadata": {},
     "output_type": "execute_result"
    },
    {
     "data": {
      "image/png": "[encoded data removed]",
      "text/plain": [
       "<Figure size 432x288 with 1 Axes>"
      ]
     },
     "metadata": {
      "needs_background": "light"
     },
     "output_type": "display_data"
    }
   ],
   "source": [
    "# Put your code here\n",
    "data = pd.read_csv(\"OD600.csv\", delimiter=',', skiprows=0)\n",
    "time= data.loc[:, \"Time [h]\"]\n",
    "OD= data.loc[:, \"OD600\"]\n",
    "\n",
    "plt.scatter(time,OD, color = 'cornflowerblue')\n",
    "plt.xlabel(\"Time [h]\")\n",
    "plt.ylabel(\"OD600\")\n",
    "plt.title(\"OD600 vs Time\")"
   ]
  },
  {
   "cell_type": "markdown",
   "metadata": {},
   "source": [
    "**Question 8.1**: As a first attempt, you want to fit a linear curve of the form $y = m\\,t + b$. Using the function `curve_fit`, find the best fit parameters to the data. Then, plot the resulting curve and the experimental data in the same figure. Your figure should contain a title, a $x$-axis label, a $y$-axis label, and a legend. \n",
    "\n",
    "Make sure that each function that you create belongs to a cell of its own in order to ease the grading!"
   ]
  },
  {
   "cell_type": "code",
   "execution_count": 13,
   "metadata": {},
   "outputs": [],
   "source": [
    "# Put your function here\n",
    "\n",
    "def bacterial_growth(t,m,b):\n",
    "    y = m*t + b\n",
    "    return y"
   ]
  },
  {
   "cell_type": "code",
   "execution_count": 14,
   "metadata": {},
   "outputs": [
    {
     "data": {
      "text/plain": [
       "<matplotlib.legend.Legend at 0x2490fd25eb0>"
      ]
     },
     "execution_count": 14,
     "metadata": {},
     "output_type": "execute_result"
    },
    {
     "data": {
      "image/png": "[encoded data removed]",
      "text/plain": [
       "<Figure size 432x288 with 1 Axes>"
      ]
     },
     "metadata": {
      "needs_background": "light"
     },
     "output_type": "display_data"
    }
   ],
   "source": [
    "# Put your code here\n",
    "\n",
    "linear_fit, just_ignore_this = curve_fit(bacterial_growth, time, OD)\n",
    "m_c= linear_fit[0]\n",
    "b_c= linear_fit[1]\n",
    "\n",
    "y_fit = bacterial_growth(time, m_c, b_c)\n",
    "\n",
    "plt.scatter(time, OD, label = \"bacterial growth data\", color = \"lightcoral\")\n",
    "plt.xlabel(\"time (hours)\")\n",
    "plt.ylabel(\"bacterial growth in optical density (nm)\")\n",
    "plt.title(\"bacterial growth vs time\")\n",
    "plt.grid()\n",
    "\n",
    "plt.plot(time, y_fit, color = \"cornflowerblue\", label = \"linear line of best fit\")\n",
    "plt.legend()"
   ]
  },
  {
   "cell_type": "markdown",
   "metadata": {},
   "source": [
    "**Question 8.2:**\n",
    "\n",
    "Look at your plot of the linear model and the data. How well does the model describe the data? Would you trust this model to provide accurate estimates of future bacterial growth?"
   ]
  },
  {
   "cell_type": "markdown",
   "metadata": {},
   "source": [
    "<font size=6 color=\"#009600\">&#9998;</font> The model does a very poor job of describing the data. The data has more of an exponential shape and the model can't really be trusted to provide accurate estimates of future bacterial growth."
   ]
  },
  {
   "cell_type": "markdown",
   "metadata": {},
   "source": [
    "**Question 9.1:** Your next goal is to improve on the model from Question 8. Looking at the shape of the data (and doing some internet research and/or persuing of old math textbooks or CMSE 201 assignments), choose a model that you think will describe the data better than the linear model. Record your model in the cell below, and justify your choice!"
   ]
  },
  {
   "cell_type": "markdown",
   "metadata": {},
   "source": [
    "<font size=6 color=\"#009600\">&#9998;</font> I will be using the population model that was defined in the In-Class from Day 13:\n",
    "\n",
    "$$P(t) = \\frac{C}{1 + Ae^{-kt}}$$\n",
    "\n",
    "I feel like this is a good model to work with since the raw data follows a roughly-exponential shape, but it also levels out towards the end of the set. The population model is able to show how a function rapidly increases, then levels out over time which is exactly what we need."
   ]
  },
  {
   "cell_type": "markdown",
   "metadata": {},
   "source": [
    "**Question 9.2:** As in Question 8, compute the best fit parameters for your new model and visualize your best fit with the data."
   ]
  },
  {
   "cell_type": "code",
   "execution_count": 15,
   "metadata": {},
   "outputs": [],
   "source": [
    "# Put your function here\n",
    "from math import e\n",
    "def population (t, C, Pinit, k):\n",
    "    A=(C-Pinit)/(Pinit)\n",
    "    P=(C)/(1+A*e**(-k*t))\n",
    "    return P"
   ]
  },
  {
   "cell_type": "code",
   "execution_count": 16,
   "metadata": {},
   "outputs": [
    {
     "data": {
      "text/plain": [
       "<matplotlib.legend.Legend at 0x2491058be20>"
      ]
     },
     "execution_count": 16,
     "metadata": {},
     "output_type": "execute_result"
    },
    {
     "data": {
      "image/png": "[encoded data removed]",
      "text/plain": [
       "<Figure size 432x288 with 1 Axes>"
      ]
     },
     "metadata": {
      "needs_background": "light"
     },
     "output_type": "display_data"
    }
   ],
   "source": [
    "# Put your code here\n",
    "parameters, curve = curve_fit(population, time, OD)\n",
    "\n",
    "C_fit = parameters[0]\n",
    "Pinit_fit = parameters[1]\n",
    "k_fit = parameters[2]\n",
    "\n",
    "growth_fit = population(time, C_fit, Pinit_fit, k_fit)\n",
    "\n",
    "plt.scatter(time, OD, label = \"bacterial growth data\", color = \"lightcoral\")\n",
    "plt.xlabel(\"time (hours)\")\n",
    "plt.ylabel(\"bacterial growth in optical density (nm)\")\n",
    "plt.title(\"bacterial growth vs time\")\n",
    "plt.grid()\n",
    "\n",
    "plt.plot(time, growth_fit, color = \"cornflowerblue\", label = \"line of best fit\")\n",
    "plt.legend()"
   ]
  },
  {
   "cell_type": "markdown",
   "metadata": {},
   "source": [
    "**Question 10.1**: A simple approach that evaluates the quality of the fitting is to measure the mean squared error (MSE). That is, given the data $\\{ (a_i, b_i) \\} _{i = 1} ^N$, and the fitted model $f$, we shall calculate the  mean squared error\n",
    "$$ MSE := \\frac{1}{N}\\sum_{i=1}^{N} (f(a_i) - b_i) ^2.$$\n",
    "\n",
    "Beginning with the (optional) starter code below (one solution path from Day 14 In Class), write a function that takes the y values of the data and the y values of the best fit curve and returns the MSE (a single number). **Print your results**\n",
    "\n",
    "**NOTE:** The starter code (and its structure) are optional guides. Feel free to start from scratch and/or make the code more compact."
   ]
  },
  {
   "cell_type": "code",
   "execution_count": 17,
   "metadata": {},
   "outputs": [],
   "source": [
    "def MSE(y1,y2):\n",
    "    # computes difference between each data point and the best fit\n",
    "    difference = []\n",
    "    distance = y2-y1\n",
    "    \n",
    "    # square the differences and sum them\n",
    "    distance = distance**2\n",
    "    \n",
    "    # divide them by the total number of data points\n",
    "    average = np.mean(distance)\n",
    "    \n",
    "    return average"
   ]
  },
  {
   "cell_type": "code",
   "execution_count": 20,
   "metadata": {},
   "outputs": [
    {
     "data": {
      "text/plain": [
       "0.00014647696599556139"
      ]
     },
     "execution_count": 20,
     "metadata": {},
     "output_type": "execute_result"
    }
   ],
   "source": [
    "# calculate the MSE for the models here!\n",
    "MSE(OD, growth_fit)"
   ]
  },
  {
   "cell_type": "markdown",
   "metadata": {},
   "source": [
    "---\n",
    "\n",
    "### Congratulations, you're done!\n",
    "\n",
    "Submit this assignment by uploading it to the course Desire2Learn web page.  Go to the \"Homework Assignments\" folder, find the dropbox link for Homework #4, and upload it there."
   ]
  }
 ],
 "metadata": {
  "kernelspec": {
   "display_name": "Python 3 (ipykernel)",
   "language": "python",
   "name": "python3"
  },
  "language_info": {
   "codemirror_mode": {
    "name": "ipython",
    "version": 3
   },
   "file_extension": ".py",
   "mimetype": "text/x-python",
   "name": "python",
   "nbconvert_exporter": "python",
   "pygments_lexer": "ipython3",
   "version": "3.9.12"
  }
 },
 "nbformat": 4,
 "nbformat_minor": 4
}
