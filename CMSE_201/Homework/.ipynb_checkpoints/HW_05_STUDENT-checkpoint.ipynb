{
 "cells": [
  {
   "cell_type": "markdown",
   "id": "3edac135",
   "metadata": {},
   "source": [
    "# Homework 5: 2D Arrays and Agent-based Modeling (EXTRA CREDIT)"
   ]
  },
  {
   "cell_type": "markdown",
   "id": "01597d32",
   "metadata": {},
   "source": [
    "### <p style=\"text-align: right;\"> &#9989; Cesarine Graham.\n"
   ]
  },
  {
   "cell_type": "markdown",
   "id": "6998ca55",
   "metadata": {},
   "source": [
    "# __CMSE  201 &ndash; Fall 2022__\n",
    "\n",
    "<img src=\"https://cmse.msu.edu/sites/_cmse/assets/Image/image002.jpg\"\n",
    "     alt=\"CMSE Logo\"\n",
    "     align=\"right\" \n",
    "     height=\"100\" \n",
    "     width=\"100\" />\n",
    "     \n",
    "## Learning Goals\n",
    "\n",
    "In this homework, you will:\n",
    "\n",
    "* Access and manipulate 2D arrays\n",
    "* Implement and explore an Agent-based model\n",
    "\n",
    "## Practice goals\n",
    "\n",
    "* Using functions to optimize code development\n",
    "* Debugging complex code"
   ]
  },
  {
   "cell_type": "markdown",
   "id": "fe59a8c0",
   "metadata": {},
   "source": [
    "## Part 1: Creating a Blurry Filter with 2D Arrays"
   ]
  },
  {
   "cell_type": "markdown",
   "id": "ef1d1892",
   "metadata": {},
   "source": [
    "**AHHHHH!!** Run the cell below to see a recreation of \"The Scream,\" a famous painting by Edvard Munch. As it turns out, you can use what you've learned about 2D arrays to apply a blurring filter to the image. Let's do it."
   ]
  },
  {
   "cell_type": "code",
   "execution_count": 3,
   "id": "1a715e28",
   "metadata": {},
   "outputs": [
    {
     "ename": "FileNotFoundError",
     "evalue": "[Errno 2] No such file or directory: 'scream.jpg'",
     "output_type": "error",
     "traceback": [
      "\u001b[1;31m---------------------------------------------------------------------------\u001b[0m",
      "\u001b[1;31mFileNotFoundError\u001b[0m                         Traceback (most recent call last)",
      "Input \u001b[1;32mIn [3]\u001b[0m, in \u001b[0;36m<cell line: 6>\u001b[1;34m()\u001b[0m\n\u001b[0;32m      3\u001b[0m \u001b[38;5;28;01mimport\u001b[39;00m \u001b[38;5;21;01mnumpy\u001b[39;00m \u001b[38;5;28;01mas\u001b[39;00m \u001b[38;5;21;01mnp\u001b[39;00m\n\u001b[0;32m      4\u001b[0m get_ipython()\u001b[38;5;241m.\u001b[39mrun_line_magic(\u001b[38;5;124m'\u001b[39m\u001b[38;5;124mmatplotlib\u001b[39m\u001b[38;5;124m'\u001b[39m, \u001b[38;5;124m'\u001b[39m\u001b[38;5;124minline\u001b[39m\u001b[38;5;124m'\u001b[39m)\n\u001b[1;32m----> 6\u001b[0m picture \u001b[38;5;241m=\u001b[39m \u001b[43mImage\u001b[49m\u001b[38;5;241;43m.\u001b[39;49m\u001b[43mopen\u001b[49m\u001b[43m(\u001b[49m\u001b[38;5;124;43m\"\u001b[39;49m\u001b[38;5;124;43mscream.jpg\u001b[39;49m\u001b[38;5;124;43m\"\u001b[39;49m\u001b[43m)\u001b[49m\n\u001b[0;32m      7\u001b[0m plt\u001b[38;5;241m.\u001b[39mfigure(figsize \u001b[38;5;241m=\u001b[39m (\u001b[38;5;241m10\u001b[39m,\u001b[38;5;241m10\u001b[39m))\n\u001b[0;32m      8\u001b[0m plt\u001b[38;5;241m.\u001b[39mimshow(picture)\n",
      "File \u001b[1;32m~\\anaconda3\\lib\\site-packages\\PIL\\Image.py:2953\u001b[0m, in \u001b[0;36mopen\u001b[1;34m(fp, mode, formats)\u001b[0m\n\u001b[0;32m   2950\u001b[0m     filename \u001b[38;5;241m=\u001b[39m fp\n\u001b[0;32m   2952\u001b[0m \u001b[38;5;28;01mif\u001b[39;00m filename:\n\u001b[1;32m-> 2953\u001b[0m     fp \u001b[38;5;241m=\u001b[39m \u001b[43mbuiltins\u001b[49m\u001b[38;5;241;43m.\u001b[39;49m\u001b[43mopen\u001b[49m\u001b[43m(\u001b[49m\u001b[43mfilename\u001b[49m\u001b[43m,\u001b[49m\u001b[43m \u001b[49m\u001b[38;5;124;43m\"\u001b[39;49m\u001b[38;5;124;43mrb\u001b[39;49m\u001b[38;5;124;43m\"\u001b[39;49m\u001b[43m)\u001b[49m\n\u001b[0;32m   2954\u001b[0m     exclusive_fp \u001b[38;5;241m=\u001b[39m \u001b[38;5;28;01mTrue\u001b[39;00m\n\u001b[0;32m   2956\u001b[0m \u001b[38;5;28;01mtry\u001b[39;00m:\n",
      "\u001b[1;31mFileNotFoundError\u001b[0m: [Errno 2] No such file or directory: 'scream.jpg'"
     ]
    }
   ],
   "source": [
    "from PIL import Image\n",
    "import matplotlib.pyplot as plt\n",
    "import numpy as np\n",
    "%matplotlib inline\n",
    "\n",
    "picture = Image.open(\"scream.jpg\")\n",
    "plt.figure(figsize = (10,10))\n",
    "plt.imshow(picture)\n",
    "plt.axis('off')"
   ]
  },
  {
   "cell_type": "markdown",
   "id": "44c3cf60",
   "metadata": {},
   "source": [
    "Check out the code for the blurring filter below. The outer for-loop allows for multiple iterations of \"blurring,\" which you can change using the `iterations` variable. For now, leave it at 1.\n",
    "\n",
    "The way the blurring works is, the RGB values of a \"blurred\" pixel should be equal to the average RGB values of the \"unblurred\" pixel and its neighbors from the original image. See the visual below for a demonstration of this process."
   ]
  },
  {
   "cell_type": "markdown",
   "id": "c6edd47d",
   "metadata": {},
   "source": [
    "![](blurred-math.png)"
   ]
  },
  {
   "cell_type": "markdown",
   "id": "387294b5",
   "metadata": {},
   "source": [
    "### (a) (10 points)\n",
    "\n",
    "&#9989;&nbsp; At each line with a single hashtag `#`, add a comment explaining what the below line(s) of code are doing. At each line with a double hashtag `##`, fill in the blanks so that the filter will run properly."
   ]
  },
  {
   "cell_type": "code",
   "execution_count": 2,
   "id": "fe15dde7",
   "metadata": {},
   "outputs": [
    {
     "ename": "NameError",
     "evalue": "name 'zeros_array' is not defined",
     "output_type": "error",
     "traceback": [
      "\u001b[1;31m---------------------------------------------------------------------------\u001b[0m",
      "\u001b[1;31mNameError\u001b[0m                                 Traceback (most recent call last)",
      "\u001b[1;32m~\\AppData\\Local\\Temp/ipykernel_66244/278010944.py\u001b[0m in \u001b[0;36m<module>\u001b[1;34m\u001b[0m\n\u001b[0;32m      9\u001b[0m \u001b[1;33m\u001b[0m\u001b[0m\n\u001b[0;32m     10\u001b[0m     \u001b[1;31m# comment here\u001b[0m\u001b[1;33m\u001b[0m\u001b[1;33m\u001b[0m\u001b[0m\n\u001b[1;32m---> 11\u001b[1;33m     \u001b[0mblurred_reds\u001b[0m \u001b[1;33m=\u001b[0m \u001b[0mzeros_array\u001b[0m\u001b[1;33m(\u001b[0m\u001b[0mcurrent_array\u001b[0m\u001b[1;33m)\u001b[0m\u001b[1;33m\u001b[0m\u001b[1;33m\u001b[0m\u001b[0m\n\u001b[0m\u001b[0;32m     12\u001b[0m     \u001b[0mblurred_greens\u001b[0m \u001b[1;33m=\u001b[0m \u001b[0mzeros_array\u001b[0m\u001b[1;33m(\u001b[0m\u001b[0mcurrent_array\u001b[0m\u001b[1;33m)\u001b[0m\u001b[1;33m\u001b[0m\u001b[1;33m\u001b[0m\u001b[0m\n\u001b[0;32m     13\u001b[0m     \u001b[0mblurred_blues\u001b[0m \u001b[1;33m=\u001b[0m \u001b[0mzeros_array\u001b[0m\u001b[1;33m(\u001b[0m\u001b[0mcurrent_array\u001b[0m\u001b[1;33m)\u001b[0m\u001b[1;33m\u001b[0m\u001b[1;33m\u001b[0m\u001b[0m\n",
      "\u001b[1;31mNameError\u001b[0m: name 'zeros_array' is not defined"
     ]
    }
   ],
   "source": [
    "current_pic = picture\n",
    "### the number of times the image will be \"blurred\" -- the more iterations, the blurrier\n",
    "iterations = 1\n",
    "\n",
    "# comment here\n",
    "for x in range(iterations):\n",
    "    # comment here\n",
    "    current_array = np.asarray(current_pic)\n",
    "    \n",
    "    # comment here\n",
    "    blurred_reds = zeros_array(current_array)\n",
    "    blurred_greens = zeros_array(current_array)\n",
    "    blurred_blues = zeros_array(current_array)\n",
    "\n",
    "    # comment here\n",
    "    for i in range(____): ## fill in the blank\n",
    "        # comment here\n",
    "        for j in range(____): ## fill in the blank\n",
    "            # comment here\n",
    "            red_avg, green_avg, blue_avg = nearby_averages(i, j, current_array)\n",
    "            \n",
    "            # comment here\n",
    "            blurred_reds[i, j] = red_avg ## fill in the blank\n",
    "            blurred_greens[i, j] = green_avg ## fill in the blank\n",
    "            blurred_blues[i, j] = blue_avg ## fill in the blank\n",
    "    \n",
    "    # comment here\n",
    "    current_pic = np.dstack((blurred_reds, blurred_greens, blurred_blues)).astype(np.uint8)\n",
    "\n",
    "# comment here\n",
    "plt.figure(figsize = (10,10))\n",
    "plt.imshow(current_pic)\n",
    "plt.axis('off')"
   ]
  },
  {
   "cell_type": "markdown",
   "id": "44899731",
   "metadata": {},
   "source": [
    "### (b) (10 points)\n",
    "\n",
    "Two functions are undefined -- `zeros_array` and `nearby_averages`. `zeros_array` is supposed to return blank 2D array of zeros with the same shape as the input. `nearby_averages` is supposed to return the average red, green, and blue values of the specified pixel and its neighbors. You can infer the specific input and output format by seeing how the functions are called in the code above.\n",
    "\n",
    "&#9989;&nbsp; Write the functions `zeros_array` and `nearby_averages` to make the above code work properly."
   ]
  },
  {
   "cell_type": "markdown",
   "id": "992d4193",
   "metadata": {},
   "source": [
    "You can use the given functions below for free."
   ]
  },
  {
   "cell_type": "code",
   "execution_count": 4,
   "id": "3eca5033",
   "metadata": {},
   "outputs": [],
   "source": [
    "# do not edit the code in this cell\n",
    "\n",
    "def onBoard(i,j,image):\n",
    "    if i <= image.shape[0]-1 and i >= 0 and j <= image.shape[1]-1 and j >= 0:\n",
    "        return True\n",
    "    else:\n",
    "        return False\n",
    "\n",
    "def getNeighborValues(i,j, board):\n",
    "    neighborhood = [(i-1, j), (i, j-1), (i+1, j), (i, j+1)]\n",
    "    \n",
    "    neighbor_values = []\n",
    "    for neighbor in neighborhood:\n",
    "        if onBoard(neighbor[0], neighbor[1], board):\n",
    "            neighbor_values.append(board[neighbor[0], neighbor[1]])\n",
    "    \n",
    "    return neighbor_values"
   ]
  },
  {
   "cell_type": "code",
   "execution_count": null,
   "id": "42398ec3",
   "metadata": {},
   "outputs": [],
   "source": [
    "# your answer here"
   ]
  },
  {
   "cell_type": "markdown",
   "id": "5d906171",
   "metadata": {},
   "source": [
    "### (c) (5 points)\n",
    "\n",
    "&#9989;&nbsp; Copy and paste the working code chunk from Part (a), and run the blurring process with 10 iterations. It might take a couple of **minutes**. In the end, you should get an image that looks a bit like the blurred painting below."
   ]
  },
  {
   "cell_type": "markdown",
   "id": "f1773573",
   "metadata": {},
   "source": [
    "![](blurred-scream.png)"
   ]
  },
  {
   "cell_type": "code",
   "execution_count": null,
   "id": "57da8ee9",
   "metadata": {},
   "outputs": [],
   "source": [
    "# your answer here"
   ]
  },
  {
   "cell_type": "markdown",
   "id": "53da4967",
   "metadata": {},
   "source": [
    "## Part 2: Agent-based Modeling: Exploring the Forest Fire Model (controlled burns and forest regrowth)\n",
    "\n",
    "In this part, we will begin with the code from Forest Fire Day 2 (Day 22 In Class) to learn a bit more about forest fires. The cells below hold that functioning code and one run of the model.\n",
    "\n",
    "We are going to explore the idea of controlled (or prescribed) burns for forest management. Read [this (short) article](https://www.vox.com/science-and-health/2022/6/15/23169428/wildfire-season-controlled-burn-climate) about the origin of prescribed burns and how they are used. Then, begin to work through the coding questions below."
   ]
  },
  {
   "cell_type": "code",
   "execution_count": 1,
   "id": "a34e3287",
   "metadata": {},
   "outputs": [],
   "source": [
    "## Import packages\n",
    "# standard includes\n",
    "import numpy as np\n",
    "import numpy.random as rand\n",
    "%matplotlib inline\n",
    "import matplotlib.pyplot as plt\n",
    "\n",
    "# Next we are going to import some specific libraries we will use to get the animation to work cleanly\n",
    "from IPython.display import display, clear_output\n",
    "import time  "
   ]
  },
  {
   "cell_type": "markdown",
   "id": "c06d8a9e",
   "metadata": {},
   "source": [
    "### Functions for the model (`plotgrid`,`set_board`,`OnBoard`,`getNeighborValues`,`advance_board`,`calc_stats`)\n",
    "\n",
    "You don't need to do anything here except run this cell."
   ]
  },
  {
   "cell_type": "code",
   "execution_count": 3,
   "id": "f82457ff",
   "metadata": {},
   "outputs": [],
   "source": [
    "#############RUN THIS CELL ###################\n",
    "def plotgrid(myarray):\n",
    "    \n",
    "    # First create two vectors based on the x and y sizes of the grid\n",
    "    x_range = np.linspace(0, myarray.shape[1]-1, myarray.shape[1]) \n",
    "    y_range = np.linspace(0, myarray.shape[0]-1, myarray.shape[0])\n",
    "    \n",
    "    # Use the numpy meshgrid function to create two matrices\n",
    "    # of the same size as myarray with x and y indexes\n",
    "    x_indices, y_indices = np.meshgrid(x_range, y_range)\n",
    "    \n",
    "    # Make a list of all the x and y indexes that are either trees or fire.\n",
    "    tree_x = x_indices[myarray == 1];   \n",
    "    tree_y = y_indices[myarray == 1]; \n",
    "    fire_x = x_indices[myarray == 2];   \n",
    "    fire_y = y_indices[myarray == 2]; \n",
    "    \n",
    "    # Plot the trees and fire.\n",
    "    plt.plot(tree_x, myarray.shape[0] - tree_y - 1, 'gs',markersize=10)   \n",
    "    plt.plot(fire_x, myarray.shape[0] - fire_y - 1, 'rs',markersize=10)  \n",
    "    \n",
    "    # Set the x and y limits so we don't cut off the shapes\n",
    "    plt.xlim([-1,myarray.shape[1]])\n",
    "    plt.ylim([-1,myarray.shape[0]]) \n",
    "\n",
    "    # Removing tick marks\n",
    "    plt.tick_params(axis='both', which='both',\n",
    "                    bottom=False, top=False, left=False, right=False,\n",
    "                    labelbottom=False, labelleft=False)\n",
    "def set_board(board_size=50,f_trees_start=0.5):\n",
    "    '''\n",
    "    Creates the initial game board.\n",
    "\n",
    "    Inputs:\n",
    "        board_size: length of one edge of the board\n",
    "        f_trees_start: probability that a given cell is a tree\n",
    "                       (effectively the tree density)\n",
    "\n",
    "    Outputs a 2D numpy array with values set to either 0, 1, or 2\n",
    "        (empty, tree, or fire)\n",
    "    '''\n",
    "    \n",
    "    # all cells initialized to 'empty' (0) by default\n",
    "    game_board = np.zeros((board_size,board_size),dtype='int64')\n",
    "    \n",
    "    # loop over board and roll the dice; if the random number is less\n",
    "    # than f_trees_start, make it a tree.\n",
    "    for i in range(board_size):\n",
    "        for j in range(board_size):\n",
    "            if rand.random() <= f_trees_start:\n",
    "                game_board[i,j] = 1\n",
    "\n",
    "    # set the whole left edge of the board on fire. We're arsonists!\n",
    "    game_board[:,0] = 2\n",
    "    \n",
    "    return game_board\n",
    "\n",
    "def onBoard(i,j,image):\n",
    "    if i <= image.shape[0]-1 and i >= 0 and j <= image.shape[1]-1 and j >= 0:\n",
    "        return True\n",
    "    else:\n",
    "        return False\n",
    "\n",
    "def getNeighborValues(i,j, board):\n",
    "    neighborhood = [(i-1, j), (i, j-1), (i+1, j), (i, j+1)]\n",
    "    \n",
    "    neighbor_values = []\n",
    "    for neighbor in neighborhood:\n",
    "        if onBoard(neighbor[0], neighbor[1], board):\n",
    "            neighbor_values.append(board[neighbor[0], neighbor[1]])\n",
    "    \n",
    "    return neighbor_values\n",
    "\n",
    "def advance_board(game_board):\n",
    "    '''\n",
    "    Advances the game board using the given rules.\n",
    "    Input: the initial game board.\n",
    "    Output: the advanced game board\n",
    "    '''\n",
    "    \n",
    "    # create a new array that's just like the original one, but initially \n",
    "    # set to all zeros (i.e., totally empty)\n",
    "    new_board = np.zeros_like(game_board)\n",
    "    \n",
    "    # loop over each cell in the board and decide what to do.\n",
    "    for i in range(game_board.shape[0]):\n",
    "        for j in range(game_board.shape[1]):\n",
    "    \n",
    "            # if the cell was empty last turn, it's still empty.\n",
    "            # if it was on fire last turn, it's now empty.\n",
    "            if game_board[i,j] == 0 or game_board[i,j] == 2:\n",
    "                new_board[i,j] = 0\n",
    "    \n",
    "            # now, if it's a tree we have to decide what to do.\n",
    "            if game_board[i,j] == 1:\n",
    "                \n",
    "                # initially make it a tree\n",
    "                new_board[i,j] = 1\n",
    "                \n",
    "                # If one of the neighboring cells was on fire last turn, \n",
    "                # this cell is now on fire!\n",
    "                if 2 in getNeighborValues(i,j,game_board):\n",
    "                    new_board[i,j] = 2\n",
    "\n",
    "    # return the new board\n",
    "    return new_board\n",
    "def calc_stats(game_board):\n",
    "    '''\n",
    "    Calculates the fraction of cells on the game board that are \n",
    "    a tree or are empty.\n",
    "    \n",
    "    Input: a game board\n",
    "    \n",
    "    Output: fraction that's empty, fraction that's covered in trees.\n",
    "    '''\n",
    "    \n",
    "    # use numpy to count up the fraction that are empty\n",
    "    frac_empty = (game_board == 0).sum() / game_board.size\n",
    "\n",
    "    # do the same for trees\n",
    "    frac_tree = (game_board == 1).sum() / game_board.size\n",
    "    \n",
    "    # return it!\n",
    "    return frac_empty, frac_tree"
   ]
  },
  {
   "cell_type": "markdown",
   "id": "de0bd3aa",
   "metadata": {},
   "source": [
    "### Run the Model\n",
    "\n",
    "You don't need to do anything here except run the cell and make sure everything works."
   ]
  },
  {
   "cell_type": "code",
   "execution_count": 112,
   "id": "4a250514",
   "metadata": {},
   "outputs": [
    {
     "data": {
      "image/png": "[encoded data removed]",
      "text/plain": [
       "<Figure size 720x720 with 1 Axes>"
      ]
     },
     "metadata": {},
     "output_type": "display_data"
    }
   ],
   "source": [
    "# \n",
    "f_trees_start=0.6\n",
    "board_size = 50\n",
    "\n",
    "#\n",
    "fig = plt.figure(figsize=(10,10))\n",
    "\n",
    "# \n",
    "game_board = set_board(board_size=board_size, f_trees_start=f_trees_start)\n",
    "\n",
    "# \n",
    "plotgrid(game_board)\n",
    "\n",
    "# \n",
    "on_fire = True\n",
    "\n",
    "# \n",
    "while on_fire == True:\n",
    "\n",
    "    # \n",
    "    game_board = advance_board(game_board)\n",
    "    \n",
    "    # \n",
    "    plotgrid(game_board)\n",
    "    time.sleep(0.01)  # \n",
    "    clear_output(wait=True)\n",
    "    display(fig)\n",
    "    fig.clear()\n",
    "\n",
    "    # \n",
    "    frac_empty, frac_trees = calc_stats(game_board)\n",
    "\n",
    "    # \n",
    "    if frac_empty + frac_trees == 1.0:\n",
    "        on_fire = False\n",
    "\n",
    "# \n",
    "plt.close()"
   ]
  },
  {
   "cell_type": "markdown",
   "id": "2b0ec113",
   "metadata": {},
   "source": [
    "### **Question 1 (5 points):** Rewrite `set_board` so it  only sets on fire one random cell\n",
    "\n",
    "Below, is a copy of the `set_board` function. You need to edit the code (in the indicated place) so that the board only sets one random cell on fire instead of the whole first line. To get a random position in x and y, use numpy `rand.randint()` (instead of `rand.random()`). Demonstrate that your code works by using `plotgrid` to plot your `set_board` result."
   ]
  },
  {
   "cell_type": "code",
   "execution_count": null,
   "id": "711561d2",
   "metadata": {},
   "outputs": [],
   "source": [
    "def set_board(board_size=50,f_trees_start=0.5):\n",
    "    '''\n",
    "    Creates the initial game board.\n",
    "\n",
    "    Inputs:\n",
    "        board_size: length of one edge of the board\n",
    "        f_trees_start: probability that a given cell is a tree\n",
    "                       (effectively the tree density)\n",
    "\n",
    "    Outputs a 2D numpy array with values set to either 0, 1, or 2\n",
    "        (empty, tree, or fire)\n",
    "    '''\n",
    "    \n",
    "    # all cells initialized to 'empty' (0) by default\n",
    "    game_board = np.zeros((board_size,board_size),dtype='int64')\n",
    "    \n",
    "    # loop over board and roll the dice; if the random number is less\n",
    "    # than f_trees_start, make it a tree.\n",
    "    for i in range(board_size):\n",
    "        for j in range(board_size):\n",
    "            if rand.random() <= f_trees_start:\n",
    "                game_board[i,j] = 1\n",
    "\n",
    "    # set one random cell to be on fire!\n",
    "    game_board[?,?] = 2\n",
    "    \n",
    "    return game_board"
   ]
  },
  {
   "cell_type": "markdown",
   "id": "d2ed93db",
   "metadata": {},
   "source": [
    "## Question 2 (5 points): Edit the `regrowth` function\n",
    "\n",
    "In the cell below, there is a function defined as `regrowth` that resets random empty cells in the forest to trees by applying what amounts to a chance (or probability) that a tree \"grows\" there (and repeats this process for every location in the forest for a number of years). You are given some code and pseudocode, and your task is to make sure the function takes in the result of a simulation (i.e. the 2D array `game_board` once the fire burns out) as well as the number of years you want the forest to \"grow\" for. Demonstrate that your function works by plotting your original board and then calling the regrowth function and plotting that board. \n",
    "**NOTE:** Take care with bugs in your code!! If your code is behaving oddly, try **restarting your Kernel** and running your cells in order. If you aren't careful with variable naming, you may not be editing the board the way you think you are."
   ]
  },
  {
   "cell_type": "code",
   "execution_count": null,
   "id": "ac42c908",
   "metadata": {},
   "outputs": [],
   "source": [
    "# EDIT ME!\n",
    "def regrowth(game_board,years,fire_flag = True):\n",
    "    q=0\n",
    "    while # Fill in the condition to iterate to a number of years!:\n",
    "        for i in range(game_board.shape[0]):\n",
    "            for j in range(game_board.shape[1]):\n",
    "                # if the cell on the board is empty, there's a chance a new tree will spawn\n",
    "                if game_board[i,j] == 0:\n",
    "                        if rand.random() <= 0.01:\n",
    "                            game_board[i,j] = 1\n",
    "                        else:\n",
    "                            game_board[i,j] = 0\n",
    "\n",
    "                # if it's a tree, it stays a tree.\n",
    "                if game_board[i,j] == 1:\n",
    "                    # Edit me!!\n",
    "        q+=1\n",
    "        if fire_flag == True:\n",
    "            # set one random cell to be on fire!\n",
    "\n",
    "    \n",
    "    return game_board"
   ]
  },
  {
   "cell_type": "markdown",
   "id": "a561e28d",
   "metadata": {},
   "source": [
    "### Question 3 (7 points): How any years (i.e. iterations of regrowth) does it take for the forest to return to its original tree fraction?\n",
    "\n",
    "Using the various functions, write code that uses the `regrowth` function for as many years as it takes for the forest/game_board to return to the original `f_trees_start` of 0.6.\n",
    "\n",
    "For full credit, try multiple different starting boards from the original model to learn more about how consistent your result for number of years is."
   ]
  },
  {
   "cell_type": "code",
   "execution_count": 103,
   "id": "c439e5e6",
   "metadata": {},
   "outputs": [],
   "source": [
    "# put your code here"
   ]
  },
  {
   "cell_type": "markdown",
   "id": "3f577ddf",
   "metadata": {},
   "source": [
    "### Question 4 (8 points): Independent Research\n",
    "\n",
    "For this assignment, we gave gave you a \"rate\" of regrowth to use. Do some internet research (and cite your sources) to learn more about prescribed burns and determine how many years it typically takes a forest to recover after a prescribed/controlled burn. \n",
    "\n",
    "Then, try some different rates in your `regrowth` function to see what effect rate has on your conclusions from Question 3. What do you observe?\n",
    "\n",
    "For full credit on this problem, you must write 3-5 sentences summarizing the results of your interenet research to justify your answer for the number of years it takes a forest to recover **as well as** writing some code to explore the different rates."
   ]
  },
  {
   "cell_type": "markdown",
   "id": "0d07f97f",
   "metadata": {},
   "source": [
    "<font size=6 color=\"#009600\">&#9998;</font> *Put your text here*"
   ]
  },
  {
   "cell_type": "code",
   "execution_count": null,
   "id": "fcaf6d67",
   "metadata": {},
   "outputs": [],
   "source": [
    "# put any code here"
   ]
  },
  {
   "cell_type": "markdown",
   "id": "a242a14d",
   "metadata": {},
   "source": [
    "## Assignment instructions\n",
    "\n",
    "Work through the following assignment, making sure to follow all of the directions and answer all of the questions.\n",
    "\n",
    "**This assignment is due at 11:59 p.m. on Friday, Dec 9.** It should be uploaded into the \"Homework Assignments\" dropbox folder for Homework #5.  Submission instructions can be found at the end of the notebook."
   ]
  },
  {
   "cell_type": "code",
   "execution_count": null,
   "id": "ed941f10",
   "metadata": {},
   "outputs": [],
   "source": []
  }
 ],
 "metadata": {
  "kernelspec": {
   "display_name": "Python 3 (ipykernel)",
   "language": "python",
   "name": "python3"
  },
  "language_info": {
   "codemirror_mode": {
    "name": "ipython",
    "version": 3
   },
   "file_extension": ".py",
   "mimetype": "text/x-python",
   "name": "python",
   "nbconvert_exporter": "python",
   "pygments_lexer": "ipython3",
   "version": "3.9.12"
  }
 },
 "nbformat": 4,
 "nbformat_minor": 5
}
