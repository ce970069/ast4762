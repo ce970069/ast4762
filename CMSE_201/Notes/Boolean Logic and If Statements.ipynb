{
 "cells": [
  {
   "cell_type": "code",
   "execution_count": 1,
   "id": "20e84cb2",
   "metadata": {},
   "outputs": [],
   "source": [
    "#is a equal to b? a ==b\n",
    "#is a not equal to b? a!=b\n",
    "#is a greater than b? a > b\n",
    "#is a less than b? a < b\n",
    "#is a greater than or equal to b? a >= b\n",
    "#is a less than or equal to b? a <= b"
   ]
  },
  {
   "cell_type": "code",
   "execution_count": 2,
   "id": "263497fa",
   "metadata": {},
   "outputs": [
    {
     "data": {
      "text/plain": [
       "False"
      ]
     },
     "execution_count": 2,
     "metadata": {},
     "output_type": "execute_result"
    }
   ],
   "source": [
    "a = 17\n",
    "b = 23\n",
    "\n",
    "a == b #boolean logic is false\n",
    "a > b #boolean logic is false\n",
    "a < b #boolean logical is true"
   ]
  },
  {
   "cell_type": "code",
   "execution_count": 4,
   "id": "595f442c",
   "metadata": {},
   "outputs": [
    {
     "data": {
      "text/plain": [
       "True"
      ]
     },
     "execution_count": 4,
     "metadata": {},
     "output_type": "execute_result"
    }
   ],
   "source": [
    "b = 17\n",
    "c = 'cat'\n",
    "d = 'dog'\n",
    "\n",
    "c == d #false\n",
    "c != d #true"
   ]
  },
  {
   "cell_type": "code",
   "execution_count": 8,
   "id": "ea16e7c8",
   "metadata": {},
   "outputs": [
    {
     "name": "stdout",
     "output_type": "stream",
     "text": [
      "a does not equal b\n",
      "a is less than b\n"
     ]
    }
   ],
   "source": [
    "a = 18\n",
    "b = 27\n",
    "\n",
    "if a == b:\n",
    "    print(\"a equals b\")\n",
    "    \n",
    "if a != b:\n",
    "    print(\"a does not equal b\")\n",
    "\n",
    "if a < b:\n",
    "    print(\"a is less than b\")\n",
    "    \n",
    "if a > b:\n",
    "    print(\"a is greater than b\")"
   ]
  },
  {
   "cell_type": "code",
   "execution_count": 10,
   "id": "56587e37",
   "metadata": {},
   "outputs": [
    {
     "name": "stdout",
     "output_type": "stream",
     "text": [
      "a greater than b\n",
      "a is huge\n"
     ]
    }
   ],
   "source": [
    "a = 30\n",
    "b = 17\n",
    "\n",
    "if a > b:\n",
    "    print('a greater than b')\n",
    "    \n",
    "    if a <= 25:\n",
    "        print('a is less than or equal to 25')\n",
    "        \n",
    "    if a > 25:\n",
    "        print('a is huge')"
   ]
  },
  {
   "cell_type": "code",
   "execution_count": 13,
   "id": "e1a3db5b",
   "metadata": {},
   "outputs": [
    {
     "name": "stdout",
     "output_type": "stream",
     "text": [
      "one or more things are true\n"
     ]
    }
   ],
   "source": [
    "a = 51\n",
    "b = 15\n",
    "\n",
    "if a < 50 and b > 10: #must satisfy both statements\n",
    "    print('lots of things are true')\n",
    "    \n",
    "if a < 50 or b > 10: #must satisfy at least one statement\n",
    "    print('one or more things are true')"
   ]
  },
  {
   "cell_type": "markdown",
   "id": "f61c8786",
   "metadata": {},
   "source": [
    "What have we learned?\n",
    "\n",
    "* Boolean logic tells us if expression are true or flase\n",
    "* We can use the 'if' statement to evalute expressions and act on that\n",
    "* We can combine multiple expressions together in an if statement to make very complex comparisions and decisions"
   ]
  }
 ],
 "metadata": {
  "kernelspec": {
   "display_name": "Python 3 (ipykernel)",
   "language": "python",
   "name": "python3"
  },
  "language_info": {
   "codemirror_mode": {
    "name": "ipython",
    "version": 3
   },
   "file_extension": ".py",
   "mimetype": "text/x-python",
   "name": "python",
   "nbconvert_exporter": "python",
   "pygments_lexer": "ipython3",
   "version": "3.9.12"
  }
 },
 "nbformat": 4,
 "nbformat_minor": 5
}
