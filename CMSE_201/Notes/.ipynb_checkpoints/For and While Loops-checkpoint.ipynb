{
 "cells": [
  {
   "cell_type": "code",
   "execution_count": 1,
   "id": "e546d879",
   "metadata": {},
   "outputs": [
    {
     "name": "stdout",
     "output_type": "stream",
     "text": [
      "0\n",
      "1\n",
      "2\n",
      "3\n",
      "4\n",
      "5\n",
      "6\n",
      "7\n",
      "8\n",
      "9\n"
     ]
    }
   ],
   "source": [
    "for i in range(10): #zero to one less than 10, 0-9\n",
    "    print(i)\n",
    "for i in range(-2,10,3): #going from -2 to 10 in steps of three\n",
    "    print(i)    "
   ]
  },
  {
   "cell_type": "code",
   "execution_count": 3,
   "id": "e76ad883",
   "metadata": {},
   "outputs": [
    {
     "name": "stdout",
     "output_type": "stream",
     "text": [
      "2 2\n",
      "4 6\n",
      "6 12\n",
      "8 20\n",
      "10 30\n",
      "12 42\n",
      "14 56\n",
      "16 72\n"
     ]
    }
   ],
   "source": [
    "count_up = 0\n",
    "for i in range (2,17,2):\n",
    "    count_up = count_up + i #or count_up += i or add i to countup\n",
    "    print (i, count_up)\n"
   ]
  },
  {
   "cell_type": "code",
   "execution_count": 12,
   "id": "4c56d002",
   "metadata": {},
   "outputs": [
    {
     "name": "stdout",
     "output_type": "stream",
     "text": [
      "1 1\n",
      "6 7\n",
      "2 9\n",
      "19 28\n",
      "-4 24\n",
      "27 51\n",
      "3 54\n"
     ]
    }
   ],
   "source": [
    "mylist = [1,6,2,19,-4,27,3]\n",
    "\n",
    "accumulate = 0\n",
    "\n",
    "for val in mylist: #prints each value in order of the list\n",
    "    accumulate += val\n",
    "    print(val, accumulate)\n",
    "    "
   ]
  },
  {
   "cell_type": "code",
   "execution_count": 8,
   "id": "5fa93bb7",
   "metadata": {},
   "outputs": [
    {
     "name": "stdout",
     "output_type": "stream",
     "text": [
      "[ 0  1  2  3  4  5  6  7  8  9 10 11 12 13 14]\n",
      "0 2 2\n",
      "1 3 4\n",
      "2 4 6\n",
      "3 5 8\n",
      "4 6 10\n",
      "5 7 12\n",
      "6 8 14\n",
      "7 9 16\n",
      "8 10 18\n",
      "9 11 20\n",
      "10 12 22\n",
      "11 13 24\n",
      "12 14 26\n",
      "13 15 28\n",
      "14 16 30\n"
     ]
    }
   ],
   "source": [
    "import numpy as np\n",
    "my_array = np.arange(15)\n",
    "array_2 = np.arange(2,17,1)\n",
    "print(my_array)\n",
    "\n",
    "for val1, val2 in np.nditer([my_array, array_2]): #we are not using this shit\n",
    "    print(val1, val2, val1 + val2) #first list, second list, the addition of both lists"
   ]
  },
  {
   "cell_type": "code",
   "execution_count": 10,
   "id": "a6373526",
   "metadata": {},
   "outputs": [
    {
     "name": "stdout",
     "output_type": "stream",
     "text": [
      "-3.0\n",
      "-1.5\n",
      "0.0\n",
      "1.5\n",
      "3.0\n",
      "4.5\n",
      "6.0\n",
      "7.5\n",
      "9.0\n",
      "after the loop, x = 10.5\n"
     ]
    }
   ],
   "source": [
    "x = -3.0\n",
    "\n",
    "while x < 9.3:\n",
    "    print(x)\n",
    "    x += 1.5 #this is equivalent to x = x + 1.5\n",
    "    \n",
    "print(\"after the loop, x =\", x)    "
   ]
  },
  {
   "cell_type": "markdown",
   "id": "a5cae78d",
   "metadata": {},
   "source": [
    "Summary:\n",
    "\n",
    "1. Loops are one way that a computer program does a bunch of things over and over again\n",
    "2. For loops: loop over a range, a list, or an array (nditer in numpy)\n",
    "3. While loops: go until some condition is met\n",
    "4. Choose for vs. while for looping depending on circumstance"
   ]
  }
 ],
 "metadata": {
  "kernelspec": {
   "display_name": "Python 3 (ipykernel)",
   "language": "python",
   "name": "python3"
  },
  "language_info": {
   "codemirror_mode": {
    "name": "ipython",
    "version": 3
   },
   "file_extension": ".py",
   "mimetype": "text/x-python",
   "name": "python",
   "nbconvert_exporter": "python",
   "pygments_lexer": "ipython3",
   "version": "3.9.12"
  }
 },
 "nbformat": 4,
 "nbformat_minor": 5
}
