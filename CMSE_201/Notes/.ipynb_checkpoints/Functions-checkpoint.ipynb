{
 "cells": [
  {
   "cell_type": "markdown",
   "id": "feda4c1e",
   "metadata": {},
   "source": [
    "pre-existing functions:\n",
    "\n",
    "* print() \n",
    "* many mathematical functions ie cos(), sin(), sqrt(), abs()\n",
    "* range () in for loops"
   ]
  },
  {
   "cell_type": "code",
   "execution_count": 1,
   "id": "358e89b8",
   "metadata": {},
   "outputs": [
    {
     "name": "stdout",
     "output_type": "stream",
     "text": [
      "10.0\n"
     ]
    }
   ],
   "source": [
    "#our own functions\n",
    "\n",
    "def double_it(number):\n",
    "    new_number = 2.0 * number\n",
    "    return new_number\n",
    "\n",
    "num = 5.0\n",
    "new_num = double_it(num)\n",
    "print(new_num)"
   ]
  },
  {
   "cell_type": "code",
   "execution_count": 5,
   "id": "6492a975",
   "metadata": {},
   "outputs": [
    {
     "name": "stdout",
     "output_type": "stream",
     "text": [
      "6 15.0 28\n"
     ]
    }
   ],
   "source": [
    "def multiply_them(number1, number2, number3):\n",
    "    new_number1 = number1 * 2\n",
    "    new_number2 = number2 * 3\n",
    "    new_number3 = number3 * 4\n",
    "    return new_number1, new_number2, new_number3\n",
    "\n",
    "num1 = 3\n",
    "num2 = 5.0\n",
    "num3 = 7\n",
    "\n",
    "new_num1, new_num2, new_num3 = multiply_them(num1, num2, num3)\n",
    "\n",
    "print(new_num1, new_num2, new_num3)"
   ]
  },
  {
   "cell_type": "code",
   "execution_count": 1,
   "id": "86f2969f",
   "metadata": {},
   "outputs": [
    {
     "name": "stdout",
     "output_type": "stream",
     "text": [
      "num1 is 3\n",
      "8\n"
     ]
    }
   ],
   "source": [
    "def simple_addition(num1, num2):\n",
    "    answer = num1 + num2\n",
    "    print('num1 is',num1)\n",
    "    print(answer)\n",
    "    \n",
    "simple_addition(3,5) #or you can write simple_addition(num1=5, num2=3)"
   ]
  },
  {
   "cell_type": "code",
   "execution_count": null,
   "id": "eb1ce9fc",
   "metadata": {},
   "outputs": [],
   "source": [
    "#the number of outputs must match the number of inputs in the function\n",
    "#an exception is if one of the varaibles is predefined\n",
    "\n",
    "def simple(num1,num2=5):\n",
    "    print(num1,num2)\n",
    "simple(2)"
   ]
  },
  {
   "cell_type": "code",
   "execution_count": 2,
   "id": "c368e698",
   "metadata": {},
   "outputs": [
    {
     "name": "stdout",
     "output_type": "stream",
     "text": [
      "500 350 TNR w\n"
     ]
    }
   ],
   "source": [
    "def basic_window(width, height, font='TNR',\n",
    "                bgc='w',scrollbar=True):\n",
    "    print(width, height, font, bgc)\n",
    "    \n",
    "basic_window(500,350) #defining width and heigth"
   ]
  },
  {
   "cell_type": "code",
   "execution_count": 4,
   "id": "f0afec71",
   "metadata": {},
   "outputs": [
    {
     "name": "stdout",
     "output_type": "stream",
     "text": [
      "500 350 TNR b\n"
     ]
    }
   ],
   "source": [
    "def basic_window(width, height, font='TNR',\n",
    "                bgc='w',scrollbar=True):\n",
    "    print(width, height, font, bgc)\n",
    "    \n",
    "basic_window(500,350, bgc='b') #defining width and heigth"
   ]
  },
  {
   "cell_type": "code",
   "execution_count": null,
   "id": "7e228332",
   "metadata": {},
   "outputs": [],
   "source": []
  }
 ],
 "metadata": {
  "kernelspec": {
   "display_name": "Python 3 (ipykernel)",
   "language": "python",
   "name": "python3"
  },
  "language_info": {
   "codemirror_mode": {
    "name": "ipython",
    "version": 3
   },
   "file_extension": ".py",
   "mimetype": "text/x-python",
   "name": "python",
   "nbconvert_exporter": "python",
   "pygments_lexer": "ipython3",
   "version": "3.9.12"
  }
 },
 "nbformat": 4,
 "nbformat_minor": 5
}
