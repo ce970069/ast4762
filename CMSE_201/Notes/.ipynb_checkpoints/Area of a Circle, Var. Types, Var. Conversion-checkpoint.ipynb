{
 "cells": [
  {
   "cell_type": "code",
   "execution_count": 1,
   "id": "c7642416",
   "metadata": {},
   "outputs": [
    {
     "name": "stdout",
     "output_type": "stream",
     "text": [
      "the area of the circle is  12.56636 and the radius is  2.0\n"
     ]
    }
   ],
   "source": [
    "#calculating the area of a circle\n",
    "\n",
    "radius = 2.0  #this is a statement\n",
    "pi = 3.14159  #value of pi\n",
    "\n",
    "area = pi * radius**2  #the power function is written as **\n",
    "\n",
    "print(\"the area of the circle is \", area, \"and the radius is \", radius)"
   ]
  },
  {
   "cell_type": "code",
   "execution_count": 2,
   "id": "eac49c3b",
   "metadata": {},
   "outputs": [
    {
     "name": "stdout",
     "output_type": "stream",
     "text": [
      "2 2.0\n"
     ]
    },
    {
     "data": {
      "text/plain": [
       "int"
      ]
     },
     "execution_count": 2,
     "metadata": {},
     "output_type": "execute_result"
    }
   ],
   "source": [
    "#variable types\n",
    "#variable = memory location that stores values\n",
    "#numbers = integers or real ('floating point')\n",
    "\n",
    "a = 2 #integer\n",
    "b = 2.0 #floating point number\n",
    "print(a,b)\n",
    "type(a) #this will tell you if the variable is an integer or floating point\n",
    "\n",
    "#python will turn integers into a floating point if it is mathematically manipulated with another floating"
   ]
  },
  {
   "cell_type": "code",
   "execution_count": 3,
   "id": "c9c3cbb1",
   "metadata": {},
   "outputs": [
    {
     "name": "stdout",
     "output_type": "stream",
     "text": [
      "monkey rhinoceros\n",
      "monkeyrhinoceros\n",
      "m\n",
      "m n e\n"
     ]
    }
   ],
   "source": [
    "#string = list of characters\n",
    "\n",
    "d = \"monkey\"\n",
    "e = 'rhinoceros'\n",
    "print(d,e)\n",
    "\n",
    "f = d + e #concatenated two string variables\n",
    "print(f)\n",
    "\n",
    "3*d #printing monkey three times\n",
    "3*d + e #printing monkey three times then rhinoceros\n",
    "\n",
    "d[0] #gives the first character of the string monkey from 0-5\n",
    "first_character = d[0]\n",
    "print(first_character)\n",
    "\n",
    "print(d[0],d[2],d[4]) #this eliminates needing to define variables"
   ]
  },
  {
   "cell_type": "code",
   "execution_count": 6,
   "id": "5cc8b2f1",
   "metadata": {},
   "outputs": [
    {
     "data": {
      "text/plain": [
       "123.456"
      ]
     },
     "execution_count": 6,
     "metadata": {},
     "output_type": "execute_result"
    }
   ],
   "source": [
    "#converting variables\n",
    "\n",
    "a = 1 #integer\n",
    "b = 2.0 #floating-point\n",
    "c = \"bee\" #string\n",
    "\n",
    "str(a)\n",
    "\n",
    "d = str(a) #string version of a\n",
    "type(d) #shows that it is now a string\n",
    "\n",
    "c + d #addition of the two strings 'bee' and '1'\n",
    "\n",
    "#you cannot turn word strings into integers but you can turn number strings into int or float\n",
    "new_string = '512'\n",
    "int(new_string) #converting the number string into an integer\n",
    "\n",
    "newer_string = '123.456'\n",
    "float(newer_string) #number the number string into a floating number"
   ]
  },
  {
   "cell_type": "markdown",
   "id": "f224fb8d",
   "metadata": {},
   "source": [
    "Summary:\n",
    "\n",
    "1. Python = many data types. Two datat types are numbers and strings\n",
    "2. Numbers = integers or floating point numbers\n",
    "3. Strings = lists of characters. Can concatenate, repeat, and access individual characters.\n",
    "4. Change variables between types, but only if it makes sense (strings can only convert to numbers if they are a number and not a word)."
   ]
  },
  {
   "cell_type": "code",
   "execution_count": null,
   "id": "14413f57",
   "metadata": {},
   "outputs": [],
   "source": [
    "# order-of-magnitude modeling\n",
    "# give quick estimates to questions and can be used to check more complex models\n",
    "\n"
   ]
  }
 ],
 "metadata": {
  "kernelspec": {
   "display_name": "Python 3 (ipykernel)",
   "language": "python",
   "name": "python3"
  },
  "language_info": {
   "codemirror_mode": {
    "name": "ipython",
    "version": 3
   },
   "file_extension": ".py",
   "mimetype": "text/x-python",
   "name": "python",
   "nbconvert_exporter": "python",
   "pygments_lexer": "ipython3",
   "version": "3.9.12"
  }
 },
 "nbformat": 4,
 "nbformat_minor": 5
}
