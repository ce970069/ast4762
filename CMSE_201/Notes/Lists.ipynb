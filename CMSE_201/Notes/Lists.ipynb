{
 "cells": [
  {
   "cell_type": "code",
   "execution_count": 7,
   "id": "d0c58d30",
   "metadata": {},
   "outputs": [
    {
     "name": "stdout",
     "output_type": "stream",
     "text": [
      "[1, 3, 5, 7, 9]\n",
      "[2, 4.0, 'six']\n",
      "[2, 'five', 'six']\n",
      "[2, 'five', 'six', 8.0]\n",
      "[[2, 4, 6], [1, 3, 5]]\n"
     ]
    }
   ],
   "source": [
    "mylist = [1,3,5,7,9] \n",
    "type(mylist) #type tells you the type of data \n",
    "print(mylist)\n",
    "\n",
    "mynewlist = [2, 4.0, 'six']\n",
    "print(mynewlist)\n",
    "\n",
    "mynewlist[0]\n",
    "type(mynewlist[0])\n",
    "\n",
    "#to change the data types in the list\n",
    "mynewlist[1] = 'five'\n",
    "print(mynewlist)\n",
    "\n",
    "#built-in method called append to add to the end of the list\n",
    "mynewlist.append(8.0)\n",
    "print(mynewlist)\n",
    "\n",
    "#to find out how many items there are in the list\n",
    "len(mynewlist)\n",
    "\n",
    "#list made of other lists\n",
    "a = [2,4,6]\n",
    "b = [1,3,5]\n",
    "c = [a,b]\n",
    "print(c)\n",
    "\n",
    "c[1] #what is the second item of the list\n",
    "c[1][2] #the second item in the first item\n",
    "c[1][2] = 'five' #changing the second item in the first item"
   ]
  },
  {
   "cell_type": "markdown",
   "id": "6d8c9298",
   "metadata": {},
   "source": [
    "Summary:\n",
    "\n",
    "1. Lists are compound data types (groups of other values)\n",
    "2. Usually of a single type, but they can be multiple types\n",
    "3. Can modify individual elements in a list, and add to a list or modify it using built-in methods\n",
    "4. Append is one of the built-in methods\n",
    "5. Make lists of lists, and modify individual items in there as well"
   ]
  }
 ],
 "metadata": {
  "kernelspec": {
   "display_name": "Python 3 (ipykernel)",
   "language": "python",
   "name": "python3"
  },
  "language_info": {
   "codemirror_mode": {
    "name": "ipython",
    "version": 3
   },
   "file_extension": ".py",
   "mimetype": "text/x-python",
   "name": "python",
   "nbconvert_exporter": "python",
   "pygments_lexer": "ipython3",
   "version": "3.9.12"
  }
 },
 "nbformat": 4,
 "nbformat_minor": 5
}
