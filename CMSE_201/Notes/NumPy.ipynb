{
 "cells": [
  {
   "cell_type": "code",
   "execution_count": 2,
   "id": "07323aa9",
   "metadata": {},
   "outputs": [
    {
     "data": {
      "text/plain": [
       "[0, 1, 2, 3, 4]"
      ]
     },
     "execution_count": 2,
     "metadata": {},
     "output_type": "execute_result"
    }
   ],
   "source": [
    "import numpy as np #importing numpy and calling it np\n",
    "ary = np.array([])\n",
    "\n",
    "lst = []\n",
    "\n",
    "for i in range(5):\n",
    "    lst.append(i)\n",
    "lst"
   ]
  },
  {
   "cell_type": "code",
   "execution_count": 3,
   "id": "d8cf2a17",
   "metadata": {},
   "outputs": [
    {
     "data": {
      "text/plain": [
       "array([0.])"
      ]
     },
     "execution_count": 3,
     "metadata": {},
     "output_type": "execute_result"
    }
   ],
   "source": [
    "#numpy has its own append function\n",
    "np.append(ary, 0) #which list, what to append and makes a new array\n",
    "\n",
    "for i in range(5):\n",
    "    ary = np.append(ary, i) #equal to the list with the append\n",
    "    \n",
    "#indexing is the same for arrays and lists"
   ]
  },
  {
   "cell_type": "code",
   "execution_count": 6,
   "id": "5c3cbc86",
   "metadata": {},
   "outputs": [
    {
     "data": {
      "text/plain": [
       "[32.0, 33.8, 35.6, 37.4, 39.2]"
      ]
     },
     "execution_count": 6,
     "metadata": {},
     "output_type": "execute_result"
    }
   ],
   "source": [
    "fahrenheit = []\n",
    "for i in range(len(lst)):\n",
    "    this_temperature = lst[i]\n",
    "    new_temperature = this_temperature * 9/5 + 32\n",
    "    fahrenheit.append(new_temperature)\n",
    "fahrenheit"
   ]
  },
  {
   "cell_type": "code",
   "execution_count": 7,
   "id": "b840b91b",
   "metadata": {},
   "outputs": [
    {
     "data": {
      "text/plain": [
       "array([], dtype=float64)"
      ]
     },
     "execution_count": 7,
     "metadata": {},
     "output_type": "execute_result"
    }
   ],
   "source": [
    "ary * 9/5 + 32 #arrays are so much simpler to manipulate with numpy"
   ]
  },
  {
   "cell_type": "code",
   "execution_count": null,
   "id": "b426fc53",
   "metadata": {},
   "outputs": [],
   "source": [
    "lst * 2 #duplicates the list rather than mutltiplies them by 2\n",
    "ary_3.sum() #sum total\n",
    "ary_3.max() #max value\n",
    "ary_3.min() #min value\n",
    "ary_3.Std() #standard deviation\n",
    "ary_3.mean() #mean value\n"
   ]
  }
 ],
 "metadata": {
  "kernelspec": {
   "display_name": "Python 3 (ipykernel)",
   "language": "python",
   "name": "python3"
  },
  "language_info": {
   "codemirror_mode": {
    "name": "ipython",
    "version": 3
   },
   "file_extension": ".py",
   "mimetype": "text/x-python",
   "name": "python",
   "nbconvert_exporter": "python",
   "pygments_lexer": "ipython3",
   "version": "3.9.12"
  }
 },
 "nbformat": 4,
 "nbformat_minor": 5
}
