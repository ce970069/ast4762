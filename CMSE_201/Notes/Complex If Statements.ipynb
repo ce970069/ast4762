{
 "cells": [
  {
   "cell_type": "code",
   "execution_count": 1,
   "id": "df00843b",
   "metadata": {},
   "outputs": [
    {
     "name": "stdout",
     "output_type": "stream",
     "text": [
      "x greater than or equal to -2\n"
     ]
    }
   ],
   "source": [
    "x = 3\n",
    "\n",
    "if x < -2:\n",
    "    print('x less than -2')\n",
    "else:\n",
    "    print('x greater than or equal to -2')"
   ]
  },
  {
   "cell_type": "code",
   "execution_count": 2,
   "id": "b2d84044",
   "metadata": {},
   "outputs": [
    {
     "name": "stdout",
     "output_type": "stream",
     "text": [
      "x is between -10 and -2, inclusive\n"
     ]
    }
   ],
   "source": [
    "x = -9\n",
    "\n",
    "if x >= -10 and x <= -2:\n",
    "    print('x is between -10 and -2, inclusive')\n",
    "else:\n",
    "    print('x is another number', x)\n"
   ]
  },
  {
   "cell_type": "code",
   "execution_count": 7,
   "id": "75ae2b93",
   "metadata": {},
   "outputs": [
    {
     "name": "stdout",
     "output_type": "stream",
     "text": [
      "woof\n",
      "meow\n",
      "i like cheese\n",
      "youre extinct\n",
      "you dont belong in my house\n",
      "woof\n",
      "meow\n"
     ]
    }
   ],
   "source": [
    "animals = ['dog', 'cat', 'mouse', 'velociraptor', 'snake', 'Dog', 'Cat']\n",
    "for animal in animals:\n",
    "    if animal == 'dog' or animal == 'Dog':\n",
    "        print('woof')\n",
    "    elif animal == 'cat' or animal == 'Cat':\n",
    "        print('meow')\n",
    "    elif animal == 'mouse':\n",
    "        print('i like cheese')\n",
    "    elif animal == 'velociraptor':\n",
    "        print('youre extinct')\n",
    "    else:\n",
    "        print('you dont belong in my house')"
   ]
  },
  {
   "cell_type": "code",
   "execution_count": null,
   "id": "b2292387",
   "metadata": {},
   "outputs": [],
   "source": []
  }
 ],
 "metadata": {
  "kernelspec": {
   "display_name": "Python 3 (ipykernel)",
   "language": "python",
   "name": "python3"
  },
  "language_info": {
   "codemirror_mode": {
    "name": "ipython",
    "version": 3
   },
   "file_extension": ".py",
   "mimetype": "text/x-python",
   "name": "python",
   "nbconvert_exporter": "python",
   "pygments_lexer": "ipython3",
   "version": "3.9.12"
  }
 },
 "nbformat": 4,
 "nbformat_minor": 5
}
