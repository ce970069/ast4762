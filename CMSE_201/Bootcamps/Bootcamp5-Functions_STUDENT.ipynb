{
 "cells": [
  {
   "cell_type": "markdown",
   "metadata": {
    "id": "EOSsTDE7OrkB"
   },
   "source": [
    "# Bootcamp 5: Functions\n",
    "\n",
    "This notebook includes practice with functions!\n",
    "\n",
    "Functions are great for accomplishing repeated tasks and can be transferred between assignments. Be careful about how you use variables inside and outside of functions!"
   ]
  },
  {
   "cell_type": "markdown",
   "metadata": {
    "id": "7sD8iBy13b4D"
   },
   "source": [
    "## Task"
   ]
  },
  {
   "cell_type": "code",
   "execution_count": 1,
   "metadata": {
    "id": "IAP4AOPHOkdo"
   },
   "outputs": [
    {
     "name": "stdout",
     "output_type": "stream",
     "text": [
      "My favorite animal is a/n frog\n"
     ]
    }
   ],
   "source": [
    "def my_favorite_animal(animal):\n",
    "    print('My favorite animal is a/n',animal)\n",
    "\n",
    "# What is the output of this function? output is the str \"my favorite name is a/n animal\", where animal is defined\n",
    "# How would you call this function to run it? you would write something like: my_favorite_animal(\"frog\")\n",
    "\n",
    "my_favorite_animal('frog')"
   ]
  },
  {
   "cell_type": "markdown",
   "metadata": {
    "id": "a7lYFnTb3W-J"
   },
   "source": [
    "## Task\n"
   ]
  },
  {
   "cell_type": "code",
   "execution_count": 2,
   "metadata": {
    "id": "ASqEC3mlwMYx"
   },
   "outputs": [
    {
     "data": {
      "text/plain": [
       "5"
      ]
     },
     "execution_count": 2,
     "metadata": {},
     "output_type": "execute_result"
    }
   ],
   "source": [
    "def addition(num1,num2):\n",
    "    return num1+num2\n",
    "\n",
    "# What is the output of this function? the output of the function is the sum of the two numbers\n",
    "# How would you call this function to run it? you would write something like: addition(2,3)\n",
    "# How would you save the output to a variable? you would write something like: x = addition(2,3)\n",
    "\n",
    "x = addition(2,3)\n",
    "x"
   ]
  },
  {
   "cell_type": "markdown",
   "metadata": {
    "id": "ZlNJCMRXw84M"
   },
   "source": [
    "## Task\n",
    "\n",
    "Write a function that takes in an array of x-values, a slope, m, and an intercept, b, and returns the equation m*x+b. Test your work by calling the function! Make sure to comment your code.\n",
    "\n",
    "For extra fun, save your results to variables and try making a plot!"
   ]
  },
  {
   "cell_type": "code",
   "execution_count": 3,
   "metadata": {
    "id": "AB74SaePw1Rc"
   },
   "outputs": [
    {
     "data": {
      "text/plain": [
       "[<matplotlib.lines.Line2D at 0x2462023f340>]"
      ]
     },
     "execution_count": 3,
     "metadata": {},
     "output_type": "execute_result"
    },
    {
     "data": {
      "image/png": "[encoded data removed]",
      "text/plain": [
       "<Figure size 432x288 with 1 Axes>"
      ]
     },
     "metadata": {
      "needs_background": "light"
     },
     "output_type": "display_data"
    }
   ],
   "source": [
    "# Put your pseudocode and code here\n",
    "import matplotlib.pyplot as plt\n",
    "import numpy as np\n",
    "import math\n",
    "%matplotlib inline\n",
    "\n",
    "def slope_intercept_form(xvals,m,b):\n",
    "    return (m*xvals + b)\n",
    "\n",
    "x = np.array([1,2,3])\n",
    "y = np. array(slope_intercept_form(x,3,0))\n",
    "\n",
    "plt.plot(x, y)"
   ]
  },
  {
   "cell_type": "markdown",
   "metadata": {
    "id": "HnDVUAGj0TvY"
   },
   "source": [
    "## Task\n",
    "\n",
    "Write a function that takes in an array of x values and returns the equation a*x^3 + b*x^2 + c*x + d\n",
    "\n",
    "Write a second function that take in x and y values and plots the results.\n",
    "\n",
    "Create a plot that contains at least 3 different lines using your two functions."
   ]
  },
  {
   "cell_type": "code",
   "execution_count": 9,
   "metadata": {
    "id": "wImX9uKgzjsX"
   },
   "outputs": [
    {
     "data": {
      "image/png": "[encoded data removed]",
      "text/plain": [
       "<Figure size 432x288 with 1 Axes>"
      ]
     },
     "metadata": {
      "needs_background": "light"
     },
     "output_type": "display_data"
    }
   ],
   "source": [
    "# put your code and pseudocode here\n",
    "\n",
    "x_values = np.arange(0,5,0.1)\n",
    "\n",
    "def equation(xvals,a,b,c,d):\n",
    "    for i in range(len(xvals)):\n",
    "        y = a*xvals**3+b*xvals**2+c*xvals+d\n",
    "        return y   \n",
    "    \n",
    "def plot(x,y):\n",
    "    plt.plot(x,y)\n",
    "\n",
    "y_values = equation(x_values,4,2,5,17)\n",
    "plot(x_values, y_values)"
   ]
  },
  {
   "cell_type": "markdown",
   "metadata": {
    "id": "YKMM4RRW3xld"
   },
   "source": [
    "## Task\n",
    "\n",
    "Write a function that takes in an array of values, calculates their sum, mean, and median, and returns the absolute value of the difference between the mean and median. Test your code by calling the function. Make sure to comment your code!"
   ]
  },
  {
   "cell_type": "code",
   "execution_count": 15,
   "metadata": {
    "id": "QQuiiy-O1ryu"
   },
   "outputs": [
    {
     "name": "stdout",
     "output_type": "stream",
     "text": [
      "the sum of the data is:  9950.0\n",
      "the mean of the data is:  49.75\n",
      "the median of the data is:  49.75\n",
      "the difference between the mean and the median is:  0.0\n"
     ]
    }
   ],
   "source": [
    "# Put your pseudocode and code here\n",
    "random_distribution = np.random.wald(200,500,size=1000)\n",
    "\n",
    "x_values = np.arange(0,100,0.5) #creating the array of values\n",
    "\n",
    "def function(x): #naming the function\n",
    "    print(\"the sum of the data is: \",x.sum()) #calculating the sum of the data\n",
    "    print(\"the mean of the data is: \",x.mean()) #calculating the mean of the data\n",
    "    print(\"the median of the data is: \",np.median(x)) #calculating the median of the data\n",
    "    dif = abs((np.median(x))-(x.mean())) #absolute value of teh difference between the mean and median\n",
    "    print(\"the difference between the mean and the median is: \", dif) #printing the difference\n",
    "\n",
    "function(x_values)\n",
    "    "
   ]
  }
 ],
 "metadata": {
  "colab": {
   "name": "Quiz2_functions-INSTRUCTOR.ipynb",
   "provenance": []
  },
  "kernelspec": {
   "display_name": "Python 3 (ipykernel)",
   "language": "python",
   "name": "python3"
  },
  "language_info": {
   "codemirror_mode": {
    "name": "ipython",
    "version": 3
   },
   "file_extension": ".py",
   "mimetype": "text/x-python",
   "name": "python",
   "nbconvert_exporter": "python",
   "pygments_lexer": "ipython3",
   "version": "3.9.12"
  }
 },
 "nbformat": 4,
 "nbformat_minor": 1
}
