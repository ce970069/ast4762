{
 "cells": [
  {
   "cell_type": "markdown",
   "metadata": {
    "id": "SvAjPrvob8Bj"
   },
   "source": [
    "# Bootcamp 4: If Statements\n",
    "This notebook includes practice examples centered on if statements with increasing complexity.\n",
    "\n",
    "If statements allow us to add complexity to code."
   ]
  },
  {
   "cell_type": "markdown",
   "metadata": {
    "id": "u87Ia2K5DP69"
   },
   "source": [
    "## Task\n",
    "\n",
    "Comment the code below to explain what each line is doing."
   ]
  },
  {
   "cell_type": "code",
   "execution_count": 1,
   "metadata": {
    "colab": {
     "base_uri": "https://localhost:8080/"
    },
    "id": "TQD65QvPb13g",
    "outputId": "e877137b-9992-40bf-f8e4-33d97f2307d8"
   },
   "outputs": [
    {
     "name": "stdout",
     "output_type": "stream",
     "text": [
      "1 is odd!\n",
      "3 is odd!\n",
      "5 is odd!\n",
      "7 is odd!\n",
      "9 is odd!\n"
     ]
    }
   ],
   "source": [
    "'''basic structure of an if statement'''\n",
    "\n",
    "for i in range(10): #looping by index of a list values from 1 - 10\n",
    "    if i%2 != 0: #if the value of the i is not divisble by 2 with no remainder\n",
    "        print(i, 'is odd!') #printing the odd numbers of the list"
   ]
  },
  {
   "cell_type": "markdown",
   "metadata": {
    "id": "GPD_GM4NDYcz"
   },
   "source": [
    "## Task\n",
    "\n",
    "Comment the code below to explain what each line is doing."
   ]
  },
  {
   "cell_type": "code",
   "execution_count": 2,
   "metadata": {
    "colab": {
     "base_uri": "https://localhost:8080/"
    },
    "id": "uIKAwltBx5zi",
    "outputId": "6090be8f-60cb-4b45-8e09-fc8bb75e8050"
   },
   "outputs": [
    {
     "name": "stdout",
     "output_type": "stream",
     "text": [
      "0 is even!\n",
      "1 is odd!\n",
      "2 is even!\n",
      "3 is odd!\n",
      "4 is even!\n",
      "5 is odd!\n",
      "6 is even!\n",
      "7 is odd!\n",
      "8 is even!\n",
      "9 is odd!\n"
     ]
    }
   ],
   "source": [
    "'''basic structure of an if-else statement'''\n",
    "\n",
    "for i in range(10): \n",
    "    if i%2 != 0: \n",
    "        print(i, 'is odd!') \n",
    "    else:             #printing the odd numbers of the list\n",
    "        print(i,'is even!') #printing the even numbers of the list"
   ]
  },
  {
   "cell_type": "markdown",
   "metadata": {
    "id": "tpnyrKBwylcZ"
   },
   "source": [
    "## Task\n",
    "\n",
    "Write an if-else statement that loops through the list of numbers below and prints \"I am greater than 25\" if the number is greater than 25 and \"I am less than 25\" otherwise. Comment your code to explain what each line is doing!"
   ]
  },
  {
   "cell_type": "code",
   "execution_count": 7,
   "metadata": {
    "id": "l48AdnXyzHa8"
   },
   "outputs": [
    {
     "name": "stdout",
     "output_type": "stream",
     "text": [
      "I am less than 25\n",
      "I am greater than 25\n",
      "I am less than 25\n",
      "I am less than 25\n",
      "I am less than 25\n",
      "I am greater than 25\n",
      "I am less than 25\n",
      "I am greater than 25\n",
      "I am greater than 25\n",
      "I am less than 25\n",
      "I am greater than 25\n",
      "I am greater than 25\n",
      "I am greater than 25\n",
      "I am less than 25\n",
      "I am greater than 25\n",
      "I am greater than 25\n",
      "I am greater than 25\n",
      "I am greater than 25\n",
      "I am less than 25\n",
      "I am less than 25\n"
     ]
    }
   ],
   "source": [
    "list_of_ints = [18, 34, 9, 4, 5, 43, 11, 49, 50, 14, 35, 37, 39, 22, 38, 36, 46, 44, 22, 16]\n",
    "\n",
    "# put your pseudocode and code here\n",
    "for i in list_of_ints: #for the list of list_of_ints\n",
    "    if i > 25: #if the value of i is greater than 25\n",
    "        print(\"I am greater than 25\") #printing that the number is greater than 25\n",
    "    else: #all other values\n",
    "        print(\"I am less than 25\") #printing that the number is less than 25\n",
    "i += i"
   ]
  },
  {
   "cell_type": "markdown",
   "metadata": {
    "id": "uHs3aaoqDcR3"
   },
   "source": [
    "## Task\n",
    "\n",
    "Comment the code below to explain what each line is doing."
   ]
  },
  {
   "cell_type": "code",
   "execution_count": 4,
   "metadata": {
    "colab": {
     "base_uri": "https://localhost:8080/"
    },
    "id": "8b6ctPbz0RlN",
    "outputId": "3b53893b-9712-41f4-d30c-1de2363b3632"
   },
   "outputs": [
    {
     "name": "stdout",
     "output_type": "stream",
     "text": [
      "cheese is a string!\n",
      "5.0 is a float!\n",
      "puppies is a string!\n",
      "1 is an integer!\n",
      "3 is an integer!\n",
      "otters is a string!\n",
      "9.7 is a float!\n",
      "1.5 is a float!\n",
      "football is a string!\n"
     ]
    }
   ],
   "source": [
    "'''if-elif-else statments add further complexity to our code!'''\n",
    "\n",
    "list_of_things = ['cheese',5.0,'puppies',1,3,'otters',9.7,1.5,'football']\n",
    "\n",
    "for item in list_of_things: #for each of the items in the list of things\n",
    "    if type(item)==str: #if the item is a variable type string\n",
    "        print(item, 'is a string!') #print that it is a string\n",
    "    elif type(item) == int:            #if the item is a variable type integer\n",
    "        print(item,'is an integer!') #print that it is an integer\n",
    "    else:             #if the item is not a string or an integer\n",
    "        print(item,'is a float!') #print that it is a float"
   ]
  },
  {
   "cell_type": "markdown",
   "metadata": {
    "id": "JoDTZ8pJ728S"
   },
   "source": [
    "## Task\n",
    "\n",
    "Write a set of if-elif-else statements to categorize the animals in this list as two-legged, four-legged, swimming, or something else. Comment your code to explain what each line is doing!"
   ]
  },
  {
   "cell_type": "code",
   "execution_count": 19,
   "metadata": {
    "id": "8rCr-zrW70TS"
   },
   "outputs": [
    {
     "name": "stdout",
     "output_type": "stream",
     "text": [
      "parrot is two-legged!\n",
      "mussel has no legs!\n",
      "penguin is two-legged!\n",
      "polar bear is four-legged!\n",
      "salmon has no legs!\n",
      "zebra is four-legged!\n",
      "shark has no legs!\n",
      "clam has no legs!\n"
     ]
    }
   ],
   "source": [
    "list_of_animals = ['parrot','mussel','penguin','polar bear','salmon','zebra','shark','clam']\n",
    "\n",
    "#put your code and pseudocode here\n",
    "for item in list_of_animals: #for each of the animals in the list\n",
    "    if item == 'polar bear' or item == 'zebra': #if the animal has four legs\n",
    "        print(item, 'is four-legged!') #print that it has four legs\n",
    "    elif item == 'parrot' or item =='penguin':            #if the animal has two legs\n",
    "        print(item,'is two-legged!') #print that it has two legs\n",
    "    else:             #if the animal has no legs\n",
    "        print(item,'has no legs!') #print that the animal has no legs\n",
    "item += item"
   ]
  }
 ],
 "metadata": {
  "anaconda-cloud": {},
  "colab": {
   "name": "Quiz2_if_statements.ipynb",
   "provenance": []
  },
  "kernelspec": {
   "display_name": "Python 3 (ipykernel)",
   "language": "python",
   "name": "python3"
  },
  "language_info": {
   "codemirror_mode": {
    "name": "ipython",
    "version": 3
   },
   "file_extension": ".py",
   "mimetype": "text/x-python",
   "name": "python",
   "nbconvert_exporter": "python",
   "pygments_lexer": "ipython3",
   "version": "3.9.12"
  }
 },
 "nbformat": 4,
 "nbformat_minor": 1
}
