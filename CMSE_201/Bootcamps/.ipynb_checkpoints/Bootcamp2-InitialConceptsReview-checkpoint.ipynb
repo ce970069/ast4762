{
 "cells": [
  {
   "cell_type": "markdown",
   "metadata": {},
   "source": [
    "# Bootcamp 2: Initial Concepts Review Cheatsheet\n",
    "\n",
    "<img src=\"https://cmse.msu.edu/sites/_cmse/assets/Image/image002.jpg\"\n",
    "     alt=\"CMSE Logo\"\n",
    "     align=\"right\" \n",
    "     height=\"82\" \n",
    "     width=\"82\" />\n",
    "\n",
    "Goal: Simple notebook to summarize some of the concepts from first couple weeks of CMSE 201"
   ]
  },
  {
   "cell_type": "markdown",
   "metadata": {},
   "source": [
    "**1. Variables**"
   ]
  },
  {
   "cell_type": "code",
   "execution_count": null,
   "metadata": {},
   "outputs": [],
   "source": [
    "int_var = 2   # Integer variable\n",
    "float_var = 2.34  # floating point variable\n",
    "str_var = 'bananas'  # string variable\n",
    "\n",
    "print('1:', 'An integer plus a float works in python:',int_var+float_var)\n",
    "#You can not do math with strings, but you can concatenate strings (if you turn your variables into strings first)\n",
    "new_str_var = str(int_var)+' '+str_var+' is '+str(float_var)+' times the fun.'\n",
    "print('2:',new_str_var)\n",
    "# or you can just use a print statement with commas to make meaningful debugging and result statements\n",
    "print('3:',int_var,'or',float_var, str_var,'are not all that fun.')"
   ]
  },
  {
   "cell_type": "markdown",
   "metadata": {},
   "source": [
    "**2. Lists**\n",
    "\n",
    "A list stores a series of items in a particular order. You access items using an index, or within a loop."
   ]
  },
  {
   "cell_type": "code",
   "execution_count": null,
   "metadata": {},
   "outputs": [],
   "source": [
    "list_ex = []   # initialize an empty list\n",
    "list_ex.append('we')  # append an item to a list\n",
    "list_ex.append('have')\n",
    "list_ex.append('no')\n",
    "list_ex.append('apples')\n",
    "print('Print 1:',list_ex)  # print contents of variable or list\n",
    "list_ex.remove('apples')  # remove specific entry from list, but only first entry with this value\n",
    "print('Print 2:',list_ex)  # print contents of variable or list\n",
    "list_ex.append('bananas')\n",
    "print('Print 3:',list_ex)\n",
    "print('Print 4:',list_ex[3])  # print the 4th value in the list 'list_ex'"
   ]
  },
  {
   "cell_type": "markdown",
   "metadata": {},
   "source": [
    "**3. Loops**\n",
    "\n",
    "So far, we have learned:\n",
    "    - for loops  (repeats a block of code the number of times described in the \"for\" statement)\n",
    "    - while loops (repeats a block of code as long as a certain condition is true.)"
   ]
  },
  {
   "cell_type": "code",
   "execution_count": null,
   "metadata": {},
   "outputs": [],
   "source": [
    "for value1 in list_ex:   # loop through all the entries in list \"list_ex\"\n",
    "    print('Current entry in variable value is:', value1)  # for each iteration, variable named \"value1\" \n",
    "                                                        #      will be assigned the next entry in \"list_ex\""
   ]
  },
  {
   "cell_type": "code",
   "execution_count": null,
   "metadata": {},
   "outputs": [],
   "source": [
    "for index1 in range(len(list_ex)): # loop through integers from 0 to length of list \"list_ex\"\n",
    "                                # for each iteration, variable named \"index1\"\n",
    "                                #      will be assigned the next integer in 0 to length of list \"list_ex\"\n",
    "    str_now = list_ex[index1]   # assign a variable the content of the index1-th entry of list \"list_ex\"\n",
    "    print('The',index1,'entry in list_ex is',str_now)"
   ]
  },
  {
   "cell_type": "code",
   "execution_count": null,
   "metadata": {},
   "outputs": [],
   "source": [
    "index1 = 0\n",
    "while index1 < len(list_ex):  # perform a while loop until index1 is equal to or greater than the length of list \"list_ex\"\n",
    "    str_now = list_ex[index1]\n",
    "    print('The',index1,'entry in list_ex is',str_now)\n",
    "    index1 += 1               # increment whatever is in index1 by +1\n",
    "    # Note this is the identical result as the for loop in cell above"
   ]
  },
  {
   "cell_type": "markdown",
   "metadata": {},
   "source": [
    "&#169; Copyright 2018,  Michigan State University Board of Trustees"
   ]
  }
 ],
 "metadata": {
  "kernelspec": {
   "display_name": "Python 3 (ipykernel)",
   "language": "python",
   "name": "python3"
  },
  "language_info": {
   "codemirror_mode": {
    "name": "ipython",
    "version": 3
   },
   "file_extension": ".py",
   "mimetype": "text/x-python",
   "name": "python",
   "nbconvert_exporter": "python",
   "pygments_lexer": "ipython3",
   "version": "3.9.7"
  }
 },
 "nbformat": 4,
 "nbformat_minor": 4
}
