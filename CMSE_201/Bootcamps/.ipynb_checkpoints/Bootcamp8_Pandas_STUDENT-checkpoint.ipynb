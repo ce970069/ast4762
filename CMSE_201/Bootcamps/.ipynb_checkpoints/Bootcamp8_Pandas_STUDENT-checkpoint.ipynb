{
 "cells": [
  {
   "cell_type": "markdown",
   "id": "91567144-7bb3-4474-86dd-be81307805dd",
   "metadata": {},
   "source": [
    "# Bootcamp 8: Practice with Pandas"
   ]
  },
  {
   "cell_type": "markdown",
   "id": "211c12c1-769e-4f64-a97b-a2c0902c2211",
   "metadata": {},
   "source": [
    "This notebook is meant as a review of some of the more salient features of Pandas. To be clear, we will not be focusing on *reading in data*; rather, this notebook will focus more on using Pandas for selecting and analyzing data (using Pandas, of course). \n",
    "\n",
    "We’ll be using a data set of weather data from various weather stations around the US (`weather.csv`) over time. We are going to be exploring the average temperature in a few different states in different years."
   ]
  },
  {
   "cell_type": "markdown",
   "id": "a86a8b00-3c29-42aa-8933-5b6cd7e55f16",
   "metadata": {},
   "source": [
    "## Part 0: Importing Packages and Reading in the Data\n",
    "\n",
    "As a first step, let’s import the necessary packages and read in the data. Then, we'll use .head() to take a first look at the data."
   ]
  },
  {
   "cell_type": "code",
   "execution_count": 1,
   "id": "892248e5-f468-4f5e-aaf1-b00602f5e5b8",
   "metadata": {},
   "outputs": [
    {
     "data": {
      "text/html": [
       "<div>\n",
       "<style scoped>\n",
       "    .dataframe tbody tr th:only-of-type {\n",
       "        vertical-align: middle;\n",
       "    }\n",
       "\n",
       "    .dataframe tbody tr th {\n",
       "        vertical-align: top;\n",
       "    }\n",
       "\n",
       "    .dataframe thead th {\n",
       "        text-align: right;\n",
       "    }\n",
       "</style>\n",
       "<table border=\"1\" class=\"dataframe\">\n",
       "  <thead>\n",
       "    <tr style=\"text-align: right;\">\n",
       "      <th></th>\n",
       "      <th>Date_Month</th>\n",
       "      <th>Date_Year</th>\n",
       "      <th>Station_City</th>\n",
       "      <th>Station_State</th>\n",
       "      <th>Data_Temperature</th>\n",
       "      <th>Data_Precipitation</th>\n",
       "    </tr>\n",
       "  </thead>\n",
       "  <tbody>\n",
       "    <tr>\n",
       "      <th>0</th>\n",
       "      <td>1</td>\n",
       "      <td>2016</td>\n",
       "      <td>Birmingham</td>\n",
       "      <td>Alabama</td>\n",
       "      <td>39</td>\n",
       "      <td>0.00</td>\n",
       "    </tr>\n",
       "    <tr>\n",
       "      <th>1</th>\n",
       "      <td>1</td>\n",
       "      <td>2016</td>\n",
       "      <td>Huntsville</td>\n",
       "      <td>Alabama</td>\n",
       "      <td>39</td>\n",
       "      <td>0.00</td>\n",
       "    </tr>\n",
       "    <tr>\n",
       "      <th>2</th>\n",
       "      <td>1</td>\n",
       "      <td>2016</td>\n",
       "      <td>Mobile</td>\n",
       "      <td>Alabama</td>\n",
       "      <td>46</td>\n",
       "      <td>0.16</td>\n",
       "    </tr>\n",
       "    <tr>\n",
       "      <th>3</th>\n",
       "      <td>1</td>\n",
       "      <td>2016</td>\n",
       "      <td>Montgomery</td>\n",
       "      <td>Alabama</td>\n",
       "      <td>45</td>\n",
       "      <td>0.00</td>\n",
       "    </tr>\n",
       "    <tr>\n",
       "      <th>4</th>\n",
       "      <td>1</td>\n",
       "      <td>2016</td>\n",
       "      <td>Anchorage</td>\n",
       "      <td>Alaska</td>\n",
       "      <td>34</td>\n",
       "      <td>0.01</td>\n",
       "    </tr>\n",
       "  </tbody>\n",
       "</table>\n",
       "</div>"
      ],
      "text/plain": [
       "   Date_Month  Date_Year Station_City Station_State  Data_Temperature  \\\n",
       "0           1       2016   Birmingham       Alabama                39   \n",
       "1           1       2016   Huntsville       Alabama                39   \n",
       "2           1       2016       Mobile       Alabama                46   \n",
       "3           1       2016   Montgomery       Alabama                45   \n",
       "4           1       2016    Anchorage        Alaska                34   \n",
       "\n",
       "   Data_Precipitation  \n",
       "0                0.00  \n",
       "1                0.00  \n",
       "2                0.16  \n",
       "3                0.00  \n",
       "4                0.01  "
      ]
     },
     "execution_count": 1,
     "metadata": {},
     "output_type": "execute_result"
    }
   ],
   "source": [
    "import pandas as pd\n",
    "import matplotlib.pyplot as plt\n",
    "import numpy as np\n",
    "\n",
    "weather_data = pd.read_csv('weather.csv')\n",
    "weather_data.head()"
   ]
  },
  {
   "cell_type": "markdown",
   "id": "9e2cae87",
   "metadata": {},
   "source": [
    "**NOTE:** Sometimes, when you have a data file you are having trouble figuring out the column headers, you can use the pandas function `.keys()` to tell you the exact strings!"
   ]
  },
  {
   "cell_type": "code",
   "execution_count": 2,
   "id": "c629e983",
   "metadata": {},
   "outputs": [
    {
     "data": {
      "text/plain": [
       "Index(['Date_Month', 'Date_Year', 'Station_City', 'Station_State',\n",
       "       'Data_Temperature', 'Data_Precipitation'],\n",
       "      dtype='object')"
      ]
     },
     "execution_count": 2,
     "metadata": {},
     "output_type": "execute_result"
    }
   ],
   "source": [
    "weather_data.keys()"
   ]
  },
  {
   "cell_type": "markdown",
   "id": "c571c2ee",
   "metadata": {},
   "source": [
    "## Part 1: Analyzing a Single State\n",
    "\n",
    "#### 1.0 Filtering down to one year\n",
    "\n",
    "You may have noticed that the dataframe contains weather station data from both 2016 and 2017, let's start by masking our dataframe to just include data from 2016."
   ]
  },
  {
   "cell_type": "code",
   "execution_count": 3,
   "id": "9a40ea33",
   "metadata": {},
   "outputs": [
    {
     "data": {
      "text/html": [
       "<div>\n",
       "<style scoped>\n",
       "    .dataframe tbody tr th:only-of-type {\n",
       "        vertical-align: middle;\n",
       "    }\n",
       "\n",
       "    .dataframe tbody tr th {\n",
       "        vertical-align: top;\n",
       "    }\n",
       "\n",
       "    .dataframe thead th {\n",
       "        text-align: right;\n",
       "    }\n",
       "</style>\n",
       "<table border=\"1\" class=\"dataframe\">\n",
       "  <thead>\n",
       "    <tr style=\"text-align: right;\">\n",
       "      <th></th>\n",
       "      <th>Date_Month</th>\n",
       "      <th>Date_Year</th>\n",
       "      <th>Station_City</th>\n",
       "      <th>Station_State</th>\n",
       "      <th>Data_Temperature</th>\n",
       "      <th>Data_Precipitation</th>\n",
       "    </tr>\n",
       "  </thead>\n",
       "  <tbody>\n",
       "    <tr>\n",
       "      <th>0</th>\n",
       "      <td>1</td>\n",
       "      <td>2016</td>\n",
       "      <td>Birmingham</td>\n",
       "      <td>Alabama</td>\n",
       "      <td>39</td>\n",
       "      <td>0.00</td>\n",
       "    </tr>\n",
       "    <tr>\n",
       "      <th>1</th>\n",
       "      <td>1</td>\n",
       "      <td>2016</td>\n",
       "      <td>Huntsville</td>\n",
       "      <td>Alabama</td>\n",
       "      <td>39</td>\n",
       "      <td>0.00</td>\n",
       "    </tr>\n",
       "    <tr>\n",
       "      <th>2</th>\n",
       "      <td>1</td>\n",
       "      <td>2016</td>\n",
       "      <td>Mobile</td>\n",
       "      <td>Alabama</td>\n",
       "      <td>46</td>\n",
       "      <td>0.16</td>\n",
       "    </tr>\n",
       "    <tr>\n",
       "      <th>3</th>\n",
       "      <td>1</td>\n",
       "      <td>2016</td>\n",
       "      <td>Montgomery</td>\n",
       "      <td>Alabama</td>\n",
       "      <td>45</td>\n",
       "      <td>0.00</td>\n",
       "    </tr>\n",
       "    <tr>\n",
       "      <th>4</th>\n",
       "      <td>1</td>\n",
       "      <td>2016</td>\n",
       "      <td>Anchorage</td>\n",
       "      <td>Alaska</td>\n",
       "      <td>34</td>\n",
       "      <td>0.01</td>\n",
       "    </tr>\n",
       "    <tr>\n",
       "      <th>...</th>\n",
       "      <td>...</td>\n",
       "      <td>...</td>\n",
       "      <td>...</td>\n",
       "      <td>...</td>\n",
       "      <td>...</td>\n",
       "      <td>...</td>\n",
       "    </tr>\n",
       "    <tr>\n",
       "      <th>16421</th>\n",
       "      <td>12</td>\n",
       "      <td>2016</td>\n",
       "      <td>Casper</td>\n",
       "      <td>Wyoming</td>\n",
       "      <td>27</td>\n",
       "      <td>0.39</td>\n",
       "    </tr>\n",
       "    <tr>\n",
       "      <th>16422</th>\n",
       "      <td>12</td>\n",
       "      <td>2016</td>\n",
       "      <td>Cheyenne</td>\n",
       "      <td>Wyoming</td>\n",
       "      <td>34</td>\n",
       "      <td>0.04</td>\n",
       "    </tr>\n",
       "    <tr>\n",
       "      <th>16423</th>\n",
       "      <td>12</td>\n",
       "      <td>2016</td>\n",
       "      <td>Lander</td>\n",
       "      <td>Wyoming</td>\n",
       "      <td>19</td>\n",
       "      <td>0.33</td>\n",
       "    </tr>\n",
       "    <tr>\n",
       "      <th>16424</th>\n",
       "      <td>12</td>\n",
       "      <td>2016</td>\n",
       "      <td>Rawlins</td>\n",
       "      <td>Wyoming</td>\n",
       "      <td>27</td>\n",
       "      <td>0.36</td>\n",
       "    </tr>\n",
       "    <tr>\n",
       "      <th>16425</th>\n",
       "      <td>12</td>\n",
       "      <td>2016</td>\n",
       "      <td>Sheridan</td>\n",
       "      <td>Wyoming</td>\n",
       "      <td>18</td>\n",
       "      <td>0.30</td>\n",
       "    </tr>\n",
       "  </tbody>\n",
       "</table>\n",
       "<p>16426 rows × 6 columns</p>\n",
       "</div>"
      ],
      "text/plain": [
       "       Date_Month  Date_Year Station_City Station_State  Data_Temperature  \\\n",
       "0               1       2016   Birmingham       Alabama                39   \n",
       "1               1       2016   Huntsville       Alabama                39   \n",
       "2               1       2016       Mobile       Alabama                46   \n",
       "3               1       2016   Montgomery       Alabama                45   \n",
       "4               1       2016    Anchorage        Alaska                34   \n",
       "...           ...        ...          ...           ...               ...   \n",
       "16421          12       2016       Casper       Wyoming                27   \n",
       "16422          12       2016     Cheyenne       Wyoming                34   \n",
       "16423          12       2016       Lander       Wyoming                19   \n",
       "16424          12       2016      Rawlins       Wyoming                27   \n",
       "16425          12       2016     Sheridan       Wyoming                18   \n",
       "\n",
       "       Data_Precipitation  \n",
       "0                    0.00  \n",
       "1                    0.00  \n",
       "2                    0.16  \n",
       "3                    0.00  \n",
       "4                    0.01  \n",
       "...                   ...  \n",
       "16421                0.39  \n",
       "16422                0.04  \n",
       "16423                0.33  \n",
       "16424                0.36  \n",
       "16425                0.30  \n",
       "\n",
       "[16426 rows x 6 columns]"
      ]
     },
     "execution_count": 3,
     "metadata": {},
     "output_type": "execute_result"
    }
   ],
   "source": [
    "# Filter the data with a mask\n",
    "\n",
    "year_mask = weather_data['Date_Year']==2016\n",
    "year_data = weather_data[year_mask]\n",
    "year_data"
   ]
  },
  {
   "cell_type": "markdown",
   "id": "92d8e052-edcb-4f3a-a34b-31afbb81da43",
   "metadata": {},
   "source": [
    "#### 1.1\n",
    "&#9989;&nbsp; **Pick a single state (from the column name `Station State`). Create a new dataframe that just contains that state**"
   ]
  },
  {
   "cell_type": "code",
   "execution_count": 4,
   "id": "b3617897-1d1a-4601-9754-666b6674eb61",
   "metadata": {},
   "outputs": [
    {
     "data": {
      "text/html": [
       "<div>\n",
       "<style scoped>\n",
       "    .dataframe tbody tr th:only-of-type {\n",
       "        vertical-align: middle;\n",
       "    }\n",
       "\n",
       "    .dataframe tbody tr th {\n",
       "        vertical-align: top;\n",
       "    }\n",
       "\n",
       "    .dataframe thead th {\n",
       "        text-align: right;\n",
       "    }\n",
       "</style>\n",
       "<table border=\"1\" class=\"dataframe\">\n",
       "  <thead>\n",
       "    <tr style=\"text-align: right;\">\n",
       "      <th></th>\n",
       "      <th>Date_Month</th>\n",
       "      <th>Date_Year</th>\n",
       "      <th>Station_City</th>\n",
       "      <th>Station_State</th>\n",
       "      <th>Data_Temperature</th>\n",
       "      <th>Data_Precipitation</th>\n",
       "    </tr>\n",
       "  </thead>\n",
       "  <tbody>\n",
       "    <tr>\n",
       "      <th>72</th>\n",
       "      <td>1</td>\n",
       "      <td>2016</td>\n",
       "      <td>Daytona Beach</td>\n",
       "      <td>Florida</td>\n",
       "      <td>63</td>\n",
       "      <td>0.75</td>\n",
       "    </tr>\n",
       "    <tr>\n",
       "      <th>73</th>\n",
       "      <td>1</td>\n",
       "      <td>2016</td>\n",
       "      <td>Fort Lauderdale</td>\n",
       "      <td>Florida</td>\n",
       "      <td>76</td>\n",
       "      <td>0.49</td>\n",
       "    </tr>\n",
       "    <tr>\n",
       "      <th>74</th>\n",
       "      <td>1</td>\n",
       "      <td>2016</td>\n",
       "      <td>Gainesville</td>\n",
       "      <td>Florida</td>\n",
       "      <td>56</td>\n",
       "      <td>0.62</td>\n",
       "    </tr>\n",
       "    <tr>\n",
       "      <th>75</th>\n",
       "      <td>1</td>\n",
       "      <td>2016</td>\n",
       "      <td>Jacksonville</td>\n",
       "      <td>Florida</td>\n",
       "      <td>56</td>\n",
       "      <td>0.49</td>\n",
       "    </tr>\n",
       "    <tr>\n",
       "      <th>76</th>\n",
       "      <td>1</td>\n",
       "      <td>2016</td>\n",
       "      <td>Key West</td>\n",
       "      <td>Florida</td>\n",
       "      <td>79</td>\n",
       "      <td>0.50</td>\n",
       "    </tr>\n",
       "    <tr>\n",
       "      <th>...</th>\n",
       "      <td>...</td>\n",
       "      <td>...</td>\n",
       "      <td>...</td>\n",
       "      <td>...</td>\n",
       "      <td>...</td>\n",
       "      <td>...</td>\n",
       "    </tr>\n",
       "    <tr>\n",
       "      <th>16190</th>\n",
       "      <td>12</td>\n",
       "      <td>2016</td>\n",
       "      <td>Pensacola</td>\n",
       "      <td>Florida</td>\n",
       "      <td>58</td>\n",
       "      <td>0.18</td>\n",
       "    </tr>\n",
       "    <tr>\n",
       "      <th>16191</th>\n",
       "      <td>12</td>\n",
       "      <td>2016</td>\n",
       "      <td>Tallahassee</td>\n",
       "      <td>Florida</td>\n",
       "      <td>60</td>\n",
       "      <td>0.61</td>\n",
       "    </tr>\n",
       "    <tr>\n",
       "      <th>16192</th>\n",
       "      <td>12</td>\n",
       "      <td>2016</td>\n",
       "      <td>Tampa</td>\n",
       "      <td>Florida</td>\n",
       "      <td>71</td>\n",
       "      <td>0.00</td>\n",
       "    </tr>\n",
       "    <tr>\n",
       "      <th>16193</th>\n",
       "      <td>12</td>\n",
       "      <td>2016</td>\n",
       "      <td>Vero Beach</td>\n",
       "      <td>Florida</td>\n",
       "      <td>71</td>\n",
       "      <td>0.49</td>\n",
       "    </tr>\n",
       "    <tr>\n",
       "      <th>16194</th>\n",
       "      <td>12</td>\n",
       "      <td>2016</td>\n",
       "      <td>West Palm Beach</td>\n",
       "      <td>Florida</td>\n",
       "      <td>75</td>\n",
       "      <td>1.08</td>\n",
       "    </tr>\n",
       "  </tbody>\n",
       "</table>\n",
       "<p>624 rows × 6 columns</p>\n",
       "</div>"
      ],
      "text/plain": [
       "       Date_Month  Date_Year     Station_City Station_State  Data_Temperature  \\\n",
       "72              1       2016    Daytona Beach       Florida                63   \n",
       "73              1       2016  Fort Lauderdale       Florida                76   \n",
       "74              1       2016      Gainesville       Florida                56   \n",
       "75              1       2016     Jacksonville       Florida                56   \n",
       "76              1       2016         Key West       Florida                79   \n",
       "...           ...        ...              ...           ...               ...   \n",
       "16190          12       2016        Pensacola       Florida                58   \n",
       "16191          12       2016      Tallahassee       Florida                60   \n",
       "16192          12       2016            Tampa       Florida                71   \n",
       "16193          12       2016       Vero Beach       Florida                71   \n",
       "16194          12       2016  West Palm Beach       Florida                75   \n",
       "\n",
       "       Data_Precipitation  \n",
       "72                   0.75  \n",
       "73                   0.49  \n",
       "74                   0.62  \n",
       "75                   0.49  \n",
       "76                   0.50  \n",
       "...                   ...  \n",
       "16190                0.18  \n",
       "16191                0.61  \n",
       "16192                0.00  \n",
       "16193                0.49  \n",
       "16194                1.08  \n",
       "\n",
       "[624 rows x 6 columns]"
      ]
     },
     "execution_count": 4,
     "metadata": {},
     "output_type": "execute_result"
    }
   ],
   "source": [
    "# Write your code here\n",
    "state_mask = year_data['Station_State']==\"Florida\"\n",
    "fl2016_data = year_data[state_mask]\n",
    "fl2016_data\n"
   ]
  },
  {
   "cell_type": "markdown",
   "id": "a17a21d2-4cc8-4cb8-99ce-e499990dd867",
   "metadata": {},
   "source": [
    "#### 1.2\n",
    "\n",
    "Our ultimate goal is to see what the average temperature is for each month in our state's data. Using another mask, select one month from the `Date_Month` column. Then calculate the average temperature of the `Data_Temperature` column for that month."
   ]
  },
  {
   "cell_type": "code",
   "execution_count": 10,
   "id": "aa4787a9-487d-4102-bae8-9cdf38a1da05",
   "metadata": {},
   "outputs": [
    {
     "data": {
      "text/html": [
       "<div>\n",
       "<style scoped>\n",
       "    .dataframe tbody tr th:only-of-type {\n",
       "        vertical-align: middle;\n",
       "    }\n",
       "\n",
       "    .dataframe tbody tr th {\n",
       "        vertical-align: top;\n",
       "    }\n",
       "\n",
       "    .dataframe thead th {\n",
       "        text-align: right;\n",
       "    }\n",
       "</style>\n",
       "<table border=\"1\" class=\"dataframe\">\n",
       "  <thead>\n",
       "    <tr style=\"text-align: right;\">\n",
       "      <th></th>\n",
       "      <th>Date_Month</th>\n",
       "      <th>Date_Year</th>\n",
       "      <th>Station_City</th>\n",
       "      <th>Station_State</th>\n",
       "      <th>Data_Temperature</th>\n",
       "      <th>Data_Precipitation</th>\n",
       "    </tr>\n",
       "  </thead>\n",
       "  <tbody>\n",
       "    <tr>\n",
       "      <th>9855</th>\n",
       "      <td>8</td>\n",
       "      <td>2016</td>\n",
       "      <td>Daytona Beach</td>\n",
       "      <td>Florida</td>\n",
       "      <td>84</td>\n",
       "      <td>0.16</td>\n",
       "    </tr>\n",
       "    <tr>\n",
       "      <th>9856</th>\n",
       "      <td>8</td>\n",
       "      <td>2016</td>\n",
       "      <td>Fort Lauderdale</td>\n",
       "      <td>Florida</td>\n",
       "      <td>83</td>\n",
       "      <td>2.75</td>\n",
       "    </tr>\n",
       "    <tr>\n",
       "      <th>9857</th>\n",
       "      <td>8</td>\n",
       "      <td>2016</td>\n",
       "      <td>Gainesville</td>\n",
       "      <td>Florida</td>\n",
       "      <td>81</td>\n",
       "      <td>1.58</td>\n",
       "    </tr>\n",
       "    <tr>\n",
       "      <th>9858</th>\n",
       "      <td>8</td>\n",
       "      <td>2016</td>\n",
       "      <td>Jacksonville</td>\n",
       "      <td>Florida</td>\n",
       "      <td>83</td>\n",
       "      <td>1.05</td>\n",
       "    </tr>\n",
       "    <tr>\n",
       "      <th>9859</th>\n",
       "      <td>8</td>\n",
       "      <td>2016</td>\n",
       "      <td>Key West</td>\n",
       "      <td>Florida</td>\n",
       "      <td>85</td>\n",
       "      <td>2.56</td>\n",
       "    </tr>\n",
       "  </tbody>\n",
       "</table>\n",
       "</div>"
      ],
      "text/plain": [
       "      Date_Month  Date_Year     Station_City Station_State  Data_Temperature  \\\n",
       "9855           8       2016    Daytona Beach       Florida                84   \n",
       "9856           8       2016  Fort Lauderdale       Florida                83   \n",
       "9857           8       2016      Gainesville       Florida                81   \n",
       "9858           8       2016     Jacksonville       Florida                83   \n",
       "9859           8       2016         Key West       Florida                85   \n",
       "\n",
       "      Data_Precipitation  \n",
       "9855                0.16  \n",
       "9856                2.75  \n",
       "9857                1.58  \n",
       "9858                1.05  \n",
       "9859                2.56  "
      ]
     },
     "execution_count": 10,
     "metadata": {},
     "output_type": "execute_result"
    }
   ],
   "source": [
    "# Write your code here\n",
    "month_mask = fl2016_data['Date_Month']==8\n",
    "flaugust2016_data = fl2016_data[month_mask]\n",
    "flaugust2016_data.head()"
   ]
  },
  {
   "cell_type": "code",
   "execution_count": 9,
   "id": "74bd6b67",
   "metadata": {},
   "outputs": [
    {
     "data": {
      "text/plain": [
       "83.79166666666667"
      ]
     },
     "execution_count": 9,
     "metadata": {},
     "output_type": "execute_result"
    }
   ],
   "source": [
    "#average temperature of the data temperature for that month\n",
    "np.average(flaugust2016_data['Data_Temperature'])"
   ]
  },
  {
   "cell_type": "markdown",
   "id": "048fcaca-c144-4fa4-bba5-73bdd7472c66",
   "metadata": {},
   "source": [
    "#### 1.3\n",
    "\n",
    "&#9989;&nbsp; **Now repeat the process above (for your state), but for the other 11 months.** You can do this by making a new mask and new masked dataframe for each month, but try to do it in as compact a way as possible! Using a loop or a function would be a good way to approach it!"
   ]
  },
  {
   "cell_type": "code",
   "execution_count": 20,
   "id": "53d4045f-c8eb-4c6e-816a-a5fd1d13adbc",
   "metadata": {},
   "outputs": [
    {
     "name": "stdout",
     "output_type": "stream",
     "text": [
      "The average temperature in Fahrenheit for the month in FL is: \n",
      "59.95\n",
      "The average temperature in Fahrenheit for the month in FL is: \n",
      "61.5625\n",
      "The average temperature in Fahrenheit for the month in FL is: \n",
      "69.85416666666667\n",
      "The average temperature in Fahrenheit for the month in FL is: \n",
      "71.95833333333333\n",
      "The average temperature in Fahrenheit for the month in FL is: \n",
      "77.45\n",
      "The average temperature in Fahrenheit for the month in FL is: \n",
      "82.33333333333333\n",
      "The average temperature in Fahrenheit for the month in FL is: \n",
      "84.4\n",
      "The average temperature in Fahrenheit for the month in FL is: \n",
      "83.79166666666667\n",
      "The average temperature in Fahrenheit for the month in FL is: \n",
      "82.25\n",
      "The average temperature in Fahrenheit for the month in FL is: \n",
      "77.03333333333333\n",
      "The average temperature in Fahrenheit for the month in FL is: \n",
      "68.8125\n",
      "The average temperature in Fahrenheit for the month in FL is: \n",
      "68.66666666666667\n"
     ]
    }
   ],
   "source": [
    "# Write your code here\n",
    "for month in range(1,13,1):\n",
    "    month_mask = fl2016_data['Date_Month']==month\n",
    "    flaugust2016_data = fl2016_data[month_mask]\n",
    "    np.average(flaugust2016_data['Data_Temperature'])\n",
    "    print(\"The average temperature in Fahrenheit for the month in FL is: \")\n",
    "    print(np.average(flaugust2016_data['Data_Temperature']))"
   ]
  },
  {
   "cell_type": "code",
   "execution_count": 26,
   "id": "a24aa655",
   "metadata": {},
   "outputs": [
    {
     "name": "stdout",
     "output_type": "stream",
     "text": [
      "[59.95, 61.5625, 69.85416666666667, 71.95833333333333, 77.45, 82.33333333333333, 84.4, 83.79166666666667, 82.25, 77.03333333333333, 68.8125, 68.66666666666667]\n"
     ]
    }
   ],
   "source": [
    "FL_mask = year_data['Station_State'] == \"Florida\"\n",
    "florida_data = year_data[FL_mask]\n",
    "\n",
    "all_months_mean_fl = []\n",
    "for month in range(1,13):\n",
    "    df_temp = florida_data[florida_data['Date_Month'] == month]\n",
    "    all_months_mean_fl.append(df_temp['Data_Temperature'].mean())\n",
    "print(all_months_mean_fl)"
   ]
  },
  {
   "cell_type": "markdown",
   "id": "15f561fd-b333-4467-898c-2770c85dec67",
   "metadata": {},
   "source": [
    "#### 1.4\n",
    "\n",
    "&#9989;&nbsp; **Create a plot that visualizes the monthly average temperature for your state. Make sure to include all of the appropriate details in your plot!**"
   ]
  },
  {
   "cell_type": "code",
   "execution_count": 25,
   "id": "82963c6d",
   "metadata": {},
   "outputs": [
    {
     "data": {
      "text/plain": [
       "Text(0, 0.5, 'temperature')"
      ]
     },
     "execution_count": 25,
     "metadata": {},
     "output_type": "execute_result"
    },
    {
     "data": {
      "image/png": "[encoded data removed]",
      "text/plain": [
       "<Figure size 432x288 with 1 Axes>"
      ]
     },
     "metadata": {
      "needs_background": "light"
     },
     "output_type": "display_data"
    }
   ],
   "source": [
    "# put your answer here\n",
    "import matplotlib.pyplot as plt\n",
    "\n",
    "plt.plot(range(1,13),all_months_mean, color = \"darkgreen\")\n",
    "plt.xlabel('months')\n",
    "plt.ylabel('temperature')"
   ]
  },
  {
   "cell_type": "markdown",
   "id": "9f2f33c9",
   "metadata": {},
   "source": [
    "#### 1.5\n",
    "\n",
    "&#9989;&nbsp; **What do you notice about the average temperature across the months? Does it make sense to you, given the climate of the state you chose?**"
   ]
  },
  {
   "cell_type": "markdown",
   "id": "9da97ee1-5ce3-433c-af3b-b7e35c1564d4",
   "metadata": {},
   "source": [
    "### 2.0 Challenge Problem\n",
    "\n",
    "&#9989;&nbsp; Now, we want to expand the above procedure to additional states. Bringing together all of your knowledge of loops, functions, pandas, and matplotlib, repeat the above process for one state for several other states. Try to do it using loops and/or functions to make your code compact and easier to debug! This is more challenging than what hsould be on a quiz but will let you practice alot of what you have learned up to this point!"
   ]
  },
  {
   "cell_type": "code",
   "execution_count": 36,
   "id": "597aff2a-b5cc-4205-9d70-f272834dfc34",
   "metadata": {},
   "outputs": [],
   "source": [
    "#for the state of Virginia\n",
    "\n",
    "year_mask = weather_data['Date_Year']==2016\n",
    "year_data = weather_data[year_mask]\n",
    "year_data\n",
    "\n",
    "state_mask_va = year_data['Station_State']==\"Virginia\"\n",
    "va2016_data = year_data[state_mask_va]\n",
    "\n",
    "all_months_mean_va = []\n",
    "for month in range(1,13):\n",
    "    df_temp = va2016_data[va2016_data['Date_Month'] == month]\n",
    "    all_months_mean_va.append(df_temp['Data_Temperature'].mean())"
   ]
  },
  {
   "cell_type": "code",
   "execution_count": 37,
   "id": "96a0f967",
   "metadata": {},
   "outputs": [],
   "source": [
    "#for the state of Washington State\n",
    "\n",
    "year_mask = weather_data['Date_Year']==2016\n",
    "year_data = weather_data[year_mask]\n",
    "year_data\n",
    "\n",
    "state_mask_wa = year_data['Station_State']==\"Washington\"\n",
    "wa2016_data = year_data[state_mask_wa]\n",
    "\n",
    "all_months_mean_wa = []\n",
    "for month in range(1,13):\n",
    "    df_temp = wa2016_data[wa2016_data['Date_Month'] == month]\n",
    "    all_months_mean_wa.append(df_temp['Data_Temperature'].mean())"
   ]
  },
  {
   "cell_type": "code",
   "execution_count": 38,
   "id": "7f0fb96c",
   "metadata": {},
   "outputs": [],
   "source": [
    "#for the state of Georgia\n",
    "\n",
    "year_mask = weather_data['Date_Year']==2016\n",
    "year_data = weather_data[year_mask]\n",
    "year_data\n",
    "\n",
    "state_mask_ga = year_data['Station_State']==\"Georgia\"\n",
    "ga2016_data = year_data[state_mask_ga]\n",
    "\n",
    "all_months_mean_ga = []\n",
    "for month in range(1,13):\n",
    "    df_temp = ga2016_data[ga2016_data['Date_Month'] == month]\n",
    "    all_months_mean_ga.append(df_temp['Data_Temperature'].mean())"
   ]
  },
  {
   "cell_type": "code",
   "execution_count": 41,
   "id": "271171f1",
   "metadata": {},
   "outputs": [
    {
     "data": {
      "text/plain": [
       "Text(0.5, 1.0, 'average temperature for each month of several states')"
      ]
     },
     "execution_count": 41,
     "metadata": {},
     "output_type": "execute_result"
    },
    {
     "data": {
      "image/png": "[encoded data removed]",
      "text/plain": [
       "<Figure size 432x288 with 1 Axes>"
      ]
     },
     "metadata": {
      "needs_background": "light"
     },
     "output_type": "display_data"
    }
   ],
   "source": [
    "#ploting\n",
    "\n",
    "plt.plot(range(1,13),all_months_mean_fl, label = \"florida\", color = \"dodgerblue\")\n",
    "plt.plot(range(1,13),all_months_mean_va, label = \"virginia\", color = \"olive\")\n",
    "plt.plot(range(1,13),all_months_mean_wa, label = \"washington\", color = \"darkgreen\")\n",
    "plt.plot(range(1,13),all_months_mean_ga, label = \"georgia\", color = \"lightcoral\")\n",
    "\n",
    "plt.grid()\n",
    "plt.legend()\n",
    "plt.xlabel('months')\n",
    "plt.ylabel('temperature')\n",
    "plt.title('average temperature for each month of several states')"
   ]
  },
  {
   "cell_type": "code",
   "execution_count": 42,
   "id": "703157da",
   "metadata": {},
   "outputs": [
    {
     "data": {
      "text/plain": [
       "Text(0, 0.5, 'temperature')"
      ]
     },
     "execution_count": 42,
     "metadata": {},
     "output_type": "execute_result"
    },
    {
     "data": {
      "image/png": "[encoded data removed]",
      "text/plain": [
       "<Figure size 720x720 with 1 Axes>"
      ]
     },
     "metadata": {
      "needs_background": "light"
     },
     "output_type": "display_data"
    }
   ],
   "source": [
    "plt.figure(figsize=(10,10))\n",
    "states = ['Florida','Alaska','Michigan','Washington','Georgia','Louisiana','Hawaii']\n",
    "\n",
    "for state_name in states:\n",
    "    state_mask = year_data['Station_State'] == state_name\n",
    "    state_data = year_data[state_mask]\n",
    "    all_months_mean = []\n",
    "    for month in range(1,13):\n",
    "        df_temp = state_data[state_data['Date_Month'] == month]\n",
    "        all_months_mean.append(df_temp['Data_Temperature'].mean())\n",
    "    plt.plot(range(1,13),all_months_mean,label=state_name)\n",
    "    plt.legend()\n",
    "    plt.grid()\n",
    "plt.xlabel('months')\n",
    "plt.ylabel('temperature')"
   ]
  },
  {
   "cell_type": "code",
   "execution_count": null,
   "id": "3eee0992",
   "metadata": {},
   "outputs": [],
   "source": []
  }
 ],
 "metadata": {
  "kernelspec": {
   "display_name": "Python 3 (ipykernel)",
   "language": "python",
   "name": "python3"
  },
  "language_info": {
   "codemirror_mode": {
    "name": "ipython",
    "version": 3
   },
   "file_extension": ".py",
   "mimetype": "text/x-python",
   "name": "python",
   "nbconvert_exporter": "python",
   "pygments_lexer": "ipython3",
   "version": "3.9.12"
  }
 },
 "nbformat": 4,
 "nbformat_minor": 5
}
