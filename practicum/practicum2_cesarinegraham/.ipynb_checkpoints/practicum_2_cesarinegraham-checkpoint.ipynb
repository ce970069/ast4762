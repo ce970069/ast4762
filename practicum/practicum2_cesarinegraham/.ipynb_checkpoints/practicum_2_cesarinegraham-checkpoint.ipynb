{
 "cells": [
  {
   "cell_type": "markdown",
   "id": "573c0d6a-c2cb-4f13-9944-c83b361c3733",
   "metadata": {},
   "source": [
    "## Problem 1\n",
    "Write a code that creates a subsample containing N random draws from a Gaussian distribution with a width σ = 13 and mean 𝑥̅ = 55. You can use\n",
    "the help of AI to do this. What is the prompt you used"
   ]
  },
  {
   "cell_type": "code",
   "execution_count": 1,
   "id": "ca47e4a0-aeec-49ac-b77b-48f36f9ddc36",
   "metadata": {},
   "outputs": [],
   "source": [
    "#importing packages\n",
    "import numpy as np\n",
    "import matplotlib.pyplot as plt"
   ]
  },
  {
   "cell_type": "code",
   "execution_count": 2,
   "id": "02b3a28c-e753-4cdf-9211-b5b1e4f24e39",
   "metadata": {},
   "outputs": [],
   "source": [
    "sigma = 13\n",
    "mean = 55\n",
    "\n",
    "#x = np.random.normal(mean, sigma, n)"
   ]
  },
  {
   "cell_type": "markdown",
   "id": "4291d198-a1f5-4404-af60-c3198a89c8c0",
   "metadata": {},
   "source": [
    "## Problem 2\n",
    "Try to do the following steps on your own, without the help of AI. Use\n",
    "your code to create a sample with N=10 random draws.\n",
    "\n",
    "a. Do this 10 times (remember, don’t repeat the same command!). For each\n",
    "sample, record the sample number (0 to 9), the sample mean, and the\n",
    "sample standard deviation in an array with one row per sample. Do not\n",
    "include the actual values of the samples in your array.\n",
    "\n",
    "At the end you should have a 10 by 3 array with each line corresponding\n",
    "to one of your samples. For example,\n",
    "\n",
    "2 62.35 3.25\n",
    "\n",
    "would be the line for my sample 2, with a mean of 62.35 and a sigma of\n",
    "\n",
    "3.25"
   ]
  },
  {
   "cell_type": "code",
   "execution_count": 3,
   "id": "9b50b670-c56b-4ab4-ac28-4db3b26444f1",
   "metadata": {},
   "outputs": [
    {
     "name": "stdout",
     "output_type": "stream",
     "text": [
      "[[ 1.         50.89184991 14.25420429]\n",
      " [ 2.         54.73198584 12.61306455]\n",
      " [ 3.         51.03963919 14.34609755]\n",
      " [ 4.         61.22869035 14.18100282]\n",
      " [ 5.         48.09252589 13.79636291]\n",
      " [ 6.         51.28490222 15.80043545]\n",
      " [ 7.         55.92099688 11.55120334]\n",
      " [ 8.         50.13001669 10.43189928]\n",
      " [ 9.         45.5995343   7.69968808]\n",
      " [10.         61.76455491 12.84551054]]\n"
     ]
    }
   ],
   "source": [
    "sigma = 13\n",
    "mean = 55\n",
    "N = 10 # number of data points\n",
    "\n",
    "# 10x3 aray\n",
    "samples_array = np.zeros( (10,3) )\n",
    "\n",
    "# populate the array\n",
    "for i in range (N):\n",
    "    \n",
    "    x = np.random.normal(mean, sigma, N)\n",
    "\n",
    "    samples_array[i,0] = i+1\n",
    "    samples_array[i,1] = np.mean(x)\n",
    "    samples_array[i,2] = np.std(x)\n",
    "    \n",
    "print(samples_array) "
   ]
  },
  {
   "cell_type": "markdown",
   "id": "053c48c5-1590-48a8-97e7-6054fb0b0391",
   "metadata": {},
   "source": [
    "## Problem 3\n",
    "Ask AI to do the same for you! What is the prompt you used? How does your code compare?"
   ]
  },
  {
   "cell_type": "markdown",
   "id": "e27a1130-fe1f-483a-80e2-8e79be121011",
   "metadata": {},
   "source": [
    "Prompt: \n",
    "\n",
    "Use \n",
    "\n",
    "sigma = 13 \n",
    "mean = 55 \n",
    "x = np.random.normal(mean, sigma, n)\n",
    "\n",
    "to create a sample with N=10 random draws. \n",
    "\n",
    "a. Do this 10 times (remember, don’t repeat the same command!). For each sample, record the sample number (0 to 9), the sample mean, and the sample standard deviation in an array with one row per sample. \n",
    "\n",
    "Do not include the actual values of the samples in your array. At the end you should have a 10 by 3 array with each line corresponding to one of your samples. For example, 2 62.35 3.25 would be the line for my sample 2, with a mean of 62.35 and a sigma of 3.25 "
   ]
  },
  {
   "cell_type": "code",
   "execution_count": 4,
   "id": "e8a25b0b-955d-4545-8283-74cdbf862115",
   "metadata": {},
   "outputs": [
    {
     "name": "stdout",
     "output_type": "stream",
     "text": [
      "[[ 0.         47.07344029 13.77012016]\n",
      " [ 1.         63.2401252  12.76479662]\n",
      " [ 2.         48.96807278  9.00801377]\n",
      " [ 3.         57.6550054  20.04061234]\n",
      " [ 4.         58.51583248 13.89883698]\n",
      " [ 5.         50.22002902 15.53706684]\n",
      " [ 6.         53.97602681 12.03412141]\n",
      " [ 7.         57.15957382 10.17956426]\n",
      " [ 8.         52.87920591 18.55165621]\n",
      " [ 9.         62.33337404 11.14450558]]\n"
     ]
    }
   ],
   "source": [
    "import numpy as np\n",
    "\n",
    "# parameters\n",
    "sigma = 13\n",
    "mean = 55\n",
    "N = 10   # number of draws per sample\n",
    "M = 10   # number of samples\n",
    "\n",
    "# initialize result array: (sample_id, mean, std)\n",
    "results = np.zeros((M, 3))\n",
    "\n",
    "for i in range(M):\n",
    "    x = np.random.normal(mean, sigma, N)   # generate one sample\n",
    "    results[i, 0] = i                      # sample number\n",
    "    results[i, 1] = np.mean(x)             # sample mean\n",
    "    results[i, 2] = np.std(x, ddof=1)      # sample standard deviation (unbiased)\n",
    "\n",
    "print(results)\n"
   ]
  },
  {
   "cell_type": "markdown",
   "id": "65b1007f-d8e7-4a78-9831-8bc5a838b783",
   "metadata": {},
   "source": [
    "It differs because it has the number of samples and draws per sample as two different variables? Which should just be the same varaible. It also has ddof included as a parameter for the standard deviation. everything else looks about the same."
   ]
  },
  {
   "cell_type": "markdown",
   "id": "12d380fc-5568-4b8c-b8a5-e64968e7a9bb",
   "metadata": {},
   "source": [
    "## Problem 4"
   ]
  },
  {
   "cell_type": "markdown",
   "id": "b23ec4e0-3851-4175-abda-2276ec1157b6",
   "metadata": {},
   "source": [
    "Without the help of AI, use the appropriate Python commands to write the array into a text file. If you can’t easily figure out how to write to a file, Google and Stackoverflow will help. Remember to name the output file following the class’s formatting naming conventions. \n",
    "\n",
    "In your output file, before the table, include a comment stating the number of draws in the table. Be careful to not overwrite your previous entries on the file when you access it to write a new result!"
   ]
  },
  {
   "cell_type": "code",
   "execution_count": 5,
   "id": "2dba3d22-5907-4c09-b14d-aa6ae16570f9",
   "metadata": {},
   "outputs": [
    {
     "name": "stdout",
     "output_type": "stream",
     "text": [
      "[[ 1.         55.83379728 12.10834011]\n",
      " [ 2.         48.3514172   9.24065255]\n",
      " [ 3.         55.60293585 11.16675407]\n",
      " [ 4.         52.80380475  9.3460115 ]\n",
      " [ 5.         51.49684598 15.16489918]\n",
      " [ 6.         51.54983591  9.84147125]\n",
      " [ 7.         46.32717914 11.28213745]\n",
      " [ 8.         57.36148862 12.99842869]\n",
      " [ 9.         56.6807548  12.88627743]\n",
      " [10.         68.64318516 11.22989819]]\n"
     ]
    }
   ],
   "source": [
    "# source : https://stackoverflow.com/questions/51860716/how-save-a-array-to-text-file-in-python\n",
    "# source : https://numpy.org/doc/2.0/reference/generated/numpy.savetxt.html\n",
    "\n",
    "sigma = 13\n",
    "mean = 55\n",
    "N = 10 # number of data points\n",
    "\n",
    "# 10x3 aray\n",
    "samples_array = np.zeros( (10,3) )\n",
    "\n",
    "# populate the array\n",
    "for i in range (N):\n",
    "    x = np.random.normal(mean, sigma, N)\n",
    "    samples_array[i,0] = i+1\n",
    "    samples_array[i,1] = np.mean(x)\n",
    "    samples_array[i,2] = np.std(x)\n",
    "print(samples_array) \n",
    "\n",
    "output_name = 'practicum2_cesarinegraham.dat'\n",
    "np.savetxt(output_name, samples_array, fmt='%d %.5f %.5f', header='### sample size: 10')"
   ]
  },
  {
   "cell_type": "markdown",
   "id": "fe082b4d-a112-4285-8e6d-47aca6d18cd5",
   "metadata": {},
   "source": [
    "## Problem 5\n",
    "\n",
    "Repeat (2a) for samples with N=100, 1,000, 10,000, 100,000, and\n",
    "1,000,000 draws. Remember that you will need to do 10 repetitions for each of\n",
    "these sample sizes! Record each set of results in a separate 2D array and\n",
    "append them to the same file as in 4."
   ]
  },
  {
   "cell_type": "code",
   "execution_count": 6,
   "id": "6cd6a480-1784-4e77-9fad-cd0a6149b5ad",
   "metadata": {},
   "outputs": [
    {
     "name": "stdout",
     "output_type": "stream",
     "text": [
      "[[ 1.         53.46358754 12.34347833]\n",
      " [ 2.         56.39800037 13.04138935]\n",
      " [ 3.         56.68218588 13.39341598]\n",
      " [ 4.         55.3194204  14.34047239]\n",
      " [ 5.         54.99041704 13.97952106]\n",
      " [ 6.         54.83873435 13.6116032 ]\n",
      " [ 7.         53.80655549 11.50978032]\n",
      " [ 8.         54.17147376 12.2831347 ]\n",
      " [ 9.         55.15502647 13.82700821]\n",
      " [10.         56.58865849 12.62016272]]\n"
     ]
    }
   ],
   "source": [
    "# N=100\n",
    "sigma = 13\n",
    "mean = 55\n",
    "N = 10\n",
    "N2 = 100 # number of data points\n",
    "\n",
    "samples_100_array = np.zeros( (10,3) )\n",
    "\n",
    "# populate the array\n",
    "for i in range (N):\n",
    "    x = np.random.normal(mean, sigma, N2)\n",
    "    samples_100_array[i,0] = i+1\n",
    "    samples_100_array[i,1] = np.mean(x)\n",
    "    samples_100_array[i,2] = np.std(x)\n",
    "print(samples_100_array) "
   ]
  },
  {
   "cell_type": "code",
   "execution_count": 7,
   "id": "eb62d077-d0dc-4b5f-aa19-cc1bafe26fb1",
   "metadata": {},
   "outputs": [
    {
     "name": "stdout",
     "output_type": "stream",
     "text": [
      "[[ 1.         55.29210534 12.92025692]\n",
      " [ 2.         55.40895975 13.22433829]\n",
      " [ 3.         54.57616979 12.95413873]\n",
      " [ 4.         54.48151803 13.2107305 ]\n",
      " [ 5.         55.49518838 12.9740834 ]\n",
      " [ 6.         55.10926056 12.36422428]\n",
      " [ 7.         54.7080743  13.65347017]\n",
      " [ 8.         55.25319654 13.29421395]\n",
      " [ 9.         55.31606525 13.01629801]\n",
      " [10.         54.80298341 12.84085413]]\n"
     ]
    }
   ],
   "source": [
    "# N=1,000\n",
    "sigma = 13\n",
    "mean = 55\n",
    "N = 10\n",
    "N2 = 1000 # number of data points\n",
    "\n",
    "samples_1000_array = np.zeros( (10,3) )\n",
    "\n",
    "# populate the array\n",
    "for i in range (N):\n",
    "    x = np.random.normal(mean, sigma, N2)\n",
    "    samples_1000_array[i,0] = i+1\n",
    "    samples_1000_array[i,1] = np.mean(x)\n",
    "    samples_1000_array[i,2] = np.std(x)\n",
    "print(samples_1000_array) "
   ]
  },
  {
   "cell_type": "code",
   "execution_count": 8,
   "id": "a5f2a657-53f5-4dc8-90d1-ac11c65b24ad",
   "metadata": {},
   "outputs": [
    {
     "name": "stdout",
     "output_type": "stream",
     "text": [
      "[[ 1.         54.99088252 12.93179514]\n",
      " [ 2.         55.01963447 13.14634569]\n",
      " [ 3.         55.03327555 12.80571484]\n",
      " [ 4.         54.79967541 12.87133616]\n",
      " [ 5.         54.99185038 13.01729229]\n",
      " [ 6.         54.9119881  13.03063821]\n",
      " [ 7.         54.81324771 12.91260622]\n",
      " [ 8.         55.07377104 13.04906645]\n",
      " [ 9.         54.92091288 13.05463316]\n",
      " [10.         54.8194367  12.84815463]]\n"
     ]
    }
   ],
   "source": [
    "# N=10,000\n",
    "sigma = 13\n",
    "mean = 55\n",
    "N = 10\n",
    "N2 = 10000 # number of data points\n",
    "\n",
    "samples_10000_array = np.zeros( (10,3) )\n",
    "\n",
    "# populate the array\n",
    "for i in range (N):\n",
    "    x = np.random.normal(mean, sigma, N2)\n",
    "    samples_10000_array[i,0] = i+1\n",
    "    samples_10000_array[i,1] = np.mean(x)\n",
    "    samples_10000_array[i,2] = np.std(x)\n",
    "print(samples_10000_array) "
   ]
  },
  {
   "cell_type": "code",
   "execution_count": 9,
   "id": "abc231c9-bf45-4e20-a402-541f7ef31aed",
   "metadata": {},
   "outputs": [
    {
     "name": "stdout",
     "output_type": "stream",
     "text": [
      "[[ 1.         55.08392268 13.01686525]\n",
      " [ 2.         54.98809085 13.03118571]\n",
      " [ 3.         54.99257253 12.99179558]\n",
      " [ 4.         54.96395736 12.97239776]\n",
      " [ 5.         54.95042223 13.04216957]\n",
      " [ 6.         55.04673173 12.98217234]\n",
      " [ 7.         55.01956298 12.99685766]\n",
      " [ 8.         55.01188767 12.96846197]\n",
      " [ 9.         54.96763023 12.99701555]\n",
      " [10.         54.98447678 13.02904886]]\n"
     ]
    }
   ],
   "source": [
    "# N=100,000\n",
    "sigma = 13\n",
    "mean = 55\n",
    "N = 10\n",
    "N2 = 100000 # number of data points\n",
    "\n",
    "samples_100000_array = np.zeros( (10,3) )\n",
    "\n",
    "# populate the array\n",
    "for i in range (N):\n",
    "    x = np.random.normal(mean, sigma, N2)\n",
    "    samples_100000_array[i,0] = i+1\n",
    "    samples_100000_array[i,1] = np.mean(x)\n",
    "    samples_100000_array[i,2] = np.std(x)\n",
    "print(samples_100000_array) "
   ]
  },
  {
   "cell_type": "code",
   "execution_count": 10,
   "id": "ea34868d-3223-425e-ae45-30c401543ae7",
   "metadata": {},
   "outputs": [
    {
     "name": "stdout",
     "output_type": "stream",
     "text": [
      "[[ 1.         54.9918682  13.00809474]\n",
      " [ 2.         54.99494791 12.98694025]\n",
      " [ 3.         55.01935281 13.00872294]\n",
      " [ 4.         54.98655956 12.98571724]\n",
      " [ 5.         54.97619378 13.00897225]\n",
      " [ 6.         54.98197725 13.01254273]\n",
      " [ 7.         54.99377976 13.00099057]\n",
      " [ 8.         54.98798996 13.00381284]\n",
      " [ 9.         55.01631999 12.98695672]\n",
      " [10.         54.98754774 13.00203294]]\n"
     ]
    }
   ],
   "source": [
    "# N=1,000,000\n",
    "sigma = 13\n",
    "mean = 55\n",
    "N = 10\n",
    "N2 = 1000000 # number of data points\n",
    "\n",
    "samples_1000000_array = np.zeros( (10,3) )\n",
    "\n",
    "# populate the array\n",
    "for i in range (N):\n",
    "    x = np.random.normal(mean, sigma, N2)\n",
    "    samples_1000000_array[i,0] = i+1\n",
    "    samples_1000000_array[i,1] = np.mean(x)\n",
    "    samples_1000000_array[i,2] = np.std(x)\n",
    "print(samples_1000000_array) "
   ]
  },
  {
   "cell_type": "markdown",
   "id": "b0fed0ce-ccce-4fdd-af60-575b78c3c57c",
   "metadata": {},
   "source": [
    "Record each set of results in a separate 2D array and\n",
    "append them to the same file as in 4.\n"
   ]
  },
  {
   "cell_type": "code",
   "execution_count": 11,
   "id": "fa8de385-5e29-47e8-9e89-e2da93c3faa6",
   "metadata": {},
   "outputs": [],
   "source": [
    "#samples_array\n",
    "#samples_100_array\n",
    "#samples_1000_array\n",
    "#samples_10000_array\n",
    "#samples_100000_array\n",
    "#samples_1000000_array\n",
    "\n",
    "\n",
    "with open('practicum2_cesarinegraham.dat', 'ab') as f:                     #opening as binary\n",
    "    f.write(b'\\n')\n",
    "    np.savetxt(f, samples_100_array, fmt='%d %.5f %.5f', header='### sample size: 100') \n",
    "    np.savetxt(f, samples_1000_array, fmt='%d %.5f %.5f', header='\\n ### sample size: 1000') \n",
    "    np.savetxt(f, samples_10000_array, fmt='%d %.5f %.5f', header='\\n ### sample size: 10000') \n",
    "    np.savetxt(f, samples_100000_array, fmt='%d %.5f %.5f', header='\\n ### sample size: 100000') \n",
    "    np.savetxt(f, samples_1000000_array, fmt='%d %.5f %.5f', header='\\n ### sample size: 1000000') "
   ]
  },
  {
   "cell_type": "markdown",
   "id": "05d488f2-37b9-464c-b953-cb2dc3136439",
   "metadata": {},
   "source": [
    "## Problem 6\n",
    "\n",
    "You will find the standard deviation of the means for each of the six sample sizes\n",
    "you run. To do this, read in all the data you generated and stored. Use an\n",
    "appropriate Python function to find the standard deviation of your means for each\n",
    "sample size.\n",
    "\n",
    "Then, print the sample size and its calculated standard deviation both on the\n",
    "screen and in your .txt (or.dat) file (careful to not overwrite the data that is\n",
    "already there! Just append this info). For example, your output could look like\n",
    "this"
   ]
  },
  {
   "cell_type": "code",
   "execution_count": 12,
   "id": "2785f8ed-0d4c-4cd7-bbcc-780473262c11",
   "metadata": {},
   "outputs": [],
   "source": [
    "stat_sample_data = np.loadtxt('practicum2_cesarinegraham.dat')\n",
    "\n",
    "#stat_sample_data"
   ]
  },
  {
   "cell_type": "code",
   "execution_count": 13,
   "id": "8aec3b6e-6360-4467-9017-00bbb71913e7",
   "metadata": {},
   "outputs": [
    {
     "name": "stdout",
     "output_type": "stream",
     "text": [
      "10.0000005.84086\n",
      "100.0000001.08312\n",
      "1000.0000000.35022\n",
      "10000.0000000.09465\n",
      "100000.0000000.03871\n",
      "1000000.0000000.01319\n"
     ]
    }
   ],
   "source": [
    "sigma_of_means = np.zeros( (6,2) )\n",
    "array_siz = [10,100,1000,10000,100000,1000000]\n",
    "\n",
    "for j in range(6):\n",
    "    # get the size of the sample\n",
    "    sigma_of_means[j,0] = array_siz[j]\n",
    "\n",
    "    # get the means and get their std\n",
    "    sigma_of_means[j,1] = np.std(stat_sample_data[j*10 : (j+1)*10,1])\n",
    "\n",
    "for j in range(6):\n",
    "    print('{0:f}{1:.5f}'.format(sigma_of_means[j,0], sigma_of_means[j,1]))\n",
    "\n",
    "with open('practicum2_cesarinegraham.dat', 'ab') as f:                     #opening as binary\n",
    "    f.write(b'\\n')\n",
    "    np.savetxt(f, sigma_of_means, fmt='%f %.5f', header='### the sigma of means per sample') "
   ]
  },
  {
   "cell_type": "markdown",
   "id": "9206c231-3341-4228-822c-bbd721e70f2a",
   "metadata": {},
   "source": [
    "## Problem 7\n",
    "\n",
    "Make a log-log plot of the standard deviation of the mean vs. sample\n",
    "size. The sample size should be the independent variable on your plot. Save as\n",
    "PNG using the appropriate python command. Remember to name your plot using\n",
    "an appropriate name.\n"
   ]
  },
  {
   "cell_type": "code",
   "execution_count": 15,
   "id": "6848b42c-0748-4dba-a7fa-9f2a24a81eb4",
   "metadata": {},
   "outputs": [
    {
     "data": {
      "image/png": "[encoded data removed]",
      "text/plain": [
       "<Figure size 700x400 with 1 Axes>"
      ]
     },
     "metadata": {},
     "output_type": "display_data"
    }
   ],
   "source": [
    "plt.figure(figsize=(7,4))\n",
    "plt.loglog(sigma_of_means[:,0], sigma_of_means[:,1], 'o-', linewidth=2, markersize=6)\n",
    "\n",
    "# formatting\n",
    "plt.xlabel(\"Array Size\")\n",
    "plt.ylabel(\"$\\sigma_\\mu$\")\n",
    "plt.title(\"Standard Deviation of the Mean vs. Sample Size\")\n",
    "\n",
    "# saving\n",
    "plt.savefig(\"loglogplot_cesarinegraham.png\", dpi=300)\n",
    "plt.show()"
   ]
  },
  {
   "cell_type": "markdown",
   "id": "7901739d-42e0-41ff-9987-4119876d78de",
   "metadata": {},
   "source": [
    "As the sample size increases, the smaller $\\sigma$ is, and the closer you get to the actual value of the dataset"
   ]
  },
  {
   "cell_type": "code",
   "execution_count": null,
   "id": "66fef5e1-83bc-472f-b2d1-5f9afd82e47b",
   "metadata": {},
   "outputs": [],
   "source": []
  }
 ],
 "metadata": {
  "kernelspec": {
   "display_name": "Python [conda env:base] *",
   "language": "python",
   "name": "conda-base-py"
  },
  "language_info": {
   "codemirror_mode": {
    "name": "ipython",
    "version": 3
   },
   "file_extension": ".py",
   "mimetype": "text/x-python",
   "name": "python",
   "nbconvert_exporter": "python",
   "pygments_lexer": "ipython3",
   "version": "3.9.23"
  }
 },
 "nbformat": 4,
 "nbformat_minor": 5
}
