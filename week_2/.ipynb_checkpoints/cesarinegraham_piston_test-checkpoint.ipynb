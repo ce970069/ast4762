{
 "cells": [
  {
   "cell_type": "markdown",
   "id": "36398dbd-8e51-446a-9b40-2d9edaeab64b",
   "metadata": {},
   "source": [
    "## Piston test: ##\n",
    "\n",
    "A piston has a volume V containing dry air (an ideal gas) with pressure P and\n",
    "temperature T. Under the ideal gas law 𝑃𝑉= 𝑐𝑜𝑛𝑠𝑡. Under adiabatic 𝑇 expansion, where\n",
    "no heat is added or removed, 𝑃𝑉γ = 𝑐𝑜𝑛𝑠𝑡, where γ= cp=cv = 1.4 for dry air, and cp and\n",
    "cv are the heat capacities at constant pressure and volume, respectively. Consider a\n",
    "piston that starts with volume 1 liter and pressure 1 atm at 300 K. It compresses to 0.1\n",
    "liter.\n",
    "\n",
    "a) Make a function piston(V,P0,V0,T0,gamma) that takes an array of N volumes, initial\n",
    "(P; V; T) values, and γ. The function should then calculate the pressures for the piston\n",
    "volumes in V, using the adiabatic law. Then, the function should calculate the\n",
    "temperatures using the ideal gas law. The function should return an (N, 3) array\n",
    "containing (P; V; T) values. Remember to use good coding style and to include a\n",
    "docstring! Import the function, call it and print the returned array for V =\n",
    "np.linspace(1,0.1,40).\n",
    "\n",
    "b) Make a 3D plot of your (P; V; T) triples as a curve in space. Be sure to\n",
    "include labels with units on each axis and a title. Save the plot as PNG using the\n",
    "appropriate naming conventions of this course."
   ]
  },
  {
   "cell_type": "code",
   "execution_count": 2,
   "id": "f158970a-6a91-46b1-ac29-1d69c57c7316",
   "metadata": {},
   "outputs": [],
   "source": [
    "#personal / partial attempt\n",
    "import numpy as np\n",
    "\n",
    "def piston_test( V,P0,V0,T0,gamma ):\n",
    "    P = P0 * (V0 / V) ** gamma\n",
    "    T = T0 * (P / P0) * (V/ V0)\n",
    "    return np.column_stack((P, V, T))\n",
    "\n",
    "    #as far as I got ... had to find the formulas"
   ]
  }
 ],
 "metadata": {
  "kernelspec": {
   "display_name": "Python [conda env:base] *",
   "language": "python",
   "name": "conda-base-py"
  },
  "language_info": {
   "codemirror_mode": {
    "name": "ipython",
    "version": 3
   },
   "file_extension": ".py",
   "mimetype": "text/x-python",
   "name": "python",
   "nbconvert_exporter": "python",
   "pygments_lexer": "ipython3",
   "version": "3.9.18"
  }
 },
 "nbformat": 4,
 "nbformat_minor": 5
}
