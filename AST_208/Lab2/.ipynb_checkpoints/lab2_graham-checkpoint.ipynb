{
 "cells": [
  {
   "cell_type": "markdown",
   "metadata": {},
   "source": [
    "# Lab 2: Measuring Sizes and Distances from Angles (71 Total Points)"
   ]
  },
  {
   "cell_type": "markdown",
   "metadata": {},
   "source": [
    "<i class=\"fa fa-pencil\" style=\"font-size:1.5em; color:red\"></i>\n",
    "Your Name: Cesarine Graham\n",
    "\n",
    "Date: 01/26/2023\n",
    "\n",
    "**Team Name:** Team We Can't Come Up With Names\n",
    "\n",
    "**Collaborators:** Abrar Alhammadi, Austin Parker, Subhroja Roy "
   ]
  },
  {
   "cell_type": "code",
   "execution_count": 1,
   "metadata": {},
   "outputs": [],
   "source": [
    "# Run this cell first (type shift-enter)\n",
    "import numpy as np\n",
    "import matplotlib.pyplot as plt\n",
    "%matplotlib inline"
   ]
  },
  {
   "cell_type": "markdown",
   "metadata": {},
   "source": [
    "Make sure you create a Lab 2 directory, and save this ipynb to it!!! (You do NOT want to get zero points on a 1ab because you turn in a blank lab).\n",
    "\n",
    "## If you need to wait for a group to finish their measurements to start, do the following:\n",
    "\n",
    "* Read the directions for angle measurements.\n",
    "\n",
    "* Get to know your group (answer questions 1--3)\n",
    "\n",
    "* Start working on questions 11 and 12!\n",
    "\n",
    "<i class=\"fa fa-pencil\" style=\"font-size:1.5em; color:red\"></i> 1) What are the names of the people in your lab group, and what are their email addresses?\n",
    "\n",
    "<span style=\"color:red\">(2 points total)</span>\n",
    "\n",
    "Abrar Alhammadi: alhamm16@msu.edu\n",
    "\n",
    "Austin Parker: parke431@msu.edu\n",
    "\n",
    "Subhroja Roy: roysubh1@msu.edu\n"
   ]
  },
  {
   "cell_type": "markdown",
   "metadata": {},
   "source": [
    "<i class=\"fa fa-pencil\" style=\"font-size:1.5em; color:red\"></i> 2) Pick a team name!\n",
    "\n",
    "<span style=\"color:red\">(1 point total)</span>\n",
    "\n",
    "Team Name: Team We Can't Come Up With Names"
   ]
  },
  {
   "cell_type": "markdown",
   "metadata": {},
   "source": [
    "<i class=\"fa fa-pencil\" style=\"font-size:1.5em; color:red\"></i> 3) Discuss what your team-mates' comfort levels are with a) coding; b) mathematical calculations; c) astrophysical concepts. Discuss strategies you might implement if one or two members of the team are \"stuck\" or confused. Discuss strategies to implement if your whole team is confused. Summarize your discussion below.\n",
    "\n",
    "<span style=\"color:red\">(4 points total)</span>"
   ]
  },
  {
   "cell_type": "markdown",
   "metadata": {},
   "source": [
    "Subhroja is okay with coding (ULA for CMSE 201). Austin is also okay with coding (computer programmer for 10+ years). I am okay with math and coding (double math major)\n",
    "\n",
    "We are all collectively good with astrophysical concepts\n",
    "\n",
    "If one person gets stuck, they're going to let the whole team know so that we can stop and catch them up. Abrar also has bad vision so we are going to measure the angles for her."
   ]
  },
  {
   "cell_type": "markdown",
   "metadata": {},
   "source": [
    "## Your Measurements\n",
    "\n",
    "While in the Lab room, your lab group took a number of measurements. \n",
    "\n",
    "<i class=\"fa fa-pencil\" style=\"font-size:1.5em; color:red\"></i> 4) What landmark were you making measurements of? \n",
    "\n",
    "<span style=\"color:red\">(1 point total)</span>\n",
    "\n",
    "We were taking measurements of the structural pillar in the middle of the room. Our \"star\" was a point in the middle of the pillar."
   ]
  },
  {
   "cell_type": "markdown",
   "metadata": {
    "collapsed": true
   },
   "source": [
    "<i class=\"fa fa-cogs\" style=\"font-size:1.5em; color:red\"></i> 5) What was the baseline separation between your two observing positions in meters? Define a variable (with a memorable name) in the code cell below and set it to the separation.\n",
    "\n",
    "<span style=\"color:red\">(2 points total)</span>"
   ]
  },
  {
   "cell_type": "code",
   "execution_count": 2,
   "metadata": {},
   "outputs": [],
   "source": [
    "bsep = 1.32 #meters"
   ]
  },
  {
   "cell_type": "markdown",
   "metadata": {
    "collapsed": true
   },
   "source": [
    "<i class=\"fa fa-cogs\" style=\"font-size:1.5em; color:red\"></i> 6) Create an array with all the angular size measurements (There should be two times as many measurements as there are members of your group). You might have to look back at Lab 1 to recall how to make an array.\n",
    "\n",
    "<span style=\"color:red\">(5 points total)</span>"
   ]
  },
  {
   "cell_type": "code",
   "execution_count": 3,
   "metadata": {},
   "outputs": [],
   "source": [
    "angular_size_array = np.array([5,5,4,5,7,8,7,5]) #degrees"
   ]
  },
  {
   "cell_type": "markdown",
   "metadata": {
    "collapsed": true
   },
   "source": [
    "<i class=\"fa fa-cogs\" style=\"font-size:1.5em; color:red\"></i> 7) Create an array with all the angle measurements obtained from the **left** position. Your array can be in units of degrees. (There should be twice the number of measurements as people in your group; say, 6--8 elements). \n",
    "\n",
    "<span style=\"color:red\">(5 points total)</span>"
   ]
  },
  {
   "cell_type": "code",
   "execution_count": 4,
   "metadata": {},
   "outputs": [],
   "source": [
    "angular_size_angles_left = np.array([95,93,91,93,95,94,95,94]) #degrees"
   ]
  },
  {
   "cell_type": "markdown",
   "metadata": {},
   "source": [
    "<i class=\"fa fa-cogs\" style=\"font-size:1.5em; color:red\"></i> 8) Create an array with all the angle measurements obtained from the **right** position. Your array can be in units of degrees. (Again there should be twice the number of measurements as people in your group; say, 6--8 elements). \n",
    "\n",
    "<span style=\"color:red\">(5 points total)</span>"
   ]
  },
  {
   "cell_type": "code",
   "execution_count": 5,
   "metadata": {},
   "outputs": [],
   "source": [
    "angular_size_angles_right = np.array([84,84,82,83,80,81,76,80]) #degrees"
   ]
  },
  {
   "cell_type": "markdown",
   "metadata": {},
   "source": [
    "## Angular size\n",
    "\n",
    "<i class=\"fa fa-cogs\" style=\"font-size:1.5em; color:red\"></i> 9) What is the average angular size of your landmark? What is the uncertainty in one of your groups' angular sizes (ie., the standard deviation of these angular sizes)? What is the uncertainty in the **average** angular size?  Use array math in the code cell below. Print the mean and standard deviation, and find a way to specify the units.\n",
    "\n",
    "<span style=\"color:red\">(4 points total)</span>"
   ]
  },
  {
   "cell_type": "code",
   "execution_count": 6,
   "metadata": {},
   "outputs": [
    {
     "name": "stdout",
     "output_type": "stream",
     "text": [
      "the average angular size is:  5.75 degrees\n",
      "the uncertainty of the angular size is:  1.299038105676658 degrees\n",
      "the uncertainty of the average angular size:  0.45927932677184585 degrees\n"
     ]
    }
   ],
   "source": [
    "avg_angular_size = np.mean(angular_size_array)\n",
    "print(\"the average angular size is: \" , avg_angular_size , \"degrees\")\n",
    "\n",
    "std_angular_size = np.std(angular_size_array)\n",
    "print(\"the uncertainty of the angular size is: \" , std_angular_size , \"degrees\")\n",
    "\n",
    "uncert_avg_ang_size = std_angular_size / (np.sqrt(8))\n",
    "print(\"the uncertainty of the average angular size: \" , uncert_avg_ang_size , \"degrees\")"
   ]
  },
  {
   "cell_type": "markdown",
   "metadata": {},
   "source": [
    "<i class=\"fa fa-pencil\" style=\"font-size:1.5em; color:red\"></i> 10) Does the spread in the angular size measurements seem consistent with what you noticed in the hallway? Do you feel that your measurements were much more accurate, or much cruder, than implied by the calculated standard deviations? Explain (the fact that you measured each angle twice should have given you some basic intuition for how accurate your measurements were).\n",
    "\n",
    "<span style=\"color:red\">(2 points total)</span>\n",
    "\n",
    "I think that our measurements seem consistent due to the low uncertainty of the angular size and average angular size. We also recorded the same angles multiple times, which further indicates that we had precise data."
   ]
  },
  {
   "cell_type": "markdown",
   "metadata": {},
   "source": [
    "<i class=\"fa fa-pencil\" style=\"font-size:1.5em; color:red\"></i> 11) If we knew the distance to the landmark, we could figure out the landmark's physical size (in e.g., meters). What would be the expression linking distance, angular size, and physical size? Write out the equation using  nice math formatting in a markdown cell.  \n",
    "\n",
    "\n",
    "\\begin{equation}\n",
    "s = 2d \\tan(\\alpha)\n",
    "\\end{equation}\n",
    "\n",
    "s: physical size\n",
    "\n",
    "d: distance\n",
    "\n",
    "alpha: 1/2 of the angular size"
   ]
  },
  {
   "cell_type": "markdown",
   "metadata": {},
   "source": [
    "## Finding the parallax angle \n",
    "<i class=\"fa fa-cogs\" style=\"font-size:1.5em; color:red\"></i> 12) How can you use your measurements from the left position and the right position to measure the distance to the center of your landmark? You are essentially \"triangulating\" on it. Give an equation for how you could measure the distance, given your angle measurements from the left and right positions, and the distance between the left and right position. Draw a picture backing up this expression, and embed it in this notebook.\n",
    "\n",
    "<span style=\"color:red\">(6 points total)</span>\n"
   ]
  },
  {
   "cell_type": "markdown",
   "metadata": {},
   "source": [
    "![lab2](lab2.png \"drawing of the trig\")"
   ]
  },
  {
   "cell_type": "markdown",
   "metadata": {},
   "source": [
    " <i class=\"fa fa-cogs\" style=\"font-size:1.5em; color:red\"></i> 13) What is the average angle measured from the left position? What is the uncertainty in one of your angle measurements (ie., the standard deviation of these angles)? What is the uncertainty in the **average** angle measured from the left position?  \n",
    " \n",
    "<span style=\"color:red\">(4 points total)</span>"
   ]
  },
  {
   "cell_type": "code",
   "execution_count": 7,
   "metadata": {},
   "outputs": [
    {
     "name": "stdout",
     "output_type": "stream",
     "text": [
      "the average left angle is:  93.75 degrees\n",
      "the uncertainty of the angular size is:  1.299038105676658 degrees\n",
      "the uncertainty of the average angular size:  0.45927932677184585 degrees\n"
     ]
    }
   ],
   "source": [
    "avg_angular_size_angles_left = np.mean(angular_size_angles_left)\n",
    "print(\"the average left angle is: \" , avg_angular_size_angles_left , \"degrees\")\n",
    "\n",
    "std_angular_size_angles_left = np.std(angular_size_angles_left)\n",
    "print(\"the uncertainty of the angular size is: \" , std_angular_size_angles_left , \"degrees\")\n",
    "\n",
    "uncert_avg_ang_size_left = std_angular_size_angles_left / (np.sqrt(8))\n",
    "print(\"the uncertainty of the average angular size: \" , uncert_avg_ang_size_left , \"degrees\")"
   ]
  },
  {
   "cell_type": "markdown",
   "metadata": {},
   "source": [
    "<i class=\"fa fa-cogs\" style=\"font-size:1.5em; color:red\"></i> 14) What is the average angle measured from the right position? What is the uncertainty in one of your angle measurements (ie., the standard deviation of these angles)? What is the uncertainty in the **average** angle measured from the right position?\n",
    "\n",
    "<span style=\"color:red\">(4 points total)</span>"
   ]
  },
  {
   "cell_type": "code",
   "execution_count": 8,
   "metadata": {},
   "outputs": [
    {
     "name": "stdout",
     "output_type": "stream",
     "text": [
      "the average right angle is:  81.25 degrees\n",
      "the uncertainty of the angular size is:  2.48746859276655 degrees\n",
      "the uncertainty of the average angular size:  0.879452954966893 degrees\n"
     ]
    }
   ],
   "source": [
    "avg_angular_size_angles_right = np.mean(angular_size_angles_right)\n",
    "print(\"the average right angle is: \" , avg_angular_size_angles_right , \"degrees\")\n",
    "\n",
    "std_angular_size_angles_right = np.std(angular_size_angles_right)\n",
    "print(\"the uncertainty of the angular size is: \" , std_angular_size_angles_right , \"degrees\")\n",
    "\n",
    "uncert_avg_ang_size_right = std_angular_size_angles_right / (np.sqrt(8))\n",
    "print(\"the uncertainty of the average angular size: \" , uncert_avg_ang_size_right , \"degrees\")"
   ]
  },
  {
   "cell_type": "markdown",
   "metadata": {},
   "source": [
    "<i class=\"fa fa-cogs\" style=\"font-size:1.5em; color:red\"></i> 15) What is the average angular shift of the landmark between the two positions? Do your math in the code cell below, using the variables you created in previous cells.\n",
    "\n",
    "<span style=\"color:red\">(3 points total)</span>"
   ]
  },
  {
   "cell_type": "code",
   "execution_count": 9,
   "metadata": {},
   "outputs": [
    {
     "name": "stdout",
     "output_type": "stream",
     "text": [
      "the angular shift is:  12.5\n"
     ]
    }
   ],
   "source": [
    "angular_shift = np.abs(np.mean(avg_angular_size_angles_right - avg_angular_size_angles_left))\n",
    "print('the angular shift is: ', angular_shift)"
   ]
  },
  {
   "cell_type": "markdown",
   "metadata": {},
   "source": [
    "<i class=\"fa fa-cogs\" style=\"font-size:1.5em; color:red\"></i> 16) What is the error on the average angular shift? Use the formalism from Taylor Section 3.6 to propagate uncertainties and estimate this error.  Write out the equation in this markdown cell, but do the actual math in the code cell below, using variables you created in previous cells. \n",
    "\n",
    "<span style=\"color:red\">(3 points total)</span>\n",
    "\n"
   ]
  },
  {
   "cell_type": "markdown",
   "metadata": {},
   "source": [
    "\\begin{equation}\n",
    " \\sqrt{(\\delta_{right})^2+(\\delta_{left})^2}\n",
    " \\end{equation}"
   ]
  },
  {
   "cell_type": "code",
   "execution_count": 10,
   "metadata": {},
   "outputs": [
    {
     "name": "stdout",
     "output_type": "stream",
     "text": [
      "the error on the average angular shift is:  2.806243040080456 degrees.\n"
     ]
    }
   ],
   "source": [
    "avg_ang_shift_error = np.sqrt((std_angular_size_angles_right)**2+(std_angular_size_angles_left)**2)\n",
    "print('the error on the average angular shift is: ', avg_ang_shift_error, 'degrees.')"
   ]
  },
  {
   "cell_type": "markdown",
   "metadata": {},
   "source": [
    "## Distance calculation\n",
    "\n",
    "<i class=\"fa fa-cogs\" style=\"font-size:1.5em; color:red\"></i> 17) Calculate and print the distance to the landmark. Can you use the small angle formula? Why or why not (the simplest way to answer this question is to do the calculation twice---once with the full equation and once in the \"small angle\" approximation.\n",
    "\n",
    "Do the math in the code cell below, using variables you created in previous cells---but make sure how you did the calculation is clear, either by commenting your code or making notes in this markdown cell.\n",
    "\n",
    "<span style=\"color:red\">(5 points total)</span>"
   ]
  },
  {
   "cell_type": "markdown",
   "metadata": {},
   "source": [
    "#### Small Angle Approximation Formula:\n",
    "\\begin{equation}\n",
    "d = \\frac{s}{\\alpha} \n",
    "\\end{equation}\n",
    "where s is the angular size, and alpha is the average measured angle\n",
    "\n",
    "#### Regular Triangulation Method Formula:\n",
    "\\begin{equation}\n",
    "d = 0.66 \\tan^{-1}(\\alpha)\n",
    "\\end{equation}"
   ]
  },
  {
   "cell_type": "code",
   "execution_count": 11,
   "metadata": {},
   "outputs": [
    {
     "name": "stdout",
     "output_type": "stream",
     "text": [
      "the distance to the landmark using the small angle approximation is:  2.1739130434782608 m.\n",
      "the distance to the landmark using the triangulation method is:  6.55446578643506 m.\n"
     ]
    }
   ],
   "source": [
    "#small angle approximation \n",
    "s = angular_shift #12.5deg, found in question 15\n",
    "alpha = avg_angular_size #5.75deg, found in question 9\n",
    "small_angle_distance = s/alpha\n",
    "print('the distance to the landmark using the small angle approximation is: ', small_angle_distance, 'm.')\n",
    "\n",
    "#regular triangulation method\n",
    "s = angular_shift #12.5deg, found in question 15\n",
    "triangulation_distance = 0.66/(np.tan((5.75*np.pi)/180)) #\n",
    "print('the distance to the landmark using the triangulation method is: ', triangulation_distance, 'm.')"
   ]
  },
  {
   "cell_type": "markdown",
   "metadata": {},
   "source": [
    "<i class=\"fa fa-cogs\" style=\"font-size:1.5em; color:red\"></i> 18) Calculate and print the uncertainty in the distance. Use the formalism from Taylor Section 3.6 to estimate this error. You can assume that your measurement of the baseline separation is very accurate, and therefore its uncertainty is negligible.  As always, do your math in the code cell below but be sure to show how you estimated your error.\n",
    "\n",
    "<span style=\"color:red\">(3 points total)</span>"
   ]
  },
  {
   "cell_type": "markdown",
   "metadata": {},
   "source": [
    " \\begin{equation}\n",
    " \\frac{\\delta_{d}}{d} = \\sqrt{\\left(\\frac{\\partial \\alpha}{\\alpha}\\right)^2}\n",
    " \\end{equation}"
   ]
  },
  {
   "cell_type": "code",
   "execution_count": 12,
   "metadata": {},
   "outputs": [
    {
     "name": "stdout",
     "output_type": "stream",
     "text": [
      "the uncertainty in the distance is:  0.4869565217391304 m.\n"
     ]
    }
   ],
   "source": [
    "distance_uncertainty = np.sqrt(((2.8)/(5.75))**2)\n",
    "print('the uncertainty in the distance is: ', distance_uncertainty, 'm.')"
   ]
  },
  {
   "cell_type": "markdown",
   "metadata": {},
   "source": [
    "<i class=\"fa fa-pencil\" style=\"font-size:1.5em; color:red\"></i> 19) Time for a sanity check! Given what you know about the lab room, does the distance you calculated make sense? Why or why not? \n",
    "\n",
    "<span style=\"color:red\">(2 points total)</span>\n",
    "\n",
    "The distance we calculated does make sense. We estimated the distance to the 'star' by counting how many steps it took to get to the target. We used Austin's feet (since he has a size 12 foot), and we counted enough steps to equate to roughly 7.315 meters. "
   ]
  },
  {
   "cell_type": "markdown",
   "metadata": {},
   "source": [
    "## Angular size vs. Physical size\n",
    "\n",
    "<i class=\"fa fa-cogs\" style=\"font-size:1.5em; color:red\"></i> 20) What is the physical size of the landmark? Again, can you use the small angle formula? Why or why not? Do your math below, but show your work and be sure to note units!\n",
    "\n",
    "<span style=\"color:red\">(4 points total)</span>\n",
    "\n",
    "\n",
    "\\begin{equation}\n",
    "s = 2d \\tan(\\alpha)\n",
    "\\end{equation}\n",
    "\n",
    "You cannot use the small angle approximation due to the small distance to the landmark. The small angle approximation can only be used in vastly large distances- not distances from across the room."
   ]
  },
  {
   "cell_type": "code",
   "execution_count": 13,
   "metadata": {},
   "outputs": [
    {
     "name": "stdout",
     "output_type": "stream",
     "text": [
      "the physical size of the landmark is  1.32 m.\n"
     ]
    }
   ],
   "source": [
    "physical_size = 2*triangulation_distance*np.tan(avg_angular_size * (np.pi)/180)\n",
    "print(\"the physical size of the landmark is \", physical_size, \"m.\")"
   ]
  },
  {
   "cell_type": "markdown",
   "metadata": {},
   "source": [
    "<i class=\"fa fa-cogs\" style=\"font-size:1.5em; color:red\"></i> 21) Calculate the uncertainty in the physical size of the landmark. (You can assume the uncertainty on the angular height of the landmark was neglible---but there is another source of uncertainty).\n",
    "\n",
    "<span style=\"color:red\">(2 points total)</span>\n",
    "\n",
    " \\begin{equation}\n",
    " \\frac{\\delta_{s}}{s} = \\sqrt{{\\left(\\frac{\\partial \\alpha}{\\alpha}\\right)^2 + \\left(\\frac{\\partial d}{d}\\right)^2}}\n",
    " \\end{equation}"
   ]
  },
  {
   "cell_type": "code",
   "execution_count": 14,
   "metadata": {},
   "outputs": [
    {
     "name": "stdout",
     "output_type": "stream",
     "text": [
      "the uncertainty of the physical size of the landmark is  0.4925769660689764 m.\n"
     ]
    }
   ],
   "source": [
    "uncertainty_physical_size = np.sqrt(((2.8)/(5.75))**2 + ((0.486)/(6.55))**2)\n",
    "print(\"the uncertainty of the physical size of the landmark is \", uncertainty_physical_size , \"m.\")"
   ]
  },
  {
   "cell_type": "markdown",
   "metadata": {},
   "source": [
    "## <i class=\"fa fa-exclamation-triangle\" style=\"font-size:1.5em; color:red\"></i>Closeout\n",
    "\n",
    "Prepare this lab for submission: Remove any \"tips\" and unnecessary instruction text or cells. Leave in numbered questions, and make sure you have answered all questions clearly and thoroughly---and that you **always show your work or mathematical reasoning**. Make sure that all markdown cells are rendered, that code cells execute properly, and that this notebook is saved.  After you've saved the notebook, select `File : Close and Halt`. Follow the instructions on D2L for uploading this notebook to the appropriate dropbox."
   ]
  }
 ],
 "metadata": {
  "kernelspec": {
   "display_name": "Python 3 (ipykernel)",
   "language": "python",
   "name": "python3"
  },
  "language_info": {
   "codemirror_mode": {
    "name": "ipython",
    "version": 3
   },
   "file_extension": ".py",
   "mimetype": "text/x-python",
   "name": "python",
   "nbconvert_exporter": "python",
   "pygments_lexer": "ipython3",
   "version": "3.9.13"
  }
 },
 "nbformat": 4,
 "nbformat_minor": 2
}
