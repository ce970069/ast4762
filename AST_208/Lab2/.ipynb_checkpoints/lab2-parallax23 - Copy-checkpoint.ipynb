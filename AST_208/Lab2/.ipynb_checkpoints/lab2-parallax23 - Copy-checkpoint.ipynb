{
 "cells": [
  {
   "cell_type": "markdown",
   "metadata": {},
   "source": [
    "# Lab 2: Measuring Sizes and Distances from Angles (71 Total Points)"
   ]
  },
  {
   "cell_type": "markdown",
   "metadata": {},
   "source": [
    "<i class=\"fa fa-pencil\" style=\"font-size:1.5em; color:red\"></i>\n",
    "Your Name  \n",
    "Date  \n",
    "**Team Name:**  \n",
    "**Collaborators:** Collaborator 1, Collaborator 2, Collaborator 3  "
   ]
  },
  {
   "cell_type": "code",
   "execution_count": 1,
   "metadata": {},
   "outputs": [],
   "source": [
    "# Run this cell first (type shift-enter)\n",
    "import numpy as np\n",
    "import matplotlib.pyplot as plt\n",
    "%matplotlib inline"
   ]
  },
  {
   "cell_type": "markdown",
   "metadata": {},
   "source": [
    "Make sure you create a Lab 2 directory, and save this ipynb to it!!! (You do NOT want to get zero points on a 1ab because you turn in a blank lab).\n",
    "\n",
    "## If you need to wait for a group to finish their measurements to start, do the following:\n",
    "\n",
    "* Read the directions for angle measurements.\n",
    "\n",
    "* Get to know your group (answer questions 1--3)\n",
    "\n",
    "* Start working on questions 11 and 12!\n",
    "\n",
    "<i class=\"fa fa-pencil\" style=\"font-size:1.5em; color:red\"></i> 1) What are the names of the people in your lab group, and what are their email addresses?\n",
    "\n",
    "<span style=\"color:red\">(2 points total)</span>"
   ]
  },
  {
   "cell_type": "markdown",
   "metadata": {},
   "source": [
    "<i class=\"fa fa-pencil\" style=\"font-size:1.5em; color:red\"></i> 2) Pick a team name!\n",
    "\n",
    "<span style=\"color:red\">(1 point total)</span>"
   ]
  },
  {
   "cell_type": "markdown",
   "metadata": {},
   "source": [
    "<i class=\"fa fa-pencil\" style=\"font-size:1.5em; color:red\"></i> 3) Discuss what your team-mates' comfort levels are with a) coding; b) mathematical calculations; c) astrophysical concepts. Discuss strategies you might implement if one or two members of the team are \"stuck\" or confused. Discuss strategies to implement if your whole team is confused. Summarize your discussion below.\n",
    "\n",
    "<span style=\"color:red\">(4 points total)</span>"
   ]
  },
  {
   "cell_type": "code",
   "execution_count": null,
   "metadata": {},
   "outputs": [],
   "source": []
  },
  {
   "cell_type": "markdown",
   "metadata": {},
   "source": [
    "## Your Measurements\n",
    "\n",
    "While in the Lab room, your lab group took a number of measurements. \n",
    "\n",
    "<i class=\"fa fa-pencil\" style=\"font-size:1.5em; color:red\"></i> 4) What landmark were you making measurements of? \n",
    "\n",
    "<span style=\"color:red\">(1 point total)</span>"
   ]
  },
  {
   "cell_type": "markdown",
   "metadata": {
    "collapsed": true
   },
   "source": [
    "<i class=\"fa fa-cogs\" style=\"font-size:1.5em; color:red\"></i> 5) What was the baseline separation between your two observing positions in meters? Define a variable (with a memorable name) in the code cell below and set it to the separation.\n",
    "\n",
    "<i class=\"fa fa-exclamation-triangle\" style=\"font-size:1.5em; color:red\"></i> Tip: for example, \n",
    "\n",
    "    bsep = 1.5e13 \n",
    "    \n",
    "sets a variable called `bsep` to the value of 1 AU ($1.5 \\times 10^{13}$ meters).\n",
    "\n",
    "<i class=\"fa fa-exclamation-triangle\" style=\"font-size:1.5em; color:red\"></i> Tip: It is a good idea to get in the habit of doing math with variables when you are programming. See the code cell below. Consider if suddenly my goat population increases to 7 goats. I only need to change `ngoats` and the rest of the code still works! This becomes more important the more complex code gets.\n",
    "\n",
    "<span style=\"color:red\">(2 points total)</span>"
   ]
  },
  {
   "cell_type": "code",
   "execution_count": 1,
   "metadata": {},
   "outputs": [
    {
     "name": "stdout",
     "output_type": "stream",
     "text": [
      "The amount I spend on goat peanuts each year: 2737.5 dollars\n"
     ]
    }
   ],
   "source": [
    "ngoats = 3 # number of goats that live at my house\n",
    "npeanuts = 25 # number of peanuts each goat eats each day\n",
    "pcost = 0.10 # cost of a peanut, in dollars\n",
    "\n",
    "daily_peanuts = ngoats*npeanuts # number of peanuts devoured each day\n",
    "annual_cost = daily_peanuts*pcost*365 # cost of peanuts each year\n",
    "print('The amount I spend on goat peanuts each year:', annual_cost, 'dollars')"
   ]
  },
  {
   "cell_type": "markdown",
   "metadata": {
    "collapsed": true
   },
   "source": [
    "<i class=\"fa fa-cogs\" style=\"font-size:1.5em; color:red\"></i> 6) Create an array with all the angular size measurements (There should be two times as many measurements as there are members of your group). You might have to look back at Lab 1 to recall how to make an array.\n",
    "\n",
    "<span style=\"color:red\">(5 points total)</span>"
   ]
  },
  {
   "cell_type": "code",
   "execution_count": null,
   "metadata": {},
   "outputs": [],
   "source": []
  },
  {
   "cell_type": "markdown",
   "metadata": {
    "collapsed": true
   },
   "source": [
    "<i class=\"fa fa-cogs\" style=\"font-size:1.5em; color:red\"></i> 7) Create an array with all the angle measurements obtained from the **left** position. Your array can be in units of degrees. (There should be twice the number of measurements as people in your group; say, 6--8 elements). \n",
    "\n",
    "<span style=\"color:red\">(5 points total)</span>"
   ]
  },
  {
   "cell_type": "code",
   "execution_count": null,
   "metadata": {},
   "outputs": [],
   "source": []
  },
  {
   "cell_type": "markdown",
   "metadata": {},
   "source": [
    "<i class=\"fa fa-cogs\" style=\"font-size:1.5em; color:red\"></i> 8) Create an array with all the angle measurements obtained from the **right** position. Your array can be in units of degrees. (Again there should be twice the number of measurements as people in your group; say, 6--8 elements). \n",
    "\n",
    "<span style=\"color:red\">(5 points total)</span>"
   ]
  },
  {
   "cell_type": "code",
   "execution_count": null,
   "metadata": {},
   "outputs": [],
   "source": []
  },
  {
   "cell_type": "markdown",
   "metadata": {},
   "source": [
    "## Angular size\n",
    "\n",
    "<i class=\"fa fa-cogs\" style=\"font-size:1.5em; color:red\"></i> 9) What is the average angular size of your landmark? What is the uncertainty in one of your groups' angular sizes (ie., the standard deviation of these angular sizes)? What is the uncertainty in the **average** angular size?  Use array math in the code cell below. Print the mean and standard deviation, and find a way to specify the units.\n",
    "\n",
    "<i class=\"fa fa-exclamation-triangle\" style=\"font-size:1.5em; color:red\"></i> Tip: If you have an array `x`, you can find its mean value with `np.mean(x)`. You can find the standard deviation of values in `x` with `np.std(x)`. And don't forget you can save these calculated values to new variable names, for example:\n",
    "\n",
    "    xmean = np.mean(x)\n",
    "    \n",
    "<i class=\"fa fa-exclamation-triangle\" style=\"font-size:1.5em; color:red\"></i> Tip: To calculate a square root in Python, you'll need to use \"np.sqrt()\".\n",
    "\n",
    "<span style=\"color:red\">(4 points total)</span>"
   ]
  },
  {
   "cell_type": "code",
   "execution_count": null,
   "metadata": {},
   "outputs": [],
   "source": []
  },
  {
   "cell_type": "markdown",
   "metadata": {},
   "source": [
    "<i class=\"fa fa-pencil\" style=\"font-size:1.5em; color:red\"></i> 10) Does the spread in the angular size measurements seem consistent with what you noticed in the hallway? Do you feel that your measurements were much more accurate, or much cruder, than implied by the calculated standard deviations? Explain (the fact that you measured each angle twice should have given you some basic intuition for how accurate your measurements were).\n",
    "\n",
    "<span style=\"color:red\">(2 points total)</span>"
   ]
  },
  {
   "cell_type": "markdown",
   "metadata": {},
   "source": [
    "<i class=\"fa fa-pencil\" style=\"font-size:1.5em; color:red\"></i> 11) If we knew the distance to the landmark, we could figure out the landmark's physical size (in e.g., meters). What would be the expression linking distance, angular size, and physical size? Write out the equation using  nice math formatting in a markdown cell.  \n",
    "\n",
    "\n",
    "<i class=\"fa fa-exclamation-triangle\" style=\"font-size:1.5em; color:red\"></i> Tip: For inline math and symbols, enclose in \"`$`\".  For example, `$\\alpha$` produces $\\alpha$; `$A = \\pi r^2$` produces $A = \\pi r^2$; `$M_\\odot$` produces $M_\\odot$.\n",
    "\n",
    "To put an equation on a separate line, put it between two lines, `\\begin{equation}` and `\\end{equation}`.  For example,\n",
    "```latex\n",
    "    \\begin{equation}\n",
    "    \\log_{10} x = \\frac{\\ln x}{\\ln 10}\n",
    "    \\end{equation}\n",
    "```\n",
    "\n",
    "produces\n",
    "\\begin{equation}\n",
    "\\log_{10} x = \\frac{\\ln x}{\\ln 10}\n",
    "\\end{equation}\n",
    "\n",
    "Here is a more complicated equation. Study it carefully to see how it is constructed.\n",
    "```latex\n",
    "    \\begin{equation}\n",
    "    I = I_0 \\left[\\frac{\\sin\\left(\\pi D/\\lambda\\,\\sin\\theta\\right)}{\\sin\\left(\\pi\n",
    "    d/\\lambda\\,\\sin\\theta\\right)}\\right]^2\n",
    "    \\end{equation}\n",
    "```\n",
    "\\begin{equation}\n",
    "I = I_0 \\left[\\frac{\\sin\\left(\\pi D/\\lambda\\,\\sin\\theta\\right)}{\\sin\\left(\\pi\n",
    "d/\\lambda\\,\\sin\\theta\\right)}\\right]^2\n",
    "\\end{equation}\n",
    "This formatting is from LaTeX; you find lots of help <a href=\"https://en.wikibooks.org/wiki/LaTeX/Mathematics\">here.</a>\n",
    "\n",
    "<span style=\"color:red\">(4 points total)</span>\n"
   ]
  },
  {
   "cell_type": "markdown",
   "metadata": {},
   "source": [
    "## Finding the parallax angle \n",
    "<i class=\"fa fa-cogs\" style=\"font-size:1.5em; color:red\"></i> 12) How can you use your measurements from the left position and the right position to measure the distance to the center of your landmark? You are essentially \"triangulating\" on it. Give an equation for how you could measure the distance, given your angle measurements from the left and right positions, and the distance between the left and right position. Draw a picture backing up this expression, and embed it in this notebook.\n",
    "\n",
    "<span style=\"color:red\">(6 points total)</span>\n"
   ]
  },
  {
   "cell_type": "code",
   "execution_count": null,
   "metadata": {},
   "outputs": [],
   "source": []
  },
  {
   "cell_type": "markdown",
   "metadata": {},
   "source": [
    " <i class=\"fa fa-cogs\" style=\"font-size:1.5em; color:red\"></i> 13) What is the average angle measured from the left position? What is the uncertainty in one of your angle measurements (ie., the standard deviation of these angles)? What is the uncertainty in the **average** angle measured from the left position?  \n",
    " \n",
    "<span style=\"color:red\">(4 points total)</span>"
   ]
  },
  {
   "cell_type": "code",
   "execution_count": null,
   "metadata": {},
   "outputs": [],
   "source": []
  },
  {
   "cell_type": "markdown",
   "metadata": {},
   "source": [
    "<i class=\"fa fa-cogs\" style=\"font-size:1.5em; color:red\"></i> 14) What is the average angle measured from the right position? What is the uncertainty in one of your angle measurements (ie., the standard deviation of these angles)? What is the uncertainty in the **average** angle measured from the right position?\n",
    "\n",
    "<span style=\"color:red\">(4 points total)</span>"
   ]
  },
  {
   "cell_type": "code",
   "execution_count": null,
   "metadata": {},
   "outputs": [],
   "source": []
  },
  {
   "cell_type": "markdown",
   "metadata": {},
   "source": [
    "<i class=\"fa fa-cogs\" style=\"font-size:1.5em; color:red\"></i> 15) What is the average angular shift of the landmark between the two positions? Do your math in the code cell below, using the variables you created in previous cells.\n",
    "\n",
    "<span style=\"color:red\">(3 points total)</span>"
   ]
  },
  {
   "cell_type": "code",
   "execution_count": null,
   "metadata": {},
   "outputs": [],
   "source": []
  },
  {
   "cell_type": "markdown",
   "metadata": {},
   "source": [
    "<i class=\"fa fa-cogs\" style=\"font-size:1.5em; color:red\"></i> 16) What is the error on the average angular shift? Use the formalism from Taylor Section 3.6 to propagate uncertainties and estimate this error.  Write out the equation in this markdown cell, but do the actual math in the code cell below, using variables you created in previous cells. \n",
    "\n",
    "<span style=\"color:red\">(3 points total)</span>"
   ]
  },
  {
   "cell_type": "code",
   "execution_count": null,
   "metadata": {},
   "outputs": [],
   "source": []
  },
  {
   "cell_type": "markdown",
   "metadata": {},
   "source": [
    "## Distance calculation\n",
    "\n",
    "<i class=\"fa fa-cogs\" style=\"font-size:1.5em; color:red\"></i> 17) Calculate and print the distance to the landmark. Can you use the small angle formula? Why or why not (the simplest way to answer this question is to do the calculation twice---once with the full equation and once in the \"small angle\" approximation.\n",
    "\n",
    "Do the math in the code cell below, using variables you created in previous cells---but make sure how you did the calculation is clear, either by commenting your code or making notes in this markdown cell.\n",
    "\n",
    "<span style=\"color:red\">(5 points total)</span>"
   ]
  },
  {
   "cell_type": "code",
   "execution_count": null,
   "metadata": {},
   "outputs": [],
   "source": []
  },
  {
   "cell_type": "markdown",
   "metadata": {},
   "source": [
    "<i class=\"fa fa-cogs\" style=\"font-size:1.5em; color:red\"></i> 18) Calculate and print the uncertainty in the distance. Use the formalism from Taylor Section 3.6 to estimate this error. You can assume that your measurement of the baseline separation is very accurate, and therefore its uncertainty is negligible.  As always, do your math in the code cell below but be sure to show how you estimated your error.\n",
    "\n",
    "<span style=\"color:red\">(3 points total)</span>"
   ]
  },
  {
   "cell_type": "code",
   "execution_count": null,
   "metadata": {},
   "outputs": [],
   "source": []
  },
  {
   "cell_type": "markdown",
   "metadata": {},
   "source": [
    "<i class=\"fa fa-pencil\" style=\"font-size:1.5em; color:red\"></i> 19) Time for a sanity check! Given what you know about the lab room, does the distance you calculated make sense? Why or why not? \n",
    "\n",
    "<span style=\"color:red\">(2 points total)</span>"
   ]
  },
  {
   "cell_type": "markdown",
   "metadata": {},
   "source": [
    "## Angular size vs. Physical size\n",
    "\n",
    "<i class=\"fa fa-cogs\" style=\"font-size:1.5em; color:red\"></i> 20) What is the physical size of the landmark? Again, can you use the small angle formula? Why or why not? Do your math below, but show your work and be sure to note units!\n",
    "\n",
    "<span style=\"color:red\">(4 points total)</span>"
   ]
  },
  {
   "cell_type": "code",
   "execution_count": null,
   "metadata": {},
   "outputs": [],
   "source": []
  },
  {
   "cell_type": "markdown",
   "metadata": {},
   "source": [
    "<i class=\"fa fa-cogs\" style=\"font-size:1.5em; color:red\"></i> 21) Calculate the uncertainty in the physical size of the landmark. (You can assume the uncertainty on the angular height of the landmark was neglible---but there is another source of uncertainty).\n",
    "\n",
    "<span style=\"color:red\">(2 points total)</span>"
   ]
  },
  {
   "cell_type": "code",
   "execution_count": null,
   "metadata": {},
   "outputs": [],
   "source": []
  },
  {
   "cell_type": "markdown",
   "metadata": {},
   "source": [
    "## <i class=\"fa fa-exclamation-triangle\" style=\"font-size:1.5em; color:red\"></i>Closeout\n",
    "\n",
    "Prepare this lab for submission: Remove any \"tips\" and unnecessary instruction text or cells. Leave in numbered questions, and make sure you have answered all questions clearly and thoroughly---and that you **always show your work or mathematical reasoning**. Make sure that all markdown cells are rendered, that code cells execute properly, and that this notebook is saved.  After you've saved the notebook, select `File : Close and Halt`. Follow the instructions on D2L for uploading this notebook to the appropriate dropbox."
   ]
  }
 ],
 "metadata": {
  "kernelspec": {
   "display_name": "Python 3 (ipykernel)",
   "language": "python",
   "name": "python3"
  },
  "language_info": {
   "codemirror_mode": {
    "name": "ipython",
    "version": 3
   },
   "file_extension": ".py",
   "mimetype": "text/x-python",
   "name": "python",
   "nbconvert_exporter": "python",
   "pygments_lexer": "ipython3",
   "version": "3.8.3"
  }
 },
 "nbformat": 4,
 "nbformat_minor": 2
}
