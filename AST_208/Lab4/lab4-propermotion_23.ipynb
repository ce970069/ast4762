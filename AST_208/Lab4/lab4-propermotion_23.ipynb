{
 "cells": [
  {
   "cell_type": "markdown",
   "metadata": {},
   "source": [
    "### Lab 4: Measuring the Proper Motion of an Asteroid"
   ]
  },
  {
   "cell_type": "markdown",
   "metadata": {},
   "source": [
    "<i class=\"fa fa-pencil\" style=\"font-size:1.5em; color:red\"></i>\n",
    "Your Name  \n",
    "Date  \n",
    "**Group Name**\n",
    "**Collaborators:** Collaborator 1, Collaborator 2, Collaborator 3  "
   ]
  },
  {
   "cell_type": "code",
   "execution_count": 3,
   "metadata": {
    "collapsed": true
   },
   "outputs": [],
   "source": [
    "# Run this cell first (type shift-enter)\n",
    "import numpy as np\n",
    "import matplotlib.pyplot as plt\n",
    "%matplotlib inline"
   ]
  },
  {
   "cell_type": "markdown",
   "metadata": {},
   "source": [
    "Make sure you create a Lab 3 directory, and save this ipynb and images to it!"
   ]
  },
  {
   "cell_type": "markdown",
   "metadata": {},
   "source": [
    "With this lab are two sets of images of two asteroids. Each set has three images of the asteroid. In this lab you will play the astronomical version of \"Where's Waldo\" and find the asteroid in **one set of images**. Load the first image into DS9. The default scaling that the image is loaded with isn't very nice, and doesn't highlight the image features. Try improving the greyscale by selecting **Scale > Zscale** in DS9. Then select **Edit > Colorbar** and try dragging your mouse around the image while holding the left  mouse button down (you should see the greyscale of the image change as you do this). If you still don't see image features, don't give up! Ask an instructor for help.\n",
    "\n",
    "Now take the next image in the sequence and open it in a second frame by selecting **Frame > New Frame**. In the new frame (Frame 2), open the second image. Again play around with the image scaling to highlight the stars. \n",
    "\n",
    "Repeat this process for the third image---open each in a new frame. You can switch between frames by clicking on **Frame** and selecting **Next** or **Prev**.\n",
    "    \n",
    "You can see if an image has a WCS (they all should) by moving your mouse over pixels---you should see RA and Dec positions listed near the top of the DS9 windown, labelled as *fk5*. If your image didnt have a WCS, you could try applying one by uploading your fits files to [http://nova.astrometry.net/upload](http://nova.astrometry.net/upload). For the algorithm to work, your image must have a fair number of stars in it---so no promises. If astrometry.net finds a solution, click on **Go to results page**. At the next image, download \"new-image.fits\". This should be a version of your image with a WCS applied (although, again, no promises). Name this newly downloaded image something logical so you can tell what it is! This shouldn't be necessary but for your reference. \n",
    "\n",
    "Your multiple images have WCS's, so we can align them by selecting **Frame > Lock > Frame > WCS**. Now the stars should line up. If you see one object appear to move between the frames, when the others are stationary, that is your asteroid! \n"
   ]
  },
  {
   "cell_type": "markdown",
   "metadata": {},
   "source": [
    "## Explore your asteroid images\n",
    "\n",
    "Your first task is to investigate the observations obtained of your asteroid. Switch to each fram and check the Header!!\n",
    "\n",
    "<i class=\"fa fa-pencil\" style=\"font-size:1.5em; color:red\"></i> 1) What asteroid was observed?\n",
    "* <span style=\"color:red\">1 point</span>"
   ]
  },
  {
   "cell_type": "code",
   "execution_count": null,
   "metadata": {},
   "outputs": [],
   "source": []
  },
  {
   "cell_type": "markdown",
   "metadata": {},
   "source": [
    "<i class=\"fa fa-pencil\" style=\"font-size:1.5em; color:red\"></i> 2) What are the UT dates and times of your observations?\n",
    "\n",
    "<span style=\"color:red\">(2 points total)</span>"
   ]
  },
  {
   "cell_type": "code",
   "execution_count": null,
   "metadata": {},
   "outputs": [],
   "source": []
  },
  {
   "cell_type": "markdown",
   "metadata": {},
   "source": [
    "<i class=\"fa fa-pencil\" style=\"font-size:1.5em; color:red\"></i> 3) What are the latitude, longitude, and elevation (units) for the observatory site? Where is it located? \n",
    "\n",
    "<span style=\"color:red\">(3 points total)</span>"
   ]
  },
  {
   "cell_type": "code",
   "execution_count": null,
   "metadata": {},
   "outputs": [],
   "source": []
  },
  {
   "cell_type": "markdown",
   "metadata": {
    "collapsed": true
   },
   "source": [
    "## Identify your asteroid\n",
    "\n",
    "Find the object that appears to move in RA/Dec, and relative to the other stars. This is your asteroid! Zoom in on it in each frame so you can easily see it clearly move. **If we can't tell its moving, you will lose points!**\n",
    "\n",
    "<i class=\"fa fa-pencil\" style=\"font-size:1.5em; color:red\"></i> 4) Mark the asteroid with a circle in both frames. To do this, go to **Edit > Region** or **Edit > Pointer** (depending on what version of DS9 you have, it may be called Region or Pointer). Click on the image---you should get a green circle. Drag this circle so it is centered on the asteroid. Toggle to the next frame and also mark the asteroid with a circle there, too. \n",
    "\n",
    "Take screen shots of the first and third image frames with the asteroid marked by a circle (sigh---export in DS9 may be buggy and may not save your green circles. So it may be easiest to take a screen shot. Part of being an astronomer is dealing with buggy software, unfortunately). Embed the screenshots in this notebook. **Clearly note which image is from which date/time. Make sure your images clearly show at least a few stars, in addition to the asteroid. And its motion is clear**\n",
    "\n",
    "<span style=\"color:red\">(4 points total)</span>"
   ]
  },
  {
   "cell_type": "code",
   "execution_count": null,
   "metadata": {},
   "outputs": [],
   "source": []
  },
  {
   "cell_type": "markdown",
   "metadata": {
    "collapsed": true
   },
   "source": [
    "## Measure your asteroid's proper motion\n",
    "\n",
    "Now that you have identified which source is the asteroid, you can measure its proper motion. Start by measuring the asteroid's position in each of your two images (1st and 3rd, **You will only use image 1 and 3 for the rest of the lab**). The easiest way to estimate the asteroid position is by centering a DS9 circle on the asteroid (this may not be the most precise way, but it is good enough for today). Be careful to really try and get the circle centered! It might help to zoom in on the asteroid (you can do this by going to **Zoom > Zoom In**) and/or by shrinking the size of the circle (you can do this by single clicking on the circle so that four points appear around it, and dragging these points to smaller radius). \n",
    "\n",
    "<i class=\"fa fa-pencil\" style=\"font-size:1.5em; color:red\"></i> 5) After you have the circle well-centered on the asteroid, double-click on the circle. An information box should pop up, listing the RA and Dec at the center of the circle. What RA and Dec did you measure in the first image? In the second image?\n",
    "\n",
    "<span style=\"color:red\">(2 points total)</span>"
   ]
  },
  {
   "cell_type": "code",
   "execution_count": null,
   "metadata": {},
   "outputs": [],
   "source": []
  },
  {
   "cell_type": "markdown",
   "metadata": {},
   "source": [
    "Now, estimate how much the asteroid shifts between these two images. Recall your equation for calculating angular separation.\n",
    "\n",
    "<i class=\"fa fa-cogs\" style=\"font-size:1.5em; color:red\"></i> 6) What is the angular separation of the asteroid's positions between the two images? Calculate this in the code cell below, using Python as a calculator. Give the angular separation in units of arcseconds. Clearly print your answer with units.\n",
    "\n",
    "<i class=\"fa fa-exclamation-triangle\" style=\"font-size:1.5em; color:red\"></i> Tip: To calculate a square root in Python, you'll need to use \"np.sqrt()\".\n",
    "\n",
    "<i class=\"fa fa-exclamation-triangle\" style=\"font-size:1.5em; color:red\"></i> Tip: To calculate a cosine in Python, you'll need to use \"np.cos()\". The argument of the cosine should be in units of radians. See below for an example.\n",
    "\n",
    "<span style=\"color:red\">(5 points total)</span>"
   ]
  },
  {
   "cell_type": "code",
   "execution_count": 4,
   "metadata": {},
   "outputs": [
    {
     "name": "stdout",
     "output_type": "stream",
     "text": [
      "2.0\n",
      "-0.9999999999964793\n"
     ]
    }
   ],
   "source": [
    "#An exapmle of calculating a square root in python:\n",
    "print(np.sqrt(4))\n",
    "\n",
    "# An example of calculating a cosine in python\n",
    "xx = np.cos(3.14159)\n",
    "print(xx)"
   ]
  },
  {
   "cell_type": "code",
   "execution_count": null,
   "metadata": {},
   "outputs": [],
   "source": []
  },
  {
   "cell_type": "markdown",
   "metadata": {},
   "source": [
    "<i class=\"fa fa-pencil\" style=\"font-size:1.5em; color:red\"></i> 7) How much time has elapsed between the 1st and 3rd observations?\n",
    "\n",
    "<span style=\"color:red\">1 point</span>"
   ]
  },
  {
   "cell_type": "code",
   "execution_count": null,
   "metadata": {},
   "outputs": [],
   "source": []
  },
  {
   "cell_type": "markdown",
   "metadata": {},
   "source": [
    "<i class=\"fa fa-pencil\" style=\"font-size:1.5em; color:red\"></i> 8) What is the proper motion of the asteroid, in units of arcseconds per minute? Check your answer by going to [https://www.minorplanetcenter.net/iau/MPEph/MPEph.html](https://www.minorplanetcenter.net/iau/MPEph/MPEph.html). Type the asteroid name in the big box asking for names. Ephemeris date is the date of the observation in the following format \"20200101\". Number of dates to output \"12\", ephemeris interval \"1\", ephemeris units \"hours\". Make sure display motions is set to \"/min. Leave the rest defaults. What proper motion do they have for your asteroid? Is your estimate resonable? \n",
    "\n",
    "<span style=\"color:red\">(3 points total)</span>"
   ]
  },
  {
   "cell_type": "code",
   "execution_count": null,
   "metadata": {},
   "outputs": [],
   "source": []
  },
  {
   "cell_type": "markdown",
   "metadata": {},
   "source": [
    "## Implications of your measurement\n",
    "\n",
    "\n",
    "<i class=\"fa fa-pencil\" style=\"font-size:1.5em; color:red\"></i> 9) All of the asteroid targets used today are in the main asteroid belt of the Solar System. Research the asteroid belt. Use this knowledge to estimate the distance to your asteroid. Justify your estimate.\n",
    "\n",
    "<span style=\"color:red\">(2 points total)</span>\n"
   ]
  },
  {
   "cell_type": "code",
   "execution_count": null,
   "metadata": {},
   "outputs": [],
   "source": []
  },
  {
   "cell_type": "markdown",
   "metadata": {},
   "source": [
    "<i class=\"fa fa-cogs\" style=\"font-size:1.5em; color:red\"></i> 10) How can you convert from proper motion to transverse velocity (in km/s), if you know the distance to the moving object? Embed a picture below, and write out the equation to solve for transverse velocity (either on your embedded picture, or using LaTeX formatting in a markdown cell).\n",
    "\n",
    "<span style=\"color:red\">(1 point total)</span>\n"
   ]
  },
  {
   "cell_type": "code",
   "execution_count": null,
   "metadata": {},
   "outputs": [],
   "source": []
  },
  {
   "cell_type": "markdown",
   "metadata": {},
   "source": [
    "<i class=\"fa fa-cogs\" style=\"font-size:1.5em; color:red\"></i> 11) Use your proper motion measurement of the asteroid to estimate the transverse velocity of your asteroid in kilometers per second. Carry out your calculation in the code cell below.\n",
    "\n",
    "<span style=\"color:red\">(4 points total)</span>"
   ]
  },
  {
   "cell_type": "code",
   "execution_count": null,
   "metadata": {
    "collapsed": true
   },
   "outputs": [],
   "source": []
  },
  {
   "cell_type": "markdown",
   "metadata": {},
   "source": [
    "<i class=\"fa fa-pencil\" style=\"font-size:1.5em; color:red\"></i> 12) Your velocity measurement, like all measurements, isn't perfect, and has some uncertainty associated with it. Discuss some sources of uncertainty.\n",
    "\n",
    "<span style=\"color:red\">(2 points total)</span>"
   ]
  },
  {
   "cell_type": "code",
   "execution_count": null,
   "metadata": {},
   "outputs": [],
   "source": []
  },
  {
   "cell_type": "markdown",
   "metadata": {},
   "source": [
    "<i class=\"fa fa-pencil\" style=\"font-size:1.5em; color:red\"></i> 13) Time for a sanity check! Does your transverse velocity make sense, given what you know abut the Solar System?\n",
    "\n",
    "<span style=\"color:red\">(2 points total)</span>"
   ]
  },
  {
   "cell_type": "code",
   "execution_count": null,
   "metadata": {},
   "outputs": [],
   "source": []
  },
  {
   "cell_type": "markdown",
   "metadata": {},
   "source": [
    "<i class=\"fa fa-pencil\" style=\"font-size:1.5em; color:red\"></i> 14) Is most of this velocity due to the Earth's motion or the asteroid's motion about the Sun? Justify your answer using Kepler's laws (i.e., Section 3.1 of OpenStax Astronomy).\n",
    "\n",
    "<span style=\"color:red\">(3 points total)</span>"
   ]
  },
  {
   "cell_type": "code",
   "execution_count": null,
   "metadata": {},
   "outputs": [],
   "source": []
  },
  {
   "cell_type": "markdown",
   "metadata": {},
   "source": [
    "## Extra Credit\n",
    "\n",
    "<i class=\"fa fa-cogs\" style=\"font-size:1.5em; color:red\"></i> EC) There is a second dataset called EC_asteroid. Repeat questions 1, 2, 6, 7, 8, and 9 for this new asteroid! "
   ]
  },
  {
   "cell_type": "markdown",
   "metadata": {},
   "source": [
    "## <i class=\"fa fa-exclamation-triangle\" style=\"font-size:1.5em; color:red\"></i>Closeout\n",
    "\n",
    "Prepare this lab for submission: Remove any \"tips\" and unnecessary instruction text or cells. Leave in numbered questions, and make sure you have answered all questions clearly and thoroughly. Make sure that all markdown cells are rendered, that code cells execute properly, and that this notebook is saved.  After you've saved the notebook, select `File : Close and Halt`. Follow the instructions on D2L for uploading this notebook to the appropriate dropbox."
   ]
  }
 ],
 "metadata": {
  "kernelspec": {
   "display_name": "Python 3 (ipykernel)",
   "language": "python",
   "name": "python3"
  },
  "language_info": {
   "codemirror_mode": {
    "name": "ipython",
    "version": 3
   },
   "file_extension": ".py",
   "mimetype": "text/x-python",
   "name": "python",
   "nbconvert_exporter": "python",
   "pygments_lexer": "ipython3",
   "version": "3.8.12"
  }
 },
 "nbformat": 4,
 "nbformat_minor": 2
}
