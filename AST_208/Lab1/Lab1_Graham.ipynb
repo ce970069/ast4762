{
 "cells": [
  {
   "cell_type": "markdown",
   "metadata": {},
   "source": [
    "# AST 208 Lab 1: Introduction to Astronomical Software"
   ]
  },
  {
   "cell_type": "markdown",
   "metadata": {},
   "source": [
    "<i class=\"fa fa-pencil\" style=\"font-size:1.5em; color:red\"></i>\n",
    "Cesarine Graham  \n",
    "19 January 2023  \n",
    "**Collaborators:** Sam Monique, Ebony Kaczander, Demo Student(lol)"
   ]
  },
  {
   "cell_type": "markdown",
   "metadata": {},
   "source": [
    "<i class=\"fa fa-pencil\" style=\"font-size:1.5em; color:red\"></i> 1) You try it: Write your favorite city in large, bold text and one iconic tourist attraction there.\n",
    "\n",
    "## __DeLand, FL. Lake Beresford__\n",
    "\n",
    "Don't forget to save your notebook at regular intervals!"
   ]
  },
  {
   "cell_type": "code",
   "execution_count": 1,
   "metadata": {},
   "outputs": [],
   "source": [
    "# Run this cell first (type shift-enter)\n",
    "# Note that this is a \"Code\" cell in the dropdown menu at the top of the page.\n",
    "import numpy as np\n",
    "import matplotlib.pyplot as plt\n",
    "%matplotlib inline"
   ]
  },
  {
   "cell_type": "code",
   "execution_count": 2,
   "metadata": {},
   "outputs": [
    {
     "name": "stdout",
     "output_type": "stream",
     "text": [
      "[ 0  1  2  3  4  5  6  7  8  9 10]\n"
     ]
    }
   ],
   "source": [
    "xx = np.array([0,1,2,3,4,5,6,7,8,9,10])\n",
    "print(xx)"
   ]
  },
  {
   "cell_type": "code",
   "execution_count": 3,
   "metadata": {},
   "outputs": [
    {
     "name": "stdout",
     "output_type": "stream",
     "text": [
      "aa= [ 2  3  4  5  6  7  8  9 10 11 12]\n"
     ]
    }
   ],
   "source": [
    "# addition\n",
    "aa = xx + 2\n",
    "print('aa=', aa)"
   ]
  },
  {
   "cell_type": "code",
   "execution_count": 4,
   "metadata": {},
   "outputs": [
    {
     "name": "stdout",
     "output_type": "stream",
     "text": [
      "bb= [ 0.  2.  4.  6.  8. 10. 12. 14. 16. 18. 20.]\n",
      "cc= [0.  0.5 1.  1.5 2.  2.5 3.  3.5 4.  4.5 5. ]\n"
     ]
    }
   ],
   "source": [
    "# multiplication\n",
    "bb = xx * 2.0\n",
    "print('bb=', bb)\n",
    "\n",
    "#division \n",
    "cc = xx / 2.0\n",
    "print('cc=', cc)"
   ]
  },
  {
   "cell_type": "code",
   "execution_count": 5,
   "metadata": {},
   "outputs": [
    {
     "name": "stdout",
     "output_type": "stream",
     "text": [
      "dd= [   0.    1.    8.   27.   64.  125.  216.  343.  512.  729. 1000.]\n"
     ]
    }
   ],
   "source": [
    "# exponents (aka, cc=xx^3)\n",
    "dd = xx**3.0\n",
    "print('dd=', dd)"
   ]
  },
  {
   "cell_type": "code",
   "execution_count": 6,
   "metadata": {},
   "outputs": [
    {
     "name": "stdout",
     "output_type": "stream",
     "text": [
      "ee= [ 0.   2.5  5.   7.5 10.  12.5 15.  17.5 20.  22.5 25. ]\n"
     ]
    }
   ],
   "source": [
    "# You can also do math that is combinations of arrays!\n",
    "ee = bb + cc\n",
    "print('ee=', ee)"
   ]
  },
  {
   "cell_type": "markdown",
   "metadata": {},
   "source": [
    "<i class=\"fa fa-pencil\" style=\"font-size:1.5em; color:red\"></i> 2) Explain in words what the `ee` array is, above. Why is the first element 0, the second element 2.5, and the last element 25?\n",
    "\n",
    "The 'ee' array is adding the 'cc' and 'bb' arrays together. The first element is 0 since the first element of 'cc' is 0, and the first element of 'bb' is also 0. 0+0=0. The second element is 2.5 since the second element of 'cc' is 0.5, and the second element of 'bb' is 2. 0.5+2.0=2.5. The last element of 'ee' is 25 since the last element of 'cc' is 5, and the last element of 'bb' is 20. 20+5=25."
   ]
  },
  {
   "cell_type": "markdown",
   "metadata": {},
   "source": [
    "<i class=\"fa fa-cogs\" style=\"font-size:1.5em; color:red\"></i> 3) In the code cell below, make an array, called `myarray1`, that is composed of the numbers 1, 3, 6, 9, 30, 55, and 75. Print `myarray1`.\n"
   ]
  },
  {
   "cell_type": "code",
   "execution_count": 7,
   "metadata": {},
   "outputs": [
    {
     "name": "stdout",
     "output_type": "stream",
     "text": [
      "[ 1  3  6  9 30 55 75]\n"
     ]
    }
   ],
   "source": [
    "myarray1 = np.array([1,3,6,9,30,55,75])\n",
    "print(myarray1)"
   ]
  },
  {
   "cell_type": "markdown",
   "metadata": {},
   "source": [
    "<i class=\"fa fa-cogs\" style=\"font-size:1.5em; color:red\"></i> 4) In the code cell below, make an array called `myarray2` that is the square of `myarray1`. Be sure to do math on the whole of `myarray1` in a single line---don't do math on each array element individually. Print `myarray2`."
   ]
  },
  {
   "cell_type": "code",
   "execution_count": 8,
   "metadata": {},
   "outputs": [
    {
     "name": "stdout",
     "output_type": "stream",
     "text": [
      "[   1    9   36   81  900 3025 5625]\n"
     ]
    }
   ],
   "source": [
    "myarray2 = (myarray1)**2\n",
    "print(myarray2)"
   ]
  },
  {
   "cell_type": "code",
   "execution_count": 9,
   "metadata": {},
   "outputs": [
    {
     "name": "stdout",
     "output_type": "stream",
     "text": [
      "[   1    9   36   81  900 3025 5625]\n"
     ]
    }
   ],
   "source": [
    "#this is just another way of doing it, i want to save it for later just in case\n",
    "myarray2 = np.square(myarray1)\n",
    "print(myarray2)"
   ]
  },
  {
   "cell_type": "markdown",
   "metadata": {},
   "source": [
    "## Plotting"
   ]
  },
  {
   "cell_type": "code",
   "execution_count": 10,
   "metadata": {},
   "outputs": [
    {
     "data": {
      "text/plain": [
       "Text(0.5, 1.0, 'a blue star plot!')"
      ]
     },
     "execution_count": 10,
     "metadata": {},
     "output_type": "execute_result"
    },
    {
     "data": {
      "image/png": "[encoded data removed]",
      "text/plain": [
       "<Figure size 640x480 with 1 Axes>"
      ]
     },
     "metadata": {},
     "output_type": "display_data"
    }
   ],
   "source": [
    "plt.plot(myarray1,myarray2,'b*')\n",
    "plt.xlabel(\"myarray1\")\n",
    "plt.ylabel(\"myarray2\")\n",
    "plt.title(\"a blue star plot!\")"
   ]
  },
  {
   "cell_type": "markdown",
   "metadata": {},
   "source": [
    "## The night sky\n",
    "\n",
    "###  Polaris and circumpolar stars"
   ]
  },
  {
   "cell_type": "markdown",
   "metadata": {},
   "source": [
    "<i class=\"fa fa-pencil\" style=\"font-size:1.5em; color:red\"></i> Enter your estimate for the altitude of Polaris; how does its altitude compare with our latitude?\n",
    "\n",
    "#### The altitude is roughly 43 degrees above the Northern horizon. Our latitude is 42.7 degrees."
   ]
  },
  {
   "cell_type": "markdown",
   "metadata": {},
   "source": [
    "<i class=\"fa fa-pencil\" style=\"font-size:1.5em; color:red\"></i> \n",
    "What is the altitude and azimuth of Merak? \n",
    "#### The altitude is 44deg 12'05\". The azimuth is 47deg 05'47.2\"\n",
    "What constellation is Polaris in? \n",
    "#### It is in Ursa Minor"
   ]
  },
  {
   "cell_type": "markdown",
   "metadata": {},
   "source": [
    "<i class=\"fa fa-pencil\" style=\"font-size:1.5em; color:red\"></i> Describe the motion of circumpolar objects throughout the night, from our vantage point. For what range of declinations are objects circumpolar?\n",
    "\n",
    "#### The circumpolar objects simply just spin in an axis around Polaris above the horizon. Everything between 47-90deg is circumpolar."
   ]
  },
  {
   "cell_type": "markdown",
   "metadata": {},
   "source": [
    "## Constellations of the Zodiac\n",
    "\n",
    "Come up with 4 constellations that are part of the *zodiac*.  Find these constellations with `stellarium`, and for each constellation, find an approximate value for its right ascension and declination. Also figure out when each constellation is opposite the sun."
   ]
  },
  {
   "cell_type": "markdown",
   "metadata": {},
   "source": [
    "<i class=\"fa fa-pencil\" style=\"font-size:1.5em; color:red\"></i> Fill in the following information for your 4 zodiac constellations.\n",
    "\n",
    "#### 1. constellation 1: Taurus (Aldebaran). RA = 4h37m15.02s ; dec = +16deg33'18.7\"; time of year when opposite sun is April and May\n",
    "#### 2. constellation 2: Cancer (Asellus Australis). RA = 8h46m0.37s; dec = +18deg4'7.0\"; time of year when opposite sun is July and Augus\n",
    "#### 3. constellation 3: Pisces (Theta Psc). RA = 23h29m06.90s; dec = +6deg30'14.0\"; time of year when opposite sun is March and April\n",
    "#### 4. constellation 4: Scorpius (Antares) RA = 16h30m47.73s; dec = -26deg28'43.8\"; time of year when opposite sun is November and December"
   ]
  },
  {
   "cell_type": "markdown",
   "metadata": {},
   "source": [
    "## Viewing images in DS9"
   ]
  },
  {
   "cell_type": "markdown",
   "metadata": {},
   "source": [
    "<i class=\"fa fa-pencil\" style=\"font-size:1.5em; color:red\"></i> 7) Embed your exported image in this cell. Make sure we can see the object of interest and it is in color (it is not just black and white). "
   ]
  },
  {
   "cell_type": "markdown",
   "metadata": {},
   "source": [
    "![M51](ds9_M51.png \"Image of M51\")"
   ]
  },
  {
   "cell_type": "markdown",
   "metadata": {},
   "source": [
    "<i class=\"fa fa-pencil\" style=\"font-size:1.5em; color:red\"></i> What are the right ascension and declination of M51?\n",
    "\n",
    "#### Ascension: 13h30m59.7s\n",
    "\n",
    "#### Declination: +47deg04'19.7\""
   ]
  },
  {
   "cell_type": "markdown",
   "metadata": {},
   "source": [
    "<i class=\"fa fa-pencil\" style=\"font-size:1.5em; color:red\"></i> What time of year, if any, could you observe M51 from East Lansing? \n",
    "\n",
    "#### You can see it for every month except November (November is the excepction because of stuff on the horizon blocking the view. It never dips below 0deg altitude."
   ]
  },
  {
   "cell_type": "markdown",
   "metadata": {},
   "source": [
    "## <i class=\"fa fa-exclamation-triangle\" style=\"font-size:1.5em; color:red\"></i>Closeout\n",
    "\n",
    "Prepare this lab for submission: Remove any \"tips\" and unnecessary instruction text or cells. Make sure you have answered all numbered questions, and that all cells are rendered. Make sure this notebook is saved, and then select `File : Close and Halt`. Make sure this notebook file and the png image file are in the same folder (you can include the FITS file or not, it's up to you).  Follow the instructions on D2L for zipping and uploading your lab report to the dropbox."
   ]
  }
 ],
 "metadata": {
  "anaconda-cloud": {},
  "kernelspec": {
   "display_name": "Python 3 (ipykernel)",
   "language": "python",
   "name": "python3"
  },
  "language_info": {
   "codemirror_mode": {
    "name": "ipython",
    "version": 3
   },
   "file_extension": ".py",
   "mimetype": "text/x-python",
   "name": "python",
   "nbconvert_exporter": "python",
   "pygments_lexer": "ipython3",
   "version": "3.9.13"
  }
 },
 "nbformat": 4,
 "nbformat_minor": 1
}
