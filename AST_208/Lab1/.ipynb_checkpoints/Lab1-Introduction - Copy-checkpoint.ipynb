{
 "cells": [
  {
   "cell_type": "markdown",
   "metadata": {},
   "source": [
    "# AST 208 Lab 1: Introduction to Astronomical Software"
   ]
  },
  {
   "cell_type": "markdown",
   "metadata": {},
   "source": [
    "**Before you do anything:** Make sure you have followed the **file hygiene** checklist on D2L. This will save you hassle and points! Use your file hygiene for every lab!!!\n",
    "\n",
    "<i class=\"fa fa-pencil\" style=\"font-size:1.5em; color:red\"></i>\n",
    "Joey Rodriguez  \n",
    "14 January 2023  \n",
    "**Collaborators:** , Brock Wallin, Geneva Archer, Maya Joyce, Elias Taira,  Jack Schulte\n"
   ]
  },
  {
   "cell_type": "code",
   "execution_count": 1,
   "metadata": {},
   "outputs": [
    {
     "name": "stdout",
     "output_type": "stream",
     "text": [
      "6\n"
     ]
    }
   ],
   "source": [
    "x=3\n",
    "print(2*x)"
   ]
  },
  {
   "cell_type": "markdown",
   "metadata": {},
   "source": [
    "<i class=\"fa fa-pencil\" style=\"font-size:1.5em; color:red\"></i> 1) You try it: Write your favorite city in large, bold text and one iconic tourist attraction there.\n",
    "\n",
    "\n",
    "Don't forget to save your notebook at regular intervals!"
   ]
  },
  {
   "cell_type": "markdown",
   "metadata": {},
   "source": [
    "## Code cells and Array math\n",
    "You can code in python inside your notebook, if you select **Code** from the drop-down menu at the top of the page. Again, to run the code, push `Ctrl-Enter` from within the code cell. Let's try it!"
   ]
  },
  {
   "cell_type": "code",
   "execution_count": null,
   "metadata": {},
   "outputs": [],
   "source": [
    "print('Hello world!')"
   ]
  },
  {
   "cell_type": "markdown",
   "metadata": {},
   "source": [
    "Did it print 'Hello world!' below the cell? It should have.\n",
    "\n",
    "Now let's try some basic programming. First, however, we need to set up our notebook. You'll always want the following lines at the start of any python coding you do."
   ]
  },
  {
   "cell_type": "code",
   "execution_count": 2,
   "metadata": {},
   "outputs": [],
   "source": [
    "# Run this cell first (type shift-enter)\n",
    "# Note that this is a \"Code\" cell in the dropdown menu at the top of the page.\n",
    "import numpy as np\n",
    "import matplotlib.pyplot as plt\n",
    "%matplotlib inline"
   ]
  },
  {
   "cell_type": "markdown",
   "metadata": {},
   "source": [
    "Note that if you start a line in a code cell with `#`, that line will be **commented out**. That means Python won't run those lines---they are just for you to make notes. Comments are a great way to explain to yourself or others what your code is doing. You should use them!\n",
    "\n",
    "Now, let's make a one dimensional array, called `xx`, filled with numbers from 0--10."
   ]
  },
  {
   "cell_type": "code",
   "execution_count": 3,
   "metadata": {},
   "outputs": [
    {
     "name": "stdout",
     "output_type": "stream",
     "text": [
      "[ 0  1  2  3  4  5  6  7  8  9 10]\n"
     ]
    }
   ],
   "source": [
    "xx = np.array([0,1,2,3,4,5,6,7,8,9,10])\n",
    "print(xx)"
   ]
  },
  {
   "cell_type": "markdown",
   "metadata": {},
   "source": [
    "We can do math on this array! For example:"
   ]
  },
  {
   "cell_type": "code",
   "execution_count": 4,
   "metadata": {},
   "outputs": [
    {
     "name": "stdout",
     "output_type": "stream",
     "text": [
      "aa= [ 2  3  4  5  6  7  8  9 10 11 12]\n"
     ]
    }
   ],
   "source": [
    "# addition\n",
    "aa = xx + 2\n",
    "print('aa=', aa)"
   ]
  },
  {
   "cell_type": "markdown",
   "metadata": {},
   "source": [
    "The above code created a new array, called `aa`, where 2 has been added to every value of `xx`. We can do other operations, too:"
   ]
  },
  {
   "cell_type": "code",
   "execution_count": 5,
   "metadata": {},
   "outputs": [
    {
     "name": "stdout",
     "output_type": "stream",
     "text": [
      "bb= [ 0.  2.  4.  6.  8. 10. 12. 14. 16. 18. 20.]\n",
      "cc= [0.  0.5 1.  1.5 2.  2.5 3.  3.5 4.  4.5 5. ]\n"
     ]
    }
   ],
   "source": [
    "# multiplication\n",
    "bb = xx * 2.0\n",
    "print('bb=', bb)\n",
    "\n",
    "#division \n",
    "cc = xx / 2.0\n",
    "print('cc=', cc)"
   ]
  },
  {
   "cell_type": "code",
   "execution_count": 6,
   "metadata": {},
   "outputs": [
    {
     "name": "stdout",
     "output_type": "stream",
     "text": [
      "dd= [   0.    1.    8.   27.   64.  125.  216.  343.  512.  729. 1000.]\n"
     ]
    }
   ],
   "source": [
    "# exponents (aka, cc=xx^3)\n",
    "dd = xx**3.0\n",
    "print('dd=', dd)"
   ]
  },
  {
   "cell_type": "code",
   "execution_count": 7,
   "metadata": {},
   "outputs": [
    {
     "name": "stdout",
     "output_type": "stream",
     "text": [
      "ee= [ 0.   2.5  5.   7.5 10.  12.5 15.  17.5 20.  22.5 25. ]\n"
     ]
    }
   ],
   "source": [
    "# You can also do math that is combinations of arrays!\n",
    "ee = bb + cc\n",
    "print('ee=', ee)"
   ]
  },
  {
   "cell_type": "markdown",
   "metadata": {},
   "source": [
    "<i class=\"fa fa-pencil\" style=\"font-size:1.5em; color:red\"></i> 2) Explain in words what the `ee` array is, above. Why is the first element 0, the second element 2.5, and the last element 25?"
   ]
  },
  {
   "cell_type": "markdown",
   "metadata": {},
   "source": [
    "<i class=\"fa fa-cogs\" style=\"font-size:1.5em; color:red\"></i> 3) In the code cell below, make an array, called `myarray1`, that is composed of the numbers 1, 3, 6, 9, 30, 55, and 75. Print `myarray1`.\n"
   ]
  },
  {
   "cell_type": "code",
   "execution_count": null,
   "metadata": {},
   "outputs": [],
   "source": []
  },
  {
   "cell_type": "markdown",
   "metadata": {},
   "source": [
    "<i class=\"fa fa-cogs\" style=\"font-size:1.5em; color:red\"></i> 4) In the code cell below, make an array called `myarray2` that is the square of `myarray1`. Be sure to do math on the whole of `myarray1` in a single line---don't do math on each array element individually. Print `myarray2`."
   ]
  },
  {
   "cell_type": "code",
   "execution_count": null,
   "metadata": {},
   "outputs": [],
   "source": []
  },
  {
   "cell_type": "markdown",
   "metadata": {},
   "source": [
    "## Plotting\n",
    "Python notebooks are also great for visualizing your data. We can make a plot!\n",
    "\n",
    "Below, I am plotting the `xx` array on the x axis, and `bb` array on the y axis. I am also labelling the axes with the `plt.xlabel` and `plt.ylabel` commands (**always** label your axes). Finally, we place a title on top of the plot with the `plt.title` command."
   ]
  },
  {
   "cell_type": "code",
   "execution_count": 8,
   "metadata": {
    "scrolled": true
   },
   "outputs": [
    {
     "data": {
      "text/plain": [
       "Text(0.5, 1.0, 'a first plot')"
      ]
     },
     "execution_count": 8,
     "metadata": {},
     "output_type": "execute_result"
    },
    {
     "data": {
      "image/png": "[encoded data removed]",
      "text/plain": [
       "<Figure size 432x288 with 1 Axes>"
      ]
     },
     "metadata": {
      "needs_background": "light"
     },
     "output_type": "display_data"
    }
   ],
   "source": [
    "plt.plot(xx,bb)\n",
    "plt.xlabel(\"xx\")\n",
    "plt.ylabel(\"bb = 2 * xx\")\n",
    "plt.title(\"a first plot\")"
   ]
  },
  {
   "cell_type": "markdown",
   "metadata": {},
   "source": [
    "By default, `plt.plot` connects points with lines. You can also mark the data points with symbols instead---for example, `'ro'` in the plot command plots red dots. You can find out more about different plot symbols, and python plotting in general, <a href='https://matplotlib.org/api/markers_api.html'> here</a>."
   ]
  },
  {
   "cell_type": "code",
   "execution_count": 9,
   "metadata": {},
   "outputs": [
    {
     "data": {
      "text/plain": [
       "Text(0.5, 1.0, 'a red dot plot')"
      ]
     },
     "execution_count": 9,
     "metadata": {},
     "output_type": "execute_result"
    },
    {
     "data": {
      "image/png": "[encoded data removed]",
      "text/plain": [
       "<Figure size 432x288 with 1 Axes>"
      ]
     },
     "metadata": {
      "needs_background": "light"
     },
     "output_type": "display_data"
    }
   ],
   "source": [
    "plt.plot(xx,bb,'ro')\n",
    "plt.xlabel(\"xx\")\n",
    "plt.ylabel(\"bb = 2 * xx\")\n",
    "plt.title(\"a red dot plot\")"
   ]
  },
  {
   "cell_type": "markdown",
   "metadata": {},
   "source": [
    "<i class=\"fa fa-cogs\" style=\"font-size:1.5em; color:red\"></i> 5) Plot `myarray2` as a function of `myarray1`, using the symbol of your choice. Don't forget axis labels!"
   ]
  },
  {
   "cell_type": "code",
   "execution_count": null,
   "metadata": {},
   "outputs": [],
   "source": []
  },
  {
   "cell_type": "markdown",
   "metadata": {},
   "source": [
    "## The night sky\n",
    "\n",
    "###  Polaris and circumpolar stars\n",
    "\n",
    "Launch `stellarium`, and make sure the location is set to East Lansing.  Set the time to 23:00.  Find Polaris, and use the azimuthal grid to estimate its altitude above the northern horizon. "
   ]
  },
  {
   "cell_type": "markdown",
   "metadata": {},
   "source": [
    "<i class=\"fa fa-pencil\" style=\"font-size:1.5em; color:red\"></i> Enter your estimate for the altitude of Polaris; how does its altitude compare with our latitude?"
   ]
  },
  {
   "cell_type": "markdown",
   "metadata": {},
   "source": [
    "You should see the asterism known as \"the Big Dipper\" in the northern sky. Find the stars *Merak* and *Dubhe* in the Big Dipper; these are known as the pointer stars because they point to Polaris. *Hint:* You can turn on constellation lines and labels using the pop-up menu on the bottom."
   ]
  },
  {
   "cell_type": "markdown",
   "metadata": {},
   "source": [
    "<i class=\"fa fa-pencil\" style=\"font-size:1.5em; color:red\"></i> \n",
    "What is the altitude and azimuth of Merak?\n",
    "What constellation is Polaris in? "
   ]
  },
  {
   "cell_type": "markdown",
   "metadata": {},
   "source": [
    "While looking north, adjust the screen so you can see the North Star and the northern horizon.  Set the time flow to run forward so the stars are rotating rapidly.  Notice that when the Big Dipper reaches its lowest point in the sky it is still above the horizon. Objects that are always visible from a location are referred to as *circumpolar.*"
   ]
  },
  {
   "cell_type": "markdown",
   "metadata": {},
   "source": [
    "<i class=\"fa fa-pencil\" style=\"font-size:1.5em; color:red\"></i> Describe the motion of circumpolar objects throughout the night, from our vantage point. For what range of declinations are objects circumpolar?"
   ]
  },
  {
   "cell_type": "markdown",
   "metadata": {},
   "source": [
    "## Constellations of the Zodiac\n",
    "\n",
    "Come up with 4 constellations that are part of the *zodiac*.  Find these constellations with `stellarium`, and for each constellation, find an approximate value for its right ascension and declination. Also figure out when each constellation is opposite the sun."
   ]
  },
  {
   "cell_type": "markdown",
   "metadata": {},
   "source": [
    "<i class=\"fa fa-pencil\" style=\"font-size:1.5em; color:red\"></i> Fill in the following information for your 4 zodiac constellations.\n",
    "\n",
    "1. constellation 1: RA = ; dec = ; time of year when opposite sun is \n",
    "2. constellation 2: RA = ; dec = ; time of year when opposite sun is \n",
    "3. constellation 3: RA = ; dec = ; time of year when opposite sun is \n",
    "4. constellation 4: RA = ; dec = ; time of year when opposite sun is "
   ]
  },
  {
   "cell_type": "markdown",
   "metadata": {},
   "source": [
    "## A deep sky object, M51\n",
    "\n",
    "As part of the preparation for this lab, a `FITS` format of the galaxy M51 was provided from [archive.stsci.edu](https://archive.stsci.edu). Use the `ds9` tool to export that image as a `png`.\n",
    "\n",
    "\n",
    "## Viewing images in DS9\n",
    "Load this FITS image into DS9. Inside DS9, go to `File > Open` and find your FITS file. \n",
    "\n",
    "Often, to see detail in your FITS image, you will have to change the *image scaling*---how colors are assigned to pixel values. Click on `Scale > ZScale`. You can also try other options under `Scale`. Make sure your image is scaled so that we can see the object of interest.\n",
    "\n",
    "Change the color of the image---mostly for fun---by going `Color` and selecting e.g., Heat or Rainbow or your favorite scale.\n",
    "\n",
    "Save your image as a png. You should be able to do this by going to `File > Export > PNG` and saving to your Lab1 folder. For some operating systems, though, this export function seems to fail. You may just have to take a screenshot of your ds9 window in that case (sorry!)\n",
    "\n",
    "Find M51 with `stellarium`."
   ]
  },
  {
   "cell_type": "markdown",
   "metadata": {},
   "source": [
    "<i class=\"fa fa-pencil\" style=\"font-size:1.5em; color:red\"></i> 7) Embed your exported image in this cell. Make sure we can see the object of interest and it is in color (it is not just black and white). \n",
    "\n",
    "\n",
    "**Tip:** To embed an image in a report, **Make sure your image is in the same folder as this notebook.**. Then, **in a markdown cell**, type on a separate line (good idea to put blank lines before and after):\n",
    "\n",
    "```markdown\n",
    "![Image tag](<image file name> \"optional caption to appear on mouse over\")\n",
    "```\n",
    "For example, if your file name is `M51.png`, you would enter\n",
    "\n",
    "```\n",
    "![M51](M51.png \"Image of M51\")\n",
    "```\n",
    "\n",
    "The text \"Image of M51\" should appear when your cursor is placed over the image. "
   ]
  },
  {
   "cell_type": "markdown",
   "metadata": {},
   "source": [
    "<i class=\"fa fa-pencil\" style=\"font-size:1.5em; color:red\"></i> What are the right ascension and declination of M51?"
   ]
  },
  {
   "cell_type": "markdown",
   "metadata": {},
   "source": [
    "<i class=\"fa fa-pencil\" style=\"font-size:1.5em; color:red\"></i> What time of year, if any, could you observe M51 from East Lansing?"
   ]
  },
  {
   "cell_type": "markdown",
   "metadata": {},
   "source": [
    "## <i class=\"fa fa-exclamation-triangle\" style=\"font-size:1.5em; color:red\"></i>Closeout\n",
    "\n",
    "Prepare this lab for submission: Remove any \"tips\" and unnecessary instruction text or cells. Make sure you have answered all numbered questions, and that all cells are rendered. Make sure this notebook is saved, and then select `File : Close and Halt`. Make sure this notebook file and the png image file are in the same folder (you can include the FITS file or not, it's up to you).  Follow the instructions on D2L for zipping and uploading your lab report to the dropbox."
   ]
  }
 ],
 "metadata": {
  "anaconda-cloud": {},
  "kernelspec": {
   "display_name": "Python 3 (ipykernel)",
   "language": "python",
   "name": "python3"
  },
  "language_info": {
   "codemirror_mode": {
    "name": "ipython",
    "version": 3
   },
   "file_extension": ".py",
   "mimetype": "text/x-python",
   "name": "python",
   "nbconvert_exporter": "python",
   "pygments_lexer": "ipython3",
   "version": "3.8.12"
  }
 },
 "nbformat": 4,
 "nbformat_minor": 1
}
