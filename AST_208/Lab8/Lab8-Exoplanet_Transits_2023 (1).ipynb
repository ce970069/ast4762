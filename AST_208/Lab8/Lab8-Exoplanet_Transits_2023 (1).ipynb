{
 "cells": [
  {
   "cell_type": "markdown",
   "metadata": {},
   "source": [
    "# AST 208 Lab 8: Transiting Exoplanets"
   ]
  },
  {
   "cell_type": "markdown",
   "metadata": {},
   "source": [
    "<i class=\"fa fa-pencil\" style=\"font-size:1.5em; color:red\"></i>\n",
    "Your Name  \n",
    "Date  \n",
    "**Team Name:**  \n",
    "**Colllaborators:** Collaborator 1, Collaborator 2, Collaborator 3\n",
    "\n",
    "Make sure to include the details of your calculations in this notebook and use $\\mathrm{\\LaTeX}$ to typeset the mathematics!"
   ]
  },
  {
   "cell_type": "code",
   "execution_count": 1,
   "metadata": {
    "collapsed": true
   },
   "outputs": [],
   "source": [
    "# Run this cell first to load the numpy and matplotlib.pyplot modules\n",
    "import numpy as np\n",
    "# load graphics\n",
    "import matplotlib.pyplot as plt\n",
    "%matplotlib inline"
   ]
  },
  {
   "cell_type": "markdown",
   "metadata": {},
   "source": [
    "## Introduction\n",
    "\n",
    "In this lab you will analyze data taken with the [*TESS* mission](https://www.nasa.gov/tess-transiting-exoplanet-survey-satellite/). *TESS* (Transiting Exoplanet Survey Satellite) is an all-sky survey to look for transits—a slight dimming of a star caused by a planet moving in front of the star. For a transit to occur, the orbit must be close to edge-on from our vantage point. The odds of viewing a transit from any one star are small, which is why *TESS* needs to monitor so many stars (>20 million). \n",
    "\n",
    "We have light curve datasets from four different stars. You are going to find the period of the transits, their depth (how much light is blocked, an indicator of the planet's size), and their duration. You will use these quantities to determine the planets' radii, orbits, and surface temperatures.\n",
    "\n",
    "There are 4 planets: A, B, C, and D. For each planet, there is a file with `_lc` in the name, which contains the lightcurve, i.e., the brightness of the star as a function of time. \n",
    "\n",
    "Each member of your team should pick a planet that is different from the other team members'. You will each perform an independent analysis on your target, and then collect your results for all planets and tabulate your results."
   ]
  },
  {
   "cell_type": "markdown",
   "metadata": {},
   "source": [
    "<i class=\"fa fa-pencil\" style=\"font-size:1.5em; color:red\"></i> 1) What planet is each person in the group analyzing?\n",
    "\n",
    "<span style=\"color:red\">(1 pt)</span>"
   ]
  },
  {
   "cell_type": "markdown",
   "metadata": {
    "collapsed": true
   },
   "source": [
    "## Planet (put ID here)\n",
    "\n",
    "Inspect one of the `_lc` datafiles (click on it in the Jupyter notebook).  The file has a header and then two columns of data. At the bottom of the header is the column information.\n",
    "\n",
    "```\n",
    "#COLUMN_1= 'BJD'               / Baryocentric Julian Date\n",
    "#COLUMN_2= 'Detr_Norm_Flux'    / detrended normalized flux in TESS bandpass\n",
    "# COLUMN_3= 'Detr_Norm_Flux_err' / error on detrended normalized flux in TESS bandpass\n",
    " 2458468.4320781016722322       0.9997439012987041       0.0003033505204062\n",
    " 2458468.4529119338840246       0.9999424710220458       0.0003033505204062\n",
    " ```\n",
    "\n",
    "The Julian Date is the number of days since January 1, 4713 BC. It is a useful way to specify when an astronomical event occured. The Heliocentric Julian Date is corrected to indicate the time that an observer moving with the Sun, rather than the Earth, would record. \"Detrended normalized flux\" means that any secular changes in the mean brightness of the star have been removed, and the flux has been divided by some number so that its mean value is ≈ 1."
   ]
  },
  {
   "cell_type": "markdown",
   "metadata": {},
   "source": [
    "<i class=\"fa fa-cogs\" style=\"font-size:1.5em; color:red\"></i> 2) Load the datafile into an array, and then store the times and fluxes in separate arrays (remember the *Gaia* lab?).  Because the header lines have a prepended `#`, you do not need a `skip_rows` option.\n",
    "\n",
    "<span style=\"color:red\">(2 pt total)</span>"
   ]
  },
  {
   "cell_type": "code",
   "execution_count": null,
   "metadata": {
    "collapsed": true
   },
   "outputs": [],
   "source": []
  },
  {
   "cell_type": "markdown",
   "metadata": {},
   "source": [
    "<i class=\"fa fa-pencil\" style=\"font-size:1.5em; color:red\"></i> 3) Indicate the number of observations in the dataset.  That is, how many separate measurements of the flux were made for this source?\n",
    "<span style=\"color:red\">(1 pt total)</span>"
   ]
  },
  {
   "cell_type": "code",
   "execution_count": null,
   "metadata": {},
   "outputs": [],
   "source": []
  },
  {
   "cell_type": "markdown",
   "metadata": {},
   "source": [
    "<i class=\"fa fa-cogs\" style=\"font-size:1.5em; color:red\"></i> 4) Plot the star's lightcurve.  Label the axes appropriately.\n",
    "\n",
    "<i class=\"fa fa-exclamation-triangle\" style=\"font-size:1.5em; color:red\"></i> We don't need the full Julian Date for each event.  To find the period or duration of a transit, we are comparing two different times in the same dataset, so we can set the time of the first observation to zero for convenience: for example, `t = HJD - HJD[0]`.\n",
    "\n",
    "<span style=\"color:red\">(2 pt total)</span>"
   ]
  },
  {
   "cell_type": "code",
   "execution_count": null,
   "metadata": {
    "collapsed": true
   },
   "outputs": [],
   "source": []
  },
  {
   "cell_type": "markdown",
   "metadata": {},
   "source": [
    "<i class=\"fa fa-cogs\" style=\"font-size:1.5em; color:red\"></i> 5) Determine the time when the first transit in the dataset begins, and estimate the uncertainty in this value. Make a zoomed-in plot featuring the first transit, and mark the start time of the transit with a vertical line.\n",
    "\n",
    "<i class=\"fa fa-exclamation-triangle\" style=\"font-size:1.5em; color:red\"></i> Zoom in on the first transit in your plot by setting ``plt.xlim`` and ``plt.ylim``.\n",
    "\n",
    "<span style=\"color:red\">(3 pt total)</span>"
   ]
  },
  {
   "cell_type": "code",
   "execution_count": null,
   "metadata": {
    "collapsed": true
   },
   "outputs": [],
   "source": []
  },
  {
   "cell_type": "markdown",
   "metadata": {
    "collapsed": true
   },
   "source": [
    "<i class=\"fa fa-cogs\" style=\"font-size:1.5em; color:red\"></i> 6) Determine the transit period. Graphically show how you estimated the period of the transit (for example, with evenly spaced vertical lines marking the start of each transit).\n",
    "\n",
    "<i class=\"fa fa-exclamation-triangle\" style=\"font-size:1.5em; color:red\"></i> You might find a command like this useful:  \n",
    "`` foo = np.arange(1, 15, 2.5)``  \n",
    "This command will fill an array starting with a value of 1, and increment further elements by 2.5 until it reaches 15. So ``foo`` will look like:  \n",
    "``[  1.    3.5   6.    8.5  11.   13.5]``  \n",
    "\n",
    "<span style=\"color:red\">(6 pt total)</span>"
   ]
  },
  {
   "cell_type": "code",
   "execution_count": null,
   "metadata": {
    "collapsed": true
   },
   "outputs": [],
   "source": []
  },
  {
   "cell_type": "markdown",
   "metadata": {},
   "source": [
    "<i class=\"fa fa-cogs\" style=\"font-size:1.5em; color:red\"></i> 7) Fold the lightcurve on the period, and plot the result.  This \"folding\" may allow you to further hone your estimate of the transit period but tightening up the points in the transit. Get the period estimate as good as you can. \n",
    "\n",
    "<i class=\"fa fa-exclamation-triangle\" style=\"font-size:1.5em; color:red\"></i> To fold the lightcurve, plot the flux as a function of the remainder, `t_fold = np.remainder(t,period)`.\n",
    "\n",
    "<span style=\"color:red\">(4 pt total)</span>"
   ]
  },
  {
   "cell_type": "code",
   "execution_count": null,
   "metadata": {
    "collapsed": true
   },
   "outputs": [],
   "source": []
  },
  {
   "cell_type": "markdown",
   "metadata": {},
   "source": [
    "<i class=\"fa fa-pencil\" style=\"font-size:1.5em; color:red\"></i> 8) Estimate the uncertainty in the transit period, and explain your reasoning.\n",
    "\n",
    "<span style=\"color:red\">(3 pts total)</span>"
   ]
  },
  {
   "cell_type": "code",
   "execution_count": null,
   "metadata": {},
   "outputs": [],
   "source": []
  },
  {
   "cell_type": "markdown",
   "metadata": {},
   "source": [
    "<i class=\"fa fa-cogs\" style=\"font-size:1.5em; color:red\"></i> 9) Estimate the depth of the transits, and explain your reasoning with a plot. What are the units of transit depth?\n",
    "\n",
    "<i class=\"fa fa-exclamation-triangle\" style=\"font-size:1.5em; color:red\"></i> Remember from previous labs (e.g., *Gaia*) how to draw horizontal and vertical lines, to illustrate your point. You can also write some text and/.or draw an arrow using the `annotate` command (check out [this page](https://matplotlib.org/tutorials/text/annotations.html#annotations-tutorial) for details).\n",
    "\n",
    "<span style=\"color:red\">(2 pts total)</span>"
   ]
  },
  {
   "cell_type": "code",
   "execution_count": null,
   "metadata": {
    "collapsed": true
   },
   "outputs": [],
   "source": []
  },
  {
   "cell_type": "markdown",
   "metadata": {},
   "source": [
    "<i class=\"fa fa-pencil\" style=\"font-size:1.5em; color:red\"></i> 10) Estimate the uncertainty on the transit depth, and explain your reasoning.\n",
    "\n",
    "<span style=\"color:red\">(2 pts total)</span>"
   ]
  },
  {
   "cell_type": "code",
   "execution_count": null,
   "metadata": {},
   "outputs": [],
   "source": []
  },
  {
   "cell_type": "markdown",
   "metadata": {},
   "source": [
    "<i class=\"fa fa-cogs\" style=\"font-size:1.5em; color:red\"></i> 11) Estimate the transit duration (i.e., amount of time that the transit lasts), and explain your reasoning with a plot. Be certain to specify the units.\n",
    "\n",
    "<span style=\"color:red\">(2 pts total)</span>"
   ]
  },
  {
   "cell_type": "code",
   "execution_count": null,
   "metadata": {
    "collapsed": true
   },
   "outputs": [],
   "source": []
  },
  {
   "cell_type": "markdown",
   "metadata": {},
   "source": [
    "<i class=\"fa fa-pencil\" style=\"font-size:1.5em; color:red\"></i> 12) Estimate the uncertainty on the transit duration, and explain your reasoning. \n",
    "\n",
    "<span style=\"color:red\">(3 pts total)</span>"
   ]
  },
  {
   "cell_type": "code",
   "execution_count": null,
   "metadata": {},
   "outputs": [],
   "source": []
  },
  {
   "cell_type": "markdown",
   "metadata": {},
   "source": [
    "## Planetary properties and habitability"
   ]
  },
  {
   "cell_type": "markdown",
   "metadata": {},
   "source": [
    "### Summary of observations"
   ]
  },
  {
   "cell_type": "markdown",
   "metadata": {},
   "source": [
    "<i class=\"fa fa-pencil\" style=\"font-size:1.5em; color:red\"></i> 13) Collect here the exoplanet properties found by your team. Include uncertainties in this table.\n",
    "\n",
    "| target | analyzed by | orbital period (d) | transit duration (hr) | transit depth (%) |\n",
    "|--------|-------------|--------------------|-----------------------|-------------------|\n",
    "|    A   | put         |                    |                       |                   |                         \n",
    "|    B   | initials    |                    |                       |                   |                         \n",
    "|    C   | in this     |                    |                       |                   |               \n",
    "|    D   | column      |                    |                       |                   |\n",
    "\n",
    "<i class=\"fa fa-exclamation-triangle\" style=\"font-size:1.5em; color:red\"></i> You can make the symbol $\\pm$ using the $\\mathrm{\\LaTeX}$ command \"`\\pm`\": for example \"`$10\\pm3$`\" produces $10\\pm3$.\n",
    "\n",
    "<span style=\"color:red\">(3 pt total)</span>"
   ]
  },
  {
   "cell_type": "markdown",
   "metadata": {},
   "source": [
    "### Physical properties\n",
    "To understand the planet, we must first have good measurements of the host star properties. Here is a synopsis of stellar properties of the *TESS* targets. \n",
    "\n",
    "<table style=\"border:none; width: 500px\">\n",
    "<tr style=\"border:none; border-bottom:1px solid #ddd\">\n",
    "<th style=\"border:none\">system</th><th style=\"border:none\">surface temperautre (K)</th>\n",
    "<th style=\"border:none\">radius ($R_\\odot$)</th><th style=\"border:none\">mass ($M_\\odot$)</th>\n",
    "<th style=\"border:none\">reference</th>\n",
    "</tr>\n",
    "<tr style=\"border:none\">\n",
    "<td style=\"border:none\">TESS A</td><td style=\"border:none\">$6460\\pm150$</td>\n",
    "<td style=\"border:none\">$2.082\\pm0.07$</td><td style=\"border:none\">$1.536\\pm0.07$</td>\n",
    "<td style=\"border:none\">Rodriguez et al. (2021)</td>\n",
    "</tr>\n",
    "<tr style=\"border:none\">\n",
    "<td style=\"border:none\">TESS B</td><td style=\"border:none\">$6274\\pm97$</td>\n",
    "<td style=\"border:none\">$1.925\\pm0.065$</td><td style=\"border:none\">$1.464\\pm0.08$</td>\n",
    "<td style=\"border:none\">Rodriguez et al. (2021)</td>\n",
    "</tr>\n",
    "<tr style=\"border:none\">\n",
    "<td style=\"border:none\">TESS C</td><td style=\"border:none\">$6630\\pm300$</td>\n",
    "<td style=\"border:none\">$1.612\\pm0.057$</td><td style=\"border:none\">$1.516\\pm0.09$</td>\n",
    "<td style=\"border:none\">Rodriguez et al. (2023)</td>\n",
    "</tr>\n",
    "<tr style=\"border:none\">\n",
    "<td style=\"border:none\">TESS D</td><td style=\"border:none\">$6280\\pm160$</td>\n",
    "<td style=\"border:none\">$1.396\\pm0.05$</td><td style=\"border:none\">$1.233\\pm0.09$</td>\n",
    "<td style=\"border:none\">Rodriguez et al. (2023)</td>\n",
    "</tr>\n",
    "</table>"
   ]
  },
  {
   "cell_type": "markdown",
   "metadata": {},
   "source": [
    "In order to compute the planetary properties, we'll need to convert all quantities to cgs units.  This [webpage](http://www.astro.wisc.edu/~dolan/constants.html) might be useful."
   ]
  },
  {
   "cell_type": "markdown",
   "metadata": {},
   "source": [
    "<i class=\"fa fa-cogs\" style=\"font-size:1.5em; color:red\"></i> 14) Estimate the planetary radius of your planet. Include the uncertainty (do a proper error propagation! See Taylor Ch 3.11) and report your radius in units of $R_\\mathrm{J}$. \n",
    "\n",
    "<i class=\"fa fa-exclamation-triangle\" style=\"font-size:1.5em; color:red\"></i> If you like, you can do this calculation for all four planets using arrays!\n",
    "\n",
    " For some function f(x, y), the uncertainty in f is defined by\n",
    "\n",
    "$\\Delta f = \\sqrt{\\left( \\frac{\\delta f}{\\delta x} \\Delta x \\right)^2 + \\left( \\frac{\\delta f}{\\delta y} \\Delta y \\right)^2}$\n",
    "\n",
    "where $\\Delta x$ and $\\Delta y$ are the uncertainties in x and y, respectively, and $\\frac{\\delta f}{\\delta x}$ is the partial derivative of f with respect to x.\n",
    "\n",
    "\n",
    "(<span style=\"color:red\">8 pt total)</span>"
   ]
  },
  {
   "cell_type": "code",
   "execution_count": 2,
   "metadata": {
    "collapsed": true
   },
   "outputs": [],
   "source": [
    "# radii "
   ]
  },
  {
   "cell_type": "code",
   "execution_count": 1,
   "metadata": {},
   "outputs": [],
   "source": [
    "# semi-major axes Needed for Temp. Check your units!!!"
   ]
  },
  {
   "cell_type": "markdown",
   "metadata": {},
   "source": [
    "Semi-Major Axes for Planets A,B,C,D in AU: [0.06608,0.0626,0.05064,0.0513]\n",
    "\n",
    "Errors on Semi-Major Axes: [0.00110,0.0012,0.00110,0.0013]\n"
   ]
  },
  {
   "cell_type": "markdown",
   "metadata": {},
   "source": [
    "### Extra Credit:\n",
    "\n",
    "<i class=\"fa fa-cogs\" style=\"font-size:1.5em; color:red\"></i> EC) Estimate the surface temperatures for your planet, and their uncertainties. If the atmosphere is neglected, the surface temperature can be approximated as\n",
    "\\begin{equation}\n",
    " T_p = T_\\star \\left(\\frac{R_\\star}{2d}\\right)^{1/2} \\left(1-A\\right)^{1/4} .\n",
    "\\end{equation}\n",
    "Here $T_\\star$ is the stellar surface temperature, $R_\\star$ is the stellar radius, $d$ is the star-planet distance, and $A$ is the planet's *albedo*—the fraction of light reflected from the planet, so that clouds have $A\\approx 1$ and black lava has $A\\ll 1$. We have no clue what $A$ is, but for a first guess let's assume it is equal to that of Earth, $A\\approx0.4$.\n",
    "\n",
    "(<span style=\"color:red\">4 pt total)</span>"
   ]
  },
  {
   "cell_type": "code",
   "execution_count": 4,
   "metadata": {
    "collapsed": true
   },
   "outputs": [],
   "source": [
    "# surface temperatures"
   ]
  },
  {
   "cell_type": "markdown",
   "metadata": {},
   "source": [
    "<i class=\"fa fa-pencil\" style=\"font-size:1.5em; color:red\"></i> EC) Are any of your team's planets in the habitable zone (i.e., could they have liquid water)?\n",
    "\n",
    "<span style=\"color:red\">(1 pt total) </span>"
   ]
  },
  {
   "cell_type": "code",
   "execution_count": null,
   "metadata": {},
   "outputs": [],
   "source": []
  },
  {
   "cell_type": "markdown",
   "metadata": {},
   "source": [
    "<i class=\"fa fa-pencil\" style=\"font-size:1.5em; color:red\"></i> EC) The planets we analyzed in this lab were some of the first discovered by *TESS*. How would you expect later discoveries to be different? Will they be more or less likely to be in the habitable zone?\n",
    "\n",
    "<span style=\"color:red\">(1 pt total) </span>\n"
   ]
  },
  {
   "cell_type": "code",
   "execution_count": null,
   "metadata": {},
   "outputs": [],
   "source": []
  },
  {
   "cell_type": "markdown",
   "metadata": {},
   "source": [
    "## <i class=\"fa fa-exclamation-triangle\" style=\"font-size:1.5em; color:red\"></i>Closeout\n",
    "\n",
    "Prepare this lab for submission: Remove any \"tips\" and unnecessary instruction text or cells. When you are finished, this notebook document should only include numbered questions you answered, and your answers.\n",
    "\n",
    "Make sure all cells are rendered, and that this notebook is saved.  After you've saved it, select `File>Close and Halt`.  Upload this notebook file to D2L."
   ]
  }
 ],
 "metadata": {
  "anaconda-cloud": {},
  "kernelspec": {
   "display_name": "Python 3 (ipykernel)",
   "language": "python",
   "name": "python3"
  },
  "language_info": {
   "codemirror_mode": {
    "name": "ipython",
    "version": 3
   },
   "file_extension": ".py",
   "mimetype": "text/x-python",
   "name": "python",
   "nbconvert_exporter": "python",
   "pygments_lexer": "ipython3",
   "version": "3.9.13"
  }
 },
 "nbformat": 4,
 "nbformat_minor": 1
}
