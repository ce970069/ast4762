{
 "cells": [
  {
   "cell_type": "markdown",
   "metadata": {},
   "source": [
    "# AST 208 Lab 5: The Charge-Coupled Device (CCD)"
   ]
  },
  {
   "cell_type": "markdown",
   "metadata": {},
   "source": [
    "<i class=\"fa fa-pencil\" style=\"font-size:1.5em; color:red\"></i>\n",
    "\n",
    "Your Name: **Cesarine Graham**\n",
    "\n",
    "Date: **03/02/2023**\n",
    "\n",
    "Team Name: **Team Tired**\n",
    "\n",
    "Collaborators: **Sam Monique, Hailey Wallace, Austin Parker**\n",
    "\n",
    "**Table 17/18**\n",
    "\n",
    "**NOTE** Make sure you tackle the questions with a <i class=\"fa fa-check-square\" style=\"font-size:1.5em; color:red\"></i> next to them in lab class, as most require lab materials."
   ]
  },
  {
   "cell_type": "markdown",
   "metadata": {
    "collapsed": true
   },
   "source": [
    "## Introduction\n",
    "\n",
    "During lab, you will make a model CCD using the ice-cube tray as the CCD and the beads as photons, or CCD counts.  You'll compare your model \"images\" with those taken with SkyNet, which are in the fits format. \n",
    "\n",
    "Log in to D2L, and download the zip file with all of the images. Inside there should be an object, bias, dark, and flat image. "
   ]
  },
  {
   "cell_type": "markdown",
   "metadata": {},
   "source": [
    "<i class=\"fa fa-pencil\" style=\"font-size:1.5em; color:red\"></i> 1) The object observed was Messier 1. What is its nature (is it a galaxy, star cluster, planetary nebula, etc?)? In your own words, tell us what you know about these objects? What country/observatory were your images obtained from? Find the Latitude and Longitude and check a map.\n",
    "\n",
    "<span style=\"color:red\">(3 points) \n",
    "    \n",
    "<span style=\"color:blue\"> Messier 1 is a supernova remnant/nebula. It is in the Taurus constellation and it contains a pulsar. It was observed in the Prompt5 telescope in Cerro Tololo Inter-American Observatory, Chile. \n",
    "    \n",
    "<span style=\"color:blue\">Latitude = -30.167638888975471\n",
    "    \n",
    "<span style=\"color:blue\">Longitude = -70.805388889057625"
   ]
  },
  {
   "cell_type": "markdown",
   "metadata": {},
   "source": [
    "<i class=\"fa fa-pencil\" style=\"font-size:1.5em; color:red\"></i> 2) Your observations were taken with the Prompt 5 telescope. Find your telescope on the 'Skynet Gain & Read Noise' document on D2L. What is the gain and read noise of your telescope's CCD? Don't forget units!\n",
    "\n",
    "<span style=\"color:red\">(2 point)</span>\n",
    "\n",
    "<span style=\"color:blue\">Gain: 1.3 [e-/count]\n",
    "<span style=\"color:blue\">Read Noise: 9.2 [e-]\n",
    "    "
   ]
  },
  {
   "cell_type": "markdown",
   "metadata": {},
   "source": [
    "### The CCD\n",
    "\n",
    "<i class=\"fa fa-check-square\" style=\"font-size:1.5em; color:red\"></i> 3) How many pixels are in your model (ice cube tray) CCD? What is the shape of the model CCD? \n",
    "\n",
    "<span style=\"color:red\">(2 points) \n",
    "    \n",
    "<span style=\"color:blue\">There are 90 pixel in our model (6x15). The shape of the model is a rectangle."
   ]
  },
  {
   "cell_type": "markdown",
   "metadata": {},
   "source": [
    "<i class=\"fa fa-pencil\" style=\"font-size:1.5em; color:red\"></i> 4) Open the \"real\" bias image in DS9. As you move the cursor over the image, you will notice the display at upper left has cells \"X\" and \"Y\". These give the pixel coordinates of the image. Zoom out to make sure you are seeing the whole image, with **Zoom > Zoom Fit**. What is the shape and total number of pixels of the CCD? \n",
    "\n",
    "<span style=\"color:red\">(2 points)</span>\n",
    "\n",
    "<span style=\"color:blue\"> The image is the shape of a square. The total number of pixels is $1024^2$, or $1048576$ pixels."
   ]
  },
  {
   "cell_type": "markdown",
   "metadata": {},
   "source": [
    "## Bias frames\n",
    "\n",
    "A bias frame is an image taken with zero exposure time---we just read out the CCD. A \"bias\" or \"zero\" level is a fixed number of counts given to every pixel on the CCD (this is often set by the manufacturer). CCDs can only detect positive numbers of counts, so the bias level allows us to measure fluctuations around the \"zero\" level, and ensure that these fluctuations are all safely in the positive, countable regime.\n",
    "\n",
    "Read-out noise is noise that comes from the CCD reading out---that is, the  process in which the number of electons in each pixel is counted. A bias frame consists of the bias level, plus some scatter around that level, borne of read-out noise.\n",
    "\n",
    "<i class=\"fa fa-check-square\" style=\"font-size:1.5em; color:red\"></i> 5) Using the model CCD (ice-cube tray) and counts (beads), illustrate the CCD bias level plus read-out noise; that is, illustrate what you would read out in a zero-second exposure. When you are happy with your model bias, raise your hand to have an instructor come over and approve your image. They will check off your team on a sheet and you will get points for this question.\n",
    "\n",
    "<span style=\"color:red\">(3 points)</span>"
   ]
  },
  {
   "cell_type": "markdown",
   "metadata": {},
   "source": [
    "<i class=\"fa fa-pencil\" style=\"font-size:1.5em; color:red\"></i> 6) Make a rough estimate of the average pixel value in the SkyNet image. (If you hover your mouse over the image in DS9, you can see the number of counts in the pixel where you currently hover at the top of the DS9 window, as `Value`. \n",
    "\n",
    "Then be more quantitative in your estimate of the average pixel value. You can get some basic image statistics in DS9 by making a green circle region (don't make it too big, or you might get some funky results; try keeping your circle radius to $<$100 pixels or so). Double click on this circle; a window should pop up called `Circle`. Click on this new window, then go to **Analysis > Statistics** at the top of your screen. Another new window (also called `Circle`) should pop up. 'Mean' and 'median' will tell you the typical pixel values in the green circle.\n",
    "\n",
    "Write down both estimates. How does your rough estimate compare with the image statistics given by DS9? What are the units on the typical pixel values?  \n",
    "\n",
    "<span style=\"color:red\">(4 points)</span>\n",
    "\n",
    "    My rough estimate of the average pixel value is 1700.\n",
    "    From the image statistics, the average pixel value is actually 1783.81 [counts/pixel].\n",
    "    \n",
    "    Median: 1783.8\n",
    "    Min: 1775.36\n",
    "    Max: 1806.73"
   ]
  },
  {
   "cell_type": "markdown",
   "metadata": {},
   "source": [
    "<i class=\"fa fa-pencil\" style=\"font-size:1.5em; color:red\"></i> 7) Compare your model CCD bias image with the one from SkyNet. Point out similar features and any significant differences.\n",
    "\n",
    "<span style=\"color:red\">(2 points)</span>\n",
    "\n",
    "    Our model is just a scaled down version of the image. Instead of having roughly 1700 counts/pixel, we have roughly 4 counts/pixel in each 'pixel'."
   ]
  },
  {
   "cell_type": "markdown",
   "metadata": {},
   "source": [
    "## Dark frames\n",
    "\n",
    "Dark current is noise that accumulates in the CCD due to thermal effects (if you cool a CCD, the dark current noise will decrease). It is called \"dark\" current because it will be seen in an image, even if no light ever hits the CCD. The longer you leave the CCD running taking an image, the more dark current there will be in the image (it accumulates with time). A dark current image is obtained by letting an image \"expose\" for a while while leaving the shutter closed, so that no light hits the CCD.\n",
    "\n",
    "<i class=\"fa fa-check-square\" style=\"font-size:1.5em; color:red\"></i> 8) Using the model CCD and counts, illustrate the CCD dark current, plus bias level. When you are happy with your model dark, raise your hand to have an instructor come over and approve your image.\n",
    "\n",
    "<span style=\"color:red\">(2 points)</span>"
   ]
  },
  {
   "cell_type": "markdown",
   "metadata": {},
   "source": [
    "<i class=\"fa fa-pencil\" style=\"font-size:1.5em; color:red\"></i> 9) Load the dark frame from SkyNet into DS9. The SkyNet dark frame already has had the bias subtracted from it (this is recorded in the header, denoted as `BIASCORR`)---so the counts in your image only represent dark counts. Look at the image header (**File > Display Header**) to find out some information about the image. What is the exposure time of the dark frame?\n",
    "\n",
    "<span style=\"color:red\">(1 point)</span>\n",
    "\n",
    "    80.0s of exposure time"
   ]
  },
  {
   "cell_type": "markdown",
   "metadata": {},
   "source": [
    "<i class=\"fa fa-pencil\" style=\"font-size:1.5em; color:red\"></i> 10) Do statistics on your image (as in #6) to find the average number of electrons produced per pixel per second by dark current in this CCD.\n",
    "\n",
    "<span style=\"color:red\">(3 points)</span>\n",
    "\n",
    "    The average count per pixel is 14.5611. Dividing that by the exposure time (80s), we get the 0.182 count/pixel/sec. \n",
    "    \n",
    "    Multiplying this by 1.3 [e-/count], we get 0.237 e-/pixel/s.\n",
    "    "
   ]
  },
  {
   "cell_type": "markdown",
   "metadata": {},
   "source": [
    "<i class=\"fa fa-pencil\" style=\"font-size:1.5em; color:red\"></i> 11) Compare your model dark frame with that taken with SkyNet. How is the dark current image different from the bias image? How would the images change if you exposed twice as long in the dark frame? \n",
    "\n",
    "<span style=\"color:red\">(3 points)</span>\n",
    "\n",
    "    Our model is different from the dark frame by a scaling factor, again. The dark current image is different from the bias image since the bias image does not depend on time, but the dark current does. If you exposed the detector for twice as long in the dark frame, you would get twice as many counts, although they may be small."
   ]
  },
  {
   "cell_type": "markdown",
   "metadata": {},
   "source": [
    "## Flat field frames\n",
    "\n",
    "A \"flat field\" image is taken by pointing at a uniformly illuminated white screen or clear twilight sky. The goal is to have light fall evenly across the CCD, to illustrate pixel-to-pixel differences in sensitivity borne of e.g., imperfections in the CCD, dust on the telescope mirror, etc.\n",
    "\n",
    "\n",
    "<i class=\"fa fa-check-square\" style=\"font-size:1.5em; color:red\"></i>  12) Using the model CCD and counts, illustrate a flat field (include bias and dark current---so you can add additional beads to your picture from #8). Often, there is some *vignetting* in telescope images, that is clearly seen in flat fields---where the center of the image is slightly brighter than the edges. Include vignetting in your model image. When you are happy with your model flat, raise your hand to have an instructor come over and approve your image.\n",
    "\n",
    "<span style=\"color:red\">(3 points)</span>"
   ]
  },
  {
   "cell_type": "markdown",
   "metadata": {},
   "source": [
    "<i class=\"fa fa-pencil\" style=\"font-size:1.5em; color:red\"></i> 13) How is this image different from the bias and dark current images?  \n",
    "\n",
    "<span style=\"color:red\">(2 points)</span>\n",
    "    \n",
    "    There are vignetting and 'donut' features present in the image. This is different from the bias and dark frames since the counts are not evenly spread (relatively-evenly). "
   ]
  },
  {
   "cell_type": "markdown",
   "metadata": {},
   "source": [
    "<i class=\"fa fa-pencil\" style=\"font-size:1.5em; color:red\"></i> 14) Load your SkyNet $V$-band or Green flat field image into DS9. It has already had the bias frame and dark frame subtracted from it (as seen by `BIASCORR`, `DARKCORR`, and `DARKSCAL` in the header). Does the SkyNet telescope have vignetting? What other features are seen in the real flat field image, that you did not illustrate with your ice-cube tray?\n",
    "\n",
    "<span style=\"color:red\">(2 points)</span>\n",
    "\n",
    "    There is vignetting taking place in the flat image. There are also the 'donut' features on the image that we were not able to replicate on the ice-cube tray."
   ]
  },
  {
   "cell_type": "markdown",
   "metadata": {},
   "source": [
    "<i class=\"fa fa-pencil\" style=\"font-size:1.5em; color:red\"></i> 15) You want a flat field frame to be well exposed with lots of photons, but not saturated (or in the non-linear part of the CCD sensitivity function). Would you say that your flat field fulfills these criteria? Why or why not?\n",
    "\n",
    "<span style=\"color:red\">(2 points)</span>\n",
    "\n",
    "    The image is not over-saturated since the average count/pixel is 30000, which is well below the over-saturation limit / non-linear part of the sensitivity function."
   ]
  },
  {
   "cell_type": "markdown",
   "metadata": {},
   "source": [
    "## Science image!\n",
    "\n",
    "<i class=\"fa fa-check-square\" style=\"font-size:1.5em; color:red\"></i> 16) Now let's make an image with our model CCD. Your CCD should have some bias + dark level and a bit of sky brightness.  Add a star to your model CCD (note that stars, to be well-sampled by the detector, should have at least two pixels across them). When you are happy with your model image, raise your hand to have an instructor come over and approve your image.\n",
    "\n",
    "<span style=\"color:red\">(2 points)</span>"
   ]
  },
  {
   "attachments": {
    "star.jpg": {
     "image/jpeg": "[encoded data removed]"
    }
   },
   "cell_type": "markdown",
   "metadata": {},
   "source": [
    "<i class=\"fa fa-image\" style=\"font-size:1.5em; color:red\"></i>  17) Load the SkyNet $V$-band or Green science image in to DS9. Zoom in to show a region around a star. Export your zoomed in image to a `png` or `jpg`, and embed it here.\n",
    "\n",
    "\n",
    "<span style=\"color:red\">(2 points)</span>\n",
    "\n",
    "![star.jpg](attachment:star.jpg)\n"
   ]
  },
  {
   "cell_type": "markdown",
   "metadata": {},
   "source": [
    "<i class=\"fa fa-image\" style=\"font-size:1.5em; color:red\"></i>  18) Find a cosmic ray strike in this SkyNet science image. A cosmic ray will appear much more point-like than a star, as it is a charged particle that has hit the detector directly, and not light that has been blurred out by the atmosphere/optical system. Zoom in to show this cosmic ray strike. Export your zoomed in image to a `png` or `jpg`, and embed it here.\n",
    "\n",
    "<span style=\"color:red\">(2 points)</span>\n"
   ]
  },
  {
   "attachments": {
    "cosmic_ray.jpg": {
     "image/jpeg": "[encoded data removed]"
    }
   },
   "cell_type": "markdown",
   "metadata": {},
   "source": [
    "<i class=\"fa fa-check-square\" style=\"font-size:1.5em; color:red\"></i>  19) Add a cosmic ray strike to your model image. Have an instructor come over and approve your image. \n",
    "\n",
    "<span style=\"color:red\">(2 points)</span>\n",
    "\n",
    "![cosmic_ray.jpg](attachment:cosmic_ray.jpg)"
   ]
  },
  {
   "cell_type": "markdown",
   "metadata": {},
   "source": [
    "<i class=\"fa fa-check-square\" style=\"font-size:1.5em; color:red\"></i> 20) Add a galaxy or nebula to your model CCD.  When you are happy with your model image, raise your hand to have an instructor come over and approve your image.\n",
    "\n",
    "<span style=\"color:red\">(2 points)</span>"
   ]
  },
  {
   "cell_type": "markdown",
   "metadata": {},
   "source": [
    "<i class=\"fa fa-pencil\" style=\"font-size:1.5em; color:red\"></i> 21) Explain how a galaxy or nebula appears notably different from the star and the cosmic ray.\n",
    "\n",
    "<span style=\"color:red\">(2 points)</span>\n",
    "\n",
    "    A galaxy/nebula appears notably different from the star and cosmic ray because it is a large body of gas. We also had to put a hydrogen filter over the image in order to see the galaxy/nebula."
   ]
  },
  {
   "cell_type": "markdown",
   "metadata": {},
   "source": [
    "<i class=\"fa fa-check-square\" style=\"font-size:1.5em; color:red\"></i> 22) CCD pixels can only collect so much light---if a pixel collects too many photons, its well will become full and the signal may start to overflow into neighboring pixels. Make a saturated star in your model CCD. Raise your hand to have an instructor come over and approve your image.\n",
    "\n",
    "<span style=\"color:red\">(2 points)</span>"
   ]
  },
  {
   "cell_type": "markdown",
   "metadata": {},
   "source": [
    "## <i class=\"fa fa-exclamation-triangle\" style=\"font-size:1.5em; color:red\"></i>Closeout\n",
    "\n",
    "Prepare this lab for submission: Remove any \"tips\" and unnecessary instruction text or cells. Leave in numbered questions, and make sure you have answered all questions clearly and thoroughly.  Make sure that all markdown cells are rendered, that code cells execute properly, and that this notebook is saved.  After you've saved the notebook, select `File : Close and Halt`. Follow the instructions on D2L for uploading this notebook to the appropriate dropbox."
   ]
  }
 ],
 "metadata": {
  "anaconda-cloud": {},
  "kernelspec": {
   "display_name": "Python 3 (ipykernel)",
   "language": "python",
   "name": "python3"
  },
  "language_info": {
   "codemirror_mode": {
    "name": "ipython",
    "version": 3
   },
   "file_extension": ".py",
   "mimetype": "text/x-python",
   "name": "python",
   "nbconvert_exporter": "python",
   "pygments_lexer": "ipython3",
   "version": "3.9.13"
  }
 },
 "nbformat": 4,
 "nbformat_minor": 1
}
