{
 "cells": [
  {
   "cell_type": "markdown",
   "metadata": {},
   "source": [
    " # AST 208 Lab 7: Photometry "
   ]
  },
  {
   "cell_type": "markdown",
   "metadata": {},
   "source": [
    "<i class=\"fa fa-pencil\" style=\"font-size:1.5em; color:red\"></i>\n",
    "Your Name  \n",
    "Date  \n",
    "**Team Name:**   \n",
    "**Collaborators:** Collaborator 1, Collaborator 2, Collaborator 3  "
   ]
  },
  {
   "cell_type": "code",
   "execution_count": 1,
   "metadata": {},
   "outputs": [],
   "source": [
    "# Run this cell first to load the numpy and matplotlib.pyplot modules\n",
    "import numpy as np\n",
    "import matplotlib.pyplot as plt\n",
    "%matplotlib inline\n",
    "# load the fits module\n",
    "from astropy.io import fits"
   ]
  },
  {
   "cell_type": "markdown",
   "metadata": {
    "collapsed": true
   },
   "source": [
    "## Introduction\n",
    "In this lab, we will perform aperture photometry on an exoplanet host during the time of its planet's transit (where the planet passes infront of its host star, blocking some of the light). These observations are done by both citizen scientists and professionals to confirm exoplanet candidates from missions like NASA's Transiting Exoplanet Survey Satellite (TESS). The end goal is to create a light curve (brightness vs time) of this object, showing the transit. These observations of exoplanets allow scientists to measure the size of the planet (relative to its host star) and constraints its orbital parameters (like eccentricity and inclination to our line of sight). \n",
    "\n",
    "For this lab, we will using astroimageJ, a publicly available software for performing image calibrations and aperture photometry. <a href=\"https://www.astro.louisville.edu/software/astroimagej/\"> AstroImageJ (AIJ) </a>. Download the correct version for your Operating System, it is a stand alone application. Open AIJ (Mac user may need to right click and then hit open to work around Mac's security). Once AIJ is open,  a small window with a bunch of icons should appear. At the top you should see \"Help\" -> then click \"update AstroImageJ\". Restart AIJ. \n",
    "\n"
   ]
  },
  {
   "cell_type": "markdown",
   "metadata": {},
   "source": [
    "# Your Transiting Planet\n",
    "\n",
    "The observations you are using today come from the Kutztown University Observatory by Prof. Phill Reed on a known exoplanet \"KELT-21b\". Using the <a href=\"https://exoplanetarchive.ipac.caltech.edu/\"> NASA Exoplanet Archive </a> look up KELT-21b. **IF your group number is even use the Calibrated_V images. If your number is odd use the Calibrated_I images.***\n"
   ]
  },
  {
   "cell_type": "markdown",
   "metadata": {},
   "source": [
    "<i class=\"fa fa-pencil\" style=\"font-size:1.5em; color:red\"></i> What group number are you and which dataset are you using?"
   ]
  },
  {
   "cell_type": "code",
   "execution_count": null,
   "metadata": {},
   "outputs": [],
   "source": []
  },
  {
   "cell_type": "markdown",
   "metadata": {},
   "source": [
    "<i class=\"fa fa-pencil\" style=\"font-size:1.5em; color:red\"></i> 1) What kind of planet is this? What does \"KELT\" stand for? Compare this system to the Solar System.\n",
    "\n",
    "(<span style=\"color:red\">3 points</span>)"
   ]
  },
  {
   "cell_type": "code",
   "execution_count": null,
   "metadata": {},
   "outputs": [],
   "source": []
  },
  {
   "cell_type": "markdown",
   "metadata": {},
   "source": [
    "Time to find your target! Load the first image of the KUO KELT-21b into DS9. Open up the KELT-21b_FINDER.png image. This is a \"finder chart\" which shows the known stars for a select RA/DEC, in this case the coordinates of KELT-21. The black border is to help you find KELT-21b on your image. Hint try rotating the finder chart to match bright stars in your DS9 image. \n",
    "\n",
    "Identify your source position in DS9 by going to '`Edit > Region`' (or '`Edit > Pointer`' in some DS9 versions). Click on your image to make a green circle. Call an instructor to confirm that you have found it correctly!\n",
    "\n",
    "<i class=\"fa fa-image\" style=\"font-size:1.5em; color:red\"></i> 2) What is its peak count value in your region? Embed a screenshot of your DS9 image (showing the full frame) with a region around KELT-21. \n",
    "\n",
    " (<span style=\"color:red\">3 points</span>)\n"
   ]
  },
  {
   "cell_type": "code",
   "execution_count": null,
   "metadata": {},
   "outputs": [],
   "source": []
  },
  {
   "cell_type": "markdown",
   "metadata": {},
   "source": [
    "## Measure your image's Point Spread Function (PSF)\n",
    "\n",
    "Next we are going to measure the profile of stars in your image to estimate the image PSF. Select and zoom in on a star that is well-exposed but **not** saturated. Make sure you have set `Edit > Region`' (or '`Edit > Pointer`' in some DS9 versions). Then select `Region > Shape > Projection`. Now you can draw a green line on your image with your mouse, and when you do so, the pixel values along this green line show up as a plot in another window.\n",
    "\n",
    "Draw a green line across the center of your chosen star (Make sure the line is centered on the star and roughly horizontal!). The line doesn't have to be too long, but should include some sky background on either side of the star. It will be easier to understand the results if you make the line horizontal.\n",
    "\n",
    "By default, if you have a world coordinate system (WCS) on your image, the x-axis of your plot will be in units of degrees. This is no good, as we are trying to measure a feature that is a tiny fraction of a degree. So, instead, switch the x-axis units to pixels by double clicking on the green line in your image. Next to `Points`, where it says `physical`, click on the drop-down menu and select `Image`. Now the x-axis of your plot should be in units of pixels.\n",
    "\n",
    "<i class=\"fa fa-image\" style=\"font-size:1.5em; color:red\"></i> 3) Include a plot of your cut across the star here (pixel counts as a function of position along the green line). You can embed the plot from DS9 or export the `Projection` data from DS9 and plot it here in Python.\n",
    "\n",
    "<span style=\"color:red\">(1 points total)</span>"
   ]
  },
  {
   "cell_type": "code",
   "execution_count": null,
   "metadata": {},
   "outputs": [],
   "source": []
  },
  {
   "cell_type": "markdown",
   "metadata": {},
   "source": [
    " <i class=\"fa fa-pencil\" style=\"font-size:1.5em; color:red\"></i> 4) Estimate the full-width at half-maximum (FWHM) of the star in your image? You may find it useful to zoom in on the DS9 plot, which you can do with your mouse by clicking dragging in the `Projection` plot window. The pixel scale for the KUO telescope is 0.39 arcsec. Give the FWHM in both units of pixels and units of arcseconds. Does this measurement seem reasonable, given what we have discussed in class (think about the typical seeing)?\n",
    "\n",
    "<span style=\"color:red\">(4 points total)</span>"
   ]
  },
  {
   "cell_type": "code",
   "execution_count": null,
   "metadata": {},
   "outputs": [],
   "source": []
  },
  {
   "cell_type": "markdown",
   "metadata": {},
   "source": [
    "<i class=\"fa fa-pencil\" style=\"font-size:1.5em; color:red\"></i> 5) Do the other stars in your image have the same FWHM from a quick estimation? Is this surprising? Why or why not?\n",
    "\n",
    "<span style=\"color:red\">(2 pt total)</span>"
   ]
  },
  {
   "cell_type": "code",
   "execution_count": null,
   "metadata": {},
   "outputs": [],
   "source": []
  },
  {
   "cell_type": "markdown",
   "metadata": {},
   "source": [
    "## ASTROIMAGEJ\n",
    "\n",
    "For the next part of this lab, we will using astroimageJ, a publicly available software for performing image calibrations and aperture photometry. <a href=\"https://www.astro.louisville.edu/software/astroimagej/\"> AstroImageJ (AIJ) </a>. Download the correct version for your Operating System, it is a stand alone application. Open AIJ (Mac user may need to right click and then hit open to work around Mac's security). Once AIJ is open,  a small window with a bunch of icons should appear. At the top you should see \"Help\" -> then click \"update AstroImageJ\". Restart AIJ. \n"
   ]
  },
  {
   "cell_type": "markdown",
   "metadata": {},
   "source": [
    "Time to set up your photometry. Remember we are placing an aperture around the star, summing up all of the flux. We are also placing a slightly larger background annulus around our targets (and comparison stars) to properly remove the background (or Sky) flux from our target. We will also extract the light curves for nearby similar brightness comparison stars. These nearby stars help us distinguish if any astrophysical variability we see in our target is real.\n",
    "\n",
    "\n",
    "<i class=\"fa fa-pencil\" style=\"font-size:1.5em; color:red\"></i> 6) The lightcurves of nearby comparison stars can inform us when trends we see in the data (brightenings or dimmings) are from our source or not. If we see similar brightening or dimming features in both our target's light curve and our comparison star's, this would mean the variability is not from our target. Discuss what might cause an apparent dimming or brightening in both stars on our detector? **Hint: What is between our target and the telescope?**\n",
    "\n",
    "<span style=\"color:red\">(3 pt total)</span>"
   ]
  },
  {
   "cell_type": "code",
   "execution_count": null,
   "metadata": {},
   "outputs": [],
   "source": []
  },
  {
   "cell_type": "markdown",
   "metadata": {},
   "source": [
    "In AIJ, we want to first load in your images. Last week you went through the process of calibrating data with a bias, dark, and flat field image. These images have been calibrated already, and today you will take the next step of conducting aperture photometry. At the top left in AIJ, click **File->Import->ImageSequence**. Go to the directory where you unpacked the zip file with the calibrated images of KELT-21. Click Enter. A new window should open \"Sequence Options\" Make sure there are >160 images and that the starting image and increment are set to \"1\". Have \"Sort names numerically\" and \"use a virtual stack\" are selected. This will prevent AIJ from using to much RAM. A new window will open showing the first image in your sequence. At the top there is an icon with a red circle inside another red circle that will say \"toggle display of aperture backgrounds\". Make sure that is clicked and now your mouse will show the three apertures, the small circle is for your target, the outer two circles are your background annulus. Click the icon at the top that says \"Set\" with a red circle around a blue point. You can ignore the rest but the first three values for the radius of the object eperture, the inner and outer radius of background annulus. Try adjusting these values and hit enter. You can see how well your annulus fits around KELT-21. Adjust these values so that your star  fits within the inner annulus with only a tiny bit of space. Your background annulus should roughly include a similar amount of background sky area as the area of your inner circle. One you are happy with your settings, go back the AIJ window with the 1st image.\n",
    "\n",
    "<i class=\"fa fa-pencil\" style=\"font-size:1.5em; color:red\"></i> 7) What inner and outer radii did you use, units are in pixels. How many pixels are in the annulus? Why did you pick these annulus sizes? **Look back at the lecture notes!** \n",
    "\n",
    "<span style=\"color:red\">(5 pt total)</span>"
   ]
  },
  {
   "cell_type": "code",
   "execution_count": null,
   "metadata": {},
   "outputs": [],
   "source": []
  },
  {
   "cell_type": "markdown",
   "metadata": {},
   "source": [
    "Next we want to place our apertures and background annulii on the first image for our target and comparison star. In part #2) you found KELT-21 on the image. On the top of the image you should see an icon that has two red circles around a blue point. Hover your mouse over this and it should say \"perform multi-aperture photometry\". Click this, a new window \"Multi-Aperture Measurements\" should appear. Here you will set the first and last slice (the 1st and last image in your sequence, this normally sets automatically). The size of your apertures should already be set. Make sure that \"Centroid apertures\", \"Remove stars from background\", \"Update tabe and plot while running\" and \"show help panel during aperture selection\" are all selected. When finished, click \"Place Apertures\".\n",
    "\n",
    "Place your mouse over KELT-21 and left click to place the aperture. The target should now have a green circle around it. Next you want to left click on all the comparison stars. Try clicking on stars that are close to the target and roughly the same brightness. Try picking 10 stars to use as comparison stars. After you click on the last comparison star to place the aperture, you can right click on the center of the image to start the photometry. \n",
    "\n",
    "A lot of windows will pop up, do not be alarmed! **DO NOT CLOSE ANY OF THEM.** Let it finish running all of the photometry, should take 30s to a minute or so. You should see a plot \"Plot of Measurements\" that AIJ will add points to as it processes each image. You should see a window \"Multi-plot Y-data\". Make sure \"plot\" is clicked for Data set 1 and set the x-data to \"BJD_TDB\" and the Y-data to \"rel_flux_T1\". This will plot the flux of your target (KELT-21) as a function of time (BJD_TDB, which is Julian Date corrected to the center of mass of the solar system). \n",
    "\n",
    "You may see a transit like feature on your \"Plot of Measurements\" but depending on your comparison stars you picked it may have some odd features in.\n",
    "\n",
    "<i class=\"fa fa-image\" style=\"font-size:1.5em; color:red\"></i> 8) Embed a screenshot of your AIJ plot showing the lightcurve of KELT-21 when using all of the comparison stars. In the window \"Multi-plot Main\" you will add a title, subtitle, x and y axis label, and you can adjust the x and y scaling to show your target. Describe the features do you see from what you would expect for a transit?\n",
    "\n",
    "<span style=\"color:red\">(3 pt total)</span> "
   ]
  },
  {
   "cell_type": "code",
   "execution_count": null,
   "metadata": {},
   "outputs": [],
   "source": []
  },
  {
   "cell_type": "markdown",
   "metadata": {},
   "source": [
    " AIJ will tell you if you chose some poor comparison stars. Find the window \"Multi-plot Reference Star Settings\". It will have T1, C2, all the way to C10 (or the last comparison star you picked). Each of these will be either green, yellow, or red color. Any star in red is saturated (pixel is completely full) and any yellow is a star that has peak counts above the non-linearity (where we can trust the counts anymore). Unclick any comparison star (C1 ....C10) that is not green. \n",
    "\n",
    "Go back to the AIJ plot. It should look much better, more \"transit\" like.  \n",
    "\n",
    "<i class=\"fa fa-image\" style=\"font-size:1.5em; color:red\"></i> 9) Embed a screenshot of your AIJ plot showing the lightcurve of KELT-21 when saturated or non-linear stars have been removed. In the window \"Multi-plot Main\" you can add a title, subtitle (say \"with all comparison stars\"), x and y axis label, and you can adjust the x and y scaling to show your target. How does the transit look now? By how much has KELT-21 dimmed by? \n",
    "\n",
    "<span style=\"color:red\">(3 pt total)</span> "
   ]
  },
  {
   "cell_type": "code",
   "execution_count": null,
   "metadata": {},
   "outputs": [],
   "source": []
  },
  {
   "cell_type": "markdown",
   "metadata": {},
   "source": [
    "## Back to Python\n",
    "\n",
    "While AIJ has some nice features, we can make better plots inside python! Lets download the data from AIJ to a CSV file so we can import it here for plotting and analyzing. However, we only want the data for our target, not everything. In the \"Multi-plot Main\" window, got **File->Save Data Subset to File**. A window will pop up giving you the ability to pick the columns of the data you want. Column 1 = BJD_TDB, Column 2 = rel_flux_T1, Column 3 = rel_flux_err_T1, Column 4 = Airmass. Check the boxes for \"Save Column heading\" and \"comment headings with #\". Save this file to your working directory. Save a similar data set for two of your comparison stars, one good one and one that you removed from the photometry.\n",
    "\n",
    "<i class=\"fa fa-cogs\" style=\"font-size:1.5em; color:red\"></i> 10) Read in this CSV file and make a nice plot (axis labels with units, title) of the BJD_TDB (x-axis) and rel_flux_T1 (y-axis) columns. Normalize the flux values by dividing it by the median of the entire flux array that is not during the transit. **HINT: use a np.where()** We want the out of transit values to be ~1. This makes it easier to read the plot. Draw a vertical line right on your plot when the transit begins and another line when it ends. Draw a horizontal line at the bottom of the transit. \n",
    "\n",
    "<span style=\"color:red\">(8 points total)</span> "
   ]
  },
  {
   "cell_type": "code",
   "execution_count": null,
   "metadata": {},
   "outputs": [],
   "source": []
  },
  {
   "cell_type": "markdown",
   "metadata": {},
   "source": [
    "<i class=\"fa fa-pencil\" style=\"font-size:1.5em; color:red\"></i>  11) How much does the planet dim KELT-21 by? If your out of transit base line is ~1.0 and the bottom of the transit was at 0.98, this means 2% of the light was blocked. **This assumes your out of transit baseline is at one.** How long is the transit (in hours) from your plot? Compare your estimates with the values on \n",
    "<a href=\"https://exoplanetarchive.ipac.caltech.edu/\"> NASA Exoplanet Archive </a> for KELT-21. ***T$_{14}$ is transit duration. You can calculate the transit depth by (R$_P$/R$_*$)^2**\n",
    "\n",
    "\n",
    "<span style=\"color:red\">(2 pt total)</span>"
   ]
  },
  {
   "cell_type": "code",
   "execution_count": null,
   "metadata": {},
   "outputs": [],
   "source": []
  },
  {
   "cell_type": "markdown",
   "metadata": {
    "collapsed": true
   },
   "source": [
    "<i class=\"fa fa-pencil\" style=\"font-size:1.5em; color:red\"></i>  12) How close were your estimates for depth and duration to those listed on the NASA Exoplanet Archive (NEA) for KELT-21 b? Calculate the percent difference for each parameter: (NEA Value - Your Value) / ((NEA Value + Your Value)/2) x 100. Was your estimates for duration and depth reasonable? **Hint for Depth: Compare the scatter in data points you see out of transit to the difference between your values and the ones on NEA**\n",
    "\n",
    "<span style=\"color:red\">(4 points total)</span>"
   ]
  },
  {
   "cell_type": "code",
   "execution_count": null,
   "metadata": {},
   "outputs": [],
   "source": []
  },
  {
   "cell_type": "markdown",
   "metadata": {},
   "source": [
    "<i class=\"fa fa-cogs\" style=\"font-size:1.5em; color:red\"></i> 13) Create a plot of the two comparison lightcurves you extracted (normalize each lightcurve like you did in part #10),, one bad comp star that was removed (plot in red) and one good one that was included (plot in green). Apply a vertical (y) offset so the two light curves are not on top of each other. \n",
    "\n",
    "<span style=\"color:red\">(4 pt total)</span>"
   ]
  },
  {
   "cell_type": "code",
   "execution_count": null,
   "metadata": {},
   "outputs": [],
   "source": []
  },
  {
   "cell_type": "markdown",
   "metadata": {},
   "source": [
    "<i class=\"fa fa-pencil\" style=\"font-size:1.5em; color:red\"></i>  14) Describe the differences between the red and green comparison light curves.\n",
    "\n",
    "<span style=\"color:red\">(2 Points)</span>"
   ]
  },
  {
   "cell_type": "code",
   "execution_count": null,
   "metadata": {},
   "outputs": [],
   "source": []
  },
  {
   "cell_type": "markdown",
   "metadata": {},
   "source": [
    "<i class=\"fa fa-pencil\" style=\"font-size:1.5em; color:red\"></i> 15) Use the terms \"noise\" and \"S/N\" to explain why dark nights around new moon are more in demand for observing time than bright nights around full moon.\n",
    "\n",
    "(<span style=\"color:red\">2 pts total</span>)."
   ]
  },
  {
   "cell_type": "code",
   "execution_count": null,
   "metadata": {},
   "outputs": [],
   "source": []
  },
  {
   "cell_type": "markdown",
   "metadata": {},
   "source": [
    "<i class=\"fa fa-pencil\" style=\"font-size:1.5em; color:red\"></i> Extra Credit: A public version of the KELT-21b discovery paper is available here: https://arxiv.org/abs/1712.03241. Provide a 2 paragraph review of why this planet is unique and interesting, highlighting key points made in the paper. This should be in your own words and not using language from the paper or abstract. "
   ]
  },
  {
   "cell_type": "markdown",
   "metadata": {},
   "source": [
    "## <i class=\"fa fa-exclamation-triangle\" style=\"font-size:1.5em; color:red\"></i>Closeout\n",
    "\n",
    "Prepare this lab for submission: Remove any \"tips\" and unnecessary instruction text or cells. When you are finished, this notebook document should only include numbered questions you answered, and your answers.\n",
    "\n",
    "Make sure all cells are rendered, and that this notebook is saved.  After you've saved it, select `File > Close and Halt`. Place this notebook file and all image files in a separate folder.  Follow the instructions on D2L for archiving and uploading your lab report to the dropbox."
   ]
  }
 ],
 "metadata": {
  "anaconda-cloud": {},
  "kernelspec": {
   "display_name": "Python 3 (ipykernel)",
   "language": "python",
   "name": "python3"
  },
  "language_info": {
   "codemirror_mode": {
    "name": "ipython",
    "version": 3
   },
   "file_extension": ".py",
   "mimetype": "text/x-python",
   "name": "python",
   "nbconvert_exporter": "python",
   "pygments_lexer": "ipython3",
   "version": "3.8.12"
  }
 },
 "nbformat": 4,
 "nbformat_minor": 1
}
