{
 "cells": [
  {
   "cell_type": "code",
   "execution_count": 1,
   "id": "998cff44-9564-4ff4-9ac1-d2386bc9d3ad",
   "metadata": {},
   "outputs": [],
   "source": [
    "# Cesarine Graham\n",
    "# AST 5765 Homework 5\n",
    "# 09/20/2025"
   ]
  },
  {
   "cell_type": "code",
   "execution_count": 2,
   "id": "29db13c3-f4cd-4d51-8912-13e1ef52203b",
   "metadata": {},
   "outputs": [],
   "source": [
    "import numpy as np\n",
    "import matplotlib.pyplot as plt\n",
    "import pandas as pd\n",
    "import os\n",
    "import astropy.io.fits as fits "
   ]
  },
  {
   "cell_type": "markdown",
   "id": "e27452a3-222f-476e-8fe3-312bdff589d2",
   "metadata": {},
   "source": [
    "#### 2. (10 Points) Here you will continue the sigma-clipping we worked on during Practicum3. Repeat the steps from problem 2b) on the subsample you created in 2b), to make a sub-subsample.\n",
    "\n",
    "#### Print the new mean, median, and standard deviation. How different are the final mean and median?\n",
    "\n",
    "#### How close is the final standard deviation to that expected for the Poisson distribution? Will this method always remove every bad pixel?"
   ]
  },
  {
   "cell_type": "code",
   "execution_count": 3,
   "id": "e381eef7-ecc2-4f86-9073-a9084cf2b6b4",
   "metadata": {},
   "outputs": [
    {
     "name": "stdout",
     "output_type": "stream",
     "text": [
      "Raw data mean: 16437.65376169905\n",
      "Raw data median: 10009.0\n",
      "\n",
      "Subsample mean: 10271.54870546943\n",
      "Subsample median: 10008.0\n",
      "Subsample std dev: 5302.611585529911\n",
      "\n",
      "Sub-subsample mean: 10005.123737373737\n",
      "Sub-subsample median: 10007.5\n",
      "Sub-subsample std dev: 93.46247743914314\n"
     ]
    }
   ],
   "source": [
    "# number of photons\n",
    "N = 10000\n",
    "\n",
    "# creating initial array\n",
    "data_ccd = np.zeros(400)\n",
    "data_ccd[:396] = np.random.poisson(N, 396)\n",
    "data_ccd[396:] = np.random.uniform(0, 1e6, 4)\n",
    "\n",
    "print(\"Raw data mean:\", np.mean(data_ccd))\n",
    "print(\"Raw data median:\", np.median(data_ccd))\n",
    "\n",
    "# ----- first sigma clip (subsample) -----\n",
    "sigma = np.std(data_ccd)\n",
    "med_ccd = np.median(data_ccd)\n",
    "\n",
    "low_range = med_ccd - 5*sigma\n",
    "high_range = med_ccd + 5*sigma\n",
    "\n",
    "filtered_data_ccd = data_ccd[(low_range < data_ccd) & (data_ccd < high_range)]\n",
    "\n",
    "print(\"\\nSubsample mean:\", np.mean(filtered_data_ccd))\n",
    "print(\"Subsample median:\", np.median(filtered_data_ccd))\n",
    "print(\"Subsample std dev:\", np.std(filtered_data_ccd))\n",
    "\n",
    "# ----- second sigma clip (sub-subsample) -----\n",
    "sigma_2 = np.std(filtered_data_ccd)\n",
    "med_2_ccd = np.median(filtered_data_ccd)\n",
    "\n",
    "low_range_2 = med_2_ccd - 5*sigma_2\n",
    "high_range_2 = med_2_ccd + 5*sigma_2\n",
    "\n",
    "filtered_2_data_ccd = filtered_data_ccd[(low_range_2 < filtered_data_ccd) & (filtered_data_ccd < high_range_2)]\n",
    "\n",
    "print(\"\\nSub-subsample mean:\", np.mean(filtered_2_data_ccd))\n",
    "print(\"Sub-subsample median:\", np.median(filtered_2_data_ccd))\n",
    "print(\"Sub-subsample std dev:\", np.std(filtered_2_data_ccd))"
   ]
  },
  {
   "cell_type": "markdown",
   "id": "cc5dce9f-7d2c-4371-80f4-5a1f57019b07",
   "metadata": {
    "jp-MarkdownHeadingCollapsed": true
   },
   "source": [
    "#### The mean of the subsample (first sigma clip) and the sub-subsample (second sigma clip) cahnges from about 10272 to 10005. This is showing us that more outlier datapoints (bad-pixels) have been removed and the mean has shifted closer to the median, which is 10008. The medians have remained the same after each sigma clipping.\n",
    "\n",
    "#### The final standard deviation is about 93.5. The standard deviation of a Poisson distribution is $\\sqrt{10000} = 100$. Therefore, I think our final standard deviation is pretty close!\n",
    "\n",
    "#### This method unfortunately will not remove every bad pixel. Some bad pixels will fall between the $5\\sigma$ ranges."
   ]
  },
  {
   "cell_type": "markdown",
   "id": "93f9f342-6826-4d2d-b318-24072d107802",
   "metadata": {},
   "source": [
    "#### In the Poisson Distribution, the standard deviation is equal to the square root of its mean. The standard deviation of our filtered dataset was calculated to be 3610.1, but the square of the mean is 100.9. The standard deviation of the unfiltered dataset was calculated to be roughly, 29579 which is VERY far off from the proper square root of the mean. \n",
    "\n",
    "#### Therefore, performing just masking the dataset with some sigma will not and has not removed every bad pixel.?"
   ]
  },
  {
   "cell_type": "code",
   "execution_count": null,
   "id": "9eeb5421-e0d5-4cca-af43-5cb28bf24d8a",
   "metadata": {},
   "outputs": [],
   "source": []
  }
 ],
 "metadata": {
  "kernelspec": {
   "display_name": "Python 3 (ipykernel)",
   "language": "python",
   "name": "python3"
  },
  "language_info": {
   "codemirror_mode": {
    "name": "ipython",
    "version": 3
   },
   "file_extension": ".py",
   "mimetype": "text/x-python",
   "name": "python",
   "nbconvert_exporter": "python",
   "pygments_lexer": "ipython3",
   "version": "3.13.5"
  }
 },
 "nbformat": 4,
 "nbformat_minor": 5
}
