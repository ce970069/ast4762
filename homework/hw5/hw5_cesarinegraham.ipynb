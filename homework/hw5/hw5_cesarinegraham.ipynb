{
 "cells": [
  {
   "cell_type": "code",
   "execution_count": 2,
   "id": "998cff44-9564-4ff4-9ac1-d2386bc9d3ad",
   "metadata": {},
   "outputs": [],
   "source": [
    "# Cesarine Graham\n",
    "# AST 5765 Homework 5\n",
    "# 09/20/2025"
   ]
  },
  {
   "cell_type": "code",
   "execution_count": 3,
   "id": "29db13c3-f4cd-4d51-8912-13e1ef52203b",
   "metadata": {},
   "outputs": [],
   "source": [
    "import numpy as np\n",
    "import matplotlib.pyplot as plt\n",
    "import pandas as pd\n",
    "import os\n",
    "import astropy.io.fits as fits "
   ]
  },
  {
   "cell_type": "markdown",
   "id": "e27452a3-222f-476e-8fe3-312bdff589d2",
   "metadata": {},
   "source": [
    "### 2. (10 Points) Here you will continue the sigma-clipping we worked on during Practicum3. Repeat the steps from problem 2b) on the subsample you created in 2b), to make a sub-subsample.\n",
    "\n",
    "### Print the new mean, median, and standard deviation. How different are the final mean and median?\n",
    "\n",
    "### How close is the final standard deviation to that expected for the Poisson distribution? Will this method always remove every bad pixel?"
   ]
  },
  {
   "cell_type": "code",
   "execution_count": 7,
   "id": "c56c4b9e-b6e8-45d3-9d10-942ffaba5c2d",
   "metadata": {},
   "outputs": [],
   "source": [
    "# documentation sources:\n",
    "# https://numpy.org/doc/2.2/reference/random/generated/numpy.random.poisson.html\n",
    "# https://numpy.org/doc/2.2/reference/random/generated/numpy.random.uniform.html\n",
    "\n",
    "# number of photons\n",
    "N = 10000\n",
    "\n",
    "# creating our initial array\n",
    "data_ccd = np.zeros(400)\n",
    "# random.poisson(lam=1.0, size=None)\n",
    "data_ccd[ :396] = np.random.poisson(N, 396)  #396 draws from a poisson distribution for 10,000 photons\n",
    "\n",
    "N1 = 0\n",
    "N2 = 1e6\n",
    "# random.uniform(low=0.0, high=1.0, size=None)\n",
    "data_ccd [396: ]= np.random.uniform( N1, N2, 4)\n",
    "\n",
    "#print(data_ccd)"
   ]
  },
  {
   "cell_type": "code",
   "execution_count": 9,
   "id": "5ae1a6d2-9576-4936-aa6b-bce64d28f527",
   "metadata": {},
   "outputs": [
    {
     "name": "stdout",
     "output_type": "stream",
     "text": [
      "Raw data mean:  12665.041588871427 Raw data median:  9996.0\n",
      "29578.980798159206\n",
      "Filtered mean:  10181.694431905478 Filtered median:  9996.0\n"
     ]
    }
   ],
   "source": [
    "print(\"Raw data mean: \" , np.mean(data_ccd) , \"Raw data median: \" , np.median(data_ccd) )\n",
    "\n",
    "sigma = np.std(data_ccd)\n",
    "med_ccd = np.median(data_ccd)\n",
    "\n",
    "low_range = med_ccd - 5*sigma\n",
    "high_range = med_ccd =+ 5*sigma\n",
    "\n",
    "filtered_data_ccd = (data_ccd[(low_range < data_ccd) & (data_ccd < high_range)] )\n",
    "\n",
    "print(\"Filtered mean: \" , np.mean(filtered_data_ccd) , \"Filtered median: \" , np.median(filtered_data_ccd) )"
   ]
  },
  {
   "cell_type": "markdown",
   "id": "cc5dce9f-7d2c-4371-80f4-5a1f57019b07",
   "metadata": {},
   "source": [
    "#### The median is lower than the mean due to the outliers in the raw dataset! After applying the mask (filter), the medians are still the same, but the mean is different and much closer to the value of the median."
   ]
  },
  {
   "cell_type": "code",
   "execution_count": 12,
   "id": "11ef4d60-4186-48c6-8a95-e98ae0fdb5db",
   "metadata": {},
   "outputs": [
    {
     "name": "stdout",
     "output_type": "stream",
     "text": [
      "29578.980798159206\n",
      "3610.0963968934984\n",
      "100.9043826199114\n"
     ]
    }
   ],
   "source": [
    "print(np.std(data_ccd))\n",
    "print(np.std(filtered_data_ccd))\n",
    "print(np.sqrt(np.mean(filtered_data_ccd)))"
   ]
  },
  {
   "cell_type": "markdown",
   "id": "93f9f342-6826-4d2d-b318-24072d107802",
   "metadata": {},
   "source": [
    "#### In the Poisson Distribution, the standard deviation is equal to the square root of its mean. The standard deviation of our filtered dataset was calculated to be 3610.1, but the square of the mean is 100.9. The standard deviation of the unfiltered dataset was calculated to be roughly, 29579 which is VERY far off from the proper square root of the mean. \n",
    "\n",
    "#### Therefore, performing just masking the dataset with some sigma will not and has not removed every bad pixel.?"
   ]
  },
  {
   "cell_type": "code",
   "execution_count": null,
   "id": "9eeb5421-e0d5-4cca-af43-5cb28bf24d8a",
   "metadata": {},
   "outputs": [],
   "source": []
  }
 ],
 "metadata": {
  "kernelspec": {
   "display_name": "Python 3 (ipykernel)",
   "language": "python",
   "name": "python3"
  },
  "language_info": {
   "codemirror_mode": {
    "name": "ipython",
    "version": 3
   },
   "file_extension": ".py",
   "mimetype": "text/x-python",
   "name": "python",
   "nbconvert_exporter": "python",
   "pygments_lexer": "ipython3",
   "version": "3.13.5"
  }
 },
 "nbformat": 4,
 "nbformat_minor": 5
}
