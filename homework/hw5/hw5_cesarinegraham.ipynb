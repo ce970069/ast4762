{
 "cells": [
  {
   "cell_type": "code",
   "execution_count": 1,
   "id": "998cff44-9564-4ff4-9ac1-d2386bc9d3ad",
   "metadata": {},
   "outputs": [],
   "source": [
    "# Cesarine Graham\n",
    "# AST 5765 Homework 5\n",
    "# 09/20/2025"
   ]
  },
  {
   "cell_type": "code",
   "execution_count": 2,
   "id": "29db13c3-f4cd-4d51-8912-13e1ef52203b",
   "metadata": {},
   "outputs": [],
   "source": [
    "import numpy as np\n",
    "import matplotlib.pyplot as plt\n",
    "import pandas as pd\n",
    "import os\n",
    "import astropy.io.fits as fits "
   ]
  },
  {
   "cell_type": "markdown",
   "id": "e27452a3-222f-476e-8fe3-312bdff589d2",
   "metadata": {},
   "source": [
    "#### 2. (10 Points) Here you will continue the sigma-clipping we worked on during Practicum3. Repeat the steps from problem 2b) on the subsample you created in 2b), to make a sub-subsample.\n",
    "\n",
    "#### Print the new mean, median, and standard deviation. How different are the final mean and median?\n",
    "\n",
    "#### How close is the final standard deviation to that expected for the Poisson distribution? Will this method always remove every bad pixel?"
   ]
  },
  {
   "cell_type": "code",
   "execution_count": 3,
   "id": "e381eef7-ecc2-4f86-9073-a9084cf2b6b4",
   "metadata": {},
   "outputs": [
    {
     "name": "stdout",
     "output_type": "stream",
     "text": [
      "Raw data mean: 16437.65376169905\n",
      "Raw data median: 10009.0\n",
      "\n",
      "Subsample mean: 10271.54870546943\n",
      "Subsample median: 10008.0\n",
      "Subsample std dev: 5302.611585529911\n",
      "\n",
      "Sub-subsample mean: 10005.123737373737\n",
      "Sub-subsample median: 10007.5\n",
      "Sub-subsample std dev: 93.46247743914314\n"
     ]
    }
   ],
   "source": [
    "# number of photons\n",
    "N = 10000\n",
    "\n",
    "# creating initial array\n",
    "data_ccd = np.zeros(400)\n",
    "data_ccd[:396] = np.random.poisson(N, 396)\n",
    "data_ccd[396:] = np.random.uniform(0, 1e6, 4)\n",
    "\n",
    "print(\"Raw data mean:\", np.mean(data_ccd))\n",
    "print(\"Raw data median:\", np.median(data_ccd))\n",
    "\n",
    "# ----- first sigma clip (subsample) -----\n",
    "sigma = np.std(data_ccd)\n",
    "med_ccd = np.median(data_ccd)\n",
    "\n",
    "low_range = med_ccd - 5*sigma\n",
    "high_range = med_ccd + 5*sigma\n",
    "\n",
    "filtered_data_ccd = data_ccd[(low_range < data_ccd) & (data_ccd < high_range)]\n",
    "\n",
    "print(\"\\nSubsample mean:\", np.mean(filtered_data_ccd))\n",
    "print(\"Subsample median:\", np.median(filtered_data_ccd))\n",
    "print(\"Subsample std dev:\", np.std(filtered_data_ccd))\n",
    "\n",
    "# ----- second sigma clip (sub-subsample) -----\n",
    "sigma_2 = np.std(filtered_data_ccd)\n",
    "med_2_ccd = np.median(filtered_data_ccd)\n",
    "\n",
    "low_range_2 = med_2_ccd - 5*sigma_2\n",
    "high_range_2 = med_2_ccd + 5*sigma_2\n",
    "\n",
    "filtered_2_data_ccd = filtered_data_ccd[(low_range_2 < filtered_data_ccd) & (filtered_data_ccd < high_range_2)]\n",
    "\n",
    "print(\"\\nSub-subsample mean:\", np.mean(filtered_2_data_ccd))\n",
    "print(\"Sub-subsample median:\", np.median(filtered_2_data_ccd))\n",
    "print(\"Sub-subsample std dev:\", np.std(filtered_2_data_ccd))"
   ]
  },
  {
   "cell_type": "markdown",
   "id": "cc5dce9f-7d2c-4371-80f4-5a1f57019b07",
   "metadata": {
    "jp-MarkdownHeadingCollapsed": true
   },
   "source": [
    "##### The mean of the subsample (first sigma clip) and the sub-subsample (second sigma clip) cahnges from about 10272 to 10005. This is showing us that more outlier datapoints (bad-pixels) have been removed and the mean has shifted closer to the median, which is 10008. The medians have remained the same after each sigma clipping.\n",
    "\n",
    "##### The final standard deviation is about 93.5. The standard deviation of a Poisson distribution is $\\sqrt{10000} = 100$. Therefore, I think our final standard deviation is pretty close!\n",
    "\n",
    "##### This method unfortunately will not remove every bad pixel. Some bad pixels will fall between the $5\\sigma$ ranges."
   ]
  },
  {
   "cell_type": "markdown",
   "id": "9365705d-a92a-438b-9a67-56a8f393869b",
   "metadata": {},
   "source": [
    "#### 3. 10 points) Make a Python routine called sigrej() that carries out the “sigma rejection” process you coded during the Practicum and above (i.e., use your code from practicum problem 2 b and 2c here, in a function)."
   ]
  },
  {
   "cell_type": "markdown",
   "id": "26481241-70e3-4d04-8e86-0ab3583d5470",
   "metadata": {},
   "source": [
    "##### see --> sigrej_cesarinegraham.py"
   ]
  },
  {
   "cell_type": "code",
   "execution_count": 5,
   "id": "8272ae9e-ed17-4406-98ea-0e5984e0c62a",
   "metadata": {},
   "outputs": [],
   "source": [
    "from hw5_sigrej_cesarinegraham import sigrej"
   ]
  },
  {
   "cell_type": "code",
   "execution_count": 2,
   "id": "daf3a314-4e26-48ac-b5fb-e932085e5eb6",
   "metadata": {},
   "outputs": [
    {
     "name": "stdout",
     "output_type": "stream",
     "text": [
      "Raw data mean: 17673.847826367477\n",
      "Raw data median: 9996.5\n",
      "\n",
      "Filtered data mean: 9997.774683544303\n",
      "Filtered data median: 9995.0\n"
     ]
    }
   ],
   "source": [
    "# example 1 for the sigrej function\n",
    "\n",
    "# number of photons\n",
    "N = 10000\n",
    "\n",
    "# creating initial array\n",
    "test_data_ccd = np.zeros(400)\n",
    "test_data_ccd[:395] = np.random.poisson(N, 395)\n",
    "test_data_ccd[395:] = np.random.uniform(0, 1e6, 5)\n",
    "print(\"Raw data mean:\", np.mean(test_data_ccd))\n",
    "print(\"Raw data median:\", np.median(test_data_ccd))\n",
    "\n",
    "# applying the mask\n",
    "final_mask_test = sigrej(test_data_ccd, limits=(5., 5.))\n",
    "filtered_data = test_data_ccd[final_mask_test]\n",
    "print(\"\\nFiltered data mean:\", np.mean(filtered_data))\n",
    "print(\"Filtered data median:\", np.median(filtered_data))"
   ]
  },
  {
   "cell_type": "code",
   "execution_count": 3,
   "id": "dd0262c5-c8c6-4e04-9313-8319b4294aca",
   "metadata": {},
   "outputs": [
    {
     "name": "stdout",
     "output_type": "stream",
     "text": [
      "Raw mean: 50.46261550829812\n",
      "Raw median: 49.755351602852954\n",
      "\n",
      "Filtered mean: 49.63879975413571\n",
      "Filtered median: 49.731646128464305\n"
     ]
    }
   ],
   "source": [
    "# example 2 for the sigrej function:\n",
    "\n",
    "# creating initial array with guassian distribution\n",
    "gauss_data = np.random.normal(loc=50, scale=3, size=500)\n",
    "\n",
    "# adding some outlier data points\n",
    "gauss_data[::100] = [200, -100, 300, -250, 500]\n",
    "print(\"Raw mean:\", np.mean(gauss_data))\n",
    "print(\"Raw median:\", np.median(gauss_data))\n",
    "\n",
    "# applying the mask\n",
    "mask = sigrej(gauss_data, limits=(3., 3.))\n",
    "filtered = gauss_data[mask]\n",
    "print(\"\\nFiltered mean:\", np.mean(filtered))\n",
    "print(\"Filtered median:\", np.median(filtered))"
   ]
  },
  {
   "cell_type": "code",
   "execution_count": 4,
   "id": "4c1cca12-3e45-406e-9b94-1e9deac21797",
   "metadata": {},
   "outputs": [
    {
     "name": "stdout",
     "output_type": "stream",
     "text": [
      "Raw mean: 29.5\n",
      "Raw median: 10.5\n",
      "Filtered mean: 29.5\n",
      "Filtered median: 10.5\n"
     ]
    }
   ],
   "source": [
    "# example 3 for the sigrej function:\n",
    "\n",
    "# creating initial array by hand\n",
    "data_small = np.array([10, 11, 9, 10, 12, 11, 10, 9, 13, 200])\n",
    "print(\"Raw mean:\", np.mean(data_small))\n",
    "print(\"Raw median:\", np.median(data_small))\n",
    "\n",
    "# applying the mask\n",
    "mask = sigrej(data_small, limits=(5., 5.))\n",
    "filtered = data_small[mask]\n",
    "print(\"Filtered mean:\", np.mean(filtered))\n",
    "print(\"Filtered median:\", np.median(filtered))"
   ]
  },
  {
   "cell_type": "code",
   "execution_count": null,
   "id": "36605fe2-0542-4bda-8f75-4b0c8591a679",
   "metadata": {},
   "outputs": [],
   "source": []
  }
 ],
 "metadata": {
  "kernelspec": {
   "display_name": "Python 3 (ipykernel)",
   "language": "python",
   "name": "python3"
  },
  "language_info": {
   "codemirror_mode": {
    "name": "ipython",
    "version": 3
   },
   "file_extension": ".py",
   "mimetype": "text/x-python",
   "name": "python",
   "nbconvert_exporter": "python",
   "pygments_lexer": "ipython3",
   "version": "3.13.5"
  }
 },
 "nbformat": 4,
 "nbformat_minor": 5
}
